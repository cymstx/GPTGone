{
  "nbformat": 4,
  "nbformat_minor": 0,
  "metadata": {
    "colab": {
      "provenance": []
    },
    "kernelspec": {
      "name": "python3",
      "display_name": "Python 3"
    },
    "language_info": {
      "name": "python"
    },
    "gpuClass": "standard",
    "accelerator": "GPU"
  },
  "cells": [
    {
      "cell_type": "markdown",
      "source": [
        "# Connect to Drive\n",
        "Add [this Google folder](https://drive.google.com/drive/folders/1K54qqwYtk1ADJlkptJNF-FfyjQ7R6KGC?usp=sharing) to your drive then adjust the paths in the `current_directory` variable "
      ],
      "metadata": {
        "id": "ipYVd9hBHbIS"
      }
    },
    {
      "cell_type": "code",
      "execution_count": 1,
      "metadata": {
        "id": "WUEokDxV3G1T",
        "colab": {
          "base_uri": "https://localhost:8080/"
        },
        "outputId": "1cb209a2-c690-4769-f712-7fa7709fbfd1"
      },
      "outputs": [
        {
          "output_type": "stream",
          "name": "stdout",
          "text": [
            "Mounted at /content/drive\n"
          ]
        }
      ],
      "source": [
        "import warnings\n",
        "warnings.filterwarnings(\"ignore\")\n",
        "\n",
        "from google.colab import drive\n",
        "import os\n",
        "drive.mount('/content/drive')"
      ]
    },
    {
      "cell_type": "code",
      "source": [
        "current_directory = \"/content/drive/MyDrive/AI/Trained models\"\n",
        "os.chdir(\"/content/drive/MyDrive/AI/Trained models\")"
      ],
      "metadata": {
        "id": "T7rT2_fz8uTW"
      },
      "execution_count": 2,
      "outputs": []
    },
    {
      "cell_type": "markdown",
      "source": [
        "# Load holdout data predictions from the different models for evaluation"
      ],
      "metadata": {
        "id": "yvSBAa6PTJZK"
      }
    },
    {
      "cell_type": "code",
      "source": [
        "import pandas as pd\n",
        "df = pd.read_csv(\"holdout_final_with_bert_predictions_and_svm_predictions.csv\")\n",
        "preds_df = df.drop(columns=[\"response\",\"Label\",\"GLTR Category 1\",\"GLTR Category 3\",\"sum_mistakes\",\"TextBlob_Subjectivity\",\"Formality Score\"], axis=1)\n",
        "preds_df = preds_df.rename(columns={'BertClassifier_Predictions':\"BERT\", \"svm_tfidf_predictions\":\"SVM_TFIDF\", \"svm_glove_predictions\":\"SVM_GLOVE\"})\n",
        "y_true = df[\"Label\"].values\n",
        "preds_df.head(1)"
      ],
      "metadata": {
        "colab": {
          "base_uri": "https://localhost:8080/",
          "height": 81
        },
        "id": "eFZlWuMKU6gA",
        "outputId": "02a3f73b-42a3-4b34-f0d5-f238651741aa"
      },
      "execution_count": 8,
      "outputs": [
        {
          "output_type": "execute_result",
          "data": {
            "text/plain": [
              "   CNN_GLTR     BERT  SVM_TFIDF  SVM_GLOVE\n",
              "0  0.505068  0.46252          0          1"
            ],
            "text/html": [
              "\n",
              "  <div id=\"df-a24c8275-53f9-4577-9a96-dbae2f47fed4\">\n",
              "    <div class=\"colab-df-container\">\n",
              "      <div>\n",
              "<style scoped>\n",
              "    .dataframe tbody tr th:only-of-type {\n",
              "        vertical-align: middle;\n",
              "    }\n",
              "\n",
              "    .dataframe tbody tr th {\n",
              "        vertical-align: top;\n",
              "    }\n",
              "\n",
              "    .dataframe thead th {\n",
              "        text-align: right;\n",
              "    }\n",
              "</style>\n",
              "<table border=\"1\" class=\"dataframe\">\n",
              "  <thead>\n",
              "    <tr style=\"text-align: right;\">\n",
              "      <th></th>\n",
              "      <th>CNN_GLTR</th>\n",
              "      <th>BERT</th>\n",
              "      <th>SVM_TFIDF</th>\n",
              "      <th>SVM_GLOVE</th>\n",
              "    </tr>\n",
              "  </thead>\n",
              "  <tbody>\n",
              "    <tr>\n",
              "      <th>0</th>\n",
              "      <td>0.505068</td>\n",
              "      <td>0.46252</td>\n",
              "      <td>0</td>\n",
              "      <td>1</td>\n",
              "    </tr>\n",
              "  </tbody>\n",
              "</table>\n",
              "</div>\n",
              "      <button class=\"colab-df-convert\" onclick=\"convertToInteractive('df-a24c8275-53f9-4577-9a96-dbae2f47fed4')\"\n",
              "              title=\"Convert this dataframe to an interactive table.\"\n",
              "              style=\"display:none;\">\n",
              "        \n",
              "  <svg xmlns=\"http://www.w3.org/2000/svg\" height=\"24px\"viewBox=\"0 0 24 24\"\n",
              "       width=\"24px\">\n",
              "    <path d=\"M0 0h24v24H0V0z\" fill=\"none\"/>\n",
              "    <path d=\"M18.56 5.44l.94 2.06.94-2.06 2.06-.94-2.06-.94-.94-2.06-.94 2.06-2.06.94zm-11 1L8.5 8.5l.94-2.06 2.06-.94-2.06-.94L8.5 2.5l-.94 2.06-2.06.94zm10 10l.94 2.06.94-2.06 2.06-.94-2.06-.94-.94-2.06-.94 2.06-2.06.94z\"/><path d=\"M17.41 7.96l-1.37-1.37c-.4-.4-.92-.59-1.43-.59-.52 0-1.04.2-1.43.59L10.3 9.45l-7.72 7.72c-.78.78-.78 2.05 0 2.83L4 21.41c.39.39.9.59 1.41.59.51 0 1.02-.2 1.41-.59l7.78-7.78 2.81-2.81c.8-.78.8-2.07 0-2.86zM5.41 20L4 18.59l7.72-7.72 1.47 1.35L5.41 20z\"/>\n",
              "  </svg>\n",
              "      </button>\n",
              "      \n",
              "  <style>\n",
              "    .colab-df-container {\n",
              "      display:flex;\n",
              "      flex-wrap:wrap;\n",
              "      gap: 12px;\n",
              "    }\n",
              "\n",
              "    .colab-df-convert {\n",
              "      background-color: #E8F0FE;\n",
              "      border: none;\n",
              "      border-radius: 50%;\n",
              "      cursor: pointer;\n",
              "      display: none;\n",
              "      fill: #1967D2;\n",
              "      height: 32px;\n",
              "      padding: 0 0 0 0;\n",
              "      width: 32px;\n",
              "    }\n",
              "\n",
              "    .colab-df-convert:hover {\n",
              "      background-color: #E2EBFA;\n",
              "      box-shadow: 0px 1px 2px rgba(60, 64, 67, 0.3), 0px 1px 3px 1px rgba(60, 64, 67, 0.15);\n",
              "      fill: #174EA6;\n",
              "    }\n",
              "\n",
              "    [theme=dark] .colab-df-convert {\n",
              "      background-color: #3B4455;\n",
              "      fill: #D2E3FC;\n",
              "    }\n",
              "\n",
              "    [theme=dark] .colab-df-convert:hover {\n",
              "      background-color: #434B5C;\n",
              "      box-shadow: 0px 1px 3px 1px rgba(0, 0, 0, 0.15);\n",
              "      filter: drop-shadow(0px 1px 2px rgba(0, 0, 0, 0.3));\n",
              "      fill: #FFFFFF;\n",
              "    }\n",
              "  </style>\n",
              "\n",
              "      <script>\n",
              "        const buttonEl =\n",
              "          document.querySelector('#df-a24c8275-53f9-4577-9a96-dbae2f47fed4 button.colab-df-convert');\n",
              "        buttonEl.style.display =\n",
              "          google.colab.kernel.accessAllowed ? 'block' : 'none';\n",
              "\n",
              "        async function convertToInteractive(key) {\n",
              "          const element = document.querySelector('#df-a24c8275-53f9-4577-9a96-dbae2f47fed4');\n",
              "          const dataTable =\n",
              "            await google.colab.kernel.invokeFunction('convertToInteractive',\n",
              "                                                     [key], {});\n",
              "          if (!dataTable) return;\n",
              "\n",
              "          const docLinkHtml = 'Like what you see? Visit the ' +\n",
              "            '<a target=\"_blank\" href=https://colab.research.google.com/notebooks/data_table.ipynb>data table notebook</a>'\n",
              "            + ' to learn more about interactive tables.';\n",
              "          element.innerHTML = '';\n",
              "          dataTable['output_type'] = 'display_data';\n",
              "          await google.colab.output.renderOutput(dataTable, element);\n",
              "          const docLink = document.createElement('div');\n",
              "          docLink.innerHTML = docLinkHtml;\n",
              "          element.appendChild(docLink);\n",
              "        }\n",
              "      </script>\n",
              "    </div>\n",
              "  </div>\n",
              "  "
            ]
          },
          "metadata": {},
          "execution_count": 8
        }
      ]
    },
    {
      "cell_type": "markdown",
      "source": [
        "# Evaluate Accuracy\n",
        "\n",
        "To be more sure that the text is AI-written, the threshold to classify as AI is if the probability of being AI is more than 0.6"
      ],
      "metadata": {
        "id": "gk-Lt9p_CRU3"
      }
    },
    {
      "cell_type": "code",
      "source": [
        "from sklearn.metrics import classification_report,accuracy_score,f1_score,roc_auc_score  \n",
        "import numpy as np\n",
        "def evaluate(pred, y_true, threshold):\n",
        "  y_pred = np.array(pred)\n",
        "  discrete = (y_pred > threshold).astype(\"int32\")\n",
        "  accuracy = accuracy_score(y_true, discrete)\n",
        "  f1score = f1_score(y_true, discrete)\n",
        "  roc_auc = roc_auc_score(y_true,discrete)\n",
        "  print(classification_report(y_true,discrete, target_names=[\"Human\", \"ChatGPT\"]))\n",
        "  return [accuracy, roc_auc, f1score]"
      ],
      "metadata": {
        "id": "sy5bm6epyvFQ"
      },
      "execution_count": 5,
      "outputs": []
    },
    {
      "cell_type": "code",
      "source": [
        "col_perf_lst = []\n",
        "threshold = 0.6\n",
        "for clf in preds_df.columns:\n",
        "  print(clf)\n",
        "  pred = preds_df[clf].tolist()\n",
        "  eval_result = evaluate(pred, y_true,threshold)\n",
        "  result_lst = [clf]\n",
        "  result_lst.extend(eval_result)\n",
        "  col_perf_lst.append(result_lst)\n",
        "\n",
        "col_perf_lst.sort(key=lambda a:  (a[1], a[2], a[3]), reverse=True)\n",
        "col_perf_lst"
      ],
      "metadata": {
        "colab": {
          "base_uri": "https://localhost:8080/"
        },
        "id": "YTZjpfhaWg5t",
        "outputId": "17038b09-2561-49bb-f855-38e84a1521cc"
      },
      "execution_count": 9,
      "outputs": [
        {
          "output_type": "stream",
          "name": "stdout",
          "text": [
            "CNN_GLTR\n",
            "              precision    recall  f1-score   support\n",
            "\n",
            "       Human       0.86      0.78      0.82      4999\n",
            "     ChatGPT       0.80      0.87      0.84      4999\n",
            "\n",
            "    accuracy                           0.83      9998\n",
            "   macro avg       0.83      0.83      0.83      9998\n",
            "weighted avg       0.83      0.83      0.83      9998\n",
            "\n",
            "BERT\n",
            "              precision    recall  f1-score   support\n",
            "\n",
            "       Human       0.87      0.96      0.91      4999\n",
            "     ChatGPT       0.95      0.86      0.91      4999\n",
            "\n",
            "    accuracy                           0.91      9998\n",
            "   macro avg       0.91      0.91      0.91      9998\n",
            "weighted avg       0.91      0.91      0.91      9998\n",
            "\n",
            "SVM_TFIDF\n",
            "              precision    recall  f1-score   support\n",
            "\n",
            "       Human       0.94      0.98      0.96      4999\n",
            "     ChatGPT       0.98      0.94      0.96      4999\n",
            "\n",
            "    accuracy                           0.96      9998\n",
            "   macro avg       0.96      0.96      0.96      9998\n",
            "weighted avg       0.96      0.96      0.96      9998\n",
            "\n",
            "SVM_GLOVE\n",
            "              precision    recall  f1-score   support\n",
            "\n",
            "       Human       0.63      0.75      0.68      4999\n",
            "     ChatGPT       0.69      0.55      0.61      4999\n",
            "\n",
            "    accuracy                           0.65      9998\n",
            "   macro avg       0.66      0.65      0.65      9998\n",
            "weighted avg       0.66      0.65      0.65      9998\n",
            "\n"
          ]
        },
        {
          "output_type": "execute_result",
          "data": {
            "text/plain": [
              "[['SVM_TFIDF', 0.958491698339668, 0.958491698339668, 0.9577263929917491],\n",
              " ['BERT', 0.909881976395279, 0.909881976395279, 0.9052476601114733],\n",
              " ['CNN_GLTR', 0.8273654730946189, 0.8273654730946189, 0.835179526355997],\n",
              " ['SVM_GLOVE', 0.6517303460692139, 0.6517303460692139, 0.613111111111111]]"
            ]
          },
          "metadata": {},
          "execution_count": 9
        }
      ]
    },
    {
      "cell_type": "markdown",
      "source": [
        "# Check if models are correlated by checking if their errors are correlated\n",
        "\n",
        "High correlation is expected given that these models were trained on similar data and have similar model structure. Furthermore, each model differed mainly by 1 feature, which might not have significantly diverisfied the models given that the text features would still dominate."
      ],
      "metadata": {
        "id": "8Tdk3q8PtBYT"
      }
    },
    {
      "cell_type": "code",
      "source": [
        "from sklearn.metrics import log_loss\n",
        "residual_col_name_lst = []\n",
        "for col in preds_df:\n",
        "  new_col_name = col + \"_Residuals\"\n",
        "  residual_col_name_lst.append(new_col_name)\n",
        "  preds_df[new_col_name] = y_true - preds_df[col].tolist()\n",
        "\n",
        "residual_df = preds_df[residual_col_name_lst]"
      ],
      "metadata": {
        "id": "JW-EwoYItIPX"
      },
      "execution_count": 10,
      "outputs": []
    },
    {
      "cell_type": "markdown",
      "source": [
        "SVM_GLOVE and CNN_GLTR are more correlated."
      ],
      "metadata": {
        "id": "wyS3ccKX0lmQ"
      }
    },
    {
      "cell_type": "code",
      "source": [
        "import seaborn as sb\n",
        "corr = residual_df.corr()\n",
        "dataplot = sb.heatmap(corr, cmap=\"YlGnBu\", annot=True)"
      ],
      "metadata": {
        "colab": {
          "base_uri": "https://localhost:8080/",
          "height": 578
        },
        "id": "5b3m5Rusyv6q",
        "outputId": "73de5c7e-83cf-416c-cdce-9ba84a4ede35"
      },
      "execution_count": 11,
      "outputs": [
        {
          "output_type": "display_data",
          "data": {
            "text/plain": [
              "<Figure size 640x480 with 2 Axes>"
            ],
            "image/png": "[encoded data removed]"
          },
          "metadata": {}
        }
      ]
    },
    {
      "cell_type": "markdown",
      "source": [
        "# Final Model Choices and Rationale\n",
        "\n",
        "Out of the correlated groups, we will pick the model with highest accuracy/f1/roc-auc on holdout dataset. We will choose based on the holdout dataset as this is unseen data by all the models.\n",
        "\n",
        "```\n",
        "[['SVM_TFIDF', 0.958491698339668, 0.958491698339668, 0.9577263929917491],\n",
        " ['BERT', 0.909881976395279, 0.909881976395279, 0.9052476601114733],\n",
        " ['CNN_GLTR', 0.8273654730946189, 0.8273654730946189, 0.835179526355997],\n",
        " ['SVM_GLOVE', 0.6517303460692139, 0.6517303460692139, 0.613111111111111]]\n",
        "\n",
        "```\n",
        "\n",
        "Chosen models: BERT, CNN, SVM_TFIDF"
      ],
      "metadata": {
        "id": "OjD22N-J1BKa"
      }
    },
    {
      "cell_type": "markdown",
      "source": [
        "# Grid Search To Get Optimal Weights\n"
      ],
      "metadata": {
        "id": "k6tScBNsG23x"
      }
    },
    {
      "cell_type": "code",
      "source": [
        "from itertools import product\n",
        "from sklearn.metrics import accuracy_score,f1_score,roc_auc_score  \n",
        "\n",
        "# normalize a vector to have unit norm\n",
        "def normalize(weights):\n",
        " # calculate l1 vector norm\n",
        " result = np.linalg.norm(weights, 1)\n",
        " # check for a vector of all zeros\n",
        " if result == 0.0:\n",
        "  return weights\n",
        " # return normalized vector (unit norm)\n",
        " return weights / result\n",
        "\n",
        "#prediction compiled list is a list of prediction from each model for each test data point\n",
        "def get_scores(prediction_compiled_list, threshold, y_true, weights):\n",
        "  #Apply weights to predictions to get weighted average\n",
        "  yhats = np.array(prediction_compiled_list)\n",
        "  avg = np.average(yhats,axis=1,weights=weights)\n",
        "  #Convert probabilities to 0 or 1 classification outcome\n",
        "  discrete = (avg > threshold).astype(\"int32\")\n",
        "  return {\"accuracy\":accuracy_score(discrete, y_true), \"f1\":f1_score(discrete, y_true),\"roc-auc\":roc_auc_score(discrete,y_true)}\n",
        "\n",
        "#preds is a list of prediction from each model for each test data point\n",
        "def grid_search(num_models, preds, testy, threshold):\n",
        "  tracker = []\n",
        "  w = [0.0, 0.1, 0.2, 0.3, 0.4, 0.5, 0.6, 0.7, 0.8, 0.9, 1.0]\n",
        "  # iterate all possible combinations (cartesian product)\n",
        "  for weights in product(w, repeat=num_models):\n",
        "    # skip if all weights are equal\n",
        "    if len(set(weights)) == 1:\n",
        "      continue\n",
        "    # hack, normalize weight vector\n",
        "    weights = normalize(weights)\n",
        "    # evaluate weights\n",
        "    score_dict = get_scores(preds, threshold, testy, weights)\n",
        "    accuracy = score_dict[\"accuracy\"]\n",
        "    f1 = score_dict[\"f1\"] \n",
        "    roc_auc = score_dict[\"roc-auc\"]\n",
        "    tracker.append((accuracy, f1, roc_auc, weights))\n",
        "  return tracker\n",
        "\n",
        "#outputs is a a list of predictions from each model [[model_1_preds], [model_2_preds]]\n",
        "#we want to output [[model_1_pred_for_row1, model_2_pred_for_row1], [...]]\n",
        "def get_prediction_compiled_list(outputs):\n",
        "  prediction_compiled_lst = []\n",
        "  num_rows_predicted = len(outputs[0])\n",
        "  for i in range(num_rows_predicted):\n",
        "    prediction_lst = []\n",
        "    for output in outputs:\n",
        "      prediction_lst.append(output[i])\n",
        "    prediction_compiled_lst.append(prediction_lst)\n",
        "  return prediction_compiled_lst\n",
        "    "
      ],
      "metadata": {
        "id": "EcMectM-H4XW"
      },
      "execution_count": 12,
      "outputs": []
    },
    {
      "cell_type": "code",
      "source": [
        "outputs = [preds_df['BERT'], preds_df['CNN_GLTR'], preds_df['SVM_TFIDF']]"
      ],
      "metadata": {
        "id": "ANTFS6IRRvUy"
      },
      "execution_count": 13,
      "outputs": []
    },
    {
      "cell_type": "code",
      "source": [
        "threshold = 0.6\n",
        "num_models = 3\n",
        "preds = get_prediction_compiled_list(outputs)\n",
        "tracker = grid_search(num_models, preds, y_true, threshold)"
      ],
      "metadata": {
        "id": "wzHRutwzSeVc"
      },
      "execution_count": 14,
      "outputs": []
    },
    {
      "cell_type": "markdown",
      "source": [
        "Sort by 1. Prioritise weights that do not zero out weights for any model 2. Prioritise weights that give higher accuracy followed by ROC_AUC then F1 Score"
      ],
      "metadata": {
        "id": "tISRpAVZ9DTS"
      }
    },
    {
      "cell_type": "code",
      "source": [
        "#sort by accuracy, roc_auc score, f1 score then choose arrays that have more models with non-zero weights for diversification\n",
        "#as we are using a holdout set of small size\n",
        "\n",
        "def get_count_of_weights_above_zero(weights):\n",
        "  count = 0\n",
        "  for weight in weights:\n",
        "    if weight > 0:\n",
        "      count += 1\n",
        "  return count\n",
        "\n",
        "tracker.sort(key=lambda a:  (get_count_of_weights_above_zero(a[3]),a[0], a[2], a[1],), reverse=True)\n",
        "print(tracker[:10])\n",
        "best_weights = tracker[0][3]\n",
        "best_weights"
      ],
      "metadata": {
        "colab": {
          "base_uri": "https://localhost:8080/"
        },
        "id": "FNffrf4DTiBm",
        "outputId": "feefc539-44a8-417e-bfaf-b635f7fbbdd8"
      },
      "execution_count": 15,
      "outputs": [
        {
          "output_type": "stream",
          "name": "stdout",
          "text": [
            "[(0.958491698339668, 0.9577263929917491, 0.9590935536141016, array([0.25, 0.25, 0.5 ])), (0.958491698339668, 0.9577263929917491, 0.9590935536141016, array([0.2, 0.2, 0.6])), (0.958491698339668, 0.9577263929917491, 0.9590935536141016, array([0.16666667, 0.16666667, 0.66666667])), (0.958491698339668, 0.9577263929917491, 0.9590935536141016, array([0.14285714, 0.14285714, 0.71428571])), (0.958491698339668, 0.9577263929917491, 0.9590935536141016, array([0.125, 0.125, 0.75 ])), (0.958491698339668, 0.9577263929917491, 0.9590935536141016, array([0.11111111, 0.11111111, 0.77777778])), (0.958491698339668, 0.9577263929917491, 0.9590935536141016, array([0.1, 0.1, 0.8])), (0.958491698339668, 0.9577263929917491, 0.9590935536141016, array([0.09090909, 0.09090909, 0.81818182])), (0.958491698339668, 0.9577263929917491, 0.9590935536141016, array([0.08333333, 0.08333333, 0.83333333])), (0.958491698339668, 0.9577263929917491, 0.9590935536141016, array([0.16666667, 0.33333333, 0.5       ]))]\n"
          ]
        },
        {
          "output_type": "execute_result",
          "data": {
            "text/plain": [
              "array([0.25, 0.25, 0.5 ])"
            ]
          },
          "metadata": {},
          "execution_count": 15
        }
      ]
    },
    {
      "cell_type": "markdown",
      "source": [
        "Test out the optimal weights found\n",
        "In order of accuracy, ROC_AUC and F1_Score, the models individually did: \n",
        "```\n",
        " ['SVM_TFIDF', 0.958491698339668, 0.958491698339668, 0.9577263929917491],\n",
        " ['BERT', 0.909881976395279, 0.909881976395279, 0.9052476601114733],\n",
        " ['CNN_GLTR', 0.8273654730946189, 0.8273654730946189, 0.835179526355997],\n",
        "\n",
        "```\n",
        "Together, with weights of [0.25, 0.25, 0.5] for BERT, CNN and SVM respectively, the ensemble achieved:\n",
        "\n",
        "Accuracy:0.96\n",
        "\n",
        "ROC_AUC:0.96\n",
        "\n",
        "F1_Score:0.96\n",
        "\n",
        "Even though the SVM_TFIDF had comparable individual performance, this was one a small holdout dataset of 1000 pairs of human and AI written responses. We also want to aim for variance by ensuring that the ensemble can generalise well. This could be done with the help of BERT and CNN_GLTR which are uncorrelated and high-performing as well."
      ],
      "metadata": {
        "id": "D1cWrUJ2UnC5"
      }
    }
  ]
}