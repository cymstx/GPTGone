{
 "cells": [
  {
   "cell_type": "code",
   "execution_count": 1,
   "metadata": {},
   "outputs": [],
   "source": [
    "import pandas as pd\n",
    "import json"
   ]
  },
  {
   "cell_type": "code",
   "execution_count": 2,
   "metadata": {},
   "outputs": [
    {
     "data": {
      "text/html": [
       "<div>\n",
       "<style scoped>\n",
       "    .dataframe tbody tr th:only-of-type {\n",
       "        vertical-align: middle;\n",
       "    }\n",
       "\n",
       "    .dataframe tbody tr th {\n",
       "        vertical-align: top;\n",
       "    }\n",
       "\n",
       "    .dataframe thead th {\n",
       "        text-align: right;\n",
       "    }\n",
       "</style>\n",
       "<table border=\"1\" class=\"dataframe\">\n",
       "  <thead>\n",
       "    <tr style=\"text-align: right;\">\n",
       "      <th></th>\n",
       "      <th>question</th>\n",
       "      <th>human_answers</th>\n",
       "      <th>chatgpt_answers</th>\n",
       "      <th>index</th>\n",
       "    </tr>\n",
       "  </thead>\n",
       "  <tbody>\n",
       "    <tr>\n",
       "      <th>0</th>\n",
       "      <td>Why is every book I hear about a \" NY Times # ...</td>\n",
       "      <td>[Basically there are many categories of \" Best...</td>\n",
       "      <td>[There are many different best seller lists th...</td>\n",
       "      <td>NaN</td>\n",
       "    </tr>\n",
       "    <tr>\n",
       "      <th>1</th>\n",
       "      <td>If salt is so bad for cars , why do we use it ...</td>\n",
       "      <td>[salt is good for not dying in car crashes and...</td>\n",
       "      <td>[Salt is used on roads to help melt ice and sn...</td>\n",
       "      <td>NaN</td>\n",
       "    </tr>\n",
       "    <tr>\n",
       "      <th>2</th>\n",
       "      <td>Why do we still have SD TV channels when HD lo...</td>\n",
       "      <td>[The way it works is that old TV stations got ...</td>\n",
       "      <td>[There are a few reasons why we still have SD ...</td>\n",
       "      <td>NaN</td>\n",
       "    </tr>\n",
       "    <tr>\n",
       "      <th>3</th>\n",
       "      <td>Why has nobody assassinated Kim Jong - un He i...</td>\n",
       "      <td>[You ca n't just go around assassinating the l...</td>\n",
       "      <td>[It is generally not acceptable or ethical to ...</td>\n",
       "      <td>NaN</td>\n",
       "    </tr>\n",
       "    <tr>\n",
       "      <th>4</th>\n",
       "      <td>How was airplane technology able to advance so...</td>\n",
       "      <td>[Wanting to kill the shit out of Germans drive...</td>\n",
       "      <td>[After the Wright Brothers made the first powe...</td>\n",
       "      <td>NaN</td>\n",
       "    </tr>\n",
       "    <tr>\n",
       "      <th>...</th>\n",
       "      <td>...</td>\n",
       "      <td>...</td>\n",
       "      <td>...</td>\n",
       "      <td>...</td>\n",
       "    </tr>\n",
       "    <tr>\n",
       "      <th>17107</th>\n",
       "      <td>Why is the general Xbox One reveal feedback ne...</td>\n",
       "      <td>[A few items people do n't seem to like : 1 . ...</td>\n",
       "      <td>[It's difficult to say exactly why the general...</td>\n",
       "      <td>NaN</td>\n",
       "    </tr>\n",
       "    <tr>\n",
       "      <th>17108</th>\n",
       "      <td>If infrared is thermal why does n't my remote ...</td>\n",
       "      <td>[It 's very , very low power . Around the orde...</td>\n",
       "      <td>[Infrared light is a type of light that we can...</td>\n",
       "      <td>NaN</td>\n",
       "    </tr>\n",
       "    <tr>\n",
       "      <th>17109</th>\n",
       "      <td>Why are cars all about their brake - horse pow...</td>\n",
       "      <td>[Brake horsepower has nothing to do with brake...</td>\n",
       "      <td>[Cars are not just about how fast they can go,...</td>\n",
       "      <td>NaN</td>\n",
       "    </tr>\n",
       "    <tr>\n",
       "      <th>17110</th>\n",
       "      <td>What does a CO^2 scrubber do , and how does it...</td>\n",
       "      <td>[A [ scrubber ] ( URL_0 ) is a engineering pro...</td>\n",
       "      <td>[A CO2 scrubber is a device that removes carbo...</td>\n",
       "      <td>NaN</td>\n",
       "    </tr>\n",
       "    <tr>\n",
       "      <th>17111</th>\n",
       "      <td>the Stockholm riots happening right now Why ar...</td>\n",
       "      <td>[I feel like I just failed the Swede test , be...</td>\n",
       "      <td>[I'm sorry, but I'm not able to provide inform...</td>\n",
       "      <td>NaN</td>\n",
       "    </tr>\n",
       "  </tbody>\n",
       "</table>\n",
       "<p>17112 rows × 4 columns</p>\n",
       "</div>"
      ],
      "text/plain": [
       "                                                question  \\\n",
       "0      Why is every book I hear about a \" NY Times # ...   \n",
       "1      If salt is so bad for cars , why do we use it ...   \n",
       "2      Why do we still have SD TV channels when HD lo...   \n",
       "3      Why has nobody assassinated Kim Jong - un He i...   \n",
       "4      How was airplane technology able to advance so...   \n",
       "...                                                  ...   \n",
       "17107  Why is the general Xbox One reveal feedback ne...   \n",
       "17108  If infrared is thermal why does n't my remote ...   \n",
       "17109  Why are cars all about their brake - horse pow...   \n",
       "17110  What does a CO^2 scrubber do , and how does it...   \n",
       "17111  the Stockholm riots happening right now Why ar...   \n",
       "\n",
       "                                           human_answers  \\\n",
       "0      [Basically there are many categories of \" Best...   \n",
       "1      [salt is good for not dying in car crashes and...   \n",
       "2      [The way it works is that old TV stations got ...   \n",
       "3      [You ca n't just go around assassinating the l...   \n",
       "4      [Wanting to kill the shit out of Germans drive...   \n",
       "...                                                  ...   \n",
       "17107  [A few items people do n't seem to like : 1 . ...   \n",
       "17108  [It 's very , very low power . Around the orde...   \n",
       "17109  [Brake horsepower has nothing to do with brake...   \n",
       "17110  [A [ scrubber ] ( URL_0 ) is a engineering pro...   \n",
       "17111  [I feel like I just failed the Swede test , be...   \n",
       "\n",
       "                                         chatgpt_answers  index  \n",
       "0      [There are many different best seller lists th...    NaN  \n",
       "1      [Salt is used on roads to help melt ice and sn...    NaN  \n",
       "2      [There are a few reasons why we still have SD ...    NaN  \n",
       "3      [It is generally not acceptable or ethical to ...    NaN  \n",
       "4      [After the Wright Brothers made the first powe...    NaN  \n",
       "...                                                  ...    ...  \n",
       "17107  [It's difficult to say exactly why the general...    NaN  \n",
       "17108  [Infrared light is a type of light that we can...    NaN  \n",
       "17109  [Cars are not just about how fast they can go,...    NaN  \n",
       "17110  [A CO2 scrubber is a device that removes carbo...    NaN  \n",
       "17111  [I'm sorry, but I'm not able to provide inform...    NaN  \n",
       "\n",
       "[17112 rows x 4 columns]"
      ]
     },
     "execution_count": 2,
     "metadata": {},
     "output_type": "execute_result"
    }
   ],
   "source": [
    "hc3_df = pd.read_json(path_or_buf=\"../datasets/reddit_eli5.jsonl\", lines=True)\n",
    "hc3_df"
   ]
  },
  {
   "cell_type": "code",
   "execution_count": 3,
   "metadata": {},
   "outputs": [
    {
     "data": {
      "text/html": [
       "<div>\n",
       "<style scoped>\n",
       "    .dataframe tbody tr th:only-of-type {\n",
       "        vertical-align: middle;\n",
       "    }\n",
       "\n",
       "    .dataframe tbody tr th {\n",
       "        vertical-align: top;\n",
       "    }\n",
       "\n",
       "    .dataframe thead th {\n",
       "        text-align: right;\n",
       "    }\n",
       "</style>\n",
       "<table border=\"1\" class=\"dataframe\">\n",
       "  <thead>\n",
       "    <tr style=\"text-align: right;\">\n",
       "      <th></th>\n",
       "      <th>question</th>\n",
       "      <th>human_answer</th>\n",
       "      <th>chatgpt_answer</th>\n",
       "    </tr>\n",
       "  </thead>\n",
       "  <tbody>\n",
       "    <tr>\n",
       "      <th>0</th>\n",
       "      <td>Why is every book I hear about a \" NY Times # ...</td>\n",
       "      <td>Basically there are many categories of \" Best ...</td>\n",
       "      <td>There are many different best seller lists tha...</td>\n",
       "    </tr>\n",
       "    <tr>\n",
       "      <th>1</th>\n",
       "      <td>Why is every book I hear about a \" NY Times # ...</td>\n",
       "      <td>If you 're hearing about it , it 's because it...</td>\n",
       "      <td>There are many different best seller lists tha...</td>\n",
       "    </tr>\n",
       "    <tr>\n",
       "      <th>2</th>\n",
       "      <td>Why is every book I hear about a \" NY Times # ...</td>\n",
       "      <td>One reason is lots of catagories . However , h...</td>\n",
       "      <td>There are many different best seller lists tha...</td>\n",
       "    </tr>\n",
       "    <tr>\n",
       "      <th>3</th>\n",
       "      <td>If salt is so bad for cars , why do we use it ...</td>\n",
       "      <td>salt is good for not dying in car crashes and ...</td>\n",
       "      <td>Salt is used on roads to help melt ice and sno...</td>\n",
       "    </tr>\n",
       "    <tr>\n",
       "      <th>4</th>\n",
       "      <td>If salt is so bad for cars , why do we use it ...</td>\n",
       "      <td>In Minnesota and North Dakota , they tend to u...</td>\n",
       "      <td>Salt is used on roads to help melt ice and sno...</td>\n",
       "    </tr>\n",
       "  </tbody>\n",
       "</table>\n",
       "</div>"
      ],
      "text/plain": [
       "                                            question  \\\n",
       "0  Why is every book I hear about a \" NY Times # ...   \n",
       "1  Why is every book I hear about a \" NY Times # ...   \n",
       "2  Why is every book I hear about a \" NY Times # ...   \n",
       "3  If salt is so bad for cars , why do we use it ...   \n",
       "4  If salt is so bad for cars , why do we use it ...   \n",
       "\n",
       "                                        human_answer  \\\n",
       "0  Basically there are many categories of \" Best ...   \n",
       "1  If you 're hearing about it , it 's because it...   \n",
       "2  One reason is lots of catagories . However , h...   \n",
       "3  salt is good for not dying in car crashes and ...   \n",
       "4  In Minnesota and North Dakota , they tend to u...   \n",
       "\n",
       "                                      chatgpt_answer  \n",
       "0  There are many different best seller lists tha...  \n",
       "1  There are many different best seller lists tha...  \n",
       "2  There are many different best seller lists tha...  \n",
       "3  Salt is used on roads to help melt ice and sno...  \n",
       "4  Salt is used on roads to help melt ice and sno...  "
      ]
     },
     "execution_count": 3,
     "metadata": {},
     "output_type": "execute_result"
    }
   ],
   "source": [
    "# drop index col which is all NaN\n",
    "processed_hc3_df = hc3_df.drop([\"index\"], axis=1)\n",
    "\n",
    "# keep rows with non empty chatgpt ans\n",
    "has_chatgpt_ans = processed_hc3_df[\"chatgpt_answers\"].map(lambda ans_lst:ans_lst!=[])\n",
    "processed_hc3_df = processed_hc3_df[has_chatgpt_ans]\n",
    "\n",
    "#Need to expand the answers and chatgpt ans -- as for one question, there can be several human answers obtained\n",
    "row_list = []\n",
    "for index, row in processed_hc3_df.iterrows():\n",
    "  human_ans_list = row[\"human_answers\"]\n",
    "  chatgpt_ans_list = row[\"chatgpt_answers\"]\n",
    "  # note that sometimes there can be 2 human ans, and 1 chatgpt ans for e.g. \n",
    "  num_chatgpt_ans = len(chatgpt_ans_list)\n",
    "  for i in range(len(human_ans_list)):\n",
    "    human_ans = human_ans_list[i]\n",
    "    if i >= num_chatgpt_ans:\n",
    "      chatgpt_ans = chatgpt_ans_list[num_chatgpt_ans-1]\n",
    "    else:\n",
    "      chatgpt_ans = chatgpt_ans_list[i]\n",
    "    row_list.append([row[\"question\"],human_ans,chatgpt_ans])\n",
    "\n",
    "processed_hc3_df = pd.DataFrame(row_list, columns = [\"question\", \"human_answer\", \"chatgpt_answer\"])\n",
    "processed_hc3_df.head()"
   ]
  },
  {
   "cell_type": "code",
   "execution_count": 7,
   "metadata": {},
   "outputs": [
    {
     "name": "stdout",
     "output_type": "stream",
     "text": [
      "(16122, 2)\n"
     ]
    },
    {
     "data": {
      "text/html": [
       "<div>\n",
       "<style scoped>\n",
       "    .dataframe tbody tr th:only-of-type {\n",
       "        vertical-align: middle;\n",
       "    }\n",
       "\n",
       "    .dataframe tbody tr th {\n",
       "        vertical-align: top;\n",
       "    }\n",
       "\n",
       "    .dataframe thead th {\n",
       "        text-align: right;\n",
       "    }\n",
       "</style>\n",
       "<table border=\"1\" class=\"dataframe\">\n",
       "  <thead>\n",
       "    <tr style=\"text-align: right;\">\n",
       "      <th></th>\n",
       "      <th>response</th>\n",
       "      <th>label</th>\n",
       "    </tr>\n",
       "  </thead>\n",
       "  <tbody>\n",
       "    <tr>\n",
       "      <th>0</th>\n",
       "      <td>There are many different best seller lists tha...</td>\n",
       "      <td>1</td>\n",
       "    </tr>\n",
       "    <tr>\n",
       "      <th>3</th>\n",
       "      <td>Salt is used on roads to help melt ice and sno...</td>\n",
       "      <td>1</td>\n",
       "    </tr>\n",
       "    <tr>\n",
       "      <th>6</th>\n",
       "      <td>There are a few reasons why we still have SD (...</td>\n",
       "      <td>1</td>\n",
       "    </tr>\n",
       "    <tr>\n",
       "      <th>9</th>\n",
       "      <td>It is generally not acceptable or ethical to a...</td>\n",
       "      <td>1</td>\n",
       "    </tr>\n",
       "    <tr>\n",
       "      <th>12</th>\n",
       "      <td>After the Wright Brothers made the first power...</td>\n",
       "      <td>1</td>\n",
       "    </tr>\n",
       "  </tbody>\n",
       "</table>\n",
       "</div>"
      ],
      "text/plain": [
       "                                             response  label\n",
       "0   There are many different best seller lists tha...      1\n",
       "3   Salt is used on roads to help melt ice and sno...      1\n",
       "6   There are a few reasons why we still have SD (...      1\n",
       "9   It is generally not acceptable or ethical to a...      1\n",
       "12  After the Wright Brothers made the first power...      1"
      ]
     },
     "execution_count": 7,
     "metadata": {},
     "output_type": "execute_result"
    }
   ],
   "source": [
    "chatgpt_responses = processed_hc3_df.loc[:, [\"chatgpt_answer\"]]\n",
    "chatgpt_responses[\"label\"]=1\n",
    "chatgpt_responses.rename(columns = {'chatgpt_answer':'response'}, inplace = True)\n",
    "chatgpt_responses.drop_duplicates(inplace=True)\n",
    "print(chatgpt_responses.shape)\n",
    "chatgpt_responses.head()"
   ]
  },
  {
   "cell_type": "code",
   "execution_count": 8,
   "metadata": {},
   "outputs": [
    {
     "name": "stdout",
     "output_type": "stream",
     "text": [
      "(45509, 2)\n"
     ]
    },
    {
     "data": {
      "text/html": [
       "<div>\n",
       "<style scoped>\n",
       "    .dataframe tbody tr th:only-of-type {\n",
       "        vertical-align: middle;\n",
       "    }\n",
       "\n",
       "    .dataframe tbody tr th {\n",
       "        vertical-align: top;\n",
       "    }\n",
       "\n",
       "    .dataframe thead th {\n",
       "        text-align: right;\n",
       "    }\n",
       "</style>\n",
       "<table border=\"1\" class=\"dataframe\">\n",
       "  <thead>\n",
       "    <tr style=\"text-align: right;\">\n",
       "      <th></th>\n",
       "      <th>response</th>\n",
       "      <th>label</th>\n",
       "    </tr>\n",
       "  </thead>\n",
       "  <tbody>\n",
       "    <tr>\n",
       "      <th>0</th>\n",
       "      <td>Basically there are many categories of \" Best ...</td>\n",
       "      <td>0</td>\n",
       "    </tr>\n",
       "    <tr>\n",
       "      <th>1</th>\n",
       "      <td>If you 're hearing about it , it 's because it...</td>\n",
       "      <td>0</td>\n",
       "    </tr>\n",
       "    <tr>\n",
       "      <th>2</th>\n",
       "      <td>One reason is lots of catagories . However , h...</td>\n",
       "      <td>0</td>\n",
       "    </tr>\n",
       "    <tr>\n",
       "      <th>3</th>\n",
       "      <td>salt is good for not dying in car crashes and ...</td>\n",
       "      <td>0</td>\n",
       "    </tr>\n",
       "    <tr>\n",
       "      <th>4</th>\n",
       "      <td>In Minnesota and North Dakota , they tend to u...</td>\n",
       "      <td>0</td>\n",
       "    </tr>\n",
       "  </tbody>\n",
       "</table>\n",
       "</div>"
      ],
      "text/plain": [
       "                                            response  label\n",
       "0  Basically there are many categories of \" Best ...      0\n",
       "1  If you 're hearing about it , it 's because it...      0\n",
       "2  One reason is lots of catagories . However , h...      0\n",
       "3  salt is good for not dying in car crashes and ...      0\n",
       "4  In Minnesota and North Dakota , they tend to u...      0"
      ]
     },
     "execution_count": 8,
     "metadata": {},
     "output_type": "execute_result"
    }
   ],
   "source": [
    "human_responses = processed_hc3_df.loc[:, [\"human_answer\"]]\n",
    "human_responses[\"label\"]=0\n",
    "human_responses.rename(columns = {'human_answer':'response'}, inplace = True)\n",
    "human_responses.drop_duplicates(inplace=True)\n",
    "print(human_responses.shape)\n",
    "human_responses.head()"
   ]
  },
  {
   "cell_type": "code",
   "execution_count": 9,
   "metadata": {},
   "outputs": [
    {
     "data": {
      "text/html": [
       "<div>\n",
       "<style scoped>\n",
       "    .dataframe tbody tr th:only-of-type {\n",
       "        vertical-align: middle;\n",
       "    }\n",
       "\n",
       "    .dataframe tbody tr th {\n",
       "        vertical-align: top;\n",
       "    }\n",
       "\n",
       "    .dataframe thead th {\n",
       "        text-align: right;\n",
       "    }\n",
       "</style>\n",
       "<table border=\"1\" class=\"dataframe\">\n",
       "  <thead>\n",
       "    <tr style=\"text-align: right;\">\n",
       "      <th></th>\n",
       "      <th>response</th>\n",
       "      <th>label</th>\n",
       "    </tr>\n",
       "  </thead>\n",
       "  <tbody>\n",
       "    <tr>\n",
       "      <th>0</th>\n",
       "      <td>There are many different best seller lists tha...</td>\n",
       "      <td>1</td>\n",
       "    </tr>\n",
       "    <tr>\n",
       "      <th>1</th>\n",
       "      <td>Salt is used on roads to help melt ice and sno...</td>\n",
       "      <td>1</td>\n",
       "    </tr>\n",
       "    <tr>\n",
       "      <th>2</th>\n",
       "      <td>There are a few reasons why we still have SD (...</td>\n",
       "      <td>1</td>\n",
       "    </tr>\n",
       "    <tr>\n",
       "      <th>3</th>\n",
       "      <td>It is generally not acceptable or ethical to a...</td>\n",
       "      <td>1</td>\n",
       "    </tr>\n",
       "    <tr>\n",
       "      <th>4</th>\n",
       "      <td>After the Wright Brothers made the first power...</td>\n",
       "      <td>1</td>\n",
       "    </tr>\n",
       "  </tbody>\n",
       "</table>\n",
       "</div>"
      ],
      "text/plain": [
       "                                            response  label\n",
       "0  There are many different best seller lists tha...      1\n",
       "1  Salt is used on roads to help melt ice and sno...      1\n",
       "2  There are a few reasons why we still have SD (...      1\n",
       "3  It is generally not acceptable or ethical to a...      1\n",
       "4  After the Wright Brothers made the first power...      1"
      ]
     },
     "execution_count": 9,
     "metadata": {},
     "output_type": "execute_result"
    }
   ],
   "source": [
    "Corpus = pd.concat([chatgpt_responses, human_responses], ignore_index=True)\n",
    "Corpus.head()"
   ]
  },
  {
   "cell_type": "code",
   "execution_count": 10,
   "metadata": {},
   "outputs": [
    {
     "name": "stderr",
     "output_type": "stream",
     "text": [
      "[nltk_data] Downloading package punkt to /home/daniel/nltk_data...\n",
      "[nltk_data]   Package punkt is already up-to-date!\n",
      "[nltk_data] Downloading package wordnet to /home/daniel/nltk_data...\n",
      "[nltk_data]   Package wordnet is already up-to-date!\n",
      "[nltk_data] Downloading package omw-1.4 to /home/daniel/nltk_data...\n",
      "[nltk_data]   Package omw-1.4 is already up-to-date!\n",
      "[nltk_data] Downloading package averaged_perceptron_tagger to\n",
      "[nltk_data]     /home/daniel/nltk_data...\n",
      "[nltk_data]   Package averaged_perceptron_tagger is already up-to-\n",
      "[nltk_data]       date!\n",
      "[nltk_data] Downloading package stopwords to /home/daniel/nltk_data...\n",
      "[nltk_data]   Package stopwords is already up-to-date!\n"
     ]
    },
    {
     "data": {
      "text/plain": [
       "True"
      ]
     },
     "execution_count": 10,
     "metadata": {},
     "output_type": "execute_result"
    }
   ],
   "source": [
    "import numpy as np\n",
    "from nltk.tokenize import word_tokenize\n",
    "from nltk import pos_tag\n",
    "from nltk.corpus import stopwords\n",
    "from nltk.stem import WordNetLemmatizer\n",
    "from sklearn.preprocessing import LabelEncoder\n",
    "from collections import defaultdict\n",
    "from nltk.corpus import wordnet as wn\n",
    "from sklearn.feature_extraction.text import TfidfVectorizer\n",
    "from sklearn import model_selection, naive_bayes, svm\n",
    "from sklearn.metrics import accuracy_score\n",
    "from sklearn.metrics import classification_report\n",
    "import nltk\n",
    "nltk.download('punkt')\n",
    "nltk.download('wordnet')\n",
    "nltk.download('omw-1.4')\n",
    "nltk.download('averaged_perceptron_tagger')\n",
    "nltk.download('stopwords')"
   ]
  },
  {
   "cell_type": "code",
   "execution_count": 11,
   "metadata": {},
   "outputs": [],
   "source": [
    "# Step - a : Remove blank rows if any.\n",
    "Corpus['response'].dropna(inplace=True)\n",
    "# Step - b : Change all the text to lower case. This is required as python interprets 'dog' and 'DOG' differently\n",
    "Corpus['response'] = [entry.lower() for entry in Corpus['response']]\n",
    "# Step - c : Tokenization : In this each entry in the corpus will be broken into set of words\n",
    "Corpus['response']= [word_tokenize(entry) for entry in Corpus['response']]\n",
    "# Step - d : Remove Stop words, Non-Numeric and perfom Word Stemming/Lemmenting.\n",
    "# WordNetLemmatizer requires Pos tags to understand if the word is noun or verb or adjective etc. By default it is set to Noun\n",
    "tag_map = defaultdict(lambda : wn.NOUN)\n",
    "tag_map['J'] = wn.ADJ\n",
    "tag_map['V'] = wn.VERB\n",
    "tag_map['R'] = wn.ADV\n",
    "for index,entry in enumerate(Corpus['response']):\n",
    "    # Declaring Empty List to store the words that follow the rules for this step\n",
    "    Final_words = []\n",
    "    # Initializing WordNetLemmatizer()\n",
    "    word_Lemmatized = WordNetLemmatizer()\n",
    "    # pos_tag function below will provide the 'tag' i.e if the word is Noun(N) or Verb(V) or something else.\n",
    "    for word, tag in pos_tag(entry):\n",
    "        # Below condition is to check for Stop words and consider only alphabets\n",
    "        if word not in stopwords.words('english') and word.isalpha():\n",
    "            word_Final = word_Lemmatized.lemmatize(word,tag_map[tag[0]])\n",
    "            Final_words.append(word_Final)\n",
    "    # The final processed set of words for each iteration will be stored in 'text_final'\n",
    "    Corpus.loc[index,'text_final'] = str(Final_words)"
   ]
  },
  {
   "cell_type": "code",
   "execution_count": 12,
   "metadata": {},
   "outputs": [
    {
     "data": {
      "text/html": [
       "<div>\n",
       "<style scoped>\n",
       "    .dataframe tbody tr th:only-of-type {\n",
       "        vertical-align: middle;\n",
       "    }\n",
       "\n",
       "    .dataframe tbody tr th {\n",
       "        vertical-align: top;\n",
       "    }\n",
       "\n",
       "    .dataframe thead th {\n",
       "        text-align: right;\n",
       "    }\n",
       "</style>\n",
       "<table border=\"1\" class=\"dataframe\">\n",
       "  <thead>\n",
       "    <tr style=\"text-align: right;\">\n",
       "      <th></th>\n",
       "      <th>response</th>\n",
       "      <th>label</th>\n",
       "      <th>text_final</th>\n",
       "    </tr>\n",
       "  </thead>\n",
       "  <tbody>\n",
       "    <tr>\n",
       "      <th>0</th>\n",
       "      <td>[there, are, many, different, best, seller, li...</td>\n",
       "      <td>1</td>\n",
       "      <td>['many', 'different', 'best', 'seller', 'list'...</td>\n",
       "    </tr>\n",
       "    <tr>\n",
       "      <th>1</th>\n",
       "      <td>[salt, is, used, on, roads, to, help, melt, ic...</td>\n",
       "      <td>1</td>\n",
       "      <td>['salt', 'use', 'road', 'help', 'melt', 'ice',...</td>\n",
       "    </tr>\n",
       "    <tr>\n",
       "      <th>2</th>\n",
       "      <td>[there, are, a, few, reasons, why, we, still, ...</td>\n",
       "      <td>1</td>\n",
       "      <td>['reason', 'still', 'sd', 'standard', 'definit...</td>\n",
       "    </tr>\n",
       "    <tr>\n",
       "      <th>3</th>\n",
       "      <td>[it, is, generally, not, acceptable, or, ethic...</td>\n",
       "      <td>1</td>\n",
       "      <td>['generally', 'acceptable', 'ethical', 'advoca...</td>\n",
       "    </tr>\n",
       "    <tr>\n",
       "      <th>4</th>\n",
       "      <td>[after, the, wright, brothers, made, the, firs...</td>\n",
       "      <td>1</td>\n",
       "      <td>['wright', 'brother', 'make', 'first', 'powere...</td>\n",
       "    </tr>\n",
       "  </tbody>\n",
       "</table>\n",
       "</div>"
      ],
      "text/plain": [
       "                                            response  label  \\\n",
       "0  [there, are, many, different, best, seller, li...      1   \n",
       "1  [salt, is, used, on, roads, to, help, melt, ic...      1   \n",
       "2  [there, are, a, few, reasons, why, we, still, ...      1   \n",
       "3  [it, is, generally, not, acceptable, or, ethic...      1   \n",
       "4  [after, the, wright, brothers, made, the, firs...      1   \n",
       "\n",
       "                                          text_final  \n",
       "0  ['many', 'different', 'best', 'seller', 'list'...  \n",
       "1  ['salt', 'use', 'road', 'help', 'melt', 'ice',...  \n",
       "2  ['reason', 'still', 'sd', 'standard', 'definit...  \n",
       "3  ['generally', 'acceptable', 'ethical', 'advoca...  \n",
       "4  ['wright', 'brother', 'make', 'first', 'powere...  "
      ]
     },
     "execution_count": 12,
     "metadata": {},
     "output_type": "execute_result"
    }
   ],
   "source": [
    "Corpus.head()"
   ]
  },
  {
   "cell_type": "code",
   "execution_count": 13,
   "metadata": {},
   "outputs": [],
   "source": [
    "Train_X, Test_X, Train_Y, Test_Y = model_selection.train_test_split(Corpus['text_final'],Corpus['label'],test_size=0.3)"
   ]
  },
  {
   "cell_type": "code",
   "execution_count": 14,
   "metadata": {},
   "outputs": [],
   "source": [
    "Encoder = LabelEncoder()\n",
    "Train_Y = Encoder.fit_transform(Train_Y)\n",
    "Test_Y = Encoder.fit_transform(Test_Y)"
   ]
  },
  {
   "cell_type": "code",
   "execution_count": 15,
   "metadata": {},
   "outputs": [],
   "source": [
    "Tfidf_vect = TfidfVectorizer(max_features=5000)\n",
    "Tfidf_vect.fit(Corpus['text_final'])\n",
    "Train_X_Tfidf = Tfidf_vect.transform(Train_X)\n",
    "Test_X_Tfidf = Tfidf_vect.transform(Test_X)"
   ]
  },
  {
   "cell_type": "code",
   "execution_count": 16,
   "metadata": {},
   "outputs": [
    {
     "name": "stdout",
     "output_type": "stream",
     "text": [
      "{'many': 2696, 'different': 1239, 'best': 427, 'seller': 3929, 'list': 2598, 'publish': 3517, 'various': 4776, 'organization': 3097, 'new': 2968, 'york': 4991, 'time': 4526, 'one': 3064, 'rank': 3576, 'book': 489, 'united': 4701, 'state': 4230, 'base': 378, 'sale': 3854, 'data': 1096, 'number': 3013, 'retailer': 3761, 'newspaper': 2970, 'widely': 4914, 'consider': 922, 'influential': 2269, 'industry': 2255, 'important': 2216, 'note': 2997, 'category': 654, 'country': 1011, 'possible': 3363, 'could': 1006, 'another': 198, 'additionally': 68, 'term': 4455, 'often': 3056, 'use': 4745, 'refer': 3646, 'sell': 3928, 'well': 4895, 'regardless': 3662, 'whether': 4906, 'specific': 4168, 'may': 2734, 'hear': 2061, 'even': 1564, 'specifically': 4169, 'salt': 3856, 'road': 3797, 'help': 2077, 'melt': 2762, 'ice': 2173, 'snow': 4102, 'improve': 2222, 'traction': 4577, 'winter': 4933, 'month': 2865, 'cold': 807, 'outside': 3117, 'water': 4868, 'freeze': 1849, 'make': 2669, 'dangerous': 1091, 'car': 631, 'people': 3221, 'lower': 2641, 'point': 3321, 'mean': 2739, 'keep': 2446, 'clear': 768, 'safe': 3847, 'travel': 4612, 'option': 3086, 'chemical': 707, 'like': 2580, 'calcium': 595, 'mechanical': 2749, 'method': 2788, 'sand': 3861, 'however': 2147, 'effective': 1430, 'affordable': 97, 'community': 846, 'especially': 1543, 'combination': 822, 'helpful': 2078, 'safer': 3849, 'also': 150, 'negative': 2947, 'effect': 1429, 'environment': 1523, 'cause': 656, 'metal': 2782, 'surface': 4358, 'include': 2231, 'harm': 2043, 'plant': 3303, 'animal': 191, 'wash': 4864, 'nearby': 2938, 'despite': 1198, 'potential': 3370, 'downside': 1353, 'continue': 949, 'way': 4874, 'reason': 3610, 'still': 4254, 'standard': 4223, 'definition': 1146, 'tv': 4650, 'channel': 689, 'old': 3062, 'compatible': 853, 'hd': 2052, 'high': 2089, 'signal': 4031, 'display': 1298, 'would': 4967, 'able': 3, 'watch': 4867, 'take': 4410, 'bandwidth': 367, 'might': 2800, 'available': 334, 'require': 3727, 'expensive': 1618, 'equipment': 1534, 'produce': 3450, 'station': 4233, 'afford': 96, 'upgrade': 4721, 'overall': 3121, 'everyone': 1572, 'kind': 2460, 'much': 2891, 'money': 2858, 'generally': 1913, 'acceptable': 22, 'ethical': 1554, 'advocate': 92, 'individual': 2251, 'action': 49, 'belief': 415, 'practical': 3378, 'consideration': 923, 'play': 3308, 'situation': 4065, 'first': 1759, 'remember': 3697, 'violent': 4813, 'extreme': 1651, 'act': 48, 'serious': 3952, 'consequence': 919, 'person': 3241, 'target': 4420, 'around': 260, 'lead': 2522, 'conflict': 905, 'instability': 2303, 'region': 3664, 'north': 2992, 'korean': 2478, 'government': 1964, 'know': 2472, 'highly': 2091, 'heavily': 2068, 'guard': 2007, 'difficult': 1243, 'carry': 641, 'legal': 2538, 'diplomatic': 1260, 'implication': 2212, 'attempt': 312, 'leader': 2523, 'sovereign': 4148, 'seek': 3919, 'peaceful': 3208, 'solution': 4123, 'difference': 1238, 'rather': 3585, 'resort': 3742, 'violence': 4812, 'brother': 542, 'flight': 1781, 'world': 4958, 'become': 401, 'interested': 2335, 'building': 558, 'fly': 1794, 'airplane': 120, 'start': 4226, 'work': 4954, 'design': 1190, 'result': 3759, 'technology': 4437, 'begin': 407, 'advance': 81, 'quickly': 3548, 'rapid': 3579, 'advancement': 83, 'fact': 1660, 'useful': 4747, 'purpose': 3531, 'example': 1585, 'transportation': 4607, 'mail': 2661, 'crop': 1050, 'military': 2804, 'meant': 2743, 'lot': 2634, 'demand': 1159, 'turn': 4648, 'encourage': 1489, 'develop': 1210, 'war': 4854, 'fight': 1729, 'development': 1213, 'try': 4638, 'build': 557, 'fast': 1688, 'durable': 1390, 'short': 4010, 'interest': 2334, 'true': 4633, 'need': 2945, 'particularly': 3178, 'press': 3405, 'color': 818, 'eye': 1654, 'determine': 1207, 'amount': 173, 'type': 4659, 'pigment': 3276, 'part': 3172, 'scatter': 3881, 'light': 2575, 'contains': 943, 'two': 4658, 'call': 603, 'melanin': 2760, 'give': 1942, 'skin': 4070, 'hair': 2024, 'along': 144, 'structure': 4293, 'shade': 3973, 'range': 3575, 'dark': 1092, 'brown': 543, 'blue': 472, 'common': 840, 'green': 1992, 'gene': 1911, 'instruction': 2312, 'inherit': 2283, 'parent': 3168, 'tell': 4443, 'body': 480, 'grow': 2003, 'function': 1875, 'scientific': 3890, 'evidence': 1575, 'suggest': 4331, 'special': 4163, 'meaning': 2740, 'significance': 4033, 'believe': 416, 'reveal': 3770, 'certain': 678, 'thing': 4491, 'personality': 3243, 'health': 2058, 'support': 4350, 'simply': 4049, 'amendment': 166, 'constitution': 932, 'protect': 3497, 'freedom': 1847, 'religion': 3692, 'right': 3786, 'practice': 3380, 'whatever': 4900, 'choose': 728, 'absolute': 7, 'limit': 2585, 'circumstance': 749, 'safety': 3850, 'others': 3107, 'case': 645, 'describe': 1186, 'go': 1954, 'school': 3888, 'matter': 2728, 'personal': 3242, 'religious': 3693, 'requirement': 3729, 'child': 718, 'age': 103, 'attend': 313, 'order': 3092, 'receive': 3617, 'education': 1427, 'break': 521, 'law': 2511, 'charge': 696, 'fail': 1666, 'comply': 871, 'claim': 758, 'prevents': 3412, 'regulate': 3670, 'activity': 53, 'interfere': 2339, 'functioning': 1878, 'ensure': 1511, 'proper': 3485, 'disrupt': 1301, 'goal': 1955, 'freely': 1848, 'follow': 1804, 'regulation': 3671, 'apply': 233, 'else': 1464, 'relate': 3675, 'factor': 1662, 'contribute': 957, 'trend': 4618, 'throw': 4509, 'away': 341, 'product': 3452, 'instead': 2309, 'fix': 1766, 'quality': 3539, 'impossible': 2219, 'repair': 3707, 'cheap': 702, 'material': 2721, 'put': 3534, 'together': 4540, 'hard': 2039, 'access': 23, 'easy': 1413, 'buy': 582, 'cultural': 1067, 'origin': 3102, 'society': 4112, 'longer': 2625, 'want': 4853, 'someone': 4127, 'influence': 2268, 'availability': 333, 'convenience': 964, 'item': 2403, 'finally': 1743, 'cost': 1003, 'happen': 2035, 'find': 1747, 'sense': 3939, 'magic': 2656, 'card': 635, 'game': 1893, 'million': 2807, 'player': 3309, 'represent': 3716, 'magical': 2657, 'spell': 4176, 'creature': 1037, 'battle': 390, 'deck': 1125, 'defeat': 1137, 'opponent': 3077, 'reduce': 3643, 'life': 2570, 'zero': 4995, 'casual': 651, 'friend': 1860, 'organize': 3098, 'online': 3066, 'rich': 3780, 'complex': 866, 'strategy': 4276, 'skill': 4068, 'involve': 2369, 'culture': 1068, 'diverse': 1319, 'background': 349, 'strong': 4291, 'forum': 1827, 'discuss': 1288, 'share': 3981, 'favorite': 1698, 'connect': 910, 'popular': 3346, 'history': 2100, 'dedicate': 1130, 'enjoy': 1507, 'tiny': 4529, 'particle': 3176, 'fatal': 1691, 'disease': 1290, 'protein': 3500, 'block': 467, 'normally': 2991, 'shape': 3980, 'job': 2425, 'abnormal': 4, 'change': 688, 'problem': 3445, 'properly': 3486, 'virus': 4816, 'contain': 941, 'genetic': 1918, 'dna': 1326, 'think': 4492, 'copy': 987, 'human': 2153, 'mad': 2654, 'cow': 1020, 'transmit': 4603, 'contaminate': 944, 'food': 1808, 'medical': 2753, 'occur': 3038, 'currently': 1074, 'cure': 1070, 'diagnose': 1219, 'researcher': 3732, 'understand': 4682, 'prevent': 3411, 'treat': 4614, 'condition': 894, 'hacker': 2023, 'computer': 883, 'gain': 1889, 'system': 4399, 'network': 2960, 'without': 4943, 'permission': 3237, 'variety': 4775, 'steal': 4241, 'information': 2272, 'damage': 1087, 'challenge': 683, 'hack': 2022, 'software': 4117, 'program': 3461, 'weakness': 4877, 'tool': 4551, 'guess': 2008, 'password': 3189, 'get': 1933, 'security': 3916, 'measure': 2745, 'trial': 4619, 'error': 1541, 'seem': 3920, 'jam': 2408, 'keyboard': 2449, 'approach': 236, 'technical': 4433, 'knowledge': 2473, 'wide': 4913, 'technique': 4435, 'achieve': 40, 'spend': 4178, 'test': 4464, 'depression': 1181, 'affect': 94, 'feel': 1712, 'physical': 3265, 'psychological': 3512, 'environmental': 1524, 'brain': 515, 'imbalance': 2201, 'neurotransmitter': 2963, 'message': 2779, 'nerve': 2955, 'cell': 666, 'mood': 2867, 'behavior': 411, 'symptom': 4391, 'appetite': 228, 'sleep': 4077, 'pattern': 3199, 'fatigue': 1693, 'sad': 3845, 'lose': 2632, 'difficulty': 1244, 'experience': 1619, 'differently': 1242, 'treatment': 4615, 'therapy': 4483, 'medication': 2755, 'lifestyle': 2572, 'speak': 4160, 'healthcare': 2059, 'provider': 3509, 'plan': 3299, 'movie': 2888, 'company': 848, 'set': 3959, 'film': 1738, 'location': 2616, 'control': 959, 'allow': 140, 'filmmaker': 1739, 'complete': 864, 'look': 2626, 'shoot': 4005, 'story': 4267, 'place': 3295, 'fictional': 1726, 'create': 1032, 'atmosphere': 303, 'always': 159, 'rent': 3705, 'extended': 1643, 'period': 3233, 'pay': 3202, 'alter': 151, 'suit': 4335, 'deal': 1109, 'crowd': 1052, 'noise': 2986, 'shot': 4016, 'resource': 3743, 'electricity': 1451, 'cast': 648, 'crew': 1040, 'traffic': 4584, 'unstable': 4717, 'terrain': 4457, 'weather': 4882, 'controlled': 960, 'minimize': 2815, 'long': 2624, 'run': 3835, 'great': 1988, 'shooting': 4007, 'risk': 3793, 'delay': 1151, 'unexpected': 4689, 'tor': 4556, 'node': 2985, 'group': 2002, 'provide': 3508, 'internet': 2343, 'user': 4749, 'multiple': 2895, 'reach': 3592, 'final': 1742, 'destination': 1199, 'exit': 1611, 'last': 2501, 'stop': 4263, 'website': 4885, 'encrypt': 1490, 'decrypt': 1129, 'send': 3935, 'anyone': 211, 'track': 4575, 'figure': 1732, 'locate': 2615, 'digital': 1250, 'management': 2681, 'drm': 1376, 'content': 945, 'music': 2900, 'medium': 2757, 'creator': 1036, 'publisher': 3518, 'distribution': 1315, 'implement': 2211, 'song': 4133, 'enter': 1512, 'code': 801, 'unlock': 4711, 'controversial': 962, 'purchase': 3527, 'store': 4265, 'device': 1215, 'jump': 2438, 'frustrate': 1865, 'something': 4128, 'ca': 588, 'fully': 1873, 'concern': 888, 'unnecessary': 4712, 'good': 1961, 'argue': 251, 'necessary': 2942, 'piracy': 3286, 'bank': 369, 'income': 2232, 'check': 704, 'direct': 1261, 'deposit': 1179, 'debit': 1114, 'mobile': 2835, 'payment': 3205, 'app': 222, 'convenient': 965, 'secure': 3915, 'manage': 2680, 'offer': 3049, 'financial': 1745, 'service': 3957, 'ability': 2, 'withdraw': 4940, 'cash': 646, 'bill': 439, 'transfer': 4593, 'account': 32, 'earn': 1404, 'saving': 3869, 'theft': 4476, 'loss': 2633, 'transaction': 4592, 'budget': 553, 'banking': 370, 'view': 4805, 'balance': 360, 'spending': 4179, 'alert': 129, 'stay': 4238, 'top': 4554, 'finance': 1744, 'benefit': 423, 'prefer': 3390, 'dog': 1332, 'owner': 3135, 'communicate': 842, 'express': 1640, 'excitement': 1594, 'frustration': 1866, 'prone': 3476, 'breed': 528, 'vocal': 4827, 'scream': 3897, 'handle': 2032, 'strain': 4271, 'energy': 1497, 'tire': 4531, 'rest': 3753, 'hand': 2030, 'cord': 989, 'debt': 1116, 'responsibly': 3752, 'borrow': 496, 'future': 1888, 'investor': 2365, 'less': 2551, 'likely': 2582, 'lend': 2547, 'fund': 1879, 'infrastructure': 2275, 'default': 1136, 'loan': 2610, 'required': 3728, 'lender': 2548, 'potentially': 3371, 'gradually': 1970, 'economy': 1421, 'low': 2640, 'rate': 3584, 'back': 348, 'careful': 638, 'live': 2606, 'within': 4942, 'republican': 3724, 'equality': 1528, 'equal': 1527, 'conservative': 920, 'due': 1387, 'gay': 1906, 'transgender': 4597, 'interpretation': 2345, 'text': 4470, 'therefore': 4485, 'oppose': 3079, 'traditional': 4582, 'gender': 1910, 'role': 3803, 'sexual': 3970, 'orientation': 3101, 'male': 2673, 'female': 1717, 'attract': 317, 'member': 2763, 'opposite': 3080, 'sex': 3969, 'fit': 1763, 'agree': 110, 'perspective': 3246, 'viewpoint': 4807, 'issue': 2399, 'sensation': 3938, 'fall': 1673, 'dream': 1367, 'actually': 56, 'position': 3358, 'lie': 2569, 'relative': 3679, 'move': 2886, 'shift': 3993, 'perceive': 3224, 'movement': 2887, 'trigger': 4624, 'reflex': 3653, 'stage': 4216, 'rem': 3695, 'active': 51, 'sometimes': 4129, 'strange': 4273, 'feeling': 1713, 'emotion': 1472, 'process': 3447, 'interpret': 2344, 'sensory': 3943, 'asleep': 283, 'surroundings': 4367, 'though': 4497, 'consciously': 915, 'aware': 339, 'incorporate': 2234, 'normal': 2990, 'processing': 3448, 'hold': 2105, 'knife': 2469, 'blade': 458, 'face': 1656, 'stable': 4212, 'grip': 1997, 'thrust': 4510, 'stab': 4209, 'motion': 2877, 'slip': 4083, 'addition': 66, 'force': 1813, 'strike': 4287, 'imagine': 2200, 'apple': 229, 'cut': 1079, 'half': 2025, 'steady': 4239, 'character': 693, 'weapon': 4880, 'precise': 3383, 'powerful': 3377, 'beer': 406, 'four': 1833, 'wine': 4930, 'glass': 1944, 'quantity': 3540, 'bottle': 502, 'large': 2498, 'per': 3223, 'unit': 4699, 'typically': 4661, 'crystal': 1060, 'aluminum': 158, 'brand': 518, 'compare': 850, 'impact': 2208, 'price': 3416, 'premium': 3396, 'image': 2197, 'production': 3453, 'distribute': 1314, 'grape': 1980, 'costly': 1004, 'ship': 3997, 'temperature': 4445, 'preserve': 3402, 'add': 61, 'name': 2915, 'language': 2496, 'recognize': 3629, 'write': 4972, 'toothpaste': 4553, 'europe': 1559, 'market': 2706, 'label': 2481, 'warn': 4861, 'prohibit': 3467, 'advertising': 89, 'appeal': 225, 'classic': 762, 'modern': 2843, 'match': 2719, 'preference': 3391, 'consumer': 938, 'psychologist': 3513, 'criminal': 1043, 'profile': 3458, 'detail': 1203, 'model': 2838, 'suspect': 4372, 'focus': 1797, 'analyze': 181, 'characteristic': 694, 'crime': 1041, 'commit': 836, 'victim': 4802, 'scene': 3883, 'relevant': 3686, 'review': 3773, 'police': 3330, 'report': 3715, 'interview': 2351, 'witness': 4945, 'gather': 1904, 'additional': 67, 'training': 4588, 'psychology': 3514, 'manner': 2689, 'clue': 790, 'level': 2556, 'intelligence': 2323, 'enforcement': 1499, 'narrow': 2918, 'ultimately': 4669, 'identify': 2180, 'catch': 653, 'successful': 4321, 'positive': 3359, 'quarter': 3543, 'year': 4983, 'amd': 165, 'operate': 3072, 'foundation': 1831, 'reserve': 3734, 'credit': 1038, 'invest': 2360, 'growth': 2005, 'expect': 1614, 'generate': 1914, 'profit': 3459, 'see': 3917, 'investment': 2364, 'success': 4320, 'temporary': 4448, 'increased': 2237, 'competition': 857, 'supply': 4349, 'chain': 681, 'address': 70, 'return': 3767, 'resolve': 3741, 'worth': 4965, 'expense': 1617, 'settlement': 3962, 'ongoing': 3065, 'series': 3951, 'young': 4992, 'boy': 512, 'discover': 1284, 'wizard': 4946, 'exciting': 1595, 'engage': 1500, 'reader': 3598, 'viewer': 4806, 'main': 2662, 'capture': 630, 'imagination': 2199, 'plot': 3315, 'feature': 1704, 'ron': 3808, 'root': 3811, 'fan': 1679, 'detailed': 1204, 'universe': 4703, 'rule': 3832, 'custom': 1077, 'adventure': 85, 'love': 2639, 'union': 4697, 'worker': 4955, 'join': 2428, 'working': 4956, 'wage': 4845, 'voice': 4828, 'harmful': 2044, 'business': 575, 'controversy': 963, 'surround': 4366, 'america': 167, 'stem': 4246, 'differ': 1237, 'decision': 1124, 'competitive': 858, 'balanced': 361, 'wealth': 4878, 'power': 3376, 'hurt': 2165, 'compete': 856, 'valid': 4764, 'argument': 252, 'side': 4027, 'resolution': 3740, 'camera': 606, 'space': 4150, 'probe': 3444, 'satellite': 3864, 'small': 4089, 'lightweight': 2579, 'launch': 2510, 'extra': 1649, 'weight': 4891, 'complexity': 867, 'withstand': 4944, 'harsh': 2047, 'radiation': 3560, 'tough': 4564, 'electronic': 1455, 'reliable': 3688, 'instrument': 2313, 'sensor': 3942, 'enough': 1510, 'room': 3810, 'hope': 2126, 'explain': 1626, 'breast': 524, 'milk': 2805, 'cancer': 615, 'tissue': 4533, 'either': 1443, 'line': 2588, 'sign': 4030, 'regular': 3668, 'care': 636, 'notice': 2999, 'recommend': 3630, 'detect': 1205, 'early': 1403, 'increase': 2236, 'chance': 687, 'router': 3822, 'browse': 544, 'layer': 2516, 'server': 3956, 'trace': 4574, 'original': 3103, 'completely': 865, 'attacker': 311, 'compromise': 881, 'monitor': 2859, 'pass': 3183, 'vulnerable': 4844, 'operating': 3073, 'exploit': 1631, 'flaw': 1776, 'ip': 2372, 'fake': 1672, 'identity': 2181, 'guarantee': 2006, 'idea': 2175, 'caution': 657, 'step': 4247, 'youtube': 4994, 'monthly': 2866, 'fee': 1709, 'usually': 4753, 'exclusive': 1597, 'free': 1846, 'platform': 3307, 'exchange': 1592, 'acquire': 46, 'subscription': 4312, 'video': 4803, 'ad': 57, 'revenue': 3771, 'cover': 1018, 'host': 2138, 'stream': 4278, 'pro': 3440, 'con': 884, 'decide': 1122, 'radar': 3558, 'invent': 2357, 'pirate': 3287, 'navy': 2935, 'visual': 4821, 'sail': 3851, 'smoke': 4095, 'telescope': 4441, 'spot': 4199, 'distance': 1304, 'star': 4225, 'celestial': 665, 'navigation': 2934, 'aid': 115, 'object': 3024, 'direction': 1262, 'head': 2053, 'map': 2697, 'chart': 699, 'navigate': 2933, 'ocean': 3040, 'show': 4019, 'land': 2492, 'mass': 2715, 'current': 1073, 'wind': 4926, 'route': 3821, 'sens': 3937, 'hearing': 2063, 'smell': 4092, 'sound': 4142, 'drop': 1378, 'wood': 4951, 'invention': 2358, 'mix': 2831, 'paint': 3148, 'absorb': 9, 'wavelength': 4872, 'reflect': 3650, 'red': 3640, 'except': 1588, 'bright': 533, 'yellow': 4986, 'absorbs': 10, 'monsanto': 2863, 'seed': 3918, 'evil': 1576, 'several': 3965, 'accuse': 39, 'genetically': 1919, 'modify': 2844, 'organism': 3096, 'gmos': 1953, 'laboratory': 2483, 'desired': 1195, 'trait': 4589, 'resistance': 3738, 'natural': 2928, 'unintended': 4696, 'tactic': 4406, 'promote': 3474, 'patent': 3193, 'sue': 4326, 'farmer': 1684, 'save': 3868, 'among': 171, 'research': 3731, 'regulatory': 3672, 'storm': 4266, 'cloud': 788, 'gray': 1987, 'droplet': 1379, 'close': 780, 'sun': 4341, 'source': 4145, 'appear': 226, 'white': 4909, 'darker': 1093, 'farther': 1686, 'apart': 216, 'few': 1722, 'question': 3545, 'come': 826, 'context': 947, 'alphabet': 147, 'letter': 2555, 'symbol': 4388, 'word': 4953, 'project': 3469, 'writing': 4974, 'exist': 1608, 'marketing': 2707, 'expert': 1622, 'field': 1727, 'communication': 843, 'task': 4421, 'significant': 4034, 'expertise': 1623, 'flash': 1771, 'animation': 192, 'version': 4792, 'html': 2148, 'programming': 3463, 'layout': 2517, 'web': 4883, 'application': 231, 'directly': 1263, 'strength': 4280, 'key': 2448, 'compatibility': 852, 'separate': 3945, 'instal': 2304, 'browser': 545, 'wider': 4915, 'tablet': 4403, 'performance': 3231, 'tend': 4450, 'perform': 3230, 'efficient': 1434, 'smoothly': 4098, 'reputation': 3725, 'susceptible': 4371, 'malware': 2677, 'threat': 4501, 'depend': 1174, 'primarily': 3420, 'static': 4232, 'choice': 725, 'oven': 3120, 'cook': 974, 'pizza': 3294, 'hot': 2140, 'crust': 1058, 'frozen': 1863, 'probably': 3443, 'evenly': 1565, 'heat': 2065, 'straight': 4269, 'box': 511, 'amazon': 162, 'customer': 1078, 'warehouse': 4855, 'giant': 1936, 'pick': 3270, 'sort': 4140, 'facility': 1659, 'package': 3141, 'delivery': 1158, 'ups': 4726, 'bring': 535, 'house': 2144, 'necessarily': 2941, 'big': 437, 'factory': 1663, 'every': 1569, 'politician': 3334, 'vote': 4838, 'proposal': 3491, 'speech': 4174, 'talk': 4413, 'politics': 3335, 'say': 3871, 'filibuster': 1735, 'progress': 3464, 'reform': 3654, 'efficiently': 1435, 'sure': 4356, 'discussion': 1289, 'debate': 1113, 'abuse': 14, 'rubber': 3830, 'chicken': 716, 'toy': 4573, 'prop': 3480, 'joke': 2430, 'comedy': 828, 'routine': 3823, 'silly': 4039, 'gesture': 1932, 'laugh': 2508, 'party': 3181, 'gift': 1938, 'fun': 1874, 'seriously': 3953, 'baby': 346, 'actor': 54, 'screen': 3898, 'agency': 104, 'specialize': 4164, 'hire': 2095, 'entertainment': 1515, 'week': 4888, 'accompany': 28, 'carefully': 639, 'team': 4430, 'appearance': 227, 'real': 3602, 'do': 1328, 'cgi': 680, 'realistic': 3604, 'acid': 42, 'drug': 1381, 'perception': 3227, 'reality': 3605, 'thought': 4498, 'form': 1819, 'square': 4205, 'paper': 3159, 'soak': 4104, 'hallucination': 2027, 'really': 3607, 'disconnect': 1281, 'unpredictable': 4714, 'vary': 4777, 'greatly': 1989, 'illegal': 2191, 'phrase': 3263, 'christmas': 733, 'commonly': 841, 'wish': 4939, 'happy': 2038, 'holiday': 2108, 'season': 3906, 'kingdom': 2465, 'ireland': 2378, 'australia': 324, 'pleasure': 3313, 'happiness': 2037, 'associate': 293, 'varies': 4774, 'regional': 3665, 'tradition': 4581, 'wrong': 4975, 'nasa': 2919, 'stand': 4222, 'national': 2923, 'administration': 75, 'florida': 1786, 'equator': 1531, 'rocket': 3801, 'earth': 1405, 'rotation': 3815, 'faster': 1689, 'little': 2605, 'boost': 491, 'american': 168, 'astronaut': 298, 'since': 4054, 'mission': 2829, 'apollo': 221, 'moon': 2868, 'shuttle': 4024, 'open': 3069, 'center': 672, 'east': 1410, 'coast': 797, 'site': 4064, 'japan': 2411, 'expression': 1641, 'home': 2113, 'creative': 1034, 'japanese': 2412, 'element': 1457, 'theme': 4477, 'aspect': 284, 'family': 1677, 'innovation': 2295, 'fair': 1669, 'stereotype': 4248, 'minimum': 2816, 'city': 754, 'los': 2631, 'angeles': 187, 'living': 2608, 'housing': 2146, 'meet': 2758, 'apartment': 217, 'eat': 1414, 'second': 3909, 'smart': 4090, 'aside': 280, 'clothes': 786, 'planning': 3302, 'soldier': 4120, 'kill': 2454, 'gear': 1909, 'collect': 810, 'destroy': 1200, 'later': 2504, 'clothing': 787, 'clean': 766, 'reuse': 3768, 'dispose': 1299, 'donate': 1340, 'safely': 3848, 'gas': 1901, 'past': 3190, 'oil': 3059, 'gasoline': 1902, 'drive': 1373, 'export': 1637, 'relationship': 3678, 'trade': 4578, 'summary': 4339, 'double': 1349, 'clause': 765, 'fifth': 1728, 'shall': 3977, 'subject': 4304, 'offense': 3047, 'twice': 4653, 'limb': 2584, 'guilty': 2014, 'stress': 4282, 'punish': 3523, 'exception': 1589, 'court': 1016, 'federal': 1708, 'tax': 4425, 'consent': 918, 'value': 4767, 'accept': 21, 'public': 3515, 'penalty': 3215, 'fine': 1749, 'political': 3332, 'refuse': 3660, 'english': 1505, 'germany': 1931, 'german': 1929, 'pronounce': 3477, 'particular': 3177, 'vegetable': 4781, 'vitamin': 4825, 'mineral': 2813, 'soil': 4118, 'nutrient': 3018, 'thrive': 4505, 'convert': 970, 'sunlight': 4343, 'survive': 4370, 'clarify': 759, 'nato': 2927, 'confusion': 908, 'nine': 2979, 'radio': 3562, 'clearly': 769, 'accurately': 38, 'cookie': 975, 'container': 942, 'size': 4067, 'needle': 2946, 'pin': 3281, 'button': 581, 'dust': 1392, 'debris': 1115, 'wear': 4881, 'tear': 4431, 'everyday': 1571, 'appreciate': 235, 'touch': 4563, 'mention': 2772, 'famous': 1678, 'artist': 273, 'art': 267, 'social': 4107, 'single': 4059, 'piece': 3273, 'style': 4301, 'artwork': 275, 'distinctive': 1308, 'instantly': 2308, 'secret': 3912, 'thunder': 4512, 'lightning': 2578, 'electrical': 1450, 'ground': 2001, 'vapor': 4770, 'rain': 3567, 'liquid': 2595, 'air': 117, 'solid': 4122, 'warm': 4857, 'eventually': 1567, 'similarly': 4043, 'wo': 4947, 'format': 1821, 'gif': 1937, 'graphic': 1982, 'file': 1734, 'serve': 3955, 'usage': 4742, 'page': 3145, 'contrast': 956, 'download': 1352, 'separately': 3946, 'load': 2609, 'slow': 4087, 'connection': 911, 'flexible': 1780, 'today': 4538, 'meme': 2766, 'electric': 1449, 'bulb': 559, 'compact': 847, 'lamp': 2491, 'incentive': 2228, 'discount': 1282, 'switch': 4385, 'consumption': 939, 'end': 1492, 'reduction': 3645, 'greenhouse': 1993, 'emission': 1470, 'ukraine': 4666, 'russia': 3841, 'economic': 1417, 'tie': 4518, 'crisis': 1044, 'western': 4897, 'historically': 2099, 'sphere': 4181, 'effort': 1436, 'crimea': 1042, 'black': 456, 'sea': 3903, 'international': 2342, 'sanction': 3860, 'exactly': 1582, 'motivation': 2879, 'mind': 2809, 'score': 3894, 'employee': 1481, 'salary': 3853, 'overhead': 3123, 'utility': 4754, 'student': 4296, 'college': 814, 'university': 4704, 'accessible': 24, 'alive': 135, 'evolve': 1579, 'inherent': 2281, 'traditionally': 4583, 'feminine': 1718, 'naval': 2932, 'woman': 4949, 'noun': 3002, 'spin': 4186, 'axis': 345, 'imaginary': 2198, 'pole': 3329, 'south': 4146, 'rise': 3792, 'day': 1101, 'sky': 4073, 'pile': 3277, 'huge': 2151, 'wave': 4871, 'everything': 1573, 'mess': 2778, 'winner': 4932, 'multiply': 2897, 'calculator': 598, 'actual': 55, 'humorous': 2158, 'bear': 396, 'blind': 466, 'never': 2967, 'stimulus': 4258, 'texture': 4472, 'bird': 446, 'sing': 4056, 'blanket': 461, 'unique': 4698, 'football': 1812, 'possession': 3361, 'ball': 362, 'down': 1351, 'yard': 4980, 'defense': 1141, 'pas': 3182, 'rush': 3840, 'bad': 355, 'intercept': 2333, 'pressure': 3406, 'doctor': 1329, 'allergy': 137, 'substance': 4314, 'allergic': 136, 'bump': 564, 'blood': 469, 'sample': 3859, 'presence': 3400, 'antibody': 204, 'immune': 2206, 'response': 3749, 'expose': 1638, 'reaction': 3594, 'breathing': 527, 'intentionally': 2330, 'mutation': 2906, 'divide': 1321, 'division': 1323, 'die': 1234, 'formation': 1822, 'tumor': 4641, 'spread': 4202, 'genetics': 1920, 'answer': 199, 'plane': 3300, 'wing': 4931, 'experiment': 1621, 'heavy': 2069, 'fuel': 1871, 'advantage': 84, 'engineer': 1502, 'designer': 1192, 'capable': 623, 'intend': 2325, 'wisdom': 4937, 'teeth': 4439, 'third': 4495, 'emerge': 1468, 'mouth': 2885, 'late': 2503, 'twenty': 4652, 'diet': 1236, 'chew': 714, 'ancestor': 183, 'pain': 3146, 'infection': 2262, 'entirely': 1517, 'scientist': 3891, 'evolution': 1577, 'visit': 4820, 'dentist': 1171, 'emergency': 1469, 'walk': 4848, 'immediate': 2202, 'opportunity': 3078, 'rely': 3694, 'understanding': 4684, 'towards': 4567, 'deserve': 1189, 'isi': 2388, 'barrel': 376, 'accurate': 37, 'islamic': 2390, 'iraq': 2377, 'syria': 4396, 'designate': 1191, 'terrorist': 4462, 'operation': 3074, 'legitimate': 2543, 'global': 1945, 'photo': 3259, 'milky': 2806, 'exposure': 1639, 'shutter': 4023, 'let': 2553, 'dim': 1253, 'naked': 2914, 'bit': 450, 'blurry': 475, 'somewhere': 4131, 'pollution': 3337, 'far': 1682, 'visible': 4818, 'night': 2977, 'summer': 4340, 'band': 366, 'across': 47, 'grand': 1976, 'jury': 2442, 'investigate': 2361, 'present': 3401, 'lawyer': 2514, 'uncommon': 4675, 'officer': 3051, 'basic': 380, 'bottom': 504, 'wheel': 4902, 'print': 3428, 'maximum': 2733, 'speed': 4175, 'driving': 1375, 'soft': 4116, 'compound': 875, 'race': 3554, 'advanced': 82, 'engineering': 1503, 'lifespan': 2571, 'manufacturing': 2695, 'replace': 3711, 'tag': 4407, 'sum': 4337, 'originally': 3104, 'already': 148, 'prepare': 3397, 'release': 3685, 'left': 2536, 'slightly': 4082, 'offset': 3054, 'illusion': 2195, 'depth': 1182, 'lens': 2550, 'assign': 290, 'frame': 1839, 'facial': 1658, 'men': 2769, 'round': 3820, 'thicker': 4489, 'thinner': 4494, 'nose': 2994, 'whose': 4912, 'overlap': 3124, 'typical': 4660, 'expectation': 1615, 'mindful': 2810, 'pipe': 3284, 'consume': 937, 'grind': 1996, 'tobacco': 4537, 'smoking': 4096, 'regard': 3661, 'contact': 940, 'local': 2614, 'authority': 327, 'major': 2667, 'fox': 1835, 'advertiser': 88, 'television': 4442, 'september': 3948, 'audience': 322, 'spring': 4203, 'establish': 1547, 'following': 1806, 'sit': 4063, 'exercise': 1603, 'tired': 4532, 'push': 3533, 'intense': 2326, 'workout': 4957, 'sick': 4026, 'stomach': 4261, 'hormone': 2130, 'listen': 2599, 'okay': 3061, 'hydrate': 2168, 'fire': 1754, 'burn': 569, 'area': 249, 'outward': 3118, 'candle': 618, 'cigarette': 740, 'butt': 578, 'exact': 1581, 'christian': 731, 'muslim': 2903, 'existence': 1609, 'god': 1957, 'nature': 2930, 'christianity': 732, 'three': 4503, 'father': 1692, 'son': 4132, 'holy': 2112, 'spirit': 4191, 'jesus': 2420, 'christ': 730, 'sin': 4053, 'islam': 2389, 'partner': 3180, 'guidance': 2010, 'humanity': 2154, 'prophet': 3488, 'muhammad': 2893, 'judaism': 2434, 'ruler': 3833, 'jew': 2422, 'jewish': 2424, 'teaching': 4429, 'ritual': 3795, 'faith': 1671, 'policy': 3331, 'citizen': 752, 'luxury': 2649, 'casino': 647, 'hotel': 2141, 'estate': 1549, 'license': 2567, 'must': 2904, 'rice': 3779, 'germ': 1928, 'remove': 3702, 'out': 3110, 'grain': 1972, 'fiber': 1723, 'flavor': 1774, 'simple': 4044, 'attack': 310, 'straw': 4277, 'man': 2679, 'knock': 2470, 'recycle': 3639, 'anything': 212, 'avoid': 336, 'sequence': 3949, 'event': 1566, 'ready': 3601, 'sport': 4198, 'emotional': 1473, 'office': 3050, 'personnel': 3245, 'overnight': 3126, 'efficiency': 1433, 'frequently': 1855, 'leave': 2534, 'lighting': 2577, 'shorten': 4013, 'maintenance': 2666, 'execution': 1601, 'death': 1112, 'row': 3825, 'inmate': 2292, 'judge': 2435, 'attorney': 316, 'upon': 4723, 'heard': 2062, 'fairly': 1670, 'progressive': 3466, 'percentage': 3226, 'inequality': 2257, 'entire': 1516, 'population': 3348, 'bias': 433, 'discrimination': 1287, 'career': 637, 'total': 4561, 'asset': 288, 'property': 3487, 'generation': 1915, 'mostly': 2874, 'hydrogen': 2169, 'helium': 2074, 'explode': 1630, 'collapse': 809, 'nuclear': 3010, 'fusion': 1887, 'extremely': 1652, 'atom': 305, 'combine': 823, 'outer': 3112, 'otherwise': 3108, 'scratch': 3896, 'relieve': 3691, 'itch': 2402, 'spacecraft': 4151, 'lake': 2490, 'density': 1169, 'dense': 1168, 'altitude': 156, 'sustain': 4374, 'deep': 1134, 'landing': 2493, 'recovery': 3634, 'recover': 3633, 'specialized': 4165, 'lift': 2574, 'easily': 1409, 'net': 2957, 'minus': 2822, 'liability': 2559, 'calculate': 596, 'stock': 4260, 'subtract': 4318, 'mortgage': 2872, 'advisor': 91, 'owe': 3133, 'creditor': 1039, 'trillion': 4625, 'surplus': 4361, 'raise': 3569, 'stimulate': 4256, 'laptop': 2497, 'document': 1330, 'lcd': 2520, 'panel': 3156, 'manufacturer': 2694, 'supreme': 4355, 'ago': 109, 'principle': 3427, 'fundamental': 1880, 'fear': 1702, 'punishment': 3524, 'branch': 517, 'legislative': 2542, 'executive': 1602, 'accountable': 33, 'becomes': 402, 'valve': 4768, 'steam': 4242, 'developer': 1212, 'submit': 4308, 'approve': 239, 'girlfriend': 1940, 'general': 1912, 'formal': 1820, 'obligation': 3026, 'desire': 1194, 'hop': 2125, 'uncertainty': 4673, 'quantum': 3541, 'mechanic': 2748, 'theory': 4481, 'subatomic': 4303, 'behave': 410, 'accord': 30, 'momentum': 2853, 'insect': 2298, 'shine': 3995, 'flashlight': 1772, 'soon': 4135, 'hit': 2101, 'chase': 700, 'precisely': 3384, 'scale': 3872, 'transformer': 4596, 'circuit': 743, 'coil': 804, 'wire': 4935, 'magnetic': 2659, 'inside': 2300, 'primary': 3421, 'secondary': 3910, 'outlet': 3113, 'flow': 1788, 'interact': 2331, 'depends': 1176, 'voltage': 4833, 'healthy': 2060, 'bodily': 479, 'fluid': 1792, 'sexually': 3972, 'adult': 80, 'barrier': 377, 'dental': 1170, 'dam': 1086, 'transmission': 4602, 'regularly': 3669, 'inform': 2271, 'status': 4237, 'nausea': 2931, 'unpleasant': 4713, 'enjoyable': 1508, 'private': 3437, 'setting': 3960, 'comfortable': 830, 'boundary': 507, 'pitch': 3291, 'tone': 4549, 'mimic': 2808, 'tongue': 4550, 'lip': 2594, 'intelligent': 2324, 'learn': 2530, 'conduct': 896, 'finger': 1750, 'conductor': 898, 'interrupt': 2346, 'phone': 3258, 'glove': 1947, 'draw': 1365, 'conductive': 897, 'tip': 4530, 'thread': 4500, 'fabric': 1655, 'component': 872, 'copper': 986, 'electronics': 1456, 'science': 3889, 'explanation': 1627, 'observation': 3027, 'phenomenon': 3254, 'refine': 3649, 'statement': 4231, 'gravity': 1986, 'straightforward': 4270, 'contradict': 954, 'willing': 4924, 'vaccinate': 4758, 'misconception': 2825, 'vaccine': 4760, 'importance': 2215, 'realize': 3606, 'philosophical': 3256, 'ingredient': 2279, 'critical': 1047, 'illness': 2193, 'informed': 2273, 'assist': 291, 'suicide': 4334, 'lethal': 2554, 'injection': 2287, 'refers': 3648, 'convict': 972, 'suffer': 4327, 'terminal': 4456, 'severe': 3966, 'inhale': 2280, 'suffering': 4328, 'execute': 1600, 'inject': 2286, 'heart': 2064, 'vital': 4824, 'lion': 2593, 'confident': 902, 'tiger': 4520, 'portray': 3356, 'convey': 971, 'representative': 3718, 'pride': 3418, 'sorry': 4139, 'request': 3726, 'ask': 281, 'please': 3312, 'serial': 3950, 'killer': 2455, 'coverage': 1019, 'attention': 314, 'canada': 611, 'justice': 2443, 'societal': 4111, 'behind': 413, 'varied': 4773, 'broad': 538, 'mathematics': 2726, 'infinity': 2265, 'collection': 811, 'integer': 2317, 'infinite': 2263, 'fraction': 1838, 'ratio': 3587, 'least': 2533, 'correspond': 1000, 'recently': 3620, 'decrease': 1128, 'predict': 3387, 'transport': 4606, 'fluctuate': 1791, 'celebrity': 664, 'church': 738, 'scientology': 3892, 'promise': 3473, 'professional': 3456, 'path': 3194, 'spiritual': 4192, 'attractive': 319, 'search': 3905, 'irritate': 2384, 'frequency': 1853, 'loud': 2636, 'annoy': 195, 'noticeable': 3000, 'ear': 1401, 'sudden': 4324, 'tolerance': 4542, 'gun': 2017, 'aim': 116, 'flat': 1773, 'gameplay': 1894, 'engine': 1501, 'accommodate': 27, 'limitation': 2586, 'rover': 3824, 'picture': 3271, 'mar': 2698, 'mount': 2882, 'arm': 255, 'motor': 2880, 'adjust': 72, 'angle': 189, 'command': 832, 'lack': 2485, 'highway': 2092, 'favor': 1697, 'distort': 1310, 'scope': 3893, 'throat': 4506, 'kick': 2451, 'rid': 3781, 'bacteria': 353, 'mucus': 2892, 'thick': 4488, 'sticky': 4252, 'trap': 4608, 'usual': 4752, 'sore': 4138, 'saliva': 3855, 'moist': 2845, 'irritation': 2385, 'cough': 1005, 'sneeze': 4101, 'muscle': 2899, 'chest': 713, 'contract': 952, 'trash': 4609, 'respiratory': 3747, 'plastic': 3305, 'friendly': 1861, 'waste': 4866, 'stuff': 4299, 'cheese': 705, 'taste': 4422, 'interesting': 2336, 'machine': 2652, 'pit': 3290, 'fill': 1736, 'hole': 2107, 'elf': 1460, 'deliver': 1157, 'recipient': 3626, 'pigeon': 3275, 'century': 676, 'distant': 1305, 'train': 4586, 'attach': 308, 'leg': 2537, 'retrieve': 3766, 'colony': 817, 'dislike': 1294, 'british': 537, 'whole': 4911, 'felt': 1716, 'unfairly': 4691, 'representation': 3717, 'dictate': 1230, 'official': 3052, 'escape': 1542, 'bug': 556, 'fruit': 1864, 'sweet': 4379, 'vacation': 4757, 'humid': 2155, 'soda': 4114, 'bowl': 509, 'maintain': 2665, 'lane': 2495, 'bowling': 510, 'coat': 798, 'thin': 4490, 'predictable': 3388, 'shoe': 4004, 'drink': 1371, 'basketball': 383, 'broadcast': 539, 'advertisement': 87, 'arrangement': 262, 'cable': 590, 'fighter': 1730, 'front': 1862, 'correct': 995, 'telephone': 4440, 'distinguish': 1309, 'dial': 1222, 'addict': 63, 'alcohol': 126, 'addiction': 64, 'struggle': 4294, 'disorder': 1295, 'quit': 3550, 'strictly': 4286, 'participate': 3175, 'disaster': 1275, 'hurricane': 2164, 'earthquake': 1406, 'backup': 350, 'cope': 985, 'outcome': 3111, 'spaceship': 4152, 'clock': 777, 'puppy': 3526, 'protective': 3499, 'instinct': 2310, 'offspring': 3055, 'birth': 447, 'fed': 1707, 'cognitive': 803, 'concept': 887, 'similarity': 4042, 'initially': 2285, 'learning': 2531, 'refresh': 3655, 'delicate': 1155, 'circle': 741, 'vessel': 4795, 'awake': 337, 'constantly': 931, 'dry': 1384, 'cup': 1069, 'freezing': 1851, 'excess': 1590, 'urine': 4737, 'dehydration': 1150, 'electrolyte': 1452, 'sodium': 4115, 'headache': 2054, 'vomit': 4837, 'seizure': 3924, 'drinking': 1372, 'worse': 4963, 'beverage': 431, 'wireless': 4936, 'bed': 403, 'sight': 4029, 'roll': 3804, 'automatically': 332, 'closer': 783, 'suitable': 4336, 'breathe': 526, 'protection': 3498, 'moderate': 2840, 'challenging': 684, 'permanent': 3235, 'reddit': 3641, 'slowly': 4088, 'possibility': 3362, 'cache': 591, 'cooky': 977, 'tower': 4569, 'tall': 4414, 'tank': 4417, 'solve': 4124, 'downward': 1354, 'feed': 1710, 'consistent': 925, 'shower': 4020, 'flush': 1793, 'toilet': 4541, 'relaxed': 3684, 'deadly': 1107, 'alcoholic': 127, 'poisonous': 3325, 'concentration': 886, 'moderation': 2841, 'london': 2623, 'airport': 121, 'runway': 3838, 'busy': 577, 'wait': 4846, 'accelerate': 18, 'pilot': 3280, 'gently': 1924, 'onto': 3067, 'although': 155, 'ending': 1493, 'orgasm': 3099, 'interaction': 2332, 'variation': 4772, 'encounter': 1488, 'stimulation': 4257, 'theoretically': 4480, 'delete': 1153, 'entry': 1521, 'log': 2618, 'memory': 2768, 'erase': 1539, 'loop': 2627, 'perfectly': 3229, 'miss': 2827, 'malfunction': 2674, 'successfully': 4322, 'examine': 1584, 'vibrate': 4799, 'bone': 487, 'vibration': 4800, 'inner': 2293, 'responsible': 3751, 'chip': 723, 'length': 2549, 'funny': 1883, 'drama': 1361, 'arrest': 264, 'netflix': 2958, 'minute': 2823, 'cat': 652, 'similar': 4041, 'ingest': 2278, 'energetic': 1496, 'calm': 604, 'temporarily': 4447, 'sensitive': 3940, 'soap': 4105, 'dramatic': 1362, 'playing': 3310, 'tension': 4454, 'course': 1015, 'episode': 1526, 'complicate': 868, 'genre': 1922, 'class': 761, 'wealthy': 4879, 'topic': 4555, 'dependent': 1175, 'emotionally': 1474, 'mentally': 2771, 'heroin': 2082, 'bob': 478, 'sentence': 3944, 'fish': 1761, 'finish': 1752, 'prison': 3434, 'exists': 1610, 'appropriate': 237, 'pretty': 3409, 'bladder': 457, 'bathroom': 387, 'full': 1872, 'pee': 3212, 'ignore': 2187, 'near': 2937, 'weak': 4875, 'hide': 2086, 'cart': 642, 'comparison': 851, 'shopping': 4009, 'elsewhere': 1465, 'mona': 2854, 'lisa': 2597, 'da': 1083, 'painting': 3149, 'smile': 4093, 'blend': 465, 'edge': 1423, 'almost': 142, 'fold': 1800, 'dress': 1368, 'landscape': 2494, 'render': 3703, 'beautiful': 399, 'inspire': 2302, 'impose': 2218, 'decline': 1127, 'voluntary': 4835, 'unless': 4707, 'qualify': 3538, 'criterion': 1045, 'enforce': 1498, 'seize': 3923, 'gauge': 1905, 'alternatively': 154, 'altogether': 157, 'feces': 1706, 'parasite': 3167, 'nutritional': 3020, 'civilian': 756, 'violate': 4810, 'enemy': 1495, 'surrender': 4365, 'respect': 3744, 'wild': 4923, 'horse': 2134, 'grass': 1984, 'carbohydrate': 632, 'bean': 395, 'nut': 3017, 'calorie': 605, 'meat': 2747, 'egg': 1438, 'amino': 169, 'nutrition': 3019, 'recent': 3619, 'fourth': 1834, 'probable': 3442, 'cooperate': 981, 'advice': 90, 'complaint': 863, 'intersection': 2347, 'confusing': 907, 'cross': 1051, 'accident': 25, 'copyright': 988, 'creation': 1033, 'belong': 419, 'unfair': 4690, 'discourage': 1283, 'tap': 4418, 'cia': 739, 'torture': 4559, 'prosecute': 3494, 'jurisdiction': 2441, 'genocide': 1921, 'widespread': 4916, 'prove': 3506, 'obama': 3022, 'pursue': 3532, 'department': 1173, 'study': 4298, 'electron': 1454, 'collide': 815, 'sweat': 4378, 'surprise': 4362, 'anger': 188, 'vast': 4778, 'majority': 2668, 'instance': 2306, 'excessive': 1591, 'profession': 3455, 'tolerate': 4543, 'aggressive': 108, 'inappropriate': 2227, 'procedure': 3446, 'core': 990, 'processor': 3449, 'six': 4066, 'essentially': 1546, 'cpu': 1021, 'ghz': 1935, 'capability': 622, 'split': 4194, 'pad': 3144, 'tilt': 4525, 'mirror': 2824, 'rear': 3608, 'vehicle': 4783, 'ceiling': 662, 'precaution': 3382, 'propel': 3483, 'radioactive': 3563, 'drill': 1370, 'extract': 1650, 'impurity': 2225, 'next': 2972, 'cylinder': 1082, 'seal': 3904, 'mechanism': 2750, 'immediately': 2203, 'yet': 4989, 'italy': 2401, 'ii': 2188, 'holocaust': 2111, 'minority': 2820, 'numerous': 3015, 'asia': 278, 'hundred': 2159, 'thousand': 4499, 'chinese': 722, 'democratic': 1162, 'undergo': 4677, 'transformation': 4595, 'luck': 2644, 'river': 3796, 'valuable': 4766, 'hunt': 2162, 'talent': 4411, 'succeed': 4319, 'harder': 2040, 'height': 2072, 'randomly': 3573, 'fat': 1690, 'cholesterol': 727, 'clot': 784, 'edit': 1424, 'perfect': 3228, 'mistake': 2830, 'wall': 4849, 'membrane': 2765, 'bacterial': 354, 'resistant': 3739, 'defend': 1139, 'dirt': 1267, 'hygiene': 2170, 'emphasize': 1478, 'subjective': 4305, 'meaningful': 2741, 'spoken': 4196, 'technological': 4436, 'tree': 4617, 'farm': 1683, 'park': 3169, 'staff': 4215, 'finding': 1748, 'cool': 978, 'circulate': 745, 'cooler': 979, 'evaporate': 1562, 'conditioner': 895, 'tesla': 4463, 'beneficial': 422, 'compensation': 855, 'strategic': 4275, 'google': 1962, 'chrome': 734, 'click': 771, 'agreement': 111, 'habit': 2021, 'atm': 302, 'thank': 4473, 'verify': 4790, 'update': 4720, 'trust': 4636, 'loophole': 2628, 'president': 3403, 'behalf': 409, 'gap': 1898, 'restriction': 3758, 'resemble': 3733, 'unrelated': 4715, 'selection': 3926, 'reproduce': 3719, 'specie': 4167, 'mammal': 2678, 'bond': 486, 'anxiety': 207, 'predator': 3386, 'motivate': 2878, 'attachment': 309, 'border': 493, 'west': 4896, 'patrol': 3198, 'soviet': 4149, 'berlin': 425, 'illegally': 2192, 'saw': 3870, 'capital': 626, 'blow': 471, 'regime': 3663, 'risky': 3794, 'slave': 4075, 'resist': 3737, 'moment': 2852, 'slavery': 4076, 'throughout': 4508, 'dynamic': 1399, 'virtual': 4814, 'hardware': 2042, 'drum': 1382, 'dj': 1325, 'controller': 961, 'dance': 1089, 'manipulate': 2687, 'guitar': 2015, 'steer': 4245, 'balloon': 363, 'bike': 438, 'wherever': 4905, 'sink': 4061, 'violation': 4811, 'moral': 2869, 'mental': 2770, 'liquor': 2596, 'ethanol': 1552, 'rub': 3829, 'mixture': 2833, 'cleaning': 767, 'unlike': 4708, 'pet': 3248, 'encryption': 1491, 'assistance': 292, 'confidence': 901, 'consistently': 926, 'operator': 3075, 'meteor': 2784, 'warning': 4862, 'gravitational': 1985, 'pull': 3519, 'kinetic': 2463, 'bomb': 484, 'explosion': 1635, 'molecule': 2850, 'carbon': 633, 'essential': 1545, 'curve': 1076, 'gentle': 1923, 'reflection': 3651, 'window': 4927, 'invisible': 2366, 'improvement': 2223, 'distortion': 1311, 'distract': 1312, 'pornography': 3352, 'profitable': 3460, 'studio': 4297, 'reward': 3776, 'win': 4925, 'prize': 3439, 'producer': 3451, 'select': 3925, 'pool': 3340, 'trip': 4626, 'drain': 1360, 'battery': 389, 'poorly': 3343, 'optimize': 3085, 'algorithm': 131, 'constant': 930, 'interface': 2338, 'summarize': 4338, 'louder': 2637, 'additive': 69, 'volume': 4834, 'speaker': 4161, 'middle': 2799, 'db': 1102, 'variable': 4771, 'parameter': 3166, 'react': 3593, 'menu': 2773, 'awareness': 340, 'separation': 3947, 'injured': 2289, 'developed': 1211, 'abstract': 11, 'beyond': 432, 'uncomfortable': 4674, 'being': 414, 'remind': 3698, 'recall': 3616, 'isolate': 2392, 'solely': 4121, 'feedback': 1711, 'recognition': 3628, 'failure': 1667, 'criticism': 1048, 'tendency': 4451, 'biological': 444, 'rhythm': 3778, 'daily': 1085, 'territory': 4460, 'mate': 2720, 'morning': 2871, 'internal': 2341, 'diaphragm': 1226, 'forth': 1826, 'rapidly': 3580, 'pure': 3528, 'sine': 4055, 'beat': 398, 'drawing': 1366, 'significantly': 4035, 'fur': 1884, 'sheep': 3987, 'rare': 3581, 'passive': 3187, 'tense': 4453, 'incorrect': 2235, 'professor': 3457, 'construct': 934, 'desirable': 1193, 'obvious': 3032, 'guide': 2011, 'whenever': 4903, 'france': 1841, 'warfare': 4856, 'unable': 4672, 'invade': 2355, 'nazi': 2936, 'french': 1852, 'effectively': 1431, 'fighting': 1731, 'destruction': 1201, 'spectrum': 4171, 'ideology': 2182, 'liberal': 2560, 'intervention': 2350, 'le': 2521, 'responsibility': 3750, 'socialist': 4109, 'extremist': 1653, 'socialism': 4108, 'racial': 3555, 'upload': 4722, 'email': 1466, 'isps': 2396, 'legalize': 2539, 'marijuana': 2702, 'recreational': 3636, 'marriage': 2708, 'affair': 93, 'mole': 2848, 'scar': 3878, 'remain': 3696, 'anywhere': 215, 'pink': 3283, 'heal': 2056, 'injury': 2290, 'surgery': 4360, 'smooth': 4097, 'shed': 3986, 'dead': 1106, 'commercial': 834, 'institution': 2311, 'central': 673, 'withdrawal': 4941, 'fraud': 1844, 'automate': 330, 'association': 294, 'vulnerability': 4843, 'date': 1098, 'schedule': 3885, 'manually': 2692, 'install': 2305, 'texas': 4469, 'presidential': 3404, 'priority': 3433, 'declare': 1126, 'congress': 909, 'veto': 4796, 'senate': 3933, 'mountain': 2883, 'wifi': 4920, 'entity': 1519, 'merge': 2777, 'independently': 2245, 'super': 4345, 'liver': 2607, 'distinct': 1306, 'odor': 3044, 'metabolism': 2781, 'formula': 1825, 'estimate': 1550, 'rating': 3586, 'nfl': 2973, 'headphone': 2055, 'audio': 323, 'recording': 3632, 'isolated': 2393, 'external': 1647, 'record': 3631, 'microphone': 2795, 'disadvantage': 1271, 'pill': 3278, 'machinery': 2653, 'signature': 4032, 'initial': 2284, 'read': 3597, 'math': 2722, 'adopt': 78, 'memorize': 2767, 'underlying': 4680, 'teach': 4427, 'multiplication': 2896, 'diagram': 1221, 'urinate': 4736, 'plenty': 3314, 'reproductive': 3721, 'sperm': 4180, 'sugar': 4330, 'grey': 1994, 'un': 4671, 'meeting': 2759, 'mine': 2811, 'ban': 364, 'treaty': 4616, 'handful': 2031, 'china': 721, 'confuse': 906, 'innocent': 2294, 'eliminate': 1462, 'removal': 3701, 'affected': 95, 'hate': 2051, 'assault': 286, 'ethnicity': 1556, 'ripple': 3791, 'meal': 2738, 'fry': 1867, 'potato': 3369, 'golden': 1959, 'tasty': 4423, 'dish': 1292, 'sweetener': 4380, 'salty': 3857, 'restaurant': 3755, 'decade': 1117, 'pie': 3272, 'decimal': 1123, 'quite': 3551, 'steel': 4243, 'colder': 808, 'evolutionary': 1578, 'adaptation': 60, 'leaf': 2525, 'toll': 4544, 'privilege': 3438, 'ride': 3782, 'bus': 573, 'relax': 3682, 'recharge': 3624, 'nice': 2974, 'darkness': 1094, 'privacy': 3436, 'bin': 441, 'pakistan': 3151, 'army': 258, 'iphone': 2373, 'proprietary': 3493, 'connector': 912, 'previously': 3414, 'plug': 3316, 'output': 3115, 'functionality': 1877, 'silicon': 4038, 'dioxide': 1258, 'moisture': 2846, 'spoil': 4195, 'rust': 3843, 'packaging': 3142, 'extend': 1642, 'shelf': 3989, 'toxic': 4571, 'swallow': 4375, 'digestive': 1248, 'mild': 2802, 'complication': 870, 'vaccination': 4759, 'immunity': 2207, 'athlete': 300, 'honey': 2121, 'rot': 3813, 'expiration': 1624, 'relatively': 3680, 'microorganism': 2794, 'advertise': 86, 'sponsor': 4197, 'bully': 563, 'alone': 143, 'anxious': 208, 'depress': 1180, 'accordingly': 31, 'meter': 2785, 'indicate': 2249, 'john': 2427, 'smith': 4094, 'offensive': 3048, 'offend': 3045, 'taboo': 4404, 'respectful': 3745, 'conversation': 968, 'limited': 2587, 'glucose': 1949, 'fatty': 1694, 'cellular': 667, 'oxygen': 3137, 'byproduct': 586, 'expel': 1616, 'breath': 525, 'bypass': 585, 'censorship': 670, 'protocol': 3504, 'holder': 2106, 'personally': 3244, 'legally': 2540, 'trading': 4580, 'friction': 1857, 'bend': 421, 'photograph': 3260, 'sufficient': 4329, 'guideline': 2012, 'dos': 1346, 'supplement': 4347, 'motherboard': 2876, 'disagree': 1272, 'obtain': 3031, 'embryo': 1467, 'worry': 4962, 'disagreement': 1273, 'snowflake': 4103, 'raw': 3589, 'naturally': 2929, 'enzyme': 1525, 'digest': 1246, 'poisoning': 3324, 'consult': 936, 'hollow': 2109, 'lung': 2648, 'tube': 4639, 'cavity': 659, 'insert': 2299, 'expand': 1612, 'degree': 1148, 'severity': 3968, 'swell': 4381, 'underneath': 4681, 'painful': 3147, 'murder': 2898, 'killing': 2456, 'intent': 2328, 'legislation': 2541, 'democracy': 1160, 'elect': 1445, 'opinion': 3076, 'organic': 3095, 'synthetic': 4395, 'pesticide': 3247, 'news': 2969, 'economics': 1419, 'journalist': 2432, 'candidate': 617, 'criticize': 1049, 'inaccurate': 2226, 'dissolve': 1303, 'bitter': 455, 'accidentally': 26, 'pc': 3206, 'storage': 4264, 'running': 3837, 'disk': 1293, 'empty': 1484, 'folder': 1801, 'permanently': 3236, 'scan': 3875, 'worm': 4960, 'etc': 1551, 'adapt': 59, 'accent': 20, 'dialect': 1223, 'tends': 4452, 'speaking': 4162, 'vice': 4801, 'versa': 4791, 'olympics': 3063, 'table': 4402, 'india': 2247, 'funding': 1882, 'emphasis': 1477, 'wake': 4847, 'comfort': 829, 'antigen': 206, 'mercury': 2775, 'agent': 106, 'viable': 4798, 'optimal': 3084, 'strengthen': 4281, 'massage': 2716, 'bombing': 485, 'hiroshima': 2096, 'atomic': 306, 'invasion': 2356, 'restrict': 3757, 'worthless': 4966, 'thinking': 4493, 'title': 4534, 'lean': 2528, 'libertarian': 2562, 'found': 1830, 'session': 3958, 'hollywood': 2110, 'nurse': 3016, 'hospital': 2137, 'dirty': 1268, 'construction': 935, 'depict': 1177, 'superior': 4346, 'diversity': 1320, 'reinforce': 3673, 'exclude': 1596, 'closely': 782, 'investigation': 2362, 'neutral': 2964, 'printer': 3429, 'manufacture': 2693, 'readily': 3599, 'mold': 2847, 'desktop': 1197, 'calculation': 597, 'measurement': 2746, 'precision': 3385, 'ease': 1408, 'whiskey': 4908, 'corn': 991, 'mature': 2730, 'recipe': 3625, 'capacity': 625, 'shorter': 4014, 'league': 2526, 'academic': 17, 'graduate': 1971, 'talented': 4412, 'publicly': 3516, 'danger': 1090, 'artificial': 271, 'ai': 114, 'drone': 1377, 'misinformation': 2826, 'post': 3365, 'employment': 1483, 'malicious': 2675, 'unusual': 4718, 'fundamentally': 1881, 'assumption': 296, 'digestion': 1247, 'intake': 2316, 'juice': 2437, 'plain': 3298, 'circulation': 746, 'foot': 1810, 'wet': 4898, 'flower': 1789, 'scent': 3884, 'celsius': 668, 'fahrenheit': 1665, 'fever': 1721, 'correctly': 997, 'reading': 3600, 'familiar': 1676, 'pace': 3138, 'disability': 1269, 'teacher': 4428, 'journey': 2433, 'simpler': 4045, 'town': 4570, 'truck': 4632, 'satisfy': 3865, 'concentrate': 885, 'orange': 3088, 'tomato': 4546, 'breakfast': 523, 'chill': 720, 'conquer': 913, 'aggression': 107, 'independence': 2243, 'nation': 2922, 'suppose': 4352, 'integrity': 2320, 'corruption': 1002, 'nothing': 2998, 'ray': 3590, 'infrared': 2274, 'warmth': 4860, 'emit': 1471, 'dinosaur': 1257, 'planet': 3301, 'warmer': 4858, 'dominant': 1338, 'reptile': 3722, 'jaw': 2416, 'sharp': 3984, 'prey': 3415, 'link': 2591, 'nervous': 2956, 'judgment': 2436, 'raid': 3565, 'skilled': 4069, 'trader': 4579, 'civilization': 757, 'empire': 1479, 'spelling': 4177, 'colour': 819, 'flavour': 1775, 'behaviour': 412, 'province': 3510, 'sticker': 4251, 'void': 4829, 'opening': 3070, 'replacement': 3712, 'refund': 3659, 'duty': 1394, 'own': 3134, 'crayon': 1029, 'wax': 4873, 'pencil': 3216, 'mixed': 2832, 'whereas': 4904, 'stroke': 4290, 'artistic': 274, 'exhibit': 1607, 'auction': 321, 'charity': 698, 'educational': 1428, 'peak': 3209, 'plate': 3306, 'mile': 2803, 'kilometer': 2458, 'inch': 2229, 'indefinitely': 2242, 'bloodstream': 470, 'bubble': 548, 'furthermore': 1885, 'quick': 3546, 'contrary': 955, 'panic': 3157, 'distress': 1313, 'passenger': 3185, 'mom': 2851, 'dad': 1084, 'analysis': 180, 'testing': 4467, 'celebrate': 663, 'ash': 277, 'mark': 2704, 'easter': 1411, 'butter': 579, 'elaborate': 1444, 'reflective': 3652, 'chromosome': 735, 'mother': 2875, 'five': 1765, 'girl': 1939, 'foreign': 1815, 'canal': 613, 'gland': 1943, 'protest': 3501, 'concrete': 892, 'wooden': 4952, 'strip': 4289, 'orbit': 3089, 'rotate': 3814, 'solar': 4119, 'conserve': 921, 'unlikely': 4709, 'overcome': 3122, 'spam': 4155, 'underlie': 4679, 'self': 3927, 'dose': 1347, 'neither': 2953, 'floor': 1785, 'originate': 3105, 'ancient': 184, 'mythology': 2911, 'dinner': 1256, 'hall': 2026, 'guest': 2009, 'arrive': 265, 'trouble': 4631, 'unsafe': 4716, 'punch': 3522, 'shake': 3976, 'bag': 357, 'crush': 1057, 'broken': 540, 'fresh': 1856, 'explore': 1633, 'average': 335, 'exploration': 1632, 'administrator': 76, 'ever': 1568, 'shield': 3992, 'parachute': 3161, 'float': 1783, 'cautious': 658, 'kim': 2459, 'peace': 3207, 'upset': 4727, 'korea': 2477, 'leak': 2527, 'threaten': 4502, 'theater': 4475, 'spit': 4193, 'portable': 3354, 'setup': 3963, 'kindness': 2462, 'occupy': 3037, 'yell': 4985, 'discipline': 1278, 'indeed': 2241, 'monarchy': 2856, 'leadership': 2524, 'opposition': 3081, 'lock': 2617, 'bullet': 561, 'injure': 2288, 'unwanted': 4719, 'absolutely': 8, 'bent': 424, 'stretch': 4284, 'rearrange': 3609, 'mathematical': 2723, 'logarithm': 2619, 'approximately': 241, 'denote': 1167, 'arise': 253, 'physic': 3264, 'decay': 1118, 'annual': 196, 'continuously': 951, 'crash': 1027, 'brake': 516, 'weigh': 4890, 'wheat': 4901, 'collector': 813, 'soul': 4141, 'harvest': 2048, 'slice': 4079, 'hour': 2143, 'timing': 4527, 'stick': 4250, 'cycle': 1081, 'quiet': 3549, 'caffeine': 593, 'bath': 386, 'sleeping': 4078, 'prioritize': 3432, 'iq': 2374, 'stressful': 4283, 'fitness': 1764, 'stability': 4210, 'ideal': 2176, 'discharge': 1277, 'board': 476, 'transistor': 4598, 'capacitor': 624, 'bucket': 550, 'pour': 3373, 'spill': 4185, 'liter': 2601, 'yield': 4990, 'labor': 2482, 'anime': 193, 'cancel': 614, 'popularity': 3347, 'financially': 1746, 'spider': 4183, 'eight': 1441, 'partly': 3179, 'scary': 3880, 'urinal': 4735, 'mask': 2714, 'retire': 3764, 'penny': 3219, 'inflation': 2267, 'candy': 619, 'physically': 3266, 'transition': 4599, 'acknowledge': 44, 'cube': 1064, 'corner': 992, 'infinitely': 2264, 'electromagnetic': 1453, 'antenna': 201, 'receiver': 3618, 'robot': 3799, 'combustion': 824, 'nicotine': 2976, 'addictive': 65, 'alternative': 153, 'gum': 2016, 'patch': 3192, 'couple': 1013, 'donor': 1343, 'reproduction': 3720, 'negotiate': 2949, 'bridge': 530, 'obamacare': 3023, 'insurance': 2315, 'medicaid': 2752, 'mandate': 2684, 'trauma': 4610, 'squeeze': 4206, 'forward': 1828, 'european': 1560, 'eu': 1557, 'competitor': 859, 'billion': 440, 'bow': 508, 'arrow': 266, 'slam': 4074, 'string': 4288, 'snap': 4100, 'pocket': 3320, 'loose': 2629, 'deaf': 1108, 'certainly': 679, 'sheet': 3988, 'pose': 3357, 'retain': 3762, 'puzzle': 3535, 'comment': 833, 'grammar': 1974, 'vocabulary': 4826, 'norm': 2989, 'founder': 1832, 'prince': 3425, 'deeply': 1135, 'strict': 4285, 'draft': 1357, 'attribute': 320, 'survey': 4368, 'random': 3572, 'anonymous': 197, 'honest': 2119, 'imply': 2213, 'yes': 4987, 'flexibility': 1779, 'terrorism': 4461, 'african': 101, 'burning': 570, 'triangle': 4620, 'civil': 755, 'marry': 2709, 'entertain': 1514, 'posture': 3367, 'composition': 874, 'proportion': 3489, 'anymore': 210, 'discomfort': 1280, 'piano': 3269, 'us': 4739, 'hammer': 2029, 'meth': 2786, 'stimulant': 4255, 'unhappy': 4693, 'goat': 1956, 'vein': 4784, 'deliberately': 1154, 'delicious': 1156, 'silent': 4037, 'tune': 4642, 'snake': 4099, 'differentiate': 1241, 'photography': 3261, 'footage': 1811, 'simulate': 4050, 'brief': 531, 'consist': 924, 'ticket': 4515, 'rough': 3818, 'uk': 4665, 'street': 4279, 'beginning': 408, 'seemingly': 3921, 'historical': 2098, 'neighborhood': 2952, 'lay': 2515, 'logical': 2621, 'southern': 4147, 'currency': 1072, 'dollar': 1333, 'volunteer': 4836, 'prior': 3431, 'elephant': 1458, 'mouse': 2884, 'shark': 3983, 'survival': 4369, 'amp': 174, 'volt': 4832, 'watt': 4870, 'turbine': 4644, 'paycheck': 3203, 'employer': 1482, 'fixed': 1767, 'nearly': 2939, 'rod': 3802, 'cone': 899, 'vision': 4819, 'airline': 119, 'maximize': 2732, 'seat': 3907, 'promotion': 3475, 'breakdown': 522, 'ram': 3570, 'cabinet': 589, 'restart': 3754, 'donation': 1341, 'artifact': 270, 'warrant': 4863, 'mattress': 2729, 'republic': 3723, 'flee': 1777, 'communist': 845, 'bar': 374, 'independent': 2244, 'club': 789, 'consciousness': 916, 'philosopher': 3255, 'conscious': 914, 'replicate': 3713, 'neural': 2961, 'input': 2296, 'tuition': 4640, 'troop': 4629, 'vacuum': 4761, 'exert': 1604, 'senator': 3934, 'url': 4738, 'cs': 1061, 'vinyl': 4809, 'poster': 3366, 'thermal': 4486, 'laser': 2500, 'jet': 2421, 'ink': 2291, 'beam': 394, 'http': 2149, 'ugly': 4664, 'visually': 4823, 'corrupt': 1001, 'console': 927, 'earlier': 1402, 'productive': 3454, 'globe': 1946, 'educate': 1426, 'description': 1187, 'scanner': 3877, 'chef': 706, 'portion': 3355, 'kitchen': 2466, 'coordinate': 983, 'gaming': 1895, 'section': 3913, 'hungry': 2161, 'bind': 443, 'receptor': 3621, 'native': 2926, 'climate': 773, 'syrup': 4398, 'subsidy': 4313, 'amplitude': 177, 'loudness': 2638, 'listener': 2600, 'molecular': 2849, 'orbital': 3090, 'arrange': 261, 'bunch': 565, 'stack': 4213, 'marble': 2699, 'organ': 3094, 'infect': 2260, 'burst': 571, 'rinse': 3788, 'port': 3353, 'packet': 3143, 'relativity': 3681, 'classical': 763, 'spacetime': 4153, 'massive': 2717, 'trampoline': 4590, 'acceleration': 19, 'velocity': 4785, 'webpage': 4884, 'gold': 1958, 'shiny': 3996, 'angry': 190, 'cruel': 1055, 'degrade': 1147, 'effectiveness': 1432, 'client': 772, 'domain': 1334, 'nail': 2913, 'pleasant': 3311, 'catholic': 655, 'irrational': 2383, 'afraid': 99, 'brightness': 534, 'achievement': 41, 'grade': 1969, 'evaluate': 1561, 'unhealthy': 4694, 'pig': 3274, 'bee': 404, 'africa': 100, 'introduce': 2353, 'chocolate': 724, 'musician': 2902, 'musical': 2901, 'technically': 4434, 'conclusion': 891, 'flag': 1768, 'cooperation': 982, 'respond': 3748, 'vegetarian': 4782, 'chunk': 737, 'beef': 405, 'soup': 4143, 'universal': 4702, 'feather': 1703, 'coin': 805, 'mb': 2737, 'awful': 343, 'previous': 3413, 'dumb': 1388, 'dissipate': 1302, 'underground': 4678, 'industrial': 2254, 'shadow': 3974, 'irish': 2379, 'characterize': 695, 'folk': 1802, 'tempo': 4446, 'cannabis': 620, 'classify': 764, 'likelihood': 2581, 'chronic': 736, 'chemotherapy': 710, 'fda': 1701, 'traumatic': 4611, 'intention': 2329, 'disturb': 1317, 'align': 134, 'attraction': 318, 'sandwich': 3862, 'bread': 520, 'suck': 4323, 'galaxy': 1890, 'mysterious': 2908, 'philosophy': 3257, 'torrent': 4558, 'peer': 3213, 'isp': 2395, 'reliability': 3687, 'ecosystem': 1422, 'urban': 4733, 'absence': 6, 'dominance': 1337, 'boat': 477, 'fin': 1741, 'upright': 4725, 'moving': 2889, 'translate': 4600, 'sadness': 3846, 'bible': 434, 'baseball': 379, 'december': 1119, 'logic': 2620, 'poor': 3342, 'maker': 2670, 'welfare': 4894, 'combat': 821, 'incident': 2230, 'simultaneously': 4052, 'follower': 1805, 'commitment': 837, 'acne': 45, 'follicle': 1803, 'pore': 3349, 'infected': 2261, 'neck': 2944, 'prescription': 3399, 'cream': 1031, 'hedge': 2071, 'derivative': 1183, 'derive': 1184, 'leverage': 2558, 'intellectual': 2322, 'usb': 4743, 'driver': 1374, 'joint': 2429, 'propose': 3492, 'latin': 2505, 'distinction': 1307, 'standardized': 4224, 'convention': 966, 'stone': 4262, 'drag': 1358, 'fossil': 1829, 'correlation': 999, 'correlate': 998, 'brush': 546, 'tooth': 4552, 'oh': 3057, 'eating': 1415, 'alternate': 152, 'orient': 3100, 'relation': 3677, 'childhood': 719, 'penis': 3218, 'elevator': 1459, 'makeup': 2671, 'underwater': 4686, 'automatic': 331, 'database': 1097, 'aircraft': 118, 'outline': 3114, 'grant': 1979, 'infringement': 2277, 'creativity': 1035, 'reject': 3674, 'false': 1675, 'curious': 1071, 'lining': 2590, 'filter': 1740, 'tea': 4426, 'prosecution': 3495, 'diplomat': 1259, 'jail': 2407, 'possibly': 3364, 'appliance': 230, 'relies': 3690, 'reply': 3714, 'confirm': 904, 'obstacle': 3030, 'discriminate': 1286, 'basis': 382, 'shut': 4022, 'northern': 2993, 'hemisphere': 2079, 'intensity': 2327, 'dehydrate': 1149, 'hangover': 2034, 'inflammation': 2266, 'chemistry': 709, 'toxin': 4572, 'flame': 1769, 'phase': 3253, 'harmless': 2045, 'island': 2391, 'mode': 2837, 'aca': 16, 'constitutional': 933, 'prominent': 3472, 'pale': 3152, 'trick': 4622, 'grocery': 1998, 'household': 2145, 'coupon': 1014, 'loyalty': 2642, 'shop': 4008, 'better': 430, 'testament': 4465, 'symbolic': 4389, 'heaven': 2067, 'hell': 2075, 'literal': 2602, 'friday': 1858, 'sensitivity': 3941, 'excite': 1593, 'pregnancy': 3393, 'myth': 2910, 'pixel': 3293, 'ally': 141, 'dictator': 1231, 'frequent': 1854, 'roman': 3805, 'numeral': 3014, 'respectively': 3746, 'iv': 2404, 'healing': 2057, 'wound': 4968, 'rock': 3800, 'bury': 572, 'transform': 4594, 'crude': 1054, 'diesel': 1235, 'crucial': 1053, 'vagina': 4762, 'spark': 4159, 'racism': 3556, 'humor': 2157, 'suddenly': 4325, 'canadian': 612, 'medicare': 2754, 'resident': 3736, 'patient': 3197, 'administer': 74, 'revolution': 3774, 'lyric': 2650, 'poke': 3326, 'italian': 2400, 'cap': 621, 'hat': 2050, 'literally': 2603, 'wipe': 4934, 'lick': 2568, 'nap': 2916, 'abandon': 1, 'generator': 1916, 'detector': 1206, 'formatting': 1823, 'recreate': 3635, 'gang': 1897, 'involvement': 2370, 'poverty': 3374, 'manslaughter': 2690, 'conspiracy': 929, 'involuntary': 2368, 'drunk': 1383, 'propagate': 3482, 'amplifier': 175, 'filament': 1733, 'added': 62, 'largely': 2499, 'bounce': 505, 'occurs': 3039, 'awkward': 344, 'restore': 3756, 'interference': 2340, 'negatively': 2948, 'glow': 1948, 'james': 2409, 'minor': 2819, 'ignite': 2185, 'nozzle': 3006, 'govern': 1963, 'persian': 3240, 'tricky': 4623, 'shell': 3990, 'manual': 2691, 'clutch': 792, 'pedal': 3211, 'stall': 4219, 'shock': 4003, 'firm': 1758, 'cluster': 791, 'sake': 3852, 'shelter': 3991, 'retail': 3760, 'roughly': 3819, 'versus': 4793, 'honor': 2123, 'worship': 4964, 'pack': 3140, 'ruin': 3831, 'compression': 878, 'compress': 876, 'induce': 2253, 'repeat': 3708, 'suggestion': 4332, 'understood': 4685, 'library': 2565, 'article': 269, 'optical': 3083, 'count': 1008, 'twin': 4654, 'identical': 2178, 'settle': 3961, 'tail': 4408, 'logo': 2622, 'bbc': 392, 'corporation': 994, 'translation': 4601, 'destructive': 1202, 'decent': 1120, 'unfortunately': 4692, 'retirement': 3765, 'pound': 3372, 'ten': 4449, 'ownership': 3136, 'negotiation': 2950, 'commission': 835, 'captain': 629, 'bite': 454, 'poison': 3323, 'venom': 4786, 'strongly': 4292, 'biology': 445, 'deny': 1172, 'surprising': 4363, 'shiver': 4002, 'mac': 2651, 'cry': 1059, 'poop': 3341, 'inherently': 2282, 'spanish': 4157, 'january': 2410, 'magazine': 2655, 'cartoon': 643, 'terrible': 4458, 'defensive': 1142, 'homosexuality': 2118, 'cuban': 1063, 'cuba': 1062, 'import': 2214, 'dominate': 1339, 'ultimate': 4668, 'humidity': 2156, 'practically': 3379, 'accomplish': 29, 'ethnic': 1555, 'pump': 3521, 'sector': 3914, 'reduced': 3644, 'compressed': 877, 'observe': 3028, 'passport': 3188, 'visa': 4817, 'thumb': 4511, 'jacket': 2406, 'pant': 3158, 'cruise': 1056, 'rev': 3769, 'expire': 1625, 'knee': 2468, 'fashion': 1687, 'gamble': 1892, 'appoint': 234, 'approval': 238, 'council': 1007, 'torque': 4557, 'instant': 2307, 'semi': 3931, 'clone': 779, 'zone': 4998, 'ahead': 113, 'unemployment': 4688, 'unemployed': 4687, 'employ': 1480, 'enhance': 1506, 'royalty': 3827, 'entitle': 1518, 'occupation': 3036, 'calculus': 599, 'discovery': 1285, 'dot': 1348, 'digit': 1249, 'collective': 812, 'nasal': 2920, 'dive': 1318, 'skull': 4072, 'supplier': 4348, 'shipping': 3998, 'pause': 3201, 'hockey': 2104, 'subreddit': 4309, 'pair': 3150, 'username': 4750, 'overwhelm': 3130, 'establishment': 1548, 'eastern': 1412, 'suppress': 4354, 'disappear': 1274, 'michael': 2792, 'drown': 1380, 'swim': 4382, 'flood': 1784, 'syndrome': 4393, 'defect': 1138, 'chaos': 690, 'rebuild': 3615, 'sexuality': 3971, 'minimal': 2814, 'cooking': 976, 'boil': 481, 'george': 1927, 'ghost': 1934, 'reference': 3647, 'justify': 2444, 'overview': 3129, 'labour': 2484, 'democrat': 1161, 'scotland': 3895, 'renewable': 3704, 'hostile': 2139, 'director': 1264, 'shareholder': 3982, 'shortly': 4015, 'purple': 3530, 'fade': 1664, 'seven': 3964, 'occasion': 3034, 'paperwork': 3160, 'upvotes': 4729, 'stranger': 4274, 'facebook': 1657, 'guilt': 2013, 'relief': 3689, 'alarm': 124, 'collision': 816, 'foil': 1799, 'ab': 0, 'equip': 1533, 'alien': 133, 'protester': 3503, 'agriculture': 112, 'novel': 3003, 'submission': 4307, 'porn': 3351, 'explicit': 1628, 'mystery': 2909, 'diabetes': 1218, 'adjustment': 73, 'insulin': 2314, 'beauty': 400, 'swing': 4383, 'election': 1446, 'electoral': 1448, 'campaign': 609, 'faucet': 1695, 'walmart': 4851, 'crack': 1022, 'knuckle': 2475, 'reactor': 3596, 'simplified': 4047, 'uranium': 4732, 'neutron': 2966, 'nucleus': 3011, 'fission': 1762, 'grid': 1995, 'wrap': 4970, 'dictionary': 1233, 'lighter': 2576, 'complicated': 869, 'boom': 490, 'somewhat': 4130, 'award': 338, 'highlight': 2090, 'eligible': 1461, 'dash': 1095, 'hello': 2076, 'england': 1504, 'dutch': 1393, 'suspend': 4373, 'satan': 3863, 'hebrew': 2070, 'devil': 1216, 'greek': 1991, 'convince': 973, 'ion': 2371, 'charger': 697, 'pharmacist': 3252, 'diamond': 1225, 'jewelry': 2423, 'chair': 682, 'pacific': 3139, 'fiction': 1725, 'domestic': 1335, 'cousin': 1017, 'domesticate': 1336, 'bang': 368, 'lifetime': 2573, 'tract': 4576, 'thoroughly': 4496, 'surgeon': 4359, 'shrink': 4021, 'outweigh': 3119, 'descend': 1185, 'germanic': 1930, 'related': 3676, 'swear': 4377, 'entropy': 1520, 'randomness': 3574, 'jar': 2413, 'thermodynamics': 4487, 'proton': 3505, 'isotope': 2394, 'alpha': 146, 'beta': 429, 'chernobyl': 711, 'hiv': 2103, 'paralysis': 3165, 'hang': 2033, 'clip': 776, 'fingerprint': 1751, 'peanut': 3210, 'cop': 984, 'singing': 4058, 'singer': 4057, 'lesson': 2552, 'pregnant': 3394, 'testosterone': 4468, 'bonus': 488, 'racist': 3557, 'monarch': 2855, 'butterfly': 580, 'ant': 200, 'attitude': 315, 'shave': 3985, 'subreddits': 4310, 'width': 4918, 'dimension': 1254, 'excellent': 1587, 'pipeline': 3285, 'liberty': 2563, 'editor': 1425, 'transparent': 4604, 'shortage': 4011, 'glue': 1950, 'chemically': 708, 'king': 2464, 'david': 1100, 'mary': 2713, 'royal': 3826, 'slight': 4081, 'impression': 2220, 'dilation': 1251, 'sync': 4392, 'reverse': 3772, 'pronunciation': 3478, 'banana': 365, 'capitalism': 627, 'complain': 862, 'commodity': 839, 'used': 4746, 'volatile': 4830, 'kidney': 2453, 'concert': 889, 'primate': 3422, 'lord': 2630, 'noble': 2983, 'truly': 4634, 'lobbyist': 2612, 'define': 1144, 'pupil': 3525, 'iron': 2380, 'wwii': 4977, 'weaken': 4876, 'prescribe': 3398, 'forest': 1816, 'manager': 2682, 'fantasy': 1681, 'identification': 2179, 'id': 2174, 'defendant': 1140, 'proven': 3507, 'reasonable': 3611, 'doubt': 1350, 'erection': 1540, 'passage': 3184, 'somehow': 4126, 'halo': 2028, 'angel': 186, 'literature': 2604, 'prevalent': 3410, 'spicy': 4182, 'hybrid': 2167, 'reactive': 3595, 'programmer': 3462, 'forget': 1818, 'scenario': 3882, 'hidden': 2085, 'ladder': 2487, 'hunter': 2163, 'exhaust': 1606, 'testicle': 4466, 'warming': 4859, 'coal': 796, 'windshield': 4929, 'urge': 4734, 'pricing': 3417, 'disgust': 1291, 'polar': 3328, 'led': 2535, 'semiconductor': 3932, 'helicopter': 2073, 'admit': 77, 'senior': 3936, 'duration': 1391, 'fm': 1795, 'lucid': 2643, 'journal': 2431, 'circumcision': 747, 'trained': 4587, 'experienced': 1620, 'bleeding': 464, 'tape': 4419, 'amplify': 176, 'analog': 178, 'continuous': 950, 'anarchist': 182, 'adrenaline': 79, 'desk': 1196, 'spinal': 4187, 'cute': 1080, 'explicitly': 1629, 'windows': 4928, 'boiling': 482, 'specify': 4170, 'weird': 4892, 'theorem': 4478, 'purely': 3529, 'demonstrate': 1164, 'announce': 194, 'stove': 4268, 'ignition': 2186, 'ring': 3787, 'upwards': 4731, 'vowel': 4841, 'array': 263, 'steroid': 4249, 'missile': 2828, 'dealer': 1110, 'tightly': 4522, 'prohibition': 3468, 'overwhelming': 3131, 'therapist': 4482, 'netherlands': 2959, 'taller': 4415, 'mint': 2821, 'cult': 1066, 'extent': 1646, 'steep': 4244, 'aroma': 259, 'pretend': 3408, 'dns': 1327, 'register': 3666, 'russian': 3842, 'nuke': 3012, 'simulation': 4051, 'xbox': 4979, 'relaxation': 3683, 'rifle': 3785, 'accuracy': 36, 'caliber': 601, 'ammunition': 170, 'firearm': 1755, 'chamber': 685, 'integral': 2318, 'interval': 2348, 'co': 794, 'rectangle': 3638, 'polynomial': 3338, 'spine': 4188, 'exhale': 1605, 'disc': 1276, 'dvd': 1395, 'pyramid': 3536, 'egypt': 1439, 'desert': 1188, 'truth': 4637, 'welcome': 4893, 'heating': 2066, 'brick': 529, 'martial': 2710, 'wrist': 4971, 'focused': 1798, 'equity': 1535, 'wonder': 4950, 'chaotic': 691, 'hierarchy': 2087, 'devote': 1217, 'projectile': 3470, 'armor': 257, 'bore': 494, 'dig': 1245, 'plus': 3317, 'continent': 948, 'explorer': 1634, 'citizenship': 753, 'margin': 2701, 'submarine': 4306, 'corporate': 993, 'climb': 774, 'chat': 701, 'lunch': 2647, 'kid': 2452, 'rescue': 3730, 'dragon': 1359, 'metaphor': 2783, 'faint': 1668, 'grows': 2004, 'detroit': 1209, 'atp': 307, 'dryer': 1385, 'stain': 4217, 'immigration': 2205, 'teenager': 4438, 'exclusively': 1598, 'vanilla': 4769, 'cake': 594, 'asian': 279, 'printing': 3430, 'tight': 4521, 'slide': 4080, 'karma': 2445, 'contribution': 958, 'unite': 4700, 'tribe': 4621, 'atmospheric': 304, 'empathy': 1475, 'manipulation': 2688, 'illustrate': 2196, 'compensate': 854, 'harmony': 2046, 'mutual': 2907, 'diarrhea': 1227, 'bacon': 352, 'powder': 3375, 'medicine': 2756, 'nsa': 3008, 'scandal': 3876, 'comcast': 825, 'optic': 3082, 'strand': 4272, 'diameter': 1224, 'spiral': 4190, 'recruit': 3637, 'scheme': 3886, 'kilogram': 2457, 'kg': 2450, 'wolf': 4948, 'grab': 1968, 'singularity': 4060, 'expansion': 1613, 'contraction': 953, 'framework': 1840, 'microwave': 2797, 'scam': 3874, 'gamma': 1896, 'accumulate': 35, 'turkey': 4647, 'pork': 3350, 'bleed': 463, 'bulk': 560, 'selling': 3930, 'sophisticated': 4137, 'lego': 2544, 'twelve': 4651, 'flu': 1790, 'abortion': 5, 'tattoo': 4424, 'repeatedly': 3709, 'higgs': 2088, 'boson': 499, 'smash': 4091, 'physicist': 3267, 'overwrite': 3132, 'blank': 460, 'bush': 574, 'wedding': 4886, 'beach': 393, 'venture': 4787, 'auto': 329, 'hong': 2122, 'kong': 2476, 'taiwan': 4409, 'architecture': 248, 'activate': 50, 'latter': 2507, 'objective': 3025, 'narrative': 2917, 'ultraviolet': 4670, 'uv': 4756, 'rat': 3583, 'registry': 3667, 'configuration': 903, 'apps': 242, 'pop': 3344, 'weed': 4887, 'marker': 2705, 'stance': 4221, 'roof': 3809, 'index': 2246, 'investigator': 2363, 'riot': 3789, 'intestine': 2352, 'clog': 778, 'overseas': 3127, 'alliance': 138, 'greece': 1990, 'intervene': 2349, 'mexico': 2791, 'hero': 2081, 'bail': 358, 'equally': 1529, 'cue': 1065, 'remote': 3699, 'iran': 2376, 'overthrow': 3128, 'shooter': 4006, 'slot': 4086, 'hill': 2093, 'denomination': 1166, 'swiss': 4384, 'pope': 3345, 'uniform': 4695, 'whale': 4899, 'specially': 4166, 'gps': 1966, 'proof': 3479, 'infringe': 2276, 'offender': 3046, 'denial': 1165, 'historian': 2097, 'script': 3900, 'mainly': 2663, 'dwarf': 1396, 'tide': 4517, 'fallacy': 1674, 'assume': 295, 'comic': 831, 'critic': 1046, 'asteroid': 297, 'euro': 1558, 'monetary': 2857, 'substitute': 4316, 'piston': 3289, 'shaft': 3975, 'horsepower': 2135, 'gym': 2020, 'circular': 744, 'calendar': 600, 'guy': 2019, 'parliament': 3170, 'cancerous': 616, 'grammatical': 1975, 'de': 1105, 'wallet': 4850, 'subtle': 4317, 'politically': 3333, 'cloth': 785, 'cooling': 980, 'parallel': 3164, 'gpu': 1967, 'writer': 4973, 'transplant': 4605, 'enable': 1486, 'yawn': 4981, 'clever': 770, 'tomorrow': 4547, 'severely': 3967, 'unconscious': 4676, 'monopoly': 2862, 'switzerland': 4386, 'fancy': 1680, 'lever': 2557, 'revolutionary': 3775, 'emperor': 1476, 'besides': 426, 'fetch': 1720, 'atlantic': 301, 'mandarin': 2683, 'dice': 1228, 'probability': 3441, 'conference': 900, 'spike': 4184, 'toe': 4539, 'functional': 1876, 'zombie': 4997, 'lag': 2489, 'happens': 2036, 'bass': 384, 'closed': 781, 'retina': 3763, 'artificially': 272, 'bake': 359, 'fracking': 1837, 'buyer': 583, 'allocate': 139, 'stake': 4218, 'homeowner': 2115, 'rural': 3839, 'prediction': 3389, 'knot': 2471, 'twist': 4655, 'ambulance': 164, 'horn': 2131, 'merchant': 2774, 'socially': 4110, 'hip': 2094, 'compute': 882, 'mainstream': 2664, 'conclude': 890, 'mayor': 2736, 'moderator': 2842, 'none': 2988, 'hose': 2136, 'span': 4156, 'partial': 3173, 'turbulence': 4645, 'thanks': 4474, 'choke': 726, 'cd': 660, 'breach': 519, 'microsoft': 2796, 'gb': 1907, 'byte': 587, 'inefficient': 2256, 'burger': 568, 'shirt': 3999, 'directx': 1266, 'impressive': 2221, 'leap': 2529, 'february': 1705, 'android': 185, 'bundle': 566, 'buying': 584, 'projection': 3471, 'rational': 3588, 'belly': 418, 'placement': 3297, 'horizon': 2128, 'notation': 2996, 'scare': 3879, 'dump': 1389, 'stiff': 4253, 'bankruptcy': 372, 'rotor': 3817, 'jack': 2405, 'queen': 3544, 'sword': 4387, 'displacement': 1297, 'homeless': 2114, 'protestant': 3502, 'neutrality': 2965, 'economically': 1418, 'refugee': 3658, 'displace': 1296, 'demographic': 1163, 'melody': 2761, 'understandable': 4683, 'statistical': 4236, 'ddos': 1104, 'hitler': 2102, 'committee': 838, 'speculate': 4172, 'magnitude': 2660, 'stadium': 4214, 'voter': 4839, 'equation': 1530, 'applies': 232, 'diagnosis': 1220, 'county': 1012, 'groove': 1999, 'rebel': 3614, 'grasp': 1983, 'bracket': 513, 'dividend': 1322, 'via': 4797, 'gross': 2000, 'gdp': 1908, 'fence': 1719, 'unknown': 4706, 'stationary': 4234, 'ac': 15, 'toward': 4566, 'genuine': 1925, 'california': 602, 'upper': 4724, 'speculation': 4173, 'plutonium': 3318, 'jupiter': 2440, 'periodic': 3234, 'cheat': 703, 'exam': 1583, 'correction': 996, 'disable': 1270, 'permit': 3238, 'fcc': 1700, 'ebola': 1416, 'deviation': 1214, 'beard': 397, 'lastly': 2502, 'cocaine': 799, 'trail': 4585, 'dilute': 1252, 'neuron': 2962, 'al': 123, 'known': 2474, 'backwards': 351, 'extension': 1644, 'stabilize': 4211, 'coffee': 802, 'indian': 2248, 'flip': 1782, 'definitely': 1145, 'conversion': 969, 'photon': 3262, 'coach': 795, 'cartridge': 644, 'pen': 3214, 'blur': 474, 'ottoman': 3109, 'treasury': 4613, 'ordinary': 3093, 'door': 1344, 'prisoner': 3435, 'theoretical': 4479, 'hotter': 2142, 'incredibly': 2240, 'orchestra': 3091, 'forever': 1817, 'rap': 3577, 'recession': 3622, 'homo': 2116, 'nowadays': 3004, 'la': 2479, 'flour': 1787, 'pulse': 3520, 'encode': 1487, 'marine': 2703, 'coke': 806, 'invite': 2367, 'membership': 2764, 'immigrant': 2204, 'author': 326, 'binary': 442, 'equivalent': 1536, 'silver': 4040, 'nobody': 2984, 'scroll': 3901, 'rail': 3566, 'plasma': 3304, 'clarity': 760, 'junk': 2439, 'magnet': 2658, 'repel': 3710, 'bay': 391, 'hook': 2124, 'stuck': 4295, 'communism': 844, 'bottled': 503, 'palestine': 3153, 'citation': 750, 'deduction': 1132, 'gluten': 1951, 'gallon': 1891, 'cent': 671, 'graph': 1981, 'britain': 536, 'vertical': 4794, 'propeller': 3484, 'belt': 420, 'antidepressant': 205, 'suicidal': 4333, 'former': 1824, 'bother': 501, 'chicago': 715, 'compile': 860, 'outright': 3116, 'mining': 2817, 'razor': 3591, 'everywhere': 1574, 'briefly': 532, 'verbal': 4789, 'reasoning': 3613, 'sunni': 4344, 'syrian': 4397, 'observer': 3029, 'placebo': 3296, 'contest': 946, 'rape': 3578, 'prime': 3423, 'garden': 1900, 'amazing': 161, 'explosive': 1636, 'prostitution': 3496, 'gate': 1903, 'manifest': 2685, 'horror': 2133, 'castle': 650, 'www': 4978, 'neighbor': 2951, 'excuse': 1599, 'lawn': 2512, 'squish': 4207, 'orthodox': 3106, 'priest': 3419, 'paul': 3200, 'ubuntu': 4663, 'linux': 2592, 'kernel': 2447, 'intuitive': 2354, 'subscriber': 4311, 'apparently': 224, 'bet': 428, 'paradox': 3162, 'roth': 3816, 'ira': 2375, 'brokerage': 541, 'libya': 2566, 'faction': 1661, 'tackle': 4405, 'mormon': 2870, 'crazy': 1030, 'comedian': 827, 'unlimited': 4710, 'assembly': 287, 'python': 3537, 'java': 2414, 'compiler': 861, 'supporter': 4351, 'chess': 712, 'propaganda': 3481, 'insight': 2301, 'bitcoin': 452, 'bitcoins': 453, 'rand': 3571, 'overly': 3125, 'simplify': 4048, 'socket': 4113, 'worried': 4961, 'minecraft': 2812, 'craft': 1023, 'imperial': 2209, 'einstein': 1442, 'bat': 385, 'batsman': 388, 'bid': 436, 'crap': 1025, 'font': 1807, 'javascript': 2415, 'ethic': 1553, 'alice': 132, 'dispute': 1300, 'marx': 2712, 'elector': 1447, 'sour': 4144, 'bud': 551, 'verb': 4788, 'firefox': 1756, 'twitter': 4657, 'blog': 468, 'troll': 4628, 'chapter': 692, 'lucky': 2645, 'israel': 2397, 'birthday': 448, 'chord': 729, 'deficit': 1143, 'lazy': 2518, 'monkey': 2861, 'badly': 356, 'barely': 375, 'hiccup': 2084, 'acidic': 43, 'pointer': 3322, 'shin': 3994, 'upside': 4728, 'tan': 4416, 'principal': 3426, 'pitcher': 3292, 'runner': 3836, 'tech': 4432, 'lawsuit': 2513, 'dictatorship': 1232, 'officially': 3053, 'rpm': 3828, 'maybe': 2735, 'scalp': 3873, 'petrol': 3250, 'flammable': 1770, 'towel': 4568, 'evaporation': 1563, 'visualize': 4822, 'lump': 2646, 'valley': 4765, 'extinct': 1648, 'volcano': 4831, 'donnie': 1342, 'rabbit': 3553, 'frank': 1842, 'sacrifice': 3844, 'quote': 3552, 'album': 125, 'mm': 2834, 'radical': 3561, 'wikipedia': 4922, 'inertia': 2258, 'pan': 3155, 'spray': 4201, 'foam': 1796, 'circumference': 748, 'sister': 4062, 'paragraph': 3163, 'homosexual': 2117, 'abundant': 13, 'egyptian': 1440, 'upward': 4730, 'perpetual': 3239, 'shortcut': 4012, 'mall': 2676, 'stamp': 4220, 'monster': 2864, 'throttle': 4507, 'baptist': 373, 'zoom': 4999, 'swap': 4376, 'rainbow': 3568, 'micro': 2793, 'arithmetic': 254, 'capitalist': 628, 'cod': 800, 'vector': 4780, 'consensus': 917, 'secondly': 3911, 'antibiotic': 203, 'hey': 2083, 'mathematician': 2725, 'envelope': 1522, 'openly': 3071, 'honestly': 2120, 'crankshaft': 1024, 'centrifugal': 675, 'silence': 4036, 'artery': 268, 'nutshell': 3021, 'basically': 381, 'geometry': 1926, 'tunnel': 4643, 'wife': 4919, 'tickle': 4516, 'pathway': 3196, 'laughter': 2509, 'carrier': 640, 'dopamine': 1345, 'matrix': 2727, 'directory': 1265, 'adam': 58, 'economist': 1420, 'slope': 4085, 'compressor': 879, 'fuse': 1886, 'nationalism': 2924, 'pension': 3220, 'fraternity': 1843, 'sauron': 3867, 'censor': 669, 'martin': 2711, 'nixon': 2982, 'washington': 4865, 'fbi': 1699, 'finite': 1753, 'unix': 4705, 'necessity': 2943, 'trope': 4630, 'mosquito': 2873, 'hash': 2049, 'endorphin': 1494, 'agenda': 105, 'steak': 4240, 'irony': 2382, 'ironic': 2381, 'autism': 328, 'arab': 243, 'palestinian': 3154, 'israeli': 2398, 'master': 2718, 'turing': 4646, 'bot': 500, 'api': 220, 'integrate': 2319, 'intel': 2321, 'proportional': 3490, 'dc': 1103, 'horizontal': 2129, 'radius': 3564, 'radian': 3559, 'neat': 2940, 'weekend': 4889, 'worldwide': 4959, 'cite': 751, 'hunger': 2160, 'primitive': 3424, 'impulse': 2224, 'pot': 3368, 'bos': 498, 'bound': 506, 'quark': 3542, 'refrigerator': 3657, 'refrigerant': 3656, 'petition': 3249, 'piss': 3288, 'spinning': 4189, 'adhd': 71, 'bachelor': 347, 'screw': 3899, 'lemonade': 2546, 'bishop': 449, 'rome': 3806, 'ridge': 3783, 'camp': 608, 'minister': 2818, 'wise': 4938, 'district': 1316, 'buffalo': 554, 'increasingly': 2238, 'simplicity': 4046, 'afghanistan': 98, 'nowhere': 3005, 'blame': 459, 'manifold': 2686, 'syntax': 4394, 'possess': 3360, 'gm': 1952, 'yeast': 4984, 'thereby': 4484, 'turtle': 4649, 'jerk': 2419, 'np': 3007, 'voting': 4840, 'governor': 1965, 'bell': 417, 'pepper': 3222, 'spain': 4154, 'carbs': 634, 'column': 820, 'lady': 2488, 'actively': 52, 'utilize': 4755, 'era': 1538, 'parody': 3171, 'virtually': 4815, 'dye': 1398, 'hub': 2150, 'metric': 2789, 'elite': 1463, 'dealership': 1111, 'inventory': 2359, 'individually': 2252, 'as': 276, 'spouse': 4200, 'boring': 495, 'segment': 3922, 'atheist': 299, 'circlejerk': 742, 'crave': 1028, 'curse': 1075, 'decibel': 1121, 'shout': 4018, 'daughter': 1099, 'fault': 1696, 'implant': 2210, 'quicker': 3547, 'twitch': 4656, 'liberalism': 2561, 'meaningless': 2742, 'max': 2731, 'rarely': 3582, 'hypothesis': 2171, 'aperture': 219, 'wow': 4969, 'poll': 3336, 'deductible': 1131, 'modem': 2839, 'bolt': 483, 'dy': 1397, 'grandfather': 1977, 'analogy': 179, 'sibling': 4025, 'zip': 4996, 'nitrogen': 2981, 'essence': 1544, 'vietnam': 4804, 'romney': 3807, 'linear': 2589, 'fps': 1836, 'tick': 4514, 'australian': 325, 'lobby': 2611, 'pokemon': 3327, 'shoulder': 4017, 'fool': 1809, 'armenian': 256, 'garbage': 1899, 'husband': 2166, 'buffer': 555, 'bankrupt': 371, 'ie': 2184, 'burden': 567, 'fridge': 1859, 'freezer': 1850, 'flesh': 1778, 'making': 2672, 'delegate': 1152, 'meanwhile': 2744, 'monk': 2860, 'enterprise': 1513, 'ping': 3282, 'tinnitus': 4528, 'emulate': 1485, 'tourist': 4565, 'shallow': 3978, 'earwax': 1407, 'hull': 2152, 'joe': 2426, 'trump': 4635, 'algebra': 130, 'pm': 3319, 'serotonin': 3954, 'mod': 2836, 'march': 2700, 'passing': 3186, 'slit': 4084, 'ex': 1580, 'usable': 4741, 'ape': 218, 'irs': 2386, 'spare': 4158, 'nipple': 2980, 'starting': 4228, 'sunday': 4342, 'chief': 717, 'occasionally': 3035, 'mutate': 2905, 'extensive': 1645, 'illuminati': 2194, 'rip': 3790, 'lottery': 2635, 'statistic': 4235, 'clinton': 775, 'blueprint': 473, 'substantial': 4315, 'terribly': 4459, 'fell': 1714, 'fuck': 1869, 'sooner': 4136, 'lab': 2480, 'lemon': 2545, 'progression': 3465, 'dr': 1356, 'yesterday': 4988, 'incredible': 2239, 'ohm': 3058, 'ridiculous': 3784, 'ruling': 3834, 'champion': 686, 'firewall': 1757, 'rope': 3812, 'drift': 1369, 'bicycle': 435, 'indicator': 2250, 'caesar': 592, 'ambient': 163, 'ea': 1400, 'afterwards': 102, 'pi': 3268, 'ta': 4400, 'fellow': 1715, 'motorcycle': 2881, 'newton': 2971, 'jelly': 2418, 'reset': 3735, 'can': 610, 'divorce': 1324, 'sony': 4134, 'counter': 1009, 'enormous': 1509, 'partially': 3174, 'spy': 4204, 'starter': 4227, 'approximate': 240, 'odd': 3042, 'condense': 893, 'supposedly': 4353, 'tab': 4401, 'watermelon': 4869, 'boot': 492, 'grandparent': 1978, 'documentary': 1331, 'blast': 462, 'starve': 4229, 'awesome': 342, 'notion': 3001, 'wiki': 4921, 'detonate': 1208, 'anyway': 213, 'migraine': 2801, 'dramatically': 1363, 'sideways': 4028, 'vague': 4763, 'reasonably': 3612, 'ceo': 677, 'nationalist': 2925, 'nightmare': 2978, 'prefix': 3392, 'mid': 2798, 'ukrainian': 4667, 'schizophrenia': 3887, 'bust': 576, 'asphalt': 285, 'camouflage': 607, 'tom': 4545, 'totally': 4562, 'skip': 4071, 'rob': 3798, 'methane': 2787, 'braille': 514, 'filler': 1737, 'odds': 3043, 'fart': 1685, 'sting': 4259, 'accounting': 34, 'saudi': 3866, 'arabia': 244, 'infant': 2259, 'paste': 3191, 'mph': 2890, 'penetrate': 3217, 'village': 4808, 'remotely': 3700, 'cm': 793, 'perhaps': 3232, 'ssd': 4208, 'arc': 247, 'soccer': 4106, 'deem': 1133, 'pond': 3339, 'equilibrium': 1532, 'oral': 3087, 'sympathetic': 4390, 'fibonacci': 1724, 'apparent': 223, 'non': 2987, 'cease': 661, 'jean': 2417, 'borrower': 497, 'octane': 3041, 'counting': 1010, 'percent': 3225, 'insane': 2297, 'deploy': 1178, 'caste': 649, 'typo': 4662, 'generic': 1917, 'meta': 2780, 'consonant': 928, 'shampoo': 3979, 'arabic': 245, 'ok': 3060, 'payer': 3204, 'pathogen': 3195, 'obviously': 3033, 'amaze': 160, 'exceed': 1586, 'hz': 2172, 'rhyme': 3777, 'incoming': 2233, 'pillow': 3279, 'se': 3902, 'ph': 3251, 'till': 4524, 'textbook': 4471, 'stupid': 4300, 'gram': 1973, 'vastly': 4779, 'tier': 4519, 'abstraction': 12, 'ill': 2190, 'whoever': 4910, 'conventional': 967, 'disclaimer': 1279, 'hopefully': 2127, 'latitude': 2506, 'useless': 4748, 'lactose': 2486, 'lease': 2532, 'usa': 4740, 'arbitrary': 246, 'gon': 1960, 'comparable': 849, 'youth': 4993, 'shit': 4000, 'ton': 4548, 'premise': 3395, 'ish': 2387, 'mexican': 2790, 'multi': 2894, 'proxy': 3511, 'tile': 4523, 'dozen': 1355, 'toss': 4560, 'vs': 4842, 'gut': 2018, 'hence': 2080, 'tl': 4535, 'recessive': 3623, 'redditors': 3642, 'mathematically': 2724, 'neo': 2954, 'drastically': 1364, 'ale': 128, 'rep': 3706, 'ford': 1814, 'ussr': 4751, 'eg': 1437, 'compose': 873, 'lb': 2519, 'freak': 1845, 'threshold': 4504, 'trans': 4591, 'dick': 1229, 'lobster': 2613, 'wwi': 4976, 'sub': 4302, 'na': 2912, 'er': 1537, 'thus': 4513, 'centre': 674, 'notably': 2995, 'merely': 2776, 'sam': 3858, 'differential': 1240, 'buck': 549, 'usd': 4744, 'hardly': 2041, 'widget': 4917, 'importantly': 2217, 'libor': 2564, 'somebody': 4125, 'trivial': 4627, 'km': 2467, 'op': 3068, 'buddy': 552, 'anti': 202, 'wan': 4852, 'iirc': 2189, 'nt': 3009, 'shitty': 4001, 'anyways': 214, 'pre': 3381, 'horrible': 2132, 'surely': 4357, 'med': 2751, 'realise': 3603, 'fucking': 1870, 'asshole': 289, 'bullshit': 562, 'idiot': 2183, 'kinda': 2461, 'aka': 122, 'yeah': 4982, 'tldr': 4536, 'everybody': 1570, 'damn': 1088, 'presumably': 3407, 'dude': 1386, 'ideally': 2177, 'firstly': 1760, 'arguably': 250, 'info': 2270, 'whilst': 4907, 'likewise': 2583, 'nasty': 2921, 'temp': 4444, 'bitch': 451, 'alot': 145, 'amongst': 172, 'comprise': 880, 'nicely': 2975, 'recognise': 3627, 'ft': 1868, 'anybody': 209, 'dimensional': 1255, 'crappy': 1026, 'btw': 547, 'interestingly': 2337, 'surprisingly': 4364, 'gist': 1941, 'sec': 3908, 'askscience': 282, 'alright': 149}\n"
     ]
    }
   ],
   "source": [
    "print(Tfidf_vect.vocabulary_)"
   ]
  },
  {
   "cell_type": "code",
   "execution_count": 17,
   "metadata": {},
   "outputs": [
    {
     "name": "stdout",
     "output_type": "stream",
     "text": [
      "              precision    recall  f1-score   support\n",
      "\n",
      "       human       0.95      0.98      0.96     13535\n",
      "     chatgpt       0.94      0.86      0.89      4955\n",
      "\n",
      "    accuracy                           0.95     18490\n",
      "   macro avg       0.94      0.92      0.93     18490\n",
      "weighted avg       0.95      0.95      0.95     18490\n",
      "\n"
     ]
    }
   ],
   "source": [
    "RBF_SVM = svm.SVC(C=1.0, kernel='rbf')\n",
    "RBF_SVM.fit(Train_X_Tfidf,Train_Y)\n",
    "# predict the labels on validation dataset\n",
    "predictions_RBF_SVM = RBF_SVM.predict(Test_X_Tfidf)\n",
    "# Use accuracy_score function to get the accuracy\n",
    "# print(\"SVM Accuracy Score -> \",accuracy_score(predictions_RBF_SVM, Test_Y)*100)\n",
    "\n",
    "print(classification_report(Test_Y, predictions_RBF_SVM, target_names=['human', 'chatgpt']))"
   ]
  },
  {
   "cell_type": "code",
   "execution_count": 16,
   "metadata": {},
   "outputs": [
    {
     "name": "stdout",
     "output_type": "stream",
     "text": [
      "              precision    recall  f1-score   support\n",
      "\n",
      "       human       0.95      0.97      0.96     13675\n",
      "     chatgpt       0.90      0.86      0.88      4815\n",
      "\n",
      "    accuracy                           0.94     18490\n",
      "   macro avg       0.93      0.91      0.92     18490\n",
      "weighted avg       0.94      0.94      0.94     18490\n",
      "\n"
     ]
    }
   ],
   "source": [
    "SVM = svm.SVC(C=1.0, kernel='linear')\n",
    "SVM.fit(Train_X_Tfidf,Train_Y)\n",
    "# predict the labels on validation dataset\n",
    "predictions_SVM = SVM.predict(Test_X_Tfidf)\n",
    "# Use accuracy_score function to get the accuracy\n",
    "# print(\"SVM Accuracy Score -> \",accuracy_score(predictions_SVM, Test_Y)*100)\n",
    "\n",
    "print(classification_report(Test_Y, predictions_SVM, target_names=['human', 'chatgpt']))"
   ]
  },
  {
   "cell_type": "code",
   "execution_count": 15,
   "metadata": {},
   "outputs": [
    {
     "name": "stdout",
     "output_type": "stream",
     "text": [
      "              precision    recall  f1-score   support\n",
      "\n",
      "       human       0.95      0.97      0.96     13675\n",
      "     chatgpt       0.90      0.85      0.87      4815\n",
      "\n",
      "    accuracy                           0.94     18490\n",
      "   macro avg       0.92      0.91      0.91     18490\n",
      "weighted avg       0.93      0.94      0.93     18490\n",
      "\n"
     ]
    }
   ],
   "source": [
    "Sigmoid_SVM = svm.SVC(C=1.0, kernel='sigmoid')\n",
    "Sigmoid_SVM.fit(Train_X_Tfidf,Train_Y)\n",
    "# predict the labels on validation dataset\n",
    "predictions_Sigmoid_SVM = Sigmoid_SVM.predict(Test_X_Tfidf)\n",
    "# Use accuracy_score function to get the accuracy\n",
    "# print(\"SVM Accuracy Score -> \",accuracy_score(predictions_Sigmoid_SVM, Test_Y)*100)\n",
    "\n",
    "print(classification_report(Test_Y, predictions_Sigmoid_SVM, target_names=['human', 'chatgpt']))"
   ]
  },
  {
   "cell_type": "code",
   "execution_count": 18,
   "metadata": {},
   "outputs": [
    {
     "name": "stdout",
     "output_type": "stream",
     "text": [
      "SVM Accuracy Score ->  76.18712817739318\n"
     ]
    }
   ],
   "source": [
    "Polynomial_SVM = svm.SVC(C=1.0, kernel='poly', degree=5)\n",
    "Polynomial_SVM.fit(Train_X_Tfidf,Train_Y)\n",
    "# predict the labels on validation dataset\n",
    "predictions_Polynomial_SVM = Polynomial_SVM.predict(Test_X_Tfidf)\n",
    "# Use accuracy_score function to get the accuracy\n",
    "# print(\"SVM Accuracy Score -> \",accuracy_score(predictions_Polynomial_SVM, Test_Y)*100)\n",
    "\n",
    "print(classification_report(Test_Y, predictions_Polynomial_SVM, target_names=['human', 'chatgpt']))"
   ]
  },
  {
   "cell_type": "code",
   "execution_count": 18,
   "metadata": {},
   "outputs": [],
   "source": [
    "# save the model to disk\n",
    "import pickle\n",
    "with open('svm_model.pkl','wb') as f:\n",
    "    pickle.dump(RBF_SVM,f)"
   ]
  },
  {
   "cell_type": "code",
   "execution_count": null,
   "metadata": {},
   "outputs": [],
   "source": []
  }
 ],
 "metadata": {
  "kernelspec": {
   "display_name": "venv",
   "language": "python",
   "name": "python3"
  },
  "language_info": {
   "codemirror_mode": {
    "name": "ipython",
    "version": 3
   },
   "file_extension": ".py",
   "mimetype": "text/x-python",
   "name": "python",
   "nbconvert_exporter": "python",
   "pygments_lexer": "ipython3",
   "version": "3.10.6"
  },
  "orig_nbformat": 4
 },
 "nbformat": 4,
 "nbformat_minor": 2
}
