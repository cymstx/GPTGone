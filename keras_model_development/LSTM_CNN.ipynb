{
  "nbformat": 4,
  "nbformat_minor": 0,
  "metadata": {
    "colab": {
      "provenance": [],
      "collapsed_sections": [
        "ipYVd9hBHbIS",
        "ZbBZ-toJDimC",
        "NsnZICDHKMZd",
        "LHrj9-afZdvv",
        "8bosn7PUygQV",
        "HBQj35wnJcus",
        "aRdS5mZ_JXEv",
        "8Tdk3q8PtBYT",
        "k6tScBNsG23x"
      ]
    },
    "kernelspec": {
      "name": "python3",
      "display_name": "Python 3"
    },
    "language_info": {
      "name": "python"
    },
    "gpuClass": "standard",
    "accelerator": "GPU"
  },
  "cells": [
    {
      "cell_type": "markdown",
      "source": [
        "# Load dataset to train example model\n",
        "\n",
        "Add [this Google folder](https://drive.google.com/drive/folders/1K54qqwYtk1ADJlkptJNF-FfyjQ7R6KGC?usp=sharing) to your drive then adjust the paths in the `current_directory` variable "
      ],
      "metadata": {
        "id": "ipYVd9hBHbIS"
      }
    },
    {
      "cell_type": "code",
      "execution_count": null,
      "metadata": {
        "id": "WUEokDxV3G1T",
        "colab": {
          "base_uri": "https://localhost:8080/"
        },
        "outputId": "76e94406-cfe2-4d8c-b370-6d02758f3626"
      },
      "outputs": [
        {
          "output_type": "stream",
          "name": "stdout",
          "text": [
            "Mounted at /content/drive\n"
          ]
        }
      ],
      "source": [
        "import warnings\n",
        "warnings.filterwarnings(\"ignore\")\n",
        "\n",
        "from google.colab import drive\n",
        "import os\n",
        "drive.mount('/content/drive')"
      ]
    },
    {
      "cell_type": "code",
      "source": [
        "current_directory = \"/content/drive/MyDrive/AI/Trained models\"\n",
        "os.chdir(\"/content/drive/MyDrive/AI/Trained models\")"
      ],
      "metadata": {
        "id": "T7rT2_fz8uTW"
      },
      "execution_count": null,
      "outputs": []
    },
    {
      "cell_type": "code",
      "source": [
        "import pandas as pd"
      ],
      "metadata": {
        "id": "6zR03EqMHfCa"
      },
      "execution_count": null,
      "outputs": []
    },
    {
      "cell_type": "code",
      "source": [
        "df = pd.read_csv(\"Perplexity.csv\", encoding=\"latin1\")\n",
        "df.dropna(inplace=True)\n",
        "df['Mean Perplexity'] = df['Mean Perplexity'].astype(float)\n",
        "print(len(df))\n",
        "df.head(1)"
      ],
      "metadata": {
        "id": "lwH5eLIhHiij",
        "colab": {
          "base_uri": "https://localhost:8080/",
          "height": 99
        },
        "outputId": "012052a1-75b7-474a-dfe6-fce3c0a4b860"
      },
      "execution_count": null,
      "outputs": [
        {
          "output_type": "stream",
          "name": "stdout",
          "text": [
            "15979\n"
          ]
        },
        {
          "output_type": "execute_result",
          "data": {
            "text/plain": [
              "                                            question  \\\n",
              "0  What are squatter 's rights in California and ...   \n",
              "\n",
              "                                            Raw_Text  \\\n",
              "0  Adverse possession far predates the formation ...   \n",
              "\n",
              "                                                Text  Label  Mean Perplexity  \n",
              "0  adverse possession far predates formation u ho...      0        98.381706  "
            ],
            "text/html": [
              "\n",
              "  <div id=\"df-eed50fd0-a8de-4099-976a-c8ab6cf04bba\">\n",
              "    <div class=\"colab-df-container\">\n",
              "      <div>\n",
              "<style scoped>\n",
              "    .dataframe tbody tr th:only-of-type {\n",
              "        vertical-align: middle;\n",
              "    }\n",
              "\n",
              "    .dataframe tbody tr th {\n",
              "        vertical-align: top;\n",
              "    }\n",
              "\n",
              "    .dataframe thead th {\n",
              "        text-align: right;\n",
              "    }\n",
              "</style>\n",
              "<table border=\"1\" class=\"dataframe\">\n",
              "  <thead>\n",
              "    <tr style=\"text-align: right;\">\n",
              "      <th></th>\n",
              "      <th>question</th>\n",
              "      <th>Raw_Text</th>\n",
              "      <th>Text</th>\n",
              "      <th>Label</th>\n",
              "      <th>Mean Perplexity</th>\n",
              "    </tr>\n",
              "  </thead>\n",
              "  <tbody>\n",
              "    <tr>\n",
              "      <th>0</th>\n",
              "      <td>What are squatter 's rights in California and ...</td>\n",
              "      <td>Adverse possession far predates the formation ...</td>\n",
              "      <td>adverse possession far predates formation u ho...</td>\n",
              "      <td>0</td>\n",
              "      <td>98.381706</td>\n",
              "    </tr>\n",
              "  </tbody>\n",
              "</table>\n",
              "</div>\n",
              "      <button class=\"colab-df-convert\" onclick=\"convertToInteractive('df-eed50fd0-a8de-4099-976a-c8ab6cf04bba')\"\n",
              "              title=\"Convert this dataframe to an interactive table.\"\n",
              "              style=\"display:none;\">\n",
              "        \n",
              "  <svg xmlns=\"http://www.w3.org/2000/svg\" height=\"24px\"viewBox=\"0 0 24 24\"\n",
              "       width=\"24px\">\n",
              "    <path d=\"M0 0h24v24H0V0z\" fill=\"none\"/>\n",
              "    <path d=\"M18.56 5.44l.94 2.06.94-2.06 2.06-.94-2.06-.94-.94-2.06-.94 2.06-2.06.94zm-11 1L8.5 8.5l.94-2.06 2.06-.94-2.06-.94L8.5 2.5l-.94 2.06-2.06.94zm10 10l.94 2.06.94-2.06 2.06-.94-2.06-.94-.94-2.06-.94 2.06-2.06.94z\"/><path d=\"M17.41 7.96l-1.37-1.37c-.4-.4-.92-.59-1.43-.59-.52 0-1.04.2-1.43.59L10.3 9.45l-7.72 7.72c-.78.78-.78 2.05 0 2.83L4 21.41c.39.39.9.59 1.41.59.51 0 1.02-.2 1.41-.59l7.78-7.78 2.81-2.81c.8-.78.8-2.07 0-2.86zM5.41 20L4 18.59l7.72-7.72 1.47 1.35L5.41 20z\"/>\n",
              "  </svg>\n",
              "      </button>\n",
              "      \n",
              "  <style>\n",
              "    .colab-df-container {\n",
              "      display:flex;\n",
              "      flex-wrap:wrap;\n",
              "      gap: 12px;\n",
              "    }\n",
              "\n",
              "    .colab-df-convert {\n",
              "      background-color: #E8F0FE;\n",
              "      border: none;\n",
              "      border-radius: 50%;\n",
              "      cursor: pointer;\n",
              "      display: none;\n",
              "      fill: #1967D2;\n",
              "      height: 32px;\n",
              "      padding: 0 0 0 0;\n",
              "      width: 32px;\n",
              "    }\n",
              "\n",
              "    .colab-df-convert:hover {\n",
              "      background-color: #E2EBFA;\n",
              "      box-shadow: 0px 1px 2px rgba(60, 64, 67, 0.3), 0px 1px 3px 1px rgba(60, 64, 67, 0.15);\n",
              "      fill: #174EA6;\n",
              "    }\n",
              "\n",
              "    [theme=dark] .colab-df-convert {\n",
              "      background-color: #3B4455;\n",
              "      fill: #D2E3FC;\n",
              "    }\n",
              "\n",
              "    [theme=dark] .colab-df-convert:hover {\n",
              "      background-color: #434B5C;\n",
              "      box-shadow: 0px 1px 3px 1px rgba(0, 0, 0, 0.15);\n",
              "      filter: drop-shadow(0px 1px 2px rgba(0, 0, 0, 0.3));\n",
              "      fill: #FFFFFF;\n",
              "    }\n",
              "  </style>\n",
              "\n",
              "      <script>\n",
              "        const buttonEl =\n",
              "          document.querySelector('#df-eed50fd0-a8de-4099-976a-c8ab6cf04bba button.colab-df-convert');\n",
              "        buttonEl.style.display =\n",
              "          google.colab.kernel.accessAllowed ? 'block' : 'none';\n",
              "\n",
              "        async function convertToInteractive(key) {\n",
              "          const element = document.querySelector('#df-eed50fd0-a8de-4099-976a-c8ab6cf04bba');\n",
              "          const dataTable =\n",
              "            await google.colab.kernel.invokeFunction('convertToInteractive',\n",
              "                                                     [key], {});\n",
              "          if (!dataTable) return;\n",
              "\n",
              "          const docLinkHtml = 'Like what you see? Visit the ' +\n",
              "            '<a target=\"_blank\" href=https://colab.research.google.com/notebooks/data_table.ipynb>data table notebook</a>'\n",
              "            + ' to learn more about interactive tables.';\n",
              "          element.innerHTML = '';\n",
              "          dataTable['output_type'] = 'display_data';\n",
              "          await google.colab.output.renderOutput(dataTable, element);\n",
              "          const docLink = document.createElement('div');\n",
              "          docLink.innerHTML = docLinkHtml;\n",
              "          element.appendChild(docLink);\n",
              "        }\n",
              "      </script>\n",
              "    </div>\n",
              "  </div>\n",
              "  "
            ]
          },
          "metadata": {},
          "execution_count": 9
        }
      ]
    },
    {
      "cell_type": "code",
      "source": [
        "print(max(df[\"Mean Perplexity\"]))\n",
        "print(min(df[\"Mean Perplexity\"]))"
      ],
      "metadata": {
        "colab": {
          "base_uri": "https://localhost:8080/"
        },
        "id": "VgHD6ngZaBDI",
        "outputId": "a1c09d90-ee55-4962-9d43-acd2a1df41d2"
      },
      "execution_count": null,
      "outputs": [
        {
          "output_type": "stream",
          "name": "stdout",
          "text": [
            "24966.77449\n",
            "8.212570071\n"
          ]
        }
      ]
    },
    {
      "cell_type": "markdown",
      "source": [
        "Conduct normalisation on numeric column -- mean perplexity"
      ],
      "metadata": {
        "id": "Bu0HNY3P3eEO"
      }
    },
    {
      "cell_type": "code",
      "source": [
        "from sklearn.preprocessing import MinMaxScaler\n",
        "import numpy as np\n",
        "#Normalize perplexity features -- MinMax scaling\n",
        "df[\"Mean Perplexity\"] = MinMaxScaler().fit_transform(np.array(df[\"Mean Perplexity\"]).reshape(-1,1))  \n",
        "df.head(1)"
      ],
      "metadata": {
        "id": "3DxQ9ZU_RF1I",
        "colab": {
          "base_uri": "https://localhost:8080/",
          "height": 81
        },
        "outputId": "61ada336-93c2-41a5-ea53-bb101de33695"
      },
      "execution_count": null,
      "outputs": [
        {
          "output_type": "execute_result",
          "data": {
            "text/plain": [
              "                                            question  \\\n",
              "0  What are squatter 's rights in California and ...   \n",
              "\n",
              "                                            Raw_Text  \\\n",
              "0  Adverse possession far predates the formation ...   \n",
              "\n",
              "                                                Text  Label  Mean Perplexity  \n",
              "0  adverse possession far predates formation u ho...      0         0.003613  "
            ],
            "text/html": [
              "\n",
              "  <div id=\"df-f7743121-8890-46dd-bcd9-d8e592182dd7\">\n",
              "    <div class=\"colab-df-container\">\n",
              "      <div>\n",
              "<style scoped>\n",
              "    .dataframe tbody tr th:only-of-type {\n",
              "        vertical-align: middle;\n",
              "    }\n",
              "\n",
              "    .dataframe tbody tr th {\n",
              "        vertical-align: top;\n",
              "    }\n",
              "\n",
              "    .dataframe thead th {\n",
              "        text-align: right;\n",
              "    }\n",
              "</style>\n",
              "<table border=\"1\" class=\"dataframe\">\n",
              "  <thead>\n",
              "    <tr style=\"text-align: right;\">\n",
              "      <th></th>\n",
              "      <th>question</th>\n",
              "      <th>Raw_Text</th>\n",
              "      <th>Text</th>\n",
              "      <th>Label</th>\n",
              "      <th>Mean Perplexity</th>\n",
              "    </tr>\n",
              "  </thead>\n",
              "  <tbody>\n",
              "    <tr>\n",
              "      <th>0</th>\n",
              "      <td>What are squatter 's rights in California and ...</td>\n",
              "      <td>Adverse possession far predates the formation ...</td>\n",
              "      <td>adverse possession far predates formation u ho...</td>\n",
              "      <td>0</td>\n",
              "      <td>0.003613</td>\n",
              "    </tr>\n",
              "  </tbody>\n",
              "</table>\n",
              "</div>\n",
              "      <button class=\"colab-df-convert\" onclick=\"convertToInteractive('df-f7743121-8890-46dd-bcd9-d8e592182dd7')\"\n",
              "              title=\"Convert this dataframe to an interactive table.\"\n",
              "              style=\"display:none;\">\n",
              "        \n",
              "  <svg xmlns=\"http://www.w3.org/2000/svg\" height=\"24px\"viewBox=\"0 0 24 24\"\n",
              "       width=\"24px\">\n",
              "    <path d=\"M0 0h24v24H0V0z\" fill=\"none\"/>\n",
              "    <path d=\"M18.56 5.44l.94 2.06.94-2.06 2.06-.94-2.06-.94-.94-2.06-.94 2.06-2.06.94zm-11 1L8.5 8.5l.94-2.06 2.06-.94-2.06-.94L8.5 2.5l-.94 2.06-2.06.94zm10 10l.94 2.06.94-2.06 2.06-.94-2.06-.94-.94-2.06-.94 2.06-2.06.94z\"/><path d=\"M17.41 7.96l-1.37-1.37c-.4-.4-.92-.59-1.43-.59-.52 0-1.04.2-1.43.59L10.3 9.45l-7.72 7.72c-.78.78-.78 2.05 0 2.83L4 21.41c.39.39.9.59 1.41.59.51 0 1.02-.2 1.41-.59l7.78-7.78 2.81-2.81c.8-.78.8-2.07 0-2.86zM5.41 20L4 18.59l7.72-7.72 1.47 1.35L5.41 20z\"/>\n",
              "  </svg>\n",
              "      </button>\n",
              "      \n",
              "  <style>\n",
              "    .colab-df-container {\n",
              "      display:flex;\n",
              "      flex-wrap:wrap;\n",
              "      gap: 12px;\n",
              "    }\n",
              "\n",
              "    .colab-df-convert {\n",
              "      background-color: #E8F0FE;\n",
              "      border: none;\n",
              "      border-radius: 50%;\n",
              "      cursor: pointer;\n",
              "      display: none;\n",
              "      fill: #1967D2;\n",
              "      height: 32px;\n",
              "      padding: 0 0 0 0;\n",
              "      width: 32px;\n",
              "    }\n",
              "\n",
              "    .colab-df-convert:hover {\n",
              "      background-color: #E2EBFA;\n",
              "      box-shadow: 0px 1px 2px rgba(60, 64, 67, 0.3), 0px 1px 3px 1px rgba(60, 64, 67, 0.15);\n",
              "      fill: #174EA6;\n",
              "    }\n",
              "\n",
              "    [theme=dark] .colab-df-convert {\n",
              "      background-color: #3B4455;\n",
              "      fill: #D2E3FC;\n",
              "    }\n",
              "\n",
              "    [theme=dark] .colab-df-convert:hover {\n",
              "      background-color: #434B5C;\n",
              "      box-shadow: 0px 1px 3px 1px rgba(0, 0, 0, 0.15);\n",
              "      filter: drop-shadow(0px 1px 2px rgba(0, 0, 0, 0.3));\n",
              "      fill: #FFFFFF;\n",
              "    }\n",
              "  </style>\n",
              "\n",
              "      <script>\n",
              "        const buttonEl =\n",
              "          document.querySelector('#df-f7743121-8890-46dd-bcd9-d8e592182dd7 button.colab-df-convert');\n",
              "        buttonEl.style.display =\n",
              "          google.colab.kernel.accessAllowed ? 'block' : 'none';\n",
              "\n",
              "        async function convertToInteractive(key) {\n",
              "          const element = document.querySelector('#df-f7743121-8890-46dd-bcd9-d8e592182dd7');\n",
              "          const dataTable =\n",
              "            await google.colab.kernel.invokeFunction('convertToInteractive',\n",
              "                                                     [key], {});\n",
              "          if (!dataTable) return;\n",
              "\n",
              "          const docLinkHtml = 'Like what you see? Visit the ' +\n",
              "            '<a target=\"_blank\" href=https://colab.research.google.com/notebooks/data_table.ipynb>data table notebook</a>'\n",
              "            + ' to learn more about interactive tables.';\n",
              "          element.innerHTML = '';\n",
              "          dataTable['output_type'] = 'display_data';\n",
              "          await google.colab.output.renderOutput(dataTable, element);\n",
              "          const docLink = document.createElement('div');\n",
              "          docLink.innerHTML = docLinkHtml;\n",
              "          element.appendChild(docLink);\n",
              "        }\n",
              "      </script>\n",
              "    </div>\n",
              "  </div>\n",
              "  "
            ]
          },
          "metadata": {},
          "execution_count": 5
        }
      ]
    },
    {
      "cell_type": "code",
      "source": [
        "df.dtypes"
      ],
      "metadata": {
        "id": "sIKKjWyUP_DX",
        "colab": {
          "base_uri": "https://localhost:8080/"
        },
        "outputId": "8b136f44-4f62-4a19-8bd9-cceeab14447e"
      },
      "execution_count": null,
      "outputs": [
        {
          "output_type": "execute_result",
          "data": {
            "text/plain": [
              "question            object\n",
              "Raw_Text            object\n",
              "Text                object\n",
              "Label                int64\n",
              "Mean Perplexity    float64\n",
              "dtype: object"
            ]
          },
          "metadata": {},
          "execution_count": 6
        }
      ]
    },
    {
      "cell_type": "markdown",
      "source": [
        "Ensure that there is no skew in the dataset"
      ],
      "metadata": {
        "id": "_ijJ4_Hp3inL"
      }
    },
    {
      "cell_type": "code",
      "source": [
        "import matplotlib.pyplot as plt\n",
        "\n",
        "count_Class=pd.value_counts(df[\"Label\"], sort= True)\n",
        "count_Class.plot(kind = 'bar',color = [\"green\",\"red\"])\n",
        "plt.title('Distribution of classes where 1 is CHATGPT text')\n",
        "plt.show()"
      ],
      "metadata": {
        "id": "LI7N6cevLaDF",
        "colab": {
          "base_uri": "https://localhost:8080/",
          "height": 447
        },
        "outputId": "54a36512-0f0f-4359-bded-8b4bcdd09915"
      },
      "execution_count": null,
      "outputs": [
        {
          "output_type": "display_data",
          "data": {
            "text/plain": [
              "<Figure size 640x480 with 1 Axes>"
            ],
            "image/png": "[encoded data removed]"
          },
          "metadata": {}
        }
      ]
    },
    {
      "cell_type": "markdown",
      "source": [
        "# Experiment: Text + Perplexity Column with Keras LSTM\n",
        "\n",
        "Accuracy: 73%"
      ],
      "metadata": {
        "id": "ZbBZ-toJDimC"
      }
    },
    {
      "cell_type": "code",
      "source": [
        "!pip install tensorflow_text"
      ],
      "metadata": {
        "id": "MZ0-n7b4HOyI"
      },
      "execution_count": null,
      "outputs": []
    },
    {
      "cell_type": "code",
      "source": [
        "import tensorflow as tf\n",
        "import numpy as np\n",
        "import tensorflow_hub as hub\n",
        "import tensorflow_text as text\n",
        "from sklearn.model_selection import train_test_split"
      ],
      "metadata": {
        "id": "RiTz4pPGHRrc"
      },
      "execution_count": null,
      "outputs": []
    },
    {
      "cell_type": "code",
      "source": [
        "from sklearn.metrics import classification_report, confusion_matrix\n",
        "import seaborn as sns\n",
        "import matplotlib.pyplot as plt"
      ],
      "metadata": {
        "id": "5YuwD8yeKAQZ"
      },
      "execution_count": null,
      "outputs": []
    },
    {
      "cell_type": "markdown",
      "source": [
        "Define the model layers\n",
        "- We are using BERT embeddings as text input\n",
        "- We are also taking in a numeric column so we will concatenate two neural networks to get the final prediction"
      ],
      "metadata": {
        "id": "MdXMeug33m2b"
      }
    },
    {
      "cell_type": "code",
      "source": [
        "# Define the BERT model\n",
        "BERT_MODEL = \"https://tfhub.dev/tensorflow/small_bert/bert_en_uncased_L-4_H-512_A-8/1\" \n",
        "# Choose the preprocessing that must match the model\n",
        "PREPROCESS_MODEL = \"https://tfhub.dev/tensorflow/bert_en_uncased_preprocess/3\"\n",
        "\n",
        "preprocess = hub.load(PREPROCESS_MODEL)\n",
        "bert = hub.load(BERT_MODEL)\n",
        "\n",
        "# create model -- numeric features in this e.g. are mean perplexity\n",
        "numeric_col_count = 1\n",
        "numeric_input_layer = tf.keras.layers.Input(shape=(numeric_col_count,))\n",
        "numeric_dense_layer_4 = tf.keras.layers.Dense(64, activation='relu')(numeric_input_layer)\n",
        "\n",
        "# second input model\n",
        "text_input = tf.keras.layers.Input(shape=(), dtype=tf.string, name='text')\n",
        "preprocessing_layer = hub.KerasLayer(PREPROCESS_MODEL, name='preprocessing')\n",
        "encoder_inputs = preprocessing_layer(text_input)\n",
        "encoder = hub.KerasLayer(BERT_MODEL, trainable=True, name='BERT_encoder')\n",
        "outputs = encoder(encoder_inputs)\n",
        "net = outputs['sequence_output']\n",
        "net = tf.keras.layers.Dropout(0.1)(net)\n",
        "net = tf.keras.layers.Dense(1, activation=None, name='classifier')(net)\n",
        "lstm = tf.keras.layers.Bidirectional(tf.keras.layers.LSTM(64,  return_sequences=True))(net)\n",
        "lstm = tf.keras.layers.Bidirectional(tf.keras.layers.LSTM(32))(net)\n",
        "lstm_dense = tf.keras.layers.Dense(64, activation='relu')(lstm)\n",
        "\n",
        "# merge input models\n",
        "merge = tf.keras.layers.concatenate([lstm_dense, numeric_dense_layer_4])\n",
        "\n",
        "# interpretation model\n",
        "hidden1 = tf.keras.layers.Dense(32, activation='relu')(merge)\n",
        "hidden2 = tf.keras.layers.Dense(10, activation='relu')(hidden1)\n",
        "output = tf.keras.layers.Dense(1, activation='sigmoid')(hidden2)\n",
        "rnn_model = tf.keras.models.Model(inputs=[numeric_input_layer, text_input], outputs=output)\n",
        "\n",
        "rnn_model.compile(loss='binary_crossentropy',optimizer='adam',metrics=['accuracy', tf.keras.metrics.FalsePositives()])"
      ],
      "metadata": {
        "id": "D05yHNXHDlLh"
      },
      "execution_count": null,
      "outputs": []
    },
    {
      "cell_type": "markdown",
      "source": [
        "Train the model\n",
        "- Early stopping included to prevent overfitting"
      ],
      "metadata": {
        "id": "GFEpgGEp32ZB"
      }
    },
    {
      "cell_type": "code",
      "source": [
        "# split into input (X) and output (Y) variables]\n",
        "X = df[[\"Mean Perplexity\",\"Raw_Text\"]]\n",
        "y = df['Label'].values\n",
        "X_train, X_test, y_train, y_test = train_test_split(X, y, test_size=0.30, random_state=42)\n",
        "early_stop = tf.keras.callbacks.EarlyStopping(monitor='val_loss', mode='min', verbose=1, patience=1)\n",
        "history = rnn_model.fit([np.asarray(X_train[\"Mean Perplexity\"].values).astype('float32'), X_train[\"Raw_Text\"].values], y_train, epochs=5, verbose=True, validation_split=0.1, batch_size=32)"
      ],
      "metadata": {
        "colab": {
          "base_uri": "https://localhost:8080/"
        },
        "id": "taRfiPYdIWiJ",
        "outputId": "bb126d3e-424a-4dda-a726-e50e459e2add"
      },
      "execution_count": null,
      "outputs": [
        {
          "output_type": "stream",
          "name": "stdout",
          "text": [
            "Epoch 1/5\n",
            "315/315 [==============================] - 149s 357ms/step - loss: 0.6936 - accuracy: 0.5058 - false_positives: 2283.0000 - val_loss: 0.6937 - val_accuracy: 0.5040 - val_false_positives: 2.0000\n",
            "Epoch 2/5\n",
            "315/315 [==============================] - 99s 314ms/step - loss: 0.6927 - accuracy: 0.5114 - false_positives: 1124.0000 - val_loss: 0.6915 - val_accuracy: 0.5040 - val_false_positives: 2.0000\n",
            "Epoch 3/5\n",
            "315/315 [==============================] - 91s 290ms/step - loss: 0.6909 - accuracy: 0.5210 - false_positives: 962.0000 - val_loss: 0.6874 - val_accuracy: 0.5058 - val_false_positives: 0.0000e+00\n",
            "Epoch 4/5\n",
            "315/315 [==============================] - 96s 304ms/step - loss: 0.6792 - accuracy: 0.5872 - false_positives: 1343.0000 - val_loss: 0.6543 - val_accuracy: 0.6256 - val_false_positives: 418.0000\n",
            "Epoch 5/5\n",
            "315/315 [==============================] - 87s 277ms/step - loss: 0.5939 - accuracy: 0.7579 - false_positives: 1672.0000 - val_loss: 0.5106 - val_accuracy: 0.7453 - val_false_positives: 269.0000\n"
          ]
        }
      ]
    },
    {
      "cell_type": "markdown",
      "source": [
        "Evaluate the model\n",
        "- Model tends to predict human as AI more (false positive) as compared to AI as human (false negative)"
      ],
      "metadata": {
        "id": "1VIGM6ZJ35Lv"
      }
    },
    {
      "cell_type": "code",
      "source": [
        "rnn_model.evaluate([X_test[\"Mean Perplexity\"], X_test['Raw_Text']], y_test, verbose=False)"
      ],
      "metadata": {
        "colab": {
          "base_uri": "https://localhost:8080/"
        },
        "id": "hHn4fMzRJOBC",
        "outputId": "410f31de-e4a8-4d60-e80f-2da30b634a86"
      },
      "execution_count": null,
      "outputs": [
        {
          "output_type": "execute_result",
          "data": {
            "text/plain": [
              "[0.5210092067718506, 0.736754298210144, 1186.0]"
            ]
          },
          "metadata": {},
          "execution_count": 27
        }
      ]
    },
    {
      "cell_type": "code",
      "source": [
        "def plot_confusion_matrix(y_true, y_pred):\n",
        "   mtx = confusion_matrix(y_true, y_pred)\n",
        "   sns.heatmap(mtx, annot=True, fmt='d', linewidths=.5, \n",
        "               cmap=\"Blues\", cbar=False)\n",
        "   plt.ylabel('True label')\n",
        "   plt.xlabel('Predicted label')\n",
        "\n",
        "\n",
        "def plot_graphs(history, metric):\n",
        "  plt.plot(history.history[metric])\n",
        "  plt.plot(history.history['val_'+metric], '')\n",
        "  plt.xlabel(\"Epochs\")\n",
        "  plt.ylabel(metric)\n",
        "  plt.legend([metric, 'val_'+metric])\n",
        "\n",
        "cont_preds = rnn_model.predict([X_test[\"Mean Perplexity\"], X_test['Raw_Text']])\n",
        "preds = (cont_preds > 0.5).astype(\"int32\")\n",
        "plot_confusion_matrix(y_test, preds)\n",
        "\n",
        "plt.figure(figsize=(16, 6))\n",
        "plt.subplot(1, 2, 1)\n",
        "plot_graphs(history, 'accuracy')\n",
        "plt.subplot(1, 2, 2)\n",
        "plot_graphs(history, 'loss')"
      ],
      "metadata": {
        "colab": {
          "base_uri": "https://localhost:8080/",
          "height": 993
        },
        "id": "xgI8hYtJJr1_",
        "outputId": "2d0b3ab3-2d99-4fc4-ccf7-93d6faaf2318"
      },
      "execution_count": null,
      "outputs": [
        {
          "output_type": "stream",
          "name": "stdout",
          "text": [
            "150/150 [==============================] - 21s 132ms/step\n"
          ]
        },
        {
          "output_type": "display_data",
          "data": {
            "text/plain": [
              "<Figure size 640x480 with 1 Axes>"
            ],
            "image/png": "[encoded data removed]"
          },
          "metadata": {}
        },
        {
          "output_type": "display_data",
          "data": {
            "text/plain": [
              "<Figure size 1600x600 with 2 Axes>"
            ],
            "image/png": "[encoded data removed]"
          },
          "metadata": {}
        }
      ]
    },
    {
      "cell_type": "code",
      "source": [
        "#save model\n",
        "current_directory = os.getcwd()\n",
        "rnn_model.save(current_directory+\"/rnn_features_model\")"
      ],
      "metadata": {
        "colab": {
          "base_uri": "https://localhost:8080/"
        },
        "id": "_kPtxU0_KD24",
        "outputId": "37044f53-e582-415d-e89a-934090ad4fcf"
      },
      "execution_count": null,
      "outputs": [
        {
          "output_type": "stream",
          "name": "stderr",
          "text": [
            "WARNING:absl:Found untraced functions such as lstm_cell_4_layer_call_fn, lstm_cell_4_layer_call_and_return_conditional_losses, lstm_cell_5_layer_call_fn, lstm_cell_5_layer_call_and_return_conditional_losses, restored_function_body while saving (showing 5 of 128). These functions will not be directly callable after loading.\n"
          ]
        }
      ]
    },
    {
      "cell_type": "markdown",
      "source": [
        "# Experiment: Text + Perplexity Column -- AutoKeras\n",
        "\n",
        "To find ways to improve the accuracy, I experimented with AutoKeras to try different neural networks. \n",
        "\n",
        "The best model after 15 models was a Convolutional Neural Network with accuracy: 0.9470 - auc: 0.9742"
      ],
      "metadata": {
        "id": "NsnZICDHKMZd"
      }
    },
    {
      "cell_type": "code",
      "source": [
        "!pip install git+https://github.com/keras-team/keras-tuner.git\n",
        "!pip install autokeras"
      ],
      "metadata": {
        "id": "cSqu8b_vLBvk"
      },
      "execution_count": null,
      "outputs": []
    },
    {
      "cell_type": "code",
      "source": [
        "import autokeras as ak"
      ],
      "metadata": {
        "id": "A_LnvArPOFOG"
      },
      "execution_count": null,
      "outputs": []
    },
    {
      "cell_type": "markdown",
      "source": [
        "Prepare data"
      ],
      "metadata": {
        "id": "TkwcTy-s4aHo"
      }
    },
    {
      "cell_type": "code",
      "source": [
        "from sklearn.model_selection import train_test_split\n",
        "X = df[[\"Raw_Text\",\"Mean Perplexity\"]]\n",
        "y = df['Label'].values\n",
        "X_train, X_test, y_train, y_test = train_test_split(X, y, test_size=0.30, random_state=42)"
      ],
      "metadata": {
        "id": "pKU_aFQvSvzJ"
      },
      "execution_count": null,
      "outputs": []
    },
    {
      "cell_type": "markdown",
      "source": [
        "Prepare neural network structure to take in text and numeric input, concatenate the two neural networks from the different layers and produce a regression output"
      ],
      "metadata": {
        "id": "dApGbahv4bZT"
      }
    },
    {
      "cell_type": "code",
      "source": [
        "#For diversity in ensemble models, transformers and ngrams will not be used in the text block\n",
        "#Pretrained embeddings e.g. glove, word2vec or fasttext is automatically tuned \n",
        "input_node_structured = ak.StructuredDataInput()\n",
        "output_node_structured = ak.DenseBlock()(input_node_structured)\n",
        "\n",
        "input_node_text = ak.TextInput()\n",
        "output_node_text = ak.TextBlock(block_type='vanilla')(input_node_text)\n",
        "\n",
        "output_node_merged = ak.Merge()([output_node_structured, output_node_text])\n",
        "final_node = ak.RegressionHead(metrics=[\"accuracy\",\"AUC\"])(output_node_merged)\n",
        "\n",
        "reg = ak.AutoModel(\n",
        "   inputs=[input_node_structured, input_node_text],\n",
        "   outputs=[final_node],\n",
        "   max_trials=10,\n",
        ")\n",
        "reg.fit([X_train[[\"Mean Perplexity\"]],X_train[\"Raw_Text\"].to_numpy()], y_train, validation_split=0.15)"
      ],
      "metadata": {
        "id": "gpku6QjRLKTy",
        "colab": {
          "base_uri": "https://localhost:8080/"
        },
        "outputId": "5bc97182-e7ad-440e-95fc-a682631cf348"
      },
      "execution_count": null,
      "outputs": [
        {
          "output_type": "stream",
          "name": "stdout",
          "text": [
            "Trial 26 Complete [00h 02m 06s]\n",
            "val_loss: 0.033185090869665146\n",
            "\n",
            "Best val_loss So Far: 0.030185863375663757\n",
            "Total elapsed time: 00h 02m 07s\n",
            "Epoch 1/10\n",
            "350/350 [==============================] - 16s 38ms/step - loss: 0.0960 - accuracy: 0.8737 - auc: 0.9470\n",
            "Epoch 2/10\n",
            "350/350 [==============================] - 4s 12ms/step - loss: 0.0433 - accuracy: 0.9477 - auc: 0.9859\n",
            "Epoch 3/10\n",
            "350/350 [==============================] - 3s 8ms/step - loss: 0.0327 - accuracy: 0.9622 - auc: 0.9901\n",
            "Epoch 4/10\n",
            "350/350 [==============================] - 3s 9ms/step - loss: 0.0255 - accuracy: 0.9711 - auc: 0.9930\n",
            "Epoch 5/10\n",
            "350/350 [==============================] - 3s 8ms/step - loss: 0.0202 - accuracy: 0.9780 - auc: 0.9949\n",
            "Epoch 6/10\n",
            "350/350 [==============================] - 4s 11ms/step - loss: 0.0177 - accuracy: 0.9820 - auc: 0.9960\n",
            "Epoch 7/10\n",
            "350/350 [==============================] - 3s 10ms/step - loss: 0.0150 - accuracy: 0.9846 - auc: 0.9965\n",
            "Epoch 8/10\n",
            "350/350 [==============================] - 3s 9ms/step - loss: 0.0134 - accuracy: 0.9863 - auc: 0.9974\n",
            "Epoch 9/10\n",
            "350/350 [==============================] - 4s 12ms/step - loss: 0.0124 - accuracy: 0.9860 - auc: 0.9972\n",
            "Epoch 10/10\n",
            "350/350 [==============================] - 3s 9ms/step - loss: 0.0098 - accuracy: 0.9893 - auc: 0.9985\n"
          ]
        },
        {
          "output_type": "stream",
          "name": "stderr",
          "text": [
            "WARNING:absl:Found untraced functions such as _jit_compiled_convolution_op, _jit_compiled_convolution_op, _jit_compiled_convolution_op, _jit_compiled_convolution_op while saving (showing 4 of 4). These functions will not be directly callable after loading.\n"
          ]
        },
        {
          "output_type": "execute_result",
          "data": {
            "text/plain": [
              "<keras.callbacks.History at 0x7fc6e1da7f10>"
            ]
          },
          "metadata": {},
          "execution_count": 11
        }
      ]
    },
    {
      "cell_type": "markdown",
      "source": [
        "Evaluate the model"
      ],
      "metadata": {
        "id": "0ljd-oZn4lOZ"
      }
    },
    {
      "cell_type": "code",
      "source": [
        "# Predict with the best model.\n",
        "predicted_y = reg.predict([X_test[[\"Mean Perplexity\"]],X_test[\"Raw_Text\"].to_numpy()])\n",
        "# Evaluate the best model with testing data.\n",
        "print(reg.evaluate([X_test[[\"Mean Perplexity\"]],X_test[\"Raw_Text\"].to_numpy()], y_test))"
      ],
      "metadata": {
        "colab": {
          "base_uri": "https://localhost:8080/"
        },
        "id": "dzf_MpfCTZ0W",
        "outputId": "9529863b-93d6-439c-efd8-67ba7d2b28cc"
      },
      "execution_count": null,
      "outputs": [
        {
          "output_type": "stream",
          "name": "stdout",
          "text": [
            "150/150 [==============================] - 1s 7ms/step\n",
            "150/150 [==============================] - 1s 4ms/step\n",
            "150/150 [==============================] - 1s 5ms/step - loss: 0.0454 - accuracy: 0.9470 - auc: 0.9742\n",
            "[0.045413970947265625, 0.9470171332359314, 0.9741848111152649]\n"
          ]
        }
      ]
    },
    {
      "cell_type": "markdown",
      "source": [
        "Export model"
      ],
      "metadata": {
        "id": "nUUTmL_o4nVK"
      }
    },
    {
      "cell_type": "code",
      "source": [
        "# Export as a Keras Model.\n",
        "model = reg.export_model()\n",
        "model.summary()\n",
        "try:\n",
        "    model.save(\"model_autokeras_vanilla\", save_format=\"tf\")\n",
        "except Exception:\n",
        "    model.save(\"model_autokeras_vanilla.h5\")"
      ],
      "metadata": {
        "id": "rtNyVG6-TNUL",
        "colab": {
          "base_uri": "https://localhost:8080/"
        },
        "outputId": "a24adca1-a489-4db5-ddd7-20f4f3094f89"
      },
      "execution_count": null,
      "outputs": [
        {
          "output_type": "stream",
          "name": "stdout",
          "text": [
            "Model: \"model\"\n",
            "__________________________________________________________________________________________________\n",
            " Layer (type)                   Output Shape         Param #     Connected to                     \n",
            "==================================================================================================\n",
            " input_2 (InputLayer)           [(None,)]            0           []                               \n",
            "                                                                                                  \n",
            " expand_last_dim (ExpandLastDim  (None, 1)           0           ['input_2[0][0]']                \n",
            " )                                                                                                \n",
            "                                                                                                  \n",
            " text_vectorization (TextVector  (None, 64)          0           ['expand_last_dim[0][0]']        \n",
            " ization)                                                                                         \n",
            "                                                                                                  \n",
            " embedding (Embedding)          (None, 64, 512)      256512      ['text_vectorization[0][0]']     \n",
            "                                                                                                  \n",
            " dropout (Dropout)              (None, 64, 512)      0           ['embedding[0][0]']              \n",
            "                                                                                                  \n",
            " conv1d (Conv1D)                (None, 62, 32)       49184       ['dropout[0][0]']                \n",
            "                                                                                                  \n",
            " conv1d_1 (Conv1D)              (None, 60, 32)       3104        ['conv1d[0][0]']                 \n",
            "                                                                                                  \n",
            " max_pooling1d (MaxPooling1D)   (None, 30, 32)       0           ['conv1d_1[0][0]']               \n",
            "                                                                                                  \n",
            " conv1d_2 (Conv1D)              (None, 28, 32)       3104        ['max_pooling1d[0][0]']          \n",
            "                                                                                                  \n",
            " conv1d_3 (Conv1D)              (None, 26, 32)       3104        ['conv1d_2[0][0]']               \n",
            "                                                                                                  \n",
            " max_pooling1d_1 (MaxPooling1D)  (None, 13, 32)      0           ['conv1d_3[0][0]']               \n",
            "                                                                                                  \n",
            " input_1 (InputLayer)           [(None, 1)]          0           []                               \n",
            "                                                                                                  \n",
            " flatten (Flatten)              (None, 416)          0           ['max_pooling1d_1[0][0]']        \n",
            "                                                                                                  \n",
            " dense (Dense)                  (None, 32)           64          ['input_1[0][0]']                \n",
            "                                                                                                  \n",
            " dense_2 (Dense)                (None, 32)           13344       ['flatten[0][0]']                \n",
            "                                                                                                  \n",
            " re_lu (ReLU)                   (None, 32)           0           ['dense[0][0]']                  \n",
            "                                                                                                  \n",
            " re_lu_2 (ReLU)                 (None, 32)           0           ['dense_2[0][0]']                \n",
            "                                                                                                  \n",
            " dense_1 (Dense)                (None, 32)           1056        ['re_lu[0][0]']                  \n",
            "                                                                                                  \n",
            " dense_3 (Dense)                (None, 32)           1056        ['re_lu_2[0][0]']                \n",
            "                                                                                                  \n",
            " re_lu_1 (ReLU)                 (None, 32)           0           ['dense_1[0][0]']                \n",
            "                                                                                                  \n",
            " re_lu_3 (ReLU)                 (None, 32)           0           ['dense_3[0][0]']                \n",
            "                                                                                                  \n",
            " add (Add)                      (None, 32)           0           ['re_lu_1[0][0]',                \n",
            "                                                                  're_lu_3[0][0]']                \n",
            "                                                                                                  \n",
            " regression_head_1 (Dense)      (None, 1)            33          ['add[0][0]']                    \n",
            "                                                                                                  \n",
            "==================================================================================================\n",
            "Total params: 330,561\n",
            "Trainable params: 330,561\n",
            "Non-trainable params: 0\n",
            "__________________________________________________________________________________________________\n"
          ]
        },
        {
          "output_type": "stream",
          "name": "stderr",
          "text": [
            "WARNING:absl:Found untraced functions such as _jit_compiled_convolution_op, _jit_compiled_convolution_op, _jit_compiled_convolution_op, _jit_compiled_convolution_op, _update_step_xla while saving (showing 5 of 5). These functions will not be directly callable after loading.\n"
          ]
        }
      ]
    },
    {
      "cell_type": "markdown",
      "source": [
        "Load model to check if it works "
      ],
      "metadata": {
        "id": "OlCGkV104px9"
      }
    },
    {
      "cell_type": "code",
      "source": [
        "import tensorflow as tf\n",
        "loaded_model = tf.keras.models.load_model(\"model_autokeras_vanilla\", custom_objects=ak.CUSTOM_OBJECTS)\n",
        "predicted_y = loaded_model.predict([X_test[[\"Mean Perplexity\"]],X_test[\"Raw_Text\"].to_numpy()])\n",
        "print(predicted_y)"
      ],
      "metadata": {
        "id": "_MwoDGP1TOGd",
        "colab": {
          "base_uri": "https://localhost:8080/"
        },
        "outputId": "3f65e173-227d-4477-9470-c70d46544ee0"
      },
      "execution_count": null,
      "outputs": [
        {
          "output_type": "stream",
          "name": "stdout",
          "text": [
            "150/150 [==============================] - 1s 4ms/step\n",
            "[[0.03908968]\n",
            " [1.0395148 ]\n",
            " [0.03272429]\n",
            " ...\n",
            " [0.04774358]\n",
            " [0.00254725]\n",
            " [0.01590082]]\n"
          ]
        }
      ]
    },
    {
      "cell_type": "markdown",
      "source": [
        "# Experiment: Text -- AutoKeras\n",
        "\n",
        "The best model after trying 5 models was a Convolutional Neural Network with \n",
        "accuracy: 0.9821 - auc: 0.9925\n",
        "\n",
        "Less models were tried because each trial took a lot of memory and time"
      ],
      "metadata": {
        "id": "LHrj9-afZdvv"
      }
    },
    {
      "cell_type": "code",
      "source": [
        "!pip install git+https://github.com/keras-team/keras-tuner.git\n",
        "!pip install autokeras"
      ],
      "metadata": {
        "id": "r-1Fvj1HZdvw"
      },
      "execution_count": null,
      "outputs": []
    },
    {
      "cell_type": "code",
      "source": [
        "import autokeras as ak"
      ],
      "metadata": {
        "id": "MlqcH8eAZdvw"
      },
      "execution_count": null,
      "outputs": []
    },
    {
      "cell_type": "markdown",
      "source": [
        "This dataset has more datapoints than the perplexity one. Perplexity takes a long time to scrape so we trained on as much data point as we could scrape."
      ],
      "metadata": {
        "id": "jb1HVnCe4ucf"
      }
    },
    {
      "cell_type": "code",
      "source": [
        "import pandas as pd\n",
        "df = pd.read_csv(\"eli5_clean_combined.csv\")\n",
        "df.dropna(inplace = True)\n",
        "df.head(1)"
      ],
      "metadata": {
        "colab": {
          "base_uri": "https://localhost:8080/",
          "height": 81
        },
        "id": "MZCNTsaYGS_S",
        "outputId": "881660bb-1b87-4681-e6bb-5b7bfc594420"
      },
      "execution_count": null,
      "outputs": [
        {
          "output_type": "execute_result",
          "data": {
            "text/plain": [
              "                                            response  Label\n",
              "0  Basically there are many categories of \" Best ...      0"
            ],
            "text/html": [
              "\n",
              "  <div id=\"df-be5d0184-db65-49aa-9998-6347956a60bf\">\n",
              "    <div class=\"colab-df-container\">\n",
              "      <div>\n",
              "<style scoped>\n",
              "    .dataframe tbody tr th:only-of-type {\n",
              "        vertical-align: middle;\n",
              "    }\n",
              "\n",
              "    .dataframe tbody tr th {\n",
              "        vertical-align: top;\n",
              "    }\n",
              "\n",
              "    .dataframe thead th {\n",
              "        text-align: right;\n",
              "    }\n",
              "</style>\n",
              "<table border=\"1\" class=\"dataframe\">\n",
              "  <thead>\n",
              "    <tr style=\"text-align: right;\">\n",
              "      <th></th>\n",
              "      <th>response</th>\n",
              "      <th>Label</th>\n",
              "    </tr>\n",
              "  </thead>\n",
              "  <tbody>\n",
              "    <tr>\n",
              "      <th>0</th>\n",
              "      <td>Basically there are many categories of \" Best ...</td>\n",
              "      <td>0</td>\n",
              "    </tr>\n",
              "  </tbody>\n",
              "</table>\n",
              "</div>\n",
              "      <button class=\"colab-df-convert\" onclick=\"convertToInteractive('df-be5d0184-db65-49aa-9998-6347956a60bf')\"\n",
              "              title=\"Convert this dataframe to an interactive table.\"\n",
              "              style=\"display:none;\">\n",
              "        \n",
              "  <svg xmlns=\"http://www.w3.org/2000/svg\" height=\"24px\"viewBox=\"0 0 24 24\"\n",
              "       width=\"24px\">\n",
              "    <path d=\"M0 0h24v24H0V0z\" fill=\"none\"/>\n",
              "    <path d=\"M18.56 5.44l.94 2.06.94-2.06 2.06-.94-2.06-.94-.94-2.06-.94 2.06-2.06.94zm-11 1L8.5 8.5l.94-2.06 2.06-.94-2.06-.94L8.5 2.5l-.94 2.06-2.06.94zm10 10l.94 2.06.94-2.06 2.06-.94-2.06-.94-.94-2.06-.94 2.06-2.06.94z\"/><path d=\"M17.41 7.96l-1.37-1.37c-.4-.4-.92-.59-1.43-.59-.52 0-1.04.2-1.43.59L10.3 9.45l-7.72 7.72c-.78.78-.78 2.05 0 2.83L4 21.41c.39.39.9.59 1.41.59.51 0 1.02-.2 1.41-.59l7.78-7.78 2.81-2.81c.8-.78.8-2.07 0-2.86zM5.41 20L4 18.59l7.72-7.72 1.47 1.35L5.41 20z\"/>\n",
              "  </svg>\n",
              "      </button>\n",
              "      \n",
              "  <style>\n",
              "    .colab-df-container {\n",
              "      display:flex;\n",
              "      flex-wrap:wrap;\n",
              "      gap: 12px;\n",
              "    }\n",
              "\n",
              "    .colab-df-convert {\n",
              "      background-color: #E8F0FE;\n",
              "      border: none;\n",
              "      border-radius: 50%;\n",
              "      cursor: pointer;\n",
              "      display: none;\n",
              "      fill: #1967D2;\n",
              "      height: 32px;\n",
              "      padding: 0 0 0 0;\n",
              "      width: 32px;\n",
              "    }\n",
              "\n",
              "    .colab-df-convert:hover {\n",
              "      background-color: #E2EBFA;\n",
              "      box-shadow: 0px 1px 2px rgba(60, 64, 67, 0.3), 0px 1px 3px 1px rgba(60, 64, 67, 0.15);\n",
              "      fill: #174EA6;\n",
              "    }\n",
              "\n",
              "    [theme=dark] .colab-df-convert {\n",
              "      background-color: #3B4455;\n",
              "      fill: #D2E3FC;\n",
              "    }\n",
              "\n",
              "    [theme=dark] .colab-df-convert:hover {\n",
              "      background-color: #434B5C;\n",
              "      box-shadow: 0px 1px 3px 1px rgba(0, 0, 0, 0.15);\n",
              "      filter: drop-shadow(0px 1px 2px rgba(0, 0, 0, 0.3));\n",
              "      fill: #FFFFFF;\n",
              "    }\n",
              "  </style>\n",
              "\n",
              "      <script>\n",
              "        const buttonEl =\n",
              "          document.querySelector('#df-be5d0184-db65-49aa-9998-6347956a60bf button.colab-df-convert');\n",
              "        buttonEl.style.display =\n",
              "          google.colab.kernel.accessAllowed ? 'block' : 'none';\n",
              "\n",
              "        async function convertToInteractive(key) {\n",
              "          const element = document.querySelector('#df-be5d0184-db65-49aa-9998-6347956a60bf');\n",
              "          const dataTable =\n",
              "            await google.colab.kernel.invokeFunction('convertToInteractive',\n",
              "                                                     [key], {});\n",
              "          if (!dataTable) return;\n",
              "\n",
              "          const docLinkHtml = 'Like what you see? Visit the ' +\n",
              "            '<a target=\"_blank\" href=https://colab.research.google.com/notebooks/data_table.ipynb>data table notebook</a>'\n",
              "            + ' to learn more about interactive tables.';\n",
              "          element.innerHTML = '';\n",
              "          dataTable['output_type'] = 'display_data';\n",
              "          await google.colab.output.renderOutput(dataTable, element);\n",
              "          const docLink = document.createElement('div');\n",
              "          docLink.innerHTML = docLinkHtml;\n",
              "          element.appendChild(docLink);\n",
              "        }\n",
              "      </script>\n",
              "    </div>\n",
              "  </div>\n",
              "  "
            ]
          },
          "metadata": {},
          "execution_count": 29
        }
      ]
    },
    {
      "cell_type": "code",
      "source": [
        "import matplotlib.pyplot as plt\n",
        "count_Class=pd.value_counts(df[\"Label\"], sort= True)\n",
        "count_Class.plot(kind = 'bar',color = [\"green\",\"red\"])\n",
        "plt.title('Distribution of classes where 1 is CHATGPT text')\n",
        "plt.show()"
      ],
      "metadata": {
        "colab": {
          "base_uri": "https://localhost:8080/",
          "height": 447
        },
        "id": "VQ5l9GdgGjhn",
        "outputId": "83700584-a568-415f-bcf1-b34526590bb3"
      },
      "execution_count": null,
      "outputs": [
        {
          "output_type": "display_data",
          "data": {
            "text/plain": [
              "<Figure size 640x480 with 1 Axes>"
            ],
            "image/png": "[encoded data removed]"
          },
          "metadata": {}
        }
      ]
    },
    {
      "cell_type": "code",
      "source": [
        "from sklearn.model_selection import train_test_split\n",
        "X = df[[\"response\"]]\n",
        "y = df['Label'].values\n",
        "X_train, X_test, y_train, y_test = train_test_split(X, y, test_size=0.30, random_state=42)"
      ],
      "metadata": {
        "id": "2OiKHqiuZdvw"
      },
      "execution_count": null,
      "outputs": []
    },
    {
      "cell_type": "markdown",
      "source": [
        "Train model"
      ],
      "metadata": {
        "id": "IcKSpVRA42eJ"
      }
    },
    {
      "cell_type": "code",
      "source": [
        "reg = ak.TextRegressor(overwrite=True, max_trials=5, metrics=[\"accuracy\",\"AUC\"])\n",
        "reg.fit(X_train[\"response\"].to_numpy(), y_train, validation_split=0.15)"
      ],
      "metadata": {
        "id": "852C9HPvZdvw",
        "colab": {
          "base_uri": "https://localhost:8080/"
        },
        "outputId": "50fc13b5-8503-4464-877b-bf3db80c957f"
      },
      "execution_count": null,
      "outputs": [
        {
          "output_type": "stream",
          "name": "stdout",
          "text": [
            "Trial 5 Complete [00h 04m 41s]\n",
            "val_loss: 0.014697384089231491\n",
            "\n",
            "Best val_loss So Far: 0.012621596455574036\n",
            "Total elapsed time: 00h 28m 21s\n",
            "Epoch 1/17\n",
            "726/726 [==============================] - 49s 62ms/step - loss: 0.0961 - accuracy: 0.8896 - auc: 0.9510\n",
            "Epoch 2/17\n",
            "726/726 [==============================] - 9s 12ms/step - loss: 0.0244 - accuracy: 0.9738 - auc: 0.9937\n",
            "Epoch 3/17\n",
            "726/726 [==============================] - 7s 10ms/step - loss: 0.0127 - accuracy: 0.9885 - auc: 0.9974\n",
            "Epoch 4/17\n",
            "726/726 [==============================] - 8s 10ms/step - loss: 0.0087 - accuracy: 0.9926 - auc: 0.9987\n",
            "Epoch 5/17\n",
            "726/726 [==============================] - 9s 12ms/step - loss: 0.0064 - accuracy: 0.9948 - auc: 0.9993\n",
            "Epoch 6/17\n",
            "726/726 [==============================] - 9s 12ms/step - loss: 0.0048 - accuracy: 0.9964 - auc: 0.9996\n",
            "Epoch 7/17\n",
            "726/726 [==============================] - 8s 11ms/step - loss: 0.0048 - accuracy: 0.9961 - auc: 0.9994\n",
            "Epoch 8/17\n",
            "726/726 [==============================] - 9s 13ms/step - loss: 0.0043 - accuracy: 0.9963 - auc: 0.9993\n",
            "Epoch 9/17\n",
            "726/726 [==============================] - 10s 13ms/step - loss: 0.0036 - accuracy: 0.9972 - auc: 0.9994\n",
            "Epoch 10/17\n",
            "726/726 [==============================] - 8s 11ms/step - loss: 0.0028 - accuracy: 0.9978 - auc: 0.9996\n",
            "Epoch 11/17\n",
            "726/726 [==============================] - 9s 13ms/step - loss: 0.0035 - accuracy: 0.9968 - auc: 0.9995\n",
            "Epoch 12/17\n",
            "726/726 [==============================] - 9s 12ms/step - loss: 0.0029 - accuracy: 0.9972 - auc: 0.9997\n",
            "Epoch 13/17\n",
            "726/726 [==============================] - 7s 10ms/step - loss: 0.0023 - accuracy: 0.9981 - auc: 0.9997\n",
            "Epoch 14/17\n",
            "726/726 [==============================] - 9s 12ms/step - loss: 0.0016 - accuracy: 0.9988 - auc: 0.9997\n",
            "Epoch 15/17\n",
            "726/726 [==============================] - 9s 12ms/step - loss: 0.0020 - accuracy: 0.9982 - auc: 0.9997\n",
            "Epoch 16/17\n",
            "726/726 [==============================] - 7s 10ms/step - loss: 0.0023 - accuracy: 0.9977 - auc: 0.9998\n",
            "Epoch 17/17\n",
            "726/726 [==============================] - 8s 11ms/step - loss: 0.0014 - accuracy: 0.9989 - auc: 0.9997\n"
          ]
        },
        {
          "output_type": "stream",
          "name": "stderr",
          "text": [
            "WARNING:absl:Found untraced functions such as _jit_compiled_convolution_op, _jit_compiled_convolution_op, _jit_compiled_convolution_op, _jit_compiled_convolution_op while saving (showing 4 of 4). These functions will not be directly callable after loading.\n"
          ]
        },
        {
          "output_type": "execute_result",
          "data": {
            "text/plain": [
              "<keras.callbacks.History at 0x7f6988eba040>"
            ]
          },
          "metadata": {},
          "execution_count": 33
        }
      ]
    },
    {
      "cell_type": "markdown",
      "source": [
        "Evaluate Model"
      ],
      "metadata": {
        "id": "tVbEMxkg440i"
      }
    },
    {
      "cell_type": "code",
      "source": [
        "# Predict with the best model.\n",
        "predicted_y = reg.predict(X_test[\"response\"].to_numpy())\n",
        "# Evaluate the best model with testing data.\n",
        "print(reg.evaluate(X_test[\"response\"].to_numpy(), y_test))"
      ],
      "metadata": {
        "colab": {
          "base_uri": "https://localhost:8080/"
        },
        "outputId": "1addcf85-a176-48ca-ee4b-fa85b93087e8",
        "id": "uvHgMJfoZdvw"
      },
      "execution_count": null,
      "outputs": [
        {
          "output_type": "stream",
          "name": "stdout",
          "text": [
            "311/311 [==============================] - 2s 6ms/step\n",
            "311/311 [==============================] - 1s 4ms/step\n",
            "311/311 [==============================] - 3s 8ms/step - loss: 0.0153 - accuracy: 0.9821 - auc: 0.9925\n",
            "[0.015286284498870373, 0.9821123480796814, 0.9925251603126526]\n"
          ]
        }
      ]
    },
    {
      "cell_type": "markdown",
      "source": [
        "Output model"
      ],
      "metadata": {
        "id": "z7Lchy_Y46qu"
      }
    },
    {
      "cell_type": "code",
      "source": [
        "# Export as a Keras Model.\n",
        "model = reg.export_model()\n",
        "model.summary()\n",
        "try:\n",
        "    model.save(\"model_autokeras_vanilla_text_only\", save_format=\"tf\")\n",
        "except Exception:\n",
        "    model.save(\"model_autokeras_vanilla_text_only\")"
      ],
      "metadata": {
        "id": "g5d6iWkrZdvw",
        "colab": {
          "base_uri": "https://localhost:8080/"
        },
        "outputId": "215abb74-ab29-4bc0-cac6-a702cebd2db6"
      },
      "execution_count": null,
      "outputs": [
        {
          "output_type": "stream",
          "name": "stdout",
          "text": [
            "Model: \"model\"\n",
            "_________________________________________________________________\n",
            " Layer (type)                Output Shape              Param #   \n",
            "=================================================================\n",
            " input_1 (InputLayer)        [(None,)]                 0         \n",
            "                                                                 \n",
            " expand_last_dim (ExpandLast  (None, 1)                0         \n",
            " Dim)                                                            \n",
            "                                                                 \n",
            " text_vectorization (TextVec  (None, 128)              0         \n",
            " torization)                                                     \n",
            "                                                                 \n",
            " embedding (Embedding)       (None, 128, 128)          640128    \n",
            "                                                                 \n",
            " dropout (Dropout)           (None, 128, 128)          0         \n",
            "                                                                 \n",
            " conv1d (Conv1D)             (None, 126, 32)           12320     \n",
            "                                                                 \n",
            " conv1d_1 (Conv1D)           (None, 124, 32)           3104      \n",
            "                                                                 \n",
            " max_pooling1d (MaxPooling1D  (None, 62, 32)           0         \n",
            " )                                                               \n",
            "                                                                 \n",
            " conv1d_2 (Conv1D)           (None, 60, 32)            3104      \n",
            "                                                                 \n",
            " conv1d_3 (Conv1D)           (None, 58, 32)            3104      \n",
            "                                                                 \n",
            " max_pooling1d_1 (MaxPooling  (None, 29, 32)           0         \n",
            " 1D)                                                             \n",
            "                                                                 \n",
            " flatten (Flatten)           (None, 928)               0         \n",
            "                                                                 \n",
            " dense (Dense)               (None, 32)                29728     \n",
            "                                                                 \n",
            " batch_normalization (BatchN  (None, 32)               128       \n",
            " ormalization)                                                   \n",
            "                                                                 \n",
            " re_lu (ReLU)                (None, 32)                0         \n",
            "                                                                 \n",
            " dense_1 (Dense)             (None, 32)                1056      \n",
            "                                                                 \n",
            " batch_normalization_1 (Batc  (None, 32)               128       \n",
            " hNormalization)                                                 \n",
            "                                                                 \n",
            " re_lu_1 (ReLU)              (None, 32)                0         \n",
            "                                                                 \n",
            " regression_head_1 (Dense)   (None, 1)                 33        \n",
            "                                                                 \n",
            "=================================================================\n",
            "Total params: 692,833\n",
            "Trainable params: 692,705\n",
            "Non-trainable params: 128\n",
            "_________________________________________________________________\n"
          ]
        },
        {
          "output_type": "stream",
          "name": "stderr",
          "text": [
            "WARNING:absl:Found untraced functions such as _jit_compiled_convolution_op, _jit_compiled_convolution_op, _jit_compiled_convolution_op, _jit_compiled_convolution_op, _update_step_xla while saving (showing 5 of 5). These functions will not be directly callable after loading.\n"
          ]
        }
      ]
    },
    {
      "cell_type": "markdown",
      "source": [
        "Load Model to check if it can predict"
      ],
      "metadata": {
        "id": "Po3vlI9U48dZ"
      }
    },
    {
      "cell_type": "code",
      "source": [
        "import tensorflow as tf\n",
        "loaded_model = tf.keras.models.load_model(\"model_autokeras_vanilla_text_only\", custom_objects=ak.CUSTOM_OBJECTS)\n",
        "predicted_y = loaded_model.predict(X_test[\"response\"].to_numpy())\n",
        "print(predicted_y)"
      ],
      "metadata": {
        "id": "EPvtlamjZdvx",
        "colab": {
          "base_uri": "https://localhost:8080/"
        },
        "outputId": "55c3060d-5d16-4edb-fc79-4ea46be42f43"
      },
      "execution_count": null,
      "outputs": [
        {
          "output_type": "stream",
          "name": "stdout",
          "text": [
            "311/311 [==============================] - 2s 7ms/step\n",
            "[[-2.08175331e-02]\n",
            " [-1.38656795e-02]\n",
            " [-2.81576067e-03]\n",
            " ...\n",
            " [-2.06542313e-02]\n",
            " [ 9.78062987e-01]\n",
            " [-8.97668302e-04]]\n"
          ]
        }
      ]
    },
    {
      "cell_type": "markdown",
      "source": [
        "# Experiment: Text + GLTR Feature -- AutoKeras\n",
        "\n",
        "The best model after trying 3 models was a Convolutional Neural Network with accuracy: 0.9704 - auc: 0.9986"
      ],
      "metadata": {
        "id": "8bosn7PUygQV"
      }
    },
    {
      "cell_type": "code",
      "source": [
        "!pip install git+https://github.com/keras-team/keras-tuner.git\n",
        "!pip install autokeras"
      ],
      "metadata": {
        "id": "azKqG8pWygQW"
      },
      "execution_count": null,
      "outputs": []
    },
    {
      "cell_type": "code",
      "source": [
        "import autokeras as ak"
      ],
      "metadata": {
        "id": "JYKvLsarygQW"
      },
      "execution_count": null,
      "outputs": []
    },
    {
      "cell_type": "code",
      "source": [
        "import pandas as pd\n",
        "df = pd.read_csv(\"scraped_gltr_features.csv\")[[\"question\",\"response\",\"label\",\"GLTR Category 1\",\"GLTR Category 3\"]]\n",
        "df.dropna(inplace = True)\n",
        "df.head(1)"
      ],
      "metadata": {
        "colab": {
          "base_uri": "https://localhost:8080/",
          "height": 81
        },
        "outputId": "e4916f27-6f26-4345-ddd6-a65dcc5fd7b2",
        "id": "QK7LvfoCygQX"
      },
      "execution_count": null,
      "outputs": [
        {
          "output_type": "execute_result",
          "data": {
            "text/plain": [
              "                                            question  \\\n",
              "0  Why is every book I hear about a \" NY Times # ...   \n",
              "\n",
              "                                            response  label  GLTR Category 1  \\\n",
              "0  There are many different best seller lists tha...    1.0         0.888412   \n",
              "\n",
              "   GLTR Category 3  \n",
              "0         0.017167  "
            ],
            "text/html": [
              "\n",
              "  <div id=\"df-92f16a8e-f9a7-422f-a78c-f4683f85aa02\">\n",
              "    <div class=\"colab-df-container\">\n",
              "      <div>\n",
              "<style scoped>\n",
              "    .dataframe tbody tr th:only-of-type {\n",
              "        vertical-align: middle;\n",
              "    }\n",
              "\n",
              "    .dataframe tbody tr th {\n",
              "        vertical-align: top;\n",
              "    }\n",
              "\n",
              "    .dataframe thead th {\n",
              "        text-align: right;\n",
              "    }\n",
              "</style>\n",
              "<table border=\"1\" class=\"dataframe\">\n",
              "  <thead>\n",
              "    <tr style=\"text-align: right;\">\n",
              "      <th></th>\n",
              "      <th>question</th>\n",
              "      <th>response</th>\n",
              "      <th>label</th>\n",
              "      <th>GLTR Category 1</th>\n",
              "      <th>GLTR Category 3</th>\n",
              "    </tr>\n",
              "  </thead>\n",
              "  <tbody>\n",
              "    <tr>\n",
              "      <th>0</th>\n",
              "      <td>Why is every book I hear about a \" NY Times # ...</td>\n",
              "      <td>There are many different best seller lists tha...</td>\n",
              "      <td>1.0</td>\n",
              "      <td>0.888412</td>\n",
              "      <td>0.017167</td>\n",
              "    </tr>\n",
              "  </tbody>\n",
              "</table>\n",
              "</div>\n",
              "      <button class=\"colab-df-convert\" onclick=\"convertToInteractive('df-92f16a8e-f9a7-422f-a78c-f4683f85aa02')\"\n",
              "              title=\"Convert this dataframe to an interactive table.\"\n",
              "              style=\"display:none;\">\n",
              "        \n",
              "  <svg xmlns=\"http://www.w3.org/2000/svg\" height=\"24px\"viewBox=\"0 0 24 24\"\n",
              "       width=\"24px\">\n",
              "    <path d=\"M0 0h24v24H0V0z\" fill=\"none\"/>\n",
              "    <path d=\"M18.56 5.44l.94 2.06.94-2.06 2.06-.94-2.06-.94-.94-2.06-.94 2.06-2.06.94zm-11 1L8.5 8.5l.94-2.06 2.06-.94-2.06-.94L8.5 2.5l-.94 2.06-2.06.94zm10 10l.94 2.06.94-2.06 2.06-.94-2.06-.94-.94-2.06-.94 2.06-2.06.94z\"/><path d=\"M17.41 7.96l-1.37-1.37c-.4-.4-.92-.59-1.43-.59-.52 0-1.04.2-1.43.59L10.3 9.45l-7.72 7.72c-.78.78-.78 2.05 0 2.83L4 21.41c.39.39.9.59 1.41.59.51 0 1.02-.2 1.41-.59l7.78-7.78 2.81-2.81c.8-.78.8-2.07 0-2.86zM5.41 20L4 18.59l7.72-7.72 1.47 1.35L5.41 20z\"/>\n",
              "  </svg>\n",
              "      </button>\n",
              "      \n",
              "  <style>\n",
              "    .colab-df-container {\n",
              "      display:flex;\n",
              "      flex-wrap:wrap;\n",
              "      gap: 12px;\n",
              "    }\n",
              "\n",
              "    .colab-df-convert {\n",
              "      background-color: #E8F0FE;\n",
              "      border: none;\n",
              "      border-radius: 50%;\n",
              "      cursor: pointer;\n",
              "      display: none;\n",
              "      fill: #1967D2;\n",
              "      height: 32px;\n",
              "      padding: 0 0 0 0;\n",
              "      width: 32px;\n",
              "    }\n",
              "\n",
              "    .colab-df-convert:hover {\n",
              "      background-color: #E2EBFA;\n",
              "      box-shadow: 0px 1px 2px rgba(60, 64, 67, 0.3), 0px 1px 3px 1px rgba(60, 64, 67, 0.15);\n",
              "      fill: #174EA6;\n",
              "    }\n",
              "\n",
              "    [theme=dark] .colab-df-convert {\n",
              "      background-color: #3B4455;\n",
              "      fill: #D2E3FC;\n",
              "    }\n",
              "\n",
              "    [theme=dark] .colab-df-convert:hover {\n",
              "      background-color: #434B5C;\n",
              "      box-shadow: 0px 1px 3px 1px rgba(0, 0, 0, 0.15);\n",
              "      filter: drop-shadow(0px 1px 2px rgba(0, 0, 0, 0.3));\n",
              "      fill: #FFFFFF;\n",
              "    }\n",
              "  </style>\n",
              "\n",
              "      <script>\n",
              "        const buttonEl =\n",
              "          document.querySelector('#df-92f16a8e-f9a7-422f-a78c-f4683f85aa02 button.colab-df-convert');\n",
              "        buttonEl.style.display =\n",
              "          google.colab.kernel.accessAllowed ? 'block' : 'none';\n",
              "\n",
              "        async function convertToInteractive(key) {\n",
              "          const element = document.querySelector('#df-92f16a8e-f9a7-422f-a78c-f4683f85aa02');\n",
              "          const dataTable =\n",
              "            await google.colab.kernel.invokeFunction('convertToInteractive',\n",
              "                                                     [key], {});\n",
              "          if (!dataTable) return;\n",
              "\n",
              "          const docLinkHtml = 'Like what you see? Visit the ' +\n",
              "            '<a target=\"_blank\" href=https://colab.research.google.com/notebooks/data_table.ipynb>data table notebook</a>'\n",
              "            + ' to learn more about interactive tables.';\n",
              "          element.innerHTML = '';\n",
              "          dataTable['output_type'] = 'display_data';\n",
              "          await google.colab.output.renderOutput(dataTable, element);\n",
              "          const docLink = document.createElement('div');\n",
              "          docLink.innerHTML = docLinkHtml;\n",
              "          element.appendChild(docLink);\n",
              "        }\n",
              "      </script>\n",
              "    </div>\n",
              "  </div>\n",
              "  "
            ]
          },
          "metadata": {},
          "execution_count": 7
        }
      ]
    },
    {
      "cell_type": "code",
      "source": [
        "gpt_df = df[df[\"label\"] == 1]\n",
        "human_df = df[df[\"label\"] == 0][:len(gpt_df)]\n",
        "processed_df = pd.concat([gpt_df, human_df])"
      ],
      "metadata": {
        "id": "CsVQzDCe6c9q"
      },
      "execution_count": null,
      "outputs": []
    },
    {
      "cell_type": "code",
      "source": [
        "import matplotlib.pyplot as plt\n",
        "count_Class=pd.value_counts(processed_df[\"label\"], sort= True)\n",
        "count_Class.plot(kind = 'bar',color = [\"green\",\"red\"])\n",
        "plt.title('Distribution of classes where 1 is CHATGPT text')\n",
        "plt.show()"
      ],
      "metadata": {
        "colab": {
          "base_uri": "https://localhost:8080/",
          "height": 460
        },
        "outputId": "a964f349-2386-4967-ffa7-bfdaa5661a3c",
        "id": "KZe60ERsygQX"
      },
      "execution_count": null,
      "outputs": [
        {
          "output_type": "display_data",
          "data": {
            "text/plain": [
              "<Figure size 640x480 with 1 Axes>"
            ],
            "image/png": "[encoded data removed]"
          },
          "metadata": {}
        }
      ]
    },
    {
      "cell_type": "code",
      "source": [
        "from sklearn.model_selection import train_test_split\n",
        "X = processed_df[[\"response\",\"GLTR Category 1\",\"GLTR Category 3\"]]\n",
        "y = processed_df['label'].values\n",
        "X_train, X_test, y_train, y_test = train_test_split(X, y, test_size=0.30, random_state=42)"
      ],
      "metadata": {
        "id": "58EVD7CPygQX"
      },
      "execution_count": null,
      "outputs": []
    },
    {
      "cell_type": "code",
      "source": [
        "input_node_structured = ak.StructuredDataInput()\n",
        "output_node_structured = ak.DenseBlock()(input_node_structured)\n",
        "\n",
        "input_node_text = ak.TextInput()\n",
        "output_node_text = ak.TextBlock(block_type='vanilla')(input_node_text)\n",
        "\n",
        "output_node_merged = ak.Merge()([output_node_structured, output_node_text])\n",
        "final_node = ak.RegressionHead(metrics=[\"accuracy\",\"AUC\"])(output_node_merged)\n",
        "\n",
        "reg = ak.AutoModel(overwrite=True,\n",
        "   inputs=[input_node_structured, input_node_text],\n",
        "   outputs=[final_node],\n",
        "   max_trials=3,\n",
        ")\n",
        "reg.fit([X_train[[\"GLTR Category 1\",\"GLTR Category 3\"]],X_train[\"response\"].to_numpy()], y_train, validation_split=0.15)"
      ],
      "metadata": {
        "colab": {
          "base_uri": "https://localhost:8080/"
        },
        "outputId": "a0b5574a-b507-4a2d-8db6-aab779b41983",
        "id": "Kzta32fbygQX"
      },
      "execution_count": null,
      "outputs": [
        {
          "output_type": "stream",
          "name": "stdout",
          "text": [
            "Trial 3 Complete [00h 15m 56s]\n",
            "val_loss: 0.012001670897006989\n",
            "\n",
            "Best val_loss So Far: 0.011574359610676765\n",
            "Total elapsed time: 00h 58m 58s\n",
            "Epoch 1/16\n",
            "1462/1462 [==============================] - 51s 33ms/step - loss: 0.0285 - accuracy: 0.9722 - auc: 0.9931\n",
            "Epoch 2/16\n",
            "1462/1462 [==============================] - 48s 33ms/step - loss: 0.0150 - accuracy: 0.9865 - auc: 0.9992\n",
            "Epoch 3/16\n",
            "1462/1462 [==============================] - 48s 33ms/step - loss: 0.0107 - accuracy: 0.9941 - auc: 0.9998\n",
            "Epoch 4/16\n",
            "1462/1462 [==============================] - 47s 32ms/step - loss: 0.0082 - accuracy: 0.9967 - auc: 0.9998\n",
            "Epoch 5/16\n",
            "1462/1462 [==============================] - 48s 32ms/step - loss: 0.0067 - accuracy: 0.9950 - auc: 0.9999\n",
            "Epoch 6/16\n",
            "1462/1462 [==============================] - 46s 32ms/step - loss: 0.0056 - accuracy: 0.9948 - auc: 0.9999\n",
            "Epoch 7/16\n",
            "1462/1462 [==============================] - 47s 32ms/step - loss: 0.0049 - accuracy: 0.9951 - auc: 0.9999\n",
            "Epoch 8/16\n",
            "1462/1462 [==============================] - 48s 33ms/step - loss: 0.0045 - accuracy: 0.9954 - auc: 0.9999\n",
            "Epoch 9/16\n",
            "1462/1462 [==============================] - 48s 33ms/step - loss: 0.0039 - accuracy: 0.9958 - auc: 0.9999\n",
            "Epoch 10/16\n",
            "1462/1462 [==============================] - 50s 34ms/step - loss: 0.0036 - accuracy: 0.9962 - auc: 0.9999\n",
            "Epoch 11/16\n",
            "1462/1462 [==============================] - 50s 34ms/step - loss: 0.0032 - accuracy: 0.9964 - auc: 0.9999\n",
            "Epoch 12/16\n",
            "1462/1462 [==============================] - 48s 33ms/step - loss: 0.0031 - accuracy: 0.9965 - auc: 0.9999\n",
            "Epoch 13/16\n",
            "1462/1462 [==============================] - 47s 32ms/step - loss: 0.0029 - accuracy: 0.9969 - auc: 0.9999\n",
            "Epoch 14/16\n",
            "1462/1462 [==============================] - 49s 33ms/step - loss: 0.0026 - accuracy: 0.9972 - auc: 0.9999\n",
            "Epoch 15/16\n",
            "1462/1462 [==============================] - 53s 36ms/step - loss: 0.0028 - accuracy: 0.9969 - auc: 0.9999\n",
            "Epoch 16/16\n",
            "1462/1462 [==============================] - 52s 35ms/step - loss: 0.0024 - accuracy: 0.9976 - auc: 0.9999\n"
          ]
        },
        {
          "output_type": "stream",
          "name": "stderr",
          "text": [
            "WARNING:absl:Found untraced functions such as _jit_compiled_convolution_op, _jit_compiled_convolution_op, _jit_compiled_convolution_op, _jit_compiled_convolution_op, _update_step_xla while saving (showing 5 of 5). These functions will not be directly callable after loading.\n"
          ]
        },
        {
          "output_type": "execute_result",
          "data": {
            "text/plain": [
              "<keras.callbacks.History at 0x7fbaa10a9bb0>"
            ]
          },
          "metadata": {},
          "execution_count": 11
        }
      ]
    },
    {
      "cell_type": "code",
      "source": [
        "# Predict with the best model.\n",
        "predicted_y = reg.predict([X_test[[\"GLTR Category 1\",\"GLTR Category 3\"]],X_test[\"response\"].to_numpy()])\n",
        "# Evaluate the best model with testing data.\n",
        "print(reg.evaluate([X_test[[\"GLTR Category 1\",\"GLTR Category 3\"]],X_test[\"response\"].to_numpy()], y_test))"
      ],
      "metadata": {
        "id": "F5XDuq0cygQY",
        "colab": {
          "base_uri": "https://localhost:8080/"
        },
        "outputId": "2c883df1-a07a-40a2-b9b1-6861c1a93f68"
      },
      "execution_count": null,
      "outputs": [
        {
          "output_type": "stream",
          "name": "stdout",
          "text": [
            "627/627 [==============================] - 6s 8ms/step\n",
            "627/627 [==============================] - 8s 13ms/step\n",
            "627/627 [==============================] - 5s 7ms/step - loss: 0.0206 - accuracy: 0.9704 - auc: 0.9986\n",
            "[0.020609285682439804, 0.9704091548919678, 0.9985998868942261]\n"
          ]
        }
      ]
    },
    {
      "cell_type": "code",
      "source": [
        "# Export as a Keras Model.\n",
        "model = reg.export_model()\n",
        "model.summary()\n",
        "try:\n",
        "    model.save(\"model_autokeras_gltr\", save_format=\"tf\")\n",
        "except Exception:\n",
        "    model.save(\"model_autokeras_gltr\")"
      ],
      "metadata": {
        "id": "WitKGYjWygQY",
        "colab": {
          "base_uri": "https://localhost:8080/"
        },
        "outputId": "e20daca5-dc1e-4e07-9212-19c522a3e92e"
      },
      "execution_count": null,
      "outputs": [
        {
          "output_type": "stream",
          "name": "stdout",
          "text": [
            "Model: \"model\"\n",
            "__________________________________________________________________________________________________\n",
            " Layer (type)                   Output Shape         Param #     Connected to                     \n",
            "==================================================================================================\n",
            " input_2 (InputLayer)           [(None,)]            0           []                               \n",
            "                                                                                                  \n",
            " expand_last_dim (ExpandLastDim  (None, 1)           0           ['input_2[0][0]']                \n",
            " )                                                                                                \n",
            "                                                                                                  \n",
            " text_vectorization (TextVector  (None, 64)          0           ['expand_last_dim[0][0]']        \n",
            " ization)                                                                                         \n",
            "                                                                                                  \n",
            " embedding (Embedding)          (None, 64, 128)      640128      ['text_vectorization[0][0]']     \n",
            "                                                                                                  \n",
            " dropout (Dropout)              (None, 64, 128)      0           ['embedding[0][0]']              \n",
            "                                                                                                  \n",
            " conv1d (Conv1D)                (None, 62, 32)       12320       ['dropout[0][0]']                \n",
            "                                                                                                  \n",
            " conv1d_1 (Conv1D)              (None, 60, 32)       3104        ['conv1d[0][0]']                 \n",
            "                                                                                                  \n",
            " max_pooling1d (MaxPooling1D)   (None, 30, 32)       0           ['conv1d_1[0][0]']               \n",
            "                                                                                                  \n",
            " conv1d_2 (Conv1D)              (None, 28, 32)       3104        ['max_pooling1d[0][0]']          \n",
            "                                                                                                  \n",
            " input_1 (InputLayer)           [(None, 2)]          0           []                               \n",
            "                                                                                                  \n",
            " conv1d_3 (Conv1D)              (None, 26, 32)       3104        ['conv1d_2[0][0]']               \n",
            "                                                                                                  \n",
            " dense (Dense)                  (None, 32)           96          ['input_1[0][0]']                \n",
            "                                                                                                  \n",
            " max_pooling1d_1 (MaxPooling1D)  (None, 13, 32)      0           ['conv1d_3[0][0]']               \n",
            "                                                                                                  \n",
            " batch_normalization (BatchNorm  (None, 32)          128         ['dense[0][0]']                  \n",
            " alization)                                                                                       \n",
            "                                                                                                  \n",
            " flatten (Flatten)              (None, 416)          0           ['max_pooling1d_1[0][0]']        \n",
            "                                                                                                  \n",
            " re_lu (ReLU)                   (None, 32)           0           ['batch_normalization[0][0]']    \n",
            "                                                                                                  \n",
            " dense_2 (Dense)                (None, 32)           13344       ['flatten[0][0]']                \n",
            "                                                                                                  \n",
            " dense_1 (Dense)                (None, 32)           1056        ['re_lu[0][0]']                  \n",
            "                                                                                                  \n",
            " re_lu_2 (ReLU)                 (None, 32)           0           ['dense_2[0][0]']                \n",
            "                                                                                                  \n",
            " batch_normalization_1 (BatchNo  (None, 32)          128         ['dense_1[0][0]']                \n",
            " rmalization)                                                                                     \n",
            "                                                                                                  \n",
            " dense_3 (Dense)                (None, 32)           1056        ['re_lu_2[0][0]']                \n",
            "                                                                                                  \n",
            " re_lu_1 (ReLU)                 (None, 32)           0           ['batch_normalization_1[0][0]']  \n",
            "                                                                                                  \n",
            " re_lu_3 (ReLU)                 (None, 32)           0           ['dense_3[0][0]']                \n",
            "                                                                                                  \n",
            " add (Add)                      (None, 32)           0           ['re_lu_1[0][0]',                \n",
            "                                                                  're_lu_3[0][0]']                \n",
            "                                                                                                  \n",
            " regression_head_1 (Dense)      (None, 1)            33          ['add[0][0]']                    \n",
            "                                                                                                  \n",
            "==================================================================================================\n",
            "Total params: 677,601\n",
            "Trainable params: 677,473\n",
            "Non-trainable params: 128\n",
            "__________________________________________________________________________________________________\n"
          ]
        },
        {
          "output_type": "stream",
          "name": "stderr",
          "text": [
            "WARNING:absl:Found untraced functions such as _jit_compiled_convolution_op, _jit_compiled_convolution_op, _jit_compiled_convolution_op, _jit_compiled_convolution_op, _update_step_xla while saving (showing 5 of 5). These functions will not be directly callable after loading.\n"
          ]
        }
      ]
    },
    {
      "cell_type": "code",
      "source": [
        "import tensorflow as tf\n",
        "loaded_model = tf.keras.models.load_model(\"model_autokeras_gltr\", custom_objects=ak.CUSTOM_OBJECTS)\n",
        "predicted_y = loaded_model.predict([X_test[[\"GLTR Category 1\",\"GLTR Category 3\"]],X_test[\"response\"].to_numpy()])\n",
        "print(predicted_y)"
      ],
      "metadata": {
        "id": "dGICBFhUygQY",
        "colab": {
          "base_uri": "https://localhost:8080/"
        },
        "outputId": "c1312add-3244-4e4e-e72b-555b24d50b13"
      },
      "execution_count": null,
      "outputs": [
        {
          "output_type": "stream",
          "name": "stdout",
          "text": [
            "627/627 [==============================] - 5s 7ms/step\n",
            "[[ 0.9761481 ]\n",
            " [ 0.9706696 ]\n",
            " [ 0.98814714]\n",
            " ...\n",
            " [ 0.968687  ]\n",
            " [-0.00653578]\n",
            " [ 0.00206957]]\n"
          ]
        }
      ]
    },
    {
      "cell_type": "markdown",
      "source": [
        "# Holdout Dataset Evaluation of Models\n",
        "\n",
        "First, the models will be wrapped in a Custom Class so that they can be added into an ensemble later"
      ],
      "metadata": {
        "id": "HBQj35wnJcus"
      }
    },
    {
      "cell_type": "code",
      "source": [
        "#For RNN Feature Classifier\n",
        "!pip install tensorflow_text\n",
        "!pip install git+https://github.com/keras-team/keras-tuner.git\n",
        "!pip install autokeras"
      ],
      "metadata": {
        "id": "1W4C2q9VnDwl"
      },
      "execution_count": null,
      "outputs": []
    },
    {
      "cell_type": "code",
      "source": [
        "\"\"\"\n",
        "For RNN Feature Classifier\n",
        "!pip install tensorflow_text\n",
        "\"\"\"\n",
        "import autokeras as ak\n",
        "\n",
        "from sklearn.base import BaseEstimator, ClassifierMixin, TransformerMixin\n",
        "from sklearn.pipeline import Pipeline\n",
        "from tensorflow.keras.models import load_model\n",
        "\n",
        "import tensorflow as tf\n",
        "import numpy as np\n",
        "import tensorflow_hub as hub\n",
        "import tensorflow_text as text\n",
        "from tensorflow.keras.models import load_model\n",
        "\n",
        "def flatten(l):\n",
        "    return [item for sublist in l for item in sublist]\n",
        "\n",
        "def process_output(preds):\n",
        "  flattened_pred = flatten(preds)\n",
        "  output = tf.constant(flattened_pred)\n",
        "  return tf.math.sigmoid(output).numpy().tolist()\n",
        "\n",
        "class RNNPerplexityClassifier(BaseEstimator, ClassifierMixin):\n",
        "    def __init__(self, path):\n",
        "      self.model=load_model(path)\n",
        "    \n",
        "    def predict(self, X, y=None):\n",
        "      processed_X = self.process(X)\n",
        "      return process_output(self.model.predict(processed_X))\n",
        "    \n",
        "    #Add any custom transformers as needed to produce the X input format your model needs \n",
        "    def process(self, X, y=None):\n",
        "      output = [X[[\"Mean Perplexity\"]].values, X[\"response\"].values]\n",
        "      return output\n",
        "\n",
        "class CNNPerplexityClassifier(BaseEstimator, ClassifierMixin):\n",
        "    def __init__(self, path):\n",
        "      self.model=load_model(path,custom_objects=ak.CUSTOM_OBJECTS)\n",
        "    \n",
        "    def predict(self, X, y=None):\n",
        "      processed_X = self.process(X)\n",
        "      return process_output(self.model.predict(processed_X))\n",
        "\n",
        "    #Add any custom transformers as needed to produce the X input format your model needs \n",
        "    def process(self, X, y=None):\n",
        "      output = [X[[\"Mean Perplexity\"]],X[\"response\"].to_numpy()]\n",
        "      return output\n",
        "\n",
        "class CNNGLTRClassifier(BaseEstimator, ClassifierMixin):\n",
        "    def __init__(self, path):\n",
        "      self.model=load_model(path,custom_objects=ak.CUSTOM_OBJECTS)\n",
        "    \n",
        "    def predict(self, X, y=None):\n",
        "      processed_X = self.process(X)\n",
        "      return process_output(self.model.predict(processed_X))\n",
        "    \n",
        "    #Add any custom transformers as needed to produce the X input format your model needs \n",
        "    def process(self, X, y=None):\n",
        "      output = [X[[\"GLTR Category 1\",\"GLTR Category 3\"]],X[\"response\"].to_numpy()]\n",
        "      return output\n",
        "\n",
        "class CNNTextClassifier(BaseEstimator, ClassifierMixin):\n",
        "    def __init__(self, path):\n",
        "      self.model=load_model(path,custom_objects=ak.CUSTOM_OBJECTS)\n",
        "    \n",
        "    def predict(self, X, y=None):\n",
        "      processed_X = self.process(X)\n",
        "      return process_output(self.model.predict(processed_X))\n",
        "    \n",
        "    #Add any custom transformers as needed to produce the X input format your model needs \n",
        "    def process(self, X, y=None):\n",
        "      output = X[\"response\"].to_numpy()\n",
        "      return output"
      ],
      "metadata": {
        "id": "1IpdwimrVOQz"
      },
      "execution_count": null,
      "outputs": []
    },
    {
      "cell_type": "code",
      "source": [
        "rnn_perplexity_classifier = RNNPerplexityClassifier(current_directory+\"/rnn_features_model\")\n",
        "cnn_perplexity_classifier = CNNPerplexityClassifier(current_directory+\"/model_autokeras_vanilla\")\n",
        "cnn_gltr_classifier = CNNGLTRClassifier(current_directory+\"/model_autokeras_gltr\")\n",
        "cnn_text_classifier = CNNTextClassifier(current_directory+\"/model_autokeras_vanilla_text_only\")"
      ],
      "metadata": {
        "id": "ocOSu3vJ227K"
      },
      "execution_count": null,
      "outputs": []
    },
    {
      "cell_type": "markdown",
      "source": [
        "Load holdout data and Normalise the columns\n",
        "\n",
        "\n",
        "*   GLTR, Subjectivity is from 0 to 1\n",
        "\n"
      ],
      "metadata": {
        "id": "7hegIoyplVWW"
      }
    },
    {
      "cell_type": "code",
      "source": [
        "from sklearn.preprocessing import MinMaxScaler\n",
        "df = pd.read_csv(\"holdout_with_features.csv\")\n",
        "col_to_normalise = [\"Mean Perplexity\", \"sum_mistakes\", \"Formality Score\"]\n",
        "for column in col_to_normalise:\n",
        "  df[column] = MinMaxScaler().fit_transform(np.array(df[column]).reshape(-1,1))  \n",
        "df.dropna(inplace=True)\n",
        "df.head(1)"
      ],
      "metadata": {
        "colab": {
          "base_uri": "https://localhost:8080/",
          "height": 81
        },
        "id": "qEb6E6VH5TAq",
        "outputId": "ccfb66b1-2fc2-4709-cad4-9c4791b16a80"
      },
      "execution_count": null,
      "outputs": [
        {
          "output_type": "execute_result",
          "data": {
            "text/plain": [
              "                                            response  Label  GLTR Category 1  \\\n",
              "0  Hyperinflation comes almost always because of ...      0         0.605442   \n",
              "\n",
              "   GLTR Category 3  Mean Perplexity  sum_mistakes  TextBlob_Subjectivity  \\\n",
              "0         0.112245         0.034284      0.058824               0.417597   \n",
              "\n",
              "   Formality Score  \n",
              "0         0.671505  "
            ],
            "text/html": [
              "\n",
              "  <div id=\"df-98b46a42-3bbe-4564-b66f-c108275ec739\">\n",
              "    <div class=\"colab-df-container\">\n",
              "      <div>\n",
              "<style scoped>\n",
              "    .dataframe tbody tr th:only-of-type {\n",
              "        vertical-align: middle;\n",
              "    }\n",
              "\n",
              "    .dataframe tbody tr th {\n",
              "        vertical-align: top;\n",
              "    }\n",
              "\n",
              "    .dataframe thead th {\n",
              "        text-align: right;\n",
              "    }\n",
              "</style>\n",
              "<table border=\"1\" class=\"dataframe\">\n",
              "  <thead>\n",
              "    <tr style=\"text-align: right;\">\n",
              "      <th></th>\n",
              "      <th>response</th>\n",
              "      <th>Label</th>\n",
              "      <th>GLTR Category 1</th>\n",
              "      <th>GLTR Category 3</th>\n",
              "      <th>Mean Perplexity</th>\n",
              "      <th>sum_mistakes</th>\n",
              "      <th>TextBlob_Subjectivity</th>\n",
              "      <th>Formality Score</th>\n",
              "    </tr>\n",
              "  </thead>\n",
              "  <tbody>\n",
              "    <tr>\n",
              "      <th>0</th>\n",
              "      <td>Hyperinflation comes almost always because of ...</td>\n",
              "      <td>0</td>\n",
              "      <td>0.605442</td>\n",
              "      <td>0.112245</td>\n",
              "      <td>0.034284</td>\n",
              "      <td>0.058824</td>\n",
              "      <td>0.417597</td>\n",
              "      <td>0.671505</td>\n",
              "    </tr>\n",
              "  </tbody>\n",
              "</table>\n",
              "</div>\n",
              "      <button class=\"colab-df-convert\" onclick=\"convertToInteractive('df-98b46a42-3bbe-4564-b66f-c108275ec739')\"\n",
              "              title=\"Convert this dataframe to an interactive table.\"\n",
              "              style=\"display:none;\">\n",
              "        \n",
              "  <svg xmlns=\"http://www.w3.org/2000/svg\" height=\"24px\"viewBox=\"0 0 24 24\"\n",
              "       width=\"24px\">\n",
              "    <path d=\"M0 0h24v24H0V0z\" fill=\"none\"/>\n",
              "    <path d=\"M18.56 5.44l.94 2.06.94-2.06 2.06-.94-2.06-.94-.94-2.06-.94 2.06-2.06.94zm-11 1L8.5 8.5l.94-2.06 2.06-.94-2.06-.94L8.5 2.5l-.94 2.06-2.06.94zm10 10l.94 2.06.94-2.06 2.06-.94-2.06-.94-.94-2.06-.94 2.06-2.06.94z\"/><path d=\"M17.41 7.96l-1.37-1.37c-.4-.4-.92-.59-1.43-.59-.52 0-1.04.2-1.43.59L10.3 9.45l-7.72 7.72c-.78.78-.78 2.05 0 2.83L4 21.41c.39.39.9.59 1.41.59.51 0 1.02-.2 1.41-.59l7.78-7.78 2.81-2.81c.8-.78.8-2.07 0-2.86zM5.41 20L4 18.59l7.72-7.72 1.47 1.35L5.41 20z\"/>\n",
              "  </svg>\n",
              "      </button>\n",
              "      \n",
              "  <style>\n",
              "    .colab-df-container {\n",
              "      display:flex;\n",
              "      flex-wrap:wrap;\n",
              "      gap: 12px;\n",
              "    }\n",
              "\n",
              "    .colab-df-convert {\n",
              "      background-color: #E8F0FE;\n",
              "      border: none;\n",
              "      border-radius: 50%;\n",
              "      cursor: pointer;\n",
              "      display: none;\n",
              "      fill: #1967D2;\n",
              "      height: 32px;\n",
              "      padding: 0 0 0 0;\n",
              "      width: 32px;\n",
              "    }\n",
              "\n",
              "    .colab-df-convert:hover {\n",
              "      background-color: #E2EBFA;\n",
              "      box-shadow: 0px 1px 2px rgba(60, 64, 67, 0.3), 0px 1px 3px 1px rgba(60, 64, 67, 0.15);\n",
              "      fill: #174EA6;\n",
              "    }\n",
              "\n",
              "    [theme=dark] .colab-df-convert {\n",
              "      background-color: #3B4455;\n",
              "      fill: #D2E3FC;\n",
              "    }\n",
              "\n",
              "    [theme=dark] .colab-df-convert:hover {\n",
              "      background-color: #434B5C;\n",
              "      box-shadow: 0px 1px 3px 1px rgba(0, 0, 0, 0.15);\n",
              "      filter: drop-shadow(0px 1px 2px rgba(0, 0, 0, 0.3));\n",
              "      fill: #FFFFFF;\n",
              "    }\n",
              "  </style>\n",
              "\n",
              "      <script>\n",
              "        const buttonEl =\n",
              "          document.querySelector('#df-98b46a42-3bbe-4564-b66f-c108275ec739 button.colab-df-convert');\n",
              "        buttonEl.style.display =\n",
              "          google.colab.kernel.accessAllowed ? 'block' : 'none';\n",
              "\n",
              "        async function convertToInteractive(key) {\n",
              "          const element = document.querySelector('#df-98b46a42-3bbe-4564-b66f-c108275ec739');\n",
              "          const dataTable =\n",
              "            await google.colab.kernel.invokeFunction('convertToInteractive',\n",
              "                                                     [key], {});\n",
              "          if (!dataTable) return;\n",
              "\n",
              "          const docLinkHtml = 'Like what you see? Visit the ' +\n",
              "            '<a target=\"_blank\" href=https://colab.research.google.com/notebooks/data_table.ipynb>data table notebook</a>'\n",
              "            + ' to learn more about interactive tables.';\n",
              "          element.innerHTML = '';\n",
              "          dataTable['output_type'] = 'display_data';\n",
              "          await google.colab.output.renderOutput(dataTable, element);\n",
              "          const docLink = document.createElement('div');\n",
              "          docLink.innerHTML = docLinkHtml;\n",
              "          element.appendChild(docLink);\n",
              "        }\n",
              "      </script>\n",
              "    </div>\n",
              "  </div>\n",
              "  "
            ]
          },
          "metadata": {},
          "execution_count": 16
        }
      ]
    },
    {
      "cell_type": "code",
      "source": [
        "X = df.drop(\"Label\",axis=1)\n",
        "y = df['Label'].values"
      ],
      "metadata": {
        "id": "35_s4iwWgOz-"
      },
      "execution_count": null,
      "outputs": []
    },
    {
      "cell_type": "code",
      "source": [
        "import matplotlib.pyplot as plt\n",
        "count_Class=pd.value_counts(df[\"Label\"], sort= True)\n",
        "count_Class.plot(kind = 'bar',color = [\"green\",\"red\"])\n",
        "plt.title('Distribution of classes where 1 is CHATGPT text')\n",
        "plt.show()"
      ],
      "metadata": {
        "colab": {
          "base_uri": "https://localhost:8080/",
          "height": 447
        },
        "id": "fAwSeQ6hY05A",
        "outputId": "5a42c306-5753-4498-8a91-9b43a86c256a"
      },
      "execution_count": null,
      "outputs": [
        {
          "output_type": "display_data",
          "data": {
            "text/plain": [
              "<Figure size 640x480 with 1 Axes>"
            ],
            "image/png": "[encoded data removed]"
          },
          "metadata": {}
        }
      ]
    },
    {
      "cell_type": "markdown",
      "source": [
        "Get Predictions"
      ],
      "metadata": {
        "id": "gk-Lt9p_CRU3"
      }
    },
    {
      "cell_type": "code",
      "source": [
        "from sklearn.metrics import classification_report,accuracy_score,f1_score,roc_auc_score  \n",
        "\n",
        "def evaluate(pred, y_true, threshold):\n",
        "  y_pred = np.array(pred)\n",
        "  discrete = (y_pred > threshold).astype(\"int32\")\n",
        "  print(f\"Accuracy: {accuracy_score(discrete, y)}\")\n",
        "  print(f\"F1: {f1_score(discrete, y)}\")\n",
        "  print(f\"ROC_AUC: {roc_auc_score(discrete, y)}\")\n",
        "  print(classification_report(discrete, y, target_names=[\"Human\", \"ChatGPT\"]))"
      ],
      "metadata": {
        "id": "sy5bm6epyvFQ"
      },
      "execution_count": null,
      "outputs": []
    },
    {
      "cell_type": "code",
      "source": [
        "rnn_prediction_output = rnn_perplexity_classifier.predict(X)\n",
        "print(rnn_prediction_output)"
      ],
      "metadata": {
        "colab": {
          "base_uri": "https://localhost:8080/"
        },
        "id": "mMxolD0DLP3D",
        "outputId": "de6ebefb-cbca-4301-fcf7-b9abd5a2ea6d"
      },
      "execution_count": null,
      "outputs": [
        {
          "output_type": "stream",
          "name": "stdout",
          "text": [
            "63/63 [==============================] - 11s 170ms/step\n",
            "[0.5169256329536438, 0.5254573822021484, 0.535881519317627, 0.5401878952980042, 0.5086976289749146, 0.5287972092628479, 0.5290522575378418, 0.5256655216217041, 0.5699979066848755, 0.529885470867157, 0.568962574005127, 0.5556480288505554, 0.5139241218566895, 0.5107952952384949, 0.5535072684288025, 0.5682755708694458, 0.5211166739463806, 0.5959980487823486, 0.6063179969787598, 0.5091206431388855, 0.521449625492096, 0.5610183477401733, 0.5121335387229919, 0.5304682850837708, 0.5319789052009583, 0.5812480449676514, 0.5395081043243408, 0.5973379611968994, 0.5938888788223267, 0.5123946666717529, 0.5349463224411011, 0.5099271535873413, 0.5250102281570435, 0.5115611553192139, 0.5218809843063354, 0.5176143050193787, 0.5198603272438049, 0.5624189972877502, 0.5519843697547913, 0.5434877276420593, 0.5269399285316467, 0.5428221821784973, 0.5580783486366272, 0.5271944999694824, 0.5187992453575134, 0.5223661661148071, 0.5103232264518738, 0.527152419090271, 0.5178746581077576, 0.5924897193908691, 0.5114862322807312, 0.5266125202178955, 0.5436601638793945, 0.5154638290405273, 0.5189691781997681, 0.5127779841423035, 0.552510678768158, 0.5194408297538757, 0.5179329514503479, 0.5294655561447144, 0.5106840133666992, 0.5327252745628357, 0.5312873125076294, 0.5284194350242615, 0.5101633667945862, 0.5137020349502563, 0.50982266664505, 0.5292527675628662, 0.5104242563247681, 0.5243525505065918, 0.551297128200531, 0.5517933368682861, 0.5150253176689148, 0.5419687032699585, 0.6029338836669922, 0.5114464163780212, 0.5525618195533752, 0.5804438591003418, 0.5198391675949097, 0.5298839807510376, 0.6421890258789062, 0.5751209259033203, 0.6114648580551147, 0.5137718915939331, 0.5187689065933228, 0.5453937649726868, 0.5184374451637268, 0.5160250067710876, 0.5712159872055054, 0.5549916625022888, 0.518237292766571, 0.5119850635528564, 0.5218381881713867, 0.5136696696281433, 0.5332428216934204, 0.5211796164512634, 0.5142108798027039, 0.6154879927635193, 0.5333095192909241, 0.5836755037307739, 0.5365172028541565, 0.5359453558921814, 0.5274657607078552, 0.5094636082649231, 0.5409464836120605, 0.539842426776886, 0.5169008374214172, 0.5218840837478638, 0.5271388292312622, 0.5746176242828369, 0.5102507472038269, 0.5405670404434204, 0.6256469488143921, 0.5169737935066223, 0.517666757106781, 0.5250191688537598, 0.5124431252479553, 0.5362586379051208, 0.5132866501808167, 0.517772912979126, 0.5155969858169556, 0.548710286617279, 0.5156082510948181, 0.5670578479766846, 0.523391604423523, 0.5210028290748596, 0.5431330800056458, 0.5221061706542969, 0.5184558033943176, 0.5192617177963257, 0.605567991733551, 0.5217908620834351, 0.5222492814064026, 0.5423970222473145, 0.5186713933944702, 0.5116713047027588, 0.5211333632469177, 0.5460517406463623, 0.5325853228569031, 0.5205661058425903, 0.5273992419242859, 0.534661054611206, 0.5728875398635864, 0.541904091835022, 0.5150955319404602, 0.5266351699829102, 0.5099884271621704, 0.5423243045806885, 0.5127648711204529, 0.5269513726234436, 0.5202042460441589, 0.5581720471382141, 0.5115670561790466, 0.5950838923454285, 0.5169544816017151, 0.526222825050354, 0.5224834084510803, 0.5279931426048279, 0.5141448378562927, 0.5512616634368896, 0.5137467980384827, 0.6002141833305359, 0.5546157956123352, 0.5095500946044922, 0.518919825553894, 0.5160860419273376, 0.6209742426872253, 0.5448904633522034, 0.51128751039505, 0.5921244621276855, 0.5615766048431396, 0.5095383524894714, 0.5086528658866882, 0.5543715357780457, 0.5129861235618591, 0.5860065817832947, 0.5105549097061157, 0.5176405310630798, 0.5723870396614075, 0.5787301659584045, 0.531516969203949, 0.5355131030082703, 0.5098022222518921, 0.5163372159004211, 0.5213103294372559, 0.5261672735214233, 0.5096532106399536, 0.5287905931472778, 0.5394008755683899, 0.5130165815353394, 0.5509265661239624, 0.5777710676193237, 0.5137109160423279, 0.5318475961685181, 0.5409365892410278, 0.5433275103569031, 0.5598824620246887, 0.5261400938034058, 0.5133974552154541, 0.5105047821998596, 0.5188203454017639, 0.5467693209648132, 0.5094376802444458, 0.5539049506187439, 0.5783591866493225, 0.5288966298103333, 0.5181516408920288, 0.5367434620857239, 0.5134631991386414, 0.5186577439308167, 0.5174614191055298, 0.5199811458587646, 0.5269156694412231, 0.5761316418647766, 0.5254545211791992, 0.5114516019821167, 0.511452317237854, 0.5104228854179382, 0.5717639327049255, 0.5634785890579224, 0.5627281665802002, 0.5235341191291809, 0.5311892032623291, 0.5112218856811523, 0.5699079036712646, 0.5263360738754272, 0.5173537135124207, 0.5300490856170654, 0.5126000046730042, 0.5614657998085022, 0.5166054964065552, 0.5303746461868286, 0.5175889134407043, 0.5644150972366333, 0.512994110584259, 0.5129338502883911, 0.5130296349525452, 0.5125790238380432, 0.5813574194908142, 0.561347246170044, 0.5142450928688049, 0.5212130546569824, 0.5206418633460999, 0.514423668384552, 0.5094956159591675, 0.5136289000511169, 0.5141773223876953, 0.5200316905975342, 0.5147719383239746, 0.5312931537628174, 0.5381605625152588, 0.549365222454071, 0.508762538433075, 0.5402911305427551, 0.5951248407363892, 0.5655425786972046, 0.5331724286079407, 0.5396213531494141, 0.5342970490455627, 0.5170614123344421, 0.5233591794967651, 0.6020704507827759, 0.5959644913673401, 0.5168128609657288, 0.5815863013267517, 0.5397968888282776, 0.5992663502693176, 0.511023759841919, 0.5291318297386169, 0.512225329875946, 0.5276930928230286, 0.511583685874939, 0.5766988396644592, 0.5188905596733093, 0.5120002031326294, 0.5088883638381958, 0.575937807559967, 0.5103700160980225, 0.5607948899269104, 0.5169029831886292, 0.516367495059967, 0.5173157453536987, 0.5467982292175293, 0.5444678664207458, 0.5094258189201355, 0.5621546506881714, 0.5271052718162537, 0.518711507320404, 0.5232899188995361, 0.5215498208999634, 0.5230941772460938, 0.5253790020942688, 0.5122377276420593, 0.5355191826820374, 0.611116349697113, 0.5395310521125793, 0.5553192496299744, 0.5314532518386841, 0.5830205678939819, 0.5570691227912903, 0.5725822448730469, 0.5320603847503662, 0.5360649824142456, 0.5102288126945496, 0.5546677112579346, 0.5134544372558594, 0.5265251994132996, 0.5282474756240845, 0.5264477729797363, 0.5580666065216064, 0.5104254484176636, 0.518738329410553, 0.5256476402282715, 0.5271868109703064, 0.5219193696975708, 0.6075080037117004, 0.5131189823150635, 0.5225520133972168, 0.5152992010116577, 0.5331867933273315, 0.5129194855690002, 0.5189086198806763, 0.5197052359580994, 0.5192017555236816, 0.5133207440376282, 0.5951367020606995, 0.5476214289665222, 0.5684719681739807, 0.5458343625068665, 0.5156679749488831, 0.5116688013076782, 0.5265716910362244, 0.5844271779060364, 0.5805212259292603, 0.547234296798706, 0.5112782120704651, 0.5102291703224182, 0.5139607787132263, 0.5106554627418518, 0.5362802743911743, 0.5796836614608765, 0.5217215418815613, 0.5159708857536316, 0.527895987033844, 0.5367187857627869, 0.6113154888153076, 0.5127196907997131, 0.581108033657074, 0.559147298336029, 0.5315877795219421, 0.5247827768325806, 0.5381225347518921, 0.5241600275039673, 0.5098146796226501, 0.5086024403572083, 0.5762417912483215, 0.5106619000434875, 0.5229698419570923, 0.5096946358680725, 0.6028259992599487, 0.5115714073181152, 0.526077926158905, 0.524752676486969, 0.5727159380912781, 0.5168686509132385, 0.562353789806366, 0.6133216619491577, 0.5134196281433105, 0.5174475312232971, 0.5107807517051697, 0.5263026356697083, 0.6049405932426453, 0.5128827095031738, 0.5124512314796448, 0.5305920839309692, 0.6084963083267212, 0.5664793848991394, 0.51859450340271, 0.513281524181366, 0.511694610118866, 0.533001720905304, 0.5376816391944885, 0.5100722312927246, 0.5172063112258911, 0.5163957476615906, 0.6095539927482605, 0.5293338298797607, 0.5109308958053589, 0.5570637583732605, 0.5166164040565491, 0.6299715638160706, 0.5159133672714233, 0.5234547257423401, 0.5571302175521851, 0.5096561908721924, 0.5419410467147827, 0.5120230317115784, 0.5308997631072998, 0.5479422807693481, 0.5336960554122925, 0.5282397866249084, 0.5570785403251648, 0.5183188319206238, 0.5239080786705017, 0.6177363991737366, 0.5531907677650452, 0.540197491645813, 0.5142384767532349, 0.5134293437004089, 0.5330986976623535, 0.5929508209228516, 0.5870494842529297, 0.5163295269012451, 0.5180485844612122, 0.5276744365692139, 0.574256181716919, 0.5556355714797974, 0.5189412236213684, 0.5190617442131042, 0.5233683586120605, 0.521327793598175, 0.5112742781639099, 0.5154062509536743, 0.5123474597930908, 0.550921618938446, 0.5183773040771484, 0.5186638832092285, 0.5395553112030029, 0.5882163047790527, 0.5223672986030579, 0.5253406763076782, 0.5120607018470764, 0.5129734873771667, 0.5659483671188354, 0.5272896885871887, 0.5582733750343323, 0.5408475995063782, 0.5091902613639832, 0.5602616667747498, 0.5293599367141724, 0.5187926888465881, 0.5693972706794739, 0.5115723609924316, 0.5110478401184082, 0.5186219811439514, 0.5104026794433594, 0.5620560646057129, 0.5931251645088196, 0.5215145945549011, 0.609416127204895, 0.5191994309425354, 0.5121506452560425, 0.5200725793838501, 0.5203192234039307, 0.5516525506973267, 0.5086058378219604, 0.5616797804832458, 0.5345479249954224, 0.5328468084335327, 0.5799461603164673, 0.5183640718460083, 0.5187684893608093, 0.5098484754562378, 0.5112072825431824, 0.521560549736023, 0.5172826647758484, 0.5659288167953491, 0.5111833810806274, 0.5104676485061646, 0.5110082030296326, 0.5267060399055481, 0.5275639295578003, 0.5577263236045837, 0.5957127213478088, 0.5283538699150085, 0.5211097002029419, 0.5385553240776062, 0.5102457404136658, 0.5215854644775391, 0.5126420259475708, 0.5712529420852661, 0.5088443756103516, 0.5789335370063782, 0.5135241746902466, 0.5581132769584656, 0.5286121964454651, 0.5863981246948242, 0.5272545218467712, 0.581857442855835, 0.5245538353919983, 0.5129022598266602, 0.5536563992500305, 0.5159923434257507, 0.5504839420318604, 0.5622296929359436, 0.5329999327659607, 0.5398000478744507, 0.5170619487762451, 0.5301381349563599, 0.522932231426239, 0.5147194862365723, 0.5278757810592651, 0.6136358976364136, 0.5867606401443481, 0.5167574286460876, 0.5254860520362854, 0.5306997895240784, 0.5237579941749573, 0.5245999097824097, 0.530215859413147, 0.5185598731040955, 0.5101689696311951, 0.5215905904769897, 0.5136193633079529, 0.5731099247932434, 0.5161479711532593, 0.5208431482315063, 0.5161288380622864, 0.5220094323158264, 0.5353442430496216, 0.5713701844215393, 0.5219169855117798, 0.5110259056091309, 0.542597770690918, 0.5108157992362976, 0.5123451948165894, 0.5151898264884949, 0.5099735856056213, 0.5088911652565002, 0.5173452496528625, 0.5094789862632751, 0.5288337469100952, 0.5310142040252686, 0.5822277665138245, 0.5106613039970398, 0.5223599076271057, 0.5308858752250671, 0.5190236568450928, 0.5413565635681152, 0.5246554613113403, 0.5303620100021362, 0.5286298394203186, 0.5618371963500977, 0.5163975954055786, 0.5237600207328796, 0.5843431353569031, 0.5455479621887207, 0.6242251992225647, 0.5315659642219543, 0.6065123677253723, 0.5614222288131714, 0.5274600982666016, 0.5100859999656677, 0.5934830904006958, 0.5386114120483398, 0.5304517149925232, 0.5898060202598572, 0.5279214978218079, 0.5209363698959351, 0.5381168127059937, 0.5216020941734314, 0.518195390701294, 0.5162785649299622, 0.5223938822746277, 0.5186123847961426, 0.5140791535377502, 0.5653762817382812, 0.5171146392822266, 0.5357649326324463, 0.5151218771934509, 0.647589385509491, 0.6011061072349548, 0.5109796524047852, 0.5178580284118652, 0.5103906989097595, 0.5537164807319641, 0.5215067267417908, 0.5186410546302795, 0.529987633228302, 0.557360827922821, 0.5308336615562439, 0.5248545408248901, 0.5578070282936096, 0.5196086168289185, 0.5930191278457642, 0.5246861577033997, 0.5696765780448914, 0.5490717887878418, 0.5316027402877808, 0.5120890736579895, 0.619312047958374, 0.5328893065452576, 0.5151525139808655, 0.5311020016670227, 0.587158739566803, 0.5185903906822205, 0.5433626174926758, 0.5165555477142334, 0.5194926261901855, 0.5214495062828064, 0.5750115513801575, 0.524368941783905, 0.5182303190231323, 0.5253553986549377, 0.523270845413208, 0.5750552415847778, 0.5110508799552917, 0.5902083516120911, 0.5132323503494263, 0.5551585555076599, 0.5369523167610168, 0.5089665055274963, 0.509148359298706, 0.5534381866455078, 0.5289795398712158, 0.5189849734306335, 0.5889034867286682, 0.5118203163146973, 0.5841445922851562, 0.5111492872238159, 0.5261411070823669, 0.5165619850158691, 0.5087792277336121, 0.5390620827674866, 0.5173529386520386, 0.5591757297515869, 0.5843456983566284, 0.5382989048957825, 0.5145700573921204, 0.6098819375038147, 0.6088898777961731, 0.5227934122085571, 0.5965659022331238, 0.5258942246437073, 0.551302433013916, 0.5093820095062256, 0.560256838798523, 0.5115233063697815, 0.5124424695968628, 0.5159846544265747, 0.5603377223014832, 0.5536367297172546, 0.5347572565078735, 0.5228742957115173, 0.5677091479301453, 0.5315588712692261, 0.5254999995231628, 0.5577126145362854, 0.5241058468818665, 0.5188217163085938, 0.5383872389793396, 0.5133466124534607, 0.509258508682251, 0.6390101313591003, 0.5151000022888184, 0.5551741719245911, 0.5445491671562195, 0.5371439456939697, 0.51003098487854, 0.5448582172393799, 0.5132204294204712, 0.5100849270820618, 0.589802086353302, 0.6220017671585083, 0.5277078747749329, 0.5249401926994324, 0.5087869763374329, 0.5088779330253601, 0.5848184823989868, 0.513613224029541, 0.5123894214630127, 0.5717992782592773, 0.5292511582374573, 0.5090518593788147, 0.5316883325576782, 0.5590607523918152, 0.532218873500824, 0.5534093976020813, 0.598555326461792, 0.5415744185447693, 0.5139108896255493, 0.5097408294677734, 0.5462173223495483, 0.520709753036499, 0.662901759147644, 0.5164171457290649, 0.5412584543228149, 0.5306620001792908, 0.5087909698486328, 0.5144776701927185, 0.5424954295158386, 0.5277876853942871, 0.5221369862556458, 0.5090520977973938, 0.5094115734100342, 0.5117329359054565, 0.513106644153595, 0.5127235054969788, 0.5282073616981506, 0.517419695854187, 0.5504025816917419, 0.5207211375236511, 0.5144031047821045, 0.5133638978004456, 0.5147976875305176, 0.5244414806365967, 0.524287223815918, 0.5272347331047058, 0.5118860006332397, 0.5165618062019348, 0.5194571614265442, 0.5135486125946045, 0.5120554566383362, 0.5808706879615784, 0.5455116629600525, 0.5536343455314636, 0.5134936571121216, 0.5116040706634521, 0.5143306255340576, 0.5255842804908752, 0.518520712852478, 0.5283237099647522, 0.52613365650177, 0.5151885747909546, 0.5134769678115845, 0.5370818972587585, 0.517352819442749, 0.5129259824752808, 0.5131798982620239, 0.5088692903518677, 0.5237869620323181, 0.5172533988952637, 0.5265344977378845, 0.5189359784126282, 0.596683144569397, 0.5517837405204773, 0.5362991094589233, 0.5907933712005615, 0.5265089869499207, 0.5231465101242065, 0.6264641284942627, 0.5114253163337708, 0.5100893974304199, 0.5118089318275452, 0.5298416614532471, 0.5444427728652954, 0.509035587310791, 0.5386452078819275, 0.5216365456581116, 0.5842452645301819, 0.5718461871147156, 0.5479350686073303, 0.5175133943557739, 0.5219071507453918, 0.5312739610671997, 0.5258978009223938, 0.5374099612236023, 0.5902169942855835, 0.5128799080848694, 0.5866763591766357, 0.5171355605125427, 0.5726089477539062, 0.5302988290786743, 0.5201794505119324, 0.5098756551742554, 0.5131549835205078, 0.5623717308044434, 0.5311554670333862, 0.5275453925132751, 0.5086416006088257, 0.6061001420021057, 0.5841888785362244, 0.6050660014152527, 0.5523957014083862, 0.5884754657745361, 0.5234125852584839, 0.5221608281135559, 0.5089957118034363, 0.5355585813522339, 0.5302489399909973, 0.519661545753479, 0.5601980090141296, 0.5725042223930359, 0.5107969045639038, 0.5170815587043762, 0.5304946303367615, 0.5212662220001221, 0.5506819486618042, 0.5150441527366638, 0.5245206356048584, 0.5706433057785034, 0.5392662286758423, 0.5872966051101685, 0.5286909937858582, 0.5573447346687317, 0.55184406042099, 0.5119499564170837, 0.5114647746086121, 0.6095227599143982, 0.5383244156837463, 0.5139741897583008, 0.5186458826065063, 0.5861412286758423, 0.5171849131584167, 0.5265544056892395, 0.5107857584953308, 0.509078323841095, 0.5621806383132935, 0.5309105515480042, 0.5520997047424316, 0.5093582272529602, 0.5249295234680176, 0.5554248094558716, 0.5282988548278809, 0.5703731775283813, 0.5104860067367554, 0.5652310848236084, 0.5661329627037048, 0.5718948841094971, 0.5389823913574219, 0.5332520604133606, 0.5196250677108765, 0.5292394757270813, 0.5319086313247681, 0.5184751152992249, 0.5543884634971619, 0.5361852645874023, 0.618721604347229, 0.5165207386016846, 0.5268710255622864, 0.5154645442962646, 0.530769407749176, 0.5761789083480835, 0.5479575991630554, 0.5508195161819458, 0.5126112699508667, 0.554263710975647, 0.5205643773078918, 0.5283120274543762, 0.5215105414390564, 0.5285504460334778, 0.5181195735931396, 0.5627816915512085, 0.5232061147689819, 0.5134273171424866, 0.5209789276123047, 0.524071216583252, 0.5637032985687256, 0.5114755034446716, 0.5925150513648987, 0.5114634037017822, 0.5103908181190491, 0.6053742170333862, 0.5166075825691223, 0.5264236330986023, 0.5182381868362427, 0.5178840756416321, 0.6051982045173645, 0.5114800930023193, 0.5141206979751587, 0.5745052099227905, 0.5131750106811523, 0.5116955637931824, 0.5134178400039673, 0.5982595086097717, 0.555889904499054, 0.5102736353874207, 0.5271190404891968, 0.5276353359222412, 0.5583717226982117, 0.5119078755378723, 0.508834183216095, 0.5311384201049805, 0.5129423141479492, 0.5103075504302979, 0.5543593764305115, 0.5185970664024353, 0.5292747616767883, 0.5114426016807556, 0.5784185528755188, 0.518006443977356, 0.5717086791992188, 0.6170153021812439, 0.5610615015029907, 0.5235188007354736, 0.615764319896698, 0.5283410549163818, 0.5197855830192566, 0.5153278112411499, 0.5933922529220581, 0.5119816064834595, 0.538715660572052, 0.5201073288917542, 0.5227216482162476, 0.5132267475128174, 0.5251553654670715, 0.5516095757484436, 0.514248788356781, 0.5638495683670044, 0.5282737612724304, 0.5211795568466187, 0.5667933225631714, 0.5498315095901489, 0.5704286098480225, 0.51426100730896, 0.5709629058837891, 0.5095460414886475, 0.5107249617576599, 0.526515007019043, 0.5283323526382446, 0.5299708843231201, 0.5126785635948181, 0.5385876297950745, 0.5097450017929077, 0.526894211769104, 0.5088599920272827, 0.5205084681510925, 0.5274657011032104, 0.5582532286643982, 0.5647033452987671, 0.5123631954193115, 0.577941358089447, 0.5114591121673584, 0.5337317585945129, 0.5358541011810303, 0.5644857883453369, 0.525642991065979, 0.5256862640380859, 0.5816451907157898, 0.5915679335594177, 0.5614227652549744, 0.5188542008399963, 0.6457758545875549, 0.5142815709114075, 0.5139825344085693, 0.5684831142425537, 0.5243207812309265, 0.5175575613975525, 0.5159158110618591, 0.5535908937454224, 0.5231027603149414, 0.5122256875038147, 0.5251200199127197, 0.5643420815467834, 0.5356318354606628, 0.5166808366775513, 0.5280937552452087, 0.5742301344871521, 0.5184037089347839, 0.5098817348480225, 0.595946192741394, 0.5594268441200256, 0.5669236183166504, 0.5109215378761292, 0.5101626515388489, 0.5130859017372131, 0.553340494632721, 0.521632194519043, 0.528558075428009, 0.5135430097579956, 0.5116237998008728, 0.5298458933830261, 0.5671609044075012, 0.5101010203361511, 0.5144922137260437, 0.5602315664291382, 0.517030656337738, 0.5266388654708862, 0.5156055688858032, 0.520014226436615, 0.5863821506500244, 0.5217509269714355, 0.5290734171867371, 0.5506173968315125, 0.5960677266120911, 0.5185749530792236, 0.5171674489974976, 0.5318448543548584, 0.5553219318389893, 0.576530933380127, 0.5258784294128418, 0.5366613864898682, 0.5213568210601807, 0.6097123622894287, 0.5157891511917114, 0.5203033685684204, 0.5176752209663391, 0.5803749561309814, 0.5133652687072754, 0.5109203457832336, 0.5102856755256653, 0.5088106989860535, 0.5212327837944031, 0.5230507850646973, 0.5811418294906616, 0.5418239235877991, 0.5512068271636963, 0.510664701461792, 0.545463502407074, 0.6132494211196899, 0.6573396325111389, 0.6659561991691589, 0.6656935214996338, 0.653109610080719, 0.653603732585907, 0.6669168472290039, 0.6593941450119019, 0.6594903469085693, 0.66539067029953, 0.6641517877578735, 0.6635724306106567, 0.6539881825447083, 0.6598455309867859, 0.6565129160881042, 0.6577115058898926, 0.6605924367904663, 0.6693668961524963, 0.6657218337059021, 0.6625789999961853, 0.6663277745246887, 0.6542888283729553, 0.6629015207290649, 0.6607714891433716, 0.6474294066429138, 0.6460901498794556, 0.6571037769317627, 0.6591907143592834, 0.6620780825614929, 0.6699647903442383, 0.64811110496521, 0.644597053527832, 0.6581819653511047, 0.6575118899345398, 0.6488630175590515, 0.6613012552261353, 0.640109121799469, 0.6604912281036377, 0.6655828356742859, 0.644071638584137, 0.6546784043312073, 0.6443765163421631, 0.6484824419021606, 0.6610695719718933, 0.6452310085296631, 0.6692241430282593, 0.6502231359481812, 0.658819317817688, 0.6629390716552734, 0.6618239283561707, 0.6598901748657227, 0.6508691310882568, 0.6629677414894104, 0.648574709892273, 0.647634744644165, 0.6474873423576355, 0.6581384539604187, 0.6566283702850342, 0.6675330996513367, 0.6612176299095154, 0.644361138343811, 0.6489443778991699, 0.6371167898178101, 0.6574854850769043, 0.6510068774223328, 0.6435967087745667, 0.6679022908210754, 0.6496771574020386, 0.6548186540603638, 0.662858784198761, 0.6509765982627869, 0.649093508720398, 0.6506839990615845, 0.6629284620285034, 0.6503734588623047, 0.6653515100479126, 0.6628634929656982, 0.6630014181137085, 0.658553957939148, 0.6616527438163757, 0.663142204284668, 0.6614486575126648, 0.6597208380699158, 0.661875307559967, 0.6607388257980347, 0.6494764685630798, 0.661632776260376, 0.6623594760894775, 0.6568450927734375, 0.657831072807312, 0.6571292281150818, 0.6608695983886719, 0.6573663949966431, 0.6636423468589783, 0.6547924876213074, 0.6500062346458435, 0.6610729098320007, 0.6606491804122925, 0.6604588627815247, 0.6483280658721924, 0.6532459855079651, 0.6603856086730957, 0.6513790488243103, 0.6539608240127563, 0.6628402471542358, 0.65330570936203, 0.658599853515625, 0.6568846702575684, 0.6578273773193359, 0.6521512866020203, 0.6607906818389893, 0.6570279598236084, 0.6650554537773132, 0.6516273021697998, 0.6593170166015625, 0.6357526183128357, 0.6676129698753357, 0.6615239381790161, 0.651743471622467, 0.6516490578651428, 0.6554859280586243, 0.6268467307090759, 0.6566382050514221, 0.649242639541626, 0.6671064496040344, 0.6664519309997559, 0.659254252910614, 0.6553604006767273, 0.6465279459953308, 0.6620104312896729, 0.6082411408424377, 0.6636545062065125, 0.6549693942070007, 0.6502294540405273, 0.6532766819000244, 0.6663708686828613, 0.6512958407402039, 0.6576847434043884, 0.5561302304267883, 0.6630281805992126, 0.648952305316925, 0.6579076647758484, 0.6514731645584106, 0.6495447158813477, 0.6641570925712585, 0.6509202122688293, 0.657844066619873, 0.6498266458511353, 0.6553820967674255, 0.6636955738067627, 0.6605470776557922, 0.6400909423828125, 0.6509264707565308, 0.652142345905304, 0.6638670563697815, 0.6582753658294678, 0.6532374024391174, 0.6644274592399597, 0.6622211337089539, 0.6578254103660583, 0.6621991991996765, 0.6631287336349487, 0.66435307264328, 0.6575062274932861, 0.6611596345901489, 0.6633366346359253, 0.6456872224807739, 0.6574695706367493, 0.6577541828155518, 0.6508601903915405, 0.6604506969451904, 0.6604710817337036, 0.6561001539230347, 0.6484490036964417, 0.6619015336036682, 0.6080821752548218, 0.6598435044288635, 0.6619405746459961, 0.6581231951713562, 0.6614044904708862, 0.6640298366546631, 0.6575133800506592, 0.6617969870567322, 0.6539132595062256, 0.6607149839401245, 0.6330989599227905, 0.6590151190757751, 0.6629268527030945, 0.6571717262268066, 0.6602025628089905, 0.6632155776023865, 0.6614426374435425, 0.6620358824729919, 0.6646377444267273, 0.661550760269165, 0.6617806553840637, 0.6622654795646667, 0.6523294448852539, 0.6405453681945801, 0.6480210423469543, 0.6606444120407104, 0.6590769290924072, 0.6517530679702759, 0.6595721244812012, 0.6576626300811768, 0.656548798084259, 0.6434162259101868, 0.6608774065971375, 0.6574647426605225, 0.6599141955375671, 0.6472821235656738, 0.6562392711639404, 0.6562118530273438, 0.6584388017654419, 0.6607546806335449, 0.6571369171142578, 0.6535834670066833, 0.6578319072723389, 0.6567203998565674, 0.6593425869941711, 0.6495897769927979, 0.6529250741004944, 0.6561932563781738, 0.6521157026290894, 0.6571812033653259, 0.6551072597503662, 0.6531029939651489, 0.6606573462486267, 0.6589939594268799, 0.6657804250717163, 0.6678408980369568, 0.6540089845657349, 0.6641169786453247, 0.654973030090332, 0.657080888748169, 0.666846752166748, 0.6655265688896179, 0.6651819348335266, 0.6693181991577148, 0.6674767732620239, 0.656578779220581, 0.6636167168617249, 0.6646656394004822, 0.6628161668777466, 0.6573885679244995, 0.661149263381958, 0.6625332832336426, 0.6628859043121338, 0.6509683132171631, 0.6539221405982971, 0.6644695401191711, 0.6485249400138855, 0.612270712852478, 0.660853385925293, 0.6561596393585205, 0.6612954139709473, 0.6647367477416992, 0.558594822883606, 0.6592998504638672, 0.6686677932739258, 0.6588116884231567, 0.6485698223114014, 0.6655400395393372, 0.6620358824729919, 0.6504067778587341, 0.6507954597473145, 0.6452091336250305, 0.6665023565292358, 0.6625728607177734, 0.6581199169158936, 0.6665838956832886, 0.6530593633651733, 0.634000837802887, 0.6614511609077454, 0.6486944556236267, 0.647996187210083, 0.6193211078643799, 0.6373999714851379, 0.6594382524490356, 0.6647617816925049, 0.6431958675384521, 0.6352828741073608, 0.664195716381073, 0.6516819000244141, 0.6623446345329285, 0.6479608416557312, 0.6432931423187256, 0.6671605110168457, 0.6560210585594177, 0.6647167205810547, 0.6562245488166809, 0.659047544002533, 0.6522579789161682, 0.6558809876441956, 0.6624754071235657, 0.6658690571784973, 0.6624014973640442, 0.6536729335784912, 0.6626423597335815, 0.6611414551734924, 0.6510849595069885, 0.6525068283081055, 0.6132827401161194, 0.6622310876846313, 0.6373719573020935, 0.6534456014633179, 0.6549007892608643, 0.597294807434082, 0.6410790681838989, 0.6529626250267029, 0.6417167782783508, 0.5983231663703918, 0.6521373987197876, 0.6573286652565002, 0.637004554271698, 0.6498616337776184, 0.6561093926429749, 0.6443861126899719, 0.5781002640724182, 0.6501202583312988, 0.6384460926055908, 0.6312628984451294, 0.6435123682022095, 0.6218535304069519, 0.6315174698829651, 0.6536669731140137, 0.6306701302528381, 0.6607092618942261, 0.6587306261062622, 0.6540932059288025, 0.6511037945747375, 0.6201649904251099, 0.6432978510856628, 0.6489295363426208, 0.6481890678405762, 0.6429607272148132, 0.6641736626625061, 0.6455495357513428, 0.6408161520957947, 0.6356751322746277, 0.5619955658912659, 0.6458888649940491, 0.6606670618057251, 0.6177662014961243, 0.6619157791137695, 0.6584417223930359, 0.6615272760391235, 0.6430595517158508, 0.6332367062568665, 0.6060783267021179, 0.6655473709106445, 0.651879072189331, 0.6568490862846375, 0.6408662796020508, 0.6518679261207581, 0.6520705223083496, 0.6562553644180298, 0.6379728317260742, 0.6140226721763611, 0.657356321811676, 0.6614057421684265, 0.625603437423706, 0.6280146837234497, 0.6562309265136719, 0.6398100256919861, 0.591598629951477, 0.6606007218360901, 0.6540051698684692, 0.642261803150177, 0.6640434861183167, 0.6392961144447327, 0.6419258713722229, 0.6434704661369324, 0.6340907216072083, 0.6415398120880127, 0.6572827696800232, 0.6356164216995239, 0.642135500907898, 0.6141229867935181, 0.6428894400596619, 0.6544973850250244, 0.6007335782051086, 0.5913162231445312, 0.6617501974105835, 0.6509525179862976, 0.6581503748893738, 0.6581544280052185, 0.6563071608543396, 0.6187882423400879, 0.6412089467048645, 0.6333521008491516, 0.6584721207618713, 0.6535341143608093, 0.6625585556030273, 0.6567810773849487, 0.639388382434845, 0.6671220660209656, 0.6070764660835266, 0.6584925651550293, 0.6399932503700256, 0.6305556893348694, 0.6526351571083069, 0.6135061383247375, 0.6464836001396179, 0.6577790975570679, 0.6505143642425537, 0.6424500942230225, 0.6203276515007019, 0.6494176983833313, 0.6619571447372437, 0.6553512215614319, 0.6601890921592712, 0.6526956558227539, 0.6552123427391052, 0.6521687507629395, 0.6613671779632568, 0.6422673463821411, 0.6578618884086609, 0.6506194472312927, 0.6548655033111572, 0.6466671824455261, 0.635147213935852, 0.6333757042884827, 0.6623422503471375, 0.6474748849868774, 0.65570467710495, 0.6430009007453918, 0.654936671257019, 0.6581625938415527, 0.6386209726333618, 0.6551490426063538, 0.6305650472640991, 0.6595656871795654, 0.6599489450454712, 0.655029833316803, 0.626220703125, 0.6126667857170105, 0.6444830894470215, 0.629604160785675, 0.6624945402145386, 0.6035085916519165, 0.6521207094192505, 0.6576103568077087, 0.6461031436920166, 0.6501184105873108, 0.6525182723999023, 0.6473758220672607, 0.6588854193687439, 0.6327711343765259, 0.6463016867637634, 0.6583307981491089, 0.6613861322402954, 0.6404029726982117, 0.6472544074058533, 0.640691876411438, 0.6442578434944153, 0.6545539498329163, 0.6460477113723755, 0.6566277146339417, 0.6516022086143494, 0.6436172127723694, 0.6439723372459412, 0.6484023332595825, 0.6452977657318115, 0.6620441675186157, 0.6408786177635193, 0.6476794481277466, 0.6386767029762268, 0.6609817743301392, 0.633445143699646, 0.5098549127578735, 0.6499125957489014, 0.6335161924362183, 0.6568360328674316, 0.639919638633728, 0.6386696696281433, 0.6314981579780579, 0.6126408576965332, 0.6466993093490601, 0.634305477142334, 0.6543728113174438, 0.6280159950256348, 0.645954966545105, 0.6309338212013245, 0.6431075930595398, 0.651347815990448, 0.6536399126052856, 0.65570068359375, 0.6490713953971863, 0.6396715044975281, 0.6479213237762451, 0.6444646716117859, 0.6285490393638611, 0.5675416588783264, 0.5617308020591736, 0.6469888687133789, 0.6562462449073792, 0.6379395723342896, 0.6082513332366943, 0.6426725387573242, 0.661597728729248, 0.6538221836090088, 0.6618460416793823, 0.6642311215400696, 0.635806679725647, 0.633101224899292, 0.6310757994651794, 0.6428911089897156, 0.6358377933502197, 0.6481778025627136, 0.6559435725212097, 0.6537932753562927, 0.6497132778167725, 0.6111679673194885, 0.6434561014175415, 0.6186305284500122, 0.6522976160049438, 0.6071353554725647, 0.6526018381118774, 0.6546369791030884, 0.6500787138938904, 0.651070237159729, 0.6577470302581787, 0.6569929718971252, 0.6640188097953796, 0.6614872813224792, 0.6479743123054504, 0.6351404786109924, 0.6086043119430542, 0.6568160653114319, 0.6625603437423706, 0.6389930248260498, 0.6356760859489441, 0.6224609017372131, 0.648945152759552, 0.6313467025756836, 0.6535030007362366, 0.6536737084388733, 0.6173601150512695, 0.656184196472168, 0.6492023468017578, 0.6456416249275208, 0.6307724118232727, 0.6558311581611633, 0.6066005229949951, 0.6245063543319702, 0.6554962396621704, 0.6527396440505981, 0.626632809638977, 0.6433877944946289, 0.6446624398231506, 0.6317974328994751, 0.6367218494415283, 0.6555792093276978, 0.6537396907806396, 0.6295703649520874, 0.6337645649909973, 0.6628426909446716, 0.6446372270584106, 0.6535009145736694, 0.6335469484329224, 0.6456695795059204, 0.610831081867218, 0.6581905484199524, 0.6441139578819275, 0.6558191776275635, 0.6471737623214722, 0.6376884579658508, 0.6326070427894592, 0.6215375065803528, 0.619076669216156, 0.6557177305221558, 0.6500071883201599, 0.6457945704460144, 0.6431668996810913, 0.6229966878890991, 0.6591787338256836, 0.6514124870300293, 0.6525458097457886, 0.6392131447792053, 0.6374127268791199, 0.6519748568534851, 0.6451874375343323, 0.6552039980888367, 0.6571930646896362, 0.6591333150863647, 0.6539934277534485, 0.6329268217086792, 0.6467337608337402, 0.6392319798469543, 0.6238749623298645, 0.6236833930015564, 0.6612839698791504, 0.6585153937339783, 0.6596163511276245, 0.6521851420402527, 0.6530993580818176, 0.6637082695960999, 0.6435925364494324, 0.6611368060112, 0.6524131298065186, 0.6441786885261536, 0.5895069241523743, 0.6499931812286377, 0.6576023697853088, 0.6165507435798645, 0.657457172870636, 0.6514685750007629, 0.6561059355735779, 0.6372872591018677, 0.6482170820236206, 0.6155703663825989, 0.6580309867858887, 0.6306722164154053, 0.6484740972518921, 0.6540610790252686, 0.6495000123977661, 0.6142069697380066, 0.654229998588562, 0.6579213738441467, 0.6532033085823059, 0.6424642205238342, 0.6416444778442383, 0.6552464365959167, 0.6301704049110413, 0.6420060992240906, 0.6633430123329163, 0.6525030732154846, 0.6447321772575378, 0.6387864947319031, 0.655035674571991, 0.6642223000526428, 0.6233446598052979, 0.6512969136238098, 0.6606698036193848, 0.6525996327400208, 0.649394690990448, 0.6589372754096985, 0.6478642821311951, 0.639653205871582, 0.6381086111068726, 0.667789101600647, 0.6553277969360352, 0.6300289034843445, 0.6500515937805176, 0.6424277424812317, 0.6454323530197144, 0.6102399826049805, 0.6202264428138733, 0.6499807834625244, 0.6496568918228149, 0.6576277613639832, 0.6415250897407532, 0.6637463569641113, 0.6579631567001343, 0.6492602825164795, 0.654226541519165, 0.6479639410972595, 0.6192498207092285, 0.6503716111183167, 0.6405705213546753, 0.6463869214057922, 0.6441559195518494, 0.6436541676521301, 0.6523692011833191, 0.6643235683441162, 0.6331039667129517, 0.6531895995140076, 0.6633313298225403, 0.6526347398757935, 0.6586299538612366, 0.6379542946815491, 0.6564121842384338, 0.6444226503372192, 0.625045120716095, 0.6228268146514893, 0.6384788751602173, 0.5549031496047974, 0.6641969084739685, 0.6547384858131409, 0.6479706764221191, 0.6510635614395142, 0.6535985469818115, 0.6579827666282654, 0.6031229496002197, 0.6458558440208435, 0.6037300229072571, 0.5751231908798218, 0.6577268838882446, 0.6594710946083069, 0.6520937085151672, 0.6684615612030029, 0.6594457030296326, 0.6436479091644287, 0.6421893239021301, 0.6683884263038635, 0.5954505801200867, 0.6549321413040161, 0.6352712512016296, 0.6630461812019348, 0.6469088196754456, 0.6511425375938416, 0.652218222618103, 0.5922565460205078, 0.6478984951972961, 0.6453462243080139, 0.6452471613883972, 0.6586313843727112, 0.6549201011657715, 0.6622738242149353, 0.6435703635215759, 0.6128011345863342, 0.6474488973617554, 0.645119845867157, 0.5312143564224243, 0.647828221321106, 0.6598294973373413, 0.6398026347160339, 0.649593710899353, 0.6482674479484558, 0.6263386011123657, 0.6560290455818176, 0.5155538320541382, 0.6570271849632263, 0.6528617739677429, 0.6025629043579102, 0.5927255153656006, 0.6099758744239807, 0.641306459903717, 0.6058646440505981, 0.6475784778594971, 0.6447727084159851, 0.6596387624740601, 0.637516438961029, 0.5861839056015015, 0.6416313648223877, 0.6187371015548706, 0.653772234916687, 0.6218162775039673, 0.6408339738845825, 0.6513736248016357, 0.6485841274261475, 0.6326395273208618, 0.6135320663452148, 0.6500158905982971, 0.6572154760360718, 0.6403340697288513, 0.6571745276451111, 0.6579079627990723, 0.6357628107070923, 0.6453317403793335, 0.6306067109107971, 0.6497005224227905, 0.6224132180213928, 0.6598279476165771, 0.6101823449134827, 0.6473848223686218, 0.6409273147583008, 0.6445066928863525, 0.6370658278465271, 0.6441062092781067, 0.6579152345657349, 0.6458650827407837, 0.6433327794075012, 0.6497315764427185, 0.660937488079071, 0.6542765498161316, 0.6517552733421326, 0.6259164810180664, 0.660403847694397, 0.6562719941139221, 0.6382226347923279, 0.6392492651939392, 0.662108302116394, 0.645131528377533, 0.647357165813446, 0.6274704337120056, 0.6588815450668335, 0.5508460998535156, 0.6519232392311096, 0.6436755061149597, 0.652529239654541, 0.6521748304367065, 0.6338711380958557, 0.6527842879295349, 0.6423163414001465, 0.6328199505805969, 0.6591976881027222, 0.6107425689697266, 0.6338750123977661, 0.6124670505523682, 0.663116991519928, 0.657163679599762, 0.6468661427497864, 0.5797314047813416, 0.6477704644203186, 0.6429597735404968, 0.6379110217094421, 0.6499037742614746, 0.6566792130470276, 0.6597020030021667, 0.6464675068855286, 0.6369891166687012, 0.6623319983482361, 0.6594250798225403, 0.6627883911132812, 0.6100554466247559, 0.6558120846748352, 0.6249125003814697, 0.6519933938980103, 0.6453925967216492, 0.6362118124961853, 0.5555716753005981, 0.6451601982116699, 0.6555702686309814, 0.6601254940032959, 0.6476485133171082, 0.6603678464889526, 0.6461751461029053, 0.62808758020401, 0.6151163578033447, 0.6439527869224548, 0.6228349208831787, 0.6055908203125, 0.6552456617355347, 0.6428094506263733, 0.6499330401420593, 0.6593266129493713, 0.6480275392532349, 0.6504808068275452, 0.6474035978317261, 0.6567489504814148, 0.6604735255241394, 0.657520592212677, 0.6188543438911438, 0.6661004424095154, 0.6002213358879089, 0.6230611205101013, 0.6563298106193542, 0.5540180802345276, 0.5362149477005005, 0.6358940005302429, 0.6432185173034668, 0.64713454246521, 0.6546180248260498, 0.6593429446220398, 0.6403583288192749, 0.6607869267463684, 0.6479007601737976, 0.6615602970123291, 0.6534298062324524, 0.6537777185440063, 0.6470329761505127, 0.6502379775047302, 0.656461775302887, 0.6387434005737305, 0.6595987677574158, 0.6399596929550171, 0.6383974552154541, 0.6621353030204773, 0.6425442695617676, 0.5629909038543701, 0.6508400440216064, 0.661568284034729, 0.6513744592666626, 0.6097946763038635, 0.642151951789856, 0.6477396488189697, 0.6361329555511475, 0.6578375697135925, 0.6536571979522705, 0.6491873860359192, 0.66105717420578, 0.6614037156105042, 0.6378596425056458, 0.6676535606384277, 0.6284682154655457, 0.6127843856811523, 0.6308915615081787, 0.6532126665115356, 0.6540537476539612, 0.644023060798645, 0.6430706977844238, 0.6476842761039734, 0.6442520618438721, 0.6561601161956787, 0.653910219669342, 0.6610925793647766, 0.635737955570221, 0.6544045805931091, 0.643641471862793, 0.6522666215896606, 0.6483407020568848, 0.6118500828742981, 0.6603271961212158, 0.6437420845031738, 0.6235206723213196, 0.6653931140899658, 0.6194897294044495, 0.6667077541351318, 0.6565120220184326, 0.6450146436691284, 0.6485269665718079, 0.6408292055130005, 0.6122493147850037, 0.5819410681724548, 0.654697060585022, 0.6490270495414734, 0.6396602392196655, 0.6597400307655334, 0.6504872441291809, 0.6604210138320923, 0.6599540114402771, 0.6226047873497009, 0.6526023745536804, 0.6490545868873596, 0.6630496978759766, 0.6505633592605591, 0.6477988958358765, 0.6509042382240295, 0.6504673957824707, 0.6460063457489014, 0.6548563838005066, 0.6449378132820129, 0.6549093127250671, 0.6472416520118713, 0.6316497325897217, 0.6606748104095459, 0.6596233248710632, 0.6436084508895874, 0.6108860969543457, 0.6181171536445618, 0.6592913269996643, 0.6577471494674683, 0.6226308941841125, 0.6262308955192566, 0.6350431442260742, 0.6621426343917847, 0.6492235064506531, 0.6578110456466675, 0.6199106574058533, 0.6549158096313477, 0.651670515537262, 0.6355180144309998, 0.6398241519927979, 0.6395797729492188, 0.6600881814956665, 0.6307752132415771, 0.6636492013931274, 0.627518355846405, 0.6388463973999023, 0.6500188708305359, 0.6452592611312866, 0.6153730154037476, 0.6533531546592712, 0.6569918990135193, 0.6389327645301819, 0.6307617425918579, 0.6304847002029419, 0.6264345049858093, 0.6611090898513794, 0.6336668729782104, 0.6060144901275635, 0.6544634103775024, 0.6000598669052124, 0.6642166972160339, 0.642318844795227, 0.655217170715332, 0.627331018447876, 0.6617114543914795, 0.6101365089416504, 0.6511996388435364, 0.6588425636291504, 0.6453521847724915, 0.6315821409225464, 0.6510809659957886, 0.6532214879989624, 0.6002739071846008, 0.6416028141975403, 0.6414754390716553, 0.5898448824882507, 0.6532261967658997, 0.6580256223678589, 0.666296660900116, 0.6359190344810486, 0.6501177549362183, 0.6580308079719543, 0.650631308555603, 0.6295711994171143, 0.630739688873291, 0.6316949129104614, 0.6453021764755249, 0.6284079551696777, 0.6497799158096313, 0.6403986811637878, 0.6524175405502319, 0.6467366814613342, 0.6101183295249939, 0.6144335269927979, 0.6657754778862, 0.6520764827728271]\n"
          ]
        }
      ]
    },
    {
      "cell_type": "code",
      "source": [
        "print(\"RNN Perplexity Classifier\")\n",
        "evaluate(rnn_prediction_output, y, 0.6)"
      ],
      "metadata": {
        "colab": {
          "base_uri": "https://localhost:8080/"
        },
        "id": "Lnng6Cg9yv01",
        "outputId": "c0c9845e-dd60-42e2-ab21-bf51cf551e64"
      },
      "execution_count": null,
      "outputs": [
        {
          "output_type": "stream",
          "name": "stdout",
          "text": [
            "RNN Perplexity Classifier\n",
            "Accuracy: 0.964\n",
            "F1: 0.9642857142857142\n",
            "ROC_AUC: 0.9641188144164906\n",
            "              precision    recall  f1-score   support\n",
            "\n",
            "       Human       0.96      0.97      0.96       984\n",
            "     ChatGPT       0.97      0.96      0.96      1016\n",
            "\n",
            "    accuracy                           0.96      2000\n",
            "   macro avg       0.96      0.96      0.96      2000\n",
            "weighted avg       0.96      0.96      0.96      2000\n",
            "\n"
          ]
        }
      ]
    },
    {
      "cell_type": "code",
      "source": [
        "cnn_perplexity_prediction_output = cnn_perplexity_classifier.predict(X)\n",
        "print(cnn_perplexity_prediction_output)"
      ],
      "metadata": {
        "colab": {
          "base_uri": "https://localhost:8080/"
        },
        "id": "Xn_1Xnqa4-Oo",
        "outputId": "b5b2bfee-5f64-4c69-b0e6-ae7b734df9f0"
      },
      "execution_count": null,
      "outputs": [
        {
          "output_type": "stream",
          "name": "stdout",
          "text": [
            "63/63 [==============================] - 5s 8ms/step\n",
            "[0.5014101266860962, 0.49890851974487305, 0.6284050345420837, 0.5033547282218933, 0.4994478225708008, 0.7302818298339844, 0.49853065609931946, 0.49594125151634216, 0.6753624677658081, 0.5045560002326965, 0.5040003657341003, 0.5789883732795715, 0.49966707825660706, 0.49338415265083313, 0.6697843074798584, 0.501882016658783, 0.5236969590187073, 0.5004755854606628, 0.5042434930801392, 0.4972739517688751, 0.4981280565261841, 0.5058361291885376, 0.4950283467769623, 0.4988974928855896, 0.5014936923980713, 0.5102274417877197, 0.49767324328422546, 0.5035402774810791, 0.5026661157608032, 0.49792346358299255, 0.4979252219200134, 0.5000495314598083, 0.5053633451461792, 0.49881845712661743, 0.5027081966400146, 0.49451637268066406, 0.4991874694824219, 0.4962420165538788, 0.4985453486442566, 0.6771114468574524, 0.7366238832473755, 0.524073600769043, 0.5073763728141785, 0.4959869682788849, 0.49489226937294006, 0.6958396434783936, 0.5868621468544006, 0.5114533305168152, 0.49834927916526794, 0.5082159638404846, 0.4926469922065735, 0.5065460801124573, 0.5032846331596375, 0.4945041835308075, 0.6661735773086548, 0.4951283931732178, 0.5071042776107788, 0.5062852501869202, 0.4978848099708557, 0.5057433247566223, 0.49651822447776794, 0.4949263632297516, 0.5038907527923584, 0.5142132043838501, 0.4999551773071289, 0.5515531301498413, 0.4995250403881073, 0.5038239359855652, 0.5053658485412598, 0.5058199167251587, 0.5810688734054565, 0.5078898072242737, 0.4998120665550232, 0.4964788556098938, 0.5059506893157959, 0.49742352962493896, 0.5046798586845398, 0.5069083571434021, 0.5030906796455383, 0.49704837799072266, 0.5077663064002991, 0.5117995738983154, 0.569298505783081, 0.6778173446655273, 0.4942466914653778, 0.4983670711517334, 0.5646979212760925, 0.5010313987731934, 0.5309752225875854, 0.5977457761764526, 0.502286434173584, 0.4940401017665863, 0.502289891242981, 0.48965516686439514, 0.49737703800201416, 0.4922734797000885, 0.49943533539772034, 0.5021733641624451, 0.4956494867801666, 0.5046554207801819, 0.5075716972351074, 0.7254685163497925, 0.5087528824806213, 0.49761202931404114, 0.5071422457695007, 0.5353913307189941, 0.5041153430938721, 0.48954012989997864, 0.5019115805625916, 0.503627359867096, 0.6956719756126404, 0.5039814114570618, 0.5070655941963196, 0.4985944330692291, 0.5011330246925354, 0.5020996928215027, 0.4903281629085541, 0.5024909973144531, 0.4943197965621948, 0.6213665008544922, 0.4921765625476837, 0.6026024222373962, 0.5463820695877075, 0.5015580654144287, 0.605171799659729, 0.5341412425041199, 0.6070725321769714, 0.5934654474258423, 0.6530997157096863, 0.49011877179145813, 0.5065293312072754, 0.5027808547019958, 0.4967081546783447, 0.4931095540523529, 0.5051844120025635, 0.4960102140903473, 0.4994010329246521, 0.506240963935852, 0.5037165284156799, 0.5052011609077454, 0.49424511194229126, 0.5046859383583069, 0.505744218826294, 0.5087221264839172, 0.4965572655200958, 0.7298571467399597, 0.49692001938819885, 0.730357825756073, 0.4958885908126831, 0.5593683123588562, 0.49556609988212585, 0.5070410370826721, 0.49435681104660034, 0.5070396661758423, 0.49540895223617554, 0.5017522573471069, 0.4953783452510834, 0.5781592130661011, 0.49919626116752625, 0.5047938227653503, 0.499833345413208, 0.5052326321601868, 0.49553701281547546, 0.49796998500823975, 0.7174081206321716, 0.5005748271942139, 0.5047890543937683, 0.5614596009254456, 0.5059862732887268, 0.5023204684257507, 0.4995720386505127, 0.49965453147888184, 0.5121066570281982, 0.6118216514587402, 0.5372192859649658, 0.6319137215614319, 0.4932125210762024, 0.5005782246589661, 0.5031687021255493, 0.526201069355011, 0.5049392580986023, 0.5027508735656738, 0.7165040969848633, 0.500420093536377, 0.4989849030971527, 0.5065566897392273, 0.49542808532714844, 0.5085157155990601, 0.5567952990531921, 0.4989568293094635, 0.5666627287864685, 0.5053687691688538, 0.5035594701766968, 0.7380894422531128, 0.5030369162559509, 0.49888691306114197, 0.7020876407623291, 0.4947274327278137, 0.49793562293052673, 0.5130271911621094, 0.4952846169471741, 0.4980735778808594, 0.4995402693748474, 0.7353717684745789, 0.5190480947494507, 0.5000216960906982, 0.49733492732048035, 0.7303584814071655, 0.5034646987915039, 0.5029632449150085, 0.6058217883110046, 0.6937419176101685, 0.4913376569747925, 0.5016886591911316, 0.7250330448150635, 0.49239426851272583, 0.7330211997032166, 0.49878427386283875, 0.4999522566795349, 0.5045188069343567, 0.5050745606422424, 0.5060694813728333, 0.5005617141723633, 0.4950922727584839, 0.5028283596038818, 0.5166674852371216, 0.49182185530662537, 0.4986693561077118, 0.5012525916099548, 0.6207378506660461, 0.7416365742683411, 0.5017944574356079, 0.49683842062950134, 0.6143151521682739, 0.49632546305656433, 0.49402496218681335, 0.49659818410873413, 0.4877677857875824, 0.5057770609855652, 0.5195285081863403, 0.5061147809028625, 0.48952603340148926, 0.527374804019928, 0.5003343224525452, 0.4910029172897339, 0.49518346786499023, 0.4931350648403168, 0.4998430013656616, 0.49414047598838806, 0.501609742641449, 0.5008469223976135, 0.5492366552352905, 0.5044844150543213, 0.5000269412994385, 0.60787433385849, 0.6819219589233398, 0.5030579566955566, 0.5142509341239929, 0.5063108205795288, 0.7008184194564819, 0.5013772249221802, 0.539202868938446, 0.4985330402851105, 0.4956195056438446, 0.5034759044647217, 0.4976033866405487, 0.5032601356506348, 0.49248838424682617, 0.5004233717918396, 0.5982874631881714, 0.595314621925354, 0.4988346993923187, 0.5005836486816406, 0.5062049031257629, 0.49548953771591187, 0.4925609230995178, 0.6655776500701904, 0.6570034027099609, 0.4958832561969757, 0.7283642888069153, 0.5004795789718628, 0.5008598566055298, 0.501851499080658, 0.7183455228805542, 0.5004214644432068, 0.5063328742980957, 0.49559181928634644, 0.4969102442264557, 0.49536481499671936, 0.5011698603630066, 0.6625375747680664, 0.5029205083847046, 0.4895322620868683, 0.5028955340385437, 0.49859580397605896, 0.6396999359130859, 0.4992913603782654, 0.5032899379730225, 0.6843718886375427, 0.5039892196655273, 0.4980871379375458, 0.6353533267974854, 0.5105865597724915, 0.49797654151916504, 0.5030112266540527, 0.4954933822154999, 0.5050866603851318, 0.5099744200706482, 0.4947250783443451, 0.5057016611099243, 0.4974527955055237, 0.5142037272453308, 0.724465548992157, 0.5539103150367737, 0.5063120126724243, 0.6826396584510803, 0.4902096092700958, 0.5009640455245972, 0.4985976219177246, 0.5040119290351868, 0.5020273923873901, 0.4938899278640747, 0.5043573379516602, 0.4943988025188446, 0.5116152763366699, 0.5049141049385071, 0.7067508101463318, 0.5061671137809753, 0.49983763694763184, 0.6999301314353943, 0.7318280339241028, 0.504131019115448, 0.5077317953109741, 0.504477322101593, 0.5011183023452759, 0.566370964050293, 0.49524152278900146, 0.4951455891132355, 0.5024937987327576, 0.49856603145599365, 0.5190468430519104, 0.5023918151855469, 0.49559667706489563, 0.6102600693702698, 0.7295129895210266, 0.5057231187820435, 0.4960509240627289, 0.5182883143424988, 0.6197081208229065, 0.6184346079826355, 0.4943109452724457, 0.638029158115387, 0.506470799446106, 0.4931289553642273, 0.49218106269836426, 0.50611811876297, 0.49392566084861755, 0.5038392543792725, 0.49693959951400757, 0.6745125651359558, 0.49359840154647827, 0.5655807852745056, 0.5726643800735474, 0.5059909820556641, 0.4887680113315582, 0.5080093145370483, 0.5060652494430542, 0.4953465759754181, 0.6440470218658447, 0.49421292543411255, 0.49554508924484253, 0.5087742805480957, 0.5017326474189758, 0.49944427609443665, 0.5035704970359802, 0.5108867883682251, 0.6880598068237305, 0.507400631904602, 0.6502825617790222, 0.5280032753944397, 0.5043659210205078, 0.5028818249702454, 0.5060620307922363, 0.7344809770584106, 0.49497509002685547, 0.7333322167396545, 0.5354626774787903, 0.496481329202652, 0.5082636475563049, 0.505325973033905, 0.5020082592964172, 0.4949108362197876, 0.5032954812049866, 0.6984273195266724, 0.49672096967697144, 0.5078646540641785, 0.4985656142234802, 0.499087393283844, 0.74502032995224, 0.5026499629020691, 0.5041421055793762, 0.6826737523078918, 0.5220414400100708, 0.5045473575592041, 0.5106388330459595, 0.5111624002456665, 0.5072656273841858, 0.5018018484115601, 0.5047512650489807, 0.49483153223991394, 0.5072091221809387, 0.5039316415786743, 0.5058509111404419, 0.5002442598342896, 0.6397706866264343, 0.5063419938087463, 0.5038466453552246, 0.5019890666007996, 0.7401944398880005, 0.5509026050567627, 0.4975908696651459, 0.5002442598342896, 0.49617379903793335, 0.49744075536727905, 0.4981552064418793, 0.7249730825424194, 0.4970110356807709, 0.4968245327472687, 0.4942288100719452, 0.7390854954719543, 0.49781447649002075, 0.5931286811828613, 0.49663233757019043, 0.5014752149581909, 0.5020760893821716, 0.5024038553237915, 0.5024355053901672, 0.49496304988861084, 0.6678490042686462, 0.6328420639038086, 0.5044823884963989, 0.5067865252494812, 0.4918225407600403, 0.5314091444015503, 0.6457046866416931, 0.49930426478385925, 0.7371981143951416, 0.5092254281044006, 0.5000478625297546, 0.5086725950241089, 0.7262682318687439, 0.4970073997974396, 0.5030391216278076, 0.7012765407562256, 0.4986875653266907, 0.49606770277023315, 0.5537298917770386, 0.5027129650115967, 0.5006389617919922, 0.5231980681419373, 0.510414183139801, 0.5035240650177002, 0.4923897087574005, 0.5035347938537598, 0.536506712436676, 0.4979461431503296, 0.5045625567436218, 0.4927004873752594, 0.4949941337108612, 0.4955662190914154, 0.5022837519645691, 0.5040314793586731, 0.5799005627632141, 0.6283456683158875, 0.5072786211967468, 0.5031511783599854, 0.5051648020744324, 0.49275535345077515, 0.4992305040359497, 0.49289923906326294, 0.6162152886390686, 0.4969194233417511, 0.6344187259674072, 0.5485426783561707, 0.649786114692688, 0.5060108304023743, 0.5058946013450623, 0.5021958351135254, 0.5026780366897583, 0.5052390694618225, 0.49355942010879517, 0.5020503997802734, 0.5015435814857483, 0.6605405807495117, 0.5053340196609497, 0.6813470125198364, 0.5056463479995728, 0.5004118084907532, 0.5074936151504517, 0.6126432418823242, 0.49527639150619507, 0.49570122361183167, 0.5005391240119934, 0.5045029520988464, 0.49678903818130493, 0.4943038523197174, 0.4964057505130768, 0.4921165108680725, 0.5038402676582336, 0.5011978149414062, 0.499969482421875, 0.5278093218803406, 0.4986911118030548, 0.4946729242801666, 0.5094407200813293, 0.4957540035247803, 0.5102009773254395, 0.4959407150745392, 0.6216977834701538, 0.7301302552223206, 0.633227527141571, 0.5324211120605469, 0.4945589601993561, 0.686794638633728, 0.6116529703140259, 0.4945976734161377, 0.4931052625179291, 0.5053832530975342, 0.4960407018661499, 0.4948287308216095, 0.49729010462760925, 0.4963783919811249, 0.5059910416603088, 0.5058121681213379, 0.4968850314617157, 0.689638078212738, 0.5037651658058167, 0.5024341344833374, 0.6399792432785034, 0.5020551681518555, 0.5049912929534912, 0.5041330456733704, 0.4969902038574219, 0.4974900782108307, 0.5033087134361267, 0.5058770775794983, 0.4999697804450989, 0.5019315481185913, 0.6232189536094666, 0.5057601928710938, 0.5474073886871338, 0.49805933237075806, 0.48910924792289734, 0.5020171999931335, 0.7175846695899963, 0.5547075867652893, 0.4957769811153412, 0.5084328651428223, 0.49351465702056885, 0.6224144101142883, 0.5009478330612183, 0.6550927758216858, 0.5004867315292358, 0.7226656675338745, 0.615164041519165, 0.4953745901584625, 0.5053107738494873, 0.7357105612754822, 0.5936388969421387, 0.678037166595459, 0.5092267394065857, 0.7106673717498779, 0.5037229061126709, 0.4975086748600006, 0.49705055356025696, 0.4971098303794861, 0.48893803358078003, 0.6220784187316895, 0.5284268260002136, 0.5450901985168457, 0.49992311000823975, 0.5411891937255859, 0.525594174861908, 0.4955519437789917, 0.7439872026443481, 0.5035040378570557, 0.5867648124694824, 0.5311848521232605, 0.5023800730705261, 0.5230151414871216, 0.5109452605247498, 0.5037749409675598, 0.5032990574836731, 0.740042507648468, 0.6255239844322205, 0.49916669726371765, 0.501072108745575, 0.4950786232948303, 0.49907639622688293, 0.5081561207771301, 0.502565324306488, 0.5029386878013611, 0.7154010534286499, 0.5500403642654419, 0.5068660378456116, 0.5122761130332947, 0.7142167091369629, 0.505225658416748, 0.49586665630340576, 0.5126625895500183, 0.6810926795005798, 0.4906489849090576, 0.5013903379440308, 0.5040200352668762, 0.535793125629425, 0.4973141849040985, 0.5088402032852173, 0.4968847930431366, 0.5133252143859863, 0.7192637324333191, 0.7126747369766235, 0.5075920820236206, 0.4992935061454773, 0.5018438100814819, 0.49706652760505676, 0.500545859336853, 0.6813721656799316, 0.5032901167869568, 0.5090456604957581, 0.6717597246170044, 0.7363320589065552, 0.5256407260894775, 0.4991946816444397, 0.7269609570503235, 0.7452558279037476, 0.49653956294059753, 0.5207908749580383, 0.4902549386024475, 0.48680633306503296, 0.7121375799179077, 0.49911263585090637, 0.7371395230293274, 0.5037793517112732, 0.49364516139030457, 0.5112236142158508, 0.5048972964286804, 0.5061817765235901, 0.7379516363143921, 0.709464430809021, 0.49885043501853943, 0.5110940933227539, 0.4975607693195343, 0.49599742889404297, 0.5066942572593689, 0.5095995664596558, 0.7248138189315796, 0.7210607528686523, 0.4978761672973633, 0.495757520198822, 0.6908103823661804, 0.5003271102905273, 0.4918990433216095, 0.735673725605011, 0.5111838579177856, 0.4998146891593933, 0.5052065253257751, 0.498247355222702, 0.49141860008239746, 0.505875289440155, 0.4887167513370514, 0.4900847375392914, 0.5042226314544678, 0.4981827139854431, 0.49844855070114136, 0.505881130695343, 0.4985855519771576, 0.5013203620910645, 0.5019672513008118, 0.5049728155136108, 0.5091887712478638, 0.48570194840431213, 0.490577757358551, 0.5027152299880981, 0.7120206952095032, 0.5141880512237549, 0.5049238204956055, 0.5058161616325378, 0.5016687512397766, 0.5005404949188232, 0.4924849271774292, 0.49753445386886597, 0.5061175227165222, 0.7239528894424438, 0.4961998164653778, 0.49213647842407227, 0.5340035557746887, 0.49141180515289307, 0.5810800194740295, 0.5033249855041504, 0.7441162467002869, 0.7327741384506226, 0.4978088140487671, 0.5009862184524536, 0.5053083896636963, 0.5026419758796692, 0.501720130443573, 0.5018174648284912, 0.5071404576301575, 0.49973323941230774, 0.5464139580726624, 0.499847412109375, 0.5144725441932678, 0.49723079800605774, 0.5096319913864136, 0.6056813597679138, 0.4981788098812103, 0.4988939166069031, 0.493249773979187, 0.49863284826278687, 0.5013525485992432, 0.499935507774353, 0.4996923804283142, 0.6989122629165649, 0.4984697699546814, 0.4957544803619385, 0.5043208599090576, 0.5002797245979309, 0.5048407316207886, 0.49373680353164673, 0.49367472529411316, 0.6688489317893982, 0.5042338371276855, 0.5010818839073181, 0.5060776472091675, 0.4973253905773163, 0.6148624420166016, 0.5066338181495667, 0.50058913230896, 0.5026013851165771, 0.498484343290329, 0.5120245218276978, 0.4888552725315094, 0.4947422444820404, 0.49346354603767395, 0.5856236815452576, 0.6710395812988281, 0.6545290350914001, 0.5241320729255676, 0.7348008155822754, 0.5799421668052673, 0.5085374116897583, 0.7225048542022705, 0.5001389384269714, 0.5302557945251465, 0.5000249743461609, 0.5020066499710083, 0.5206359028816223, 0.5794893503189087, 0.5006516575813293, 0.5071353912353516, 0.49490365386009216, 0.5040882229804993, 0.49952057003974915, 0.5021890997886658, 0.5681394338607788, 0.6584084033966064, 0.4993091821670532, 0.5063766837120056, 0.49892085790634155, 0.5435469150543213, 0.5897127985954285, 0.5061082243919373, 0.502236545085907, 0.5038957595825195, 0.5043501853942871, 0.5063486695289612, 0.5048633217811584, 0.49554455280303955, 0.5057460069656372, 0.5020996332168579, 0.4947783648967743, 0.5038725137710571, 0.49896442890167236, 0.49893927574157715, 0.49648919701576233, 0.5003609657287598, 0.7220498919487, 0.5001543164253235, 0.7143916487693787, 0.5622096657752991, 0.5033968091011047, 0.5041797757148743, 0.5367956161499023, 0.5399360060691833, 0.5008202195167542, 0.5001099705696106, 0.48975878953933716, 0.5016372203826904, 0.5095519423484802, 0.5045360922813416, 0.5034988522529602, 0.5056018233299255, 0.530764102935791, 0.729923665523529, 0.5028350949287415, 0.5992185473442078, 0.49039873480796814, 0.5116894841194153, 0.6640503406524658, 0.5039432048797607, 0.49942415952682495, 0.5006550550460815, 0.7309475541114807, 0.5039833784103394, 0.553385853767395, 0.49648743867874146, 0.49727147817611694, 0.5068573951721191, 0.5083188414573669, 0.49796706438064575, 0.4997514486312866, 0.500767171382904, 0.4987097382545471, 0.5010088086128235, 0.6101056933403015, 0.5039582252502441, 0.5068343281745911, 0.507107675075531, 0.6349009275436401, 0.49823492765426636, 0.4953992962837219, 0.4988768994808197, 0.6945035457611084, 0.5047922134399414, 0.5020008683204651, 0.5551621913909912, 0.49218544363975525, 0.5466610789299011, 0.7162390947341919, 0.49900051951408386, 0.4957578778266907, 0.49431943893432617, 0.5098989605903625, 0.6647160053253174, 0.48993703722953796, 0.5009120106697083, 0.5008555054664612, 0.5009202361106873, 0.499658465385437, 0.5044322609901428, 0.7060741186141968, 0.4918489158153534, 0.7381806373596191, 0.494824081659317, 0.5049800276756287, 0.49544328451156616, 0.4992530345916748, 0.5037126541137695, 0.4945037364959717, 0.50065678358078, 0.5043330192565918, 0.5167255401611328, 0.49979832768440247, 0.5947949290275574, 0.5670380592346191, 0.5014365911483765, 0.49035507440567017, 0.6595900058746338, 0.4942283034324646, 0.49752017855644226, 0.4903520941734314, 0.4918587803840637, 0.498749703168869, 0.6131944060325623, 0.5904293656349182, 0.5027216076850891, 0.58408522605896, 0.4963739812374115, 0.4976109564304352, 0.6011701226234436, 0.6749473810195923, 0.7071368098258972, 0.5128812193870544, 0.5619708299636841, 0.5026726126670837, 0.5053061842918396, 0.5835426449775696, 0.6712418794631958, 0.5013007521629333, 0.5010967254638672, 0.5002099275588989, 0.5070345997810364, 0.728941023349762, 0.5019403696060181, 0.48931676149368286, 0.4973081648349762, 0.7344915866851807, 0.49536705017089844, 0.7399749755859375, 0.4985881447792053, 0.7305209636688232, 0.5038550496101379, 0.5990117192268372, 0.4987888038158417, 0.5024682283401489, 0.5010872483253479, 0.49340417981147766, 0.5890058875083923, 0.49421489238739014, 0.5007670521736145, 0.5411880612373352, 0.695178747177124, 0.5067489147186279, 0.4960738718509674, 0.6108471155166626, 0.4992077946662903, 0.5019407868385315, 0.6077757477760315, 0.518669068813324, 0.6769753098487854, 0.4996301829814911, 0.5520342588424683, 0.4872678816318512, 0.4981604814529419, 0.5068663954734802, 0.7223190665245056, 0.49945563077926636, 0.6226564645767212, 0.5054923892021179, 0.5223234295845032, 0.5095929503440857, 0.497314989566803, 0.5060636401176453, 0.4983540177345276, 0.48927876353263855, 0.7139289379119873, 0.7202878594398499, 0.498261958360672, 0.4970191717147827, 0.5010788440704346, 0.49988535046577454, 0.49586987495422363, 0.4984845817089081, 0.5042961835861206, 0.5848367214202881, 0.6274003982543945, 0.5063166618347168, 0.5123708844184875, 0.49920493364334106, 0.49022164940834045, 0.5075893402099609, 0.5038968324661255, 0.6836482882499695, 0.5078862905502319, 0.4994009733200073, 0.6900457739830017, 0.532505452632904, 0.5011322498321533, 0.5018383860588074, 0.49663352966308594, 0.4987597167491913, 0.5027338862419128, 0.49710333347320557, 0.5028864145278931, 0.5010606050491333, 0.5076726078987122, 0.49914243817329407, 0.5062665939331055, 0.4919646978378296, 0.5024053454399109, 0.49973514676094055, 0.4964381754398346, 0.7431274056434631, 0.5071645379066467, 0.5047823786735535, 0.49973228573799133, 0.4933668375015259, 0.49916037917137146, 0.5035496354103088, 0.504597544670105, 0.5006622672080994, 0.5061156749725342, 0.49639037251472473, 0.5029675960540771, 0.6355279684066772, 0.5042994022369385, 0.5055692791938782, 0.5027215480804443, 0.4922911524772644, 0.49834561347961426, 0.5657781958580017, 0.4957801401615143, 0.7324604988098145, 0.502086877822876, 0.5085936784744263, 0.5107853412628174, 0.5027112364768982, 0.49151092767715454, 0.585893452167511, 0.714347779750824, 0.7368916869163513, 0.7326143980026245, 0.6652182936668396, 0.6293742060661316, 0.7198358178138733, 0.7417524456977844, 0.7404876947402954, 0.5663288831710815, 0.702120840549469, 0.733027994632721, 0.7283160090446472, 0.742031991481781, 0.7364830374717712, 0.5657055974006653, 0.7370352149009705, 0.7382193803787231, 0.7413041591644287, 0.7144205570220947, 0.7433499693870544, 0.7240442037582397, 0.7388143539428711, 0.7405472993850708, 0.7320809960365295, 0.5271212458610535, 0.6575154066085815, 0.6044721603393555, 0.7311639189720154, 0.5357916355133057, 0.7282949686050415, 0.733231246471405, 0.7184165716171265, 0.6625974178314209, 0.49948108196258545, 0.7395414710044861, 0.7407854199409485, 0.7455453872680664, 0.7378408312797546, 0.5663641095161438, 0.6131896376609802, 0.7320140600204468, 0.7515449523925781, 0.751297652721405, 0.6676633358001709, 0.7285248637199402, 0.7166936993598938, 0.6267290115356445, 0.7409781813621521, 0.741678774356842, 0.7304674386978149, 0.7319197058677673, 0.7420060634613037, 0.7407379746437073, 0.7402812838554382, 0.7365735173225403, 0.7386229634284973, 0.6856739521026611, 0.582474410533905, 0.5376583337783813, 0.7384640574455261, 0.7133724689483643, 0.7237464189529419, 0.664610743522644, 0.7227862477302551, 0.7416513562202454, 0.5757234692573547, 0.7430472373962402, 0.6531419157981873, 0.5661718249320984, 0.5146968960762024, 0.7091037631034851, 0.5133786201477051, 0.49987998604774475, 0.5952087044715881, 0.7296823859214783, 0.7292991876602173, 0.504983127117157, 0.741033673286438, 0.7373865246772766, 0.6230892539024353, 0.5037189722061157, 0.6932046413421631, 0.6216573119163513, 0.5190647840499878, 0.7387123107910156, 0.7375435829162598, 0.7456066012382507, 0.739833414554596, 0.7180271148681641, 0.7446150183677673, 0.7283221483230591, 0.741398274898529, 0.7350487112998962, 0.7387186884880066, 0.7450820803642273, 0.7368040084838867, 0.7531354427337646, 0.6580376029014587, 0.741134762763977, 0.7522295117378235, 0.7469712495803833, 0.7299551367759705, 0.7425904273986816, 0.7375045418739319, 0.7500309348106384, 0.7240554094314575, 0.7423301935195923, 0.7181920409202576, 0.630563497543335, 0.7383968234062195, 0.7473394870758057, 0.7390261292457581, 0.7404007911682129, 0.7341009378433228, 0.7166838645935059, 0.7292992472648621, 0.7438832521438599, 0.7378206253051758, 0.647831916809082, 0.7352120876312256, 0.6050336956977844, 0.7371711730957031, 0.5249536633491516, 0.7387014031410217, 0.7351553440093994, 0.7535210251808167, 0.539684534072876, 0.724277138710022, 0.6010433435440063, 0.5017002820968628, 0.5391682982444763, 0.72773677110672, 0.544516384601593, 0.7372475266456604, 0.7459622025489807, 0.7384911775588989, 0.7297613620758057, 0.7416067123413086, 0.5052681565284729, 0.7289541959762573, 0.4990512430667877, 0.7350735068321228, 0.6036046743392944, 0.7449173927307129, 0.7278937101364136, 0.7422960996627808, 0.7233808636665344, 0.7097110748291016, 0.7478747963905334, 0.6864964962005615, 0.7354291677474976, 0.7400450706481934, 0.7349511384963989, 0.7391876578330994, 0.7466721534729004, 0.7358279824256897, 0.746762216091156, 0.7334571480751038, 0.7203583717346191, 0.6852012872695923, 0.6935941576957703, 0.7453793287277222, 0.7366191148757935, 0.742699146270752, 0.7410350441932678, 0.7388778328895569, 0.5061091780662537, 0.7390254735946655, 0.7063546776771545, 0.5035706758499146, 0.7403406500816345, 0.7423384785652161, 0.7403020262718201, 0.7242076992988586, 0.7339628338813782, 0.7336820363998413, 0.6459720730781555, 0.7412164807319641, 0.7316409945487976, 0.7400281429290771, 0.49951523542404175, 0.7483015060424805, 0.7358095645904541, 0.7344803214073181, 0.7508071660995483, 0.744997501373291, 0.7376341223716736, 0.5064709782600403, 0.6825299859046936, 0.7312958836555481, 0.7454698085784912, 0.6581504344940186, 0.5106984972953796, 0.7341728210449219, 0.7481366395950317, 0.531791090965271, 0.7434085011482239, 0.7384755611419678, 0.7386879324913025, 0.7355638146400452, 0.7155694961547852, 0.5108579397201538, 0.7379425168037415, 0.7351922392845154, 0.73514324426651, 0.5492925643920898, 0.7309351563453674, 0.7259925007820129, 0.712462842464447, 0.5122761130332947, 0.7385550141334534, 0.6088528037071228, 0.748288094997406, 0.7229697108268738, 0.526652991771698, 0.7347663044929504, 0.7350735068321228, 0.7351294755935669, 0.582159698009491, 0.7343621253967285, 0.7363083362579346, 0.7471370100975037, 0.7554699778556824, 0.7327261567115784, 0.7415106892585754, 0.6353944540023804, 0.6123219728469849, 0.559356153011322, 0.7391571998596191, 0.7434813976287842, 0.7426010370254517, 0.742536187171936, 0.7424944639205933, 0.7240689992904663, 0.7292060256004333, 0.7456663250923157, 0.7343760132789612, 0.7174152731895447, 0.7450729608535767, 0.7437164187431335, 0.7115112543106079, 0.7416462898254395, 0.7369363307952881, 0.7307795882225037, 0.7398312091827393, 0.7240017652511597, 0.7385176420211792, 0.7426761388778687, 0.6381005644798279, 0.7338721752166748, 0.5038655996322632, 0.7319973707199097, 0.7333014607429504, 0.7452507019042969, 0.7378976941108704, 0.7382599115371704, 0.4997997581958771, 0.5012184381484985, 0.7421973943710327, 0.750290036201477, 0.7129740118980408, 0.7359099388122559, 0.714674711227417, 0.7045441269874573, 0.7441087961196899, 0.7084258198738098, 0.5070455074310303, 0.7430583834648132, 0.7385308146476746, 0.5943554639816284, 0.513724684715271, 0.565759003162384, 0.7388938069343567, 0.68120276927948, 0.7413990497589111, 0.6827821135520935, 0.5690996050834656, 0.7504051327705383, 0.7450440526008606, 0.5368587970733643, 0.7436529994010925, 0.7393471598625183, 0.7376462817192078, 0.7160974740982056, 0.7277833223342896, 0.7408794164657593, 0.7439131736755371, 0.5233248472213745, 0.7350290417671204, 0.5887783765792847, 0.7420356869697571, 0.7255602478981018, 0.7426165342330933, 0.6137542724609375, 0.5052425265312195, 0.7451120615005493, 0.7373877167701721, 0.6195414066314697, 0.7007343173027039, 0.5171882510185242, 0.7277234196662903, 0.7389766573905945, 0.7377858757972717, 0.6318172812461853, 0.6900853514671326, 0.7416492700576782, 0.7392043471336365, 0.7422280311584473, 0.7392613887786865, 0.7371952533721924, 0.735235333442688, 0.5014127492904663, 0.5036543607711792, 0.7356715798377991, 0.5050643682479858, 0.7518330812454224, 0.7426944971084595, 0.5068414211273193, 0.7364052534103394, 0.7387341260910034, 0.7502980828285217, 0.6674391627311707, 0.7227796912193298, 0.5149031281471252, 0.7367232441902161, 0.5013387203216553, 0.7369109392166138, 0.7412406802177429, 0.7068367004394531, 0.5216392874717712, 0.5206059217453003, 0.6386633515357971, 0.6541962027549744, 0.6283805966377258, 0.6457992792129517, 0.5849307179450989, 0.7422441244125366, 0.5781145095825195, 0.7479925751686096, 0.5426477789878845, 0.5117968320846558, 0.7476140856742859, 0.6931172609329224, 0.6818937659263611, 0.7295564413070679, 0.5054218769073486, 0.7425722479820251, 0.7360994219779968, 0.606537938117981, 0.7353223562240601, 0.7419986128807068, 0.7473410367965698, 0.7368115186691284, 0.7445434927940369, 0.6676046848297119, 0.7294418811798096, 0.7399170398712158, 0.7431755661964417, 0.7392301559448242, 0.5344511270523071, 0.7234339118003845, 0.7337979078292847, 0.7423970699310303, 0.5263704061508179, 0.7417430281639099, 0.7362266778945923, 0.7420494556427002, 0.7406893372535706, 0.7379487156867981, 0.7396777868270874, 0.7338305711746216, 0.7080749273300171, 0.73734050989151, 0.521632194519043, 0.7279946804046631, 0.7147181630134583, 0.7386395335197449, 0.6580184698104858, 0.5686618685722351, 0.6587657928466797, 0.6405927538871765, 0.7237189412117004, 0.5141533017158508, 0.7338083386421204, 0.6900289058685303, 0.7374361753463745, 0.7332044839859009, 0.7502004504203796, 0.511734664440155, 0.5090619921684265, 0.5784248113632202, 0.744279682636261, 0.7290587425231934, 0.7417880892753601, 0.5693840980529785, 0.6778758764266968, 0.5110911130905151, 0.7279703617095947, 0.5158357620239258, 0.6683856844902039, 0.7350972890853882, 0.7418441772460938, 0.704398512840271, 0.7092889547348022, 0.7405527234077454, 0.5530779361724854, 0.7098776698112488, 0.6368447542190552, 0.5072886347770691, 0.5448863506317139, 0.7394479513168335, 0.7364042401313782, 0.7341038584709167, 0.7358073592185974, 0.5062029361724854, 0.7391408085823059, 0.5656686425209045, 0.6586906909942627, 0.5715836882591248, 0.7438659071922302, 0.7345289587974548, 0.7357175350189209, 0.7454994320869446, 0.7348469495773315, 0.7360004186630249, 0.6066228151321411, 0.7201745510101318, 0.6191483736038208, 0.736036479473114, 0.5045498013496399, 0.6424684524536133, 0.7246419787406921, 0.7073682546615601, 0.7430654168128967, 0.7216234803199768, 0.7340063452720642, 0.7366824746131897, 0.618547260761261, 0.5318372249603271, 0.7388603091239929, 0.7340927124023438, 0.7080543041229248, 0.7374228239059448, 0.50278639793396, 0.7335851788520813, 0.7455876469612122, 0.7404527068138123, 0.6443946957588196, 0.711887001991272, 0.7382427453994751, 0.7425894141197205, 0.7377086877822876, 0.7315208315849304, 0.7279869914054871, 0.5150031447410583, 0.7377542853355408, 0.7355366945266724, 0.7231778502464294, 0.6631004810333252, 0.742842972278595, 0.64167720079422, 0.6589688658714294, 0.7363561987876892, 0.5045617818832397, 0.738440752029419, 0.7406541109085083, 0.5087922215461731, 0.7340216636657715, 0.5449455380439758, 0.5269462466239929, 0.5035692453384399, 0.7438083291053772, 0.7458578944206238, 0.5409944653511047, 0.7361654043197632, 0.7358165383338928, 0.5062116980552673, 0.6238684058189392, 0.7355753183364868, 0.7417025566101074, 0.6304343342781067, 0.5000095367431641, 0.6624183654785156, 0.7362468242645264, 0.7380313277244568, 0.4992484450340271, 0.5086289048194885, 0.5104146599769592, 0.5132002234458923, 0.5804435014724731, 0.7298639416694641, 0.6593802571296692, 0.6480610370635986, 0.5149836540222168, 0.5033658146858215, 0.6873002648353577, 0.7424225807189941, 0.7439962029457092, 0.5081130862236023, 0.7310084104537964, 0.7486791610717773, 0.7392429709434509, 0.7366664409637451, 0.7381372451782227, 0.5909178256988525, 0.5151504278182983, 0.737511932849884, 0.7437348961830139, 0.505679190158844, 0.6595705151557922, 0.7374714612960815, 0.7315967679023743, 0.5065569877624512, 0.5048182010650635, 0.735607385635376, 0.7162479162216187, 0.737468421459198, 0.5136707425117493, 0.747592031955719, 0.7449308037757874, 0.7453357577323914, 0.7389361262321472, 0.6997659802436829, 0.6291698217391968, 0.7266301512718201, 0.7138237357139587, 0.5583205819129944, 0.7439396977424622, 0.5473781824111938, 0.7440963983535767, 0.7251321077346802, 0.7443614602088928, 0.6748920679092407, 0.501404345035553, 0.7426868677139282, 0.5909063220024109, 0.7116698622703552, 0.7226797938346863, 0.5048052668571472, 0.7325966954231262, 0.7345314025878906, 0.7352887392044067, 0.503377377986908, 0.6455265283584595, 0.6141619086265564, 0.7389503717422485, 0.5090981721878052, 0.5886819958686829, 0.6772318482398987, 0.7354246377944946, 0.7332999110221863, 0.6713538765907288, 0.5877805948257446, 0.6060306429862976, 0.7470598220825195, 0.7272111177444458, 0.7317464351654053, 0.7365545630455017, 0.7316581010818481, 0.7423315048217773, 0.7219772338867188, 0.502301037311554, 0.4960590898990631, 0.49866923689842224, 0.7400193214416504, 0.7446520328521729, 0.7415408492088318, 0.6443129777908325, 0.6995166540145874, 0.7379060983657837, 0.7314257621765137, 0.7409421801567078, 0.7341687679290771, 0.7412098050117493, 0.664495050907135, 0.49740979075431824, 0.7451914548873901, 0.7108681201934814, 0.7391628623008728, 0.6424283385276794, 0.7377089262008667, 0.7255824208259583, 0.733500063419342, 0.5119889974594116, 0.7405158281326294, 0.744273841381073, 0.7449771165847778, 0.7254818677902222, 0.7369403839111328, 0.5451720952987671, 0.5111075639724731, 0.6911554336547852, 0.5046612620353699, 0.7036141753196716, 0.7397887110710144, 0.7340807914733887, 0.7418633103370667, 0.7413709163665771, 0.7365230321884155, 0.726800262928009, 0.6393204927444458, 0.7388167977333069, 0.5305582284927368, 0.6539155840873718, 0.74728924036026, 0.5039993524551392, 0.7451624274253845, 0.7261604070663452, 0.7274566292762756, 0.7357619404792786, 0.7386080026626587, 0.5095105171203613, 0.7329738140106201, 0.5000444054603577, 0.7434867024421692, 0.7265890836715698, 0.6871891021728516, 0.5033873915672302, 0.7342345714569092, 0.7511326670646667, 0.5243508219718933, 0.7307431101799011, 0.7260245084762573, 0.7249895930290222, 0.5951259136199951, 0.6741101741790771, 0.7475871443748474, 0.7349218726158142, 0.585076093673706, 0.5115606784820557, 0.7414038181304932, 0.7313007712364197, 0.7304190397262573, 0.7352604269981384, 0.7376778721809387, 0.7290552854537964, 0.7486260533332825, 0.740125298500061, 0.5037787556648254, 0.736622154712677, 0.5745781064033508, 0.6240386962890625, 0.6620727777481079, 0.712047815322876, 0.505211591720581, 0.5012003779411316, 0.7383264303207397, 0.5880828499794006, 0.5068796873092651, 0.7233173847198486, 0.7421504259109497, 0.7408635020256042, 0.7437000870704651, 0.5076661109924316, 0.5293604135513306, 0.6977414488792419, 0.5160021781921387, 0.7438440322875977, 0.5503056049346924, 0.5035781860351562, 0.5042408108711243, 0.7330554723739624, 0.7385289072990417, 0.7256553173065186, 0.7222921848297119, 0.6468091011047363, 0.503773033618927, 0.7501965165138245, 0.5127284526824951, 0.7265205979347229, 0.7414326667785645, 0.7413856387138367, 0.736588180065155, 0.5566775798797607, 0.735162079334259, 0.650278627872467, 0.7417917847633362, 0.5050607919692993, 0.7359736561775208, 0.6353573799133301, 0.7369780540466309, 0.5369605422019958, 0.6448145508766174, 0.7439467310905457, 0.49915611743927, 0.7376179695129395, 0.6009958982467651, 0.538330614566803, 0.5026107430458069, 0.6988797783851624, 0.5020057559013367, 0.740405261516571, 0.7429671883583069, 0.7035428881645203, 0.7299017906188965, 0.5916684865951538, 0.5766925811767578, 0.7372682690620422, 0.6593648195266724, 0.7363273501396179, 0.49866586923599243, 0.5073007941246033, 0.7416989207267761, 0.5035126209259033, 0.7250428199768066, 0.7445371747016907, 0.7329424023628235, 0.6432485580444336, 0.7472401857376099, 0.7249525189399719, 0.7363349199295044, 0.6649666428565979, 0.7416290640830994, 0.7053052186965942, 0.7330173850059509, 0.5067772269248962, 0.7383419871330261, 0.7371459007263184, 0.7293294668197632, 0.7420994639396667, 0.7372580766677856, 0.501803994178772, 0.7220180034637451, 0.5039660334587097, 0.7362384796142578, 0.7383855581283569, 0.5119225382804871, 0.5189732313156128, 0.639143705368042, 0.7399701476097107, 0.7384909987449646, 0.739884614944458, 0.7310037612915039, 0.7488493919372559, 0.5044213533401489, 0.7358261346817017, 0.5339758396148682, 0.7444897890090942, 0.550338625907898, 0.5064563155174255, 0.7430049777030945, 0.5003593564033508, 0.7395941019058228, 0.5259012579917908, 0.7366802096366882, 0.7401382327079773, 0.6760450005531311, 0.7249858975410461, 0.6813421249389648, 0.7301203012466431, 0.7330417633056641, 0.74421626329422, 0.7351980209350586, 0.734630286693573, 0.7481688261032104, 0.665654718875885, 0.5062477588653564, 0.7427275776863098, 0.5135798454284668, 0.4995729923248291, 0.7474815249443054, 0.6427503824234009, 0.7149579524993896, 0.5043540596961975, 0.7342448830604553, 0.68417888879776, 0.7251264452934265, 0.7147618532180786, 0.7340677976608276, 0.739240825176239, 0.7413536906242371, 0.702532172203064, 0.5030307769775391, 0.5064670443534851, 0.7364783883094788, 0.5481889843940735, 0.6130598783493042, 0.6085312366485596, 0.502853274345398, 0.7506808638572693, 0.561327338218689, 0.741152822971344, 0.569186270236969, 0.5227153301239014, 0.7381391525268555, 0.6204935908317566, 0.7498791813850403, 0.7457850575447083, 0.7466118931770325, 0.7374913096427917, 0.5320147275924683, 0.7404118180274963, 0.7382014393806458, 0.5662118196487427, 0.5126305818557739, 0.743762195110321, 0.7400720119476318, 0.7377411127090454, 0.7423623204231262, 0.7414916157722473, 0.5048813223838806, 0.6403735280036926, 0.7429288029670715, 0.5181261897087097, 0.735460638999939, 0.7424960732460022, 0.5074735879898071, 0.7382850646972656, 0.51313716173172, 0.7412680387496948, 0.7360870242118835, 0.7349898219108582, 0.4987145960330963, 0.6964830160140991, 0.733817994594574, 0.6377585530281067, 0.6081552505493164, 0.7402830719947815, 0.5565507411956787, 0.5046274065971375, 0.5055198073387146, 0.7433868050575256, 0.7398902773857117, 0.6648661494255066, 0.7521187663078308, 0.7309179306030273, 0.5231075286865234, 0.7335172295570374, 0.5703557729721069, 0.7435302734375, 0.7391397953033447, 0.7364009618759155, 0.6287122964859009, 0.7244091033935547, 0.7385690212249756, 0.5782976150512695, 0.7328780293464661, 0.7368518710136414, 0.7392374873161316, 0.5058562755584717, 0.5082035660743713, 0.6195643544197083, 0.7477835416793823, 0.7362903356552124, 0.7513918876647949, 0.6769800782203674, 0.7471387386322021, 0.6388837695121765, 0.505217432975769, 0.5097973942756653, 0.7391591668128967, 0.7449830770492554, 0.6776859760284424, 0.7487024664878845, 0.7336098551750183, 0.5324576497077942, 0.7306761741638184, 0.5061244964599609, 0.7378908395767212, 0.6630604863166809, 0.502214252948761, 0.5029171705245972, 0.7340381741523743, 0.5762274265289307, 0.6382651925086975, 0.664534866809845, 0.5011740922927856, 0.6911455988883972, 0.5236884355545044, 0.7466476559638977, 0.7393541932106018, 0.5034124851226807, 0.6908296942710876, 0.7207954525947571, 0.7377198934555054, 0.7365205883979797, 0.7344284653663635, 0.7425053119659424, 0.7369011044502258, 0.5707666873931885, 0.5280107855796814, 0.7393569350242615, 0.74140465259552, 0.7412145733833313, 0.5890845656394958, 0.7370432615280151, 0.5030744075775146, 0.7389823794364929, 0.5372602343559265, 0.7253186702728271, 0.7367600798606873, 0.6153758764266968, 0.7079835534095764, 0.6467786431312561, 0.7287271022796631, 0.649774432182312, 0.5063374042510986, 0.5127822160720825, 0.6407222151756287, 0.7388917207717896, 0.4991479218006134, 0.7395794987678528, 0.6409361958503723, 0.5876538157463074, 0.502655565738678, 0.5049371123313904, 0.5351043939590454, 0.7345662713050842, 0.7368515729904175, 0.7352709174156189, 0.7430976629257202, 0.7344256043434143, 0.6860913038253784, 0.5052866339683533, 0.5037574172019958, 0.7184372544288635, 0.6606621146202087, 0.7523105144500732, 0.5981653928756714, 0.7451238632202148, 0.7375407218933105, 0.616040825843811, 0.5000242590904236, 0.7367016077041626, 0.505222499370575, 0.5084133744239807, 0.7443835139274597, 0.6809740662574768, 0.5818643569946289, 0.7437064051628113, 0.7348466515541077, 0.507562518119812, 0.6772861480712891, 0.674769401550293, 0.726409375667572, 0.5817796587944031, 0.5039153695106506, 0.7422966361045837, 0.7438344359397888, 0.5030003190040588, 0.7031515836715698, 0.7035799622535706, 0.7541711330413818, 0.7080813050270081, 0.5697336792945862, 0.564824104309082, 0.7332900762557983, 0.5738123655319214, 0.5255573391914368, 0.6979365944862366, 0.6843317747116089, 0.7419643402099609, 0.7442324161529541, 0.6942849159240723, 0.5126597285270691, 0.6107584834098816, 0.7384963035583496, 0.7342817783355713, 0.7305484414100647, 0.7402763366699219, 0.6456862092018127, 0.5026624202728271, 0.5016023516654968, 0.729000449180603, 0.524795413017273, 0.7442238926887512, 0.6909329295158386, 0.5808258056640625, 0.6706311106681824, 0.5187331438064575, 0.7138664126396179, 0.5068395733833313, 0.746123731136322, 0.626381516456604, 0.7410666942596436, 0.5027269124984741, 0.6221263408660889, 0.6356889605522156, 0.7545410394668579, 0.7406859993934631, 0.7020809054374695, 0.5270846486091614, 0.7382276654243469, 0.7462365627288818, 0.5033180117607117, 0.5386499762535095, 0.5094332695007324, 0.5197376012802124, 0.735664427280426, 0.7477675080299377, 0.7395713329315186, 0.7313877940177917, 0.6950287818908691, 0.6120387315750122, 0.6245827078819275, 0.739119291305542, 0.7406204342842102, 0.504215657711029, 0.7274947166442871, 0.7378048896789551, 0.7333441376686096]\n"
          ]
        }
      ]
    },
    {
      "cell_type": "code",
      "source": [
        "print(\"CNN Perplexity Classifier\")\n",
        "evaluate(cnn_perplexity_prediction_output, y, 0.6)"
      ],
      "metadata": {
        "colab": {
          "base_uri": "https://localhost:8080/"
        },
        "id": "jvcs_AeZzipd",
        "outputId": "bdefbe0d-2cb1-4e20-906c-82c6d18f807e"
      },
      "execution_count": null,
      "outputs": [
        {
          "output_type": "stream",
          "name": "stdout",
          "text": [
            "CNN Perplexity Classifier\n",
            "Accuracy: 0.793\n",
            "F1: 0.7845993756503641\n",
            "ROC_AUC: 0.7947935237987919\n",
            "              precision    recall  f1-score   support\n",
            "\n",
            "       Human       0.83      0.77      0.80      1078\n",
            "     ChatGPT       0.75      0.82      0.78       922\n",
            "\n",
            "    accuracy                           0.79      2000\n",
            "   macro avg       0.79      0.79      0.79      2000\n",
            "weighted avg       0.80      0.79      0.79      2000\n",
            "\n"
          ]
        }
      ]
    },
    {
      "cell_type": "code",
      "source": [
        "cnn_gltr_prediction_output = cnn_gltr_classifier.predict(X)\n",
        "print(cnn_gltr_prediction_output)"
      ],
      "metadata": {
        "colab": {
          "base_uri": "https://localhost:8080/"
        },
        "id": "d6I2Botd5AEV",
        "outputId": "a22cbfbd-9c40-4b40-c941-8899ecb05086"
      },
      "execution_count": null,
      "outputs": [
        {
          "output_type": "stream",
          "name": "stdout",
          "text": [
            "63/63 [==============================] - 1s 7ms/step\n",
            "[0.49886319041252136, 0.6955031752586365, 0.6998140811920166, 0.5015326738357544, 0.5915780067443848, 0.6978837251663208, 0.6972786784172058, 0.6962071657180786, 0.5172055959701538, 0.49895527958869934, 0.5006486177444458, 0.6947636008262634, 0.4983414113521576, 0.5030472278594971, 0.5021114349365234, 0.5016358494758606, 0.7072210907936096, 0.4977499544620514, 0.5045484304428101, 0.503188967704773, 0.49797287583351135, 0.4990519881248474, 0.49969273805618286, 0.4987316131591797, 0.49842923879623413, 0.4988291263580322, 0.4983413517475128, 0.5095579028129578, 0.5042093992233276, 0.503286600112915, 0.499892920255661, 0.5005736947059631, 0.6791307926177979, 0.5000994205474854, 0.4998989403247833, 0.6973268389701843, 0.4993840754032135, 0.5799233913421631, 0.5101839303970337, 0.6972845196723938, 0.5048303008079529, 0.5150046348571777, 0.49880149960517883, 0.4986562728881836, 0.49787136912345886, 0.6887089014053345, 0.499909907579422, 0.5057889223098755, 0.5175517797470093, 0.49833282828330994, 0.5006159543991089, 0.6962507963180542, 0.5794869065284729, 0.49888211488723755, 0.4992857575416565, 0.5009967088699341, 0.49741244316101074, 0.49805447459220886, 0.49916085600852966, 0.4987601935863495, 0.4995858073234558, 0.49941369891166687, 0.5074607729911804, 0.5030410289764404, 0.5007426142692566, 0.5077356696128845, 0.6855970621109009, 0.4985271096229553, 0.5000472068786621, 0.5005650520324707, 0.5145299434661865, 0.4986592233181, 0.49785369634628296, 0.6959258913993835, 0.6616507172584534, 0.6429113745689392, 0.5900756120681763, 0.5311276912689209, 0.4997312128543854, 0.6995934247970581, 0.5143074989318848, 0.7085760831832886, 0.7051084041595459, 0.7044864892959595, 0.519477128982544, 0.5011522769927979, 0.6771900653839111, 0.5071454048156738, 0.5086336135864258, 0.5156823396682739, 0.5003908276557922, 0.49893179535865784, 0.4994896352291107, 0.5949496626853943, 0.49912357330322266, 0.49760565161705017, 0.4995810389518738, 0.5320499539375305, 0.5118160247802734, 0.696138858795166, 0.49913153052330017, 0.6990511417388916, 0.49915140867233276, 0.49837055802345276, 0.498617559671402, 0.6988744139671326, 0.5031895637512207, 0.4997106194496155, 0.5080104470252991, 0.5237249135971069, 0.4983651638031006, 0.4993703067302704, 0.5085756778717041, 0.4984276294708252, 0.4995707869529724, 0.49875226616859436, 0.49758368730545044, 0.4984833896160126, 0.499072790145874, 0.6986753344535828, 0.49902451038360596, 0.6997736096382141, 0.5008304715156555, 0.7001650333404541, 0.5093306303024292, 0.5248901844024658, 0.6963359713554382, 0.6983985900878906, 0.498485267162323, 0.4994177520275116, 0.4980592131614685, 0.6960371136665344, 0.49841952323913574, 0.6963969469070435, 0.4996214509010315, 0.49911779165267944, 0.49902093410491943, 0.49968987703323364, 0.497978538274765, 0.49989810585975647, 0.5006234049797058, 0.49903586506843567, 0.49860119819641113, 0.4988125264644623, 0.5003021955490112, 0.6953780651092529, 0.5007162690162659, 0.6572586894035339, 0.5020372271537781, 0.4984804093837738, 0.5008131265640259, 0.5237325429916382, 0.5022780299186707, 0.4996408522129059, 0.4992635250091553, 0.49813029170036316, 0.4991861879825592, 0.6588165163993835, 0.499458909034729, 0.5101464986801147, 0.49952754378318787, 0.4989209771156311, 0.49822741746902466, 0.5184407830238342, 0.5033551454544067, 0.4983007311820984, 0.5095273852348328, 0.6833582520484924, 0.5018518567085266, 0.49937301874160767, 0.7001788020133972, 0.5000246167182922, 0.4995751976966858, 0.70209139585495, 0.49863794445991516, 0.4982685446739197, 0.6380767226219177, 0.4994640052318573, 0.5012275576591492, 0.7024078369140625, 0.4982796609401703, 0.5247654914855957, 0.49856123328208923, 0.5013582110404968, 0.49836719036102295, 0.4997289478778839, 0.49852806329727173, 0.4989643096923828, 0.49989089369773865, 0.49953967332839966, 0.7045517563819885, 0.4988879859447479, 0.4988067150115967, 0.7016586065292358, 0.5020476579666138, 0.49900540709495544, 0.6976621150970459, 0.6553906202316284, 0.5003213882446289, 0.4985198676586151, 0.5053777098655701, 0.6967090368270874, 0.49904993176460266, 0.7080727815628052, 0.5029280781745911, 0.671164333820343, 0.49859222769737244, 0.5650869607925415, 0.500413179397583, 0.49778905510902405, 0.6910794377326965, 0.7009894847869873, 0.6970713138580322, 0.6324489116668701, 0.49827030301094055, 0.6657621264457703, 0.6953045129776001, 0.4998488426208496, 0.49847662448883057, 0.4986041486263275, 0.4987163245677948, 0.4980619251728058, 0.49906250834465027, 0.5001460909843445, 0.6624281406402588, 0.49946317076683044, 0.5002607703208923, 0.5438579320907593, 0.4993513226509094, 0.7015373706817627, 0.6983824968338013, 0.7038779854774475, 0.49899446964263916, 0.5031698942184448, 0.5913306474685669, 0.4998418688774109, 0.6102684736251831, 0.6974453330039978, 0.5329161882400513, 0.499173104763031, 0.5037883520126343, 0.5041727423667908, 0.49915260076522827, 0.5000256896018982, 0.5178465247154236, 0.5006272792816162, 0.4988417625427246, 0.4989904463291168, 0.4995294511318207, 0.49883386492729187, 0.53260737657547, 0.498721182346344, 0.502895176410675, 0.6985130906105042, 0.7037631869316101, 0.6889342665672302, 0.4980171024799347, 0.5017078518867493, 0.4987061321735382, 0.6975172758102417, 0.4980476200580597, 0.7007928490638733, 0.5016274452209473, 0.49985256791114807, 0.49957942962646484, 0.4984608590602875, 0.5169048309326172, 0.4995496869087219, 0.4965955317020416, 0.49909138679504395, 0.500775158405304, 0.4981757402420044, 0.5014463067054749, 0.4980289340019226, 0.6972206830978394, 0.4991523027420044, 0.7028459906578064, 0.698836624622345, 0.4980565905570984, 0.5039474964141846, 0.4995580017566681, 0.5902038812637329, 0.5039284825325012, 0.69570392370224, 0.5001770853996277, 0.6966113448143005, 0.6966385245323181, 0.49850353598594666, 0.6982073187828064, 0.5005944967269897, 0.4990961253643036, 0.49890613555908203, 0.49842581152915955, 0.4988407492637634, 0.7070778012275696, 0.6952812075614929, 0.49785181879997253, 0.6634659171104431, 0.5038389563560486, 0.49853581190109253, 0.5540478229522705, 0.49853387475013733, 0.5005678534507751, 0.49829939007759094, 0.49868905544281006, 0.4980919063091278, 0.4988630712032318, 0.5007942318916321, 0.5028394460678101, 0.4982477128505707, 0.4992644786834717, 0.5215826630592346, 0.7004215121269226, 0.4985414445400238, 0.5011440515518188, 0.5369936227798462, 0.49914613366127014, 0.5125713348388672, 0.4982639253139496, 0.5083184242248535, 0.4983482360839844, 0.7039047479629517, 0.4991525411605835, 0.5347757935523987, 0.49858585000038147, 0.7039197683334351, 0.6986149549484253, 0.49882450699806213, 0.5852760672569275, 0.5039013624191284, 0.6994288563728333, 0.6397194862365723, 0.5135377645492554, 0.499819278717041, 0.49978044629096985, 0.6985499262809753, 0.5159018039703369, 0.49976885318756104, 0.6967440843582153, 0.4994160830974579, 0.7004984617233276, 0.5074175596237183, 0.5102798342704773, 0.6975690722465515, 0.5018148422241211, 0.5098603367805481, 0.4997386038303375, 0.5017475485801697, 0.6396011710166931, 0.7006468772888184, 0.4991980493068695, 0.7107071876525879, 0.5057176351547241, 0.501282274723053, 0.6810077428817749, 0.5123211741447449, 0.6318778991699219, 0.49844974279403687, 0.5054066777229309, 0.6167283654212952, 0.49855899810791016, 0.49756336212158203, 0.6998331546783447, 0.5010663866996765, 0.49832287430763245, 0.5096118450164795, 0.49882593750953674, 0.5204459428787231, 0.5025869607925415, 0.4999707341194153, 0.6806243658065796, 0.4977273941040039, 0.5901256799697876, 0.5000443458557129, 0.49872472882270813, 0.4981343746185303, 0.6973170042037964, 0.534111738204956, 0.5096955299377441, 0.6358993053436279, 0.5003093481063843, 0.5100127458572388, 0.499991774559021, 0.6980363726615906, 0.5003409385681152, 0.7269968390464783, 0.499488890171051, 0.49698466062545776, 0.5013404488563538, 0.5001080632209778, 0.6470925807952881, 0.605291485786438, 0.6382173895835876, 0.5100737810134888, 0.5006006360054016, 0.7012678980827332, 0.5007300972938538, 0.5028451085090637, 0.6973492503166199, 0.4983493983745575, 0.4994000792503357, 0.5043615698814392, 0.5993770360946655, 0.49851739406585693, 0.4990696310997009, 0.49886733293533325, 0.6975254416465759, 0.5011981129646301, 0.4992104172706604, 0.501168429851532, 0.6990707516670227, 0.5146947503089905, 0.5016895532608032, 0.5054853558540344, 0.4985644519329071, 0.697447657585144, 0.693689227104187, 0.4986231327056885, 0.6985375285148621, 0.4999404549598694, 0.5145453214645386, 0.49825894832611084, 0.5027191042900085, 0.499060720205307, 0.49974822998046875, 0.7007028460502625, 0.688184380531311, 0.5008806586265564, 0.4996415674686432, 0.509345531463623, 0.49902719259262085, 0.6960752010345459, 0.49960583448410034, 0.6080156564712524, 0.49866366386413574, 0.49836277961730957, 0.49991288781166077, 0.5004156231880188, 0.6979531049728394, 0.6777743697166443, 0.4994904696941376, 0.6987025737762451, 0.6809161901473999, 0.7006426453590393, 0.5288817286491394, 0.5014817118644714, 0.5031878352165222, 0.5010904669761658, 0.5001322627067566, 0.5030374526977539, 0.6922895312309265, 0.501112163066864, 0.5075781345367432, 0.49727314710617065, 0.6994909048080444, 0.4987824559211731, 0.6373762488365173, 0.4989768862724304, 0.4974703788757324, 0.49893084168434143, 0.4984782338142395, 0.4977075457572937, 0.5000311136245728, 0.5004838705062866, 0.6941148042678833, 0.5015098452568054, 0.49904391169548035, 0.500969409942627, 0.4999423027038574, 0.4984942376613617, 0.5006250739097595, 0.5008057355880737, 0.498541921377182, 0.5205949544906616, 0.6639516949653625, 0.4984894394874573, 0.6977591514587402, 0.5000255107879639, 0.5214931964874268, 0.500473141670227, 0.510034441947937, 0.4978736937046051, 0.7042465806007385, 0.5007509589195251, 0.6305137872695923, 0.49773579835891724, 0.4994054436683655, 0.4998914301395416, 0.4986528754234314, 0.5003879070281982, 0.6975734233856201, 0.49835383892059326, 0.49737903475761414, 0.7058804631233215, 0.5071491003036499, 0.7003427147865295, 0.49861446022987366, 0.5004590749740601, 0.49916091561317444, 0.6034783720970154, 0.512481689453125, 0.6547424793243408, 0.5336728096008301, 0.4986110329627991, 0.49873101711273193, 0.5081364512443542, 0.698051393032074, 0.4981125593185425, 0.49975812435150146, 0.49953505396842957, 0.5026879906654358, 0.4985713064670563, 0.49691134691238403, 0.49825137853622437, 0.4989158809185028, 0.4998069107532501, 0.5004273653030396, 0.49845772981643677, 0.6743449568748474, 0.7159277200698853, 0.6901267170906067, 0.6962800621986389, 0.49930116534233093, 0.5014382004737854, 0.7005431056022644, 0.5005166530609131, 0.6977856755256653, 0.4993535280227661, 0.4991585612297058, 0.5644569396972656, 0.49866557121276855, 0.5002406239509583, 0.4981660544872284, 0.5134486556053162, 0.4989389181137085, 0.7266524434089661, 0.6972571611404419, 0.4989181458950043, 0.6662225723266602, 0.4984751045703888, 0.499573290348053, 0.4986073076725006, 0.5758832693099976, 0.4993838667869568, 0.7071517109870911, 0.5056420564651489, 0.5102749466896057, 0.578500509262085, 0.49831387400627136, 0.49828848242759705, 0.4986059367656708, 0.4988965392112732, 0.5009870529174805, 0.7005754113197327, 0.6999377608299255, 0.6685253381729126, 0.5062292814254761, 0.49989309906959534, 0.5825700759887695, 0.696471631526947, 0.49900540709495544, 0.6677579879760742, 0.49807554483413696, 0.49950090050697327, 0.5069279074668884, 0.4989936351776123, 0.49785712361335754, 0.6984391808509827, 0.5095425248146057, 0.6960469484329224, 0.5226848721504211, 0.5435774326324463, 0.6986171007156372, 0.5899121761322021, 0.49989572167396545, 0.6940674781799316, 0.6955670118331909, 0.5008147954940796, 0.49810245633125305, 0.5064094066619873, 0.49868547916412354, 0.5503674149513245, 0.5092158913612366, 0.5009086728096008, 0.7018150687217712, 0.49884727597236633, 0.5000575184822083, 0.6984533667564392, 0.4985257387161255, 0.6972901821136475, 0.49760910868644714, 0.5000014305114746, 0.6877596974372864, 0.5014772415161133, 0.7002560496330261, 0.6523647308349609, 0.49856919050216675, 0.5001392960548401, 0.628976583480835, 0.696642279624939, 0.5031068325042725, 0.49931013584136963, 0.700745701789856, 0.6661326289176941, 0.5003223419189453, 0.5001614689826965, 0.6352828741073608, 0.5031140446662903, 0.498463898897171, 0.5818459987640381, 0.4990387558937073, 0.49942219257354736, 0.507484495639801, 0.6954466104507446, 0.4989907741546631, 0.6982959508895874, 0.6760420203208923, 0.49876412749290466, 0.5140381455421448, 0.4988228380680084, 0.7006957530975342, 0.6135154962539673, 0.6511154770851135, 0.49809953570365906, 0.4988091289997101, 0.504372239112854, 0.4989883005619049, 0.50121009349823, 0.49767130613327026, 0.5882452130317688, 0.7041320204734802, 0.5143123865127563, 0.5143582224845886, 0.5035129189491272, 0.6810701489448547, 0.5076197385787964, 0.604283332824707, 0.5006131529808044, 0.49889880418777466, 0.6992936730384827, 0.5302172899246216, 0.6991075277328491, 0.4983387589454651, 0.5434443950653076, 0.49666622281074524, 0.49879491329193115, 0.5002383589744568, 0.703950047492981, 0.5040993094444275, 0.49918004870414734, 0.49830347299575806, 0.49992650747299194, 0.49812355637550354, 0.5022342801094055, 0.5052664279937744, 0.5083135962486267, 0.7004441022872925, 0.4980303943157196, 0.5045168995857239, 0.5893875360488892, 0.49991288781166077, 0.4983058273792267, 0.7043663859367371, 0.4987425208091736, 0.5007380247116089, 0.49871692061424255, 0.5010464191436768, 0.6828879714012146, 0.5011765360832214, 0.49726924300193787, 0.5007251501083374, 0.5001372694969177, 0.6931670904159546, 0.4987788796424866, 0.4983638525009155, 0.6967514157295227, 0.4997839629650116, 0.6767579913139343, 0.49966269731521606, 0.6869207620620728, 0.49908483028411865, 0.4985423982143402, 0.49884462356567383, 0.5941458940505981, 0.5325091481208801, 0.5631700158119202, 0.5894004106521606, 0.4991321861743927, 0.49921107292175293, 0.49720948934555054, 0.49879342317581177, 0.49843278527259827, 0.6986556649208069, 0.5015831589698792, 0.6987720727920532, 0.6975639462471008, 0.4992380440235138, 0.7006772756576538, 0.49943262338638306, 0.6985430717468262, 0.7009861469268799, 0.49945586919784546, 0.5007732510566711, 0.49945569038391113, 0.4982461631298065, 0.49775007367134094, 0.5045531988143921, 0.505952775478363, 0.4992685317993164, 0.49936148524284363, 0.4980555474758148, 0.5561296343803406, 0.49854952096939087, 0.5011621117591858, 0.5223228335380554, 0.5808285474777222, 0.499735027551651, 0.4983693063259125, 0.5006046891212463, 0.4995138645172119, 0.49956849217414856, 0.500117301940918, 0.7005037069320679, 0.49871987104415894, 0.5006433725357056, 0.7051973342895508, 0.4978160262107849, 0.5025031566619873, 0.6577515602111816, 0.6220211386680603, 0.6958160400390625, 0.5019831657409668, 0.4984681010246277, 0.5012364387512207, 0.4976957440376282, 0.5193819999694824, 0.5325444936752319, 0.5000758767127991, 0.5051158666610718, 0.4991697072982788, 0.5022885799407959, 0.6978206038475037, 0.5092974901199341, 0.4983939528465271, 0.49865004420280457, 0.5004355311393738, 0.5064438581466675, 0.697943389415741, 0.6982575058937073, 0.6989787220954895, 0.5033280849456787, 0.6973499655723572, 0.4984286427497864, 0.5052598118782043, 0.498941034078598, 0.5013264417648315, 0.6751843690872192, 0.7115789651870728, 0.4989950656890869, 0.5002931356430054, 0.6961236596107483, 0.6935985088348389, 0.6974083781242371, 0.4984430968761444, 0.6986377835273743, 0.5043728351593018, 0.5027971863746643, 0.49812060594558716, 0.5712989568710327, 0.6320012211799622, 0.6044583916664124, 0.49980825185775757, 0.7010595202445984, 0.4982262849807739, 0.6955486536026001, 0.5002138018608093, 0.49916622042655945, 0.5007362961769104, 0.5007175803184509, 0.49957275390625, 0.5047865509986877, 0.49767524003982544, 0.6970449686050415, 0.5016664862632751, 0.683161199092865, 0.671674907207489, 0.49936142563819885, 0.49873387813568115, 0.4988062381744385, 0.4988023042678833, 0.501197099685669, 0.5939659476280212, 0.4982947111129761, 0.696784496307373, 0.5434251427650452, 0.6612022519111633, 0.49835801124572754, 0.5025830268859863, 0.49815332889556885, 0.5008885264396667, 0.49864494800567627, 0.4996587038040161, 0.6292774081230164, 0.49842318892478943, 0.5070602297782898, 0.49889683723449707, 0.6957619190216064, 0.49897143244743347, 0.6970346570014954, 0.7004210352897644, 0.5007429122924805, 0.49721217155456543, 0.7195339798927307, 0.49891480803489685, 0.6985129117965698, 0.49891263246536255, 0.4981039762496948, 0.4993138909339905, 0.4985464811325073, 0.5291488170623779, 0.49747002124786377, 0.4983104467391968, 0.4983879029750824, 0.49854108691215515, 0.49907729029655457, 0.5003054141998291, 0.5485915541648865, 0.49922508001327515, 0.4985777735710144, 0.4991915225982666, 0.4987702965736389, 0.4984072148799896, 0.5044088959693909, 0.5000401735305786, 0.49820366501808167, 0.49864843487739563, 0.49835658073425293, 0.6994156241416931, 0.4978233873844147, 0.4983588755130768, 0.6970476508140564, 0.6983156204223633, 0.4995362162590027, 0.4987937808036804, 0.4988318681716919, 0.5306224226951599, 0.4986547827720642, 0.6998473405838013, 0.49801602959632874, 0.5014830827713013, 0.4973756968975067, 0.49930548667907715, 0.7058839797973633, 0.5000644326210022, 0.49804821610450745, 0.5070362687110901, 0.500434160232544, 0.5012086033821106, 0.5000227093696594, 0.49993759393692017, 0.49980440735816956, 0.6950901746749878, 0.5009114742279053, 0.5080863833427429, 0.6985775828361511, 0.506882905960083, 0.49700042605400085, 0.5087506175041199, 0.500891923904419, 0.5020051002502441, 0.4978311359882355, 0.5087038278579712, 0.4982870817184448, 0.5092941522598267, 0.5248765349388123, 0.49939313530921936, 0.7012295126914978, 0.4994855523109436, 0.49938592314720154, 0.49859821796417236, 0.5002719163894653, 0.5246449708938599, 0.5053702592849731, 0.5046751499176025, 0.4979695677757263, 0.7266372442245483, 0.6998234987258911, 0.5557094812393188, 0.5003607869148254, 0.49931013584136963, 0.5017045736312866, 0.7000488042831421, 0.4981589913368225, 0.49904191493988037, 0.5000611543655396, 0.6171663999557495, 0.6991960406303406, 0.4985717833042145, 0.729416012763977, 0.4986110329627991, 0.5771875977516174, 0.500542402267456, 0.7056838870048523, 0.6048794984817505, 0.49892228841781616, 0.49870219826698303, 0.5180938839912415, 0.69497150182724, 0.7020797729492188, 0.49804943799972534, 0.500106930732727, 0.6970987319946289, 0.5000381469726562, 0.49946531653404236, 0.7016561031341553, 0.49847549200057983, 0.49829116463661194, 0.5113868117332458, 0.5005201101303101, 0.6991398334503174, 0.4981072247028351, 0.7009541988372803, 0.5009371042251587, 0.5045599937438965, 0.49838754534721375, 0.698471188545227, 0.49921083450317383, 0.6975609064102173, 0.4988466203212738, 0.504121720790863, 0.5014798045158386, 0.4988657534122467, 0.5144400596618652, 0.49974703788757324, 0.6977470517158508, 0.699884831905365, 0.577816903591156, 0.6229254603385925, 0.5014750361442566, 0.4970102608203888, 0.5008401274681091, 0.5056779980659485, 0.6991863250732422, 0.5176112651824951, 0.6237654089927673, 0.6883400082588196, 0.49996399879455566, 0.7063604593276978, 0.49873143434524536, 0.4986594021320343, 0.5897529721260071, 0.5166649222373962, 0.6759823560714722, 0.5012742877006531, 0.49895885586738586, 0.6945617198944092, 0.6984692811965942, 0.5004914999008179, 0.5000720620155334, 0.4996550679206848, 0.5001148581504822, 0.5019012093544006, 0.5098165273666382, 0.5006046891212463, 0.4992874264717102, 0.49882158637046814, 0.4988572597503662, 0.49782463908195496, 0.6646988391876221, 0.4988078474998474, 0.6138696074485779, 0.5619383454322815, 0.7008500695228577, 0.498579740524292, 0.699258029460907, 0.5007827877998352, 0.698460578918457, 0.4984878897666931, 0.49773725867271423, 0.5000610947608948, 0.49827316403388977, 0.4998146891593933, 0.49984198808670044, 0.49898794293403625, 0.6991941332817078, 0.5006986260414124, 0.4981890022754669, 0.5031964182853699, 0.4997878968715668, 0.5000775456428528, 0.6988238096237183, 0.49957847595214844, 0.4995049238204956, 0.501253604888916, 0.4987177550792694, 0.5025759339332581, 0.4973149299621582, 0.6992388963699341, 0.4989607632160187, 0.7012828588485718, 0.7281605005264282, 0.7215243577957153, 0.7290735244750977, 0.7271474003791809, 0.7275422811508179, 0.7277281880378723, 0.7281526923179626, 0.7272346615791321, 0.7284128665924072, 0.7280373573303223, 0.7285752296447754, 0.7285773158073425, 0.7292824983596802, 0.7275130152702332, 0.7291700839996338, 0.7304778695106506, 0.7292740941047668, 0.7150315642356873, 0.7281453013420105, 0.7256391048431396, 0.7270240187644958, 0.7258474826812744, 0.7293229699134827, 0.7129698991775513, 0.7287523150444031, 0.7270036935806274, 0.7292051911354065, 0.7277014851570129, 0.7245838642120361, 0.727441132068634, 0.7108391523361206, 0.7260754704475403, 0.7273184061050415, 0.7172988653182983, 0.7298980951309204, 0.7037375569343567, 0.7277439832687378, 0.7265000939369202, 0.7181231379508972, 0.7281433343887329, 0.7128348350524902, 0.72295081615448, 0.7289119362831116, 0.7151698470115662, 0.7248324751853943, 0.7172108888626099, 0.728570282459259, 0.7276939153671265, 0.7262843251228333, 0.7269415259361267, 0.7179906368255615, 0.7274430394172668, 0.7272928953170776, 0.7252894639968872, 0.7157503962516785, 0.7265380024909973, 0.7282845973968506, 0.723065972328186, 0.72829270362854, 0.7074317932128906, 0.7012738585472107, 0.7036697268486023, 0.7266247272491455, 0.7197715044021606, 0.7000902891159058, 0.7270920872688293, 0.683068037033081, 0.7185387015342712, 0.7267305254936218, 0.7273691892623901, 0.7271970510482788, 0.7260871529579163, 0.7265324592590332, 0.7148318290710449, 0.7287604808807373, 0.7258309125900269, 0.7268362045288086, 0.7236031293869019, 0.7275787591934204, 0.6072207093238831, 0.728123128414154, 0.7292796969413757, 0.7254214286804199, 0.7308768033981323, 0.7176694869995117, 0.7295385599136353, 0.728215217590332, 0.6842286586761475, 0.7281992435455322, 0.7286872267723083, 0.7289155125617981, 0.7286018133163452, 0.7290298342704773, 0.7294265031814575, 0.7294478416442871, 0.7280934453010559, 0.726625382900238, 0.728177011013031, 0.725296676158905, 0.7277814745903015, 0.72967129945755, 0.7285754084587097, 0.7298083305358887, 0.7293415665626526, 0.7260258197784424, 0.7273461222648621, 0.7263641953468323, 0.7284364104270935, 0.7222228050231934, 0.7285774946212769, 0.726309061050415, 0.7272834181785583, 0.7245209813117981, 0.7273468971252441, 0.7208776473999023, 0.7264401912689209, 0.7252806425094604, 0.7124467492103577, 0.7031261920928955, 0.7286158800125122, 0.7293001413345337, 0.7280670404434204, 0.7224978804588318, 0.7255553007125854, 0.7284724712371826, 0.7284196019172668, 0.7280074954032898, 0.7166572213172913, 0.7272887825965881, 0.7144044637680054, 0.7285902500152588, 0.7246142029762268, 0.7287501692771912, 0.7284561991691589, 0.7270755767822266, 0.7283731698989868, 0.7287256121635437, 0.4995919167995453, 0.7281143665313721, 0.7157385945320129, 0.7292283177375793, 0.7272861003875732, 0.720150351524353, 0.7252455949783325, 0.7243838310241699, 0.7279115915298462, 0.7252553701400757, 0.7279247641563416, 0.7273765206336975, 0.7288424372673035, 0.7146311402320862, 0.7271262407302856, 0.7273039221763611, 0.7273554801940918, 0.7274645566940308, 0.7228993773460388, 0.727648913860321, 0.7272784113883972, 0.7288773059844971, 0.7280473113059998, 0.728015124797821, 0.7284307479858398, 0.7307276129722595, 0.7283318042755127, 0.7283813953399658, 0.7276646494865417, 0.7278332114219666, 0.7301293611526489, 0.7278351783752441, 0.7273163795471191, 0.7282272577285767, 0.727716863155365, 0.7171206474304199, 0.7276522517204285, 0.7286059260368347, 0.7269936800003052, 0.7290698885917664, 0.7288458943367004, 0.7273492813110352, 0.7269188165664673, 0.7265951633453369, 0.7284824252128601, 0.7283971905708313, 0.7287610173225403, 0.7271687388420105, 0.7292345762252808, 0.7271497845649719, 0.7263892889022827, 0.7273522615432739, 0.7295404672622681, 0.7282457947731018, 0.7281212210655212, 0.7272284626960754, 0.7283534407615662, 0.7261061072349548, 0.727074921131134, 0.7210937142372131, 0.7053846120834351, 0.7141161561012268, 0.727590024471283, 0.7264065146446228, 0.7277339100837708, 0.7293880581855774, 0.7286065816879272, 0.7255660891532898, 0.7240691781044006, 0.7284976243972778, 0.7255024313926697, 0.7271586656570435, 0.7077389359474182, 0.7280373573303223, 0.7284784913063049, 0.7255204916000366, 0.7223977446556091, 0.7281924486160278, 0.7140362858772278, 0.7276540398597717, 0.7239673733711243, 0.7286310195922852, 0.716113269329071, 0.7112793326377869, 0.7309663891792297, 0.7293412685394287, 0.7281416058540344, 0.7241392135620117, 0.7243250012397766, 0.7268993258476257, 0.7278226017951965, 0.7274661660194397, 0.7277026772499084, 0.7284703254699707, 0.7287889122962952, 0.727820873260498, 0.7271232008934021, 0.7273143529891968, 0.7292484045028687, 0.7285663485527039, 0.728699266910553, 0.7273257374763489, 0.7288933396339417, 0.728277862071991, 0.726159930229187, 0.7270141839981079, 0.7284740209579468, 0.7275398969650269, 0.7284232378005981, 0.7267001271247864, 0.7232856750488281, 0.7263497710227966, 0.7243534922599792, 0.7034608721733093, 0.7281477451324463, 0.7276479601860046, 0.7287501692771912, 0.7283111810684204, 0.7266564965248108, 0.7295610308647156, 0.7282852530479431, 0.727251410484314, 0.728206992149353, 0.7275169491767883, 0.7279554605484009, 0.7285807132720947, 0.7107046842575073, 0.7276235222816467, 0.7100098133087158, 0.7278201580047607, 0.7284384369850159, 0.728295624256134, 0.727157711982727, 0.7274027466773987, 0.7117111682891846, 0.7285898923873901, 0.7283384799957275, 0.7190757393836975, 0.7192023396492004, 0.7102521657943726, 0.7262081503868103, 0.7265255451202393, 0.7078580856323242, 0.7162919044494629, 0.7273212671279907, 0.7277993559837341, 0.7272348999977112, 0.7153072357177734, 0.7111910581588745, 0.7257588505744934, 0.7282570004463196, 0.7269519567489624, 0.7284843921661377, 0.7270711660385132, 0.7281096577644348, 0.7279675006866455, 0.7254275679588318, 0.7272018790245056, 0.7272601127624512, 0.7276884317398071, 0.7271378040313721, 0.7282527089118958, 0.5317580699920654, 0.7158935070037842, 0.6989887952804565, 0.7288379669189453, 0.5964556932449341, 0.713276743888855, 0.7283652424812317, 0.7008381485939026, 0.6985648274421692, 0.7082264423370361, 0.7014899849891663, 0.49789732694625854, 0.7277548909187317, 0.7275038361549377, 0.6058971881866455, 0.7175983190536499, 0.7256156802177429, 0.7023962736129761, 0.7092700600624084, 0.7025413513183594, 0.7262075543403625, 0.6971874237060547, 0.7087307572364807, 0.6961292624473572, 0.7034417390823364, 0.7173199653625488, 0.7024683356285095, 0.7294289469718933, 0.7276822328567505, 0.7274784445762634, 0.68876713514328, 0.6735610365867615, 0.7036362886428833, 0.7145039439201355, 0.7168921828269958, 0.5287050008773804, 0.7275410294532776, 0.7233831286430359, 0.7060295343399048, 0.7036838531494141, 0.5005842447280884, 0.7042215466499329, 0.7283220291137695, 0.699734091758728, 0.7281649112701416, 0.5674082636833191, 0.729161262512207, 0.7078800797462463, 0.7055582404136658, 0.6986305713653564, 0.72682124376297, 0.7251079082489014, 0.7292060256004333, 0.7006386518478394, 0.7176710367202759, 0.7269109487533569, 0.7294358611106873, 0.7176419496536255, 0.7034662365913391, 0.7282399535179138, 0.7163717150688171, 0.7001195549964905, 0.7005227208137512, 0.7286685705184937, 0.6424109935760498, 0.6976667046546936, 0.7279278039932251, 0.7287814617156982, 0.709266722202301, 0.7283792495727539, 0.7185232639312744, 0.7052963972091675, 0.7046552300453186, 0.7004384398460388, 0.6997742056846619, 0.7203015089035034, 0.7095449566841125, 0.7030799984931946, 0.7018605470657349, 0.6916962265968323, 0.7121850848197937, 0.6974824666976929, 0.5897775888442993, 0.7285152673721313, 0.7056033611297607, 0.7288417220115662, 0.7267529964447021, 0.72756028175354, 0.5893795490264893, 0.5059451460838318, 0.7011842727661133, 0.7289222478866577, 0.7269406914710999, 0.727778434753418, 0.6954735517501831, 0.7177206873893738, 0.72628253698349, 0.7010631561279297, 0.7279662489891052, 0.6990900039672852, 0.7082080245018005, 0.7292210459709167, 0.7017070055007935, 0.6955455541610718, 0.7289298176765442, 0.7229812741279602, 0.7027977705001831, 0.7035839557647705, 0.5548123717308044, 0.7276121377944946, 0.7274109721183777, 0.7288880348205566, 0.7267565727233887, 0.716143786907196, 0.7274954319000244, 0.7284841537475586, 0.7042299509048462, 0.7276264429092407, 0.7231472134590149, 0.7260698676109314, 0.7089638113975525, 0.700203537940979, 0.7026315331459045, 0.7270042300224304, 0.7054210305213928, 0.7280932664871216, 0.7059794664382935, 0.7164201140403748, 0.7283538579940796, 0.5660372972488403, 0.541795015335083, 0.6992040872573853, 0.7283457517623901, 0.7289405465126038, 0.7278143167495728, 0.7000647187232971, 0.7067960500717163, 0.7013697028160095, 0.6934681534767151, 0.7287280559539795, 0.7014729380607605, 0.7083767056465149, 0.7230561375617981, 0.7258074879646301, 0.7263002395629883, 0.7279647588729858, 0.7207404971122742, 0.7272241711616516, 0.7163378000259399, 0.7215522527694702, 0.7286473512649536, 0.729812502861023, 0.7060657143592834, 0.7095614671707153, 0.7086741924285889, 0.7020500302314758, 0.7295569181442261, 0.7184622883796692, 0.5343174338340759, 0.7192898392677307, 0.7129356861114502, 0.7077234387397766, 0.7007526755332947, 0.5366283655166626, 0.7275791168212891, 0.7061416506767273, 0.4985271096229553, 0.7214205265045166, 0.7272777557373047, 0.701299250125885, 0.5012432932853699, 0.710117757320404, 0.7066988945007324, 0.7224195003509521, 0.7291433811187744, 0.7110466957092285, 0.6967827677726746, 0.7013624906539917, 0.7184842228889465, 0.7087497115135193, 0.7259835600852966, 0.6797245144844055, 0.7275685667991638, 0.6998724341392517, 0.7076746225357056, 0.5342947840690613, 0.7261955738067627, 0.7251467704772949, 0.7277950644493103, 0.7169723510742188, 0.7121524810791016, 0.7014915347099304, 0.6970324516296387, 0.6088171601295471, 0.5014830231666565, 0.7205168604850769, 0.7280953526496887, 0.7069990038871765, 0.4984009265899658, 0.6982122659683228, 0.7286240458488464, 0.7275199890136719, 0.7277733683586121, 0.727990448474884, 0.7017844319343567, 0.49787747859954834, 0.7019159197807312, 0.7125914692878723, 0.5059894323348999, 0.7095012664794922, 0.7289460897445679, 0.722047746181488, 0.7089184522628784, 0.6966062784194946, 0.7002108097076416, 0.6964443325996399, 0.7276843190193176, 0.5015926957130432, 0.7164878249168396, 0.7289304733276367, 0.7141828536987305, 0.7145190238952637, 0.7227970361709595, 0.72748202085495, 0.7283629775047302, 0.7287214994430542, 0.7203806042671204, 0.6995049715042114, 0.589467465877533, 0.7198935151100159, 0.7257792353630066, 0.7253343462944031, 0.7106745839118958, 0.5872098207473755, 0.709023654460907, 0.7008325457572937, 0.7268056869506836, 0.7285686731338501, 0.49964797496795654, 0.72752445936203, 0.6204314827919006, 0.7249518036842346, 0.7033622860908508, 0.7280582189559937, 0.6982656121253967, 0.6987913250923157, 0.7249526977539062, 0.6920424103736877, 0.7008371949195862, 0.7015901207923889, 0.701910138130188, 0.7000558972358704, 0.6998174786567688, 0.7238858342170715, 0.7299014329910278, 0.6997735500335693, 0.7133087515830994, 0.728928804397583, 0.7072365880012512, 0.7278165221214294, 0.7002044916152954, 0.7099553346633911, 0.6993852853775024, 0.7244569063186646, 0.70767742395401, 0.7277883887290955, 0.7225745916366577, 0.6986231803894043, 0.6961264610290527, 0.700282096862793, 0.7008669972419739, 0.7216507196426392, 0.7273381948471069, 0.7080667018890381, 0.6982932686805725, 0.6977056860923767, 0.7291358709335327, 0.7153669595718384, 0.7227086424827576, 0.7078458070755005, 0.7044738531112671, 0.6503386497497559, 0.7046494483947754, 0.7279113531112671, 0.727912187576294, 0.7283328175544739, 0.7287994623184204, 0.702994704246521, 0.7118263244628906, 0.7040532231330872, 0.6995381116867065, 0.6980423927307129, 0.7230536937713623, 0.7283358573913574, 0.7284110188484192, 0.7226836085319519, 0.7297572493553162, 0.7268272042274475, 0.7054378390312195, 0.7295427918434143, 0.7283753156661987, 0.7067226767539978, 0.6956906914710999, 0.7050671577453613, 0.7280465960502625, 0.6188401579856873, 0.7299058437347412, 0.7279520034790039, 0.7280937433242798, 0.710159957408905, 0.718521237373352, 0.5012004971504211, 0.5956435799598694, 0.5443469285964966, 0.7081705927848816, 0.7264606952667236, 0.7269473671913147, 0.696940004825592, 0.7245715856552124, 0.7284621000289917, 0.5532447099685669, 0.7066894173622131, 0.7048738598823547, 0.7276032567024231, 0.701609194278717, 0.7063084840774536, 0.727181077003479, 0.7252163290977478, 0.7128996849060059, 0.5744821429252625, 0.7216344475746155, 0.7285267114639282, 0.684303343296051, 0.7265358567237854, 0.7270915508270264, 0.7274107933044434, 0.706229031085968, 0.7290655374526978, 0.7215478420257568, 0.7048542499542236, 0.7041600942611694, 0.7266324758529663, 0.7262132167816162, 0.6956906914710999, 0.6069977879524231, 0.7084945440292358, 0.7210984826087952, 0.6943463683128357, 0.577025830745697, 0.6300953030586243, 0.7187551856040955, 0.7272247076034546, 0.7204428315162659, 0.5576217174530029, 0.7266098260879517, 0.7163000702857971, 0.7216792106628418, 0.7184351086616516, 0.6997881531715393, 0.7182513475418091, 0.7222455143928528, 0.7114731073379517, 0.7133985161781311, 0.7039064764976501, 0.7267884016036987, 0.7264343500137329, 0.7000908851623535, 0.7239964604377747, 0.7240908741950989, 0.6578091979026794, 0.7267848253250122, 0.724352240562439, 0.7258490920066833, 0.7111899852752686, 0.7008596062660217, 0.6969435811042786, 0.7035570740699768, 0.4999549388885498, 0.7291902899742126, 0.7270170450210571, 0.7157853245735168, 0.7238513827323914, 0.7225977182388306, 0.7285779714584351, 0.579695999622345, 0.7165861129760742, 0.6982236504554749, 0.6442794799804688, 0.6608409285545349, 0.7273591160774231, 0.7125840783119202, 0.7248208522796631, 0.7266560196876526, 0.7064756155014038, 0.7271439433097839, 0.7209348082542419, 0.6494195461273193, 0.7226799130439758, 0.7051479816436768, 0.7274093627929688, 0.5510025024414062, 0.7276798486709595, 0.7096578478813171, 0.5097182989120483, 0.7277104258537292, 0.7052972912788391, 0.7078471779823303, 0.7271375060081482, 0.7284682393074036, 0.7260162830352783, 0.7037240862846375, 0.6986690163612366, 0.7196934819221497, 0.705361008644104, 0.7147207856178284, 0.633163571357727, 0.7274128198623657, 0.7246665358543396, 0.7222490310668945, 0.7150464057922363, 0.698436975479126, 0.7254570722579956, 0.6994404792785645, 0.5629283785820007, 0.7279806733131409, 0.700537919998169, 0.5015530586242676, 0.6241201162338257, 0.6984189748764038, 0.6982078552246094, 0.7275388836860657, 0.7082041501998901, 0.7276199460029602, 0.7058460712432861, 0.49848610162734985, 0.6981396079063416, 0.7009727954864502, 0.7089802622795105, 0.6998393535614014, 0.706407904624939, 0.7254851460456848, 0.7096256017684937, 0.7009104490280151, 0.6974250078201294, 0.7165142893791199, 0.7280576229095459, 0.6986010074615479, 0.6228098273277283, 0.7274881601333618, 0.7148845195770264, 0.7273181080818176, 0.6993639469146729, 0.7291113138198853, 0.7001990079879761, 0.7271614670753479, 0.55677729845047, 0.6110949516296387, 0.701869010925293, 0.7084277272224426, 0.5015136003494263, 0.7043178081512451, 0.7277951836585999, 0.7134896516799927, 0.4999445676803589, 0.7270981669425964, 0.7268444895744324, 0.7281609177589417, 0.7108653783798218, 0.6960734724998474, 0.7281171083450317, 0.7283017039299011, 0.7044219374656677, 0.6968551278114319, 0.5854460597038269, 0.7066633105278015, 0.7167841792106628, 0.6989657282829285, 0.5546635389328003, 0.4995264708995819, 0.7273887395858765, 0.7143255472183228, 0.7275692820549011, 0.7254862785339355, 0.6204450130462646, 0.7314913868904114, 0.7036923766136169, 0.7013651728630066, 0.7283141016960144, 0.6992155909538269, 0.7017187476158142, 0.695993959903717, 0.7275561690330505, 0.7263376712799072, 0.526823103427887, 0.6990191340446472, 0.708788275718689, 0.7059424519538879, 0.7099340558052063, 0.7240031957626343, 0.7290114760398865, 0.7270244359970093, 0.7286083102226257, 0.7016977071762085, 0.7265204191207886, 0.7287514209747314, 0.7278665900230408, 0.49997174739837646, 0.725332498550415, 0.49952980875968933, 0.7220687866210938, 0.7075372934341431, 0.7017152309417725, 0.7006639242172241, 0.7042370438575745, 0.7270654439926147, 0.7264782190322876, 0.7130942344665527, 0.7286610007286072, 0.7038562297821045, 0.6468996405601501, 0.6970701813697815, 0.7093300223350525, 0.6997150182723999, 0.6988073587417603, 0.728246808052063, 0.7185721397399902, 0.7237696051597595, 0.7274081707000732, 0.7072173953056335, 0.7128986716270447, 0.7129042148590088, 0.7257817387580872, 0.7265564203262329, 0.7265891432762146, 0.6980068683624268, 0.7265642881393433, 0.6983707547187805, 0.7074586749076843, 0.7282674312591553, 0.7167733311653137, 0.7217453718185425, 0.705193042755127, 0.7147121429443359, 0.7055764198303223, 0.7295532822608948, 0.728158712387085, 0.7004352807998657, 0.7273409366607666, 0.6931557655334473, 0.7231316566467285, 0.7278848886489868, 0.7279340028762817, 0.7046717405319214, 0.7249525785446167, 0.7282536625862122, 0.6732291579246521, 0.7278449535369873, 0.7277495265007019, 0.7026382088661194, 0.7272132635116577, 0.7095850706100464, 0.4997973144054413, 0.7196195721626282, 0.7278122305870056, 0.7277686595916748, 0.698035717010498, 0.724890947341919, 0.7190321087837219, 0.7049216628074646, 0.7267271280288696, 0.7274314165115356, 0.7178345322608948, 0.694371223449707, 0.7277987003326416, 0.7170280814170837, 0.726966142654419, 0.7008178234100342, 0.6980345845222473, 0.7046146988868713, 0.7271410226821899, 0.7042503952980042, 0.7221824526786804, 0.7082522511482239, 0.7232858538627625, 0.7053484916687012, 0.7289493083953857, 0.7253913879394531, 0.7270872592926025, 0.697384774684906, 0.7285365462303162, 0.7032604813575745, 0.7182417511940002, 0.7182658910751343, 0.6985072493553162, 0.7294296026229858, 0.7111163139343262, 0.49764639139175415, 0.6071309447288513, 0.7015618681907654, 0.7278867959976196, 0.7265133261680603, 0.7116411328315735, 0.7188089489936829, 0.7102527618408203, 0.699521005153656, 0.6575534343719482, 0.7269429564476013, 0.7260115742683411, 0.7089517712593079, 0.7260839939117432, 0.7284038662910461, 0.7273547053337097, 0.7272074222564697, 0.5055574774742126, 0.7095024585723877, 0.7111908197402954, 0.7275925278663635, 0.711900532245636, 0.7244632244110107, 0.7188394069671631, 0.7047492861747742, 0.7073462605476379, 0.7273370623588562, 0.7286142110824585, 0.7284362316131592, 0.7018250226974487, 0.7010663747787476, 0.7270378470420837, 0.7277922630310059, 0.7212134599685669, 0.6973256468772888, 0.4988225996494293, 0.7276235222816467, 0.7294682860374451, 0.7010985612869263, 0.7016188502311707, 0.5343828201293945, 0.7269598841667175, 0.7290306687355042, 0.7277990579605103, 0.6967461705207825, 0.7278878092765808, 0.7284859418869019, 0.7002159357070923, 0.7112441062927246, 0.7014031410217285, 0.7273665070533752, 0.6206013560295105, 0.7277186512947083, 0.702064037322998, 0.700581967830658, 0.7291896343231201, 0.709009051322937, 0.7001556158065796, 0.5296634435653687, 0.7280553579330444, 0.7142022252082825, 0.6999168395996094, 0.7060167789459229, 0.6978453993797302, 0.7291612029075623, 0.7055193185806274, 0.6975018382072449, 0.7271544933319092, 0.4995262324810028, 0.7279545664787292, 0.7087589502334595, 0.7285717129707336, 0.7068790197372437, 0.7271403670310974, 0.699827253818512, 0.7241247892379761, 0.7263777852058411, 0.7063875198364258, 0.7085245847702026, 0.5176496505737305, 0.7277587056159973, 0.6995107531547546, 0.7221699357032776, 0.6991978287696838, 0.69760662317276, 0.7207818627357483, 0.7291156649589539, 0.7255528569221497, 0.6479904651641846, 0.7215607762336731, 0.5346584916114807, 0.7274694442749023, 0.651650607585907, 0.6990135908126831, 0.7018709182739258, 0.713657796382904, 0.700893223285675, 0.7171216011047363, 0.6976534128189087, 0.7287838459014893, 0.7108253836631775, 0.4993446171283722, 0.6987080574035645, 0.7290209531784058, 0.7275234460830688]\n"
          ]
        }
      ]
    },
    {
      "cell_type": "code",
      "source": [
        "print(\"CNN GLTR Classifier\")\n",
        "evaluate(cnn_gltr_prediction_output, y, 0.6)"
      ],
      "metadata": {
        "colab": {
          "base_uri": "https://localhost:8080/"
        },
        "id": "5DwoQ7WCzul2",
        "outputId": "102e7c5b-e847-489d-e6ad-718ee6cd7a6c"
      },
      "execution_count": null,
      "outputs": [
        {
          "output_type": "stream",
          "name": "stdout",
          "text": [
            "CNN GLTR Classifier\n",
            "Accuracy: 0.8415\n",
            "F1: 0.855843565256935\n",
            "ROC_AUC: 0.8555813781563704\n",
            "              precision    recall  f1-score   support\n",
            "\n",
            "       Human       0.74      0.93      0.82       801\n",
            "     ChatGPT       0.94      0.78      0.86      1199\n",
            "\n",
            "    accuracy                           0.84      2000\n",
            "   macro avg       0.84      0.86      0.84      2000\n",
            "weighted avg       0.86      0.84      0.84      2000\n",
            "\n"
          ]
        }
      ]
    },
    {
      "cell_type": "code",
      "source": [
        "cnn_text_prediction_output = cnn_text_classifier.predict(X)\n",
        "print(cnn_text_prediction_output)"
      ],
      "metadata": {
        "colab": {
          "base_uri": "https://localhost:8080/"
        },
        "id": "f28wO2299S3b",
        "outputId": "07661b8c-61b2-4270-b1ac-ef8aa0bb1fba"
      },
      "execution_count": null,
      "outputs": [
        {
          "output_type": "stream",
          "name": "stdout",
          "text": [
            "63/63 [==============================] - 1s 7ms/step\n",
            "[0.648621141910553, 0.4984554350376129, 0.5935510396957397, 0.49741244316101074, 0.4975477457046509, 0.4963958263397217, 0.4948352873325348, 0.49515774846076965, 0.7271483540534973, 0.5002671480178833, 0.4965860843658447, 0.564044177532196, 0.5039076805114746, 0.49853089451789856, 0.5512794852256775, 0.4979524314403534, 0.7279283404350281, 0.4975771903991699, 0.6095284819602966, 0.5031675696372986, 0.49731171131134033, 0.49766218662261963, 0.6608642935752869, 0.4997081160545349, 0.5012992024421692, 0.4998995363712311, 0.49646320939064026, 0.49596670269966125, 0.4956147074699402, 0.4978005290031433, 0.503876268863678, 0.49725568294525146, 0.49541717767715454, 0.49758508801460266, 0.4973955750465393, 0.49546027183532715, 0.49852052330970764, 0.614133894443512, 0.49707087874412537, 0.5043337345123291, 0.4962110221385956, 0.4992735683917999, 0.49838316440582275, 0.5006017684936523, 0.49925342202186584, 0.49856171011924744, 0.5296135544776917, 0.49689528346061707, 0.49511921405792236, 0.500503659248352, 0.497488409280777, 0.4960085153579712, 0.49786096811294556, 0.4975670278072357, 0.7188517451286316, 0.5004258751869202, 0.49902284145355225, 0.4948899745941162, 0.49902188777923584, 0.498996376991272, 0.4988586902618408, 0.4981711208820343, 0.4944891631603241, 0.49676957726478577, 0.49757105112075806, 0.49884703755378723, 0.498121440410614, 0.49862465262413025, 0.49818283319473267, 0.4978228509426117, 0.590535044670105, 0.4977426528930664, 0.4977659583091736, 0.6268717050552368, 0.49948328733444214, 0.4970760643482208, 0.49813124537467957, 0.5012136101722717, 0.49544328451156616, 0.5379277467727661, 0.4981866180896759, 0.49635711312294006, 0.7283772826194763, 0.5006755590438843, 0.502801239490509, 0.5027581453323364, 0.4948596954345703, 0.5006644129753113, 0.5010005831718445, 0.4983760118484497, 0.49815016984939575, 0.4964529871940613, 0.4965329170227051, 0.49859702587127686, 0.4992527365684509, 0.5012128353118896, 0.4975414276123047, 0.49845579266548157, 0.4999697208404541, 0.4989197850227356, 0.4964119791984558, 0.7032464742660522, 0.5150686502456665, 0.4977896511554718, 0.49821043014526367, 0.725446343421936, 0.49799853563308716, 0.49884265661239624, 0.49669384956359863, 0.49646276235580444, 0.49897143244743347, 0.4975041151046753, 0.4973072111606598, 0.4981020390987396, 0.49739980697631836, 0.4975700378417969, 0.7220194339752197, 0.5000510215759277, 0.4959312081336975, 0.49601632356643677, 0.49504950642585754, 0.6166675090789795, 0.49951666593551636, 0.7279602289199829, 0.4925145208835602, 0.49881798028945923, 0.6823024153709412, 0.5527880787849426, 0.4930538535118103, 0.5071085691452026, 0.5150944590568542, 0.5012468099594116, 0.4998913109302521, 0.5448902249336243, 0.4963501989841461, 0.5001773238182068, 0.4953518509864807, 0.4978126883506775, 0.5020231604576111, 0.4976203441619873, 0.49612486362457275, 0.4985128939151764, 0.4997461438179016, 0.4983450174331665, 0.49766236543655396, 0.49809929728507996, 0.5044454336166382, 0.5649816393852234, 0.497377872467041, 0.4964717924594879, 0.49605631828308105, 0.5319361090660095, 0.49722832441329956, 0.4956572353839874, 0.4993892014026642, 0.4972439110279083, 0.4997052550315857, 0.49794259667396545, 0.49859634041786194, 0.5039485692977905, 0.500374972820282, 0.4972960650920868, 0.49496182799339294, 0.49596163630485535, 0.5020294785499573, 0.5002110600471497, 0.49864256381988525, 0.5028638243675232, 0.4964451193809509, 0.4986398220062256, 0.5146002769470215, 0.49778813123703003, 0.5059229731559753, 0.49133986234664917, 0.4969518482685089, 0.500800371170044, 0.6123900413513184, 0.49869439005851746, 0.5001139640808105, 0.6181521415710449, 0.49490195512771606, 0.5330473780632019, 0.5867285132408142, 0.49700868129730225, 0.4967246353626251, 0.4968923330307007, 0.500203013420105, 0.4974839985370636, 0.4945875108242035, 0.4992171823978424, 0.4956667721271515, 0.49939092993736267, 0.4986266791820526, 0.7239177823066711, 0.6218975186347961, 0.49755698442459106, 0.6260036826133728, 0.5136195421218872, 0.498534232378006, 0.5028042793273926, 0.4966143071651459, 0.657288134098053, 0.4978405833244324, 0.49950742721557617, 0.5060288310050964, 0.4962555766105652, 0.5006346106529236, 0.496463805437088, 0.49924546480178833, 0.49875280261039734, 0.49615031480789185, 0.5129226446151733, 0.4967673420906067, 0.4951626658439636, 0.7282989025115967, 0.608543336391449, 0.49440690875053406, 0.4975492060184479, 0.5540757179260254, 0.49781543016433716, 0.4977623224258423, 0.4976382255554199, 0.5005695819854736, 0.4968477189540863, 0.5769621729850769, 0.4955257177352905, 0.4965531527996063, 0.4987958073616028, 0.49905088543891907, 0.726093590259552, 0.5757530331611633, 0.5175994634628296, 0.5016823410987854, 0.5629881024360657, 0.4970414340496063, 0.5001692175865173, 0.4996470808982849, 0.49516406655311584, 0.4975582957267761, 0.6550044417381287, 0.49700498580932617, 0.4939693808555603, 0.5012476444244385, 0.49509158730506897, 0.6294494271278381, 0.4991103708744049, 0.5032497048377991, 0.504848837852478, 0.5022134184837341, 0.4974956214427948, 0.495888352394104, 0.4992355406284332, 0.4967259168624878, 0.5004258751869202, 0.666090190410614, 0.5006937980651855, 0.49996674060821533, 0.49693119525909424, 0.49744781851768494, 0.49612662196159363, 0.6447004079818726, 0.4959992468357086, 0.4991290867328644, 0.49723464250564575, 0.4978405833244324, 0.5056759119033813, 0.5002801418304443, 0.49780359864234924, 0.49726158380508423, 0.6471616625785828, 0.4961572587490082, 0.5007145404815674, 0.49842318892478943, 0.4968699812889099, 0.7289356589317322, 0.5011305212974548, 0.719693124294281, 0.49613940715789795, 0.500605583190918, 0.49404212832450867, 0.49725452065467834, 0.4957500696182251, 0.4993138313293457, 0.4966578185558319, 0.4969008266925812, 0.7274454236030579, 0.5015857219696045, 0.4979625940322876, 0.49765393137931824, 0.5032495856285095, 0.5004176497459412, 0.4991074204444885, 0.5980121493339539, 0.4995667040348053, 0.5011019110679626, 0.5032667517662048, 0.4954047203063965, 0.49526551365852356, 0.49711164832115173, 0.5615562200546265, 0.4966067671775818, 0.610515296459198, 0.4966958165168762, 0.4977349042892456, 0.49581244587898254, 0.4963015019893646, 0.5207944512367249, 0.49669837951660156, 0.4959380626678467, 0.49765536189079285, 0.4968946874141693, 0.4985337555408478, 0.67181396484375, 0.49960193037986755, 0.49743545055389404, 0.4984598755836487, 0.494159460067749, 0.49625903367996216, 0.4999811053276062, 0.4974743723869324, 0.49940964579582214, 0.7018389701843262, 0.4982213079929352, 0.6998723745346069, 0.494500070810318, 0.7302669286727905, 0.5098181962966919, 0.4969666302204132, 0.4997095465660095, 0.4959704577922821, 0.5051158666610718, 0.4971684515476227, 0.49403542280197144, 0.49811112880706787, 0.49740156531333923, 0.7008330821990967, 0.4969501495361328, 0.4998833239078522, 0.5020897388458252, 0.496307909488678, 0.6817687749862671, 0.49815183877944946, 0.49438604712486267, 0.4955429136753082, 0.49901893734931946, 0.49641984701156616, 0.49875855445861816, 0.49739745259284973, 0.6556736826896667, 0.7042557597160339, 0.49697133898735046, 0.6638153791427612, 0.4972805678844452, 0.4998549520969391, 0.4961983263492584, 0.4945334196090698, 0.4990944564342499, 0.4984637200832367, 0.49793538451194763, 0.724538266658783, 0.5030226707458496, 0.4992685317993164, 0.6978470087051392, 0.4983782470226288, 0.5038483142852783, 0.4981600046157837, 0.5006232857704163, 0.5498702526092529, 0.49233779311180115, 0.4986071288585663, 0.5000473260879517, 0.4992862343788147, 0.6387561559677124, 0.4965943694114685, 0.4982324242591858, 0.49677664041519165, 0.5109516978263855, 0.4972347021102905, 0.4957270622253418, 0.4962930977344513, 0.4969954192638397, 0.5740082859992981, 0.49814704060554504, 0.502051830291748, 0.714364767074585, 0.7271532416343689, 0.5018225908279419, 0.49543970823287964, 0.4971431791782379, 0.49654620885849, 0.5001911520957947, 0.50033038854599, 0.6506969332695007, 0.5001834630966187, 0.4993753433227539, 0.7274084687232971, 0.49835532903671265, 0.5099173784255981, 0.7002547383308411, 0.4986949861049652, 0.4965110719203949, 0.49760115146636963, 0.4993724822998047, 0.4966859221458435, 0.4970177412033081, 0.49702998995780945, 0.5049105286598206, 0.49791523814201355, 0.49732232093811035, 0.5434216856956482, 0.5736494064331055, 0.4974302351474762, 0.49654409289360046, 0.4950999915599823, 0.5204419493675232, 0.7288027405738831, 0.4972746670246124, 0.612247109413147, 0.7031579613685608, 0.5012838244438171, 0.7046385407447815, 0.4979161322116852, 0.49616914987564087, 0.49536821246147156, 0.4969941973686218, 0.6474716663360596, 0.5678168535232544, 0.508912980556488, 0.4975435435771942, 0.7054973840713501, 0.49944522976875305, 0.5027450919151306, 0.4977063238620758, 0.49716508388519287, 0.49849286675453186, 0.49903109669685364, 0.4985073208808899, 0.49565038084983826, 0.7094969153404236, 0.5131946802139282, 0.4990265369415283, 0.4945952296257019, 0.5000630617141724, 0.4961793124675751, 0.4963599443435669, 0.4981476962566376, 0.6210049390792847, 0.563762903213501, 0.4977548122406006, 0.5396162271499634, 0.49701544642448425, 0.49812155961990356, 0.4975690543651581, 0.4955809712409973, 0.5747032761573792, 0.49925124645233154, 0.49557727575302124, 0.49873754382133484, 0.49687644839286804, 0.5026813745498657, 0.4958058297634125, 0.4992283582687378, 0.49354833364486694, 0.4964420795440674, 0.49950528144836426, 0.49664998054504395, 0.49797558784484863, 0.4996902346611023, 0.49777689576148987, 0.49728989601135254, 0.5101422667503357, 0.4986049234867096, 0.5410341620445251, 0.5006965398788452, 0.4974031150341034, 0.4967799186706543, 0.5362579226493835, 0.49905112385749817, 0.606773316860199, 0.4958527088165283, 0.49919840693473816, 0.499413400888443, 0.49723151326179504, 0.4968497157096863, 0.5017829537391663, 0.5647636651992798, 0.4960748553276062, 0.49771392345428467, 0.5100260376930237, 0.496576189994812, 0.49731123447418213, 0.4970657527446747, 0.49747684597969055, 0.4958336055278778, 0.49686571955680847, 0.6735178232192993, 0.4971054792404175, 0.49762842059135437, 0.4988124668598175, 0.49558061361312866, 0.4987541437149048, 0.4980660676956177, 0.4991978108882904, 0.4972737431526184, 0.49433231353759766, 0.5072264671325684, 0.7285046577453613, 0.4943171739578247, 0.49696841835975647, 0.49698877334594727, 0.49849867820739746, 0.4975587725639343, 0.4981239140033722, 0.6542760133743286, 0.4969902038574219, 0.7281535267829895, 0.4974023401737213, 0.49571579694747925, 0.4972574710845947, 0.5006189942359924, 0.5005195736885071, 0.729720950126648, 0.49785637855529785, 0.49727195501327515, 0.49576181173324585, 0.4974878430366516, 0.5497502088546753, 0.4968072175979614, 0.4948905110359192, 0.5748851299285889, 0.49788904190063477, 0.496620774269104, 0.49761372804641724, 0.4958299696445465, 0.4981256425380707, 0.49433621764183044, 0.4974300265312195, 0.4978277087211609, 0.5356290340423584, 0.49682313203811646, 0.4974443018436432, 0.498599648475647, 0.7273635864257812, 0.4989471137523651, 0.5915750861167908, 0.4963897168636322, 0.4954048991203308, 0.49842941761016846, 0.4975641965866089, 0.4974291920661926, 0.49683818221092224, 0.4964361786842346, 0.4953611493110657, 0.49690374732017517, 0.4966939091682434, 0.4973949193954468, 0.49547290802001953, 0.4993801712989807, 0.4947790205478668, 0.7246478796005249, 0.49843522906303406, 0.49941274523735046, 0.495160847902298, 0.4954011142253876, 0.49706345796585083, 0.4985039532184601, 0.4989002048969269, 0.7268216013908386, 0.5460184216499329, 0.5026134252548218, 0.4972573518753052, 0.4954298436641693, 0.5298460721969604, 0.5001245141029358, 0.49805647134780884, 0.7267976403236389, 0.7205285429954529, 0.5540639758110046, 0.5430893301963806, 0.4996616244316101, 0.5024588704109192, 0.503070056438446, 0.498357355594635, 0.49483832716941833, 0.7073811292648315, 0.4978671967983246, 0.7280258536338806, 0.5253611207008362, 0.5006520748138428, 0.5248687267303467, 0.5011941194534302, 0.49762436747550964, 0.496252179145813, 0.7247039079666138, 0.5981562733650208, 0.49379247426986694, 0.5010486841201782, 0.4988582134246826, 0.499019056558609, 0.49653738737106323, 0.49832406640052795, 0.49717164039611816, 0.6290974617004395, 0.7244933843612671, 0.4961533844470978, 0.49731311202049255, 0.500247597694397, 0.49490001797676086, 0.5001872181892395, 0.49738070368766785, 0.49788373708724976, 0.49951088428497314, 0.4981006681919098, 0.728686511516571, 0.49805229902267456, 0.494509220123291, 0.6884492635726929, 0.49720287322998047, 0.49704113602638245, 0.4962161183357239, 0.49715402722358704, 0.5159629583358765, 0.5002270340919495, 0.49798116087913513, 0.4983482360839844, 0.5028751492500305, 0.4984312653541565, 0.49728694558143616, 0.4987661838531494, 0.7200186848640442, 0.7270002961158752, 0.49602246284484863, 0.500027060508728, 0.4950008988380432, 0.4948452115058899, 0.49492472410202026, 0.6314091682434082, 0.49763184785842896, 0.5059664249420166, 0.6473447680473328, 0.5006134510040283, 0.6674460768699646, 0.4971848428249359, 0.49592962861061096, 0.49672210216522217, 0.4966031312942505, 0.4980510473251343, 0.5438362956047058, 0.49933040142059326, 0.5374922156333923, 0.4977872967720032, 0.49946045875549316, 0.49985554814338684, 0.49823421239852905, 0.4971866011619568, 0.7154346108436584, 0.6835512518882751, 0.49673521518707275, 0.4977048337459564, 0.49413686990737915, 0.49949130415916443, 0.499578595161438, 0.5957134962081909, 0.5674434304237366, 0.49514758586883545, 0.4990891218185425, 0.4967603385448456, 0.49702775478363037, 0.4951261878013611, 0.4956599175930023, 0.49892371892929077, 0.49728164076805115, 0.5010082721710205, 0.4966459274291992, 0.5014305710792542, 0.7257965207099915, 0.5082035660743713, 0.5546330213546753, 0.5014398694038391, 0.5863448977470398, 0.5060645341873169, 0.4972788095474243, 0.4997650384902954, 0.5193192958831787, 0.49702176451683044, 0.4976426064968109, 0.4953068494796753, 0.5227444767951965, 0.5011773705482483, 0.5019598603248596, 0.5061625242233276, 0.49758851528167725, 0.6736470460891724, 0.4971199035644531, 0.5002353191375732, 0.4947682023048401, 0.4983121156692505, 0.505760669708252, 0.5010970830917358, 0.5306994318962097, 0.5161962509155273, 0.5018496513366699, 0.49715808033943176, 0.49834513664245605, 0.4979011118412018, 0.49724000692367554, 0.49754154682159424, 0.4991990029811859, 0.4992380440235138, 0.49853113293647766, 0.49661287665367126, 0.49662744998931885, 0.4975695013999939, 0.5631741285324097, 0.5736158490180969, 0.512474775314331, 0.4974558651447296, 0.4979246258735657, 0.4969627559185028, 0.4966500997543335, 0.49794167280197144, 0.49929913878440857, 0.6696641445159912, 0.49911952018737793, 0.4984012246131897, 0.6018160581588745, 0.4964502453804016, 0.4978627562522888, 0.5074812173843384, 0.4970044493675232, 0.4967181086540222, 0.4962019622325897, 0.4953954219818115, 0.49648424983024597, 0.7001652121543884, 0.49911826848983765, 0.4956163465976715, 0.515466570854187, 0.4973258376121521, 0.49906885623931885, 0.49672308564186096, 0.7017804980278015, 0.49729010462760925, 0.4959647059440613, 0.5071754455566406, 0.4955950379371643, 0.5011187791824341, 0.5057912468910217, 0.7060403823852539, 0.49567076563835144, 0.4956607520580292, 0.5022781491279602, 0.498152494430542, 0.49836990237236023, 0.4952020049095154, 0.49721914529800415, 0.5052735805511475, 0.7304661273956299, 0.4959128499031067, 0.498507022857666, 0.7282744646072388, 0.7261490821838379, 0.7034001350402832, 0.498485267162323, 0.624116063117981, 0.4971948564052582, 0.4980568289756775, 0.497109055519104, 0.49701952934265137, 0.4953514337539673, 0.6187942624092102, 0.49852699041366577, 0.4933848977088928, 0.49840009212493896, 0.5437991619110107, 0.4978438913822174, 0.5000711679458618, 0.4978148937225342, 0.49767613410949707, 0.49801596999168396, 0.4985217750072479, 0.5009297728538513, 0.5081570744514465, 0.49674803018569946, 0.4987720549106598, 0.49560147523880005, 0.49550288915634155, 0.49804607033729553, 0.4952731132507324, 0.5007036328315735, 0.498174786567688, 0.5045492053031921, 0.5027369260787964, 0.5962175726890564, 0.49664533138275146, 0.49726930260658264, 0.49695098400115967, 0.49718618392944336, 0.49689215421676636, 0.710369884967804, 0.5005062818527222, 0.4978609085083008, 0.5005977153778076, 0.7154846787452698, 0.5030840635299683, 0.49423539638519287, 0.7301850914955139, 0.49745550751686096, 0.7287489771842957, 0.4981488883495331, 0.49878084659576416, 0.5029474496841431, 0.7278676629066467, 0.497795969247818, 0.49559012055397034, 0.4982152283191681, 0.49932608008384705, 0.49884241819381714, 0.5024417042732239, 0.5668826699256897, 0.4988003075122833, 0.4965622127056122, 0.5003925561904907, 0.4985966384410858, 0.49711814522743225, 0.49769067764282227, 0.49421408772468567, 0.49735939502716064, 0.5000939965248108, 0.4966420531272888, 0.49823319911956787, 0.4991474449634552, 0.5160319209098816, 0.49761131405830383, 0.49617263674736023, 0.4969959557056427, 0.5019278526306152, 0.7300634980201721, 0.49488162994384766, 0.4980100095272064, 0.4954758286476135, 0.5007790327072144, 0.49453362822532654, 0.49710091948509216, 0.49752819538116455, 0.49788805842399597, 0.4996736943721771, 0.7284845113754272, 0.49954861402511597, 0.49749669432640076, 0.5270366072654724, 0.49305373430252075, 0.5948890447616577, 0.49565911293029785, 0.542681097984314, 0.4998001754283905, 0.4973110556602478, 0.5054561495780945, 0.500632107257843, 0.49844416975975037, 0.5000295639038086, 0.49388954043388367, 0.49771392345428467, 0.49871915578842163, 0.7223279476165771, 0.4970583915710449, 0.49386975169181824, 0.4947681427001953, 0.5003606677055359, 0.4986226558685303, 0.49496737122535706, 0.4972688853740692, 0.49949488043785095, 0.7267499566078186, 0.49556469917297363, 0.49959132075309753, 0.7123319506645203, 0.4956827163696289, 0.4987466335296631, 0.497406005859375, 0.5014136433601379, 0.4949476420879364, 0.49188295006752014, 0.501734733581543, 0.4978886842727661, 0.7262316942214966, 0.49939990043640137, 0.5146819949150085, 0.4972667694091797, 0.497158020734787, 0.4969736933708191, 0.6479761600494385, 0.5025752186775208, 0.497109055519104, 0.4968656003475189, 0.4945860207080841, 0.7293137311935425, 0.4957418143749237, 0.7259884476661682, 0.5003625750541687, 0.5513648390769958, 0.4979369342327118, 0.5544730424880981, 0.49573010206222534, 0.6383498907089233, 0.50057053565979, 0.5065814256668091, 0.7130122780799866, 0.49537238478660583, 0.4994049072265625, 0.49689051508903503, 0.5551016926765442, 0.4974592626094818, 0.49875107407569885, 0.7104789614677429, 0.5011338591575623, 0.4994606375694275, 0.7276978492736816, 0.5254892706871033, 0.6195234656333923, 0.497114896774292, 0.498667448759079, 0.4998275637626648, 0.4961267411708832, 0.4964818060398102, 0.6751472353935242, 0.49753883481025696, 0.4955129325389862, 0.4980703890323639, 0.5010230541229248, 0.49694013595581055, 0.4978836178779602, 0.4982655942440033, 0.49774181842803955, 0.5492839217185974, 0.724199652671814, 0.5042056441307068, 0.5214148163795471, 0.4972553253173828, 0.49725309014320374, 0.4990960657596588, 0.4961228668689728, 0.7254453897476196, 0.6023240089416504, 0.497077614068985, 0.5282514691352844, 0.49922123551368713, 0.5610866546630859, 0.49538910388946533, 0.5007458329200745, 0.535963237285614, 0.4929843544960022, 0.5312439203262329, 0.6977801322937012, 0.49791187047958374, 0.5442627668380737, 0.6497178077697754, 0.49776631593704224, 0.4980964660644531, 0.49798423051834106, 0.49813219904899597, 0.49733129143714905, 0.4952753186225891, 0.4974013566970825, 0.49684959650039673, 0.4975217580795288, 0.4971039891242981, 0.4997323453426361, 0.4939297139644623, 0.4949094355106354, 0.5017200708389282, 0.6066455841064453, 0.7275211215019226, 0.4970051646232605, 0.49931731820106506, 0.4992956221103668, 0.5017532706260681, 0.4990376830101013, 0.49885791540145874, 0.4982956647872925, 0.49901145696640015, 0.4967334568500519, 0.49967727065086365, 0.5020331144332886, 0.49353039264678955, 0.49655455350875854, 0.4930386543273926, 0.4958980679512024, 0.5005220174789429, 0.5369815826416016, 0.6862552762031555, 0.499210000038147, 0.49758291244506836, 0.497669517993927, 0.49920523166656494, 0.4966353476047516, 0.4983534514904022, 0.6351978182792664, 0.4981749653816223, 0.500235915184021, 0.5493162274360657, 0.7277381420135498, 0.7274916768074036, 0.7268128395080566, 0.6383430361747742, 0.7252954244613647, 0.7252709269523621, 0.5382678508758545, 0.7280070185661316, 0.7238843441009521, 0.7261014580726624, 0.7284124493598938, 0.7275810241699219, 0.503368079662323, 0.7256535291671753, 0.7273522615432739, 0.727181077003479, 0.5695697665214539, 0.7281705737113953, 0.5723571181297302, 0.7268303632736206, 0.7287522554397583, 0.7259531617164612, 0.7269045114517212, 0.7257565855979919, 0.7271702289581299, 0.7260025143623352, 0.49612754583358765, 0.7025158405303955, 0.7269927263259888, 0.7219082117080688, 0.5003021955490112, 0.6149260401725769, 0.7265905141830444, 0.7282083630561829, 0.7261948585510254, 0.7272565960884094, 0.7283958196640015, 0.49559086561203003, 0.6741340756416321, 0.7255149483680725, 0.7222079634666443, 0.726584792137146, 0.6096785068511963, 0.5353056788444519, 0.7238354682922363, 0.7278865575790405, 0.7269096970558167, 0.5203496813774109, 0.7260665893554688, 0.7259518504142761, 0.7278515696525574, 0.7267498970031738, 0.7277480959892273, 0.6605644226074219, 0.6204691529273987, 0.7245386242866516, 0.5007651448249817, 0.5014476180076599, 0.5460180044174194, 0.5050032734870911, 0.49611803889274597, 0.5966373682022095, 0.7270904183387756, 0.5008949041366577, 0.7263670563697815, 0.7168170809745789, 0.7268912196159363, 0.5650157332420349, 0.728052020072937, 0.5619032979011536, 0.5184932351112366, 0.5761339068412781, 0.7272703647613525, 0.7278621792793274, 0.7262541651725769, 0.7262001633644104, 0.7266772985458374, 0.7257685661315918, 0.5970718860626221, 0.7276459336280823, 0.6976465582847595, 0.7232759594917297, 0.7272423505783081, 0.7264435291290283, 0.7279224991798401, 0.7247270941734314, 0.516202986240387, 0.7268604636192322, 0.7274293303489685, 0.7274030447006226, 0.7273237109184265, 0.7261950373649597, 0.727653980255127, 0.7270848751068115, 0.7258621454238892, 0.536276638507843, 0.7269259691238403, 0.7279137969017029, 0.7271893620491028, 0.724646270275116, 0.7273656725883484, 0.7247677445411682, 0.7239019870758057, 0.7283311486244202, 0.6376879811286926, 0.7169414758682251, 0.7256516218185425, 0.7270835041999817, 0.7258522510528564, 0.4973093867301941, 0.7288517355918884, 0.7254109978675842, 0.7258979082107544, 0.726952314376831, 0.5082611441612244, 0.5677675008773804, 0.7279415726661682, 0.7267159223556519, 0.7273062467575073, 0.7270153760910034, 0.7261316776275635, 0.7291810512542725, 0.4963494837284088, 0.7272658944129944, 0.501308262348175, 0.72698974609375, 0.6032454967498779, 0.709685206413269, 0.7273387908935547, 0.72579425573349, 0.6723458766937256, 0.724111795425415, 0.7247691750526428, 0.7273242473602295, 0.7263168692588806, 0.7289816737174988, 0.49701988697052, 0.5604350566864014, 0.4985175132751465, 0.7275335788726807, 0.7277840375900269, 0.5474924445152283, 0.6568067073822021, 0.7262991666793823, 0.726613461971283, 0.7273229360580444, 0.7274250984191895, 0.7242059707641602, 0.7266529202461243, 0.5601024627685547, 0.6936809420585632, 0.4959237575531006, 0.7259057760238647, 0.7272157073020935, 0.7272605299949646, 0.7273687124252319, 0.7254078984260559, 0.7262049913406372, 0.7279579639434814, 0.7275450825691223, 0.7251148819923401, 0.726491391658783, 0.7265984416007996, 0.7267844080924988, 0.6179581880569458, 0.7133535742759705, 0.6774064898490906, 0.7243337631225586, 0.7274227738380432, 0.722869336605072, 0.7296609282493591, 0.7276161313056946, 0.7265514731407166, 0.7268854975700378, 0.7276828289031982, 0.7226759195327759, 0.7266278862953186, 0.7260307669639587, 0.7267739176750183, 0.4970409572124481, 0.7266576290130615, 0.7265191674232483, 0.7279332280158997, 0.7271380424499512, 0.7237674593925476, 0.6140989661216736, 0.725155770778656, 0.5000903010368347, 0.7254133224487305, 0.7271838784217834, 0.7258913516998291, 0.7267460227012634, 0.7270205616950989, 0.5696682929992676, 0.685653567314148, 0.5266844034194946, 0.6382849216461182, 0.7259026169776917, 0.6576070785522461, 0.6061813831329346, 0.7269436120986938, 0.7276507616043091, 0.5624037384986877, 0.5049524307250977, 0.7274176478385925, 0.7252968549728394, 0.6298084855079651, 0.7271873354911804, 0.7256044149398804, 0.5008807182312012, 0.6344357132911682, 0.7174606919288635, 0.7273182272911072, 0.725965678691864, 0.7264143228530884, 0.719469428062439, 0.7168749570846558, 0.724460780620575, 0.49281394481658936, 0.49920472502708435, 0.7257426977157593, 0.7275591492652893, 0.7279659509658813, 0.499508798122406, 0.7279228568077087, 0.6252292990684509, 0.7270464301109314, 0.7268297076225281, 0.7267098426818848, 0.7274599075317383, 0.7275844216346741, 0.7248675227165222, 0.7279408574104309, 0.7267008423805237, 0.72465980052948, 0.727402925491333, 0.7254509329795837, 0.7237387299537659, 0.7252984642982483, 0.7260825037956238, 0.7279665470123291, 0.7271350622177124, 0.7256641387939453, 0.7266139388084412, 0.7278065085411072, 0.7252911925315857, 0.7270798087120056, 0.7250585556030273, 0.6215575337409973, 0.6875736713409424, 0.7260358929634094, 0.7262519001960754, 0.7278003692626953, 0.6672995686531067, 0.49828270077705383, 0.6757356524467468, 0.711798369884491, 0.7283968925476074, 0.726441502571106, 0.7272499203681946, 0.4965798854827881, 0.7286902070045471, 0.7280718684196472, 0.603440523147583, 0.49969810247421265, 0.7202205657958984, 0.7267012000083923, 0.49978479743003845, 0.7257076501846313, 0.5022541880607605, 0.7277994751930237, 0.6265339851379395, 0.529433012008667, 0.7267191410064697, 0.7254537343978882, 0.731337308883667, 0.5399534702301025, 0.722672164440155, 0.7204787135124207, 0.7248963117599487, 0.7255196571350098, 0.7225401401519775, 0.7160142660140991, 0.7283943295478821, 0.7275856137275696, 0.49568477272987366, 0.5913185477256775, 0.5205154418945312, 0.6522336602210999, 0.7287316918373108, 0.5099652409553528, 0.7290684580802917, 0.6451019644737244, 0.7258918285369873, 0.7219361662864685, 0.7268787622451782, 0.7272711992263794, 0.7281081676483154, 0.49552372097969055, 0.4964298605918884, 0.7279506921768188, 0.5558866262435913, 0.4967568516731262, 0.7126477360725403, 0.7277988791465759, 0.6595707535743713, 0.7289783954620361, 0.7242050170898438, 0.4966435730457306, 0.4997509717941284, 0.7078197002410889, 0.7279363870620728, 0.5744743943214417, 0.7255070805549622, 0.7249386310577393, 0.49463534355163574, 0.6773266196250916, 0.7263027429580688, 0.49710091948509216, 0.49700289964675903, 0.7281369566917419, 0.5011865496635437, 0.7296915650367737, 0.49837878346443176, 0.7273069024085999, 0.7263103723526001, 0.727337658405304, 0.7263867855072021, 0.6010053753852844, 0.4936136305332184, 0.685705304145813, 0.49117806553840637, 0.7277163863182068, 0.6436247229576111, 0.7274960279464722, 0.726894199848175, 0.7312356233596802, 0.6006711721420288, 0.4967559278011322, 0.7260714173316956, 0.6381455063819885, 0.7223361134529114, 0.6599715352058411, 0.5389139652252197, 0.7233917713165283, 0.7265183329582214, 0.7282710075378418, 0.7322552800178528, 0.7273741364479065, 0.727556049823761, 0.7291022539138794, 0.7048670649528503, 0.7073091864585876, 0.7277344465255737, 0.7123610377311707, 0.6161338686943054, 0.6417822241783142, 0.7242610454559326, 0.5874025821685791, 0.7342849373817444, 0.6527905464172363, 0.726180374622345, 0.4997781217098236, 0.676678478717804, 0.7279804944992065, 0.7268234491348267, 0.5552757978439331, 0.7277938723564148, 0.7273972034454346, 0.7262199521064758, 0.7263319492340088, 0.49875059723854065, 0.4936434328556061, 0.6213467121124268, 0.647127628326416, 0.7299334406852722, 0.6269146203994751, 0.6375730037689209, 0.7203769087791443, 0.498811811208725, 0.5711159110069275, 0.7277337312698364, 0.50421142578125, 0.7252345085144043, 0.7269941568374634, 0.6832842230796814, 0.49784237146377563, 0.4969232976436615, 0.6504894495010376, 0.727051854133606, 0.6273887753486633, 0.7265135049819946, 0.7282399535179138, 0.6553231477737427, 0.4957898259162903, 0.7223461866378784, 0.5382027626037598, 0.7257308959960938, 0.7245292067527771, 0.7270131707191467, 0.49472057819366455, 0.5014806985855103, 0.7268038988113403, 0.6410360932350159, 0.6584064364433289, 0.7273504137992859, 0.6230688691139221, 0.6262848377227783, 0.7264847159385681, 0.7267143726348877, 0.72636479139328, 0.5747368931770325, 0.5917944312095642, 0.7267014384269714, 0.5933889746665955, 0.6134459376335144, 0.7264105677604675, 0.6899406313896179, 0.7271599173545837, 0.7264037728309631, 0.6933870315551758, 0.7266272902488708, 0.7287906408309937, 0.7150440216064453, 0.7259138822555542, 0.5108579993247986, 0.5727691650390625, 0.4978930652141571, 0.49692919850349426, 0.6922044157981873, 0.7270069122314453, 0.7274622321128845, 0.7268072366714478, 0.7305065989494324, 0.7270052433013916, 0.6026288866996765, 0.4943481683731079, 0.7263908982276917, 0.6900626420974731, 0.7249488830566406, 0.727817177772522, 0.7285076379776001, 0.7260435223579407, 0.6663941144943237, 0.728230357170105, 0.6930403709411621, 0.7260279059410095, 0.7259979844093323, 0.7274090051651001, 0.7275799512863159, 0.6804385185241699, 0.536078929901123, 0.49589478969573975, 0.5277336239814758, 0.729435384273529, 0.7269165515899658, 0.6775457262992859, 0.7295548915863037, 0.5966137051582336, 0.7272746562957764, 0.649459958076477, 0.5961313843727112, 0.7254359126091003, 0.7261229753494263, 0.49892672896385193, 0.5355666875839233, 0.618376612663269, 0.7283710837364197, 0.4973309338092804, 0.7253699898719788, 0.7276895642280579, 0.6757434606552124, 0.728030800819397, 0.4986969232559204, 0.5004233121871948, 0.5702717304229736, 0.7246693968772888, 0.7288777828216553, 0.7267249226570129, 0.5907284021377563, 0.5034701824188232, 0.649926483631134, 0.5042800307273865, 0.4950870871543884, 0.727515697479248, 0.4961400032043457, 0.7277324795722961, 0.5017944574356079, 0.706184446811676, 0.7287937998771667, 0.6069429516792297, 0.5332071781158447, 0.49880772829055786, 0.7276970148086548, 0.7271869778633118, 0.7316393256187439, 0.49940335750579834, 0.5647616982460022, 0.724949300289154, 0.7262657284736633, 0.7138113975524902, 0.7290670871734619, 0.5109074711799622, 0.5083759427070618, 0.7276298403739929, 0.5027386546134949, 0.5007270574569702, 0.7248305678367615, 0.7248630523681641, 0.5892461538314819, 0.49832263588905334, 0.518094539642334, 0.7281522154808044, 0.6899842023849487, 0.7297822833061218, 0.5016863942146301, 0.7223778963088989, 0.7283564805984497, 0.7271441221237183, 0.7241285443305969, 0.7264713048934937, 0.5553821921348572, 0.707180917263031, 0.5784293413162231, 0.7274242043495178, 0.7328724265098572, 0.49947571754455566, 0.7271114587783813, 0.7272538542747498, 0.6757988333702087, 0.49860355257987976, 0.49717026948928833, 0.7273420691490173, 0.5037519335746765, 0.6772684454917908, 0.7280837297439575, 0.5003365874290466, 0.5577399730682373, 0.666795015335083, 0.7281308174133301, 0.5403038263320923, 0.7205795645713806, 0.6060339212417603, 0.5121620297431946, 0.7253803014755249, 0.4978305399417877, 0.7249404191970825, 0.7265894412994385, 0.6493027210235596, 0.735537052154541, 0.5543144941329956, 0.668093740940094, 0.7276337146759033, 0.5013111233711243, 0.729633092880249, 0.7291285991668701, 0.7214502692222595, 0.7275440096855164, 0.5017800331115723, 0.49985137581825256, 0.4939582347869873, 0.6852752566337585, 0.6817909479141235, 0.7257664203643799, 0.7261966466903687, 0.6250198483467102, 0.4953750669956207, 0.6395383477210999, 0.5030037760734558, 0.7164743542671204, 0.49594321846961975, 0.6709703207015991, 0.4987548589706421, 0.5776422619819641, 0.7083691358566284, 0.726601779460907, 0.7270882725715637, 0.4966476857662201, 0.728172242641449, 0.5625166893005371, 0.6580256223678589, 0.727526843547821, 0.6467121839523315, 0.7277592420578003, 0.7259961366653442, 0.7156587243080139, 0.49363255500793457, 0.5019922256469727, 0.6803394556045532, 0.724938690662384, 0.710456907749176, 0.6881176829338074, 0.7275062799453735, 0.7281160950660706, 0.5371116399765015, 0.4954741895198822, 0.7278302907943726, 0.7255101799964905, 0.5233961343765259, 0.7287049293518066, 0.50139981508255, 0.6580624580383301, 0.7271697521209717, 0.5136432647705078, 0.7268047332763672, 0.7272188067436218, 0.6059883832931519, 0.7328824996948242, 0.496512234210968, 0.49860167503356934, 0.49967244267463684, 0.528993546962738, 0.7242350578308105, 0.7253547310829163, 0.5132153034210205, 0.5005185604095459, 0.7286643981933594, 0.7278637886047363, 0.5151170492172241, 0.7263787984848022, 0.7049350738525391, 0.4985734522342682, 0.6037569642066956, 0.7277020215988159, 0.7249218225479126, 0.5855960845947266, 0.4952607750892639, 0.5007579326629639, 0.7266926765441895, 0.7272680997848511, 0.5029186606407166, 0.7298286557197571, 0.7276844382286072, 0.5499116778373718, 0.7257891297340393, 0.7317895889282227, 0.5018496513366699, 0.7146273255348206, 0.7255219221115112, 0.4993390142917633, 0.7291999459266663, 0.503544270992279, 0.5616182684898376, 0.5030437707901001, 0.7292839288711548, 0.5013076066970825, 0.4978307783603668, 0.49595507979393005, 0.731647253036499, 0.7223747968673706, 0.7175421714782715, 0.49749910831451416, 0.7065072059631348, 0.7204965949058533, 0.72750324010849, 0.7298873066902161, 0.5596048831939697, 0.585688054561615, 0.5006971955299377, 0.711042582988739, 0.7262508273124695, 0.7262195348739624, 0.7271831035614014, 0.4974682331085205, 0.7286712527275085, 0.5829125046730042, 0.7265600562095642, 0.7282965183258057, 0.7264689207077026, 0.6940559148788452, 0.7280121445655823, 0.7273667454719543, 0.6704543232917786, 0.6316128373146057, 0.7286407947540283, 0.5158004760742188, 0.7271013259887695, 0.5019350051879883, 0.7374880909919739, 0.7262786030769348, 0.7283936142921448, 0.5682206749916077, 0.4977017045021057, 0.7286770343780518, 0.5043391585350037, 0.5110698938369751, 0.6680337190628052, 0.6021841168403625, 0.6018942594528198, 0.5458245873451233, 0.7262621521949768, 0.5590134263038635, 0.6932972073554993, 0.7006814479827881, 0.4998646080493927, 0.7265745401382446, 0.7269976735115051, 0.7279179096221924, 0.49601590633392334, 0.5010466575622559, 0.7290596961975098, 0.5086275935173035, 0.5732412338256836, 0.7260376214981079, 0.7266893982887268, 0.5088696479797363, 0.7275870442390442, 0.7270527482032776, 0.5022715330123901, 0.6209490895271301, 0.7275396585464478, 0.7274019122123718, 0.5025214552879333, 0.49715766310691833, 0.7269653677940369, 0.495243102312088, 0.7264081239700317, 0.6713557243347168, 0.5104222297668457, 0.6513419151306152, 0.7256909012794495, 0.4949943721294403, 0.7329208850860596, 0.7290464043617249, 0.4984370470046997, 0.5001963376998901, 0.6883941888809204, 0.7256575226783752, 0.6886178851127625, 0.7264193296432495, 0.7272614240646362, 0.7262261509895325, 0.4991004467010498, 0.5157883763313293, 0.4967867434024811, 0.7274057865142822, 0.7284731864929199, 0.6854926943778992, 0.7271509766578674, 0.7284551858901978, 0.7318121790885925, 0.4984769821166992, 0.7097198963165283, 0.7269064784049988, 0.6741302013397217, 0.5610985159873962, 0.7260288000106812, 0.6662589311599731, 0.6018571257591248, 0.5200938582420349, 0.7012621164321899, 0.7275141477584839, 0.7264754176139832, 0.6624898314476013, 0.49454671144485474, 0.727242648601532, 0.6522886753082275, 0.49741584062576294, 0.6219043731689453, 0.7290286421775818, 0.6619541049003601, 0.4990248680114746, 0.7278903126716614, 0.5373260378837585, 0.7265977263450623, 0.7275934219360352, 0.7205654382705688, 0.7247456312179565, 0.6994855999946594, 0.5008659958839417, 0.5019710659980774, 0.4984372854232788, 0.7260807752609253, 0.7089551091194153, 0.6626557111740112, 0.49995195865631104, 0.54157555103302, 0.726511538028717, 0.6341651678085327, 0.5987346172332764, 0.4969814717769623, 0.4976438879966736, 0.7268816828727722, 0.7265017628669739, 0.7265552878379822, 0.5785250067710876, 0.6714407801628113, 0.672039270401001, 0.49999332427978516, 0.7263748645782471, 0.7270860075950623, 0.5163834095001221, 0.6830759048461914, 0.7189279794692993, 0.7293875813484192, 0.7127786874771118, 0.7299278974533081, 0.6184717416763306, 0.6474161148071289, 0.7274631261825562, 0.6888672709465027, 0.5944585800170898, 0.7270170450210571, 0.7217839956283569, 0.4982176423072815, 0.7249490022659302, 0.49604329466819763, 0.7271965146064758, 0.6412194967269897, 0.7286116480827332, 0.6715836524963379, 0.5012347102165222, 0.5010556578636169, 0.6592263579368591, 0.5438905954360962, 0.7266749739646912, 0.511101484298706, 0.6411436200141907, 0.5014780759811401, 0.596526563167572, 0.6289373636245728, 0.4972817599773407, 0.6382286548614502, 0.7289727926254272, 0.5102904438972473, 0.5072728991508484, 0.7270575761795044, 0.7266595959663391, 0.7272089719772339, 0.7265321016311646, 0.49954503774642944, 0.5426664352416992, 0.7273540496826172, 0.5613628029823303, 0.6206950545310974, 0.656169056892395, 0.7276018857955933, 0.49753740429878235, 0.49900680780410767, 0.6973090767860413, 0.5297370553016663, 0.7257934212684631, 0.7263871431350708, 0.7268120050430298, 0.7156397104263306, 0.5919491052627563, 0.5197407603263855, 0.6209461688995361, 0.7286008596420288, 0.5073795914649963, 0.5012521147727966, 0.7242221832275391, 0.49736419320106506, 0.6734141111373901, 0.7270150780677795, 0.5006991028785706, 0.7285290360450745, 0.7285140752792358, 0.4955756962299347, 0.49801868200302124, 0.58248370885849, 0.7267544865608215, 0.5010521411895752, 0.5656707882881165, 0.4973853528499603, 0.7274580001831055, 0.4970860779285431, 0.7281864881515503, 0.7248437404632568, 0.49793100357055664, 0.5069223642349243, 0.4940267503261566, 0.5444514751434326, 0.5098026394844055, 0.6219425797462463, 0.7116053700447083, 0.7293393015861511, 0.7042569518089294, 0.5119210481643677, 0.7293841242790222, 0.7260647416114807, 0.5532501339912415, 0.727258563041687, 0.7289252281188965, 0.7263839840888977, 0.7280842661857605, 0.6659432053565979, 0.722856879234314, 0.7285074591636658, 0.5021750926971436, 0.7288167476654053, 0.6829109191894531, 0.7262852787971497, 0.7220957279205322, 0.49782535433769226, 0.4954501986503601, 0.7117276191711426, 0.7265515327453613, 0.49554067850112915, 0.7302941083908081, 0.7277044653892517, 0.6273190379142761, 0.5879212021827698, 0.4986247718334198, 0.5638927221298218, 0.7283732891082764, 0.7289619445800781, 0.4949314594268799, 0.722619891166687, 0.5277608036994934, 0.7268706560134888, 0.4979628920555115, 0.49695146083831787, 0.726793646812439, 0.7264441251754761, 0.5237938165664673, 0.7279532551765442, 0.660124659538269, 0.726855993270874, 0.49786612391471863, 0.49832573533058167, 0.7163678407669067, 0.7266502380371094, 0.5029726028442383, 0.6909343004226685, 0.49823978543281555, 0.5260544419288635, 0.5326370000839233, 0.7271774411201477, 0.4978792369365692, 0.7274464964866638, 0.7257200479507446, 0.530752420425415, 0.4954166114330292, 0.4996446371078491, 0.7295045256614685, 0.7262724041938782, 0.6972096562385559, 0.6740297079086304, 0.6861078143119812, 0.7258012294769287, 0.6876304149627686, 0.7280046343803406, 0.49930834770202637, 0.7267975211143494, 0.504079282283783, 0.6248592138290405, 0.724932074546814, 0.727277934551239, 0.7272673845291138, 0.5042790174484253, 0.7281818389892578, 0.4956127107143402, 0.5580313801765442, 0.7259208559989929, 0.7315776944160461, 0.7233863472938538, 0.7268515825271606, 0.7109491229057312, 0.4919457733631134, 0.5031450390815735, 0.7269809246063232, 0.501223623752594, 0.727065920829773, 0.7274206280708313, 0.7190462350845337, 0.7278405427932739, 0.7150312662124634, 0.6685528755187988, 0.511965274810791, 0.6748554110527039, 0.6372891664505005, 0.6717427372932434, 0.5008817911148071, 0.7286587357521057, 0.6123947501182556, 0.7281497716903687, 0.729853093624115, 0.729131817817688, 0.7277833223342896, 0.7302669286727905, 0.7278735041618347, 0.4924694299697876, 0.6733059287071228, 0.4968300759792328, 0.506190836429596, 0.6648010015487671, 0.7294572591781616, 0.7315962314605713, 0.5840837359428406, 0.7242295145988464, 0.6333000659942627, 0.5009861588478088, 0.7262294292449951, 0.693299412727356, 0.4989570677280426, 0.5805245637893677, 0.7253779768943787, 0.4942554235458374]\n"
          ]
        }
      ]
    },
    {
      "cell_type": "code",
      "source": [
        "print(\"CNN Text Classifier\")\n",
        "evaluate(cnn_text_prediction_output, y, 0.6)"
      ],
      "metadata": {
        "colab": {
          "base_uri": "https://localhost:8080/"
        },
        "id": "Lokml55Dz98h",
        "outputId": "c0921991-b745-47a9-b308-fdbff9a80f8c"
      },
      "execution_count": null,
      "outputs": [
        {
          "output_type": "stream",
          "name": "stdout",
          "text": [
            "CNN Text Classifier\n",
            "Accuracy: 0.787\n",
            "F1: 0.7664473684210527\n",
            "ROC_AUC: 0.7961742949607027\n",
            "              precision    recall  f1-score   support\n",
            "\n",
            "       Human       0.88      0.74      0.80      1176\n",
            "     ChatGPT       0.70      0.85      0.77       824\n",
            "\n",
            "    accuracy                           0.79      2000\n",
            "   macro avg       0.79      0.80      0.79      2000\n",
            "weighted avg       0.80      0.79      0.79      2000\n",
            "\n"
          ]
        }
      ]
    },
    {
      "cell_type": "code",
      "source": [
        "df_with_preds = df.copy()\n",
        "df_with_preds[\"RNNPerplexityClassifier_Predictions\"] = rnn_prediction_output\n",
        "df_with_preds[\"CNNPerplexityClassifier_Predictions\"] = cnn_perplexity_prediction_output\n",
        "df_with_preds[\"CNNGLTRClassifer_Predictions\"] = cnn_gltr_prediction_output\n",
        "df_with_preds[\"CNNTextClassifier_Predictions\"] = cnn_text_prediction_output\n",
        "df_with_preds.head(3)"
      ],
      "metadata": {
        "colab": {
          "base_uri": "https://localhost:8080/",
          "height": 144
        },
        "id": "Z5CHMQmXnflt",
        "outputId": "f35d7e3a-ae3f-4fd5-8012-badb0539750c"
      },
      "execution_count": null,
      "outputs": [
        {
          "output_type": "execute_result",
          "data": {
            "text/plain": [
              "                                            response  Label  GLTR Category 1  \\\n",
              "0  Hyperinflation comes almost always because of ...      0         0.605442   \n",
              "1  scientists tested whether or not coffee ground...      0         0.679012   \n",
              "2  Because its your body's natural reflex to retu...      0         0.589041   \n",
              "\n",
              "   GLTR Category 3  Mean Perplexity  sum_mistakes  TextBlob_Subjectivity  \\\n",
              "0         0.112245         0.034284      0.058824               0.417597   \n",
              "1         0.074074         0.023811      0.078431               0.484375   \n",
              "2         0.136986         0.017898      0.098039               0.425000   \n",
              "\n",
              "   Formality Score  RNNPerplexityClassifier_Predictions  \\\n",
              "0         0.671505                             0.516926   \n",
              "1         0.724650                             0.525457   \n",
              "2         0.523077                             0.535882   \n",
              "\n",
              "   CNNPerplexityClassifier_Predictions  CNNGLTRClassifer_Predictions  \\\n",
              "0                             0.501410                      0.498863   \n",
              "1                             0.498909                      0.695503   \n",
              "2                             0.628405                      0.699814   \n",
              "\n",
              "   CNNTextClassifier_Predictions  \n",
              "0                       0.648621  \n",
              "1                       0.498455  \n",
              "2                       0.593551  "
            ],
            "text/html": [
              "\n",
              "  <div id=\"df-353f621a-df6c-416b-a226-02c660e78887\">\n",
              "    <div class=\"colab-df-container\">\n",
              "      <div>\n",
              "<style scoped>\n",
              "    .dataframe tbody tr th:only-of-type {\n",
              "        vertical-align: middle;\n",
              "    }\n",
              "\n",
              "    .dataframe tbody tr th {\n",
              "        vertical-align: top;\n",
              "    }\n",
              "\n",
              "    .dataframe thead th {\n",
              "        text-align: right;\n",
              "    }\n",
              "</style>\n",
              "<table border=\"1\" class=\"dataframe\">\n",
              "  <thead>\n",
              "    <tr style=\"text-align: right;\">\n",
              "      <th></th>\n",
              "      <th>response</th>\n",
              "      <th>Label</th>\n",
              "      <th>GLTR Category 1</th>\n",
              "      <th>GLTR Category 3</th>\n",
              "      <th>Mean Perplexity</th>\n",
              "      <th>sum_mistakes</th>\n",
              "      <th>TextBlob_Subjectivity</th>\n",
              "      <th>Formality Score</th>\n",
              "      <th>RNNPerplexityClassifier_Predictions</th>\n",
              "      <th>CNNPerplexityClassifier_Predictions</th>\n",
              "      <th>CNNGLTRClassifer_Predictions</th>\n",
              "      <th>CNNTextClassifier_Predictions</th>\n",
              "    </tr>\n",
              "  </thead>\n",
              "  <tbody>\n",
              "    <tr>\n",
              "      <th>0</th>\n",
              "      <td>Hyperinflation comes almost always because of ...</td>\n",
              "      <td>0</td>\n",
              "      <td>0.605442</td>\n",
              "      <td>0.112245</td>\n",
              "      <td>0.034284</td>\n",
              "      <td>0.058824</td>\n",
              "      <td>0.417597</td>\n",
              "      <td>0.671505</td>\n",
              "      <td>0.516926</td>\n",
              "      <td>0.501410</td>\n",
              "      <td>0.498863</td>\n",
              "      <td>0.648621</td>\n",
              "    </tr>\n",
              "    <tr>\n",
              "      <th>1</th>\n",
              "      <td>scientists tested whether or not coffee ground...</td>\n",
              "      <td>0</td>\n",
              "      <td>0.679012</td>\n",
              "      <td>0.074074</td>\n",
              "      <td>0.023811</td>\n",
              "      <td>0.078431</td>\n",
              "      <td>0.484375</td>\n",
              "      <td>0.724650</td>\n",
              "      <td>0.525457</td>\n",
              "      <td>0.498909</td>\n",
              "      <td>0.695503</td>\n",
              "      <td>0.498455</td>\n",
              "    </tr>\n",
              "    <tr>\n",
              "      <th>2</th>\n",
              "      <td>Because its your body's natural reflex to retu...</td>\n",
              "      <td>0</td>\n",
              "      <td>0.589041</td>\n",
              "      <td>0.136986</td>\n",
              "      <td>0.017898</td>\n",
              "      <td>0.098039</td>\n",
              "      <td>0.425000</td>\n",
              "      <td>0.523077</td>\n",
              "      <td>0.535882</td>\n",
              "      <td>0.628405</td>\n",
              "      <td>0.699814</td>\n",
              "      <td>0.593551</td>\n",
              "    </tr>\n",
              "  </tbody>\n",
              "</table>\n",
              "</div>\n",
              "      <button class=\"colab-df-convert\" onclick=\"convertToInteractive('df-353f621a-df6c-416b-a226-02c660e78887')\"\n",
              "              title=\"Convert this dataframe to an interactive table.\"\n",
              "              style=\"display:none;\">\n",
              "        \n",
              "  <svg xmlns=\"http://www.w3.org/2000/svg\" height=\"24px\"viewBox=\"0 0 24 24\"\n",
              "       width=\"24px\">\n",
              "    <path d=\"M0 0h24v24H0V0z\" fill=\"none\"/>\n",
              "    <path d=\"M18.56 5.44l.94 2.06.94-2.06 2.06-.94-2.06-.94-.94-2.06-.94 2.06-2.06.94zm-11 1L8.5 8.5l.94-2.06 2.06-.94-2.06-.94L8.5 2.5l-.94 2.06-2.06.94zm10 10l.94 2.06.94-2.06 2.06-.94-2.06-.94-.94-2.06-.94 2.06-2.06.94z\"/><path d=\"M17.41 7.96l-1.37-1.37c-.4-.4-.92-.59-1.43-.59-.52 0-1.04.2-1.43.59L10.3 9.45l-7.72 7.72c-.78.78-.78 2.05 0 2.83L4 21.41c.39.39.9.59 1.41.59.51 0 1.02-.2 1.41-.59l7.78-7.78 2.81-2.81c.8-.78.8-2.07 0-2.86zM5.41 20L4 18.59l7.72-7.72 1.47 1.35L5.41 20z\"/>\n",
              "  </svg>\n",
              "      </button>\n",
              "      \n",
              "  <style>\n",
              "    .colab-df-container {\n",
              "      display:flex;\n",
              "      flex-wrap:wrap;\n",
              "      gap: 12px;\n",
              "    }\n",
              "\n",
              "    .colab-df-convert {\n",
              "      background-color: #E8F0FE;\n",
              "      border: none;\n",
              "      border-radius: 50%;\n",
              "      cursor: pointer;\n",
              "      display: none;\n",
              "      fill: #1967D2;\n",
              "      height: 32px;\n",
              "      padding: 0 0 0 0;\n",
              "      width: 32px;\n",
              "    }\n",
              "\n",
              "    .colab-df-convert:hover {\n",
              "      background-color: #E2EBFA;\n",
              "      box-shadow: 0px 1px 2px rgba(60, 64, 67, 0.3), 0px 1px 3px 1px rgba(60, 64, 67, 0.15);\n",
              "      fill: #174EA6;\n",
              "    }\n",
              "\n",
              "    [theme=dark] .colab-df-convert {\n",
              "      background-color: #3B4455;\n",
              "      fill: #D2E3FC;\n",
              "    }\n",
              "\n",
              "    [theme=dark] .colab-df-convert:hover {\n",
              "      background-color: #434B5C;\n",
              "      box-shadow: 0px 1px 3px 1px rgba(0, 0, 0, 0.15);\n",
              "      filter: drop-shadow(0px 1px 2px rgba(0, 0, 0, 0.3));\n",
              "      fill: #FFFFFF;\n",
              "    }\n",
              "  </style>\n",
              "\n",
              "      <script>\n",
              "        const buttonEl =\n",
              "          document.querySelector('#df-353f621a-df6c-416b-a226-02c660e78887 button.colab-df-convert');\n",
              "        buttonEl.style.display =\n",
              "          google.colab.kernel.accessAllowed ? 'block' : 'none';\n",
              "\n",
              "        async function convertToInteractive(key) {\n",
              "          const element = document.querySelector('#df-353f621a-df6c-416b-a226-02c660e78887');\n",
              "          const dataTable =\n",
              "            await google.colab.kernel.invokeFunction('convertToInteractive',\n",
              "                                                     [key], {});\n",
              "          if (!dataTable) return;\n",
              "\n",
              "          const docLinkHtml = 'Like what you see? Visit the ' +\n",
              "            '<a target=\"_blank\" href=https://colab.research.google.com/notebooks/data_table.ipynb>data table notebook</a>'\n",
              "            + ' to learn more about interactive tables.';\n",
              "          element.innerHTML = '';\n",
              "          dataTable['output_type'] = 'display_data';\n",
              "          await google.colab.output.renderOutput(dataTable, element);\n",
              "          const docLink = document.createElement('div');\n",
              "          docLink.innerHTML = docLinkHtml;\n",
              "          element.appendChild(docLink);\n",
              "        }\n",
              "      </script>\n",
              "    </div>\n",
              "  </div>\n",
              "  "
            ]
          },
          "metadata": {},
          "execution_count": 24
        }
      ]
    },
    {
      "cell_type": "code",
      "source": [
        "df.to_csv(\"holdout_with_features_normalised.csv\", index=False)"
      ],
      "metadata": {
        "id": "PiTEutg_o8TR"
      },
      "execution_count": null,
      "outputs": []
    },
    {
      "cell_type": "code",
      "source": [
        "df_with_preds.to_csv(\"holdout_output_keras_models.csv\",index=False)"
      ],
      "metadata": {
        "id": "GfPmdqmnoFSq"
      },
      "execution_count": null,
      "outputs": []
    },
    {
      "cell_type": "markdown",
      "source": [
        "# Organise Code Into An Ensemble Class"
      ],
      "metadata": {
        "id": "aRdS5mZ_JXEv"
      }
    },
    {
      "cell_type": "code",
      "source": [
        "class Ensemble():\n",
        "  def __init__(self, models):\n",
        "    self.models = models\n",
        "  \n",
        "  def predict(self, X, weights, threshold):\n",
        "    prediction_compiled_list = self.get_prediction_compiled_list(X)\n",
        "    #Apply weights to predictions to get weighted average\n",
        "    yhats = np.array(prediction_compiled_list)\n",
        "    avg = np.average(yhats,axis=1,weights=weights)\n",
        "\n",
        "    #Convert probabilities to 0 or 1 classification outcome\n",
        "    discrete = (avg > threshold).astype(\"int32\")\n",
        "\n",
        "    return discrete\n",
        "  \n",
        "  def get_prediction_compiled_list(self,X):\n",
        "    #Get predictions -- could be parallelised\n",
        "    outputs = []\n",
        "    for model in self.models:\n",
        "      output = model.predict(X)\n",
        "      outputs.append(output)\n",
        "\n",
        "    #Reformat predictions such that each list contains predictions from all models\n",
        "    prediction_compiled_lst = []\n",
        "    for i in range(len(X)):\n",
        "      prediction_lst = []\n",
        "      for output in outputs:\n",
        "        prediction_lst.append(output[i])\n",
        "      prediction_compiled_lst.append(prediction_lst)\n",
        "    \n",
        "    return prediction_compiled_lst\n"
      ],
      "metadata": {
        "id": "mmyiYL5YI7SR"
      },
      "execution_count": null,
      "outputs": []
    },
    {
      "cell_type": "code",
      "source": [
        "models = [rnn_perplexity_classifier,cnn_perplexity_classifier,cnn_gltr_classifier,cnn_text_classifier]\n",
        "ensemble = Ensemble(models)"
      ],
      "metadata": {
        "id": "8xeKoKQoJa58"
      },
      "execution_count": null,
      "outputs": []
    },
    {
      "cell_type": "markdown",
      "source": [
        "# Check if models are correlated by checking if their errors are correlated\n",
        "\n",
        "High correlation is expected given that these models were trained on similar data and have similar model structure. Furthermore, each model differed mainly by 1 feature, which might not have significantly diverisfied the models given that the text features would still dominate."
      ],
      "metadata": {
        "id": "8Tdk3q8PtBYT"
      }
    },
    {
      "cell_type": "code",
      "source": [
        "from sklearn.metrics import log_loss\n",
        "preds_df = df_with_preds[[\"RNNPerplexityClassifier_Predictions\", \"CNNPerplexityClassifier_Predictions\", \"CNNGLTRClassifer_Predictions\",\"CNNTextClassifier_Predictions\"]]\n",
        "residual_col_name_lst = []\n",
        "for col in preds_df:\n",
        "  new_col_name = col + \"_Residuals\"\n",
        "  residual_col_name_lst.append(new_col_name)\n",
        "  preds_df[new_col_name] = y - preds_df[col].tolist()\n",
        "\n",
        "preds_df[residual_col_name_lst].corr(method ='pearson')"
      ],
      "metadata": {
        "colab": {
          "base_uri": "https://localhost:8080/",
          "height": 175
        },
        "id": "JW-EwoYItIPX",
        "outputId": "fa09531a-df0e-48b7-e801-b777d18e0190"
      },
      "execution_count": null,
      "outputs": [
        {
          "output_type": "execute_result",
          "data": {
            "text/plain": [
              "                                               RNNPerplexityClassifier_Predictions_Residuals  \\\n",
              "RNNPerplexityClassifier_Predictions_Residuals                                       1.000000   \n",
              "CNNPerplexityClassifier_Predictions_Residuals                                       0.982944   \n",
              "CNNGLTRClassifer_Predictions_Residuals                                              0.988046   \n",
              "CNNTextClassifier_Predictions_Residuals                                             0.983769   \n",
              "\n",
              "                                               CNNPerplexityClassifier_Predictions_Residuals  \\\n",
              "RNNPerplexityClassifier_Predictions_Residuals                                       0.982944   \n",
              "CNNPerplexityClassifier_Predictions_Residuals                                       1.000000   \n",
              "CNNGLTRClassifer_Predictions_Residuals                                              0.981856   \n",
              "CNNTextClassifier_Predictions_Residuals                                             0.980557   \n",
              "\n",
              "                                               CNNGLTRClassifer_Predictions_Residuals  \\\n",
              "RNNPerplexityClassifier_Predictions_Residuals                                0.988046   \n",
              "CNNPerplexityClassifier_Predictions_Residuals                                0.981856   \n",
              "CNNGLTRClassifer_Predictions_Residuals                                       1.000000   \n",
              "CNNTextClassifier_Predictions_Residuals                                      0.982847   \n",
              "\n",
              "                                               CNNTextClassifier_Predictions_Residuals  \n",
              "RNNPerplexityClassifier_Predictions_Residuals                                 0.983769  \n",
              "CNNPerplexityClassifier_Predictions_Residuals                                 0.980557  \n",
              "CNNGLTRClassifer_Predictions_Residuals                                        0.982847  \n",
              "CNNTextClassifier_Predictions_Residuals                                       1.000000  "
            ],
            "text/html": [
              "\n",
              "  <div id=\"df-e96efe72-1d1a-4884-810d-af0a1c18cf8e\">\n",
              "    <div class=\"colab-df-container\">\n",
              "      <div>\n",
              "<style scoped>\n",
              "    .dataframe tbody tr th:only-of-type {\n",
              "        vertical-align: middle;\n",
              "    }\n",
              "\n",
              "    .dataframe tbody tr th {\n",
              "        vertical-align: top;\n",
              "    }\n",
              "\n",
              "    .dataframe thead th {\n",
              "        text-align: right;\n",
              "    }\n",
              "</style>\n",
              "<table border=\"1\" class=\"dataframe\">\n",
              "  <thead>\n",
              "    <tr style=\"text-align: right;\">\n",
              "      <th></th>\n",
              "      <th>RNNPerplexityClassifier_Predictions_Residuals</th>\n",
              "      <th>CNNPerplexityClassifier_Predictions_Residuals</th>\n",
              "      <th>CNNGLTRClassifer_Predictions_Residuals</th>\n",
              "      <th>CNNTextClassifier_Predictions_Residuals</th>\n",
              "    </tr>\n",
              "  </thead>\n",
              "  <tbody>\n",
              "    <tr>\n",
              "      <th>RNNPerplexityClassifier_Predictions_Residuals</th>\n",
              "      <td>1.000000</td>\n",
              "      <td>0.982944</td>\n",
              "      <td>0.988046</td>\n",
              "      <td>0.983769</td>\n",
              "    </tr>\n",
              "    <tr>\n",
              "      <th>CNNPerplexityClassifier_Predictions_Residuals</th>\n",
              "      <td>0.982944</td>\n",
              "      <td>1.000000</td>\n",
              "      <td>0.981856</td>\n",
              "      <td>0.980557</td>\n",
              "    </tr>\n",
              "    <tr>\n",
              "      <th>CNNGLTRClassifer_Predictions_Residuals</th>\n",
              "      <td>0.988046</td>\n",
              "      <td>0.981856</td>\n",
              "      <td>1.000000</td>\n",
              "      <td>0.982847</td>\n",
              "    </tr>\n",
              "    <tr>\n",
              "      <th>CNNTextClassifier_Predictions_Residuals</th>\n",
              "      <td>0.983769</td>\n",
              "      <td>0.980557</td>\n",
              "      <td>0.982847</td>\n",
              "      <td>1.000000</td>\n",
              "    </tr>\n",
              "  </tbody>\n",
              "</table>\n",
              "</div>\n",
              "      <button class=\"colab-df-convert\" onclick=\"convertToInteractive('df-e96efe72-1d1a-4884-810d-af0a1c18cf8e')\"\n",
              "              title=\"Convert this dataframe to an interactive table.\"\n",
              "              style=\"display:none;\">\n",
              "        \n",
              "  <svg xmlns=\"http://www.w3.org/2000/svg\" height=\"24px\"viewBox=\"0 0 24 24\"\n",
              "       width=\"24px\">\n",
              "    <path d=\"M0 0h24v24H0V0z\" fill=\"none\"/>\n",
              "    <path d=\"M18.56 5.44l.94 2.06.94-2.06 2.06-.94-2.06-.94-.94-2.06-.94 2.06-2.06.94zm-11 1L8.5 8.5l.94-2.06 2.06-.94-2.06-.94L8.5 2.5l-.94 2.06-2.06.94zm10 10l.94 2.06.94-2.06 2.06-.94-2.06-.94-.94-2.06-.94 2.06-2.06.94z\"/><path d=\"M17.41 7.96l-1.37-1.37c-.4-.4-.92-.59-1.43-.59-.52 0-1.04.2-1.43.59L10.3 9.45l-7.72 7.72c-.78.78-.78 2.05 0 2.83L4 21.41c.39.39.9.59 1.41.59.51 0 1.02-.2 1.41-.59l7.78-7.78 2.81-2.81c.8-.78.8-2.07 0-2.86zM5.41 20L4 18.59l7.72-7.72 1.47 1.35L5.41 20z\"/>\n",
              "  </svg>\n",
              "      </button>\n",
              "      \n",
              "  <style>\n",
              "    .colab-df-container {\n",
              "      display:flex;\n",
              "      flex-wrap:wrap;\n",
              "      gap: 12px;\n",
              "    }\n",
              "\n",
              "    .colab-df-convert {\n",
              "      background-color: #E8F0FE;\n",
              "      border: none;\n",
              "      border-radius: 50%;\n",
              "      cursor: pointer;\n",
              "      display: none;\n",
              "      fill: #1967D2;\n",
              "      height: 32px;\n",
              "      padding: 0 0 0 0;\n",
              "      width: 32px;\n",
              "    }\n",
              "\n",
              "    .colab-df-convert:hover {\n",
              "      background-color: #E2EBFA;\n",
              "      box-shadow: 0px 1px 2px rgba(60, 64, 67, 0.3), 0px 1px 3px 1px rgba(60, 64, 67, 0.15);\n",
              "      fill: #174EA6;\n",
              "    }\n",
              "\n",
              "    [theme=dark] .colab-df-convert {\n",
              "      background-color: #3B4455;\n",
              "      fill: #D2E3FC;\n",
              "    }\n",
              "\n",
              "    [theme=dark] .colab-df-convert:hover {\n",
              "      background-color: #434B5C;\n",
              "      box-shadow: 0px 1px 3px 1px rgba(0, 0, 0, 0.15);\n",
              "      filter: drop-shadow(0px 1px 2px rgba(0, 0, 0, 0.3));\n",
              "      fill: #FFFFFF;\n",
              "    }\n",
              "  </style>\n",
              "\n",
              "      <script>\n",
              "        const buttonEl =\n",
              "          document.querySelector('#df-e96efe72-1d1a-4884-810d-af0a1c18cf8e button.colab-df-convert');\n",
              "        buttonEl.style.display =\n",
              "          google.colab.kernel.accessAllowed ? 'block' : 'none';\n",
              "\n",
              "        async function convertToInteractive(key) {\n",
              "          const element = document.querySelector('#df-e96efe72-1d1a-4884-810d-af0a1c18cf8e');\n",
              "          const dataTable =\n",
              "            await google.colab.kernel.invokeFunction('convertToInteractive',\n",
              "                                                     [key], {});\n",
              "          if (!dataTable) return;\n",
              "\n",
              "          const docLinkHtml = 'Like what you see? Visit the ' +\n",
              "            '<a target=\"_blank\" href=https://colab.research.google.com/notebooks/data_table.ipynb>data table notebook</a>'\n",
              "            + ' to learn more about interactive tables.';\n",
              "          element.innerHTML = '';\n",
              "          dataTable['output_type'] = 'display_data';\n",
              "          await google.colab.output.renderOutput(dataTable, element);\n",
              "          const docLink = document.createElement('div');\n",
              "          docLink.innerHTML = docLinkHtml;\n",
              "          element.appendChild(docLink);\n",
              "        }\n",
              "      </script>\n",
              "    </div>\n",
              "  </div>\n",
              "  "
            ]
          },
          "metadata": {},
          "execution_count": 41
        }
      ]
    },
    {
      "cell_type": "markdown",
      "source": [
        "# Implement Grid Search To Get Optimal Weights\n",
        "\n",
        "Experiment on a sample of 50 data points"
      ],
      "metadata": {
        "id": "k6tScBNsG23x"
      }
    },
    {
      "cell_type": "code",
      "source": [
        "from itertools import product\n",
        "from sklearn.metrics import accuracy_score,f1_score,roc_auc_score  \n",
        "\n",
        "# normalize a vector to have unit norm\n",
        "def normalize(weights):\n",
        " # calculate l1 vector norm\n",
        " result = np.linalg.norm(weights, 1)\n",
        " # check for a vector of all zeros\n",
        " if result == 0.0:\n",
        "  return weights\n",
        " # return normalized vector (unit norm)\n",
        " return weights / result\n",
        "\n",
        "#prediction compiled list is a list of prediction from each model for each test data point\n",
        "def get_scores(prediction_compiled_list, threshold, y_true, weights):\n",
        "  #Apply weights to predictions to get weighted average\n",
        "  yhats = np.array(prediction_compiled_list)\n",
        "  avg = np.average(yhats,axis=1,weights=weights)\n",
        "  #Convert probabilities to 0 or 1 classification outcome\n",
        "  discrete = (avg > threshold).astype(\"int32\")\n",
        "  return {\"accuracy\":accuracy_score(discrete, y_true), \"f1\":f1_score(discrete, y_true),\"roc-auc\":roc_auc_score(discrete,y_true)}\n",
        "\n",
        "#preds is a list of prediction from each model for each test data point\n",
        "def grid_search(num_models, preds, testy, threshold):\n",
        "  tracker = []\n",
        "  w = [0.0, 0.1, 0.2, 0.3, 0.4, 0.5, 0.6, 0.7, 0.8, 0.9, 1.0]\n",
        "  # iterate all possible combinations (cartesian product)\n",
        "  for weights in product(w, repeat=num_models):\n",
        "    # skip if all weights are equal\n",
        "    if len(set(weights)) == 1:\n",
        "      continue\n",
        "    # hack, normalize weight vector\n",
        "    weights = normalize(weights)\n",
        "    # evaluate weights\n",
        "    score_dict = get_scores(preds, threshold, testy, weights)\n",
        "    accuracy = score_dict[\"accuracy\"]\n",
        "    f1 = score_dict[\"f1\"] \n",
        "    roc_auc = score_dict[\"roc-auc\"]\n",
        "    tracker.append((accuracy, f1, roc_auc, weights))\n",
        "  return tracker"
      ],
      "metadata": {
        "id": "EcMectM-H4XW"
      },
      "execution_count": null,
      "outputs": []
    },
    {
      "cell_type": "code",
      "source": [
        "preds = ensemble.get_prediction_compiled_list(X)"
      ],
      "metadata": {
        "colab": {
          "base_uri": "https://localhost:8080/"
        },
        "id": "ANTFS6IRRvUy",
        "outputId": "8becf210-61d5-42ce-a5e8-3923506788cf"
      },
      "execution_count": null,
      "outputs": [
        {
          "output_type": "stream",
          "name": "stdout",
          "text": [
            "63/63 [==============================] - 10s 157ms/step\n",
            "63/63 [==============================] - 1s 7ms/step\n",
            "63/63 [==============================] - 1s 7ms/step\n",
            "63/63 [==============================] - 0s 7ms/step\n"
          ]
        }
      ]
    },
    {
      "cell_type": "code",
      "source": [
        "threshold = 0.6\n",
        "num_models = len(models)\n",
        "tracker = grid_search(num_models, preds, y, threshold)"
      ],
      "metadata": {
        "id": "wzHRutwzSeVc"
      },
      "execution_count": null,
      "outputs": []
    },
    {
      "cell_type": "code",
      "source": [
        "#sort by accuracy, roc_auc score, f1 score then choose arrays that have more models with non-zero weights for diversification\n",
        "#as we are using a holdout set of small size\n",
        "\n",
        "def get_count_of_weights_above_zero(weights):\n",
        "  count = 0\n",
        "  for weight in weights:\n",
        "    if weight > 0:\n",
        "      count += 1\n",
        "  return count\n",
        "\n",
        "tracker.sort(key=lambda a:  (a[0], a[2], a[1], get_count_of_weights_above_zero(a[3])), reverse=True)\n",
        "print(tracker[:10])\n",
        "best_weights = tracker[0][3]\n",
        "best_weights"
      ],
      "metadata": {
        "colab": {
          "base_uri": "https://localhost:8080/"
        },
        "id": "FNffrf4DTiBm",
        "outputId": "53811247-6040-4715-f77e-1fe61cea5f34"
      },
      "execution_count": null,
      "outputs": [
        {
          "output_type": "stream",
          "name": "stdout",
          "text": [
            "[(0.9685, 0.9684526790185277, 0.9685042165379488, array([0.83333333, 0.08333333, 0.08333333, 0.        ])), (0.968, 0.9679037111334001, 0.9680168486065498, array([0.8, 0.1, 0.1, 0. ])), (0.968, 0.967967967967968, 0.968001872007488, array([0.81818182, 0.09090909, 0.09090909, 0.        ])), (0.9675, 0.9673530889000502, 0.9675378705675161, array([0.77777778, 0.11111111, 0.11111111, 0.        ])), (0.9675, 0.9674185463659147, 0.9675116877921949, array([0.83333333, 0.        , 0.08333333, 0.08333333])), (0.9675, 0.9674837418709354, 0.9675004675004674, array([0.9, 0.1, 0. , 0. ])), (0.967, 0.9668674698795181, 0.9670298899129545, array([0.875, 0.125, 0.   , 0.   ])), (0.967, 0.967098703888335, 0.9670168126052537, array([0.90909091, 0.09090909, 0.        , 0.        ])), (0.967, 0.9669338677354709, 0.967007472119554, array([0.81818182, 0.        , 0.09090909, 0.09090909])), (0.967, 0.9669338677354709, 0.967007472119554, array([0.88888889, 0.11111111, 0.        , 0.        ]))]\n"
          ]
        },
        {
          "output_type": "execute_result",
          "data": {
            "text/plain": [
              "array([0.83333333, 0.08333333, 0.08333333, 0.        ])"
            ]
          },
          "metadata": {},
          "execution_count": 37
        }
      ]
    },
    {
      "cell_type": "markdown",
      "source": [
        "Test out the optimal weights found"
      ],
      "metadata": {
        "id": "D1cWrUJ2UnC5"
      }
    },
    {
      "cell_type": "code",
      "source": [
        "predictions_after_optimisation = ensemble.predict(X, best_weights, threshold)\n",
        "predictions_after_optimisation"
      ],
      "metadata": {
        "colab": {
          "base_uri": "https://localhost:8080/"
        },
        "id": "tqY_cZwbXcpj",
        "outputId": "ddf17fd0-0d3d-4825-aa39-dd76ba007fa1"
      },
      "execution_count": null,
      "outputs": [
        {
          "output_type": "stream",
          "name": "stdout",
          "text": [
            "63/63 [==============================] - 13s 211ms/step\n",
            "63/63 [==============================] - 1s 13ms/step\n",
            "63/63 [==============================] - 1s 10ms/step\n",
            "63/63 [==============================] - 0s 6ms/step\n"
          ]
        },
        {
          "output_type": "execute_result",
          "data": {
            "text/plain": [
              "array([0, 0, 0, ..., 1, 1, 1], dtype=int32)"
            ]
          },
          "metadata": {},
          "execution_count": 38
        }
      ]
    },
    {
      "cell_type": "code",
      "source": [
        "from sklearn.metrics import classification_report\n",
        "print(f\"Accuracy: {accuracy_score(predictions_after_optimisation, y)}\")\n",
        "print(f\"F1: {f1_score(predictions_after_optimisation, y)}\")\n",
        "print(f\"ROC_AUC: {roc_auc_score(predictions_after_optimisation, y)}\")\n",
        "print(classification_report(predictions_after_optimisation, y, target_names=[\"Human\", \"ChatGPT\"]))"
      ],
      "metadata": {
        "colab": {
          "base_uri": "https://localhost:8080/"
        },
        "id": "ISd3lFQFYq3r",
        "outputId": "5d7744ac-7b64-4fc3-cdcd-b42c9d8ad701"
      },
      "execution_count": null,
      "outputs": [
        {
          "output_type": "stream",
          "name": "stdout",
          "text": [
            "Accuracy: 0.9685\n",
            "F1: 0.9684526790185277\n",
            "ROC_AUC: 0.9685042165379488\n",
            "              precision    recall  f1-score   support\n",
            "\n",
            "       Human       0.97      0.97      0.97      1003\n",
            "     ChatGPT       0.97      0.97      0.97       997\n",
            "\n",
            "    accuracy                           0.97      2000\n",
            "   macro avg       0.97      0.97      0.97      2000\n",
            "weighted avg       0.97      0.97      0.97      2000\n",
            "\n"
          ]
        }
      ]
    }
  ]
}