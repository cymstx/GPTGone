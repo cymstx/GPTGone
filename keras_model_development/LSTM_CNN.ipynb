{
 "cells": [
  {
   "cell_type": "markdown",
   "metadata": {
    "id": "ipYVd9hBHbIS"
   },
   "source": [
    "# Load dataset to train example model\n",
    "\n",
    "Add [this Google folder](https://drive.google.com/drive/folders/1K54qqwYtk1ADJlkptJNF-FfyjQ7R6KGC?usp=sharing) to your drive then adjust the paths in the `current_directory` variable "
   ]
  },
  {
   "cell_type": "code",
   "execution_count": null,
   "metadata": {
    "colab": {
     "base_uri": "https://localhost:8080/"
    },
    "id": "WUEokDxV3G1T",
    "outputId": "76e94406-cfe2-4d8c-b370-6d02758f3626"
   },
   "outputs": [],
   "source": [
    "import warnings\n",
    "warnings.filterwarnings(\"ignore\")\n",
    "\n",
    "from google.colab import drive\n",
    "import os\n",
    "drive.mount('/content/drive')"
   ]
  },
  {
   "cell_type": "code",
   "execution_count": null,
   "metadata": {
    "id": "T7rT2_fz8uTW"
   },
   "outputs": [],
   "source": [
    "current_directory = \"/content/drive/MyDrive/AI/Trained models\"\n",
    "os.chdir(\"/content/drive/MyDrive/AI/Trained models\")"
   ]
  },
  {
   "cell_type": "code",
   "execution_count": 2,
   "metadata": {
    "id": "6zR03EqMHfCa"
   },
   "outputs": [],
   "source": [
    "import pandas as pd"
   ]
  },
  {
   "cell_type": "code",
   "execution_count": 75,
   "metadata": {
    "colab": {
     "base_uri": "https://localhost:8080/",
     "height": 99
    },
    "id": "lwH5eLIhHiij",
    "outputId": "012052a1-75b7-474a-dfe6-fce3c0a4b860"
   },
   "outputs": [
    {
     "name": "stdout",
     "output_type": "stream",
     "text": [
      "15979\n"
     ]
    },
    {
     "data": {
      "text/html": [
       "<div>\n",
       "<style scoped>\n",
       "    .dataframe tbody tr th:only-of-type {\n",
       "        vertical-align: middle;\n",
       "    }\n",
       "\n",
       "    .dataframe tbody tr th {\n",
       "        vertical-align: top;\n",
       "    }\n",
       "\n",
       "    .dataframe thead th {\n",
       "        text-align: right;\n",
       "    }\n",
       "</style>\n",
       "<table border=\"1\" class=\"dataframe\">\n",
       "  <thead>\n",
       "    <tr style=\"text-align: right;\">\n",
       "      <th></th>\n",
       "      <th>question</th>\n",
       "      <th>Raw_Text</th>\n",
       "      <th>Text</th>\n",
       "      <th>Label</th>\n",
       "      <th>Mean Perplexity</th>\n",
       "    </tr>\n",
       "  </thead>\n",
       "  <tbody>\n",
       "    <tr>\n",
       "      <th>0</th>\n",
       "      <td>What are squatter 's rights in California and ...</td>\n",
       "      <td>Adverse possession far predates the formation ...</td>\n",
       "      <td>adverse possession far predates formation u ho...</td>\n",
       "      <td>0</td>\n",
       "      <td>98.381706</td>\n",
       "    </tr>\n",
       "  </tbody>\n",
       "</table>\n",
       "</div>"
      ],
      "text/plain": [
       "                                            question  \\\n",
       "0  What are squatter 's rights in California and ...   \n",
       "\n",
       "                                            Raw_Text  \\\n",
       "0  Adverse possession far predates the formation ...   \n",
       "\n",
       "                                                Text  Label  Mean Perplexity  \n",
       "0  adverse possession far predates formation u ho...      0        98.381706  "
      ]
     },
     "execution_count": 75,
     "metadata": {},
     "output_type": "execute_result"
    }
   ],
   "source": [
    "df = pd.read_csv(\"Perplexity.csv\", encoding=\"latin1\")\n",
    "df.dropna(inplace=True)\n",
    "df['Mean Perplexity'] = df['Mean Perplexity'].astype(float)\n",
    "print(len(df))\n",
    "df.head(1)"
   ]
  },
  {
   "cell_type": "markdown",
   "metadata": {
    "id": "_ijJ4_Hp3inL"
   },
   "source": [
    "Ensure that there is no skew in the dataset"
   ]
  },
  {
   "cell_type": "code",
   "execution_count": 51,
   "metadata": {
    "colab": {
     "base_uri": "https://localhost:8080/",
     "height": 447
    },
    "id": "LI7N6cevLaDF",
    "outputId": "54a36512-0f0f-4359-bded-8b4bcdd09915"
   },
   "outputs": [
    {
     "data": {
      "image/png": "[encoded data removed]",
      "text/plain": [
       "<Figure size 432x288 with 1 Axes>"
      ]
     },
     "metadata": {
      "needs_background": "light"
     },
     "output_type": "display_data"
    }
   ],
   "source": [
    "import matplotlib.pyplot as plt\n",
    "\n",
    "count_Class=pd.value_counts(df[\"Label\"], sort= True)\n",
    "count_Class.plot(kind = 'bar',color = [\"green\",\"red\"])\n",
    "plt.title('Distribution of classes where 1 is CHATGPT text')\n",
    "plt.show()"
   ]
  },
  {
   "cell_type": "markdown",
   "metadata": {
    "id": "ZbBZ-toJDimC"
   },
   "source": [
    "# Experiment: Text + Perplexity Column with Keras LSTM\n",
    "\n",
    "Accuracy: 73%"
   ]
  },
  {
   "cell_type": "code",
   "execution_count": null,
   "metadata": {
    "id": "MZ0-n7b4HOyI"
   },
   "outputs": [],
   "source": [
    "!pip install tensorflow_text"
   ]
  },
  {
   "cell_type": "code",
   "execution_count": 53,
   "metadata": {
    "id": "RiTz4pPGHRrc"
   },
   "outputs": [],
   "source": [
    "import tensorflow as tf\n",
    "import numpy as np\n",
    "import tensorflow_hub as hub\n",
    "import tensorflow_text as text\n",
    "from sklearn.model_selection import train_test_split"
   ]
  },
  {
   "cell_type": "code",
   "execution_count": 54,
   "metadata": {
    "id": "5YuwD8yeKAQZ"
   },
   "outputs": [],
   "source": [
    "from sklearn.metrics import classification_report, confusion_matrix\n",
    "import seaborn as sns\n",
    "import matplotlib.pyplot as plt"
   ]
  },
  {
   "cell_type": "markdown",
   "metadata": {
    "id": "MdXMeug33m2b"
   },
   "source": [
    "Define the model layers\n",
    "- We are using BERT embeddings as text input\n",
    "- We are also taking in a numeric column so we will concatenate two neural networks to get the final prediction"
   ]
  },
  {
   "cell_type": "code",
   "execution_count": 55,
   "metadata": {
    "id": "D05yHNXHDlLh"
   },
   "outputs": [],
   "source": [
    "# Define the BERT model\n",
    "BERT_MODEL = \"https://tfhub.dev/tensorflow/small_bert/bert_en_uncased_L-4_H-512_A-8/1\" \n",
    "# Choose the preprocessing that must match the model\n",
    "PREPROCESS_MODEL = \"https://tfhub.dev/tensorflow/bert_en_uncased_preprocess/3\"\n",
    "\n",
    "preprocess = hub.load(PREPROCESS_MODEL)\n",
    "bert = hub.load(BERT_MODEL)\n",
    "\n",
    "# create model -- numeric features in this e.g. are mean perplexity\n",
    "numeric_col_count = 1\n",
    "numeric_input_layer = tf.keras.layers.Input(shape=(numeric_col_count,))\n",
    "numeric_dense_layer_4 = tf.keras.layers.Dense(64, activation='relu')(numeric_input_layer)\n",
    "\n",
    "# second input model\n",
    "text_input = tf.keras.layers.Input(shape=(), dtype=tf.string, name='text')\n",
    "preprocessing_layer = hub.KerasLayer(PREPROCESS_MODEL, name='preprocessing')\n",
    "encoder_inputs = preprocessing_layer(text_input)\n",
    "encoder = hub.KerasLayer(BERT_MODEL, trainable=True, name='BERT_encoder')\n",
    "outputs = encoder(encoder_inputs)\n",
    "net = outputs['sequence_output']\n",
    "net = tf.keras.layers.Dropout(0.1)(net)\n",
    "net = tf.keras.layers.Dense(1, activation=None, name='classifier')(net)\n",
    "lstm = tf.keras.layers.Bidirectional(tf.keras.layers.LSTM(64,  return_sequences=True))(net)\n",
    "lstm = tf.keras.layers.Bidirectional(tf.keras.layers.LSTM(32))(net)\n",
    "lstm_dense = tf.keras.layers.Dense(64, activation='relu')(lstm)\n",
    "\n",
    "# merge input models\n",
    "merge = tf.keras.layers.concatenate([lstm_dense, numeric_dense_layer_4])\n",
    "\n",
    "# interpretation model\n",
    "hidden1 = tf.keras.layers.Dense(32, activation='relu')(merge)\n",
    "hidden2 = tf.keras.layers.Dense(10, activation='relu')(hidden1)\n",
    "output = tf.keras.layers.Dense(1, activation='sigmoid')(hidden2)\n",
    "rnn_model = tf.keras.models.Model(inputs=[numeric_input_layer, text_input], outputs=output)\n",
    "\n",
    "rnn_model.compile(loss='binary_crossentropy',optimizer='adam',metrics=['accuracy', tf.keras.metrics.FalsePositives()])"
   ]
  },
  {
   "cell_type": "markdown",
   "metadata": {
    "id": "GFEpgGEp32ZB"
   },
   "source": [
    "Train the model\n",
    "- Early stopping included to prevent overfitting"
   ]
  },
  {
   "cell_type": "code",
   "execution_count": 76,
   "metadata": {},
   "outputs": [
    {
     "data": {
      "text/html": [
       "<div>\n",
       "<style scoped>\n",
       "    .dataframe tbody tr th:only-of-type {\n",
       "        vertical-align: middle;\n",
       "    }\n",
       "\n",
       "    .dataframe tbody tr th {\n",
       "        vertical-align: top;\n",
       "    }\n",
       "\n",
       "    .dataframe thead th {\n",
       "        text-align: right;\n",
       "    }\n",
       "</style>\n",
       "<table border=\"1\" class=\"dataframe\">\n",
       "  <thead>\n",
       "    <tr style=\"text-align: right;\">\n",
       "      <th></th>\n",
       "      <th>Mean Perplexity</th>\n",
       "      <th>Raw_Text</th>\n",
       "    </tr>\n",
       "  </thead>\n",
       "  <tbody>\n",
       "    <tr>\n",
       "      <th>12400</th>\n",
       "      <td>0.037384</td>\n",
       "      <td>Hey OP . This [ NOVA ] ( URL_0 ) Q &amp; A may be ...</td>\n",
       "    </tr>\n",
       "    <tr>\n",
       "      <th>2484</th>\n",
       "      <td>0.005753</td>\n",
       "      <td>Sure! An imaginary number is a number that can...</td>\n",
       "    </tr>\n",
       "    <tr>\n",
       "      <th>12164</th>\n",
       "      <td>0.000950</td>\n",
       "      <td>Sour candies contain citric acid, which can be...</td>\n",
       "    </tr>\n",
       "    <tr>\n",
       "      <th>6092</th>\n",
       "      <td>0.000510</td>\n",
       "      <td>Fascism is a type of government where one pers...</td>\n",
       "    </tr>\n",
       "    <tr>\n",
       "      <th>4590</th>\n",
       "      <td>0.003798</td>\n",
       "      <td>Being a Nazi , displaying Nazi symbols , etc i...</td>\n",
       "    </tr>\n",
       "  </tbody>\n",
       "</table>\n",
       "</div>"
      ],
      "text/plain": [
       "       Mean Perplexity                                           Raw_Text\n",
       "12400         0.037384  Hey OP . This [ NOVA ] ( URL_0 ) Q & A may be ...\n",
       "2484          0.005753  Sure! An imaginary number is a number that can...\n",
       "12164         0.000950  Sour candies contain citric acid, which can be...\n",
       "6092          0.000510  Fascism is a type of government where one pers...\n",
       "4590          0.003798  Being a Nazi , displaying Nazi symbols , etc i..."
      ]
     },
     "execution_count": 76,
     "metadata": {},
     "output_type": "execute_result"
    }
   ],
   "source": [
    "import numpy as np\n",
    "X = df[[\"Mean Perplexity\",\"Raw_Text\"]]\n",
    "y = df['Label'].values\n",
    "X_train, X_test, y_train, y_test = train_test_split(X, y, test_size=0.30, random_state=42)\n",
    "\n",
    "\n",
    "# define scaler\n",
    "from pickle import dump\n",
    "from sklearn.preprocessing import MinMaxScaler\n",
    "scaler = MinMaxScaler()\n",
    "# fit scaler on the training dataset\n",
    "scaler.fit(np.array(X_train[\"Mean Perplexity\"]).reshape(-1,1))\n",
    "X_train[\"Mean Perplexity\"] = scaler.transform(np.array(X_train[\"Mean Perplexity\"]).reshape(-1,1)) \n",
    "X_test[\"Mean Perplexity\"] = scaler.transform(np.array(X_test[\"Mean Perplexity\"]).reshape(-1,1))  \n",
    "dump(scaler, open('scaler.pkl', 'wb'))\n",
    "X_train.head()\n"
   ]
  },
  {
   "cell_type": "code",
   "execution_count": 77,
   "metadata": {
    "colab": {
     "base_uri": "https://localhost:8080/"
    },
    "id": "taRfiPYdIWiJ",
    "outputId": "bb126d3e-424a-4dda-a726-e50e459e2add"
   },
   "outputs": [
    {
     "name": "stdout",
     "output_type": "stream",
     "text": [
      "Epoch 1/10\n",
      "245/245 [==============================] - 2138s 9s/step - loss: 0.6932 - accuracy: 0.5063 - false_positives: 1419.0000 - val_loss: 0.6936 - val_accuracy: 0.5024 - val_false_positives: 0.0000e+00\n",
      "Epoch 2/10\n",
      "245/245 [==============================] - 1849s 8s/step - loss: 0.6924 - accuracy: 0.5211 - false_positives: 414.0000 - val_loss: 0.6916 - val_accuracy: 0.5024 - val_false_positives: 0.0000e+00\n",
      "Epoch 3/10\n",
      "245/245 [==============================] - 1998s 8s/step - loss: 0.6882 - accuracy: 0.5495 - false_positives: 803.0000 - val_loss: 0.6801 - val_accuracy: 0.5024 - val_false_positives: 0.0000e+00\n",
      "Epoch 4/10\n",
      "245/245 [==============================] - 2041s 8s/step - loss: 0.6501 - accuracy: 0.6512 - false_positives: 1136.0000 - val_loss: 0.5840 - val_accuracy: 0.8030 - val_false_positives: 556.0000\n",
      "Epoch 5/10\n",
      "245/245 [==============================] - 1981s 8s/step - loss: 0.5113 - accuracy: 0.8188 - false_positives: 1054.0000 - val_loss: 0.4213 - val_accuracy: 0.7926 - val_false_positives: 608.0000\n",
      "Epoch 6/10\n",
      "245/245 [==============================] - 1952s 8s/step - loss: 0.3710 - accuracy: 0.8701 - false_positives: 723.0000 - val_loss: 0.3250 - val_accuracy: 0.8555 - val_false_positives: 353.0000\n",
      "Epoch 7/10\n",
      "245/245 [==============================] - 1968s 8s/step - loss: 0.3030 - accuracy: 0.8964 - false_positives: 507.0000 - val_loss: 0.2985 - val_accuracy: 0.8629 - val_false_positives: 327.0000\n",
      "Epoch 8/10\n",
      "245/245 [==============================] - 1991s 8s/step - loss: 0.2677 - accuracy: 0.9094 - false_positives: 392.0000 - val_loss: 0.2644 - val_accuracy: 0.9318 - val_false_positives: 70.0000\n",
      "Epoch 9/10\n",
      "245/245 [==============================] - 2013s 8s/step - loss: 0.2495 - accuracy: 0.9206 - false_positives: 299.0000 - val_loss: 0.2405 - val_accuracy: 0.9204 - val_false_positives: 112.0000\n",
      "Epoch 10/10\n",
      "245/245 [==============================] - 1953s 8s/step - loss: 0.2402 - accuracy: 0.9245 - false_positives: 267.0000 - val_loss: 0.2316 - val_accuracy: 0.9297 - val_false_positives: 80.0000\n"
     ]
    }
   ],
   "source": [
    "early_stop = tf.keras.callbacks.EarlyStopping(monitor='val_loss', mode='min', verbose=1, patience=1)\n",
    "history = rnn_model.fit([np.asarray(X_train[\"Mean Perplexity\"].values).astype('float32'), X_train[\"Raw_Text\"].values], y_train, epochs=10, verbose=True, validation_split=0.3, batch_size=32,callbacks=[early_stop])"
   ]
  },
  {
   "cell_type": "markdown",
   "metadata": {
    "id": "1VIGM6ZJ35Lv"
   },
   "source": [
    "Evaluate the model\n",
    "- Model tends to predict human as AI more (false positive) as compared to AI as human (false negative)"
   ]
  },
  {
   "cell_type": "code",
   "execution_count": 78,
   "metadata": {
    "colab": {
     "base_uri": "https://localhost:8080/"
    },
    "id": "hHn4fMzRJOBC",
    "outputId": "410f31de-e4a8-4d60-e80f-2da30b634a86"
   },
   "outputs": [
    {
     "data": {
      "text/plain": [
       "[0.24544523656368256, 0.9207342267036438, 143.0]"
      ]
     },
     "execution_count": 78,
     "metadata": {},
     "output_type": "execute_result"
    }
   ],
   "source": [
    "rnn_model.evaluate([X_test[\"Mean Perplexity\"], X_test['Raw_Text']], y_test, verbose=False)"
   ]
  },
  {
   "cell_type": "code",
   "execution_count": 79,
   "metadata": {
    "colab": {
     "base_uri": "https://localhost:8080/",
     "height": 993
    },
    "id": "xgI8hYtJJr1_",
    "outputId": "2d0b3ab3-2d99-4fc4-ccf7-93d6faaf2318"
   },
   "outputs": [
    {
     "name": "stdout",
     "output_type": "stream",
     "text": [
      "150/150 [==============================] - 234s 2s/step\n"
     ]
    },
    {
     "data": {
      "image/png": "[encoded data removed]",
      "text/plain": [
       "<Figure size 432x288 with 1 Axes>"
      ]
     },
     "metadata": {
      "needs_background": "light"
     },
     "output_type": "display_data"
    },
    {
     "data": {
      "image/png": "[encoded data removed]",
      "text/plain": [
       "<Figure size 1152x432 with 2 Axes>"
      ]
     },
     "metadata": {
      "needs_background": "light"
     },
     "output_type": "display_data"
    }
   ],
   "source": [
    "def plot_confusion_matrix(y_true, y_pred):\n",
    "   mtx = confusion_matrix(y_true, y_pred)\n",
    "   sns.heatmap(mtx, annot=True, fmt='d', linewidths=.5, \n",
    "               cmap=\"Blues\", cbar=False)\n",
    "   plt.ylabel('True label')\n",
    "   plt.xlabel('Predicted label')\n",
    "\n",
    "\n",
    "def plot_graphs(history, metric):\n",
    "  plt.plot(history.history[metric])\n",
    "  plt.plot(history.history['val_'+metric], '')\n",
    "  plt.xlabel(\"Epochs\")\n",
    "  plt.ylabel(metric)\n",
    "  plt.legend([metric, 'val_'+metric])\n",
    "\n",
    "cont_preds = rnn_model.predict([X_test[\"Mean Perplexity\"], X_test['Raw_Text']])\n",
    "preds = (cont_preds > 0.5).astype(\"int32\")\n",
    "plot_confusion_matrix(y_test, preds)\n",
    "\n",
    "plt.figure(figsize=(16, 6))\n",
    "plt.subplot(1, 2, 1)\n",
    "plot_graphs(history, 'accuracy')\n",
    "plt.subplot(1, 2, 2)\n",
    "plot_graphs(history, 'loss')"
   ]
  },
  {
   "cell_type": "code",
   "execution_count": 80,
   "metadata": {
    "colab": {
     "base_uri": "https://localhost:8080/"
    },
    "id": "_kPtxU0_KD24",
    "outputId": "37044f53-e582-415d-e89a-934090ad4fcf"
   },
   "outputs": [],
   "source": [
    "#save model\n",
    "import os\n",
    "import tensorflow as tf\n",
    "current_directory = os.getcwd()\n",
    "rnn_model.save(\"rnn_features_model_scaled.h5\",save_format = \"h5\")"
   ]
  },
  {
   "cell_type": "code",
   "execution_count": 81,
   "metadata": {},
   "outputs": [
    {
     "name": "stdout",
     "output_type": "stream",
     "text": [
      "150/150 [==============================] - 265s 2s/step\n"
     ]
    }
   ],
   "source": [
    "import tensorflow as tf\n",
    "saved_model = tf.keras.models.load_model(\"rnn_features_model_scaled.h5\",custom_objects={'KerasLayer':hub.KerasLayer})\n",
    "cont_preds = saved_model.predict([X_test[\"Mean Perplexity\"], X_test['Raw_Text']])"
   ]
  },
  {
   "cell_type": "markdown",
   "metadata": {
    "id": "NsnZICDHKMZd"
   },
   "source": [
    "# Experiment: Text + Perplexity Column -- AutoKeras\n",
    "\n",
    "To find ways to improve the accuracy, I experimented with AutoKeras to try different neural networks. \n",
    "\n",
    "The best model after 15 models was a Convolutional Neural Network with accuracy: 0.9470 - auc: 0.9742"
   ]
  },
  {
   "cell_type": "code",
   "execution_count": null,
   "metadata": {
    "id": "cSqu8b_vLBvk"
   },
   "outputs": [],
   "source": [
    "!pip install git+https://github.com/keras-team/keras-tuner.git\n",
    "!pip install autokeras"
   ]
  },
  {
   "cell_type": "code",
   "execution_count": null,
   "metadata": {
    "id": "A_LnvArPOFOG"
   },
   "outputs": [],
   "source": [
    "import autokeras as ak"
   ]
  },
  {
   "cell_type": "markdown",
   "metadata": {
    "id": "TkwcTy-s4aHo"
   },
   "source": [
    "Prepare data"
   ]
  },
  {
   "cell_type": "code",
   "execution_count": null,
   "metadata": {
    "id": "pKU_aFQvSvzJ"
   },
   "outputs": [],
   "source": [
    "from sklearn.model_selection import train_test_split\n",
    "X = df[[\"Raw_Text\",\"Mean Perplexity\"]]\n",
    "y = df['Label'].values\n",
    "X_train, X_test, y_train, y_test = train_test_split(X, y, test_size=0.30, random_state=42)"
   ]
  },
  {
   "cell_type": "markdown",
   "metadata": {
    "id": "dApGbahv4bZT"
   },
   "source": [
    "Prepare neural network structure to take in text and numeric input, concatenate the two neural networks from the different layers and produce a regression output"
   ]
  },
  {
   "cell_type": "code",
   "execution_count": null,
   "metadata": {
    "colab": {
     "base_uri": "https://localhost:8080/"
    },
    "id": "gpku6QjRLKTy",
    "outputId": "5bc97182-e7ad-440e-95fc-a682631cf348"
   },
   "outputs": [
    {
     "name": "stdout",
     "output_type": "stream",
     "text": [
      "Trial 26 Complete [00h 02m 06s]\n",
      "val_loss: 0.033185090869665146\n",
      "\n",
      "Best val_loss So Far: 0.030185863375663757\n",
      "Total elapsed time: 00h 02m 07s\n",
      "Epoch 1/10\n",
      "350/350 [==============================] - 16s 38ms/step - loss: 0.0960 - accuracy: 0.8737 - auc: 0.9470\n",
      "Epoch 2/10\n",
      "350/350 [==============================] - 4s 12ms/step - loss: 0.0433 - accuracy: 0.9477 - auc: 0.9859\n",
      "Epoch 3/10\n",
      "350/350 [==============================] - 3s 8ms/step - loss: 0.0327 - accuracy: 0.9622 - auc: 0.9901\n",
      "Epoch 4/10\n",
      "350/350 [==============================] - 3s 9ms/step - loss: 0.0255 - accuracy: 0.9711 - auc: 0.9930\n",
      "Epoch 5/10\n",
      "350/350 [==============================] - 3s 8ms/step - loss: 0.0202 - accuracy: 0.9780 - auc: 0.9949\n",
      "Epoch 6/10\n",
      "350/350 [==============================] - 4s 11ms/step - loss: 0.0177 - accuracy: 0.9820 - auc: 0.9960\n",
      "Epoch 7/10\n",
      "350/350 [==============================] - 3s 10ms/step - loss: 0.0150 - accuracy: 0.9846 - auc: 0.9965\n",
      "Epoch 8/10\n",
      "350/350 [==============================] - 3s 9ms/step - loss: 0.0134 - accuracy: 0.9863 - auc: 0.9974\n",
      "Epoch 9/10\n",
      "350/350 [==============================] - 4s 12ms/step - loss: 0.0124 - accuracy: 0.9860 - auc: 0.9972\n",
      "Epoch 10/10\n",
      "350/350 [==============================] - 3s 9ms/step - loss: 0.0098 - accuracy: 0.9893 - auc: 0.9985\n"
     ]
    },
    {
     "name": "stderr",
     "output_type": "stream",
     "text": [
      "WARNING:absl:Found untraced functions such as _jit_compiled_convolution_op, _jit_compiled_convolution_op, _jit_compiled_convolution_op, _jit_compiled_convolution_op while saving (showing 4 of 4). These functions will not be directly callable after loading.\n"
     ]
    },
    {
     "data": {
      "text/plain": [
       "<keras.callbacks.History at 0x7fc6e1da7f10>"
      ]
     },
     "execution_count": 11,
     "metadata": {},
     "output_type": "execute_result"
    }
   ],
   "source": [
    "#For diversity in ensemble models, transformers and ngrams will not be used in the text block\n",
    "#Pretrained embeddings e.g. glove, word2vec or fasttext is automatically tuned \n",
    "input_node_structured = ak.StructuredDataInput()\n",
    "output_node_structured = ak.DenseBlock()(input_node_structured)\n",
    "\n",
    "input_node_text = ak.TextInput()\n",
    "output_node_text = ak.TextBlock(block_type='vanilla')(input_node_text)\n",
    "\n",
    "output_node_merged = ak.Merge()([output_node_structured, output_node_text])\n",
    "final_node = ak.RegressionHead(metrics=[\"accuracy\",\"AUC\"])(output_node_merged)\n",
    "\n",
    "reg = ak.AutoModel(\n",
    "   inputs=[input_node_structured, input_node_text],\n",
    "   outputs=[final_node],\n",
    "   max_trials=10,\n",
    ")\n",
    "reg.fit([X_train[[\"Mean Perplexity\"]],X_train[\"Raw_Text\"].to_numpy()], y_train, validation_split=0.15)"
   ]
  },
  {
   "cell_type": "markdown",
   "metadata": {
    "id": "0ljd-oZn4lOZ"
   },
   "source": [
    "Evaluate the model"
   ]
  },
  {
   "cell_type": "code",
   "execution_count": null,
   "metadata": {
    "colab": {
     "base_uri": "https://localhost:8080/"
    },
    "id": "dzf_MpfCTZ0W",
    "outputId": "9529863b-93d6-439c-efd8-67ba7d2b28cc"
   },
   "outputs": [
    {
     "name": "stdout",
     "output_type": "stream",
     "text": [
      "150/150 [==============================] - 1s 7ms/step\n",
      "150/150 [==============================] - 1s 4ms/step\n",
      "150/150 [==============================] - 1s 5ms/step - loss: 0.0454 - accuracy: 0.9470 - auc: 0.9742\n",
      "[0.045413970947265625, 0.9470171332359314, 0.9741848111152649]\n"
     ]
    }
   ],
   "source": [
    "# Predict with the best model.\n",
    "predicted_y = reg.predict([X_test[[\"Mean Perplexity\"]],X_test[\"Raw_Text\"].to_numpy()])\n",
    "# Evaluate the best model with testing data.\n",
    "print(reg.evaluate([X_test[[\"Mean Perplexity\"]],X_test[\"Raw_Text\"].to_numpy()], y_test))"
   ]
  },
  {
   "cell_type": "markdown",
   "metadata": {
    "id": "nUUTmL_o4nVK"
   },
   "source": [
    "Export model"
   ]
  },
  {
   "cell_type": "code",
   "execution_count": null,
   "metadata": {
    "colab": {
     "base_uri": "https://localhost:8080/"
    },
    "id": "rtNyVG6-TNUL",
    "outputId": "a24adca1-a489-4db5-ddd7-20f4f3094f89"
   },
   "outputs": [
    {
     "name": "stdout",
     "output_type": "stream",
     "text": [
      "Model: \"model\"\n",
      "__________________________________________________________________________________________________\n",
      " Layer (type)                   Output Shape         Param #     Connected to                     \n",
      "==================================================================================================\n",
      " input_2 (InputLayer)           [(None,)]            0           []                               \n",
      "                                                                                                  \n",
      " expand_last_dim (ExpandLastDim  (None, 1)           0           ['input_2[0][0]']                \n",
      " )                                                                                                \n",
      "                                                                                                  \n",
      " text_vectorization (TextVector  (None, 64)          0           ['expand_last_dim[0][0]']        \n",
      " ization)                                                                                         \n",
      "                                                                                                  \n",
      " embedding (Embedding)          (None, 64, 512)      256512      ['text_vectorization[0][0]']     \n",
      "                                                                                                  \n",
      " dropout (Dropout)              (None, 64, 512)      0           ['embedding[0][0]']              \n",
      "                                                                                                  \n",
      " conv1d (Conv1D)                (None, 62, 32)       49184       ['dropout[0][0]']                \n",
      "                                                                                                  \n",
      " conv1d_1 (Conv1D)              (None, 60, 32)       3104        ['conv1d[0][0]']                 \n",
      "                                                                                                  \n",
      " max_pooling1d (MaxPooling1D)   (None, 30, 32)       0           ['conv1d_1[0][0]']               \n",
      "                                                                                                  \n",
      " conv1d_2 (Conv1D)              (None, 28, 32)       3104        ['max_pooling1d[0][0]']          \n",
      "                                                                                                  \n",
      " conv1d_3 (Conv1D)              (None, 26, 32)       3104        ['conv1d_2[0][0]']               \n",
      "                                                                                                  \n",
      " max_pooling1d_1 (MaxPooling1D)  (None, 13, 32)      0           ['conv1d_3[0][0]']               \n",
      "                                                                                                  \n",
      " input_1 (InputLayer)           [(None, 1)]          0           []                               \n",
      "                                                                                                  \n",
      " flatten (Flatten)              (None, 416)          0           ['max_pooling1d_1[0][0]']        \n",
      "                                                                                                  \n",
      " dense (Dense)                  (None, 32)           64          ['input_1[0][0]']                \n",
      "                                                                                                  \n",
      " dense_2 (Dense)                (None, 32)           13344       ['flatten[0][0]']                \n",
      "                                                                                                  \n",
      " re_lu (ReLU)                   (None, 32)           0           ['dense[0][0]']                  \n",
      "                                                                                                  \n",
      " re_lu_2 (ReLU)                 (None, 32)           0           ['dense_2[0][0]']                \n",
      "                                                                                                  \n",
      " dense_1 (Dense)                (None, 32)           1056        ['re_lu[0][0]']                  \n",
      "                                                                                                  \n",
      " dense_3 (Dense)                (None, 32)           1056        ['re_lu_2[0][0]']                \n",
      "                                                                                                  \n",
      " re_lu_1 (ReLU)                 (None, 32)           0           ['dense_1[0][0]']                \n",
      "                                                                                                  \n",
      " re_lu_3 (ReLU)                 (None, 32)           0           ['dense_3[0][0]']                \n",
      "                                                                                                  \n",
      " add (Add)                      (None, 32)           0           ['re_lu_1[0][0]',                \n",
      "                                                                  're_lu_3[0][0]']                \n",
      "                                                                                                  \n",
      " regression_head_1 (Dense)      (None, 1)            33          ['add[0][0]']                    \n",
      "                                                                                                  \n",
      "==================================================================================================\n",
      "Total params: 330,561\n",
      "Trainable params: 330,561\n",
      "Non-trainable params: 0\n",
      "__________________________________________________________________________________________________\n"
     ]
    },
    {
     "name": "stderr",
     "output_type": "stream",
     "text": [
      "WARNING:absl:Found untraced functions such as _jit_compiled_convolution_op, _jit_compiled_convolution_op, _jit_compiled_convolution_op, _jit_compiled_convolution_op, _update_step_xla while saving (showing 5 of 5). These functions will not be directly callable after loading.\n"
     ]
    }
   ],
   "source": [
    "# Export as a Keras Model.\n",
    "model = reg.export_model()\n",
    "model.summary()\n",
    "try:\n",
    "    model.save(\"model_autokeras_vanilla\", save_format=\"tf\")\n",
    "except Exception:\n",
    "    model.save(\"model_autokeras_vanilla.h5\")"
   ]
  },
  {
   "cell_type": "markdown",
   "metadata": {
    "id": "OlCGkV104px9"
   },
   "source": [
    "Load model to check if it works "
   ]
  },
  {
   "cell_type": "code",
   "execution_count": null,
   "metadata": {
    "colab": {
     "base_uri": "https://localhost:8080/"
    },
    "id": "_MwoDGP1TOGd",
    "outputId": "3f65e173-227d-4477-9470-c70d46544ee0"
   },
   "outputs": [],
   "source": [
    "import tensorflow as tf\n",
    "loaded_model = tf.keras.models.load_model(\"model_autokeras_vanilla\", custom_objects=ak.CUSTOM_OBJECTS)\n",
    "predicted_y = loaded_model.predict([X_test[[\"Mean Perplexity\"]],X_test[\"Raw_Text\"].to_numpy()])\n",
    "print(predicted_y)"
   ]
  },
  {
   "cell_type": "markdown",
   "metadata": {
    "id": "LHrj9-afZdvv"
   },
   "source": [
    "# Experiment: Text -- AutoKeras\n",
    "\n",
    "The best model after trying 5 models was a Convolutional Neural Network with \n",
    "accuracy: 0.9821 - auc: 0.9925\n",
    "\n",
    "Less models were tried because each trial took a lot of memory and time"
   ]
  },
  {
   "cell_type": "code",
   "execution_count": null,
   "metadata": {
    "id": "r-1Fvj1HZdvw"
   },
   "outputs": [],
   "source": [
    "!pip install git+https://github.com/keras-team/keras-tuner.git\n",
    "!pip install autokeras"
   ]
  },
  {
   "cell_type": "code",
   "execution_count": null,
   "metadata": {
    "id": "MlqcH8eAZdvw"
   },
   "outputs": [],
   "source": [
    "import autokeras as ak"
   ]
  },
  {
   "cell_type": "markdown",
   "metadata": {
    "id": "jb1HVnCe4ucf"
   },
   "source": [
    "This dataset has more datapoints than the perplexity one. Perplexity takes a long time to scrape so we trained on as much data point as we could scrape."
   ]
  },
  {
   "cell_type": "code",
   "execution_count": null,
   "metadata": {
    "colab": {
     "base_uri": "https://localhost:8080/",
     "height": 81
    },
    "id": "MZCNTsaYGS_S",
    "outputId": "881660bb-1b87-4681-e6bb-5b7bfc594420"
   },
   "outputs": [],
   "source": [
    "import pandas as pd\n",
    "df = pd.read_csv(\"eli5_clean_combined.csv\")\n",
    "df.dropna(inplace = True)\n",
    "df.head(1)"
   ]
  },
  {
   "cell_type": "code",
   "execution_count": null,
   "metadata": {
    "colab": {
     "base_uri": "https://localhost:8080/",
     "height": 447
    },
    "id": "VQ5l9GdgGjhn",
    "outputId": "83700584-a568-415f-bcf1-b34526590bb3"
   },
   "outputs": [
    {
     "data": {
      "image/png": "[encoded data removed]",
      "text/plain": [
       "<Figure size 640x480 with 1 Axes>"
      ]
     },
     "metadata": {},
     "output_type": "display_data"
    }
   ],
   "source": [
    "import matplotlib.pyplot as plt\n",
    "count_Class=pd.value_counts(df[\"Label\"], sort= True)\n",
    "count_Class.plot(kind = 'bar',color = [\"green\",\"red\"])\n",
    "plt.title('Distribution of classes where 1 is CHATGPT text')\n",
    "plt.show()"
   ]
  },
  {
   "cell_type": "code",
   "execution_count": null,
   "metadata": {
    "id": "2OiKHqiuZdvw"
   },
   "outputs": [],
   "source": [
    "from sklearn.model_selection import train_test_split\n",
    "X = df[[\"response\"]]\n",
    "y = df['Label'].values\n",
    "X_train, X_test, y_train, y_test = train_test_split(X, y, test_size=0.30, random_state=42)"
   ]
  },
  {
   "cell_type": "markdown",
   "metadata": {
    "id": "IcKSpVRA42eJ"
   },
   "source": [
    "Train model"
   ]
  },
  {
   "cell_type": "code",
   "execution_count": null,
   "metadata": {
    "colab": {
     "base_uri": "https://localhost:8080/"
    },
    "id": "852C9HPvZdvw",
    "outputId": "50fc13b5-8503-4464-877b-bf3db80c957f"
   },
   "outputs": [
    {
     "name": "stdout",
     "output_type": "stream",
     "text": [
      "Trial 5 Complete [00h 04m 41s]\n",
      "val_loss: 0.014697384089231491\n",
      "\n",
      "Best val_loss So Far: 0.012621596455574036\n",
      "Total elapsed time: 00h 28m 21s\n",
      "Epoch 1/17\n",
      "726/726 [==============================] - 49s 62ms/step - loss: 0.0961 - accuracy: 0.8896 - auc: 0.9510\n",
      "Epoch 2/17\n",
      "726/726 [==============================] - 9s 12ms/step - loss: 0.0244 - accuracy: 0.9738 - auc: 0.9937\n",
      "Epoch 3/17\n",
      "726/726 [==============================] - 7s 10ms/step - loss: 0.0127 - accuracy: 0.9885 - auc: 0.9974\n",
      "Epoch 4/17\n",
      "726/726 [==============================] - 8s 10ms/step - loss: 0.0087 - accuracy: 0.9926 - auc: 0.9987\n",
      "Epoch 5/17\n",
      "726/726 [==============================] - 9s 12ms/step - loss: 0.0064 - accuracy: 0.9948 - auc: 0.9993\n",
      "Epoch 6/17\n",
      "726/726 [==============================] - 9s 12ms/step - loss: 0.0048 - accuracy: 0.9964 - auc: 0.9996\n",
      "Epoch 7/17\n",
      "726/726 [==============================] - 8s 11ms/step - loss: 0.0048 - accuracy: 0.9961 - auc: 0.9994\n",
      "Epoch 8/17\n",
      "726/726 [==============================] - 9s 13ms/step - loss: 0.0043 - accuracy: 0.9963 - auc: 0.9993\n",
      "Epoch 9/17\n",
      "726/726 [==============================] - 10s 13ms/step - loss: 0.0036 - accuracy: 0.9972 - auc: 0.9994\n",
      "Epoch 10/17\n",
      "726/726 [==============================] - 8s 11ms/step - loss: 0.0028 - accuracy: 0.9978 - auc: 0.9996\n",
      "Epoch 11/17\n",
      "726/726 [==============================] - 9s 13ms/step - loss: 0.0035 - accuracy: 0.9968 - auc: 0.9995\n",
      "Epoch 12/17\n",
      "726/726 [==============================] - 9s 12ms/step - loss: 0.0029 - accuracy: 0.9972 - auc: 0.9997\n",
      "Epoch 13/17\n",
      "726/726 [==============================] - 7s 10ms/step - loss: 0.0023 - accuracy: 0.9981 - auc: 0.9997\n",
      "Epoch 14/17\n",
      "726/726 [==============================] - 9s 12ms/step - loss: 0.0016 - accuracy: 0.9988 - auc: 0.9997\n",
      "Epoch 15/17\n",
      "726/726 [==============================] - 9s 12ms/step - loss: 0.0020 - accuracy: 0.9982 - auc: 0.9997\n",
      "Epoch 16/17\n",
      "726/726 [==============================] - 7s 10ms/step - loss: 0.0023 - accuracy: 0.9977 - auc: 0.9998\n",
      "Epoch 17/17\n",
      "726/726 [==============================] - 8s 11ms/step - loss: 0.0014 - accuracy: 0.9989 - auc: 0.9997\n"
     ]
    },
    {
     "name": "stderr",
     "output_type": "stream",
     "text": [
      "WARNING:absl:Found untraced functions such as _jit_compiled_convolution_op, _jit_compiled_convolution_op, _jit_compiled_convolution_op, _jit_compiled_convolution_op while saving (showing 4 of 4). These functions will not be directly callable after loading.\n"
     ]
    },
    {
     "data": {
      "text/plain": [
       "<keras.callbacks.History at 0x7f6988eba040>"
      ]
     },
     "execution_count": 33,
     "metadata": {},
     "output_type": "execute_result"
    }
   ],
   "source": [
    "reg = ak.TextRegressor(overwrite=True, max_trials=5, metrics=[\"accuracy\",\"AUC\"])\n",
    "reg.fit(X_train[\"response\"].to_numpy(), y_train, validation_split=0.15)"
   ]
  },
  {
   "cell_type": "markdown",
   "metadata": {
    "id": "tVbEMxkg440i"
   },
   "source": [
    "Evaluate Model"
   ]
  },
  {
   "cell_type": "code",
   "execution_count": null,
   "metadata": {
    "colab": {
     "base_uri": "https://localhost:8080/"
    },
    "id": "uvHgMJfoZdvw",
    "outputId": "1addcf85-a176-48ca-ee4b-fa85b93087e8"
   },
   "outputs": [
    {
     "name": "stdout",
     "output_type": "stream",
     "text": [
      "311/311 [==============================] - 2s 6ms/step\n",
      "311/311 [==============================] - 1s 4ms/step\n",
      "311/311 [==============================] - 3s 8ms/step - loss: 0.0153 - accuracy: 0.9821 - auc: 0.9925\n",
      "[0.015286284498870373, 0.9821123480796814, 0.9925251603126526]\n"
     ]
    }
   ],
   "source": [
    "# Predict with the best model.\n",
    "predicted_y = reg.predict(X_test[\"response\"].to_numpy())\n",
    "# Evaluate the best model with testing data.\n",
    "print(reg.evaluate(X_test[\"response\"].to_numpy(), y_test))"
   ]
  },
  {
   "cell_type": "markdown",
   "metadata": {
    "id": "z7Lchy_Y46qu"
   },
   "source": [
    "Output model"
   ]
  },
  {
   "cell_type": "code",
   "execution_count": null,
   "metadata": {
    "colab": {
     "base_uri": "https://localhost:8080/"
    },
    "id": "g5d6iWkrZdvw",
    "outputId": "215abb74-ab29-4bc0-cac6-a702cebd2db6"
   },
   "outputs": [
    {
     "name": "stdout",
     "output_type": "stream",
     "text": [
      "Model: \"model\"\n",
      "_________________________________________________________________\n",
      " Layer (type)                Output Shape              Param #   \n",
      "=================================================================\n",
      " input_1 (InputLayer)        [(None,)]                 0         \n",
      "                                                                 \n",
      " expand_last_dim (ExpandLast  (None, 1)                0         \n",
      " Dim)                                                            \n",
      "                                                                 \n",
      " text_vectorization (TextVec  (None, 128)              0         \n",
      " torization)                                                     \n",
      "                                                                 \n",
      " embedding (Embedding)       (None, 128, 128)          640128    \n",
      "                                                                 \n",
      " dropout (Dropout)           (None, 128, 128)          0         \n",
      "                                                                 \n",
      " conv1d (Conv1D)             (None, 126, 32)           12320     \n",
      "                                                                 \n",
      " conv1d_1 (Conv1D)           (None, 124, 32)           3104      \n",
      "                                                                 \n",
      " max_pooling1d (MaxPooling1D  (None, 62, 32)           0         \n",
      " )                                                               \n",
      "                                                                 \n",
      " conv1d_2 (Conv1D)           (None, 60, 32)            3104      \n",
      "                                                                 \n",
      " conv1d_3 (Conv1D)           (None, 58, 32)            3104      \n",
      "                                                                 \n",
      " max_pooling1d_1 (MaxPooling  (None, 29, 32)           0         \n",
      " 1D)                                                             \n",
      "                                                                 \n",
      " flatten (Flatten)           (None, 928)               0         \n",
      "                                                                 \n",
      " dense (Dense)               (None, 32)                29728     \n",
      "                                                                 \n",
      " batch_normalization (BatchN  (None, 32)               128       \n",
      " ormalization)                                                   \n",
      "                                                                 \n",
      " re_lu (ReLU)                (None, 32)                0         \n",
      "                                                                 \n",
      " dense_1 (Dense)             (None, 32)                1056      \n",
      "                                                                 \n",
      " batch_normalization_1 (Batc  (None, 32)               128       \n",
      " hNormalization)                                                 \n",
      "                                                                 \n",
      " re_lu_1 (ReLU)              (None, 32)                0         \n",
      "                                                                 \n",
      " regression_head_1 (Dense)   (None, 1)                 33        \n",
      "                                                                 \n",
      "=================================================================\n",
      "Total params: 692,833\n",
      "Trainable params: 692,705\n",
      "Non-trainable params: 128\n",
      "_________________________________________________________________\n"
     ]
    },
    {
     "name": "stderr",
     "output_type": "stream",
     "text": [
      "WARNING:absl:Found untraced functions such as _jit_compiled_convolution_op, _jit_compiled_convolution_op, _jit_compiled_convolution_op, _jit_compiled_convolution_op, _update_step_xla while saving (showing 5 of 5). These functions will not be directly callable after loading.\n"
     ]
    }
   ],
   "source": [
    "# Export as a Keras Model.\n",
    "model = reg.export_model()\n",
    "model.summary()\n",
    "try:\n",
    "    model.save(\"model_autokeras_vanilla_text_only\", save_format=\"tf\")\n",
    "except Exception:\n",
    "    model.save(\"model_autokeras_vanilla_text_only\")"
   ]
  },
  {
   "cell_type": "markdown",
   "metadata": {
    "id": "Po3vlI9U48dZ"
   },
   "source": [
    "Load Model to check if it can predict"
   ]
  },
  {
   "cell_type": "code",
   "execution_count": null,
   "metadata": {
    "colab": {
     "base_uri": "https://localhost:8080/"
    },
    "id": "EPvtlamjZdvx",
    "outputId": "55c3060d-5d16-4edb-fc79-4ea46be42f43"
   },
   "outputs": [
    {
     "name": "stdout",
     "output_type": "stream",
     "text": [
      "311/311 [==============================] - 2s 7ms/step\n",
      "[[-2.08175331e-02]\n",
      " [-1.38656795e-02]\n",
      " [-2.81576067e-03]\n",
      " ...\n",
      " [-2.06542313e-02]\n",
      " [ 9.78062987e-01]\n",
      " [-8.97668302e-04]]\n"
     ]
    }
   ],
   "source": [
    "import tensorflow as tf\n",
    "loaded_model = tf.keras.models.load_model(\"model_autokeras_vanilla_text_only\", custom_objects=ak.CUSTOM_OBJECTS)\n",
    "predicted_y = loaded_model.predict(X_test[\"response\"].to_numpy())\n",
    "print(predicted_y)"
   ]
  },
  {
   "cell_type": "markdown",
   "metadata": {
    "id": "8bosn7PUygQV"
   },
   "source": [
    "# Experiment: Text + GLTR Feature -- AutoKeras\n",
    "\n",
    "The best model after trying 3 models was a Convolutional Neural Network with accuracy: 0.9704 - auc: 0.9986"
   ]
  },
  {
   "cell_type": "code",
   "execution_count": null,
   "metadata": {
    "id": "azKqG8pWygQW"
   },
   "outputs": [],
   "source": [
    "!pip install git+https://github.com/keras-team/keras-tuner.git\n",
    "!pip install autokeras"
   ]
  },
  {
   "cell_type": "code",
   "execution_count": 5,
   "metadata": {
    "id": "JYKvLsarygQW"
   },
   "outputs": [],
   "source": [
    "import autokeras as ak"
   ]
  },
  {
   "cell_type": "code",
   "execution_count": 6,
   "metadata": {
    "colab": {
     "base_uri": "https://localhost:8080/",
     "height": 81
    },
    "id": "QK7LvfoCygQX",
    "outputId": "e4916f27-6f26-4345-ddd6-a65dcc5fd7b2"
   },
   "outputs": [
    {
     "data": {
      "text/html": [
       "<div>\n",
       "<style scoped>\n",
       "    .dataframe tbody tr th:only-of-type {\n",
       "        vertical-align: middle;\n",
       "    }\n",
       "\n",
       "    .dataframe tbody tr th {\n",
       "        vertical-align: top;\n",
       "    }\n",
       "\n",
       "    .dataframe thead th {\n",
       "        text-align: right;\n",
       "    }\n",
       "</style>\n",
       "<table border=\"1\" class=\"dataframe\">\n",
       "  <thead>\n",
       "    <tr style=\"text-align: right;\">\n",
       "      <th></th>\n",
       "      <th>question</th>\n",
       "      <th>response</th>\n",
       "      <th>label</th>\n",
       "      <th>GLTR Category 1</th>\n",
       "      <th>GLTR Category 3</th>\n",
       "    </tr>\n",
       "  </thead>\n",
       "  <tbody>\n",
       "    <tr>\n",
       "      <th>0</th>\n",
       "      <td>Why is every book I hear about a \" NY Times # ...</td>\n",
       "      <td>There are many different best seller lists tha...</td>\n",
       "      <td>1.0</td>\n",
       "      <td>0.888412</td>\n",
       "      <td>0.017167</td>\n",
       "    </tr>\n",
       "  </tbody>\n",
       "</table>\n",
       "</div>"
      ],
      "text/plain": [
       "                                            question  \\\n",
       "0  Why is every book I hear about a \" NY Times # ...   \n",
       "\n",
       "                                            response  label  GLTR Category 1  \\\n",
       "0  There are many different best seller lists tha...    1.0         0.888412   \n",
       "\n",
       "   GLTR Category 3  \n",
       "0         0.017167  "
      ]
     },
     "execution_count": 6,
     "metadata": {},
     "output_type": "execute_result"
    }
   ],
   "source": [
    "import pandas as pd\n",
    "df = pd.read_csv(\"scraped_gltr_features.csv\")[[\"question\",\"response\",\"label\",\"GLTR Category 1\",\"GLTR Category 3\"]]\n",
    "df.dropna(inplace = True)\n",
    "df.head(1)"
   ]
  },
  {
   "cell_type": "code",
   "execution_count": 7,
   "metadata": {
    "id": "CsVQzDCe6c9q"
   },
   "outputs": [],
   "source": [
    "gpt_df = df[df[\"label\"] == 1]\n",
    "human_df = df[df[\"label\"] == 0][:len(gpt_df)]\n",
    "processed_df = pd.concat([gpt_df, human_df])"
   ]
  },
  {
   "cell_type": "code",
   "execution_count": 8,
   "metadata": {
    "colab": {
     "base_uri": "https://localhost:8080/",
     "height": 460
    },
    "id": "KZe60ERsygQX",
    "outputId": "a964f349-2386-4967-ffa7-bfdaa5661a3c"
   },
   "outputs": [
    {
     "data": {
      "image/png": "[encoded data removed]",
      "text/plain": [
       "<Figure size 432x288 with 1 Axes>"
      ]
     },
     "metadata": {
      "needs_background": "light"
     },
     "output_type": "display_data"
    }
   ],
   "source": [
    "import matplotlib.pyplot as plt\n",
    "count_Class=pd.value_counts(processed_df[\"label\"], sort= True)\n",
    "count_Class.plot(kind = 'bar',color = [\"green\",\"red\"])\n",
    "plt.title('Distribution of classes where 1 is CHATGPT text')\n",
    "plt.show()"
   ]
  },
  {
   "cell_type": "code",
   "execution_count": 9,
   "metadata": {
    "id": "58EVD7CPygQX"
   },
   "outputs": [],
   "source": [
    "from sklearn.model_selection import train_test_split\n",
    "X = processed_df[[\"response\",\"GLTR Category 1\",\"GLTR Category 3\"]]\n",
    "y = processed_df['label'].values\n",
    "X_train, X_test, y_train, y_test = train_test_split(X, y, test_size=0.30, random_state=42)"
   ]
  },
  {
   "cell_type": "code",
   "execution_count": 34,
   "metadata": {
    "colab": {
     "base_uri": "https://localhost:8080/"
    },
    "id": "Kzta32fbygQX",
    "outputId": "a0b5574a-b507-4a2d-8db6-aab779b41983"
   },
   "outputs": [
    {
     "name": "stdout",
     "output_type": "stream",
     "text": [
      "Trial 8 Complete [00h 14m 31s]\n",
      "val_loss: 0.015043986961245537\n",
      "\n",
      "Best val_loss So Far: 0.012184125371277332\n",
      "Total elapsed time: 02h 15m 47s\n",
      "INFO:tensorflow:Oracle triggered exit\n"
     ]
    },
    {
     "name": "stderr",
     "output_type": "stream",
     "text": [
      "INFO:tensorflow:Oracle triggered exit\n"
     ]
    },
    {
     "name": "stdout",
     "output_type": "stream",
     "text": [
      "Epoch 1/20\n",
      "1462/1462 [==============================] - 88s 58ms/step - loss: 0.0295 - accuracy: 0.9739 - auc: 0.9928\n",
      "Epoch 2/20\n",
      "1462/1462 [==============================] - 82s 56ms/step - loss: 0.0172 - accuracy: 0.9836 - auc: 0.9980\n",
      "Epoch 3/20\n",
      "1462/1462 [==============================] - 83s 57ms/step - loss: 0.0129 - accuracy: 0.9895 - auc: 0.9993\n",
      "Epoch 4/20\n",
      "1462/1462 [==============================] - 82s 56ms/step - loss: 0.0106 - accuracy: 0.9937 - auc: 0.9996\n",
      "Epoch 5/20\n",
      "1462/1462 [==============================] - 82s 56ms/step - loss: 0.0091 - accuracy: 0.9959 - auc: 0.9997\n",
      "Epoch 6/20\n",
      "1462/1462 [==============================] - 80s 55ms/step - loss: 0.0080 - accuracy: 0.9959 - auc: 0.9998\n",
      "Epoch 7/20\n",
      "1462/1462 [==============================] - 80s 55ms/step - loss: 0.0068 - accuracy: 0.9953 - auc: 0.9998\n",
      "Epoch 8/20\n",
      "1462/1462 [==============================] - 82s 56ms/step - loss: 0.0062 - accuracy: 0.9947 - auc: 0.9998\n",
      "Epoch 9/20\n",
      "1462/1462 [==============================] - 82s 56ms/step - loss: 0.0055 - accuracy: 0.9948 - auc: 0.9998\n",
      "Epoch 10/20\n",
      "1462/1462 [==============================] - 84s 58ms/step - loss: 0.0051 - accuracy: 0.9952 - auc: 0.9999\n",
      "Epoch 11/20\n",
      "1462/1462 [==============================] - 85s 58ms/step - loss: 0.0046 - accuracy: 0.9955 - auc: 0.9999\n",
      "Epoch 12/20\n",
      "1462/1462 [==============================] - 84s 58ms/step - loss: 0.0040 - accuracy: 0.9959 - auc: 0.9999\n",
      "Epoch 13/20\n",
      "1462/1462 [==============================] - 81s 55ms/step - loss: 0.0040 - accuracy: 0.9956 - auc: 0.9999\n",
      "Epoch 14/20\n",
      "1462/1462 [==============================] - 83s 56ms/step - loss: 0.0038 - accuracy: 0.9960 - auc: 0.9999\n",
      "Epoch 15/20\n",
      "1462/1462 [==============================] - 81s 55ms/step - loss: 0.0037 - accuracy: 0.9961 - auc: 0.9999\n",
      "Epoch 16/20\n",
      "1462/1462 [==============================] - 81s 55ms/step - loss: 0.0036 - accuracy: 0.9961 - auc: 0.9999\n",
      "Epoch 17/20\n",
      "1462/1462 [==============================] - 83s 57ms/step - loss: 0.0029 - accuracy: 0.9970 - auc: 0.9999\n",
      "Epoch 18/20\n",
      "1462/1462 [==============================] - 83s 57ms/step - loss: 0.0031 - accuracy: 0.9964 - auc: 0.9999\n",
      "Epoch 19/20\n",
      "1462/1462 [==============================] - 85s 58ms/step - loss: 0.0027 - accuracy: 0.9969 - auc: 0.9999\n",
      "Epoch 20/20\n",
      "1462/1462 [==============================] - 84s 57ms/step - loss: 0.0028 - accuracy: 0.9969 - auc: 0.9999\n"
     ]
    },
    {
     "name": "stderr",
     "output_type": "stream",
     "text": [
      "WARNING:absl:Found untraced functions such as _jit_compiled_convolution_op, _jit_compiled_convolution_op, _jit_compiled_convolution_op, _jit_compiled_convolution_op while saving (showing 4 of 4). These functions will not be directly callable after loading.\n"
     ]
    },
    {
     "name": "stdout",
     "output_type": "stream",
     "text": [
      "INFO:tensorflow:Assets written to: .\\auto_model\\best_model\\assets\n"
     ]
    },
    {
     "name": "stderr",
     "output_type": "stream",
     "text": [
      "INFO:tensorflow:Assets written to: .\\auto_model\\best_model\\assets\n"
     ]
    },
    {
     "data": {
      "text/plain": [
       "<keras.callbacks.History at 0x279fea51d90>"
      ]
     },
     "execution_count": 34,
     "metadata": {},
     "output_type": "execute_result"
    }
   ],
   "source": [
    "input_node_structured = ak.StructuredDataInput()\n",
    "output_node_structured = ak.DenseBlock()(input_node_structured)\n",
    "\n",
    "input_node_text = ak.TextInput()\n",
    "output_node_text = ak.TextBlock(block_type='vanilla')(input_node_text)\n",
    "\n",
    "output_node_merged = ak.Merge()([output_node_structured, output_node_text])\n",
    "final_node = ak.RegressionHead(metrics=[\"accuracy\",\"AUC\"])(output_node_merged)\n",
    "\n",
    "reg = ak.AutoModel(overwrite=True,\n",
    "   inputs=[input_node_structured, input_node_text],\n",
    "   outputs=[final_node],\n",
    "   max_trials=8,\n",
    ")\n",
    "reg.fit([X_train[[\"GLTR Category 1\",\"GLTR Category 3\"]],X_train[\"response\"].to_numpy()], y_train, validation_split=0.3)"
   ]
  },
  {
   "cell_type": "code",
   "execution_count": 35,
   "metadata": {
    "colab": {
     "base_uri": "https://localhost:8080/"
    },
    "id": "F5XDuq0cygQY",
    "outputId": "2c883df1-a07a-40a2-b9b1-6861c1a93f68"
   },
   "outputs": [
    {
     "name": "stdout",
     "output_type": "stream",
     "text": [
      "627/627 [==============================] - 13s 20ms/step\n",
      "627/627 [==============================] - 13s 20ms/step\n",
      "627/627 [==============================] - 11s 17ms/step - loss: 0.0268 - accuracy: 0.9607 - auc: 0.9973\n",
      "[0.026763441041111946, 0.9607285261154175, 0.997323215007782]\n"
     ]
    }
   ],
   "source": [
    "# Predict with the best model.\n",
    "predicted_y = reg.predict([X_test[[\"GLTR Category 1\",\"GLTR Category 3\"]],X_test[\"response\"].to_numpy()])\n",
    "# Evaluate the best model with testing data.\n",
    "print(reg.evaluate([X_test[[\"GLTR Category 1\",\"GLTR Category 3\"]],X_test[\"response\"].to_numpy()], y_test))"
   ]
  },
  {
   "cell_type": "code",
   "execution_count": 36,
   "metadata": {
    "colab": {
     "base_uri": "https://localhost:8080/"
    },
    "id": "WitKGYjWygQY",
    "outputId": "e20daca5-dc1e-4e07-9212-19c522a3e92e"
   },
   "outputs": [
    {
     "name": "stdout",
     "output_type": "stream",
     "text": [
      "Model: \"model\"\n",
      "__________________________________________________________________________________________________\n",
      " Layer (type)                   Output Shape         Param #     Connected to                     \n",
      "==================================================================================================\n",
      " input_2 (InputLayer)           [(None,)]            0           []                               \n",
      "                                                                                                  \n",
      " expand_last_dim (ExpandLastDim  (None, 1)           0           ['input_2[0][0]']                \n",
      " )                                                                                                \n",
      "                                                                                                  \n",
      " text_vectorization (TextVector  (None, 64)          0           ['expand_last_dim[0][0]']        \n",
      " ization)                                                                                         \n",
      "                                                                                                  \n",
      " embedding (Embedding)          (None, 64, 128)      640128      ['text_vectorization[0][0]']     \n",
      "                                                                                                  \n",
      " dropout (Dropout)              (None, 64, 128)      0           ['embedding[0][0]']              \n",
      "                                                                                                  \n",
      " conv1d (Conv1D)                (None, 62, 32)       12320       ['dropout[0][0]']                \n",
      "                                                                                                  \n",
      " conv1d_1 (Conv1D)              (None, 60, 32)       3104        ['conv1d[0][0]']                 \n",
      "                                                                                                  \n",
      " max_pooling1d (MaxPooling1D)   (None, 30, 32)       0           ['conv1d_1[0][0]']               \n",
      "                                                                                                  \n",
      " conv1d_2 (Conv1D)              (None, 28, 32)       3104        ['max_pooling1d[0][0]']          \n",
      "                                                                                                  \n",
      " input_1 (InputLayer)           [(None, 2)]          0           []                               \n",
      "                                                                                                  \n",
      " conv1d_3 (Conv1D)              (None, 26, 32)       3104        ['conv1d_2[0][0]']               \n",
      "                                                                                                  \n",
      " dense (Dense)                  (None, 32)           96          ['input_1[0][0]']                \n",
      "                                                                                                  \n",
      " max_pooling1d_1 (MaxPooling1D)  (None, 13, 32)      0           ['conv1d_3[0][0]']               \n",
      "                                                                                                  \n",
      " batch_normalization (BatchNorm  (None, 32)          128         ['dense[0][0]']                  \n",
      " alization)                                                                                       \n",
      "                                                                                                  \n",
      " global_max_pooling1d (GlobalMa  (None, 32)          0           ['max_pooling1d_1[0][0]']        \n",
      " xPooling1D)                                                                                      \n",
      "                                                                                                  \n",
      " re_lu (ReLU)                   (None, 32)           0           ['batch_normalization[0][0]']    \n",
      "                                                                                                  \n",
      " dense_2 (Dense)                (None, 32)           1056        ['global_max_pooling1d[0][0]']   \n",
      "                                                                                                  \n",
      " dense_1 (Dense)                (None, 32)           1056        ['re_lu[0][0]']                  \n",
      "                                                                                                  \n",
      " re_lu_2 (ReLU)                 (None, 32)           0           ['dense_2[0][0]']                \n",
      "                                                                                                  \n",
      " batch_normalization_1 (BatchNo  (None, 32)          128         ['dense_1[0][0]']                \n",
      " rmalization)                                                                                     \n",
      "                                                                                                  \n",
      " dense_3 (Dense)                (None, 32)           1056        ['re_lu_2[0][0]']                \n",
      "                                                                                                  \n",
      " re_lu_1 (ReLU)                 (None, 32)           0           ['batch_normalization_1[0][0]']  \n",
      "                                                                                                  \n",
      " re_lu_3 (ReLU)                 (None, 32)           0           ['dense_3[0][0]']                \n",
      "                                                                                                  \n",
      " add (Add)                      (None, 32)           0           ['re_lu_1[0][0]',                \n",
      "                                                                  're_lu_3[0][0]']                \n",
      "                                                                                                  \n",
      " regression_head_1 (Dense)      (None, 1)            33          ['add[0][0]']                    \n",
      "                                                                                                  \n",
      "==================================================================================================\n",
      "Total params: 665,313\n",
      "Trainable params: 665,185\n",
      "Non-trainable params: 128\n",
      "__________________________________________________________________________________________________\n"
     ]
    },
    {
     "name": "stderr",
     "output_type": "stream",
     "text": [
      "WARNING:absl:Found untraced functions such as _jit_compiled_convolution_op, _jit_compiled_convolution_op, _jit_compiled_convolution_op, _jit_compiled_convolution_op while saving (showing 4 of 4). These functions will not be directly callable after loading.\n"
     ]
    },
    {
     "name": "stdout",
     "output_type": "stream",
     "text": [
      "INFO:tensorflow:Assets written to: model_autokeras_gltr_trials_8\\assets\n"
     ]
    },
    {
     "name": "stderr",
     "output_type": "stream",
     "text": [
      "INFO:tensorflow:Assets written to: model_autokeras_gltr_trials_8\\assets\n"
     ]
    }
   ],
   "source": [
    "# Export as a Keras Model.\n",
    "model = reg.export_model()\n",
    "model.summary()\n",
    "try:\n",
    "    model.save(\"model_autokeras_gltr_trials_8\", save_format=\"tf\")\n",
    "except Exception:\n",
    "    model.save(\"model_autokeras_gltr_trials_8\")"
   ]
  },
  {
   "cell_type": "code",
   "execution_count": 38,
   "metadata": {
    "colab": {
     "base_uri": "https://localhost:8080/"
    },
    "id": "dGICBFhUygQY",
    "outputId": "c1312add-3244-4e4e-e72b-555b24d50b13"
   },
   "outputs": [
    {
     "name": "stdout",
     "output_type": "stream",
     "text": [
      "627/627 [==============================] - 10s 16ms/step\n",
      "[[0.14909863]\n",
      " [0.53583705]\n",
      " [1.0175072 ]\n",
      " ...\n",
      " [1.0302348 ]\n",
      " [0.00203642]\n",
      " [0.01022002]]\n"
     ]
    }
   ],
   "source": [
    "import tensorflow as tf\n",
    "loaded_model = tf.keras.models.load_model(\"model_autokeras_gltr_trials_8\", custom_objects=ak.CUSTOM_OBJECTS)\n",
    "predicted_y = loaded_model.predict([X_test[[\"GLTR Category 1\",\"GLTR Category 3\"]],X_test[\"response\"].to_numpy()])\n",
    "print(predicted_y)"
   ]
  },
  {
   "cell_type": "markdown",
   "metadata": {
    "id": "HBQj35wnJcus"
   },
   "source": [
    "# Holdout Dataset Evaluation of Models\n",
    "\n",
    "First, the models will be wrapped in a Custom Class so that they can be added into an ensemble later"
   ]
  },
  {
   "cell_type": "code",
   "execution_count": 1,
   "metadata": {
    "id": "1W4C2q9VnDwl"
   },
   "outputs": [
    {
     "name": "stdout",
     "output_type": "stream",
     "text": [
      "Requirement already satisfied: tensorflow_text in c:\\users\\isabe\\anaconda3\\lib\\site-packages (2.10.0)\n",
      "Requirement already satisfied: tensorflow-hub>=0.8.0 in c:\\users\\isabe\\anaconda3\\lib\\site-packages (from tensorflow_text) (0.13.0)\n",
      "Requirement already satisfied: tensorflow<2.11,>=2.10.0 in c:\\users\\isabe\\anaconda3\\lib\\site-packages (from tensorflow_text) (2.10.1)\n",
      "Requirement already satisfied: gast<=0.4.0,>=0.2.1 in c:\\users\\isabe\\anaconda3\\lib\\site-packages (from tensorflow<2.11,>=2.10.0->tensorflow_text) (0.4.0)\n",
      "Requirement already satisfied: libclang>=13.0.0 in c:\\users\\isabe\\anaconda3\\lib\\site-packages (from tensorflow<2.11,>=2.10.0->tensorflow_text) (14.0.1)\n",
      "Requirement already satisfied: google-pasta>=0.1.1 in c:\\users\\isabe\\anaconda3\\lib\\site-packages (from tensorflow<2.11,>=2.10.0->tensorflow_text) (0.2.0)\n",
      "Requirement already satisfied: wrapt>=1.11.0 in c:\\users\\isabe\\anaconda3\\lib\\site-packages (from tensorflow<2.11,>=2.10.0->tensorflow_text) (1.12.1)\n",
      "Requirement already satisfied: termcolor>=1.1.0 in c:\\users\\isabe\\anaconda3\\lib\\site-packages (from tensorflow<2.11,>=2.10.0->tensorflow_text) (1.1.0)\n",
      "Requirement already satisfied: tensorboard<2.11,>=2.10 in c:\\users\\isabe\\anaconda3\\lib\\site-packages (from tensorflow<2.11,>=2.10.0->tensorflow_text) (2.10.1)\n",
      "Requirement already satisfied: grpcio<2.0,>=1.24.3 in c:\\users\\isabe\\anaconda3\\lib\\site-packages (from tensorflow<2.11,>=2.10.0->tensorflow_text) (1.36.1)\n",
      "Requirement already satisfied: six>=1.12.0 in c:\\users\\isabe\\anaconda3\\lib\\site-packages (from tensorflow<2.11,>=2.10.0->tensorflow_text) (1.16.0)"
     ]
    },
    {
     "name": "stderr",
     "output_type": "stream",
     "text": [
      "WARNING: Ignoring invalid distribution -rotobuf (c:\\users\\isabe\\anaconda3\\lib\\site-packages)\n",
      "WARNING: Ignoring invalid distribution -rotobuf (c:\\users\\isabe\\anaconda3\\lib\\site-packages)\n",
      "WARNING: Ignoring invalid distribution -rotobuf (c:\\users\\isabe\\anaconda3\\lib\\site-packages)\n",
      "WARNING: Ignoring invalid distribution -rotobuf (c:\\users\\isabe\\anaconda3\\lib\\site-packages)\n",
      "WARNING: Ignoring invalid distribution -rotobuf (c:\\users\\isabe\\anaconda3\\lib\\site-packages)\n",
      "WARNING: Ignoring invalid distribution -rotobuf (c:\\users\\isabe\\anaconda3\\lib\\site-packages)\n"
     ]
    },
    {
     "name": "stdout",
     "output_type": "stream",
     "text": [
      "\n",
      "Requirement already satisfied: packaging in c:\\users\\isabe\\anaconda3\\lib\\site-packages (from tensorflow<2.11,>=2.10.0->tensorflow_text) (20.9)\n",
      "Requirement already satisfied: protobuf<3.20,>=3.9.2 in c:\\users\\isabe\\anaconda3\\lib\\site-packages (from tensorflow<2.11,>=2.10.0->tensorflow_text) (3.19.6)\n",
      "Requirement already satisfied: h5py>=2.9.0 in c:\\users\\isabe\\anaconda3\\lib\\site-packages (from tensorflow<2.11,>=2.10.0->tensorflow_text) (2.10.0)\n",
      "Requirement already satisfied: typing-extensions>=3.6.6 in c:\\users\\isabe\\anaconda3\\lib\\site-packages (from tensorflow<2.11,>=2.10.0->tensorflow_text) (4.5.0)\n",
      "Requirement already satisfied: flatbuffers>=2.0 in c:\\users\\isabe\\anaconda3\\lib\\site-packages (from tensorflow<2.11,>=2.10.0->tensorflow_text) (23.3.3)\n",
      "Requirement already satisfied: tensorflow-estimator<2.11,>=2.10.0 in c:\\users\\isabe\\anaconda3\\lib\\site-packages (from tensorflow<2.11,>=2.10.0->tensorflow_text) (2.10.0)\n",
      "Requirement already satisfied: opt-einsum>=2.3.2 in c:\\users\\isabe\\anaconda3\\lib\\site-packages (from tensorflow<2.11,>=2.10.0->tensorflow_text) (3.3.0)\n",
      "Requirement already satisfied: keras-preprocessing>=1.1.1 in c:\\users\\isabe\\anaconda3\\lib\\site-packages (from tensorflow<2.11,>=2.10.0->tensorflow_text) (1.1.2)\n",
      "Requirement already satisfied: numpy>=1.20 in c:\\users\\isabe\\anaconda3\\lib\\site-packages (from tensorflow<2.11,>=2.10.0->tensorflow_text) (1.21.0)\n",
      "Requirement already satisfied: setuptools in c:\\users\\isabe\\anaconda3\\lib\\site-packages (from tensorflow<2.11,>=2.10.0->tensorflow_text) (52.0.0.post20210125)\n",
      "Requirement already satisfied: tensorflow-io-gcs-filesystem>=0.23.1 in c:\\users\\isabe\\anaconda3\\lib\\site-packages (from tensorflow<2.11,>=2.10.0->tensorflow_text) (0.26.0)\n",
      "Requirement already satisfied: astunparse>=1.6.0 in c:\\users\\isabe\\anaconda3\\lib\\site-packages (from tensorflow<2.11,>=2.10.0->tensorflow_text) (1.6.3)\n",
      "Requirement already satisfied: keras<2.11,>=2.10.0 in c:\\users\\isabe\\anaconda3\\lib\\site-packages (from tensorflow<2.11,>=2.10.0->tensorflow_text) (2.10.0)\n",
      "Requirement already satisfied: absl-py>=1.0.0 in c:\\users\\isabe\\anaconda3\\lib\\site-packages (from tensorflow<2.11,>=2.10.0->tensorflow_text) (1.1.0)\n",
      "Requirement already satisfied: wheel<1.0,>=0.23.0 in c:\\users\\isabe\\anaconda3\\lib\\site-packages (from astunparse>=1.6.0->tensorflow<2.11,>=2.10.0->tensorflow_text) (0.36.2)\n",
      "Requirement already satisfied: google-auth-oauthlib<0.5,>=0.4.1 in c:\\users\\isabe\\anaconda3\\lib\\site-packages (from tensorboard<2.11,>=2.10->tensorflow<2.11,>=2.10.0->tensorflow_text) (0.4.6)\n",
      "Requirement already satisfied: tensorboard-plugin-wit>=1.6.0 in c:\\users\\isabe\\anaconda3\\lib\\site-packages (from tensorboard<2.11,>=2.10->tensorflow<2.11,>=2.10.0->tensorflow_text) (1.6.0)\n",
      "Requirement already satisfied: tensorboard-data-server<0.7.0,>=0.6.0 in c:\\users\\isabe\\anaconda3\\lib\\site-packages (from tensorboard<2.11,>=2.10->tensorflow<2.11,>=2.10.0->tensorflow_text) (0.6.1)\n",
      "Requirement already satisfied: google-auth<3,>=1.6.3 in c:\\users\\isabe\\anaconda3\\lib\\site-packages (from tensorboard<2.11,>=2.10->tensorflow<2.11,>=2.10.0->tensorflow_text) (2.16.0)\n",
      "Requirement already satisfied: werkzeug>=1.0.1 in c:\\users\\isabe\\anaconda3\\lib\\site-packages (from tensorboard<2.11,>=2.10->tensorflow<2.11,>=2.10.0->tensorflow_text) (1.0.1)\n",
      "Requirement already satisfied: requests<3,>=2.21.0 in c:\\users\\isabe\\anaconda3\\lib\\site-packages (from tensorboard<2.11,>=2.10->tensorflow<2.11,>=2.10.0->tensorflow_text) (2.28.2)\n",
      "Requirement already satisfied: markdown>=2.6.8 in c:\\users\\isabe\\anaconda3\\lib\\site-packages (from tensorboard<2.11,>=2.10->tensorflow<2.11,>=2.10.0->tensorflow_text) (3.3.4)\n",
      "Requirement already satisfied: pyparsing>=2.0.2 in c:\\users\\isabe\\anaconda3\\lib\\site-packages (from packaging->tensorflow<2.11,>=2.10.0->tensorflow_text) (2.4.7)\n",
      "Requirement already satisfied: pyasn1-modules>=0.2.1 in c:\\users\\isabe\\anaconda3\\lib\\site-packages (from google-auth<3,>=1.6.3->tensorboard<2.11,>=2.10->tensorflow<2.11,>=2.10.0->tensorflow_text) (0.2.8)\n",
      "Requirement already satisfied: rsa<5,>=3.1.4 in c:\\users\\isabe\\anaconda3\\lib\\site-packages (from google-auth<3,>=1.6.3->tensorboard<2.11,>=2.10->tensorflow<2.11,>=2.10.0->tensorflow_text) (4.8)\n",
      "Requirement already satisfied: cachetools<6.0,>=2.0.0 in c:\\users\\isabe\\anaconda3\\lib\\site-packages (from google-auth<3,>=1.6.3->tensorboard<2.11,>=2.10->tensorflow<2.11,>=2.10.0->tensorflow_text) (4.2.2)\n",
      "Requirement already satisfied: requests-oauthlib>=0.7.0 in c:\\users\\isabe\\anaconda3\\lib\\site-packages (from google-auth-oauthlib<0.5,>=0.4.1->tensorboard<2.11,>=2.10->tensorflow<2.11,>=2.10.0->tensorflow_text) (1.3.0)\n",
      "Requirement already satisfied: certifi>=2017.4.17 in c:\\users\\isabe\\anaconda3\\lib\\site-packages (from requests<3,>=2.21.0->tensorboard<2.11,>=2.10->tensorflow<2.11,>=2.10.0->tensorflow_text) (2022.12.7)\n",
      "Requirement already satisfied: urllib3<1.27,>=1.21.1 in c:\\users\\isabe\\anaconda3\\lib\\site-packages (from requests<3,>=2.21.0->tensorboard<2.11,>=2.10->tensorflow<2.11,>=2.10.0->tensorflow_text) (1.26.14)\n",
      "Requirement already satisfied: charset-normalizer<4,>=2 in c:\\users\\isabe\\anaconda3\\lib\\site-packages (from requests<3,>=2.21.0->tensorboard<2.11,>=2.10->tensorflow<2.11,>=2.10.0->tensorflow_text) (3.0.1)\n",
      "Requirement already satisfied: idna<4,>=2.5 in c:\\users\\isabe\\anaconda3\\lib\\site-packages (from requests<3,>=2.21.0->tensorboard<2.11,>=2.10->tensorflow<2.11,>=2.10.0->tensorflow_text) (3.4)\n",
      "Requirement already satisfied: pyasn1<0.5.0,>=0.4.6 in c:\\users\\isabe\\anaconda3\\lib\\site-packages (from pyasn1-modules>=0.2.1->google-auth<3,>=1.6.3->tensorboard<2.11,>=2.10->tensorflow<2.11,>=2.10.0->tensorflow_text) (0.4.8)\n",
      "Requirement already satisfied: oauthlib>=3.0.0 in c:\\users\\isabe\\anaconda3\\lib\\site-packages (from requests-oauthlib>=0.7.0->google-auth-oauthlib<0.5,>=0.4.1->tensorboard<2.11,>=2.10->tensorflow<2.11,>=2.10.0->tensorflow_text) (3.2.0)\n",
      "Collecting git+https://github.com/keras-team/keras-tuner.git\n",
      "  Cloning https://github.com/keras-team/keras-tuner.git to c:\\users\\isabe\\appdata\\local\\temp\\pip-req-build-0dydxicq\n"
     ]
    },
    {
     "name": "stderr",
     "output_type": "stream",
     "text": [
      "WARNING: Ignoring invalid distribution -rotobuf (c:\\users\\isabe\\anaconda3\\lib\\site-packages)\n",
      "WARNING: Ignoring invalid distribution -rotobuf (c:\\users\\isabe\\anaconda3\\lib\\site-packages)\n",
      "  Running command git clone --filter=blob:none --quiet https://github.com/keras-team/keras-tuner.git 'C:\\Users\\isabe\\AppData\\Local\\Temp\\pip-req-build-0dydxicq'\n",
      "  fatal: unable to access 'https://github.com/keras-team/keras-tuner.git/': Could not resolve host: github.com\n",
      "  error: subprocess-exited-with-error\n",
      "  \n",
      "  git clone --filter=blob:none --quiet https://github.com/keras-team/keras-tuner.git 'C:\\Users\\isabe\\AppData\\Local\\Temp\\pip-req-build-0dydxicq' did not run successfully.\n",
      "  exit code: 128\n",
      "  \n",
      "  See above for output.\n",
      "  \n",
      "  note: This error originates from a subprocess, and is likely not a problem with pip.\n",
      "error: subprocess-exited-with-error\n",
      "\n",
      "git clone --filter=blob:none --quiet https://github.com/keras-team/keras-tuner.git 'C:\\Users\\isabe\\AppData\\Local\\Temp\\pip-req-build-0dydxicq' did not run successfully.\n",
      "exit code: 128\n",
      "\n",
      "See above for output.\n",
      "\n",
      "note: This error originates from a subprocess, and is likely not a problem with pip.\n",
      "WARNING: Ignoring invalid distribution -rotobuf (c:\\users\\isabe\\anaconda3\\lib\\site-packages)\n",
      "WARNING: Ignoring invalid distribution -rotobuf (c:\\users\\isabe\\anaconda3\\lib\\site-packages)\n",
      "WARNING: Ignoring invalid distribution -rotobuf (c:\\users\\isabe\\anaconda3\\lib\\site-packages)\n"
     ]
    },
    {
     "name": "stdout",
     "output_type": "stream",
     "text": [
      "Requirement already satisfied: autokeras in c:\\users\\isabe\\anaconda3\\lib\\site-packages (1.1.0)\n",
      "Requirement already satisfied: keras-tuner>=1.1.0 in c:\\users\\isabe\\anaconda3\\lib\\site-packages (from autokeras) (1.3.4)\n",
      "Requirement already satisfied: keras-nlp>=0.4.0 in c:\\users\\isabe\\anaconda3\\lib\\site-packages (from autokeras) (0.4.1)\n",
      "Requirement already satisfied: packaging in c:\\users\\isabe\\anaconda3\\lib\\site-packages (from autokeras) (20.9)\n",
      "Requirement already satisfied: tensorflow>=2.8.0 in c:\\users\\isabe\\anaconda3\\lib\\site-packages (from autokeras) (2.10.1)\n",
      "Requirement already satisfied: pandas in c:\\users\\isabe\\anaconda3\\lib\\site-packages (from autokeras) (1.5.1)\n",
      "Requirement already satisfied: absl-py in c:\\users\\isabe\\anaconda3\\lib\\site-packages (from keras-nlp>=0.4.0->autokeras) (1.1.0)\n",
      "Requirement already satisfied: numpy in c:\\users\\isabe\\anaconda3\\lib\\site-packages (from keras-nlp>=0.4.0->autokeras) (1.21.0)\n",
      "Requirement already satisfied: tensorflow-text in c:\\users\\isabe\\anaconda3\\lib\\site-packages (from keras-nlp>=0.4.0->autokeras) (2.10.0)\n",
      "Requirement already satisfied: protobuf<=3.20.3 in c:\\users\\isabe\\anaconda3\\lib\\site-packages (from keras-tuner>=1.1.0->autokeras) (3.19.6)\n",
      "Requirement already satisfied: kt-legacy in c:\\users\\isabe\\anaconda3\\lib\\site-packages (from keras-tuner>=1.1.0->autokeras) (1.0.4)\n",
      "Requirement already satisfied: requests in c:\\users\\isabe\\anaconda3\\lib\\site-packages (from keras-tuner>=1.1.0->autokeras) (2.28.2)\n",
      "Requirement already satisfied: keras<2.11,>=2.10.0 in c:\\users\\isabe\\anaconda3\\lib\\site-packages (from tensorflow>=2.8.0->autokeras) (2.10.0)\n",
      "Requirement already satisfied: astunparse>=1.6.0 in c:\\users\\isabe\\anaconda3\\lib\\site-packages (from tensorflow>=2.8.0->autokeras) (1.6.3)\n",
      "Requirement already satisfied: six>=1.12.0 in c:\\users\\isabe\\anaconda3\\lib\\site-packages (from tensorflow>=2.8.0->autokeras) (1.16.0)\n",
      "Requirement already satisfied: flatbuffers>=2.0 in c:\\users\\isabe\\anaconda3\\lib\\site-packages (from tensorflow>=2.8.0->autokeras) (23.3.3)\n",
      "Requirement already satisfied: tensorflow-io-gcs-filesystem>=0.23.1 in c:\\users\\isabe\\anaconda3\\lib\\site-packages (from tensorflow>=2.8.0->autokeras) (0.26.0)\n",
      "Requirement already satisfied: google-pasta>=0.1.1 in c:\\users\\isabe\\anaconda3\\lib\\site-packages (from tensorflow>=2.8.0->autokeras) (0.2.0)\n",
      "Requirement already satisfied: libclang>=13.0.0 in c:\\users\\isabe\\anaconda3\\lib\\site-packages (from tensorflow>=2.8.0->autokeras) (14.0.1)\n",
      "Requirement already satisfied: setuptools in c:\\users\\isabe\\anaconda3\\lib\\site-packages (from tensorflow>=2.8.0->autokeras) (52.0.0.post20210125)\n",
      "Requirement already satisfied: h5py>=2.9.0 in c:\\users\\isabe\\anaconda3\\lib\\site-packages (from tensorflow>=2.8.0->autokeras) (2.10.0)\n",
      "Requirement already satisfied: keras-preprocessing>=1.1.1 in c:\\users\\isabe\\anaconda3\\lib\\site-packages (from tensorflow>=2.8.0->autokeras) (1.1.2)\n",
      "Requirement already satisfied: tensorflow-estimator<2.11,>=2.10.0 in c:\\users\\isabe\\anaconda3\\lib\\site-packages (from tensorflow>=2.8.0->autokeras) (2.10.0)\n",
      "Requirement already satisfied: wrapt>=1.11.0 in c:\\users\\isabe\\anaconda3\\lib\\site-packages (from tensorflow>=2.8.0->autokeras) (1.12.1)\n",
      "Requirement already satisfied: tensorboard<2.11,>=2.10 in c:\\users\\isabe\\anaconda3\\lib\\site-packages (from tensorflow>=2.8.0->autokeras) (2.10.1)\n",
      "Requirement already satisfied: opt-einsum>=2.3.2 in c:\\users\\isabe\\anaconda3\\lib\\site-packages (from tensorflow>=2.8.0->autokeras) (3.3.0)\n",
      "Requirement already satisfied: gast<=0.4.0,>=0.2.1 in c:\\users\\isabe\\anaconda3\\lib\\site-packages (from tensorflow>=2.8.0->autokeras) (0.4.0)\n",
      "Requirement already satisfied: grpcio<2.0,>=1.24.3 in c:\\users\\isabe\\anaconda3\\lib\\site-packages (from tensorflow>=2.8.0->autokeras) (1.36.1)\n",
      "Requirement already satisfied: typing-extensions>=3.6.6 in c:\\users\\isabe\\anaconda3\\lib\\site-packages (from tensorflow>=2.8.0->autokeras) (4.5.0)\n",
      "Requirement already satisfied: termcolor>=1.1.0 in c:\\users\\isabe\\anaconda3\\lib\\site-packages (from tensorflow>=2.8.0->autokeras) (1.1.0)\n",
      "Requirement already satisfied: pyparsing>=2.0.2 in c:\\users\\isabe\\anaconda3\\lib\\site-packages (from packaging->autokeras) (2.4.7)\n",
      "Requirement already satisfied: python-dateutil>=2.8.1 in c:\\users\\isabe\\anaconda3\\lib\\site-packages (from pandas->autokeras) (2.8.1)\n",
      "Requirement already satisfied: pytz>=2020.1 in c:\\users\\isabe\\anaconda3\\lib\\site-packages (from pandas->autokeras) (2021.1)\n",
      "Requirement already satisfied: wheel<1.0,>=0.23.0 in c:\\users\\isabe\\anaconda3\\lib\\site-packages (from astunparse>=1.6.0->tensorflow>=2.8.0->autokeras) (0.36.2)\n",
      "Requirement already satisfied: tensorboard-data-server<0.7.0,>=0.6.0 in c:\\users\\isabe\\anaconda3\\lib\\site-packages (from tensorboard<2.11,>=2.10->tensorflow>=2.8.0->autokeras) (0.6.1)\n",
      "Requirement already satisfied: google-auth-oauthlib<0.5,>=0.4.1 in c:\\users\\isabe\\anaconda3\\lib\\site-packages (from tensorboard<2.11,>=2.10->tensorflow>=2.8.0->autokeras) (0.4.6)\n",
      "Requirement already satisfied: markdown>=2.6.8 in c:\\users\\isabe\\anaconda3\\lib\\site-packages (from tensorboard<2.11,>=2.10->tensorflow>=2.8.0->autokeras) (3.3.4)\n",
      "Requirement already satisfied: google-auth<3,>=1.6.3 in c:\\users\\isabe\\anaconda3\\lib\\site-packages (from tensorboard<2.11,>=2.10->tensorflow>=2.8.0->autokeras) (2.16.0)"
     ]
    },
    {
     "name": "stderr",
     "output_type": "stream",
     "text": [
      "WARNING: Ignoring invalid distribution -rotobuf (c:\\users\\isabe\\anaconda3\\lib\\site-packages)\n",
      "WARNING: Ignoring invalid distribution -rotobuf (c:\\users\\isabe\\anaconda3\\lib\\site-packages)\n",
      "WARNING: Ignoring invalid distribution -rotobuf (c:\\users\\isabe\\anaconda3\\lib\\site-packages)\n",
      "WARNING: Ignoring invalid distribution -rotobuf (c:\\users\\isabe\\anaconda3\\lib\\site-packages)\n",
      "WARNING: Ignoring invalid distribution -rotobuf (c:\\users\\isabe\\anaconda3\\lib\\site-packages)\n",
      "WARNING: Ignoring invalid distribution -rotobuf (c:\\users\\isabe\\anaconda3\\lib\\site-packages)\n"
     ]
    },
    {
     "name": "stdout",
     "output_type": "stream",
     "text": [
      "\n",
      "Requirement already satisfied: tensorboard-plugin-wit>=1.6.0 in c:\\users\\isabe\\anaconda3\\lib\\site-packages (from tensorboard<2.11,>=2.10->tensorflow>=2.8.0->autokeras) (1.6.0)\n",
      "Requirement already satisfied: werkzeug>=1.0.1 in c:\\users\\isabe\\anaconda3\\lib\\site-packages (from tensorboard<2.11,>=2.10->tensorflow>=2.8.0->autokeras) (1.0.1)\n",
      "Requirement already satisfied: urllib3<1.27,>=1.21.1 in c:\\users\\isabe\\anaconda3\\lib\\site-packages (from requests->keras-tuner>=1.1.0->autokeras) (1.26.14)\n",
      "Requirement already satisfied: idna<4,>=2.5 in c:\\users\\isabe\\anaconda3\\lib\\site-packages (from requests->keras-tuner>=1.1.0->autokeras) (3.4)\n",
      "Requirement already satisfied: charset-normalizer<4,>=2 in c:\\users\\isabe\\anaconda3\\lib\\site-packages (from requests->keras-tuner>=1.1.0->autokeras) (3.0.1)\n",
      "Requirement already satisfied: certifi>=2017.4.17 in c:\\users\\isabe\\anaconda3\\lib\\site-packages (from requests->keras-tuner>=1.1.0->autokeras) (2022.12.7)\n",
      "Requirement already satisfied: tensorflow-hub>=0.8.0 in c:\\users\\isabe\\anaconda3\\lib\\site-packages (from tensorflow-text->keras-nlp>=0.4.0->autokeras) (0.13.0)\n",
      "Requirement already satisfied: cachetools<6.0,>=2.0.0 in c:\\users\\isabe\\anaconda3\\lib\\site-packages (from google-auth<3,>=1.6.3->tensorboard<2.11,>=2.10->tensorflow>=2.8.0->autokeras) (4.2.2)\n",
      "Requirement already satisfied: rsa<5,>=3.1.4 in c:\\users\\isabe\\anaconda3\\lib\\site-packages (from google-auth<3,>=1.6.3->tensorboard<2.11,>=2.10->tensorflow>=2.8.0->autokeras) (4.8)\n",
      "Requirement already satisfied: pyasn1-modules>=0.2.1 in c:\\users\\isabe\\anaconda3\\lib\\site-packages (from google-auth<3,>=1.6.3->tensorboard<2.11,>=2.10->tensorflow>=2.8.0->autokeras) (0.2.8)\n",
      "Requirement already satisfied: requests-oauthlib>=0.7.0 in c:\\users\\isabe\\anaconda3\\lib\\site-packages (from google-auth-oauthlib<0.5,>=0.4.1->tensorboard<2.11,>=2.10->tensorflow>=2.8.0->autokeras) (1.3.0)\n",
      "Requirement already satisfied: pyasn1<0.5.0,>=0.4.6 in c:\\users\\isabe\\anaconda3\\lib\\site-packages (from pyasn1-modules>=0.2.1->google-auth<3,>=1.6.3->tensorboard<2.11,>=2.10->tensorflow>=2.8.0->autokeras) (0.4.8)\n",
      "Requirement already satisfied: oauthlib>=3.0.0 in c:\\users\\isabe\\anaconda3\\lib\\site-packages (from requests-oauthlib>=0.7.0->google-auth-oauthlib<0.5,>=0.4.1->tensorboard<2.11,>=2.10->tensorflow>=2.8.0->autokeras) (3.2.0)\n"
     ]
    }
   ],
   "source": [
    "#For RNN Feature Classifier\n",
    "!pip install tensorflow_text\n",
    "!pip install git+https://github.com/keras-team/keras-tuner.git\n",
    "!pip install autokeras"
   ]
  },
  {
   "cell_type": "code",
   "execution_count": 2,
   "metadata": {
    "id": "1IpdwimrVOQz"
   },
   "outputs": [],
   "source": [
    "\"\"\"\n",
    "!pip install tensorflow_text\n",
    "!pip install git+https://github.com/keras-team/keras-tuner.git\n",
    "!pip install autokeras\n",
    "\"\"\"\n",
    "import autokeras as ak\n",
    "\n",
    "from sklearn.base import BaseEstimator, ClassifierMixin, TransformerMixin\n",
    "from sklearn.pipeline import Pipeline\n",
    "from tensorflow.keras.models import load_model\n",
    "\n",
    "import tensorflow as tf\n",
    "import numpy as np\n",
    "import tensorflow_hub as hub\n",
    "import tensorflow_text as text\n",
    "from tensorflow.keras.models import load_model\n",
    "\n",
    "def flatten(l):\n",
    "    return [item for sublist in l for item in sublist]\n",
    "\n",
    "def process_output(preds):\n",
    "    flattened_pred = flatten(preds)\n",
    "    output = tf.constant(flattened_pred)\n",
    "    return tf.math.sigmoid(output).numpy().tolist()\n",
    "\n",
    "class RNNPerplexityClassifier(BaseEstimator, ClassifierMixin):\n",
    "    def __init__(self, path, path_scaler):\n",
    "        self.scaler = pickle.load(open(path_scaler, 'rb'))\n",
    "        self.model=load_model(path,custom_objects={'KerasLayer':hub.KerasLayer})\n",
    "    \n",
    "    def predict(self, X, y=None):\n",
    "        processed_X = self.process(X)\n",
    "        return process_output(self.model.predict(processed_X))\n",
    "\n",
    "    #Add any custom transformers as needed to produce the X input format your model needs \n",
    "    def process(self, X, y=None):\n",
    "        X_copy = X.copy()\n",
    "        X_copy[\"Mean Perplexity\"] = scaler.transform(np.array(X_copy[\"Mean Perplexity\"]).reshape(-1,1))\n",
    "        output = [np.asarray(X_copy[\"Mean Perplexity\"].values).astype('float32'), X_copy[\"response\"].values]\n",
    "        return output\n",
    "\n",
    "class CNNPerplexityClassifier(BaseEstimator, ClassifierMixin):\n",
    "    def __init__(self, path):\n",
    "        self.model=load_model(path,custom_objects=ak.CUSTOM_OBJECTS)\n",
    "    \n",
    "    def predict(self, X, y=None):\n",
    "        processed_X = self.process(X)\n",
    "        return process_output(self.model.predict(processed_X))\n",
    "\n",
    "    #Add any custom transformers as needed to produce the X input format your model needs \n",
    "    def process(self, X, y=None):\n",
    "        output = [X[[\"Mean Perplexity\"]],X[\"response\"].to_numpy()]\n",
    "        return output\n",
    "\n",
    "class CNNGLTRClassifier(BaseEstimator, ClassifierMixin):\n",
    "    def __init__(self, path):\n",
    "        self.model=load_model(path,custom_objects=ak.CUSTOM_OBJECTS)\n",
    "    \n",
    "    def predict(self, X, y=None):\n",
    "        processed_X = self.process(X)\n",
    "        return process_output(self.model.predict(processed_X))\n",
    "    \n",
    "    #Add any custom transformers as needed to produce the X input format your model needs \n",
    "    def process(self, X, y=None):\n",
    "        output = [X[[\"GLTR Category 1\",\"GLTR Category 3\"]],X[\"response\"].to_numpy()]\n",
    "        return output\n",
    "\n",
    "class CNNTextClassifier(BaseEstimator, ClassifierMixin):\n",
    "    def __init__(self, path):\n",
    "        self.model=load_model(path,custom_objects=ak.CUSTOM_OBJECTS)\n",
    "    \n",
    "    def predict(self, X, y=None):\n",
    "        processed_X = self.process(X)\n",
    "        return process_output(self.model.predict(processed_X))\n",
    "    \n",
    "    #Add any custom transformers as needed to produce the X input format your model needs \n",
    "    def process(self, X, y=None):\n",
    "        output = X[\"response\"].to_numpy()\n",
    "        return output"
   ]
  },
  {
   "cell_type": "code",
   "execution_count": null,
   "metadata": {},
   "outputs": [],
   "source": [
    "import pickle\n",
    "from pickle import load\n",
    "rnn_perplexity_classifier = RNNPerplexityClassifier(\"rnn_features_model_scaled.h5\", \"scaler.pkl\")\n",
    "cnn_gltr_classifier = CNNGLTRClassifier(\"model_autokeras_gltr_trials_8\")\n",
    "cnn_perplexity_classifier = CNNPerplexityClassifier(current_directory+\"/model_autokeras_vanilla\")\n",
    "cnn_text_classifier = CNNTextClassifier(current_directory+\"/model_autokeras_vanilla_text_only\")"
   ]
  },
  {
   "cell_type": "markdown",
   "metadata": {
    "id": "7hegIoyplVWW"
   },
   "source": [
    "Load holdout data and Normalise the columns\n",
    "\n",
    "\n",
    "*   GLTR, Subjectivity is from 0 to 1\n",
    "\n"
   ]
  },
  {
   "cell_type": "code",
   "execution_count": 16,
   "metadata": {
    "colab": {
     "base_uri": "https://localhost:8080/",
     "height": 81
    },
    "id": "qEb6E6VH5TAq",
    "outputId": "ccfb66b1-2fc2-4709-cad4-9c4791b16a80"
   },
   "outputs": [
    {
     "name": "stdout",
     "output_type": "stream",
     "text": [
      "9998\n"
     ]
    },
    {
     "data": {
      "text/html": [
       "<div>\n",
       "<style scoped>\n",
       "    .dataframe tbody tr th:only-of-type {\n",
       "        vertical-align: middle;\n",
       "    }\n",
       "\n",
       "    .dataframe tbody tr th {\n",
       "        vertical-align: top;\n",
       "    }\n",
       "\n",
       "    .dataframe thead th {\n",
       "        text-align: right;\n",
       "    }\n",
       "</style>\n",
       "<table border=\"1\" class=\"dataframe\">\n",
       "  <thead>\n",
       "    <tr style=\"text-align: right;\">\n",
       "      <th></th>\n",
       "      <th>response</th>\n",
       "      <th>Label</th>\n",
       "      <th>GLTR Category 1</th>\n",
       "      <th>GLTR Category 3</th>\n",
       "      <th>sum_mistakes</th>\n",
       "      <th>TextBlob_Subjectivity</th>\n",
       "      <th>Formality Score</th>\n",
       "    </tr>\n",
       "  </thead>\n",
       "  <tbody>\n",
       "    <tr>\n",
       "      <th>0</th>\n",
       "      <td>We don't exactly know, but there are some good...</td>\n",
       "      <td>0.0</td>\n",
       "      <td>0.675127</td>\n",
       "      <td>0.045685</td>\n",
       "      <td>2</td>\n",
       "      <td>0.55911</td>\n",
       "      <td>66.129032</td>\n",
       "    </tr>\n",
       "  </tbody>\n",
       "</table>\n",
       "</div>"
      ],
      "text/plain": [
       "                                            response  Label  GLTR Category 1  \\\n",
       "0  We don't exactly know, but there are some good...    0.0         0.675127   \n",
       "\n",
       "   GLTR Category 3  sum_mistakes  TextBlob_Subjectivity  Formality Score  \n",
       "0         0.045685             2                0.55911        66.129032  "
      ]
     },
     "execution_count": 16,
     "metadata": {},
     "output_type": "execute_result"
    }
   ],
   "source": [
    "import pandas as pd\n",
    "df = pd.read_csv(\"holdout_with_features.csv\", encoding=\"latin1\")\n",
    "df.dropna(inplace=True)\n",
    "print(len(df))\n",
    "df.head(1)"
   ]
  },
  {
   "cell_type": "code",
   "execution_count": 17,
   "metadata": {
    "id": "35_s4iwWgOz-"
   },
   "outputs": [],
   "source": [
    "X = df.drop(\"Label\",axis=1)\n",
    "y = df['Label'].values"
   ]
  },
  {
   "cell_type": "code",
   "execution_count": 18,
   "metadata": {
    "colab": {
     "base_uri": "https://localhost:8080/",
     "height": 447
    },
    "id": "fAwSeQ6hY05A",
    "outputId": "5a42c306-5753-4498-8a91-9b43a86c256a"
   },
   "outputs": [
    {
     "data": {
      "image/png": "[encoded data removed]",
      "text/plain": [
       "<Figure size 432x288 with 1 Axes>"
      ]
     },
     "metadata": {
      "needs_background": "light"
     },
     "output_type": "display_data"
    }
   ],
   "source": [
    "import matplotlib.pyplot as plt\n",
    "count_Class=pd.value_counts(df[\"Label\"], sort= True)\n",
    "count_Class.plot(kind = 'bar',color = [\"green\",\"red\"])\n",
    "plt.title('Distribution of classes where 1 is CHATGPT text')\n",
    "plt.show()"
   ]
  },
  {
   "cell_type": "markdown",
   "metadata": {
    "id": "gk-Lt9p_CRU3"
   },
   "source": [
    "Get Predictions"
   ]
  },
  {
   "cell_type": "code",
   "execution_count": 9,
   "metadata": {
    "id": "sy5bm6epyvFQ"
   },
   "outputs": [],
   "source": [
    "from sklearn.metrics import classification_report,accuracy_score,f1_score,roc_auc_score  \n",
    "\n",
    "def evaluate(pred, y_true, threshold):\n",
    "  y_pred = np.array(pred)\n",
    "  discrete = (y_pred > threshold).astype(\"int32\")\n",
    "  print(f\"Accuracy: {accuracy_score(y,discrete)}\")\n",
    "  print(f\"F1: {f1_score(y,discrete)}\")\n",
    "  print(f\"ROC_AUC: {roc_auc_score(y, discrete)}\")\n",
    "  print(classification_report(discrete, y, target_names=[\"Human\", \"ChatGPT\"]))"
   ]
  },
  {
   "cell_type": "code",
   "execution_count": 103,
   "metadata": {
    "colab": {
     "base_uri": "https://localhost:8080/"
    },
    "id": "mMxolD0DLP3D",
    "outputId": "de6ebefb-cbca-4301-fcf7-b9abd5a2ea6d"
   },
   "outputs": [
    {
     "name": "stdout",
     "output_type": "stream",
     "text": [
      "63/63 [==============================] - 121s 2s/step\n",
      "[0.534501314163208, 0.5541765093803406, 0.6031655669212341, 0.6157630681991577, 0.5016422271728516, 0.5669768452644348, 0.5684290528297424, 0.55460524559021, 0.6762598156929016, 0.5732190012931824, 0.6748241782188416, 0.6525423526763916, 0.5252470374107361, 0.5074205994606018, 0.6482102274894714, 0.6738503575325012, 0.54572993516922, 0.7022880911827087, 0.7087754011154175, 0.5020495057106018, 0.5464333891868591, 0.6624442934989929, 0.5150589942932129, 0.5770308375358582, 0.5909184217453003, 0.6896339654922485, 0.6138420104980469, 0.703224778175354, 0.700749933719635, 0.5165201425552368, 0.6002991199493408, 0.5032476782798767, 0.5532737970352173, 0.5120661854743958, 0.5472753643989563, 0.536686897277832, 0.5430112481117249, 0.6648132801055908, 0.6449872255325317, 0.6247196197509766, 0.5583117604255676, 0.6229626536369324, 0.6571893692016602, 0.5592857599258423, 0.5405129790306091, 0.5482180714607239, 0.5045838356018066, 0.5591244697570801, 0.537520706653595, 0.6996846795082092, 0.5114138722419739, 0.5570633411407471, 0.625170886516571, 0.5299723744392395, 0.5409922003746033, 0.5188426375389099, 0.6461145281791687, 0.5420833230018616, 0.5377079844474792, 0.5707968473434448, 0.5066395401954651, 0.5933170318603516, 0.5845615267753601, 0.5008246898651123, 0.5038707256317139, 0.52456134557724, 0.500840425491333, 0.569575309753418, 0.5006492733955383, 0.5520288944244385, 0.6434933543205261, 0.6445743441581726, 0.5286462306976318, 0.6206729412078857, 0.7068231701850891, 0.5106181502342224, 0.6462234258651733, 0.688800036907196, 0.542964518070221, 0.573210597038269, 0.7222586274147034, 0.6828283667564392, 0.7114591002464294, 0.5247763395309448, 0.5404139757156372, 0.6296135187149048, 0.5393365621566772, 0.5316921472549438, 0.6779007315635681, 0.6512383222579956, 0.5386887788772583, 0.5142710208892822, 0.5471920371055603, 0.5244620442390442, 0.5949652194976807, 0.545864462852478, 0.5261415243148804, 0.7133418917655945, 0.5951767563819885, 0.6920505166053772, 0.6050879955291748, 0.603359580039978, 0.5603266358375549, 0.5025048851966858, 0.6178762912750244, 0.6147900223731995, 0.534423291683197, 0.5472815036773682, 0.5590724945068359, 0.6822205185890198, 0.5042471885681152, 0.6168232560157776, 0.7173835039138794, 0.5346533060073853, 0.5368545651435852, 0.5532905459403992, 0.5168018341064453, 0.6043084859848022, 0.5222627520561218, 0.5371943116188049, 0.5303780436515808, 0.6376452445983887, 0.5304125547409058, 0.6720813512802124, 0.5501950979232788, 0.5454864501953125, 0.623786449432373, 0.5477134585380554, 0.5393961071968079, 0.5416746735572815, 0.7083563208580017, 0.5470998883247375, 0.5479914546012878, 0.6218270659446716, 0.5400963425636292, 0.5127040147781372, 0.5457656383514404, 0.6312555074691772, 0.5928694009780884, 0.5005413293838501, 0.5600711107254028, 0.5994158983230591, 0.6800705790519714, 0.6204978227615356, 0.5288575291633606, 0.5571492314338684, 0.5033579468727112, 0.6216318011283875, 0.5187596082687378, 0.5583553314208984, 0.5437702536582947, 0.6573627591133118, 0.5121039748191833, 0.7016311883926392, 0.5345922708511353, 0.5557501316070557, 0.5484451651573181, 0.5624533891677856, 0.5259345769882202, 0.6434155106544495, 0.5246989727020264, 0.70513516664505, 0.6504819989204407, 0.5026317238807678, 0.5408771634101868, 0.500426709651947, 0.715641438961029, 0.6283411383628845, 0.5004926919937134, 0.6994004249572754, 0.6633986234664917, 0.5026142001152039, 0.501598060131073, 0.649986743927002, 0.520194947719574, 0.6942359209060669, 0.5058255791664124, 0.5367706418037415, 0.6794306039810181, 0.6869652271270752, 0.5866991281509399, 0.6020416021347046, 0.5030319094657898, 0.5326594710350037, 0.5461437106132507, 0.5556362271308899, 0.5027897357940674, 0.5669393539428711, 0.613536536693573, 0.5203980207443237, 0.6426774859428406, 0.6859027743339539, 0.5004196763038635, 0.5897903442382812, 0.6178491115570068, 0.6242988705635071, 0.6604601144790649, 0.5555804967880249, 0.5230599045753479, 0.5055336952209473, 0.5405817031860352, 0.6330186128616333, 0.5024678111076355, 0.6490322947502136, 0.6865572333335876, 0.5675418972969055, 0.5384120941162109, 0.6057671308517456, 0.5235421657562256, 0.5400519967079163, 0.5361990332603455, 0.5432780385017395, 0.5582188963890076, 0.6840255260467529, 0.5541706085205078, 0.510718584060669, 0.5107320547103882, 0.5050857067108154, 0.6786222457885742, 0.6665501594543457, 0.6653249859809875, 0.5504680871963501, 0.5836511850357056, 0.5092341303825378, 0.6761365532875061, 0.5560129880905151, 0.5358563661575317, 0.5741674900054932, 0.517737627029419, 0.6632103323936462, 0.5334961414337158, 0.5762470960617065, 0.5366056561470032, 0.6680467128753662, 0.5202479958534241, 0.5198488831520081, 0.5204856395721436, 0.5176103711128235, 0.689746081829071, 0.6630081534385681, 0.5262487530708313, 0.5459359884262085, 0.5447129607200623, 0.5268116593360901, 0.5025511384010315, 0.5243371725082397, 0.5260363817214966, 0.5433894991874695, 0.5278876423835754, 0.5846154689788818, 0.609958291053772, 0.6391598582267761, 0.5013968348503113, 0.6160526275634766, 0.7016609311103821, 0.6698014736175537, 0.5947417616844177, 0.5016053915023804, 0.5982831120491028, 0.5349298119544983, 0.5501328110694885, 0.7062992453575134, 0.7022642493247986, 0.5341465473175049, 0.6899796724319458, 0.6146612763404846, 0.7045202851295471, 0.5082314610481262, 0.5688833594322205, 0.5155618190765381, 0.5612009763717651, 0.5122096538543701, 0.6846839785575867, 0.5408087968826294, 0.5143497586250305, 0.5017813444137573, 0.6837983727455139, 0.5048136115074158, 0.662058413028717, 0.534430205821991, 0.5327534079551697, 0.5357356071472168, 0.6330891847610474, 0.6272618174552917, 0.5024509429931641, 0.6643726825714111, 0.5589439868927002, 0.5402269959449768, 0.5499999523162842, 0.5466293096542358, 0.5496237874031067, 0.5540148019790649, 0.5156302452087402, 0.6020603179931641, 0.7112874388694763, 0.6139072775840759, 0.6518917679786682, 0.5861050486564636, 0.6914130449295044, 0.6552937626838684, 0.6796811819076538, 0.5911816954612732, 0.6037225723266602, 0.5041497945785522, 0.6505869030952454, 0.5234778523445129, 0.5567309856414795, 0.5638748407363892, 0.5564368963241577, 0.6571674942970276, 0.5050992369651794, 0.5403144955635071, 0.5545684695243835, 0.5592563152313232, 0.5473502278327942, 0.7094253301620483, 0.5210920572280884, 0.5485779047012329, 0.5294726490974426, 0.59478759765625, 0.5197547674179077, 0.5408508777618408, 0.5426684021949768, 0.5415347814559937, 0.5225064158439636, 0.7016695737838745, 0.6350753307342529, 0.6741304993629456, 0.6307157278060913, 0.5305950045585632, 0.5126921534538269, 0.5569077730178833, 0.6927692294120789, 0.6888810396194458, 0.634145975112915, 0.5095367431640625, 0.5041514039039612, 0.5253607034683228, 0.5064517259597778, 0.6043739318847656, 0.6879959106445312, 0.5469645857810974, 0.5315251350402832, 0.5619831085205078, 0.6056933403015137, 0.7113857269287109, 0.5184755921363831, 0.508334219455719, 0.6591452360153198, 0.5873596668243408, 0.5528441667556763, 0.6098471879959106, 0.5516629219055176, 0.503052830696106, 0.5015386343002319, 0.6841540932655334, 0.5064935684204102, 0.5493844151496887, 0.5028554201126099, 0.7067583203315735, 0.5121314525604248, 0.5554529428482056, 0.5527872443199158, 0.6798521280288696, 0.5343220829963684, 0.6647049188613892, 0.7123501300811768, 0.5232220888137817, 0.5361548066139221, 0.5073143243789673, 0.5559135675430298, 0.7079998254776001, 0.5195148587226868, 0.5168492794036865, 0.5781585574150085, 0.7099512815475464, 0.6712214350700378, 0.5398463010787964, 0.5222265124320984, 0.5128160119056702, 0.5941988229751587, 0.6085538864135742, 0.5035135746002197, 0.5353884100914001, 0.5328414440155029, 0.7105006575584412, 0.5700398087501526, 0.5078925490379333, 0.6552836298942566, 0.5335301756858826, 0.7188385128974915, 0.5313479900360107, 0.5503160953521729, 0.6554098725318909, 0.5027945637702942, 0.6205980777740479, 0.5144695043563843, 0.5809781551361084, 0.6358392834663391, 0.5963981747627258, 0.5638315677642822, 0.655311644077301, 0.5389524102210999, 0.5511829853057861, 0.7143197059631348, 0.6475502252578735, 0.6157900094985962, 0.5262280702590942, 0.5232933163642883, 0.5945075750350952, 0.700039803981781, 0.6951730251312256, 0.5326353311538696, 0.5380800366401672, 0.5611292123794556, 0.6817792654037476, 0.6525177359580994, 0.5409270524978638, 0.5412082672119141, 0.550150454044342, 0.5461810827255249, 0.5095151662826538, 0.5297972559928894, 0.5162487030029297, 0.6426664590835571, 0.5391415953636169, 0.540071964263916, 0.6139762997627258, 0.6961928009986877, 0.5482203364372253, 0.553935706615448, 0.5146684646606445, 0.5201107263565063, 0.6704207062721252, 0.5596504211425781, 0.657550036907196, 0.6176027655601501, 0.5021359920501709, 0.6611288785934448, 0.5701898336410522, 0.54049152135849, 0.6754316687583923, 0.5121375918388367, 0.5083486437797546, 0.5399355292320251, 0.5006551146507263, 0.6642075181007385, 0.700173020362854, 0.5465605854988098, 0.7104297876358032, 0.5415295362472534, 0.5151519775390625, 0.543479859828949, 0.5440198183059692, 0.6442689299583435, 0.5015352368354797, 0.6635735034942627, 0.5990646481513977, 0.5937052369117737, 0.6882753968238831, 0.5390987396240234, 0.5404125452041626, 0.5031102895736694, 0.5091570019721985, 0.5466503500938416, 0.5356305837631226, 0.6703910827636719, 0.5090319514274597, 0.5053266882896423, 0.5081566572189331, 0.5574193000793457, 0.5607038140296936, 0.6565335392951965, 0.7020846605300903, 0.5644721984863281, 0.5457149744033813, 0.6111063957214355, 0.5042245984077454, 0.5466989874839783, 0.5179944634437561, 0.6779496669769287, 0.501335620880127, 0.687187135219574, 0.5239952206611633, 0.6572540402412415, 0.5659286975860596, 0.6945906281471252, 0.5595155358314514, 0.6902546286582947, 0.5524107813835144, 0.5196423530578613, 0.6485195159912109, 0.5315912365913391, 0.6416935324668884, 0.6644980907440186, 0.5941933989524841, 0.6146702170372009, 0.5349315404891968, 0.5746843218803406, 0.5493118762969971, 0.5277310609817505, 0.561905026435852, 0.7124971747398376, 0.6949159502983093, 0.5339723825454712, 0.554235577583313, 0.5791426301002502, 0.5508964657783508, 0.5524981021881104, 0.5751357674598694, 0.5397338271141052, 0.5038938522338867, 0.5467090010643005, 0.5243078470230103, 0.6803523302078247, 0.5320721864700317, 0.5451446175575256, 0.5320128798484802, 0.5475254058837891, 0.601524293422699, 0.678104817867279, 0.5473455190658569, 0.5082420706748962, 0.6223645806312561, 0.5075221061706543, 0.5162356495857239, 0.5291417837142944, 0.5007866621017456, 0.5013020038604736, 0.5358292460441589, 0.5009810924530029, 0.567184567451477, 0.5820332169532776, 0.6906272172927856, 0.5064896941184998, 0.5482060313224792, 0.5808500647544861, 0.541119396686554, 0.6190053820610046, 0.5526033043861389, 0.5761574506759644, 0.5660284161567688, 0.6638394594192505, 0.5328471660614014, 0.5509002804756165, 0.6926895976066589, 0.6300004124641418, 0.7168729901313782, 0.5871554017066956, 0.7088828086853027, 0.6631361842155457, 0.5603047609329224, 0.5035628080368042, 0.700444757938385, 0.6112688183784485, 0.5768802762031555, 0.6975352764129639, 0.5620815753936768, 0.5453441739082336, 0.6098303198814392, 0.5467314124107361, 0.5385534763336182, 0.532477080821991, 0.5482717752456665, 0.5399043560028076, 0.5257293581962585, 0.6695458292961121, 0.535098135471344, 0.6028106212615967, 0.5289368033409119, 0.7234899401664734, 0.7057009935379028, 0.5080533623695374, 0.5374672412872314, 0.5049185156822205, 0.6486437916755676, 0.5465452075004578, 0.5399975180625916, 0.5738111138343811, 0.6558465957641602, 0.5803704857826233, 0.5529798269271851, 0.6566844582557678, 0.5424546599388123, 0.7000920176506042, 0.5526614189147949, 0.6758183240890503, 0.6384841203689575, 0.5874989628791809, 0.5148199796676636, 0.7149752378463745, 0.5938408374786377, 0.5004146695137024, 0.5828436613082886, 0.695269763469696, 0.5398330092430115, 0.6243913173675537, 0.5333400368690491, 0.5421980619430542, 0.5464332103729248, 0.6826969981193542, 0.552060067653656, 0.5386661291122437, 0.5539661049842834, 0.5499631762504578, 0.6827495098114014, 0.5083634257316589, 0.6978667378425598, 0.5218789577484131, 0.651572048664093, 0.5013881921768188, 0.5018681287765503, 0.5011462569236755, 0.6480665802955627, 0.5680139660835266, 0.5410290956497192, 0.6967796087265015, 0.5134316682815552, 0.6925007104873657, 0.5088558197021484, 0.5555826425552368, 0.5333600640296936, 0.5013841986656189, 0.612567663192749, 0.5358537435531616, 0.6591966152191162, 0.6926920413970947, 0.6103614568710327, 0.5272760987281799, 0.7106682658195496, 0.7101573348045349, 0.5490442514419556, 0.7026888132095337, 0.5550757050514221, 0.6435049176216125, 0.502389669418335, 0.6611204147338867, 0.5118287801742554, 0.5167979001998901, 0.5315676927566528, 0.6612622141838074, 0.6484788060188293, 0.5997143983840942, 0.5492002367973328, 0.6730343103408813, 0.5870898365974426, 0.5542643070220947, 0.6565078496932983, 0.5515598654747009, 0.5405861139297485, 0.6106183528900146, 0.5226919651031494, 0.5010877251625061, 0.7214569449424744, 0.5004147887229919, 0.651603102684021, 0.6274701952934265, 0.6069624423980713, 0.5034363269805908, 0.6282590627670288, 0.5217949748039246, 0.5035586953163147, 0.6975319385528564, 0.7160406708717346, 0.5612579584121704, 0.5531415939331055, 0.5016884207725525, 0.50177001953125, 0.6931381225585938, 0.524289071559906, 0.5164899230003357, 0.6786685585975647, 0.5695663690567017, 0.5019668936729431, 0.5882988572120667, 0.6589887738227844, 0.5916922688484192, 0.6480067372322083, 0.7040496468544006, 0.6196012496948242, 0.5252060294151306, 0.5029301047325134, 0.6316648721694946, 0.5448586344718933, 0.7252127528190613, 0.5329080820083618, 0.6187361478805542, 0.5787969827651978, 0.501375138759613, 0.5269826650619507, 0.622090756893158, 0.5615653395652771, 0.5477733612060547, 0.5012006163597107, 0.5010122656822205, 0.513001561164856, 0.5210074782371521, 0.5184993147850037, 0.5636499524116516, 0.5360661149024963, 0.6415115594863892, 0.5448828935623169, 0.500417172908783, 0.5228167176246643, 0.5279644727706909, 0.5521977543830872, 0.5519048571586609, 0.5594396591186523, 0.5137619972229004, 0.5333595275878906, 0.5421196222305298, 0.5240916609764099, 0.5146406888961792, 0.68924480676651, 0.6299095153808594, 0.6484737992286682, 0.5237678289413452, 0.5123406052589417, 0.5265178680419922, 0.554438054561615, 0.5396066904067993, 0.5643028616905212, 0.5555672645568848, 0.5291379690170288, 0.5236440896987915, 0.6067779660224915, 0.5358535051345825, 0.5197972059249878, 0.5215123891830444, 0.501760721206665, 0.5509517192840576, 0.5355377197265625, 0.5567665696144104, 0.5409146547317505, 0.7027708292007446, 0.644553542137146, 0.6044309139251709, 0.6983427405357361, 0.5566695928573608, 0.5497243404388428, 0.7176695466041565, 0.5103646516799927, 0.50357586145401, 0.5133751034736633, 0.5729658007621765, 0.6271973848342896, 0.5019477009773254, 0.6113665699958801, 0.5467987060546875, 0.6925966143608093, 0.6787297129631042, 0.6358221769332886, 0.536364734172821, 0.5473262667655945, 0.5844374299049377, 0.5550830364227295, 0.6077518463134766, 0.6978738307952881, 0.5194964408874512, 0.6948405504226685, 0.5351644158363342, 0.6797153949737549, 0.575708270072937, 0.5437155365943909, 0.5031572580337524, 0.5213398337364197, 0.6647347807884216, 0.5833385586738586, 0.5606327652931213, 0.5014998912811279, 0.7086544632911682, 0.6925429105758667, 0.7080715298652649, 0.6458695530891418, 0.6964153051376343, 0.5502352118492126, 0.5478197336196899, 0.5019015073776245, 0.6021807789802551, 0.5753545761108398, 0.5425716638565063, 0.6610170006752014, 0.6795811653137207, 0.5005643963813782, 0.5349934697151184, 0.5772705674171448, 0.5460495352745056, 0.642134964466095, 0.5287029147148132, 0.5523478388786316, 0.6771355867385864, 0.6131523251533508, 0.6953914761543274, 0.5663747787475586, 0.6558161973953247, 0.6446841955184937, 0.5140888094902039, 0.5109774470329285, 0.7104846239089966, 0.6104359030723572, 0.5254024267196655, 0.5400135517120361, 0.6943582892417908, 0.5353205800056458, 0.5568420886993408, 0.507350504398346, 0.5011854767799377, 0.6644161939620972, 0.5810776352882385, 0.6452354192733765, 0.5023568868637085, 0.5531214475631714, 0.6521013379096985, 0.5641629099845886, 0.6767708659172058, 0.5054280757904053, 0.6693218350410461, 0.6707003116607666, 0.67879319190979, 0.6123387217521667, 0.5949944257736206, 0.5424910187721252, 0.569499135017395, 0.5903623700141907, 0.5394585728645325, 0.6500211954116821, 0.6040869355201721, 0.7147324085235596, 0.533231258392334, 0.558048665523529, 0.5299745202064514, 0.5797801613807678, 0.6840808391571045, 0.6358756422996521, 0.6424404382705688, 0.5178060531616211, 0.6497671008110046, 0.5445467233657837, 0.5642368793487549, 0.5465525388717651, 0.5655800104141235, 0.5383087396621704, 0.6654132008552551, 0.5498389601707458, 0.5232782363891602, 0.54543536901474, 0.5514939427375793, 0.6669126152992249, 0.511194109916687, 0.6997042894363403, 0.5109502673149109, 0.5049189925193787, 0.7082467675209045, 0.5335028767585754, 0.5563452243804932, 0.5386916995048523, 0.5375509858131409, 0.708146870136261, 0.5112882256507874, 0.525858998298645, 0.682083785533905, 0.5214784741401672, 0.5128206014633179, 0.5232086777687073, 0.7038514614105225, 0.653017520904541, 0.5043509006500244, 0.5589965581893921, 0.5609785318374634, 0.657731294631958, 0.5138730406761169, 0.5013430118560791, 0.5831809043884277, 0.5199044942855835, 0.5045091509819031, 0.6499620079994202, 0.5398545861244202, 0.5697014331817627, 0.5105445384979248, 0.6866229176521301, 0.5379442572593689, 0.6785500049591064, 0.7140117287635803, 0.6625185012817383, 0.5504388213157654, 0.7134648561477661, 0.5643998980522156, 0.5428460240364075, 0.529559314250946, 0.7003759741783142, 0.5142529606819153, 0.6115702986717224, 0.5435564517974854, 0.5489057898521423, 0.5218394994735718, 0.5535529851913452, 0.6441755294799805, 0.5262605547904968, 0.6671473979949951, 0.5640223026275635, 0.545864462852478, 0.6716896891593933, 0.640224039554596, 0.676845908164978, 0.5262988805770874, 0.6775639653205872, 0.5026257038116455, 0.5069180130958557, 0.556692361831665, 0.5643512010574341, 0.5737136602401733, 0.5182197690010071, 0.6111997961997986, 0.5029369592666626, 0.558137059211731, 0.501750648021698, 0.5444265604019165, 0.5603261590003967, 0.6575128436088562, 0.6685001850128174, 0.5163388848304749, 0.6860933303833008, 0.5108667016029358, 0.5965107083320618, 0.6030821204185486, 0.6681582927703857, 0.5545589327812195, 0.5546480417251587, 0.6900395154953003, 0.698962390422821, 0.6631370186805725, 0.540692150592804, 0.7230973243713379, 0.5263634324073792, 0.5254284143447876, 0.6741463541984558, 0.5519685745239258, 0.5365056991577148, 0.5313553214073181, 0.6483837962150574, 0.5496402978897095, 0.5155635476112366, 0.5534807443618774, 0.6679314374923706, 0.6024046540260315, 0.533731997013092, 0.5630145072937012, 0.6817472577095032, 0.5392272472381592, 0.5031677484512329, 0.7022512555122375, 0.6596481204032898, 0.6718829870223999, 0.507861852645874, 0.5038678646087646, 0.5208660364151001, 0.6478631496429443, 0.5467901825904846, 0.5656229257583618, 0.5240745544433594, 0.5124680399894714, 0.5729901790618896, 0.6722331643104553, 0.5007444620132446, 0.5270286798477173, 0.661076009273529, 0.5348327159881592, 0.5571632981300354, 0.5304044485092163, 0.5433509945869446, 0.6945761442184448, 0.5470219254493713, 0.5685495734214783, 0.6419912576675415, 0.7023376226425171, 0.539782702922821, 0.5352653861045837, 0.5897639989852905, 0.6518970727920532, 0.6844900250434875, 0.5550432801246643, 0.6055211424827576, 0.5462431311607361, 0.7105817198753357, 0.5309662818908691, 0.5439858436584473, 0.536881685256958, 0.688727855682373, 0.5228263735771179, 0.5078580379486084, 0.5044065713882446, 0.5013604164123535, 0.5459781885147095, 0.5495402812957764, 0.6895248293876648, 0.6202803254127502, 0.6432951092720032, 0.5065117478370667, 0.6297886371612549, 0.7123162150382996, 0.7249812483787537, 0.7253360748291016, 0.7253254652023315, 0.7245385646820068, 0.7246138453483582, 0.7253748774528503, 0.725066602230072, 0.725070595741272, 0.7253132462501526, 0.7252634763717651, 0.7252402305603027, 0.7246720194816589, 0.7250853776931763, 0.7249302864074707, 0.7249966859817505, 0.725116491317749, 0.725466251373291, 0.7253265976905823, 0.7251993417739868, 0.7253510355949402, 0.7247173190116882, 0.7252127528190613, 0.725123941898346, 0.7234563827514648, 0.7231677174568176, 0.7249714732170105, 0.7250581383705139, 0.7251784205436707, 0.7254849672317505, 0.7235985994338989, 0.7228291034698486, 0.7250162363052368, 0.7249884009361267, 0.7237529754638672, 0.7251459956169128, 0.7217406034469604, 0.72511225938797, 0.7253209948539734, 0.722707211971283, 0.7247585654258728, 0.7227781414985657, 0.7236751317977905, 0.7251363396644592, 0.7229742407798767, 0.7254617810249329, 0.724026083946228, 0.7250427007675171, 0.7252143621444702, 0.7251678109169006, 0.7250872254371643, 0.7241529822349548, 0.7252155542373657, 0.7236940860748291, 0.7234994769096375, 0.723468542098999, 0.7250143885612488, 0.724941074848175, 0.7253998517990112, 0.7251424789428711, 0.7227745652198792, 0.7237696051597595, 0.7209516763687134, 0.724987268447876, 0.7241798639297485, 0.7225958704948425, 0.7254148125648499, 0.7239174246788025, 0.7247717380523682, 0.7252110242843628, 0.7241739630699158, 0.7237998843193054, 0.7241168022155762, 0.7252139449119568, 0.7240557670593262, 0.7253116965293884, 0.7252112030982971, 0.7252169847488403, 0.7250316739082336, 0.7251606583595276, 0.7252228260040283, 0.7251521348953247, 0.7250801920890808, 0.7251699566841125, 0.7251225709915161, 0.7238771319389343, 0.7251598238945007, 0.7251901626586914, 0.7249606847763062, 0.7250016331672668, 0.7249724864959717, 0.7251279950141907, 0.7249823212623596, 0.7252430319786072, 0.7247692942619324, 0.7239830493927002, 0.7251364588737488, 0.7251188158988953, 0.7251108884811401, 0.72364342212677, 0.7245594263076782, 0.7251078486442566, 0.724251925945282, 0.7246679067611694, 0.7252101898193359, 0.7245684862136841, 0.7250335812568665, 0.7249623537063599, 0.7250015139579773, 0.7243906855583191, 0.725124716758728, 0.7249683141708374, 0.7252997756004333, 0.7242997288703918, 0.7250633835792542, 0.7205740213394165, 0.7254030704498291, 0.7251552939414978, 0.7243219614028931, 0.7243039011955261, 0.7248344421386719, 0.717801570892334, 0.7249419093132019, 0.7238300442695618, 0.7253825664520264, 0.7253561019897461, 0.7250608205795288, 0.7248227000236511, 0.7232648134231567, 0.7251755595207214, 0.7098166346549988, 0.7252435088157654, 0.7247859835624695, 0.7240273356437683, 0.7245640754699707, 0.7253528237342834, 0.7242358922958374, 0.7249956130981445, 0.6534869074821472, 0.7252180576324463, 0.7237711548805237, 0.7250048518180847, 0.7242701053619385, 0.7238909006118774, 0.7252636551856995, 0.7241629362106323, 0.7250021696090698, 0.723947286605835, 0.7248247265815735, 0.7252451777458191, 0.7251145839691162, 0.721735954284668, 0.7241641879081726, 0.7243893146514893, 0.7252520322799683, 0.7250201106071472, 0.7245580554008484, 0.7252745628356934, 0.7251843810081482, 0.7250013947486877, 0.7251834273338318, 0.7252222895622253, 0.7252715229988098, 0.7249881625175476, 0.7251400947570801, 0.7252308130264282, 0.7230774164199829, 0.7249866127967834, 0.724998414516449, 0.7241513133049011, 0.7251105904579163, 0.7251114249229431, 0.7248919010162354, 0.7236682772636414, 0.7251710295677185, 0.7097324132919312, 0.7250852584838867, 0.7251726388931274, 0.725013792514801, 0.7251502871513367, 0.7252585887908936, 0.7249884605407715, 0.7251666784286499, 0.7246607542037964, 0.7251215577125549, 0.7198054194450378, 0.7250508666038513, 0.7252138257026672, 0.7249742746353149, 0.7251002788543701, 0.7252258658409119, 0.7251518964767456, 0.7251766324043274, 0.7252829670906067, 0.7251564264297485, 0.7251659631729126, 0.7251862287521362, 0.7244184017181396, 0.7218512892723083, 0.7235799431800842, 0.7251186370849609, 0.7250534296035767, 0.7243238091468811, 0.7250739932060242, 0.7249946594238281, 0.7249336838722229, 0.7225531935691833, 0.7251283526420593, 0.7249864339828491, 0.7250882387161255, 0.7234253883361816, 0.7249048352241516, 0.7249022722244263, 0.7250269055366516, 0.7251232266426086, 0.7249728441238403, 0.7246108055114746, 0.7250016927719116, 0.7249495387077332, 0.7250644564628601, 0.7238999009132385, 0.7245102524757385, 0.7249005436897278, 0.724385142326355, 0.7249746322631836, 0.7247989177703857, 0.7245374917984009, 0.7251191735267639, 0.7250499725341797, 0.7253289818763733, 0.7254123091697693, 0.724675178527832, 0.7252620458602905, 0.7247862815856934, 0.7249704599380493, 0.7253720164299011, 0.7253187298774719, 0.7253048419952393, 0.7254647016525269, 0.725397527217865, 0.7249364256858826, 0.725242018699646, 0.7252840995788574, 0.7252092361450195, 0.724983274936676, 0.7251396775245667, 0.7251973748207092, 0.7252120971679688, 0.7241723537445068, 0.7246620655059814, 0.7252762317657471, 0.7236838936805725, 0.7118505835533142, 0.7251273393630981, 0.7248974442481995, 0.7251457571983337, 0.7252869606018066, 0.6581409573554993, 0.7250626683235168, 0.7254428267478943, 0.7250424027442932, 0.7236930727958679, 0.7253192663192749, 0.7251766324043274, 0.7240623831748962, 0.724138617515564, 0.7229692935943604, 0.7253581285476685, 0.7251990437507629, 0.7250136137008667, 0.7253614068031311, 0.724530816078186, 0.7200717926025391, 0.7251522541046143, 0.7237185835838318, 0.7235747575759888, 0.7149789929389954, 0.7210285663604736, 0.7250684499740601, 0.7252879738807678, 0.7225009202957153, 0.7204412817955017, 0.7252652049064636, 0.7243102192878723, 0.7251895070075989, 0.7235674262046814, 0.7225239872932434, 0.7253847718238831, 0.7248845100402832, 0.7252861261367798, 0.7249034643173218, 0.7250521779060364, 0.7244072556495667, 0.7248713970184326, 0.7251949906349182, 0.7253325581550598, 0.7251918911933899, 0.7246243357658386, 0.7252019643783569, 0.725139319896698, 0.7241950035095215, 0.7244458198547363, 0.7123318314552307, 0.7251847982406616, 0.7210209965705872, 0.7245898246765137, 0.724779486656189, 0.7031950950622559, 0.7219851613044739, 0.7245160341262817, 0.7221431136131287, 0.7038942575454712, 0.7243885397911072, 0.7249807715415955, 0.720920979976654, 0.7239543199539185, 0.7248927354812622, 0.7227803468704224, 0.6862704157829285, 0.7240056991577148, 0.7213086485862732, 0.7192460298538208, 0.7225759625434875, 0.7159836292266846, 0.7193250060081482, 0.724623441696167, 0.7190605401992798, 0.7251213192939758, 0.725039005279541, 0.7246878147125244, 0.7241986393928528, 0.7153202891349792, 0.7225251793861389, 0.723766565322876, 0.7236146926879883, 0.7224447727203369, 0.725264310836792, 0.7230463624000549, 0.7219194173812866, 0.7205522060394287, 0.6641060709953308, 0.7231227159500122, 0.7251195907592773, 0.7143323421478271, 0.7251716256141663, 0.7250270247459412, 0.7251554131507874, 0.7224684357643127, 0.7198464274406433, 0.7086422443389893, 0.7253195643424988, 0.7243479490280151, 0.7249609231948853, 0.7219319939613342, 0.7243458032608032, 0.7243781685829163, 0.724906325340271, 0.7211827635765076, 0.7126765251159668, 0.7249819040298462, 0.7251503467559814, 0.7173681259155273, 0.718197762966156, 0.7249040603637695, 0.7216641306877136, 0.698986828327179, 0.7251167893409729, 0.7246745824813843, 0.7222763299942017, 0.7252590656280518, 0.7215314507484436, 0.7221944332122803, 0.7225660681724548, 0.7200980186462402, 0.7220995426177979, 0.7249788641929626, 0.7205356359481812, 0.7222456336021423, 0.7127228379249573, 0.7224277853965759, 0.7247414588928223, 0.7054661512374878, 0.6987623572349548, 0.7251647114753723, 0.7241692543029785, 0.7250149250030518, 0.7250151038169861, 0.7249111533164978, 0.7147600054740906, 0.7220175266265869, 0.7198807001113892, 0.7250282764434814, 0.7246032953262329, 0.7251984477043152, 0.7249552011489868, 0.7215554118156433, 0.7253831624984741, 0.7091917395591736, 0.7250291109085083, 0.7217110395431519, 0.7190243601799011, 0.7244656085968018, 0.7124365568161011, 0.7232550382614136, 0.7249994874000549, 0.7240835428237915, 0.7223219871520996, 0.7153853178024292, 0.7238653302192688, 0.7251733541488647, 0.7248218059539795, 0.7250996828079224, 0.7244749665260315, 0.7248088121414185, 0.7243934273719788, 0.7251487374305725, 0.7222777009010315, 0.7250028848648071, 0.7241041660308838, 0.7247761487960815, 0.7232949137687683, 0.720402717590332, 0.7198877334594727, 0.7251894474029541, 0.7234659194946289, 0.7248548865318298, 0.7224544286727905, 0.7247828841209412, 0.72501540184021, 0.7213548421859741, 0.7248028516769409, 0.7190272808074951, 0.7250737547874451, 0.7250896692276001, 0.7247916460037231, 0.7175848484039307, 0.7120403051376343, 0.7228028178215027, 0.7187203764915466, 0.7251957654953003, 0.7071660161018372, 0.7243859767913818, 0.7249925136566162, 0.7231705784797668, 0.7240053415298462, 0.7244476079940796, 0.7234451770782471, 0.7250454425811768, 0.7197072505950928, 0.7232147455215454, 0.7250223755836487, 0.7251495718955994, 0.721815288066864, 0.7234195470809937, 0.7218881845474243, 0.7227505445480347, 0.7247467637062073, 0.7231581807136536, 0.7249409556388855, 0.724294900894165, 0.7226006388664246, 0.7226840853691101, 0.7236586809158325, 0.7229894399642944, 0.725176990032196, 0.7219350934028625, 0.7235087752342224, 0.7213695049285889, 0.7251326441764832, 0.7199082970619202, 0.5031214952468872, 0.7239644527435303, 0.7199292778968811, 0.7249602675437927, 0.7216922044754028, 0.7213676571846008, 0.7193190455436707, 0.712027907371521, 0.7233017683029175, 0.7201605439186096, 0.7247297167778015, 0.7181982398033142, 0.7231374979019165, 0.7191433310508728, 0.7224798798561096, 0.7242459058761597, 0.7246193289756775, 0.7248545289039612, 0.7237953543663025, 0.7216284871101379, 0.7235592007637024, 0.7227985262870789, 0.7183756232261658, 0.6727908253669739, 0.6636598110198975, 0.7233633995056152, 0.7249054312705994, 0.721173882484436, 0.7098220586776733, 0.7223756909370422, 0.7251583933830261, 0.7246469259262085, 0.7251687049865723, 0.7252666354179382, 0.7205892205238342, 0.7198060750961304, 0.7191877365112305, 0.7224281430244446, 0.7205979228019714, 0.723612368106842, 0.7248772382736206, 0.7246425747871399, 0.7239246964454651, 0.711313009262085, 0.7225626111030579, 0.7146946787834167, 0.7244134545326233, 0.709223747253418, 0.7244604825973511, 0.7247546315193176, 0.7239974737167358, 0.7241921424865723, 0.7249981760978699, 0.724966824054718, 0.7252581119537354, 0.7251537442207336, 0.7235702276229858, 0.7204007506370544, 0.7100079655647278, 0.7249584794044495, 0.72519850730896, 0.7214524745941162, 0.7205525040626526, 0.7162160277366638, 0.7237697243690491, 0.7192720770835876, 0.7245985269546509, 0.7246244549751282, 0.7141596674919128, 0.7248997092247009, 0.7238218784332275, 0.7230671644210815, 0.719092607498169, 0.7248667478561401, 0.7089313864707947, 0.7169752717018127, 0.7248353958129883, 0.7244817614555359, 0.7177278995513916, 0.7225464582443237, 0.722844123840332, 0.719411313533783, 0.720843493938446, 0.7248432040214539, 0.7246344685554504, 0.7187094688415527, 0.7200025320053101, 0.7252103090286255, 0.7228383421897888, 0.724598228931427, 0.7199383974075317, 0.7230734825134277, 0.7111459970474243, 0.7250165343284607, 0.7227171063423157, 0.7248656153678894, 0.7234025597572327, 0.7211064696311951, 0.7196577787399292, 0.715861439704895, 0.7148788571357727, 0.7248561382293701, 0.7239832878112793, 0.7231015563011169, 0.7224940061569214, 0.7164183259010315, 0.7250576615333557, 0.7242584228515625, 0.7244518399238586, 0.7215098738670349, 0.7210320830345154, 0.7243632078170776, 0.722964346408844, 0.7248079776763916, 0.7249751687049866, 0.7250557541847229, 0.724672794342041, 0.7197539210319519, 0.7233091592788696, 0.7215147614479065, 0.7167447209358215, 0.7166740298271179, 0.7251452803611755, 0.7250300645828247, 0.7250758409500122, 0.7243959903717041, 0.7245369553565979, 0.7252456545829773, 0.7225948572158813, 0.7251391410827637, 0.7244313359260559, 0.7227321863174438, 0.6972867250442505, 0.7239804863929749, 0.7249921560287476, 0.7138104438781738, 0.7249861359596252, 0.7242692112922668, 0.7248923778533936, 0.7209980487823486, 0.7236204743385315, 0.7133786678314209, 0.7250099182128906, 0.7190611362457275, 0.7236734628677368, 0.7246830463409424, 0.7238819003105164, 0.7127615213394165, 0.7247084379196167, 0.7250053882598877, 0.7245528697967529, 0.7223254442214966, 0.7221253514289856, 0.7248119711875916, 0.718902051448822, 0.7222140431404114, 0.7252309918403625, 0.7244452238082886, 0.7228602170944214, 0.7213984131813049, 0.7247921824455261, 0.7252662777900696, 0.7165483832359314, 0.7242360711097717, 0.7251197099685669, 0.7244601249694824, 0.7238607406616211, 0.7250475883483887, 0.7235473394393921, 0.7216237783432007, 0.721219003200531, 0.7254102230072021, 0.7248196005821228, 0.7188568711280823, 0.723992109298706, 0.722316563129425, 0.7230198979377747, 0.7108497023582458, 0.7153448462486267, 0.7239779829978943, 0.7239133715629578, 0.7249932289123535, 0.7220959067344666, 0.7252472043037415, 0.725007176399231, 0.7238336205482483, 0.7247079014778137, 0.7235680818557739, 0.7149497866630554, 0.7240554094314575, 0.7218576073646545, 0.7232336401939392, 0.7227268815040588, 0.7226094007492065, 0.7244245409965515, 0.7252703309059143, 0.7198069095611572, 0.7245507836341858, 0.7252305746078491, 0.724465548992157, 0.7250348329544067, 0.7211778163909912, 0.724920928478241, 0.7227888107299805, 0.7171694040298462, 0.716354489326477, 0.7213173508644104, 0.6510608196258545, 0.7252652645111084, 0.7247642278671265, 0.7235694527626038, 0.724190890789032, 0.7246130704879761, 0.725007951259613, 0.7069364786148071, 0.7231153249740601, 0.7072967886924744, 0.6828311681747437, 0.7249972820281982, 0.7250698208808899, 0.7243817448616028, 0.725435733795166, 0.7250687479972839, 0.7226079106330872, 0.7222586870193481, 0.7254331111907959, 0.7018964886665344, 0.7247824668884277, 0.7204379439353943, 0.7252188324928284, 0.7233464121818542, 0.7242062091827393, 0.7244011163711548, 0.699503481388092, 0.7235544919967651, 0.7230004072189331, 0.7229779362678528, 0.7250348925590515, 0.724781334400177, 0.7251865267753601, 0.7225896120071411, 0.7121042609214783, 0.7234604954719543, 0.7229489684104919, 0.5838846564292908, 0.7235398292541504, 0.7250847220420837, 0.7216622233390808, 0.7239006757736206, 0.7236309051513672, 0.7176259756088257, 0.7248852252960205, 0.5302464365959167, 0.7249682545661926, 0.7245005369186401, 0.7065994143486023, 0.699866771697998, 0.7107160091400146, 0.7220417857170105, 0.7085229754447937, 0.7234876751899719, 0.7228695154190063, 0.7250767946243286, 0.7210600972175598, 0.69439697265625, 0.7221221327781677, 0.7147387862205505, 0.7246394157409668, 0.7159692645072937, 0.7219239473342896, 0.7242509126663208, 0.7236960530281067, 0.7196676135063171, 0.7124487161636353, 0.723984956741333, 0.7249760627746582, 0.7217977643013, 0.7249743938446045, 0.7250048518180847, 0.7205768823623657, 0.7229971289634705, 0.7190404534339905, 0.7239221334457397, 0.7161978483200073, 0.725084662437439, 0.7108206152915955, 0.7234470844268799, 0.7219473123550415, 0.7228082418441772, 0.7209377288818359, 0.7227153182029724, 0.7250051498413086, 0.7231173515319824, 0.7225334644317627, 0.7239283323287964, 0.7251308560371399, 0.7247154116630554, 0.7243242859840393, 0.7174784541130066, 0.7251086235046387, 0.7249078750610352, 0.7212494015693665, 0.7215192914009094, 0.7251796722412109, 0.7229515910148621, 0.7234412431716919, 0.7180144786834717, 0.7250452637672424, 0.6424993872642517, 0.724355161190033, 0.7226144075393677, 0.7244492769241333, 0.7243943810462952, 0.7200338244438171, 0.7244886159896851, 0.7222895622253418, 0.7197218537330627, 0.7250584363937378, 0.7111019492149353, 0.7200349569320679, 0.7119448781013489, 0.7252218127250671, 0.7249739170074463, 0.7233373522758484, 0.6880468726158142, 0.7235277891159058, 0.7224445939064026, 0.7211662530899048, 0.7239627242088318, 0.7249457240104675, 0.7250794172286987, 0.7232515215873718, 0.7209168076515198, 0.7251889705657959, 0.7250679135322571, 0.725208044052124, 0.7107563614845276, 0.7248649597167969, 0.7171218991279602, 0.7243661284446716, 0.7230108976364136, 0.7207024097442627, 0.6523917317390442, 0.7229581475257874, 0.724842369556427, 0.7250970602035522, 0.7235023379325867, 0.7251070737838745, 0.7231866121292114, 0.7182222008705139, 0.7131752967834473, 0.7226794958114624, 0.7163575291633606, 0.7083691358566284, 0.7248119115829468, 0.7224085927009583, 0.723968505859375, 0.7250638008117676, 0.7235812544822693, 0.7240769267082214, 0.7234509587287903, 0.724952220916748, 0.7251115441322327, 0.7249887585639954, 0.7147873044013977, 0.7253419160842896, 0.705139696598053, 0.7164425253868103, 0.7249132990837097, 0.6492648720741272, 0.6041765213012695, 0.7206136584281921, 0.7225062847137451, 0.7233942747116089, 0.7247528433799744, 0.7250644564628601, 0.7218039631843567, 0.7251245379447937, 0.7235549688339233, 0.7251567840576172, 0.7245874404907227, 0.7246402502059937, 0.723372757434845, 0.724029004573822, 0.7249255180358887, 0.7213870882987976, 0.7250751256942749, 0.7217023968696594, 0.7212957739830017, 0.7251808047294617, 0.7223447561264038, 0.6657565832138062, 0.7241473197937012, 0.7251571416854858, 0.7242510318756104, 0.7106237411499023, 0.7222496271133423, 0.72352135181427, 0.7206804752349854, 0.7250019311904907, 0.7246219515800476, 0.7238188982009888, 0.725135862827301, 0.7251502871513367, 0.7211524844169617, 0.725404679775238, 0.7183488607406616, 0.7120962738990784, 0.7191300988197327, 0.7245543003082275, 0.7246819138526917, 0.7226958870887756, 0.7224711179733276, 0.7235098481178284, 0.7227492332458496, 0.7248974442481995, 0.7246602773666382, 0.7251372933387756, 0.7205698490142822, 0.7247326970100403, 0.7226064205169678, 0.7244086265563965, 0.7236460447311401, 0.7116472125053406, 0.7251054048538208, 0.7226300835609436, 0.7166138291358948, 0.7253133654594421, 0.7150476574897766, 0.7253664135932922, 0.7249302268028259, 0.7229249477386475, 0.7236843109130859, 0.7219226956367493, 0.7118402719497681, 0.6903390288352966, 0.7247602939605713, 0.7237863540649414, 0.721625566482544, 0.7250810265541077, 0.7240781784057617, 0.725109338760376, 0.7250899076461792, 0.7162705659866333, 0.7244605422019958, 0.7237919569015503, 0.7252189517021179, 0.7240931391716003, 0.7235337495803833, 0.724159836769104, 0.7240742444992065, 0.7231489419937134, 0.7247753143310547, 0.7229073643684387, 0.7247803211212158, 0.7234168648719788, 0.7193658351898193, 0.7251198887825012, 0.7250761389732361, 0.7225986123085022, 0.7111733555793762, 0.7144803404808044, 0.7250623106956482, 0.7249981760978699, 0.716280460357666, 0.7175884246826172, 0.7203729748725891, 0.7251811027526855, 0.7238261699676514, 0.72500079870224, 0.7152181267738342, 0.7247809171676636, 0.7243080139160156, 0.7205079197883606, 0.7216677665710449, 0.7216048836708069, 0.7250955104827881, 0.7190935611724854, 0.7252432703971863, 0.7180307507514954, 0.7214141488075256, 0.7239855527877808, 0.7229806780815125, 0.7132905125617981, 0.7245756983757019, 0.724966824054718, 0.7214367389678955, 0.7190893292427063, 0.7190018892288208, 0.7176592350006104, 0.7251380085945129, 0.7199737429618835, 0.7086067199707031, 0.7247382402420044, 0.7050359845161438, 0.7252660989761353, 0.7222902178764343, 0.7248092293739319, 0.7179672122001648, 0.7251631021499634, 0.7107974290847778, 0.7242172360420227, 0.7250436544418335, 0.7230017185211182, 0.719344973564148, 0.7241942286491394, 0.7245556116104126, 0.7051733732223511, 0.7221150398254395, 0.7220836281776428, 0.6975674629211426, 0.7245563268661499, 0.7250097393989563, 0.7253497838973999, 0.7206206917762756, 0.7240052223205566, 0.7250099182128906, 0.72410649061203, 0.7187097668647766, 0.7190823554992676, 0.719379723072052, 0.7229903936386108, 0.7183288931846619, 0.72393798828125, 0.7218142151832581, 0.7244319915771484, 0.7233097553253174, 0.7107882499694824, 0.7128654718399048, 0.725328803062439, 0.7243790626525879]\n"
     ]
    }
   ],
   "source": [
    "rnn_prediction_output = rnn_perplexity_classifier.predict(X)\n",
    "print(rnn_prediction_output)"
   ]
  },
  {
   "cell_type": "code",
   "execution_count": 104,
   "metadata": {
    "colab": {
     "base_uri": "https://localhost:8080/"
    },
    "id": "Lnng6Cg9yv01",
    "outputId": "c0c9845e-dd60-42e2-ab21-bf51cf551e64"
   },
   "outputs": [
    {
     "name": "stdout",
     "output_type": "stream",
     "text": [
      "RNN Perplexity Classifier\n",
      "Accuracy: 0.821\n",
      "F1: 0.8477891156462585\n",
      "ROC_AUC: 0.821\n",
      "              precision    recall  f1-score   support\n",
      "\n",
      "       Human       0.65      1.00      0.78       648\n",
      "     ChatGPT       1.00      0.74      0.85      1352\n",
      "\n",
      "    accuracy                           0.82      2000\n",
      "   macro avg       0.82      0.87      0.82      2000\n",
      "weighted avg       0.88      0.82      0.83      2000\n",
      "\n"
     ]
    }
   ],
   "source": [
    "print(\"RNN Perplexity Classifier\")\n",
    "evaluate(rnn_prediction_output, y, 0.6)"
   ]
  },
  {
   "cell_type": "code",
   "execution_count": null,
   "metadata": {
    "colab": {
     "base_uri": "https://localhost:8080/"
    },
    "id": "Xn_1Xnqa4-Oo",
    "outputId": "b5b2bfee-5f64-4c69-b0e6-ae7b734df9f0"
   },
   "outputs": [
    {
     "name": "stdout",
     "output_type": "stream",
     "text": [
      "63/63 [==============================] - 5s 8ms/step\n",
      "[0.5014101266860962, 0.49890851974487305, 0.6284050345420837, 0.5033547282218933, 0.4994478225708008, 0.7302818298339844, 0.49853065609931946, 0.49594125151634216, 0.6753624677658081, 0.5045560002326965, 0.5040003657341003, 0.5789883732795715, 0.49966707825660706, 0.49338415265083313, 0.6697843074798584, 0.501882016658783, 0.5236969590187073, 0.5004755854606628, 0.5042434930801392, 0.4972739517688751, 0.4981280565261841, 0.5058361291885376, 0.4950283467769623, 0.4988974928855896, 0.5014936923980713, 0.5102274417877197, 0.49767324328422546, 0.5035402774810791, 0.5026661157608032, 0.49792346358299255, 0.4979252219200134, 0.5000495314598083, 0.5053633451461792, 0.49881845712661743, 0.5027081966400146, 0.49451637268066406, 0.4991874694824219, 0.4962420165538788, 0.4985453486442566, 0.6771114468574524, 0.7366238832473755, 0.524073600769043, 0.5073763728141785, 0.4959869682788849, 0.49489226937294006, 0.6958396434783936, 0.5868621468544006, 0.5114533305168152, 0.49834927916526794, 0.5082159638404846, 0.4926469922065735, 0.5065460801124573, 0.5032846331596375, 0.4945041835308075, 0.6661735773086548, 0.4951283931732178, 0.5071042776107788, 0.5062852501869202, 0.4978848099708557, 0.5057433247566223, 0.49651822447776794, 0.4949263632297516, 0.5038907527923584, 0.5142132043838501, 0.4999551773071289, 0.5515531301498413, 0.4995250403881073, 0.5038239359855652, 0.5053658485412598, 0.5058199167251587, 0.5810688734054565, 0.5078898072242737, 0.4998120665550232, 0.4964788556098938, 0.5059506893157959, 0.49742352962493896, 0.5046798586845398, 0.5069083571434021, 0.5030906796455383, 0.49704837799072266, 0.5077663064002991, 0.5117995738983154, 0.569298505783081, 0.6778173446655273, 0.4942466914653778, 0.4983670711517334, 0.5646979212760925, 0.5010313987731934, 0.5309752225875854, 0.5977457761764526, 0.502286434173584, 0.4940401017665863, 0.502289891242981, 0.48965516686439514, 0.49737703800201416, 0.4922734797000885, 0.49943533539772034, 0.5021733641624451, 0.4956494867801666, 0.5046554207801819, 0.5075716972351074, 0.7254685163497925, 0.5087528824806213, 0.49761202931404114, 0.5071422457695007, 0.5353913307189941, 0.5041153430938721, 0.48954012989997864, 0.5019115805625916, 0.503627359867096, 0.6956719756126404, 0.5039814114570618, 0.5070655941963196, 0.4985944330692291, 0.5011330246925354, 0.5020996928215027, 0.4903281629085541, 0.5024909973144531, 0.4943197965621948, 0.6213665008544922, 0.4921765625476837, 0.6026024222373962, 0.5463820695877075, 0.5015580654144287, 0.605171799659729, 0.5341412425041199, 0.6070725321769714, 0.5934654474258423, 0.6530997157096863, 0.49011877179145813, 0.5065293312072754, 0.5027808547019958, 0.4967081546783447, 0.4931095540523529, 0.5051844120025635, 0.4960102140903473, 0.4994010329246521, 0.506240963935852, 0.5037165284156799, 0.5052011609077454, 0.49424511194229126, 0.5046859383583069, 0.505744218826294, 0.5087221264839172, 0.4965572655200958, 0.7298571467399597, 0.49692001938819885, 0.730357825756073, 0.4958885908126831, 0.5593683123588562, 0.49556609988212585, 0.5070410370826721, 0.49435681104660034, 0.5070396661758423, 0.49540895223617554, 0.5017522573471069, 0.4953783452510834, 0.5781592130661011, 0.49919626116752625, 0.5047938227653503, 0.499833345413208, 0.5052326321601868, 0.49553701281547546, 0.49796998500823975, 0.7174081206321716, 0.5005748271942139, 0.5047890543937683, 0.5614596009254456, 0.5059862732887268, 0.5023204684257507, 0.4995720386505127, 0.49965453147888184, 0.5121066570281982, 0.6118216514587402, 0.5372192859649658, 0.6319137215614319, 0.4932125210762024, 0.5005782246589661, 0.5031687021255493, 0.526201069355011, 0.5049392580986023, 0.5027508735656738, 0.7165040969848633, 0.500420093536377, 0.4989849030971527, 0.5065566897392273, 0.49542808532714844, 0.5085157155990601, 0.5567952990531921, 0.4989568293094635, 0.5666627287864685, 0.5053687691688538, 0.5035594701766968, 0.7380894422531128, 0.5030369162559509, 0.49888691306114197, 0.7020876407623291, 0.4947274327278137, 0.49793562293052673, 0.5130271911621094, 0.4952846169471741, 0.4980735778808594, 0.4995402693748474, 0.7353717684745789, 0.5190480947494507, 0.5000216960906982, 0.49733492732048035, 0.7303584814071655, 0.5034646987915039, 0.5029632449150085, 0.6058217883110046, 0.6937419176101685, 0.4913376569747925, 0.5016886591911316, 0.7250330448150635, 0.49239426851272583, 0.7330211997032166, 0.49878427386283875, 0.4999522566795349, 0.5045188069343567, 0.5050745606422424, 0.5060694813728333, 0.5005617141723633, 0.4950922727584839, 0.5028283596038818, 0.5166674852371216, 0.49182185530662537, 0.4986693561077118, 0.5012525916099548, 0.6207378506660461, 0.7416365742683411, 0.5017944574356079, 0.49683842062950134, 0.6143151521682739, 0.49632546305656433, 0.49402496218681335, 0.49659818410873413, 0.4877677857875824, 0.5057770609855652, 0.5195285081863403, 0.5061147809028625, 0.48952603340148926, 0.527374804019928, 0.5003343224525452, 0.4910029172897339, 0.49518346786499023, 0.4931350648403168, 0.4998430013656616, 0.49414047598838806, 0.501609742641449, 0.5008469223976135, 0.5492366552352905, 0.5044844150543213, 0.5000269412994385, 0.60787433385849, 0.6819219589233398, 0.5030579566955566, 0.5142509341239929, 0.5063108205795288, 0.7008184194564819, 0.5013772249221802, 0.539202868938446, 0.4985330402851105, 0.4956195056438446, 0.5034759044647217, 0.4976033866405487, 0.5032601356506348, 0.49248838424682617, 0.5004233717918396, 0.5982874631881714, 0.595314621925354, 0.4988346993923187, 0.5005836486816406, 0.5062049031257629, 0.49548953771591187, 0.4925609230995178, 0.6655776500701904, 0.6570034027099609, 0.4958832561969757, 0.7283642888069153, 0.5004795789718628, 0.5008598566055298, 0.501851499080658, 0.7183455228805542, 0.5004214644432068, 0.5063328742980957, 0.49559181928634644, 0.4969102442264557, 0.49536481499671936, 0.5011698603630066, 0.6625375747680664, 0.5029205083847046, 0.4895322620868683, 0.5028955340385437, 0.49859580397605896, 0.6396999359130859, 0.4992913603782654, 0.5032899379730225, 0.6843718886375427, 0.5039892196655273, 0.4980871379375458, 0.6353533267974854, 0.5105865597724915, 0.49797654151916504, 0.5030112266540527, 0.4954933822154999, 0.5050866603851318, 0.5099744200706482, 0.4947250783443451, 0.5057016611099243, 0.4974527955055237, 0.5142037272453308, 0.724465548992157, 0.5539103150367737, 0.5063120126724243, 0.6826396584510803, 0.4902096092700958, 0.5009640455245972, 0.4985976219177246, 0.5040119290351868, 0.5020273923873901, 0.4938899278640747, 0.5043573379516602, 0.4943988025188446, 0.5116152763366699, 0.5049141049385071, 0.7067508101463318, 0.5061671137809753, 0.49983763694763184, 0.6999301314353943, 0.7318280339241028, 0.504131019115448, 0.5077317953109741, 0.504477322101593, 0.5011183023452759, 0.566370964050293, 0.49524152278900146, 0.4951455891132355, 0.5024937987327576, 0.49856603145599365, 0.5190468430519104, 0.5023918151855469, 0.49559667706489563, 0.6102600693702698, 0.7295129895210266, 0.5057231187820435, 0.4960509240627289, 0.5182883143424988, 0.6197081208229065, 0.6184346079826355, 0.4943109452724457, 0.638029158115387, 0.506470799446106, 0.4931289553642273, 0.49218106269836426, 0.50611811876297, 0.49392566084861755, 0.5038392543792725, 0.49693959951400757, 0.6745125651359558, 0.49359840154647827, 0.5655807852745056, 0.5726643800735474, 0.5059909820556641, 0.4887680113315582, 0.5080093145370483, 0.5060652494430542, 0.4953465759754181, 0.6440470218658447, 0.49421292543411255, 0.49554508924484253, 0.5087742805480957, 0.5017326474189758, 0.49944427609443665, 0.5035704970359802, 0.5108867883682251, 0.6880598068237305, 0.507400631904602, 0.6502825617790222, 0.5280032753944397, 0.5043659210205078, 0.5028818249702454, 0.5060620307922363, 0.7344809770584106, 0.49497509002685547, 0.7333322167396545, 0.5354626774787903, 0.496481329202652, 0.5082636475563049, 0.505325973033905, 0.5020082592964172, 0.4949108362197876, 0.5032954812049866, 0.6984273195266724, 0.49672096967697144, 0.5078646540641785, 0.4985656142234802, 0.499087393283844, 0.74502032995224, 0.5026499629020691, 0.5041421055793762, 0.6826737523078918, 0.5220414400100708, 0.5045473575592041, 0.5106388330459595, 0.5111624002456665, 0.5072656273841858, 0.5018018484115601, 0.5047512650489807, 0.49483153223991394, 0.5072091221809387, 0.5039316415786743, 0.5058509111404419, 0.5002442598342896, 0.6397706866264343, 0.5063419938087463, 0.5038466453552246, 0.5019890666007996, 0.7401944398880005, 0.5509026050567627, 0.4975908696651459, 0.5002442598342896, 0.49617379903793335, 0.49744075536727905, 0.4981552064418793, 0.7249730825424194, 0.4970110356807709, 0.4968245327472687, 0.4942288100719452, 0.7390854954719543, 0.49781447649002075, 0.5931286811828613, 0.49663233757019043, 0.5014752149581909, 0.5020760893821716, 0.5024038553237915, 0.5024355053901672, 0.49496304988861084, 0.6678490042686462, 0.6328420639038086, 0.5044823884963989, 0.5067865252494812, 0.4918225407600403, 0.5314091444015503, 0.6457046866416931, 0.49930426478385925, 0.7371981143951416, 0.5092254281044006, 0.5000478625297546, 0.5086725950241089, 0.7262682318687439, 0.4970073997974396, 0.5030391216278076, 0.7012765407562256, 0.4986875653266907, 0.49606770277023315, 0.5537298917770386, 0.5027129650115967, 0.5006389617919922, 0.5231980681419373, 0.510414183139801, 0.5035240650177002, 0.4923897087574005, 0.5035347938537598, 0.536506712436676, 0.4979461431503296, 0.5045625567436218, 0.4927004873752594, 0.4949941337108612, 0.4955662190914154, 0.5022837519645691, 0.5040314793586731, 0.5799005627632141, 0.6283456683158875, 0.5072786211967468, 0.5031511783599854, 0.5051648020744324, 0.49275535345077515, 0.4992305040359497, 0.49289923906326294, 0.6162152886390686, 0.4969194233417511, 0.6344187259674072, 0.5485426783561707, 0.649786114692688, 0.5060108304023743, 0.5058946013450623, 0.5021958351135254, 0.5026780366897583, 0.5052390694618225, 0.49355942010879517, 0.5020503997802734, 0.5015435814857483, 0.6605405807495117, 0.5053340196609497, 0.6813470125198364, 0.5056463479995728, 0.5004118084907532, 0.5074936151504517, 0.6126432418823242, 0.49527639150619507, 0.49570122361183167, 0.5005391240119934, 0.5045029520988464, 0.49678903818130493, 0.4943038523197174, 0.4964057505130768, 0.4921165108680725, 0.5038402676582336, 0.5011978149414062, 0.499969482421875, 0.5278093218803406, 0.4986911118030548, 0.4946729242801666, 0.5094407200813293, 0.4957540035247803, 0.5102009773254395, 0.4959407150745392, 0.6216977834701538, 0.7301302552223206, 0.633227527141571, 0.5324211120605469, 0.4945589601993561, 0.686794638633728, 0.6116529703140259, 0.4945976734161377, 0.4931052625179291, 0.5053832530975342, 0.4960407018661499, 0.4948287308216095, 0.49729010462760925, 0.4963783919811249, 0.5059910416603088, 0.5058121681213379, 0.4968850314617157, 0.689638078212738, 0.5037651658058167, 0.5024341344833374, 0.6399792432785034, 0.5020551681518555, 0.5049912929534912, 0.5041330456733704, 0.4969902038574219, 0.4974900782108307, 0.5033087134361267, 0.5058770775794983, 0.4999697804450989, 0.5019315481185913, 0.6232189536094666, 0.5057601928710938, 0.5474073886871338, 0.49805933237075806, 0.48910924792289734, 0.5020171999931335, 0.7175846695899963, 0.5547075867652893, 0.4957769811153412, 0.5084328651428223, 0.49351465702056885, 0.6224144101142883, 0.5009478330612183, 0.6550927758216858, 0.5004867315292358, 0.7226656675338745, 0.615164041519165, 0.4953745901584625, 0.5053107738494873, 0.7357105612754822, 0.5936388969421387, 0.678037166595459, 0.5092267394065857, 0.7106673717498779, 0.5037229061126709, 0.4975086748600006, 0.49705055356025696, 0.4971098303794861, 0.48893803358078003, 0.6220784187316895, 0.5284268260002136, 0.5450901985168457, 0.49992311000823975, 0.5411891937255859, 0.525594174861908, 0.4955519437789917, 0.7439872026443481, 0.5035040378570557, 0.5867648124694824, 0.5311848521232605, 0.5023800730705261, 0.5230151414871216, 0.5109452605247498, 0.5037749409675598, 0.5032990574836731, 0.740042507648468, 0.6255239844322205, 0.49916669726371765, 0.501072108745575, 0.4950786232948303, 0.49907639622688293, 0.5081561207771301, 0.502565324306488, 0.5029386878013611, 0.7154010534286499, 0.5500403642654419, 0.5068660378456116, 0.5122761130332947, 0.7142167091369629, 0.505225658416748, 0.49586665630340576, 0.5126625895500183, 0.6810926795005798, 0.4906489849090576, 0.5013903379440308, 0.5040200352668762, 0.535793125629425, 0.4973141849040985, 0.5088402032852173, 0.4968847930431366, 0.5133252143859863, 0.7192637324333191, 0.7126747369766235, 0.5075920820236206, 0.4992935061454773, 0.5018438100814819, 0.49706652760505676, 0.500545859336853, 0.6813721656799316, 0.5032901167869568, 0.5090456604957581, 0.6717597246170044, 0.7363320589065552, 0.5256407260894775, 0.4991946816444397, 0.7269609570503235, 0.7452558279037476, 0.49653956294059753, 0.5207908749580383, 0.4902549386024475, 0.48680633306503296, 0.7121375799179077, 0.49911263585090637, 0.7371395230293274, 0.5037793517112732, 0.49364516139030457, 0.5112236142158508, 0.5048972964286804, 0.5061817765235901, 0.7379516363143921, 0.709464430809021, 0.49885043501853943, 0.5110940933227539, 0.4975607693195343, 0.49599742889404297, 0.5066942572593689, 0.5095995664596558, 0.7248138189315796, 0.7210607528686523, 0.4978761672973633, 0.495757520198822, 0.6908103823661804, 0.5003271102905273, 0.4918990433216095, 0.735673725605011, 0.5111838579177856, 0.4998146891593933, 0.5052065253257751, 0.498247355222702, 0.49141860008239746, 0.505875289440155, 0.4887167513370514, 0.4900847375392914, 0.5042226314544678, 0.4981827139854431, 0.49844855070114136, 0.505881130695343, 0.4985855519771576, 0.5013203620910645, 0.5019672513008118, 0.5049728155136108, 0.5091887712478638, 0.48570194840431213, 0.490577757358551, 0.5027152299880981, 0.7120206952095032, 0.5141880512237549, 0.5049238204956055, 0.5058161616325378, 0.5016687512397766, 0.5005404949188232, 0.4924849271774292, 0.49753445386886597, 0.5061175227165222, 0.7239528894424438, 0.4961998164653778, 0.49213647842407227, 0.5340035557746887, 0.49141180515289307, 0.5810800194740295, 0.5033249855041504, 0.7441162467002869, 0.7327741384506226, 0.4978088140487671, 0.5009862184524536, 0.5053083896636963, 0.5026419758796692, 0.501720130443573, 0.5018174648284912, 0.5071404576301575, 0.49973323941230774, 0.5464139580726624, 0.499847412109375, 0.5144725441932678, 0.49723079800605774, 0.5096319913864136, 0.6056813597679138, 0.4981788098812103, 0.4988939166069031, 0.493249773979187, 0.49863284826278687, 0.5013525485992432, 0.499935507774353, 0.4996923804283142, 0.6989122629165649, 0.4984697699546814, 0.4957544803619385, 0.5043208599090576, 0.5002797245979309, 0.5048407316207886, 0.49373680353164673, 0.49367472529411316, 0.6688489317893982, 0.5042338371276855, 0.5010818839073181, 0.5060776472091675, 0.4973253905773163, 0.6148624420166016, 0.5066338181495667, 0.50058913230896, 0.5026013851165771, 0.498484343290329, 0.5120245218276978, 0.4888552725315094, 0.4947422444820404, 0.49346354603767395, 0.5856236815452576, 0.6710395812988281, 0.6545290350914001, 0.5241320729255676, 0.7348008155822754, 0.5799421668052673, 0.5085374116897583, 0.7225048542022705, 0.5001389384269714, 0.5302557945251465, 0.5000249743461609, 0.5020066499710083, 0.5206359028816223, 0.5794893503189087, 0.5006516575813293, 0.5071353912353516, 0.49490365386009216, 0.5040882229804993, 0.49952057003974915, 0.5021890997886658, 0.5681394338607788, 0.6584084033966064, 0.4993091821670532, 0.5063766837120056, 0.49892085790634155, 0.5435469150543213, 0.5897127985954285, 0.5061082243919373, 0.502236545085907, 0.5038957595825195, 0.5043501853942871, 0.5063486695289612, 0.5048633217811584, 0.49554455280303955, 0.5057460069656372, 0.5020996332168579, 0.4947783648967743, 0.5038725137710571, 0.49896442890167236, 0.49893927574157715, 0.49648919701576233, 0.5003609657287598, 0.7220498919487, 0.5001543164253235, 0.7143916487693787, 0.5622096657752991, 0.5033968091011047, 0.5041797757148743, 0.5367956161499023, 0.5399360060691833, 0.5008202195167542, 0.5001099705696106, 0.48975878953933716, 0.5016372203826904, 0.5095519423484802, 0.5045360922813416, 0.5034988522529602, 0.5056018233299255, 0.530764102935791, 0.729923665523529, 0.5028350949287415, 0.5992185473442078, 0.49039873480796814, 0.5116894841194153, 0.6640503406524658, 0.5039432048797607, 0.49942415952682495, 0.5006550550460815, 0.7309475541114807, 0.5039833784103394, 0.553385853767395, 0.49648743867874146, 0.49727147817611694, 0.5068573951721191, 0.5083188414573669, 0.49796706438064575, 0.4997514486312866, 0.500767171382904, 0.4987097382545471, 0.5010088086128235, 0.6101056933403015, 0.5039582252502441, 0.5068343281745911, 0.507107675075531, 0.6349009275436401, 0.49823492765426636, 0.4953992962837219, 0.4988768994808197, 0.6945035457611084, 0.5047922134399414, 0.5020008683204651, 0.5551621913909912, 0.49218544363975525, 0.5466610789299011, 0.7162390947341919, 0.49900051951408386, 0.4957578778266907, 0.49431943893432617, 0.5098989605903625, 0.6647160053253174, 0.48993703722953796, 0.5009120106697083, 0.5008555054664612, 0.5009202361106873, 0.499658465385437, 0.5044322609901428, 0.7060741186141968, 0.4918489158153534, 0.7381806373596191, 0.494824081659317, 0.5049800276756287, 0.49544328451156616, 0.4992530345916748, 0.5037126541137695, 0.4945037364959717, 0.50065678358078, 0.5043330192565918, 0.5167255401611328, 0.49979832768440247, 0.5947949290275574, 0.5670380592346191, 0.5014365911483765, 0.49035507440567017, 0.6595900058746338, 0.4942283034324646, 0.49752017855644226, 0.4903520941734314, 0.4918587803840637, 0.498749703168869, 0.6131944060325623, 0.5904293656349182, 0.5027216076850891, 0.58408522605896, 0.4963739812374115, 0.4976109564304352, 0.6011701226234436, 0.6749473810195923, 0.7071368098258972, 0.5128812193870544, 0.5619708299636841, 0.5026726126670837, 0.5053061842918396, 0.5835426449775696, 0.6712418794631958, 0.5013007521629333, 0.5010967254638672, 0.5002099275588989, 0.5070345997810364, 0.728941023349762, 0.5019403696060181, 0.48931676149368286, 0.4973081648349762, 0.7344915866851807, 0.49536705017089844, 0.7399749755859375, 0.4985881447792053, 0.7305209636688232, 0.5038550496101379, 0.5990117192268372, 0.4987888038158417, 0.5024682283401489, 0.5010872483253479, 0.49340417981147766, 0.5890058875083923, 0.49421489238739014, 0.5007670521736145, 0.5411880612373352, 0.695178747177124, 0.5067489147186279, 0.4960738718509674, 0.6108471155166626, 0.4992077946662903, 0.5019407868385315, 0.6077757477760315, 0.518669068813324, 0.6769753098487854, 0.4996301829814911, 0.5520342588424683, 0.4872678816318512, 0.4981604814529419, 0.5068663954734802, 0.7223190665245056, 0.49945563077926636, 0.6226564645767212, 0.5054923892021179, 0.5223234295845032, 0.5095929503440857, 0.497314989566803, 0.5060636401176453, 0.4983540177345276, 0.48927876353263855, 0.7139289379119873, 0.7202878594398499, 0.498261958360672, 0.4970191717147827, 0.5010788440704346, 0.49988535046577454, 0.49586987495422363, 0.4984845817089081, 0.5042961835861206, 0.5848367214202881, 0.6274003982543945, 0.5063166618347168, 0.5123708844184875, 0.49920493364334106, 0.49022164940834045, 0.5075893402099609, 0.5038968324661255, 0.6836482882499695, 0.5078862905502319, 0.4994009733200073, 0.6900457739830017, 0.532505452632904, 0.5011322498321533, 0.5018383860588074, 0.49663352966308594, 0.4987597167491913, 0.5027338862419128, 0.49710333347320557, 0.5028864145278931, 0.5010606050491333, 0.5076726078987122, 0.49914243817329407, 0.5062665939331055, 0.4919646978378296, 0.5024053454399109, 0.49973514676094055, 0.4964381754398346, 0.7431274056434631, 0.5071645379066467, 0.5047823786735535, 0.49973228573799133, 0.4933668375015259, 0.49916037917137146, 0.5035496354103088, 0.504597544670105, 0.5006622672080994, 0.5061156749725342, 0.49639037251472473, 0.5029675960540771, 0.6355279684066772, 0.5042994022369385, 0.5055692791938782, 0.5027215480804443, 0.4922911524772644, 0.49834561347961426, 0.5657781958580017, 0.4957801401615143, 0.7324604988098145, 0.502086877822876, 0.5085936784744263, 0.5107853412628174, 0.5027112364768982, 0.49151092767715454, 0.585893452167511, 0.714347779750824, 0.7368916869163513, 0.7326143980026245, 0.6652182936668396, 0.6293742060661316, 0.7198358178138733, 0.7417524456977844, 0.7404876947402954, 0.5663288831710815, 0.702120840549469, 0.733027994632721, 0.7283160090446472, 0.742031991481781, 0.7364830374717712, 0.5657055974006653, 0.7370352149009705, 0.7382193803787231, 0.7413041591644287, 0.7144205570220947, 0.7433499693870544, 0.7240442037582397, 0.7388143539428711, 0.7405472993850708, 0.7320809960365295, 0.5271212458610535, 0.6575154066085815, 0.6044721603393555, 0.7311639189720154, 0.5357916355133057, 0.7282949686050415, 0.733231246471405, 0.7184165716171265, 0.6625974178314209, 0.49948108196258545, 0.7395414710044861, 0.7407854199409485, 0.7455453872680664, 0.7378408312797546, 0.5663641095161438, 0.6131896376609802, 0.7320140600204468, 0.7515449523925781, 0.751297652721405, 0.6676633358001709, 0.7285248637199402, 0.7166936993598938, 0.6267290115356445, 0.7409781813621521, 0.741678774356842, 0.7304674386978149, 0.7319197058677673, 0.7420060634613037, 0.7407379746437073, 0.7402812838554382, 0.7365735173225403, 0.7386229634284973, 0.6856739521026611, 0.582474410533905, 0.5376583337783813, 0.7384640574455261, 0.7133724689483643, 0.7237464189529419, 0.664610743522644, 0.7227862477302551, 0.7416513562202454, 0.5757234692573547, 0.7430472373962402, 0.6531419157981873, 0.5661718249320984, 0.5146968960762024, 0.7091037631034851, 0.5133786201477051, 0.49987998604774475, 0.5952087044715881, 0.7296823859214783, 0.7292991876602173, 0.504983127117157, 0.741033673286438, 0.7373865246772766, 0.6230892539024353, 0.5037189722061157, 0.6932046413421631, 0.6216573119163513, 0.5190647840499878, 0.7387123107910156, 0.7375435829162598, 0.7456066012382507, 0.739833414554596, 0.7180271148681641, 0.7446150183677673, 0.7283221483230591, 0.741398274898529, 0.7350487112998962, 0.7387186884880066, 0.7450820803642273, 0.7368040084838867, 0.7531354427337646, 0.6580376029014587, 0.741134762763977, 0.7522295117378235, 0.7469712495803833, 0.7299551367759705, 0.7425904273986816, 0.7375045418739319, 0.7500309348106384, 0.7240554094314575, 0.7423301935195923, 0.7181920409202576, 0.630563497543335, 0.7383968234062195, 0.7473394870758057, 0.7390261292457581, 0.7404007911682129, 0.7341009378433228, 0.7166838645935059, 0.7292992472648621, 0.7438832521438599, 0.7378206253051758, 0.647831916809082, 0.7352120876312256, 0.6050336956977844, 0.7371711730957031, 0.5249536633491516, 0.7387014031410217, 0.7351553440093994, 0.7535210251808167, 0.539684534072876, 0.724277138710022, 0.6010433435440063, 0.5017002820968628, 0.5391682982444763, 0.72773677110672, 0.544516384601593, 0.7372475266456604, 0.7459622025489807, 0.7384911775588989, 0.7297613620758057, 0.7416067123413086, 0.5052681565284729, 0.7289541959762573, 0.4990512430667877, 0.7350735068321228, 0.6036046743392944, 0.7449173927307129, 0.7278937101364136, 0.7422960996627808, 0.7233808636665344, 0.7097110748291016, 0.7478747963905334, 0.6864964962005615, 0.7354291677474976, 0.7400450706481934, 0.7349511384963989, 0.7391876578330994, 0.7466721534729004, 0.7358279824256897, 0.746762216091156, 0.7334571480751038, 0.7203583717346191, 0.6852012872695923, 0.6935941576957703, 0.7453793287277222, 0.7366191148757935, 0.742699146270752, 0.7410350441932678, 0.7388778328895569, 0.5061091780662537, 0.7390254735946655, 0.7063546776771545, 0.5035706758499146, 0.7403406500816345, 0.7423384785652161, 0.7403020262718201, 0.7242076992988586, 0.7339628338813782, 0.7336820363998413, 0.6459720730781555, 0.7412164807319641, 0.7316409945487976, 0.7400281429290771, 0.49951523542404175, 0.7483015060424805, 0.7358095645904541, 0.7344803214073181, 0.7508071660995483, 0.744997501373291, 0.7376341223716736, 0.5064709782600403, 0.6825299859046936, 0.7312958836555481, 0.7454698085784912, 0.6581504344940186, 0.5106984972953796, 0.7341728210449219, 0.7481366395950317, 0.531791090965271, 0.7434085011482239, 0.7384755611419678, 0.7386879324913025, 0.7355638146400452, 0.7155694961547852, 0.5108579397201538, 0.7379425168037415, 0.7351922392845154, 0.73514324426651, 0.5492925643920898, 0.7309351563453674, 0.7259925007820129, 0.712462842464447, 0.5122761130332947, 0.7385550141334534, 0.6088528037071228, 0.748288094997406, 0.7229697108268738, 0.526652991771698, 0.7347663044929504, 0.7350735068321228, 0.7351294755935669, 0.582159698009491, 0.7343621253967285, 0.7363083362579346, 0.7471370100975037, 0.7554699778556824, 0.7327261567115784, 0.7415106892585754, 0.6353944540023804, 0.6123219728469849, 0.559356153011322, 0.7391571998596191, 0.7434813976287842, 0.7426010370254517, 0.742536187171936, 0.7424944639205933, 0.7240689992904663, 0.7292060256004333, 0.7456663250923157, 0.7343760132789612, 0.7174152731895447, 0.7450729608535767, 0.7437164187431335, 0.7115112543106079, 0.7416462898254395, 0.7369363307952881, 0.7307795882225037, 0.7398312091827393, 0.7240017652511597, 0.7385176420211792, 0.7426761388778687, 0.6381005644798279, 0.7338721752166748, 0.5038655996322632, 0.7319973707199097, 0.7333014607429504, 0.7452507019042969, 0.7378976941108704, 0.7382599115371704, 0.4997997581958771, 0.5012184381484985, 0.7421973943710327, 0.750290036201477, 0.7129740118980408, 0.7359099388122559, 0.714674711227417, 0.7045441269874573, 0.7441087961196899, 0.7084258198738098, 0.5070455074310303, 0.7430583834648132, 0.7385308146476746, 0.5943554639816284, 0.513724684715271, 0.565759003162384, 0.7388938069343567, 0.68120276927948, 0.7413990497589111, 0.6827821135520935, 0.5690996050834656, 0.7504051327705383, 0.7450440526008606, 0.5368587970733643, 0.7436529994010925, 0.7393471598625183, 0.7376462817192078, 0.7160974740982056, 0.7277833223342896, 0.7408794164657593, 0.7439131736755371, 0.5233248472213745, 0.7350290417671204, 0.5887783765792847, 0.7420356869697571, 0.7255602478981018, 0.7426165342330933, 0.6137542724609375, 0.5052425265312195, 0.7451120615005493, 0.7373877167701721, 0.6195414066314697, 0.7007343173027039, 0.5171882510185242, 0.7277234196662903, 0.7389766573905945, 0.7377858757972717, 0.6318172812461853, 0.6900853514671326, 0.7416492700576782, 0.7392043471336365, 0.7422280311584473, 0.7392613887786865, 0.7371952533721924, 0.735235333442688, 0.5014127492904663, 0.5036543607711792, 0.7356715798377991, 0.5050643682479858, 0.7518330812454224, 0.7426944971084595, 0.5068414211273193, 0.7364052534103394, 0.7387341260910034, 0.7502980828285217, 0.6674391627311707, 0.7227796912193298, 0.5149031281471252, 0.7367232441902161, 0.5013387203216553, 0.7369109392166138, 0.7412406802177429, 0.7068367004394531, 0.5216392874717712, 0.5206059217453003, 0.6386633515357971, 0.6541962027549744, 0.6283805966377258, 0.6457992792129517, 0.5849307179450989, 0.7422441244125366, 0.5781145095825195, 0.7479925751686096, 0.5426477789878845, 0.5117968320846558, 0.7476140856742859, 0.6931172609329224, 0.6818937659263611, 0.7295564413070679, 0.5054218769073486, 0.7425722479820251, 0.7360994219779968, 0.606537938117981, 0.7353223562240601, 0.7419986128807068, 0.7473410367965698, 0.7368115186691284, 0.7445434927940369, 0.6676046848297119, 0.7294418811798096, 0.7399170398712158, 0.7431755661964417, 0.7392301559448242, 0.5344511270523071, 0.7234339118003845, 0.7337979078292847, 0.7423970699310303, 0.5263704061508179, 0.7417430281639099, 0.7362266778945923, 0.7420494556427002, 0.7406893372535706, 0.7379487156867981, 0.7396777868270874, 0.7338305711746216, 0.7080749273300171, 0.73734050989151, 0.521632194519043, 0.7279946804046631, 0.7147181630134583, 0.7386395335197449, 0.6580184698104858, 0.5686618685722351, 0.6587657928466797, 0.6405927538871765, 0.7237189412117004, 0.5141533017158508, 0.7338083386421204, 0.6900289058685303, 0.7374361753463745, 0.7332044839859009, 0.7502004504203796, 0.511734664440155, 0.5090619921684265, 0.5784248113632202, 0.744279682636261, 0.7290587425231934, 0.7417880892753601, 0.5693840980529785, 0.6778758764266968, 0.5110911130905151, 0.7279703617095947, 0.5158357620239258, 0.6683856844902039, 0.7350972890853882, 0.7418441772460938, 0.704398512840271, 0.7092889547348022, 0.7405527234077454, 0.5530779361724854, 0.7098776698112488, 0.6368447542190552, 0.5072886347770691, 0.5448863506317139, 0.7394479513168335, 0.7364042401313782, 0.7341038584709167, 0.7358073592185974, 0.5062029361724854, 0.7391408085823059, 0.5656686425209045, 0.6586906909942627, 0.5715836882591248, 0.7438659071922302, 0.7345289587974548, 0.7357175350189209, 0.7454994320869446, 0.7348469495773315, 0.7360004186630249, 0.6066228151321411, 0.7201745510101318, 0.6191483736038208, 0.736036479473114, 0.5045498013496399, 0.6424684524536133, 0.7246419787406921, 0.7073682546615601, 0.7430654168128967, 0.7216234803199768, 0.7340063452720642, 0.7366824746131897, 0.618547260761261, 0.5318372249603271, 0.7388603091239929, 0.7340927124023438, 0.7080543041229248, 0.7374228239059448, 0.50278639793396, 0.7335851788520813, 0.7455876469612122, 0.7404527068138123, 0.6443946957588196, 0.711887001991272, 0.7382427453994751, 0.7425894141197205, 0.7377086877822876, 0.7315208315849304, 0.7279869914054871, 0.5150031447410583, 0.7377542853355408, 0.7355366945266724, 0.7231778502464294, 0.6631004810333252, 0.742842972278595, 0.64167720079422, 0.6589688658714294, 0.7363561987876892, 0.5045617818832397, 0.738440752029419, 0.7406541109085083, 0.5087922215461731, 0.7340216636657715, 0.5449455380439758, 0.5269462466239929, 0.5035692453384399, 0.7438083291053772, 0.7458578944206238, 0.5409944653511047, 0.7361654043197632, 0.7358165383338928, 0.5062116980552673, 0.6238684058189392, 0.7355753183364868, 0.7417025566101074, 0.6304343342781067, 0.5000095367431641, 0.6624183654785156, 0.7362468242645264, 0.7380313277244568, 0.4992484450340271, 0.5086289048194885, 0.5104146599769592, 0.5132002234458923, 0.5804435014724731, 0.7298639416694641, 0.6593802571296692, 0.6480610370635986, 0.5149836540222168, 0.5033658146858215, 0.6873002648353577, 0.7424225807189941, 0.7439962029457092, 0.5081130862236023, 0.7310084104537964, 0.7486791610717773, 0.7392429709434509, 0.7366664409637451, 0.7381372451782227, 0.5909178256988525, 0.5151504278182983, 0.737511932849884, 0.7437348961830139, 0.505679190158844, 0.6595705151557922, 0.7374714612960815, 0.7315967679023743, 0.5065569877624512, 0.5048182010650635, 0.735607385635376, 0.7162479162216187, 0.737468421459198, 0.5136707425117493, 0.747592031955719, 0.7449308037757874, 0.7453357577323914, 0.7389361262321472, 0.6997659802436829, 0.6291698217391968, 0.7266301512718201, 0.7138237357139587, 0.5583205819129944, 0.7439396977424622, 0.5473781824111938, 0.7440963983535767, 0.7251321077346802, 0.7443614602088928, 0.6748920679092407, 0.501404345035553, 0.7426868677139282, 0.5909063220024109, 0.7116698622703552, 0.7226797938346863, 0.5048052668571472, 0.7325966954231262, 0.7345314025878906, 0.7352887392044067, 0.503377377986908, 0.6455265283584595, 0.6141619086265564, 0.7389503717422485, 0.5090981721878052, 0.5886819958686829, 0.6772318482398987, 0.7354246377944946, 0.7332999110221863, 0.6713538765907288, 0.5877805948257446, 0.6060306429862976, 0.7470598220825195, 0.7272111177444458, 0.7317464351654053, 0.7365545630455017, 0.7316581010818481, 0.7423315048217773, 0.7219772338867188, 0.502301037311554, 0.4960590898990631, 0.49866923689842224, 0.7400193214416504, 0.7446520328521729, 0.7415408492088318, 0.6443129777908325, 0.6995166540145874, 0.7379060983657837, 0.7314257621765137, 0.7409421801567078, 0.7341687679290771, 0.7412098050117493, 0.664495050907135, 0.49740979075431824, 0.7451914548873901, 0.7108681201934814, 0.7391628623008728, 0.6424283385276794, 0.7377089262008667, 0.7255824208259583, 0.733500063419342, 0.5119889974594116, 0.7405158281326294, 0.744273841381073, 0.7449771165847778, 0.7254818677902222, 0.7369403839111328, 0.5451720952987671, 0.5111075639724731, 0.6911554336547852, 0.5046612620353699, 0.7036141753196716, 0.7397887110710144, 0.7340807914733887, 0.7418633103370667, 0.7413709163665771, 0.7365230321884155, 0.726800262928009, 0.6393204927444458, 0.7388167977333069, 0.5305582284927368, 0.6539155840873718, 0.74728924036026, 0.5039993524551392, 0.7451624274253845, 0.7261604070663452, 0.7274566292762756, 0.7357619404792786, 0.7386080026626587, 0.5095105171203613, 0.7329738140106201, 0.5000444054603577, 0.7434867024421692, 0.7265890836715698, 0.6871891021728516, 0.5033873915672302, 0.7342345714569092, 0.7511326670646667, 0.5243508219718933, 0.7307431101799011, 0.7260245084762573, 0.7249895930290222, 0.5951259136199951, 0.6741101741790771, 0.7475871443748474, 0.7349218726158142, 0.585076093673706, 0.5115606784820557, 0.7414038181304932, 0.7313007712364197, 0.7304190397262573, 0.7352604269981384, 0.7376778721809387, 0.7290552854537964, 0.7486260533332825, 0.740125298500061, 0.5037787556648254, 0.736622154712677, 0.5745781064033508, 0.6240386962890625, 0.6620727777481079, 0.712047815322876, 0.505211591720581, 0.5012003779411316, 0.7383264303207397, 0.5880828499794006, 0.5068796873092651, 0.7233173847198486, 0.7421504259109497, 0.7408635020256042, 0.7437000870704651, 0.5076661109924316, 0.5293604135513306, 0.6977414488792419, 0.5160021781921387, 0.7438440322875977, 0.5503056049346924, 0.5035781860351562, 0.5042408108711243, 0.7330554723739624, 0.7385289072990417, 0.7256553173065186, 0.7222921848297119, 0.6468091011047363, 0.503773033618927, 0.7501965165138245, 0.5127284526824951, 0.7265205979347229, 0.7414326667785645, 0.7413856387138367, 0.736588180065155, 0.5566775798797607, 0.735162079334259, 0.650278627872467, 0.7417917847633362, 0.5050607919692993, 0.7359736561775208, 0.6353573799133301, 0.7369780540466309, 0.5369605422019958, 0.6448145508766174, 0.7439467310905457, 0.49915611743927, 0.7376179695129395, 0.6009958982467651, 0.538330614566803, 0.5026107430458069, 0.6988797783851624, 0.5020057559013367, 0.740405261516571, 0.7429671883583069, 0.7035428881645203, 0.7299017906188965, 0.5916684865951538, 0.5766925811767578, 0.7372682690620422, 0.6593648195266724, 0.7363273501396179, 0.49866586923599243, 0.5073007941246033, 0.7416989207267761, 0.5035126209259033, 0.7250428199768066, 0.7445371747016907, 0.7329424023628235, 0.6432485580444336, 0.7472401857376099, 0.7249525189399719, 0.7363349199295044, 0.6649666428565979, 0.7416290640830994, 0.7053052186965942, 0.7330173850059509, 0.5067772269248962, 0.7383419871330261, 0.7371459007263184, 0.7293294668197632, 0.7420994639396667, 0.7372580766677856, 0.501803994178772, 0.7220180034637451, 0.5039660334587097, 0.7362384796142578, 0.7383855581283569, 0.5119225382804871, 0.5189732313156128, 0.639143705368042, 0.7399701476097107, 0.7384909987449646, 0.739884614944458, 0.7310037612915039, 0.7488493919372559, 0.5044213533401489, 0.7358261346817017, 0.5339758396148682, 0.7444897890090942, 0.550338625907898, 0.5064563155174255, 0.7430049777030945, 0.5003593564033508, 0.7395941019058228, 0.5259012579917908, 0.7366802096366882, 0.7401382327079773, 0.6760450005531311, 0.7249858975410461, 0.6813421249389648, 0.7301203012466431, 0.7330417633056641, 0.74421626329422, 0.7351980209350586, 0.734630286693573, 0.7481688261032104, 0.665654718875885, 0.5062477588653564, 0.7427275776863098, 0.5135798454284668, 0.4995729923248291, 0.7474815249443054, 0.6427503824234009, 0.7149579524993896, 0.5043540596961975, 0.7342448830604553, 0.68417888879776, 0.7251264452934265, 0.7147618532180786, 0.7340677976608276, 0.739240825176239, 0.7413536906242371, 0.702532172203064, 0.5030307769775391, 0.5064670443534851, 0.7364783883094788, 0.5481889843940735, 0.6130598783493042, 0.6085312366485596, 0.502853274345398, 0.7506808638572693, 0.561327338218689, 0.741152822971344, 0.569186270236969, 0.5227153301239014, 0.7381391525268555, 0.6204935908317566, 0.7498791813850403, 0.7457850575447083, 0.7466118931770325, 0.7374913096427917, 0.5320147275924683, 0.7404118180274963, 0.7382014393806458, 0.5662118196487427, 0.5126305818557739, 0.743762195110321, 0.7400720119476318, 0.7377411127090454, 0.7423623204231262, 0.7414916157722473, 0.5048813223838806, 0.6403735280036926, 0.7429288029670715, 0.5181261897087097, 0.735460638999939, 0.7424960732460022, 0.5074735879898071, 0.7382850646972656, 0.51313716173172, 0.7412680387496948, 0.7360870242118835, 0.7349898219108582, 0.4987145960330963, 0.6964830160140991, 0.733817994594574, 0.6377585530281067, 0.6081552505493164, 0.7402830719947815, 0.5565507411956787, 0.5046274065971375, 0.5055198073387146, 0.7433868050575256, 0.7398902773857117, 0.6648661494255066, 0.7521187663078308, 0.7309179306030273, 0.5231075286865234, 0.7335172295570374, 0.5703557729721069, 0.7435302734375, 0.7391397953033447, 0.7364009618759155, 0.6287122964859009, 0.7244091033935547, 0.7385690212249756, 0.5782976150512695, 0.7328780293464661, 0.7368518710136414, 0.7392374873161316, 0.5058562755584717, 0.5082035660743713, 0.6195643544197083, 0.7477835416793823, 0.7362903356552124, 0.7513918876647949, 0.6769800782203674, 0.7471387386322021, 0.6388837695121765, 0.505217432975769, 0.5097973942756653, 0.7391591668128967, 0.7449830770492554, 0.6776859760284424, 0.7487024664878845, 0.7336098551750183, 0.5324576497077942, 0.7306761741638184, 0.5061244964599609, 0.7378908395767212, 0.6630604863166809, 0.502214252948761, 0.5029171705245972, 0.7340381741523743, 0.5762274265289307, 0.6382651925086975, 0.664534866809845, 0.5011740922927856, 0.6911455988883972, 0.5236884355545044, 0.7466476559638977, 0.7393541932106018, 0.5034124851226807, 0.6908296942710876, 0.7207954525947571, 0.7377198934555054, 0.7365205883979797, 0.7344284653663635, 0.7425053119659424, 0.7369011044502258, 0.5707666873931885, 0.5280107855796814, 0.7393569350242615, 0.74140465259552, 0.7412145733833313, 0.5890845656394958, 0.7370432615280151, 0.5030744075775146, 0.7389823794364929, 0.5372602343559265, 0.7253186702728271, 0.7367600798606873, 0.6153758764266968, 0.7079835534095764, 0.6467786431312561, 0.7287271022796631, 0.649774432182312, 0.5063374042510986, 0.5127822160720825, 0.6407222151756287, 0.7388917207717896, 0.4991479218006134, 0.7395794987678528, 0.6409361958503723, 0.5876538157463074, 0.502655565738678, 0.5049371123313904, 0.5351043939590454, 0.7345662713050842, 0.7368515729904175, 0.7352709174156189, 0.7430976629257202, 0.7344256043434143, 0.6860913038253784, 0.5052866339683533, 0.5037574172019958, 0.7184372544288635, 0.6606621146202087, 0.7523105144500732, 0.5981653928756714, 0.7451238632202148, 0.7375407218933105, 0.616040825843811, 0.5000242590904236, 0.7367016077041626, 0.505222499370575, 0.5084133744239807, 0.7443835139274597, 0.6809740662574768, 0.5818643569946289, 0.7437064051628113, 0.7348466515541077, 0.507562518119812, 0.6772861480712891, 0.674769401550293, 0.726409375667572, 0.5817796587944031, 0.5039153695106506, 0.7422966361045837, 0.7438344359397888, 0.5030003190040588, 0.7031515836715698, 0.7035799622535706, 0.7541711330413818, 0.7080813050270081, 0.5697336792945862, 0.564824104309082, 0.7332900762557983, 0.5738123655319214, 0.5255573391914368, 0.6979365944862366, 0.6843317747116089, 0.7419643402099609, 0.7442324161529541, 0.6942849159240723, 0.5126597285270691, 0.6107584834098816, 0.7384963035583496, 0.7342817783355713, 0.7305484414100647, 0.7402763366699219, 0.6456862092018127, 0.5026624202728271, 0.5016023516654968, 0.729000449180603, 0.524795413017273, 0.7442238926887512, 0.6909329295158386, 0.5808258056640625, 0.6706311106681824, 0.5187331438064575, 0.7138664126396179, 0.5068395733833313, 0.746123731136322, 0.626381516456604, 0.7410666942596436, 0.5027269124984741, 0.6221263408660889, 0.6356889605522156, 0.7545410394668579, 0.7406859993934631, 0.7020809054374695, 0.5270846486091614, 0.7382276654243469, 0.7462365627288818, 0.5033180117607117, 0.5386499762535095, 0.5094332695007324, 0.5197376012802124, 0.735664427280426, 0.7477675080299377, 0.7395713329315186, 0.7313877940177917, 0.6950287818908691, 0.6120387315750122, 0.6245827078819275, 0.739119291305542, 0.7406204342842102, 0.504215657711029, 0.7274947166442871, 0.7378048896789551, 0.7333441376686096]\n"
     ]
    }
   ],
   "source": [
    "cnn_perplexity_prediction_output = cnn_perplexity_classifier.predict(X)\n",
    "print(cnn_perplexity_prediction_output)"
   ]
  },
  {
   "cell_type": "code",
   "execution_count": null,
   "metadata": {
    "colab": {
     "base_uri": "https://localhost:8080/"
    },
    "id": "jvcs_AeZzipd",
    "outputId": "bdefbe0d-2cb1-4e20-906c-82c6d18f807e"
   },
   "outputs": [
    {
     "name": "stdout",
     "output_type": "stream",
     "text": [
      "CNN Perplexity Classifier\n",
      "Accuracy: 0.793\n",
      "F1: 0.7845993756503641\n",
      "ROC_AUC: 0.7947935237987919\n",
      "              precision    recall  f1-score   support\n",
      "\n",
      "       Human       0.83      0.77      0.80      1078\n",
      "     ChatGPT       0.75      0.82      0.78       922\n",
      "\n",
      "    accuracy                           0.79      2000\n",
      "   macro avg       0.79      0.79      0.79      2000\n",
      "weighted avg       0.80      0.79      0.79      2000\n",
      "\n"
     ]
    }
   ],
   "source": [
    "print(\"CNN Perplexity Classifier\")\n",
    "evaluate(cnn_perplexity_prediction_output, y, 0.6)"
   ]
  },
  {
   "cell_type": "code",
   "execution_count": 19,
   "metadata": {
    "colab": {
     "base_uri": "https://localhost:8080/"
    },
    "id": "d6I2Botd5AEV",
    "outputId": "a22cbfbd-9c40-4b40-c941-8899ecb05086"
   },
   "outputs": [
    {
     "name": "stdout",
     "output_type": "stream",
     "text": [
      "313/313 [==============================] - 4s 14ms/step\n",
      "[0.5050675868988037, 0.7337952256202698, 0.50079345703125, 0.7317712306976318, 0.49452948570251465, 0.7355908155441284, 0.6334221959114075, 0.7305535078048706, 0.7235416173934937, 0.7118577361106873, 0.7308946251869202, 0.5319964289665222, 0.6972798705101013, 0.7337028384208679, 0.703262984752655, 0.49970927834510803, 0.7253201603889465, 0.727218508720398, 0.7370782494544983, 0.4981735348701477, 0.4996785521507263, 0.7021787166595459, 0.5019441246986389, 0.4990313649177551, 0.7246415019035339, 0.7054855823516846, 0.7063658833503723, 0.7377186417579651, 0.7034016251564026, 0.4977579116821289, 0.7361698746681213, 0.7031199336051941, 0.7053592205047607, 0.6460078954696655, 0.7292850613594055, 0.6821516752243042, 0.4961388111114502, 0.73617023229599, 0.7272384762763977, 0.5069104433059692, 0.7260153293609619, 0.5012209415435791, 0.7341434359550476, 0.7061889171600342, 0.7066395878791809, 0.6700775027275085, 0.4986591935157776, 0.7129795551300049, 0.6412895917892456, 0.7203335762023926, 0.5024479627609253, 0.731957197189331, 0.5013285875320435, 0.7365666627883911, 0.4997684955596924, 0.4975666403770447, 0.5003194808959961, 0.5062925815582275, 0.5003790855407715, 0.7106517553329468, 0.5816158652305603, 0.5362126231193542, 0.7341954112052917, 0.518074631690979, 0.7147073149681091, 0.49478814005851746, 0.7322008609771729, 0.5043618083000183, 0.7051740884780884, 0.7097930908203125, 0.7358697056770325, 0.7355508804321289, 0.72262042760849, 0.49271637201309204, 0.7312663197517395, 0.7363990545272827, 0.5031575560569763, 0.7364063262939453, 0.5109437704086304, 0.7050900459289551, 0.7149173021316528, 0.737525224685669, 0.5043801665306091, 0.522976815700531, 0.7293175458908081, 0.7387248873710632, 0.503870964050293, 0.7304533123970032, 0.5285126566886902, 0.7384560108184814, 0.5062832832336426, 0.5161318182945251, 0.4990774095058441, 0.7358601689338684, 0.4971630573272705, 0.7328488230705261, 0.500749409198761, 0.5001980066299438, 0.7051845788955688, 0.6973963379859924, 0.6996152400970459, 0.6164844632148743, 0.7070988416671753, 0.7233352661132812, 0.7131631970405579, 0.7013392448425293, 0.7337090969085693, 0.4998645782470703, 0.528650164604187, 0.5270712971687317, 0.5001357197761536, 0.6986910104751587, 0.49945905804634094, 0.49658891558647156, 0.4984373450279236, 0.4999428689479828, 0.5375510454177856, 0.501136302947998, 0.7170647978782654, 0.7345195412635803, 0.7042617201805115, 0.5357409715652466, 0.7353816628456116, 0.6852487921714783, 0.711931586265564, 0.6460707783699036, 0.502422034740448, 0.7181493043899536, 0.5466496348381042, 0.7033911347389221, 0.49992498755455017, 0.4990086257457733, 0.49840137362480164, 0.7331753969192505, 0.7115055918693542, 0.4994974732398987, 0.7118491530418396, 0.5011487603187561, 0.5260530710220337, 0.7326260805130005, 0.4994279444217682, 0.6980776190757751, 0.738735556602478, 0.5000407099723816, 0.5017670392990112, 0.7019760608673096, 0.7325935959815979, 0.5259759426116943, 0.7124229669570923, 0.5741457939147949, 0.7157882452011108, 0.7020332217216492, 0.7282559871673584, 0.7099745273590088, 0.7251114249229431, 0.5021383166313171, 0.5010051131248474, 0.7280866503715515, 0.6921029686927795, 0.5012034177780151, 0.7044482231140137, 0.7156724333763123, 0.5137909650802612, 0.717193603515625, 0.48777443170547485, 0.5028595924377441, 0.7063503861427307, 0.7341564893722534, 0.7065519690513611, 0.7164980173110962, 0.4978126287460327, 0.7329476475715637, 0.7364304065704346, 0.723200798034668, 0.7234678864479065, 0.7307740449905396, 0.7023876905441284, 0.5042553544044495, 0.4994189739227295, 0.6943779587745667, 0.7020276188850403, 0.58882737159729, 0.7040302753448486, 0.5113353729248047, 0.5120864510536194, 0.6644356846809387, 0.7014691829681396, 0.616097092628479, 0.7278093695640564, 0.5019887685775757, 0.7180986404418945, 0.4984660744667053, 0.49882417917251587, 0.7019721865653992, 0.5028495192527771, 0.7141321301460266, 0.502363383769989, 0.7020735740661621, 0.511842668056488, 0.7348765134811401, 0.5013354420661926, 0.5079622864723206, 0.5483883619308472, 0.6388870477676392, 0.7314075231552124, 0.5012283325195312, 0.7362812757492065, 0.7037681341171265, 0.522068202495575, 0.5000571608543396, 0.49780064821243286, 0.5158571004867554, 0.723590075969696, 0.5006369948387146, 0.7019588351249695, 0.6978699564933777, 0.7193415760993958, 0.6872416734695435, 0.501556932926178, 0.7349496483802795, 0.7097758054733276, 0.6773743629455566, 0.7365170121192932, 0.5001488924026489, 0.49767258763313293, 0.7080273628234863, 0.5397005081176758, 0.5052763819694519, 0.724327027797699, 0.5120590925216675, 0.7009954452514648, 0.5117966532707214, 0.7334911227226257, 0.49889007210731506, 0.7176787853240967, 0.7316892743110657, 0.7239437103271484, 0.7107601165771484, 0.7219814658164978, 0.5023285150527954, 0.49911484122276306, 0.5007776618003845, 0.6850104331970215, 0.5003703832626343, 0.7041488885879517, 0.7295700907707214, 0.5015396475791931, 0.7352662682533264, 0.7228361368179321, 0.5018484592437744, 0.4986023008823395, 0.7322561144828796, 0.7244845032691956, 0.7232502698898315, 0.5055445432662964, 0.49997949600219727, 0.7064493894577026, 0.5042470097541809, 0.7217123508453369, 0.729369580745697, 0.7298684120178223, 0.7051898837089539, 0.5417677164077759, 0.4996706247329712, 0.49885469675064087, 0.5026284456253052, 0.49935683608055115, 0.5065629482269287, 0.5018349885940552, 0.4983932375907898, 0.7254493236541748, 0.4975195527076721, 0.6970178484916687, 0.7187970280647278, 0.7089124917984009, 0.7228063344955444, 0.7258053421974182, 0.5332178473472595, 0.7210648059844971, 0.6926209330558777, 0.7253354787826538, 0.7060819864273071, 0.7050010561943054, 0.7319201231002808, 0.49779656529426575, 0.49897873401641846, 0.531252920627594, 0.7011181116104126, 0.5195547938346863, 0.5043073296546936, 0.5003377795219421, 0.7142343521118164, 0.5001602172851562, 0.7159867882728577, 0.49941277503967285, 0.7355618476867676, 0.728423535823822, 0.7359732389450073, 0.7333848476409912, 0.7072629332542419, 0.5006489753723145, 0.6988961696624756, 0.7329334616661072, 0.7071363925933838, 0.7216268181800842, 0.7366014719009399, 0.7132808566093445, 0.7000046968460083, 0.5003664493560791, 0.49937087297439575, 0.7333546876907349, 0.6658217310905457, 0.49656373262405396, 0.49977898597717285, 0.7360110282897949, 0.7367599010467529, 0.4994148313999176, 0.7081491947174072, 0.7319563031196594, 0.7215473651885986, 0.7321084141731262, 0.7269428968429565, 0.7116934061050415, 0.6834509372711182, 0.7022967338562012, 0.5071506500244141, 0.5029221773147583, 0.7337508797645569, 0.4973754584789276, 0.5566522479057312, 0.7131829261779785, 0.7150688767433167, 0.4973587095737457, 0.7328941822052002, 0.5359452962875366, 0.7149286866188049, 0.7172147035598755, 0.5031952857971191, 0.5246227383613586, 0.5037615299224854, 0.4945211410522461, 0.7266807556152344, 0.5042588710784912, 0.4975791871547699, 0.7259280681610107, 0.6456006765365601, 0.7337465882301331, 0.7291334271430969, 0.7096700072288513, 0.7137071490287781, 0.7373761534690857, 0.4998921751976013, 0.5005025863647461, 0.5368657112121582, 0.5084025859832764, 0.5363593101501465, 0.6239311099052429, 0.7034475803375244, 0.7248837947845459, 0.7335032224655151, 0.5007240176200867, 0.5464724898338318, 0.6987564563751221, 0.7342284321784973, 0.4961179196834564, 0.5520693063735962, 0.7051638960838318, 0.5651242136955261, 0.7085617184638977, 0.5293039083480835, 0.5033122897148132, 0.7345906496047974, 0.5017908215522766, 0.7380333542823792, 0.7267072200775146, 0.6703068614006042, 0.7380331754684448, 0.5539146065711975, 0.49748241901397705, 0.7382532358169556, 0.7043582797050476, 0.7220583558082581, 0.49854305386543274, 0.7290142178535461, 0.5025399327278137, 0.7163580656051636, 0.5025177597999573, 0.5018341541290283, 0.7248405814170837, 0.580917477607727, 0.7236040830612183, 0.7300599813461304, 0.5013830065727234, 0.5049285888671875, 0.5020207762718201, 0.4958861768245697, 0.7285692691802979, 0.5026053190231323, 0.5019712448120117, 0.7232459187507629, 0.5030686855316162, 0.6801342368125916, 0.7331072092056274, 0.7138175964355469, 0.7296398878097534, 0.7290469408035278, 0.5076761245727539, 0.49897500872612, 0.690312385559082, 0.5011242032051086, 0.5014786124229431, 0.4997289180755615, 0.5009487271308899, 0.5002862811088562, 0.7333930730819702, 0.7139331698417664, 0.49995043873786926, 0.73243647813797, 0.5290866494178772, 0.7214582562446594, 0.49868643283843994, 0.7135661244392395, 0.7250620722770691, 0.4988444447517395, 0.5329939723014832, 0.7277486324310303, 0.7024651765823364, 0.7369990348815918, 0.7338616847991943, 0.7237765192985535, 0.7081157565116882, 0.4980144202709198, 0.624862015247345, 0.7034679651260376, 0.5027197003364563, 0.7261841893196106, 0.5773966908454895, 0.732632040977478, 0.6353645920753479, 0.5996030569076538, 0.6997233033180237, 0.5001944899559021, 0.5002074241638184, 0.5009438395500183, 0.49831849336624146, 0.7060782313346863, 0.5005536675453186, 0.721457839012146, 0.7354998588562012, 0.7155408263206482, 0.7189658880233765, 0.5006522536277771, 0.660972535610199, 0.7235655188560486, 0.7327848672866821, 0.6964043974876404, 0.7325000166893005, 0.5464701652526855, 0.5005197525024414, 0.7090767025947571, 0.7067623138427734, 0.7153264880180359, 0.7240926027297974, 0.7034335136413574, 0.7064377665519714, 0.7237920761108398, 0.501349151134491, 0.7084848284721375, 0.7311994433403015, 0.4984147846698761, 0.5035339593887329, 0.5149006843566895, 0.5015357732772827, 0.7350820899009705, 0.7256481051445007, 0.4985482692718506, 0.5310772061347961, 0.6799744367599487, 0.702564001083374, 0.5050603747367859, 0.7290836572647095, 0.6070132255554199, 0.5007607936859131, 0.5011717677116394, 0.7304644584655762, 0.7097246050834656, 0.7356205582618713, 0.5501046180725098, 0.7337854504585266, 0.4977704584598541, 0.7374600172042847, 0.5031098127365112, 0.7216439843177795, 0.7347999811172485, 0.7056691646575928, 0.5105161070823669, 0.7338824272155762, 0.5046098232269287, 0.7302722930908203, 0.5013580918312073, 0.7066290378570557, 0.500043511390686, 0.7334737181663513, 0.7037897706031799, 0.5009855031967163, 0.5004132390022278, 0.7022303342819214, 0.541974663734436, 0.7318676114082336, 0.7075609564781189, 0.7207398414611816, 0.49979934096336365, 0.7149641513824463, 0.5103598833084106, 0.5018876194953918, 0.7011760473251343, 0.727996289730072, 0.7331129908561707, 0.49887585639953613, 0.7039254307746887, 0.7335065007209778, 0.7237753868103027, 0.5028526782989502, 0.7058818340301514, 0.7080338597297668, 0.7071691751480103, 0.49110543727874756, 0.4990115165710449, 0.7224449515342712, 0.6647152304649353, 0.7167854905128479, 0.6138696074485779, 0.7320619225502014, 0.5004462003707886, 0.4994966983795166, 0.7181286811828613, 0.7282426953315735, 0.7116574645042419, 0.7356442213058472, 0.712657630443573, 0.7344093322753906, 0.5132583379745483, 0.7049527764320374, 0.7038915753364563, 0.5182207822799683, 0.7334015965461731, 0.5269345641136169, 0.6590791940689087, 0.4985211491584778, 0.732878565788269, 0.7334527969360352, 0.7352114915847778, 0.7351652383804321, 0.567774772644043, 0.5007340312004089, 0.501598060131073, 0.535244882106781, 0.5008643865585327, 0.4987550675868988, 0.7313649654388428, 0.5015418529510498, 0.7112454771995544, 0.7307660579681396, 0.4984161853790283, 0.49859753251075745, 0.49805164337158203, 0.7192303538322449, 0.7018492221832275, 0.6422330141067505, 0.4999362528324127, 0.49888280034065247, 0.7310824990272522, 0.7299391031265259, 0.525124192237854, 0.533043622970581, 0.6875284314155579, 0.7174127697944641, 0.5017244815826416, 0.7325089573860168, 0.7199809551239014, 0.5020121932029724, 0.7091481685638428, 0.5006029009819031, 0.5095481872558594, 0.5141978859901428, 0.7246114611625671, 0.7299028635025024, 0.49705153703689575, 0.6978235244750977, 0.7263479828834534, 0.5101093649864197, 0.7022496461868286, 0.7214953303337097, 0.7193928956985474, 0.7279796004295349, 0.5005319714546204, 0.4830842912197113, 0.5009116530418396, 0.6792246103286743, 0.4972893297672272, 0.731730580329895, 0.7344028353691101, 0.7306123971939087, 0.7170969843864441, 0.5004631280899048, 0.4984114170074463, 0.503577470779419, 0.5002291798591614, 0.7353448867797852, 0.6417381167411804, 0.5052153468132019, 0.7005038261413574, 0.7343522906303406, 0.5005180835723877, 0.49843308329582214, 0.6797244548797607, 0.7374518513679504, 0.5005747675895691, 0.499869167804718, 0.7053115963935852, 0.7321236729621887, 0.7350929975509644, 0.498599112033844, 0.722476065158844, 0.7245787382125854, 0.4990237057209015, 0.7353349924087524, 0.7268399000167847, 0.49962714314460754, 0.7370684146881104, 0.4981423020362854, 0.5036316514015198, 0.6929972171783447, 0.5052502155303955, 0.712152361869812, 0.5232557654380798, 0.5150006413459778, 0.7018926739692688, 0.5344839096069336, 0.4972482919692993, 0.7347109317779541, 0.7268853783607483, 0.5706916451454163, 0.6899509429931641, 0.5008435845375061, 0.5034070611000061, 0.7005906105041504, 0.4984567165374756, 0.49871769547462463, 0.563631534576416, 0.5173373818397522, 0.7265725135803223, 0.5065337419509888, 0.7251101732254028, 0.501099705696106, 0.5000694394111633, 0.496966689825058, 0.7024405002593994, 0.7003359198570251, 0.7248764038085938, 0.503957211971283, 0.7353272438049316, 0.5323862433433533, 0.5035778284072876, 0.4997795820236206, 0.7020710706710815, 0.635993480682373, 0.7329214215278625, 0.7105445861816406, 0.4988422691822052, 0.7126333713531494, 0.7254894971847534, 0.7185660600662231, 0.502619743347168, 0.5017699003219604, 0.5124024152755737, 0.5265721678733826, 0.7225986123085022, 0.5026404857635498, 0.7138983607292175, 0.4984716475009918, 0.4957094192504883, 0.5009338855743408, 0.5400189161300659, 0.7331486940383911, 0.7341201901435852, 0.502246081829071, 0.5096229314804077, 0.7078084349632263, 0.49859359860420227, 0.4983257055282593, 0.7245217561721802, 0.49951428174972534, 0.7038776278495789, 0.6797367930412292, 0.6700606942176819, 0.701751172542572, 0.4960716664791107, 0.4999614655971527, 0.7211987972259521, 0.704165518283844, 0.6954526901245117, 0.7233684062957764, 0.7359386086463928, 0.5015214681625366, 0.49861666560173035, 0.7334126830101013, 0.7374095916748047, 0.49968433380126953, 0.500034511089325, 0.7408490777015686, 0.500125527381897, 0.5006545782089233, 0.7084745168685913, 0.7383402585983276, 0.7023261189460754, 0.693366289138794, 0.5006232857704163, 0.49857303500175476, 0.49831506609916687, 0.7324685454368591, 0.4989640414714813, 0.6851306557655334, 0.6451702117919922, 0.6995864510536194, 0.5034762024879456, 0.5020461678504944, 0.7301761507987976, 0.610526978969574, 0.706247866153717, 0.49814411997795105, 0.6914699673652649, 0.7310256958007812, 0.5057205557823181, 0.7209392189979553, 0.5086901187896729, 0.6453023552894592, 0.7328479886054993, 0.49804508686065674, 0.5021891593933105, 0.7130526900291443, 0.5007323622703552, 0.49836084246635437, 0.49956077337265015, 0.6481267213821411, 0.7227649092674255, 0.7339617609977722, 0.49977752566337585, 0.5006807446479797, 0.5551313161849976, 0.6577252149581909, 0.7360862493515015, 0.5260456800460815, 0.7334710359573364, 0.699159562587738, 0.7202134728431702, 0.7343103885650635, 0.5153019428253174, 0.725242018699646, 0.7329434752464294, 0.7356876134872437, 0.5092927813529968, 0.7181400656700134, 0.7329872846603394, 0.7307004928588867, 0.5018629431724548, 0.6936589479446411, 0.7351696491241455, 0.584698498249054, 0.5147632360458374, 0.5002093315124512, 0.5011950731277466, 0.7322843074798584, 0.7348474264144897, 0.7281539440155029, 0.7350303530693054, 0.7094600200653076, 0.7319291830062866, 0.707126259803772, 0.7368418574333191, 0.5033555626869202, 0.5025649666786194, 0.7357344627380371, 0.6406079530715942, 0.5005850791931152, 0.5367758274078369, 0.49707889556884766, 0.7404081225395203, 0.7264623641967773, 0.5396853685379028, 0.6860687732696533, 0.7311198115348816, 0.7248532772064209, 0.7365080714225769, 0.5045311450958252, 0.5051280856132507, 0.7360562086105347, 0.6154729127883911, 0.7352005839347839, 0.72331702709198, 0.7237325310707092, 0.7228279113769531, 0.4994656443595886, 0.7171411514282227, 0.5028174519538879, 0.5040155649185181, 0.7312586903572083, 0.7228425145149231, 0.734648585319519, 0.7294939756393433, 0.582382082939148, 0.6822571158409119, 0.5037955641746521, 0.7383558750152588, 0.5014004111289978, 0.707109272480011, 0.7343854904174805, 0.5279650092124939, 0.4981183409690857, 0.7249521613121033, 0.5076018571853638, 0.709158718585968, 0.734950840473175, 0.7355381846427917, 0.7200783491134644, 0.7393770813941956, 0.4972529709339142, 0.7357283234596252, 0.7343482971191406, 0.5012252330780029, 0.5019939541816711, 0.7322348356246948, 0.4968661665916443, 0.5011671781539917, 0.7139330506324768, 0.49930599331855774, 0.4999607503414154, 0.7288306355476379, 0.7151551842689514, 0.5131896138191223, 0.5016249418258667, 0.5059053301811218, 0.7007035613059998, 0.5115123987197876, 0.7292645573616028, 0.5015825629234314, 0.6857003569602966, 0.7046118378639221, 0.5005723237991333, 0.684425413608551, 0.7012758851051331, 0.5031191110610962, 0.5009332895278931, 0.5003534555435181, 0.6251688599586487, 0.6280109882354736, 0.7002036571502686, 0.7024503946304321, 0.4986923635005951, 0.5012060403823853, 0.5003582835197449, 0.7058237791061401, 0.5172650218009949, 0.522271454334259, 0.7036877870559692, 0.7061050534248352, 0.7365414500236511, 0.5930262207984924, 0.7333183884620667, 0.5016164779663086, 0.5145236849784851, 0.7332034707069397, 0.49969688057899475, 0.5018882751464844, 0.7101466059684753, 0.5417848825454712, 0.5003954172134399, 0.7338861227035522, 0.7073801159858704, 0.729118287563324, 0.49756714701652527, 0.7070335149765015, 0.4975094199180603, 0.7344727516174316, 0.6942610740661621, 0.7033418416976929, 0.7167248725891113, 0.7145757079124451, 0.7336490750312805, 0.5438828468322754, 0.734784722328186, 0.7100217342376709, 0.6934083700180054, 0.554419219493866, 0.4950811266899109, 0.5701930522918701, 0.7029240727424622, 0.5015210509300232, 0.5016381144523621, 0.6834568977355957, 0.7364422678947449, 0.7291666865348816, 0.49842289090156555, 0.5257887840270996, 0.50194251537323, 0.5955525040626526, 0.5047935843467712, 0.7303928136825562, 0.729699432849884, 0.5008550882339478, 0.719022810459137, 0.5114675164222717, 0.4996570646762848, 0.7012485265731812, 0.7016979455947876, 0.6701222658157349, 0.5348279476165771, 0.7348169088363647, 0.7381604909896851, 0.7351527810096741, 0.49764254689216614, 0.4987182915210724, 0.7010914087295532, 0.4993245005607605, 0.4992116391658783, 0.7367388606071472, 0.7320101857185364, 0.5168513655662537, 0.7378871440887451, 0.737162172794342, 0.7348101139068604, 0.4970928728580475, 0.5023992657661438, 0.699324369430542, 0.7011807560920715, 0.49579617381095886, 0.5021329522132874, 0.5004340410232544, 0.5700638294219971, 0.5096973776817322, 0.5028349161148071, 0.6932038068771362, 0.49624815583229065, 0.7249534726142883, 0.7350385189056396, 0.7311848998069763, 0.7104112505912781, 0.5009202361106873, 0.49945542216300964, 0.7026494145393372, 0.5011463761329651, 0.5011521577835083, 0.7213354706764221, 0.5001682043075562, 0.5705485343933105, 0.724218487739563, 0.7377375364303589, 0.7046617865562439, 0.6561070084571838, 0.7343982458114624, 0.7277708649635315, 0.5018497705459595, 0.49682876467704773, 0.7315011620521545, 0.7258205413818359, 0.7058882713317871, 0.7349586486816406, 0.49541953206062317, 0.4989047944545746, 0.5902222990989685, 0.5005765557289124, 0.5200050473213196, 0.5036022663116455, 0.7327063679695129, 0.4980681240558624, 0.5413069725036621, 0.49997028708457947, 0.7254768013954163, 0.5031437277793884, 0.7401710748672485, 0.7183748483657837, 0.7138885855674744, 0.7367629408836365, 0.5030695796012878, 0.7019451260566711, 0.5000386238098145, 0.5016962289810181, 0.694179117679596, 0.5276013016700745, 0.49562644958496094, 0.7312015295028687, 0.498577356338501, 0.7194717526435852, 0.7367249727249146, 0.505969226360321, 0.4987219572067261, 0.732314944267273, 0.6987414360046387, 0.7323002815246582, 0.49904680252075195, 0.5899543762207031, 0.7341111302375793, 0.5028142929077148, 0.7039915323257446, 0.736900269985199, 0.7277277708053589, 0.500210165977478, 0.7367178797721863, 0.7038975358009338, 0.7342873215675354, 0.7140106558799744, 0.725070059299469, 0.5022225975990295, 0.6833943724632263, 0.4988706111907959, 0.7029054164886475, 0.5041491389274597, 0.7309540510177612, 0.7270293235778809, 0.707176148891449, 0.7322812080383301, 0.7362254858016968, 0.7336356043815613, 0.6832766532897949, 0.49871519207954407, 0.7188481092453003, 0.6276206374168396, 0.5030226111412048, 0.5530482530593872, 0.5058953166007996, 0.5001380443572998, 0.49906057119369507, 0.7170429229736328, 0.7335704565048218, 0.7022819519042969, 0.7064566016197205, 0.7349039316177368, 0.7229119539260864, 0.5606363415718079, 0.5141740441322327, 0.5697736144065857, 0.7319856286048889, 0.7142133712768555, 0.7282391786575317, 0.7379885911941528, 0.5012186765670776, 0.7002718448638916, 0.5017166137695312, 0.5003781318664551, 0.7332021594047546, 0.6919430494308472, 0.5025879144668579, 0.5021014213562012, 0.49965956807136536, 0.5022846460342407, 0.5355536341667175, 0.5022746920585632, 0.4998728632926941, 0.7339848875999451, 0.7330499291419983, 0.7295982837677002, 0.7241201400756836, 0.723689079284668, 0.7059749960899353, 0.7333191633224487, 0.5656307935714722, 0.49841636419296265, 0.7336664795875549, 0.7016336917877197, 0.5027387142181396, 0.682463526725769, 0.5021956562995911, 0.5000614523887634, 0.7319254875183105, 0.5134902596473694, 0.7310271859169006, 0.6947536468505859, 0.715417206287384, 0.49835875630378723, 0.6049720048904419, 0.6765477657318115, 0.7227087020874023, 0.5002126097679138, 0.5166009664535522, 0.6759140491485596, 0.7331759333610535, 0.7090563178062439, 0.49666154384613037, 0.7049306035041809, 0.7332093119621277, 0.7311078906059265, 0.4965254068374634, 0.7115828990936279, 0.7218544483184814, 0.6812540888786316, 0.6873175501823425, 0.5019205212593079, 0.7056657075881958, 0.6931448578834534, 0.5005175471305847, 0.7012771964073181, 0.5332725644111633, 0.5066337585449219, 0.699729323387146, 0.4984440207481384, 0.7357446551322937, 0.49869078397750854, 0.7075357437133789, 0.5725212097167969, 0.7348211407661438, 0.5003930926322937, 0.7194386720657349, 0.5905236005783081, 0.5017569661140442, 0.7220450639724731, 0.722135603427887, 0.7319443225860596, 0.5021140575408936, 0.7311800122261047, 0.7340039014816284, 0.6998189091682434, 0.733966588973999, 0.516486644744873, 0.5023154616355896, 0.5162010788917542, 0.7376886010169983, 0.716910719871521, 0.7321533560752869, 0.5075113773345947, 0.498911589384079, 0.5009806156158447, 0.7267731428146362, 0.5375250577926636, 0.5160235166549683, 0.7138962149620056, 0.4951930344104767, 0.707502543926239, 0.5003278851509094, 0.5001506805419922, 0.4984901547431946, 0.6984652876853943, 0.7074235081672668, 0.4993191361427307, 0.49988946318626404, 0.7195395827293396, 0.6861695051193237, 0.4998021125793457, 0.5025229454040527, 0.7296442985534668, 0.7046112418174744, 0.7351751327514648, 0.7144799828529358, 0.7288901209831238, 0.713981568813324, 0.5942744612693787, 0.7196285128593445, 0.727996289730072, 0.7031755447387695, 0.534371554851532, 0.4998864531517029, 0.7244052886962891, 0.7362421154975891, 0.5015089511871338, 0.4997657239437103, 0.5006890296936035, 0.7037811279296875, 0.7377493977546692, 0.7373984456062317, 0.7119312882423401, 0.723901093006134, 0.49986547231674194, 0.7286916375160217, 0.7210634350776672, 0.6991071701049805, 0.529550313949585, 0.5018810033798218, 0.6965709924697876, 0.7360442876815796, 0.6689667105674744, 0.7359611392021179, 0.7240751385688782, 0.5160963535308838, 0.7256556749343872, 0.7235448956489563, 0.5207965970039368, 0.5021510720252991, 0.5115211009979248, 0.7273101210594177, 0.4998778998851776, 0.504831075668335, 0.7316778898239136, 0.4985053241252899, 0.7234179377555847, 0.7342341542243958, 0.734628438949585, 0.49933305382728577, 0.4970219135284424, 0.722132682800293, 0.5009270906448364, 0.6755155920982361, 0.7057133316993713, 0.5007561445236206, 0.7329949736595154, 0.7325547933578491, 0.6374977827072144, 0.570898175239563, 0.6858693957328796, 0.7345656156539917, 0.7353773713111877, 0.7342221736907959, 0.5011703968048096, 0.502163827419281, 0.7387027740478516, 0.7288675904273987, 0.7350720763206482, 0.7324737906455994, 0.7201074361801147, 0.6071996688842773, 0.722500205039978, 0.49500322341918945, 0.7342353463172913, 0.7379031777381897, 0.6980398297309875, 0.5018879771232605, 0.7232546210289001, 0.4986850321292877, 0.5006589889526367, 0.7420178055763245, 0.7023969292640686, 0.5092980265617371, 0.7339501976966858, 0.5011245012283325, 0.5023536682128906, 0.7033360600471497, 0.5074633359909058, 0.5056988000869751, 0.7268739938735962, 0.5021083950996399, 0.7019486427307129, 0.5014307498931885, 0.7201371788978577, 0.5016515851020813, 0.7073997855186462, 0.5010193586349487, 0.7323812246322632, 0.7348131537437439, 0.5384994149208069, 0.7068532109260559, 0.7278311252593994, 0.7380223870277405, 0.4996645152568817, 0.4976911246776581, 0.5002367496490479, 0.7316530346870422, 0.5024420619010925, 0.515906572341919, 0.6777194738388062, 0.5340582132339478, 0.7344580888748169, 0.5132582187652588, 0.6985199451446533, 0.5032965540885925, 0.6975902318954468, 0.5009844899177551, 0.5140748023986816, 0.7243229746818542, 0.4978674352169037, 0.49774351716041565, 0.49973738193511963, 0.5212514400482178, 0.6987001299858093, 0.5303327441215515, 0.7360368371009827, 0.5954241156578064, 0.7027269005775452, 0.49981579184532166, 0.7101339101791382, 0.7112880349159241, 0.7237905263900757, 0.5355678200721741, 0.7158701419830322, 0.5033784508705139, 0.503251314163208, 0.7326399683952332, 0.5003601908683777, 0.49812695384025574, 0.5032458901405334, 0.5021411776542664, 0.7030919194221497, 0.7233716249465942, 0.7340935468673706, 0.7308439016342163, 0.7327539920806885, 0.5012441277503967, 0.502730131149292, 0.5252557992935181, 0.7150526642799377, 0.5397445559501648, 0.504188597202301, 0.5168023705482483, 0.5000191926956177, 0.7213993072509766, 0.49797675013542175, 0.7325543761253357, 0.7350689172744751, 0.5349586009979248, 0.546384334564209, 0.735556960105896, 0.505933940410614, 0.5300639271736145, 0.7319170832633972, 0.4984106421470642, 0.7308929562568665, 0.5515245199203491, 0.5018717050552368, 0.6886300444602966, 0.7180913090705872, 0.5019161105155945, 0.7361658811569214, 0.7125206589698792, 0.7255399227142334, 0.7385498881340027, 0.5001463890075684, 0.7339643239974976, 0.7109492421150208, 0.5333697199821472, 0.5006536841392517, 0.734433650970459, 0.7365992069244385, 0.7121508121490479, 0.5011838674545288, 0.7042720317840576, 0.5472627282142639, 0.7342923879623413, 0.5006083846092224, 0.7042667865753174, 0.7112811207771301, 0.7003190517425537, 0.7367268800735474, 0.5880796313285828, 0.569240152835846, 0.5009618997573853, 0.49828463792800903, 0.4981394410133362, 0.5284251570701599, 0.7345901727676392, 0.731396496295929, 0.7318310141563416, 0.49826520681381226, 0.7235931754112244, 0.7039120197296143, 0.5142033100128174, 0.7045207023620605, 0.6994826793670654, 0.7045376896858215, 0.497245728969574, 0.7366209030151367, 0.5026495456695557, 0.7252005934715271, 0.5311129689216614, 0.5492395162582397, 0.4986051619052887, 0.7327848076820374, 0.7317674160003662, 0.5023314356803894, 0.523610532283783, 0.4986853301525116, 0.7077620029449463, 0.733592689037323, 0.700911283493042, 0.500993549823761, 0.7376882433891296, 0.5276798605918884, 0.7341722249984741, 0.7249388098716736, 0.5020537972450256, 0.7225557565689087, 0.49659019708633423, 0.7160635590553284, 0.7082908153533936, 0.7380161881446838, 0.6412150263786316, 0.5065674185752869, 0.5529079437255859, 0.5223933458328247, 0.7341946959495544, 0.5003671646118164, 0.5305823087692261, 0.4982142150402069, 0.5018869042396545, 0.5026565194129944, 0.7228972911834717, 0.49852678179740906, 0.5047739148139954, 0.5026953220367432, 0.7019845247268677, 0.49789896607398987, 0.49753472208976746, 0.5232311487197876, 0.7283974289894104, 0.7341681718826294, 0.6612191796302795, 0.49987319111824036, 0.4971502125263214, 0.7356800436973572, 0.5028153657913208, 0.732792854309082, 0.704687774181366, 0.5018476247787476, 0.5988967418670654, 0.6971315741539001, 0.7329697012901306, 0.5008339285850525, 0.7368118762969971, 0.4981803297996521, 0.7042437791824341, 0.5138691663742065, 0.5567588210105896, 0.7287343740463257, 0.49976930022239685, 0.6592238545417786, 0.5603753924369812, 0.7327302694320679, 0.5078712701797485, 0.6969113349914551, 0.5126643180847168, 0.5011515617370605, 0.738418698310852, 0.5142204165458679, 0.7346335053443909, 0.7286255359649658, 0.7122616767883301, 0.5076240301132202, 0.49688175320625305, 0.4977225959300995, 0.7340119481086731, 0.5043660402297974, 0.7275192141532898, 0.5360713005065918, 0.7260146141052246, 0.735131561756134, 0.5057375431060791, 0.6265018582344055, 0.7036263346672058, 0.5127208232879639, 0.511205792427063, 0.7281903624534607, 0.5026752352714539, 0.7100073099136353, 0.49881428480148315, 0.6999123692512512, 0.7035803198814392, 0.5000338554382324, 0.7347816228866577, 0.7322337627410889, 0.7337316274642944, 0.5898470282554626, 0.5093374252319336, 0.7060693502426147, 0.5049443244934082, 0.5003241300582886, 0.7116191983222961, 0.7245396971702576, 0.6214647889137268, 0.5219354033470154, 0.7350028157234192, 0.49621713161468506, 0.7350918650627136, 0.50771164894104, 0.7349877953529358, 0.7372516393661499, 0.6979252099990845, 0.5016666650772095, 0.7048137187957764, 0.7336096167564392, 0.499891996383667, 0.7048963904380798, 0.7339235544204712, 0.7367917895317078, 0.515895664691925, 0.7062694430351257, 0.7324863076210022, 0.5403047800064087, 0.7363342046737671, 0.7072006464004517, 0.736731767654419, 0.6799286007881165, 0.7371343374252319, 0.7264845967292786, 0.6356610655784607, 0.4940851032733917, 0.7326193451881409, 0.5238092541694641, 0.49989861249923706, 0.7044312357902527, 0.4975341856479645, 0.5011914968490601, 0.7285174131393433, 0.7019331455230713, 0.7041451930999756, 0.49817386269569397, 0.7355458736419678, 0.6992712616920471, 0.5017784833908081, 0.5001212954521179, 0.7374776601791382, 0.7366335391998291, 0.714464545249939, 0.7340753078460693, 0.5586485266685486, 0.7018948197364807, 0.5318663120269775, 0.6965461373329163, 0.5018333196640015, 0.7008835077285767, 0.5021665692329407, 0.7018507719039917, 0.49686551094055176, 0.5011122822761536, 0.7306358218193054, 0.538777768611908, 0.7109623551368713, 0.504776120185852, 0.5037147402763367, 0.7245842814445496, 0.7092558145523071, 0.5725573897361755, 0.7105510830879211, 0.6154993176460266, 0.7225556373596191, 0.5051467418670654, 0.7297240495681763, 0.5057591795921326, 0.7264229655265808, 0.5003315806388855, 0.7367640733718872, 0.5420908331871033, 0.4993826448917389, 0.7022580504417419, 0.7025409936904907, 0.5184609889984131, 0.7342037558555603, 0.7364382147789001, 0.7195369601249695, 0.7090265154838562, 0.702251672744751, 0.4999602138996124, 0.7357006072998047, 0.7367667555809021, 0.6974701881408691, 0.7034780979156494, 0.7344095706939697, 0.7334141731262207, 0.5005550980567932, 0.6387258768081665, 0.7263662219047546, 0.5011633038520813, 0.49892234802246094, 0.7243941426277161, 0.7296607494354248, 0.5260214805603027, 0.703385591506958, 0.7045127153396606, 0.5338549017906189, 0.49820834398269653, 0.7293775677680969, 0.7341019511222839, 0.7330067753791809, 0.5340099930763245, 0.7281924486160278, 0.5137947201728821, 0.5010570287704468, 0.49771323800086975, 0.5045562982559204, 0.7005878686904907, 0.4975215196609497, 0.7391678690910339, 0.7019606232643127, 0.5025661587715149, 0.7362560033798218, 0.4915201961994171, 0.49750491976737976, 0.4981204569339752, 0.4975133538246155, 0.7128514051437378, 0.5137424468994141, 0.5016154646873474, 0.4998006224632263, 0.7250726222991943, 0.7357912659645081, 0.733783483505249, 0.5227696299552917, 0.7251951098442078, 0.7347568273544312, 0.4997574985027313, 0.49767765402793884, 0.7153422832489014, 0.7263331413269043, 0.7316763997077942, 0.7318331599235535, 0.500559389591217, 0.7358692288398743, 0.6163825392723083, 0.49998465180397034, 0.7072451710700989, 0.4998369812965393, 0.5009002089500427, 0.7359971404075623, 0.7340962290763855, 0.735697329044342, 0.708308219909668, 0.7146302461624146, 0.6166973114013672, 0.5008861422538757, 0.7317357659339905, 0.7034910321235657, 0.736235499382019, 0.49906468391418457, 0.5739841461181641, 0.7061867713928223, 0.498580664396286, 0.7339867949485779, 0.4978654980659485, 0.5393254160881042, 0.4971790015697479, 0.7000731229782104, 0.4944315254688263, 0.4975990653038025, 0.6069805026054382, 0.7239415645599365, 0.7132123112678528, 0.5394477844238281, 0.5017260313034058, 0.7103830575942993, 0.5032684803009033, 0.49911877512931824, 0.5001105666160583, 0.7037709951400757, 0.5098128914833069, 0.7375527620315552, 0.7265642285346985, 0.7017791271209717, 0.7059919238090515, 0.504547119140625, 0.49810370802879333, 0.7329819202423096, 0.502336859703064, 0.7323510050773621, 0.6177640557289124, 0.7352760434150696, 0.500152587890625, 0.5001187324523926, 0.7138993144035339, 0.5373731255531311, 0.5029222965240479, 0.5479282736778259, 0.7373332381248474, 0.702972412109375, 0.502490222454071, 0.6991185545921326, 0.5671559572219849, 0.5718629360198975, 0.7347615957260132, 0.7230785489082336, 0.735185980796814, 0.7380147576332092, 0.4998740255832672, 0.5384790301322937, 0.7043572068214417, 0.49617984890937805, 0.7034077048301697, 0.7168640494346619, 0.7362595796585083, 0.5056946277618408, 0.4989249110221863, 0.7350364327430725, 0.73280930519104, 0.7321014404296875, 0.5372827053070068, 0.5005679726600647, 0.5024758577346802, 0.5017468333244324, 0.7270075678825378, 0.49945154786109924, 0.7379531264305115, 0.5023400783538818, 0.7269642353057861, 0.49861395359039307, 0.7076478004455566, 0.4999454915523529, 0.5005398988723755, 0.5638046264648438, 0.5010486245155334, 0.5005449056625366, 0.5014933347702026, 0.497873991727829, 0.7285699248313904, 0.7241582274436951, 0.7349957227706909, 0.7356330752372742, 0.7055855393409729, 0.7074503898620605, 0.7045699954032898, 0.49696779251098633, 0.701987624168396, 0.499743789434433, 0.5015137791633606, 0.553615152835846, 0.49876025319099426, 0.7360531091690063, 0.5006287693977356, 0.5002204775810242, 0.500217616558075, 0.7355967164039612, 0.7320759892463684, 0.7264135479927063, 0.5317999720573425, 0.7028480172157288, 0.4968721270561218, 0.7373651266098022, 0.4968990087509155, 0.4983424246311188, 0.6493431925773621, 0.4978143572807312, 0.7367620468139648, 0.7346966862678528, 0.5401385426521301, 0.709227442741394, 0.5012897849082947, 0.6887633800506592, 0.7225136160850525, 0.541194498538971, 0.7310378551483154, 0.7329159379005432, 0.7336413264274597, 0.7348715662956238, 0.7289895415306091, 0.5762231945991516, 0.7106297612190247, 0.5011284351348877, 0.705603301525116, 0.5350497961044312, 0.5135049223899841, 0.5001275539398193, 0.7300634980201721, 0.7351172566413879, 0.7149887084960938, 0.7035038471221924, 0.734075129032135, 0.7370004057884216, 0.5886390209197998, 0.6890851855278015, 0.7032764554023743, 0.5000101923942566, 0.7336717247962952, 0.7296125888824463, 0.7316995859146118, 0.5111017823219299, 0.5041075944900513, 0.6770207285881042, 0.7303919792175293, 0.7140924334526062, 0.4973558783531189, 0.7233905792236328, 0.721204400062561, 0.7161134481430054, 0.7220445871353149, 0.5312231779098511, 0.7026272416114807, 0.5042151808738708, 0.7015670537948608, 0.737137496471405, 0.558597207069397, 0.7041475772857666, 0.7053956389427185, 0.7185555100440979, 0.5201662182807922, 0.4979231655597687, 0.6852434277534485, 0.7355032563209534, 0.7134785056114197, 0.5324006676673889, 0.7342312335968018, 0.7250797748565674, 0.4986874461174011, 0.7326744198799133, 0.7052262425422668, 0.5377951264381409, 0.5023072957992554, 0.500427782535553, 0.7212804555892944, 0.519195556640625, 0.5008092522621155, 0.5366373062133789, 0.5210485458374023, 0.5016460418701172, 0.5024955868721008, 0.5016402006149292, 0.7081819772720337, 0.5354119539260864, 0.7305358052253723, 0.7316620945930481, 0.5087621808052063, 0.5022446513175964, 0.7040627598762512, 0.7246376872062683, 0.4979741871356964, 0.7113137245178223, 0.7312771081924438, 0.7100859880447388, 0.5033281445503235, 0.7023680210113525, 0.7315983772277832, 0.6423771381378174, 0.4980466961860657, 0.5005138516426086, 0.7313450574874878, 0.5047237277030945, 0.5002377033233643, 0.5360281467437744, 0.7172636985778809, 0.7337929010391235, 0.4942273497581482, 0.7347462773323059, 0.5005543828010559, 0.49188169836997986, 0.7085327506065369, 0.7324054837226868, 0.7003118395805359, 0.700751781463623, 0.5651748180389404, 0.7315961718559265, 0.7336440086364746, 0.7206888794898987, 0.698702871799469, 0.5151781439781189, 0.4984495937824249, 0.7254035472869873, 0.7314226627349854, 0.7029983401298523, 0.7335212826728821, 0.7340651750564575, 0.6964689493179321, 0.497193306684494, 0.5005452036857605, 0.6945177316665649, 0.501049280166626, 0.7329021692276001, 0.4979837238788605, 0.513525128364563, 0.5234876871109009, 0.5065183043479919, 0.7355495095252991, 0.5009288787841797, 0.501727819442749, 0.7099466919898987, 0.7280398607254028, 0.7348710298538208, 0.6900115013122559, 0.5949844121932983, 0.5030800700187683, 0.7045455574989319, 0.7357322573661804, 0.5203283429145813, 0.7313751578330994, 0.6390306353569031, 0.5028011202812195, 0.6854408979415894, 0.7229532599449158, 0.5446264147758484, 0.5006117820739746, 0.5359167456626892, 0.7346026301383972, 0.7121570110321045, 0.5339812636375427, 0.7379699349403381, 0.7326607704162598, 0.5567469000816345, 0.7263648509979248, 0.5041204690933228, 0.4969950020313263, 0.728984534740448, 0.5002760887145996, 0.5319085717201233, 0.702131986618042, 0.5050649046897888, 0.5142040848731995, 0.49849221110343933, 0.49957796931266785, 0.7433809041976929, 0.7400405406951904, 0.5143348574638367, 0.7230257987976074, 0.7159764170646667, 0.7012817859649658, 0.5014182925224304, 0.6555450558662415, 0.6976833939552307, 0.7139620780944824, 0.7315385937690735, 0.7343788743019104, 0.5014477968215942, 0.49821290373802185, 0.6535117030143738, 0.7317941188812256, 0.5208049416542053, 0.7031209468841553, 0.5008998513221741, 0.7356054782867432, 0.5339159369468689, 0.5367408990859985, 0.7358576655387878, 0.500130832195282, 0.5080061554908752, 0.7247982025146484, 0.6979577541351318, 0.7363708019256592, 0.7339736223220825, 0.728645384311676, 0.5066853165626526, 0.7036426067352295, 0.502419114112854, 0.5145820379257202, 0.7154541611671448, 0.5056895017623901, 0.7377724647521973, 0.5169965624809265, 0.739521324634552, 0.5001031756401062, 0.501171886920929, 0.70430988073349, 0.713468074798584, 0.7371872663497925, 0.7034916281700134, 0.7221841812133789, 0.7320544719696045, 0.7043291330337524, 0.700905442237854, 0.6979111433029175, 0.6670252680778503, 0.5016279220581055, 0.7282159328460693, 0.5131385922431946, 0.7033267021179199, 0.6891083717346191, 0.5006041526794434, 0.7345592975616455, 0.734708845615387, 0.7353520393371582, 0.536798357963562, 0.7259218096733093, 0.7039226293563843, 0.6047781705856323, 0.7059531211853027, 0.49894052743911743, 0.7353197932243347, 0.49733513593673706, 0.7331153750419617, 0.5027527809143066, 0.7356104850769043, 0.5013807415962219, 0.4970559775829315, 0.5003830194473267, 0.7171971201896667, 0.7298920750617981, 0.4966440796852112, 0.7052547335624695, 0.5012806057929993, 0.5002474188804626, 0.7211849689483643, 0.5022953152656555, 0.6077375411987305, 0.5021312832832336, 0.5329529643058777, 0.730908989906311, 0.7096614241600037, 0.7162718176841736, 0.49970147013664246, 0.5031766295433044, 0.5214811563491821, 0.7038320302963257, 0.6573324799537659, 0.7057518362998962, 0.5040923357009888, 0.7327401638031006, 0.6965965628623962, 0.4984245300292969, 0.5329667329788208, 0.500768780708313, 0.4972403943538666, 0.7329715490341187, 0.7362120151519775, 0.7150622010231018, 0.7325701117515564, 0.5023303031921387, 0.7300510406494141, 0.5013501048088074, 0.5372989773750305, 0.5004182457923889, 0.718072772026062, 0.5173782706260681, 0.5023249983787537, 0.7257992029190063, 0.5140406489372253, 0.6234564185142517, 0.5001299381256104, 0.5873459577560425, 0.7192994356155396, 0.7341387271881104, 0.5076552629470825, 0.6860878467559814, 0.504715085029602, 0.5085952877998352, 0.5131931304931641, 0.7200859189033508, 0.5030494332313538, 0.6118480563163757, 0.7309798002243042, 0.500943124294281, 0.49585211277008057, 0.5141746997833252, 0.5005484223365784, 0.7257697582244873, 0.4992598295211792, 0.728132426738739, 0.70506352186203, 0.6973055601119995, 0.5207815170288086, 0.7334372997283936, 0.7332367897033691, 0.6934463977813721, 0.4999868869781494, 0.5015227198600769, 0.7039313912391663, 0.702437698841095, 0.5028338432312012, 0.7327508330345154, 0.7024908661842346, 0.7322912216186523, 0.6957694888114929, 0.4999273121356964, 0.7033080458641052, 0.5362727642059326, 0.692947506904602, 0.5216076970100403, 0.7313177585601807, 0.5008790493011475, 0.7318233251571655, 0.500282883644104, 0.5020591020584106, 0.7289984226226807, 0.61086106300354, 0.5016419887542725, 0.5015396475791931, 0.706744372844696, 0.7308347821235657, 0.49753445386886597, 0.7205374836921692, 0.733903706073761, 0.497864305973053, 0.7160192131996155, 0.7353785634040833, 0.7314924001693726, 0.6946123242378235, 0.7191583514213562, 0.7303812503814697, 0.5126810669898987, 0.500706136226654, 0.5020520091056824, 0.49848052859306335, 0.5012174248695374, 0.5409424304962158, 0.7054571509361267, 0.7079867124557495, 0.7298462390899658, 0.7333807945251465, 0.7124826312065125, 0.7374649047851562, 0.7154248952865601, 0.5027526021003723, 0.7031534910202026, 0.5105055570602417, 0.5073075294494629, 0.7319867014884949, 0.5321009159088135, 0.7340132594108582, 0.703719973564148, 0.5011126399040222, 0.5557112097740173, 0.6914450526237488, 0.567847490310669, 0.5012043714523315, 0.6981520652770996, 0.5069424510002136, 0.7329489588737488, 0.7358882427215576, 0.7061118483543396, 0.7127800583839417, 0.5030401349067688, 0.5008134245872498, 0.7110832333564758, 0.7015688419342041, 0.5001333951950073, 0.7056736350059509, 0.7363995313644409, 0.7275345325469971, 0.4993402361869812, 0.700572669506073, 0.7329850196838379, 0.7344653606414795, 0.6995247006416321, 0.5326813459396362, 0.499454140663147, 0.5004814267158508, 0.7183580994606018, 0.7034642100334167, 0.7326946258544922, 0.5015389323234558, 0.7232562899589539, 0.5021818280220032, 0.7133026719093323, 0.5030971169471741, 0.5298227071762085, 0.49972882866859436, 0.7023850679397583, 0.7000447511672974, 0.7215086221694946, 0.5114867687225342, 0.6866662502288818, 0.49984267354011536, 0.5005937814712524, 0.5153650045394897, 0.7289115786552429, 0.7355016469955444, 0.525558590888977, 0.7034503221511841, 0.5701815485954285, 0.5250400900840759, 0.7335550785064697, 0.5082858204841614, 0.5009518265724182, 0.7083804607391357, 0.7144668698310852, 0.5295905470848083, 0.6885453462600708, 0.6766616702079773, 0.7323993444442749, 0.7380187511444092, 0.7079421281814575, 0.4952040910720825, 0.732648491859436, 0.530388593673706, 0.712670624256134, 0.7083254456520081, 0.7257242798805237, 0.52860426902771, 0.6842498183250427, 0.704389214515686, 0.6591507792472839, 0.7052708864212036, 0.7327685356140137, 0.7173107862472534, 0.7078994512557983, 0.6993892788887024, 0.7381395101547241, 0.7310308814048767, 0.7016704082489014, 0.7314931154251099, 0.7203218936920166, 0.5011588931083679, 0.5002946257591248, 0.7314785122871399, 0.7362946271896362, 0.5219513773918152, 0.5009805560112, 0.49755820631980896, 0.7193312644958496, 0.73259037733078, 0.7125856280326843, 0.49931687116622925, 0.5269094705581665, 0.7335774302482605, 0.7032272219657898, 0.5028600096702576, 0.7356931567192078, 0.7015081644058228, 0.7345079779624939, 0.4995511472225189, 0.7343741655349731, 0.7347096800804138, 0.7302692532539368, 0.5010352730751038, 0.5021418333053589, 0.5942871570587158, 0.6199157238006592, 0.5306423306465149, 0.497464656829834, 0.49802476167678833, 0.7230265736579895, 0.504088819026947, 0.502765417098999, 0.7358077168464661, 0.5011512041091919, 0.6987069845199585, 0.7022194266319275, 0.6303359866142273, 0.7040882706642151, 0.7264564037322998, 0.7330640554428101, 0.7362324595451355, 0.7317137122154236, 0.5009815096855164, 0.49724021553993225, 0.5003591179847717, 0.5027194619178772, 0.530465841293335, 0.4988507926464081, 0.503192126750946, 0.5051707029342651, 0.7295361161231995, 0.7290467619895935, 0.5148603916168213, 0.5460889339447021, 0.4965466558933258, 0.7127045392990112, 0.7330713868141174, 0.5038841962814331, 0.7362962961196899, 0.5044872760772705, 0.7221143245697021, 0.4959339499473572, 0.7051472663879395, 0.7376639246940613, 0.4984721839427948, 0.6126378178596497, 0.5027191638946533, 0.7093955874443054, 0.5330262780189514, 0.7147849798202515, 0.4998527765274048, 0.5014817118644714, 0.6343579292297363, 0.6255595088005066, 0.7323972582817078, 0.533747673034668, 0.7265905737876892, 0.7348169088363647, 0.7113457918167114, 0.5001316070556641, 0.706846296787262, 0.7151392698287964, 0.49997860193252563, 0.5028280019760132, 0.49968016147613525, 0.5025107264518738, 0.4992581605911255, 0.49996623396873474, 0.49955061078071594, 0.5000422596931458, 0.7352957129478455, 0.500058114528656, 0.5147569179534912, 0.7050164341926575, 0.511224091053009, 0.7375527024269104, 0.7387207746505737, 0.7030359506607056, 0.49889570474624634, 0.5008991956710815, 0.7324666976928711, 0.7014226317405701, 0.6525302529335022, 0.7072088718414307, 0.49338364601135254, 0.7359206080436707, 0.7349558472633362, 0.6782100796699524, 0.5026807188987732, 0.49796396493911743, 0.5004726648330688, 0.7035638689994812, 0.7101995348930359, 0.5947699546813965, 0.5308126211166382, 0.703098714351654, 0.7240341901779175, 0.7228337526321411, 0.7014110088348389, 0.502044677734375, 0.5140436291694641, 0.5213404893875122, 0.49786192178726196, 0.734913170337677, 0.49994754791259766, 0.5014165043830872, 0.5068714022636414, 0.5286245346069336, 0.6464816331863403, 0.4989745318889618, 0.7030823826789856, 0.5012103319168091, 0.7019013166427612, 0.7037783861160278, 0.6049314141273499, 0.735374927520752, 0.4974064230918884, 0.5023843050003052, 0.7117016315460205, 0.7296687364578247, 0.5048500299453735, 0.5016306638717651, 0.7022216320037842, 0.5846086740493774, 0.5310500860214233, 0.4990052878856659, 0.5010821223258972, 0.7368912696838379, 0.5023347735404968, 0.6175389289855957, 0.7323172688484192, 0.7025012969970703, 0.49796250462532043, 0.700459897518158, 0.7357584238052368, 0.5010640025138855, 0.7350468039512634, 0.5000597238540649, 0.70378178358078, 0.4999070167541504, 0.7367666363716125, 0.5003616213798523, 0.6603279113769531, 0.5269016623497009, 0.5471086502075195, 0.4980982542037964, 0.712259829044342, 0.5273802876472473, 0.7244075536727905, 0.7348198294639587, 0.5022248029708862, 0.7407388687133789, 0.5563506484031677, 0.5515751242637634, 0.6939035058021545, 0.72319495677948, 0.7021781802177429, 0.5013103485107422, 0.7049843668937683, 0.7075289487838745, 0.5023935437202454, 0.5346793532371521, 0.6512212753295898, 0.7022097110748291, 0.5009431838989258, 0.7097169756889343, 0.6418468356132507, 0.7091608643531799, 0.7353123426437378, 0.6968423128128052, 0.523290753364563, 0.6819973587989807, 0.7376249432563782, 0.6970765590667725, 0.7203332185745239, 0.7334927320480347, 0.5052335262298584, 0.7162215113639832, 0.5352996587753296, 0.6969067454338074, 0.5097772479057312, 0.5003105401992798, 0.5007752776145935, 0.729081392288208, 0.7332422137260437, 0.7211201190948486, 0.4999731779098511, 0.7342509031295776, 0.7301493883132935, 0.7294378280639648, 0.521636962890625, 0.5012392401695251, 0.49905064702033997, 0.7127416729927063, 0.49692994356155396, 0.7316100001335144, 0.7257595062255859, 0.502160906791687, 0.7371737360954285, 0.6435850262641907, 0.7352593541145325, 0.7324288487434387, 0.5006446242332458, 0.7228890061378479, 0.5137290358543396, 0.7144661545753479, 0.7320567965507507, 0.7052074670791626, 0.5423749685287476, 0.5421899557113647, 0.7562525868415833, 0.5026288032531738, 0.6685212254524231, 0.7362051010131836, 0.5181278586387634, 0.5000903606414795, 0.7271541953086853, 0.705872654914856, 0.608557939529419, 0.4998992085456848, 0.7326589822769165, 0.7097508311271667, 0.689005970954895, 0.4977317154407501, 0.5147387385368347, 0.7377564311027527, 0.7328020334243774, 0.49861329793930054, 0.49855467677116394, 0.4966965615749359, 0.7321842908859253, 0.7230961322784424, 0.49788227677345276, 0.49912476539611816, 0.5415205955505371, 0.5341816544532776, 0.7307758331298828, 0.5028530359268188, 0.7221812605857849, 0.5483910441398621, 0.7037806510925293, 0.7238662242889404, 0.7209262251853943, 0.5010133981704712, 0.6824741363525391, 0.5226629376411438, 0.5843217968940735, 0.5185670256614685, 0.49793851375579834, 0.4990348517894745, 0.7246819734573364, 0.7339407801628113, 0.5016521215438843, 0.4990231692790985, 0.5427431464195251, 0.5065282583236694, 0.6998158693313599, 0.5015144348144531, 0.7313178181648254, 0.5044880509376526, 0.5760769248008728, 0.49303850531578064, 0.7011170983314514, 0.49588724970817566, 0.5023263096809387, 0.5036276578903198, 0.5001539587974548, 0.7328967452049255, 0.7336162328720093, 0.7240386605262756, 0.7347639203071594, 0.5135157704353333, 0.7364728450775146, 0.5073652863502502, 0.7355902194976807, 0.5002982020378113, 0.7388859391212463, 0.49999943375587463, 0.7233237624168396, 0.6642029285430908, 0.7258556485176086, 0.7161487936973572, 0.6096807718276978, 0.7255944013595581, 0.7244271636009216, 0.5008181929588318, 0.7388715744018555, 0.49800315499305725, 0.7301636338233948, 0.7329814434051514, 0.6095238924026489, 0.703915536403656, 0.5008339881896973, 0.7360581159591675, 0.5383726358413696, 0.500027596950531, 0.7365902662277222, 0.7307591438293457, 0.5020979642868042, 0.5011025667190552, 0.7291244864463806, 0.5324077606201172, 0.7083978652954102, 0.5258609056472778, 0.49997299909591675, 0.7316755652427673, 0.7319440841674805, 0.5000089406967163, 0.5018095374107361, 0.4977192282676697, 0.7383738160133362, 0.49883946776390076, 0.5031297206878662, 0.7177618145942688, 0.53636234998703, 0.7209222316741943, 0.5292237997055054, 0.6411253809928894, 0.7326577305793762, 0.7371671795845032, 0.502781331539154, 0.7338222861289978, 0.5015780925750732, 0.7050312757492065, 0.49777957797050476, 0.49979567527770996, 0.729985237121582, 0.7300922274589539, 0.5083544254302979, 0.70356684923172, 0.688056468963623, 0.5179356932640076, 0.5004124045372009, 0.7089269161224365, 0.7365760803222656, 0.5026112198829651, 0.5021578073501587, 0.6994701623916626, 0.49747273325920105, 0.6973788142204285, 0.5363987684249878, 0.5038204789161682, 0.5014934539794922, 0.7157888412475586, 0.7304545044898987, 0.7265397906303406, 0.7040428519248962, 0.4991682469844818, 0.7340125441551208, 0.5051677823066711, 0.6720225214958191, 0.49800026416778564, 0.503429651260376, 0.5029001235961914, 0.7028325796127319, 0.5342226624488831, 0.7347139120101929, 0.7363214492797852, 0.5388475060462952, 0.7359752058982849, 0.5424702167510986, 0.5045021772384644, 0.5021353960037231, 0.5252222418785095, 0.5050048828125, 0.4965020418167114, 0.7303574681282043, 0.4996240735054016, 0.7171762585639954, 0.7321488857269287, 0.5265586972236633, 0.7162161469459534, 0.7023106813430786, 0.4985355734825134, 0.7059795260429382, 0.7333729267120361, 0.5000569224357605, 0.49943000078201294, 0.5052432417869568, 0.4952133595943451, 0.5067808628082275, 0.7328433990478516, 0.7004061341285706, 0.7406132221221924, 0.5044830441474915, 0.7317182421684265, 0.7317597270011902, 0.7313132882118225, 0.5061837434768677, 0.5010692477226257, 0.7052534818649292, 0.5010105967521667, 0.5040833353996277, 0.49897637963294983, 0.5081427693367004, 0.7034087777137756, 0.7156444787979126, 0.7073505520820618, 0.7346377968788147, 0.7363556027412415, 0.7318760752677917, 0.7321397066116333, 0.7065983414649963, 0.7363001704216003, 0.7244450449943542, 0.5011381506919861, 0.7026920914649963, 0.50062096118927, 0.5000847578048706, 0.5001558065414429, 0.7348092794418335, 0.5018289089202881, 0.5209129452705383, 0.5008596777915955, 0.7234025001525879, 0.7364913821220398, 0.7254932522773743, 0.7117679119110107, 0.5026344656944275, 0.7394021153450012, 0.7285121083259583, 0.6990482807159424, 0.7090715169906616, 0.705298125743866, 0.7304270267486572, 0.4981200098991394, 0.648548424243927, 0.702281653881073, 0.7327188849449158, 0.5025379657745361, 0.709358811378479, 0.7249962687492371, 0.7288996577262878, 0.5003061890602112, 0.5010137557983398, 0.6902944445610046, 0.5011404156684875, 0.724239706993103, 0.5021741390228271, 0.7166903018951416, 0.5285024642944336, 0.5881659388542175, 0.5350674986839294, 0.5029070377349854, 0.5004591345787048, 0.6681397557258606, 0.7355879545211792, 0.7096697092056274, 0.7306352853775024, 0.5316005349159241, 0.49961695075035095, 0.4987773597240448, 0.5162019729614258, 0.7297859191894531, 0.49863582849502563, 0.5043554902076721, 0.7153643369674683, 0.7340492010116577, 0.7292105555534363, 0.49532416462898254, 0.7252137064933777, 0.5097449421882629, 0.7298183441162109, 0.5007361769676208, 0.7155635356903076, 0.5242423415184021, 0.4985768496990204, 0.7027233839035034, 0.5099974274635315, 0.5015552043914795, 0.5513893365859985, 0.5344323515892029, 0.5392587780952454, 0.7028959393501282, 0.7364091277122498, 0.49688252806663513, 0.5022066831588745, 0.5018525123596191, 0.5168498754501343, 0.736020028591156, 0.5173808336257935, 0.7146701216697693, 0.49966272711753845, 0.7282118797302246, 0.6931475400924683, 0.722704291343689, 0.7018513679504395, 0.7317385077476501, 0.7306339144706726, 0.7355140447616577, 0.5007419586181641, 0.49862003326416016, 0.49921756982803345, 0.7302778959274292, 0.4973646402359009, 0.5013704895973206, 0.49994155764579773, 0.6717963218688965, 0.5320771932601929, 0.7032272815704346, 0.7301625609397888, 0.5255838632583618, 0.7235723733901978, 0.7328574657440186, 0.7277132868766785, 0.7176620364189148, 0.7258657813072205, 0.5016069412231445, 0.7335804104804993, 0.499685138463974, 0.5003522634506226, 0.5012370347976685, 0.6363592743873596, 0.7034406661987305, 0.7380040884017944, 0.5000361204147339, 0.7346997857093811, 0.569754958152771, 0.7043609619140625, 0.69535893201828, 0.5065319538116455, 0.5310662984848022, 0.5025696754455566, 0.5342752933502197, 0.7044457793235779, 0.7092208862304688, 0.6172357797622681, 0.5009388327598572, 0.7247011065483093, 0.7357834577560425, 0.5010273456573486, 0.549925684928894, 0.5027207732200623, 0.730232834815979, 0.7074015140533447, 0.7250964641571045, 0.4983386993408203, 0.5038739442825317, 0.7288540005683899, 0.5462456941604614, 0.7025688290596008, 0.5014471411705017, 0.6959542632102966, 0.7042090892791748, 0.4978855848312378, 0.736960232257843, 0.7084722518920898, 0.5011451840400696, 0.5057030320167542, 0.4974062442779541, 0.7336056232452393, 0.5014961957931519, 0.537339985370636, 0.7010561227798462, 0.7342124581336975, 0.6135101318359375, 0.5032228827476501, 0.49998927116394043, 0.7030216455459595, 0.6942125558853149, 0.5029562711715698, 0.7298309803009033, 0.5146570801734924, 0.49885010719299316, 0.5016067028045654, 0.4979805648326874, 0.7350257635116577, 0.5013734102249146, 0.7147813439369202, 0.713553786277771, 0.497525155544281, 0.5705057382583618, 0.7352872490882874, 0.49919936060905457, 0.5105860829353333, 0.7221161723136902, 0.5440536737442017, 0.5004618167877197, 0.498290091753006, 0.7214639782905579, 0.5712457895278931, 0.5023491978645325, 0.49951982498168945, 0.7317011952400208, 0.7127508521080017, 0.7306802868843079, 0.7045241594314575, 0.7140253782272339, 0.6602621078491211, 0.5018381476402283, 0.7248096466064453, 0.5411645770072937, 0.4980835020542145, 0.5038251280784607, 0.5204451084136963, 0.720403790473938, 0.5372465252876282, 0.7369683384895325, 0.7237940430641174, 0.4959262013435364, 0.5069913864135742, 0.7353566288948059, 0.5021020770072937, 0.5020601153373718, 0.7271002531051636, 0.7099782824516296, 0.5020029544830322, 0.7354124188423157, 0.49783432483673096, 0.495851993560791, 0.6040118336677551, 0.7364581227302551, 0.5371394157409668, 0.5040035843849182, 0.5344703197479248, 0.4991266131401062, 0.7304773926734924, 0.5011129975318909, 0.5025009512901306, 0.7035318613052368, 0.5466495752334595, 0.5027181506156921, 0.7322569489479065, 0.49444323778152466, 0.7080780267715454, 0.5025537014007568, 0.49957334995269775, 0.6482661366462708, 0.49809303879737854, 0.7363418340682983, 0.5013725161552429, 0.7215914130210876, 0.7076621651649475, 0.7001718282699585, 0.5027295351028442, 0.7062045335769653, 0.5090508460998535, 0.6906644701957703, 0.5003346800804138, 0.5013954043388367, 0.5459844470024109, 0.724767804145813, 0.7263084053993225, 0.7328366637229919, 0.7355868220329285, 0.5235024690628052, 0.7318335771560669, 0.5120307803153992, 0.6978757977485657, 0.5022382736206055, 0.7048187255859375, 0.4965589642524719, 0.5014025568962097, 0.7342172265052795, 0.7342245578765869, 0.7095051407814026, 0.6996780633926392, 0.7233095765113831, 0.5008271932601929, 0.4999958872795105, 0.4961288869380951, 0.49705925583839417, 0.5522668361663818, 0.4991914629936218, 0.5010145902633667, 0.5024447441101074, 0.5021597743034363, 0.7343584895133972, 0.7036639451980591, 0.49962615966796875, 0.5005639791488647, 0.5005947947502136, 0.4966646730899811, 0.5029197931289673, 0.6961766481399536, 0.7263190746307373, 0.7328804135322571, 0.5121106505393982, 0.4924548864364624, 0.7286339998245239, 0.7092819213867188, 0.7259871959686279, 0.4977985918521881, 0.4968602657318115, 0.5011211037635803, 0.7358202934265137, 0.7250497341156006, 0.7032438516616821, 0.7331085801124573, 0.7021417021751404, 0.7238799333572388, 0.5406916737556458, 0.5275704860687256, 0.5388590097427368, 0.5006954073905945, 0.70342618227005, 0.49939748644828796, 0.49556928873062134, 0.7334100008010864, 0.497409850358963, 0.5176616311073303, 0.7334184646606445, 0.5165032744407654, 0.6865310668945312, 0.7359477877616882, 0.5396785140037537, 0.7242884635925293, 0.7211598753929138, 0.7125865817070007, 0.7001419067382812, 0.7359365820884705, 0.7378219962120056, 0.5012914538383484, 0.7208077311515808, 0.5369763970375061, 0.7301227450370789, 0.501803994178772, 0.497153639793396, 0.7060098648071289, 0.7343801259994507, 0.5016762018203735, 0.7333937883377075, 0.7365368604660034, 0.5004788041114807, 0.7197353839874268, 0.7342433333396912, 0.6947227716445923, 0.5001375675201416, 0.7136943340301514, 0.7234339118003845, 0.5052814483642578, 0.4972982406616211, 0.7313030362129211, 0.5001821517944336, 0.5035170912742615, 0.5329316258430481, 0.7161028981208801, 0.7357504963874817, 0.5014451146125793, 0.736323893070221, 0.5300108194351196, 0.4993453025817871, 0.7360694408416748, 0.5322754979133606, 0.49760985374450684, 0.5042678117752075, 0.6993196606636047, 0.7339675426483154, 0.7052324414253235, 0.5009247064590454, 0.7009460926055908, 0.7323843240737915, 0.563523530960083, 0.7205334305763245, 0.7333929538726807, 0.7359671592712402, 0.7108227014541626, 0.5009123682975769, 0.5016240477561951, 0.7359287738800049, 0.7346864938735962, 0.49912384152412415, 0.4961959719657898, 0.5013841986656189, 0.6351807713508606, 0.5042926073074341, 0.7353162169456482, 0.7339673042297363, 0.5008262395858765, 0.7023457288742065, 0.7049609422683716, 0.5102654099464417, 0.5055246949195862, 0.7031199336051941, 0.7359647154808044, 0.7269405126571655, 0.5016112327575684, 0.7124095559120178, 0.5678682923316956, 0.7356547713279724, 0.5008524060249329, 0.5367404818534851, 0.7292106747627258, 0.7019495964050293, 0.5031265616416931, 0.7297990918159485, 0.7344834804534912, 0.5007824897766113, 0.4963942766189575, 0.5011119842529297, 0.49741604924201965, 0.6072526574134827, 0.7321889996528625, 0.5248296856880188, 0.7213600873947144, 0.5013808608055115, 0.5009726881980896, 0.5022401213645935, 0.7196473479270935, 0.5007219910621643, 0.6776566505432129, 0.49710211157798767, 0.5224356651306152, 0.501641035079956, 0.5022408962249756, 0.7361885905265808, 0.7367587685585022, 0.729040801525116, 0.7256066203117371, 0.7357300519943237, 0.7361996173858643, 0.5472210049629211, 0.7361303567886353, 0.7034223675727844, 0.713186502456665, 0.7173254489898682, 0.5015187859535217, 0.7042344808578491, 0.5052089691162109, 0.7029731869697571, 0.5013526082038879, 0.7020859718322754, 0.7279273271560669, 0.5008431077003479, 0.49771755933761597, 0.7450610399246216, 0.7249489426612854, 0.7312302589416504, 0.5021613836288452, 0.7605575919151306, 0.5132763981819153, 0.4991845488548279, 0.7324865460395813, 0.7320365309715271, 0.7114257216453552, 0.5051923394203186, 0.7026811838150024, 0.7117485404014587, 0.7010231018066406, 0.7340911626815796, 0.7321068048477173, 0.6363673210144043, 0.49920719861984253, 0.7021154165267944, 0.5027681589126587, 0.7349337339401245, 0.5015128254890442, 0.7341180443763733, 0.5718122124671936, 0.692642867565155, 0.6680763959884644, 0.7270025014877319, 0.7053508758544922, 0.7195767164230347, 0.7343142628669739, 0.5012941956520081, 0.5037519335746765, 0.7387032508850098, 0.5686381459236145, 0.4975125193595886, 0.5713801383972168, 0.6728819012641907, 0.4957014322280884, 0.7213044166564941, 0.7376976013183594, 0.7288011908531189, 0.49864012002944946, 0.629389762878418, 0.7349052429199219, 0.7351269721984863, 0.7210389971733093, 0.5162056684494019, 0.7105507254600525, 0.6959198713302612, 0.5227463841438293, 0.6644169092178345, 0.7143473625183105, 0.5111070871353149, 0.7082004547119141, 0.5299657583236694, 0.7117100358009338, 0.7338402271270752, 0.7226969599723816, 0.49704381823539734, 0.5018276572227478, 0.734603762626648, 0.7001729607582092, 0.6686512231826782, 0.7014520764350891, 0.5320844054222107, 0.7007394433021545, 0.4986754059791565, 0.5011301636695862, 0.5000959038734436, 0.525020182132721, 0.7340566515922546, 0.5332884788513184, 0.7172911763191223, 0.7321965098381042, 0.5002998113632202, 0.6428395509719849, 0.7076694369316101, 0.5194180011749268, 0.49923190474510193, 0.7356505990028381, 0.5032166242599487, 0.5111528635025024, 0.7354612350463867, 0.5056686401367188, 0.6480050683021545, 0.5008525252342224, 0.7284455895423889, 0.7353304624557495, 0.49758535623550415, 0.7024292349815369, 0.4996291697025299, 0.7038421034812927, 0.718173086643219, 0.6430385112762451, 0.5098362565040588, 0.7192555665969849, 0.5391263365745544, 0.5027151107788086, 0.7059096097946167, 0.7318881154060364, 0.5031097531318665, 0.5357994437217712, 0.5633561015129089, 0.49945947527885437, 0.7267459630966187, 0.734235405921936, 0.5002632737159729, 0.5028951168060303, 0.7261105179786682, 0.535423755645752, 0.7309344410896301, 0.6046364307403564, 0.49749067425727844, 0.7347375750541687, 0.7330300807952881, 0.7241185307502747, 0.5235899090766907, 0.6989989876747131, 0.7043086886405945, 0.7325088977813721, 0.5114893317222595, 0.5063640475273132, 0.5016860365867615, 0.4986388683319092, 0.7162056565284729, 0.5001309514045715, 0.7251830697059631, 0.5005446076393127, 0.5418199300765991, 0.5014846920967102, 0.6976131796836853, 0.4980523884296417, 0.5005196332931519, 0.7131334543228149, 0.7317891120910645, 0.505987823009491, 0.5009555220603943, 0.7042143940925598, 0.7300117015838623, 0.7164827585220337, 0.5006541013717651, 0.5924801230430603, 0.6678340435028076, 0.5075809955596924, 0.7107998728752136, 0.677388608455658, 0.501312792301178, 0.7017894387245178, 0.5145452618598938, 0.5222170352935791, 0.6820650696754456, 0.7338008284568787, 0.7286351323127747, 0.7350940704345703, 0.7022206783294678, 0.7366212010383606, 0.7287596464157104, 0.7344498038291931, 0.5142589807510376, 0.4984531104564667, 0.5003258585929871, 0.7031847238540649, 0.701219916343689, 0.5027498006820679, 0.4970299005508423, 0.723067045211792, 0.724972665309906, 0.7027385830879211, 0.6355088353157043, 0.7061641216278076, 0.7343031167984009, 0.7017428874969482, 0.7300172448158264, 0.736347496509552, 0.4994649887084961, 0.6386939287185669, 0.7351192831993103, 0.6806853413581848, 0.6059698462486267, 0.5783981680870056, 0.5022417306900024, 0.504981279373169, 0.730484664440155, 0.7333923578262329, 0.49925103783607483, 0.723713219165802, 0.7247944474220276, 0.504119336605072, 0.5940261483192444, 0.663316011428833, 0.7033259272575378, 0.7317500710487366, 0.7362418174743652, 0.7324066758155823, 0.7346733212471008, 0.705218493938446, 0.5023444294929504, 0.49889227747917175, 0.731669545173645, 0.7195651531219482, 0.7105640769004822, 0.4971143305301666, 0.7081055641174316, 0.4990234375, 0.7013339400291443, 0.5331473350524902, 0.7333575487136841, 0.7366192936897278, 0.7177410125732422, 0.6639538407325745, 0.7028200626373291, 0.49272194504737854, 0.7197926640510559, 0.5059981942176819, 0.709027886390686, 0.49880877137184143, 0.553411066532135, 0.7183517217636108, 0.500876247882843, 0.5008879899978638, 0.51466965675354, 0.7243633270263672, 0.4980950653553009, 0.5173349380493164, 0.5014907121658325, 0.6727588176727295, 0.7375189661979675, 0.505346417427063, 0.7313564419746399, 0.7033922672271729, 0.5259614586830139, 0.49836793541908264, 0.4972345232963562, 0.7322072386741638, 0.5011318325996399, 0.5275460481643677, 0.7091003060340881, 0.7142120003700256, 0.5001951456069946, 0.7051532864570618, 0.6203686594963074, 0.7373222708702087, 0.7342639565467834, 0.7333186268806458, 0.5002992153167725, 0.7375430464744568, 0.7215413451194763, 0.5000878572463989, 0.5173094868659973, 0.49936336278915405, 0.5373872518539429, 0.5348508954048157, 0.5542668700218201, 0.7302247285842896, 0.4997059404850006, 0.7202472686767578, 0.7109742760658264, 0.49922487139701843, 0.7086659669876099, 0.7151669263839722, 0.6774303913116455, 0.7264925241470337, 0.7348883152008057, 0.7351087927818298, 0.5005087852478027, 0.5953497290611267, 0.4933370053768158, 0.5015706419944763, 0.7258284687995911, 0.7021270990371704, 0.7005097270011902, 0.7375842928886414, 0.49821436405181885, 0.726115345954895, 0.7319631576538086, 0.4993166923522949, 0.7045823335647583, 0.5157853960990906, 0.49451273679733276, 0.7218680381774902, 0.4997271001338959, 0.7191467881202698, 0.7250889539718628, 0.4990966320037842, 0.5205608606338501, 0.733448326587677, 0.7321598529815674, 0.7284262776374817, 0.5461701154708862, 0.7311745285987854, 0.6982657313346863, 0.7252256870269775, 0.7195389866828918, 0.728274405002594, 0.5676224231719971, 0.7319605350494385, 0.5029636025428772, 0.5376912951469421, 0.720496416091919, 0.7062636017799377, 0.7018682360649109, 0.7324383854866028, 0.7129506468772888, 0.5005260705947876, 0.6435278654098511, 0.7337015271186829, 0.502984344959259, 0.7375501394271851, 0.5817139744758606, 0.7325533628463745, 0.50674968957901, 0.4985654950141907, 0.5087939500808716, 0.5161513686180115, 0.5011386275291443, 0.5043330788612366, 0.7005100846290588, 0.49962350726127625, 0.5012789964675903, 0.5093138217926025, 0.49990034103393555, 0.7354013919830322, 0.7326093316078186, 0.500812828540802, 0.6648298501968384, 0.7110109925270081, 0.7375243306159973, 0.7065596580505371, 0.7210001945495605, 0.5053470730781555, 0.7168118357658386, 0.7001048922538757, 0.7052789926528931, 0.7025487422943115, 0.4998142719268799, 0.7290273308753967, 0.7280170917510986, 0.6600460410118103, 0.7037513256072998, 0.5055524110794067, 0.4974258244037628, 0.7352646589279175, 0.5770341753959656, 0.7330803275108337, 0.5130996704101562, 0.7348572015762329, 0.49780431389808655, 0.709912121295929, 0.5018472075462341, 0.7035040855407715, 0.7239724397659302, 0.7088798880577087, 0.5018867254257202, 0.5030880570411682, 0.7077252268791199, 0.7370692491531372, 0.5017175078392029, 0.5221511721611023, 0.5007072687149048, 0.5029876828193665, 0.5285404324531555, 0.7143697142601013, 0.675529420375824, 0.5055374503135681, 0.719235897064209, 0.7363977432250977, 0.7389999032020569, 0.5231897234916687, 0.4988672435283661, 0.5013576149940491, 0.7077521085739136, 0.712194561958313, 0.7014140486717224, 0.5001715421676636, 0.5056557059288025, 0.5166677236557007, 0.6654847264289856, 0.5669260025024414, 0.4988548159599304, 0.5024386644363403, 0.5334633588790894, 0.5249989032745361, 0.7043701410293579, 0.4986707866191864, 0.6069779396057129, 0.5021880865097046, 0.7338699102401733, 0.5133146047592163, 0.7380684018135071, 0.5364143252372742, 0.7315613627433777, 0.5127116441726685, 0.4951615333557129, 0.6149752736091614, 0.637525200843811, 0.5004618763923645, 0.730269730091095, 0.5022745728492737, 0.5069795250892639, 0.7192977070808411, 0.7003830671310425, 0.7328355312347412, 0.49742409586906433, 0.5939603447914124, 0.7346094846725464, 0.7202585339546204, 0.5012906789779663, 0.7084260582923889, 0.7093255519866943, 0.5002061128616333, 0.7327421307563782, 0.7123275995254517, 0.5191978216171265, 0.49636223912239075, 0.7042420506477356, 0.7274655699729919, 0.5014362335205078, 0.73375004529953, 0.7359071969985962, 0.5002992749214172, 0.7024101614952087, 0.5107325911521912, 0.7362798452377319, 0.4979489743709564, 0.7347884774208069, 0.5020621418952942, 0.5065861940383911, 0.7146881222724915, 0.7018471360206604, 0.5218145847320557, 0.7321715950965881, 0.7023974061012268, 0.5001692771911621, 0.7025980949401855, 0.7347998023033142, 0.7347093224525452, 0.6781197190284729, 0.4974706172943115, 0.5026257038116455, 0.5144649744033813, 0.7303945422172546, 0.5003373026847839, 0.7345464825630188, 0.7337215542793274, 0.7053852677345276, 0.4997369647026062, 0.5251790285110474, 0.5033463835716248, 0.5014336109161377, 0.5006940960884094, 0.7357308864593506, 0.5292789340019226, 0.708979606628418, 0.5837455987930298, 0.5016488432884216, 0.7332786321640015, 0.5002170205116272, 0.49980708956718445, 0.7352622747421265, 0.5310977101325989, 0.6991809010505676, 0.5049304366111755, 0.5003471970558167, 0.5350308418273926, 0.7111607789993286, 0.4988750219345093, 0.49838393926620483, 0.7352967262268066, 0.5265577435493469, 0.7354323863983154, 0.7035173177719116, 0.7198547720909119, 0.7039453983306885, 0.7173414826393127, 0.7359431982040405, 0.6993762254714966, 0.5010665059089661, 0.732903003692627, 0.5657192468643188, 0.7338585257530212, 0.733525276184082, 0.7356280088424683, 0.50233393907547, 0.49923184514045715, 0.7265607714653015, 0.5012951493263245, 0.7358593940734863, 0.7281199097633362, 0.732236385345459, 0.4976614713668823, 0.7371570467948914, 0.71231609582901, 0.7336608171463013, 0.7284659743309021, 0.7302572727203369, 0.7066735029220581, 0.5001876354217529, 0.5042020082473755, 0.4990864098072052, 0.6003764867782593, 0.7315075993537903, 0.7029401659965515, 0.7308883666992188, 0.7149978876113892, 0.5446597933769226, 0.49637338519096375, 0.704945981502533, 0.7060452699661255, 0.7290295362472534, 0.7200069427490234, 0.693229615688324, 0.7025946974754333, 0.4994814991950989, 0.4961065948009491, 0.532424807548523, 0.7174853086471558, 0.4961760938167572, 0.4989337623119354, 0.5091867446899414, 0.6725995540618896, 0.7045959234237671, 0.7353559136390686, 0.7109893560409546, 0.49768227338790894, 0.7096807360649109, 0.7323117852210999, 0.6988331079483032, 0.5000452399253845, 0.5263001322746277, 0.7019455432891846, 0.49997594952583313, 0.5283478498458862, 0.5011599659919739, 0.5043857097625732, 0.7045666575431824, 0.5353971719741821, 0.5330413579940796, 0.5118172764778137, 0.7028368711471558, 0.7264798283576965, 0.7355067729949951, 0.6446875929832458, 0.4970358908176422, 0.498685747385025, 0.6972717642784119, 0.7299740314483643, 0.4971579611301422, 0.7322753071784973, 0.6991760730743408, 0.6902291178703308, 0.7028065323829651, 0.49759137630462646, 0.7330012917518616, 0.7256276607513428, 0.7284375429153442, 0.5030860900878906, 0.5001170039176941, 0.7350287437438965, 0.7201446890830994, 0.6999402642250061, 0.5403138399124146, 0.7196211814880371, 0.4983476996421814, 0.7312111854553223, 0.4916689693927765, 0.7051392197608948, 0.4957713782787323, 0.5471293330192566, 0.5033293962478638, 0.5000037550926208, 0.7003276944160461, 0.7046282887458801, 0.679130494594574, 0.5282449126243591, 0.5006059408187866, 0.500453531742096, 0.5020288228988647, 0.7245742082595825, 0.5026242136955261, 0.7032070159912109, 0.5013869404792786, 0.7358333468437195, 0.5005576014518738, 0.7026981115341187, 0.49767419695854187, 0.7370902299880981, 0.5019040703773499, 0.7304632067680359, 0.7132798433303833, 0.49820396304130554, 0.7262102961540222, 0.5000256896018982, 0.7383120656013489, 0.4980892241001129, 0.5021618008613586, 0.4961795210838318, 0.7020881772041321, 0.566580593585968, 0.7016720771789551, 0.5031641125679016, 0.7295949459075928, 0.4997839629650116, 0.7326100468635559, 0.7379563450813293, 0.5021706223487854, 0.7366857528686523, 0.7035222053527832, 0.6671368479728699, 0.7071974873542786, 0.7338630557060242, 0.7318171858787537, 0.7357550263404846, 0.5032052397727966, 0.7097196578979492, 0.7322072982788086, 0.5039498209953308, 0.7095698118209839, 0.5005010366439819, 0.6988457441329956, 0.6779018044471741, 0.5338793396949768, 0.5050045251846313, 0.5420734882354736, 0.7179369330406189, 0.7080748677253723, 0.7257997393608093, 0.7022300958633423, 0.735840916633606, 0.4964745342731476, 0.49818724393844604, 0.4872874617576599, 0.5131110548973083, 0.7066433429718018, 0.7034315466880798, 0.7024207711219788, 0.734472930431366, 0.5002060532569885, 0.7142882347106934, 0.7061421871185303, 0.7243075370788574, 0.7023031711578369, 0.49811938405036926, 0.7094462513923645, 0.7227451205253601, 0.5014479160308838, 0.7047749161720276, 0.7071375250816345, 0.7221215963363647, 0.4999573230743408, 0.6948402523994446, 0.700014054775238, 0.733846127986908, 0.7192197442054749, 0.49965420365333557, 0.512046754360199, 0.7202569246292114, 0.49951913952827454, 0.733903169631958, 0.7407076954841614, 0.7309578657150269, 0.5063512325286865, 0.4994226396083832, 0.6084779500961304, 0.4980369210243225, 0.7344958186149597, 0.7340439558029175, 0.702345073223114, 0.7334970235824585, 0.49995025992393494, 0.5350664854049683, 0.49849939346313477, 0.5332098603248596, 0.7170244455337524, 0.7334997653961182, 0.5272720456123352, 0.660226047039032, 0.5017918944358826, 0.5008384585380554, 0.7343069911003113, 0.7352070808410645, 0.5014901161193848, 0.5315136909484863, 0.6353201270103455, 0.7053219676017761, 0.5281025767326355, 0.5004642009735107, 0.4976043403148651, 0.7243908643722534, 0.5024805068969727, 0.48707064986228943, 0.7305389642715454, 0.4961628317832947, 0.5001240968704224, 0.5016373991966248, 0.7026345729827881, 0.7231821417808533, 0.5301371812820435, 0.4978053867816925, 0.4988507330417633, 0.7378120422363281, 0.49981489777565, 0.7105695605278015, 0.7306740880012512, 0.5024838447570801, 0.7032105922698975, 0.7023146152496338, 0.7327201962471008, 0.712324321269989, 0.497499018907547, 0.711795449256897, 0.7351919412612915, 0.718811571598053, 0.4948973059654236, 0.7228139042854309, 0.7331568598747253, 0.5041249394416809, 0.504473090171814, 0.5152252912521362, 0.5024599432945251, 0.49366581439971924, 0.7020920515060425, 0.5369557738304138, 0.7162463068962097, 0.5019616484642029, 0.4975855350494385, 0.4987976551055908, 0.7075735330581665, 0.705830454826355, 0.5006557106971741, 0.7325316071510315, 0.4975636303424835, 0.6524280905723572, 0.49778541922569275, 0.736142098903656, 0.5021988153457642, 0.7303454875946045, 0.7194121479988098, 0.5032305121421814, 0.7304049730300903, 0.7304418087005615, 0.500119149684906, 0.7045947313308716, 0.7136940956115723, 0.7155436277389526, 0.5023754835128784, 0.7343989014625549, 0.7353744506835938, 0.7163287401199341, 0.6983740925788879, 0.7337110042572021, 0.7185482978820801, 0.703607976436615, 0.5061497688293457, 0.4972039759159088, 0.7058016061782837, 0.5313469171524048, 0.6594078540802002, 0.7337652444839478, 0.495885968208313, 0.716308057308197, 0.5005916953086853, 0.5139104127883911, 0.5001364350318909, 0.7038182020187378, 0.718305230140686, 0.7098851203918457, 0.7312633991241455, 0.6987874507904053, 0.5055465698242188, 0.49757495522499084, 0.7072328925132751, 0.7319996953010559, 0.7313894629478455, 0.5195868611335754, 0.49915143847465515, 0.5413132905960083, 0.5005894303321838, 0.5034779906272888, 0.7078952193260193, 0.7203693985939026, 0.7002918124198914, 0.509983479976654, 0.7025267481803894, 0.710136353969574, 0.5015014410018921, 0.5032496452331543, 0.7132697105407715, 0.4970231056213379, 0.5025414824485779, 0.49947604537010193, 0.7173886299133301, 0.5947099924087524, 0.7010228037834167, 0.49811187386512756, 0.5014120936393738, 0.5121480822563171, 0.7269979119300842, 0.5033160448074341, 0.5013510584831238, 0.5010784864425659, 0.5402595400810242, 0.5058850646018982, 0.7245134115219116, 0.7251501679420471, 0.5014100074768066, 0.737705409526825, 0.49736902117729187, 0.7307624220848083, 0.733899712562561, 0.6038721799850464, 0.7044897079467773, 0.5008756518363953, 0.5005156993865967, 0.5006638169288635, 0.7366479635238647, 0.49927687644958496, 0.4984126091003418, 0.5066555738449097, 0.7363675832748413, 0.7319233417510986, 0.5107067823410034, 0.5384084582328796, 0.730252742767334, 0.5020486116409302, 0.6461175680160522, 0.5195922255516052, 0.7246580123901367, 0.7333948612213135, 0.7320209741592407, 0.5284773707389832, 0.5007361769676208, 0.7306391596794128, 0.5009352564811707, 0.7035720348358154, 0.7319550514221191, 0.6104762554168701, 0.6991519331932068, 0.7321025729179382, 0.7214356064796448, 0.7360818386077881, 0.7074434161186218, 0.7036097645759583, 0.6147117018699646, 0.5002109408378601, 0.7294935584068298, 0.7150211930274963, 0.5001547336578369, 0.5016050338745117, 0.7366853356361389, 0.503346860408783, 0.5013920068740845, 0.5012486577033997, 0.5013157725334167, 0.49702998995780945, 0.7310820817947388, 0.725774347782135, 0.7015805840492249, 0.7262848615646362, 0.5114555358886719, 0.5020872354507446, 0.6860058307647705, 0.7350051403045654, 0.7370523810386658, 0.7049598693847656, 0.5038641691207886, 0.7307913899421692, 0.7316389083862305, 0.5023943781852722, 0.7090087532997131, 0.5010669827461243, 0.724019467830658, 0.6432574987411499, 0.5009939670562744, 0.6887959837913513, 0.5061332583427429, 0.502058207988739, 0.4983958303928375, 0.5030016899108887, 0.7295660376548767, 0.5400443077087402, 0.5005829930305481, 0.7314252853393555, 0.5006636381149292, 0.7317081093788147, 0.49509838223457336, 0.49670180678367615, 0.7352049946784973, 0.7296603918075562, 0.7367765307426453, 0.4996308386325836, 0.7021679878234863, 0.7104311585426331, 0.5013923048973083, 0.7377781271934509, 0.4979192018508911, 0.73591148853302, 0.7074474096298218, 0.49891144037246704, 0.5012787580490112, 0.7337329983711243, 0.5025621652603149, 0.73585444688797, 0.697932243347168, 0.5040065050125122, 0.7105302810668945, 0.5086708664894104, 0.7354612946510315, 0.5009862780570984, 0.7302839756011963, 0.5263048410415649, 0.5026206374168396, 0.497133731842041, 0.5019537210464478, 0.5076591372489929, 0.5010631680488586, 0.49508506059646606, 0.5030655264854431, 0.7058469653129578, 0.7379154562950134, 0.4983168840408325, 0.7221226692199707, 0.5013380646705627, 0.49757835268974304, 0.5553045868873596, 0.5012023448944092, 0.501641035079956, 0.7339739203453064, 0.5205206871032715, 0.7157271504402161, 0.7334873676300049, 0.5014510154724121, 0.5014079213142395, 0.6834800839424133, 0.7109478116035461, 0.7359170317649841, 0.5289507508277893, 0.5436781048774719, 0.5022174119949341, 0.7039976119995117, 0.7343910932540894, 0.7337762713432312, 0.7120728492736816, 0.7371528148651123, 0.49603772163391113, 0.49623018503189087, 0.7026819586753845, 0.657995343208313, 0.5011469125747681, 0.736457884311676, 0.7348148822784424, 0.5047447681427002, 0.6270108222961426, 0.5027468800544739, 0.7301517128944397, 0.7085574865341187, 0.7312040328979492, 0.7356292605400085, 0.7365952134132385, 0.7330533862113953, 0.7049411535263062, 0.723500669002533, 0.7217549681663513, 0.7326813340187073, 0.5892110466957092, 0.5293745994567871, 0.7371352910995483, 0.7365584969520569, 0.5936586856842041, 0.49702218174934387, 0.5012440085411072, 0.7352532148361206, 0.5167953372001648, 0.7271028161048889, 0.4979771077632904, 0.7149195671081543, 0.7143456935882568, 0.7353977560997009, 0.7372880578041077, 0.7353787422180176, 0.7081961035728455, 0.7358174920082092, 0.5021958351135254, 0.7164549827575684, 0.7036082148551941, 0.6934477686882019, 0.7335853576660156, 0.7332196831703186, 0.5150547027587891, 0.5052023530006409, 0.7186886668205261, 0.5152232050895691, 0.7314454913139343, 0.733273446559906, 0.734272301197052, 0.7005635499954224, 0.5074139833450317, 0.49669772386550903, 0.6786137223243713, 0.5042086839675903, 0.706842303276062, 0.7022901773452759, 0.7129592299461365, 0.7075994610786438, 0.6249868273735046, 0.5016126036643982, 0.5396209359169006, 0.5597792267799377, 0.70345139503479, 0.5187976956367493, 0.7367036938667297, 0.7155157327651978, 0.5011147260665894, 0.7108449935913086, 0.6814656853675842, 0.5480071902275085, 0.5131431221961975, 0.735444188117981, 0.497027188539505, 0.5003238320350647, 0.7171170115470886, 0.6958086490631104, 0.7127063870429993, 0.4993358552455902, 0.7034726142883301, 0.7309023141860962, 0.4998961091041565, 0.6154640913009644, 0.7039657831192017, 0.7118121981620789, 0.7234071493148804, 0.4968380928039551, 0.5003629326820374, 0.7309173941612244, 0.7360496520996094, 0.7319465279579163, 0.7362155914306641, 0.5014953017234802, 0.5024836659431458, 0.6086466312408447, 0.7378565669059753, 0.5448533892631531, 0.7363816499710083, 0.7008468508720398, 0.7050611972808838, 0.5033882260322571, 0.5123348832130432, 0.7339445948600769, 0.7007743120193481, 0.4981509745121002, 0.7082981467247009, 0.7338165044784546, 0.7268854975700378, 0.500076949596405, 0.7014182209968567, 0.72185218334198, 0.5728265047073364, 0.7338067293167114, 0.7374019622802734, 0.7239243984222412, 0.7222784161567688, 0.6979842782020569, 0.7289904356002808, 0.7334482073783875, 0.5018986463546753, 0.5011121034622192, 0.7145019769668579, 0.7013195157051086, 0.734402060508728, 0.7335511445999146, 0.7334201335906982, 0.5046418309211731, 0.5216023921966553, 0.7343263030052185, 0.7357569932937622, 0.49953967332839966, 0.7226153612136841, 0.4989169239997864, 0.49686679244041443, 0.7325128316879272, 0.6360501050949097, 0.501936137676239, 0.7257419228553772, 0.5075799822807312, 0.49996593594551086, 0.7359522581100464, 0.5459290146827698, 0.7000918388366699, 0.7321386337280273, 0.7198289632797241, 0.5029951333999634, 0.7089342474937439, 0.6959488391876221, 0.6104357242584229, 0.4964466989040375, 0.735729992389679, 0.7066874504089355, 0.5023127198219299, 0.4979701638221741, 0.5747114419937134, 0.5312328934669495, 0.7329497337341309, 0.7198052406311035, 0.5938236117362976, 0.729066014289856, 0.5160946249961853, 0.5006951689720154, 0.4973472058773041, 0.7332071661949158, 0.5291027426719666, 0.5007739067077637, 0.49832457304000854, 0.7129349112510681, 0.7279555797576904, 0.49860426783561707, 0.6300961971282959, 0.5021321177482605, 0.7381301522254944, 0.7343695759773254, 0.7328313589096069, 0.7244895100593567, 0.5307108163833618, 0.7024860382080078, 0.7377845644950867, 0.7306618094444275, 0.5007175207138062, 0.6561326384544373, 0.7256155014038086, 0.5018975734710693, 0.4994968771934509, 0.5090453028678894, 0.7092074751853943, 0.4996531307697296, 0.5042323470115662, 0.500944197177887, 0.7159782648086548, 0.5019342303276062, 0.5014094114303589, 0.5020757913589478, 0.706687867641449, 0.7283909916877747, 0.623119592666626, 0.734411358833313, 0.7336362600326538, 0.5021836161613464, 0.7377708554267883, 0.5089759826660156, 0.500318169593811, 0.709801435470581, 0.50091153383255, 0.735268771648407, 0.5407170057296753, 0.7120515704154968, 0.5149048566818237, 0.706841230392456, 0.7331349849700928, 0.7266047596931458, 0.7365155816078186, 0.5030733942985535, 0.5019245147705078, 0.6640312075614929, 0.5026882290840149, 0.5299989581108093, 0.697604238986969, 0.7190131545066833, 0.5140295624732971, 0.700135350227356, 0.4982534348964691, 0.49768882989883423, 0.5198930501937866, 0.6984792351722717, 0.720097005367279, 0.4875313937664032, 0.5281035900115967, 0.5026456713676453, 0.7006227374076843, 0.7330293655395508, 0.7098037004470825, 0.7040358185768127, 0.7254374027252197, 0.5013479590415955, 0.7302178144454956, 0.7002535462379456, 0.7208265662193298, 0.7217284440994263, 0.5190921425819397, 0.49953293800354004, 0.5009853839874268, 0.5133751034736633, 0.5027229189872742, 0.7321524620056152, 0.7041281461715698, 0.5023093819618225, 0.7357408404350281, 0.5236672163009644, 0.709678590297699, 0.7257044315338135, 0.709531307220459, 0.6914148330688477, 0.7322752475738525, 0.5068034529685974, 0.5387921333312988, 0.6650373935699463, 0.4971759617328644, 0.4996243715286255, 0.7272394299507141, 0.7011436223983765, 0.7087377905845642, 0.7046751379966736, 0.502694308757782, 0.5004724860191345, 0.5022215247154236, 0.5004714727401733, 0.7309409976005554, 0.7088795304298401, 0.7374234199523926, 0.7130497694015503, 0.6937662363052368, 0.49882593750953674, 0.6803984642028809, 0.7069692611694336, 0.7034119963645935, 0.4998413026332855, 0.500443696975708, 0.5016846060752869, 0.7189929485321045, 0.7318165898323059, 0.7027983665466309, 0.7349623441696167, 0.49855756759643555, 0.7136921882629395, 0.5121205449104309, 0.7335359454154968, 0.5123822689056396, 0.5041691064834595, 0.5244923830032349, 0.7343174815177917, 0.7062568068504333, 0.5318102836608887, 0.732720673084259, 0.735968828201294, 0.7046924829483032, 0.7330853939056396, 0.7348833084106445, 0.7340238094329834, 0.734940230846405, 0.4987862706184387, 0.7354655265808105, 0.49870654940605164, 0.7351060509681702, 0.5380053520202637, 0.7341114282608032, 0.7355862855911255, 0.7196086049079895, 0.7123379707336426, 0.7364052534103394, 0.5010338425636292, 0.5004651546478271, 0.5295052528381348, 0.5004412531852722, 0.723288893699646, 0.7346087694168091, 0.49881061911582947, 0.7267866134643555, 0.5048715472221375, 0.7118000388145447, 0.735781729221344, 0.49944543838500977, 0.5355238914489746, 0.7361195087432861, 0.5047805905342102, 0.70772784948349, 0.5012336373329163, 0.7346168160438538, 0.735299289226532, 0.4940566122531891, 0.7384544610977173, 0.4959302544593811, 0.7313681840896606, 0.7226208448410034, 0.5019490122795105, 0.726102888584137, 0.4974682629108429, 0.7091463804244995, 0.500971794128418, 0.49658986926078796, 0.4984759986400604, 0.5002830624580383, 0.5029324889183044, 0.5866564512252808, 0.5018256306648254, 0.7229322195053101, 0.5290531516075134, 0.7300450801849365, 0.7151759266853333, 0.7060585021972656, 0.7305351495742798, 0.5065369606018066, 0.5002478957176208, 0.5128291249275208, 0.7371134757995605, 0.501621425151825, 0.5012481808662415, 0.7199001908302307, 0.5021986961364746, 0.505567729473114, 0.6615980267524719, 0.5016298294067383, 0.49781209230422974, 0.7217617630958557, 0.7063177824020386, 0.7133392095565796, 0.7341274619102478, 0.5361937880516052, 0.7053831219673157, 0.49876928329467773, 0.735504150390625, 0.5040619373321533, 0.6848354339599609, 0.7372817993164062, 0.7328127026557922, 0.7211629748344421, 0.7393465042114258, 0.732654869556427, 0.7359944581985474, 0.7173519134521484, 0.5009328126907349, 0.7347265481948853, 0.5005737543106079, 0.7134948968887329, 0.5009043216705322, 0.7310872077941895, 0.7017349004745483, 0.49980852007865906, 0.4992007315158844, 0.5010297894477844, 0.5234031677246094, 0.4973137080669403, 0.7127686142921448, 0.49711474776268005, 0.6972159147262573, 0.736162006855011, 0.4989873766899109, 0.706742525100708, 0.5013458728790283, 0.7338950037956238, 0.7165420055389404, 0.5007987022399902, 0.7368555665016174, 0.7212664484977722, 0.5014691352844238, 0.7285363674163818, 0.7041555047035217, 0.546055018901825, 0.7058596611022949, 0.7245979309082031, 0.730269730091095, 0.510848343372345, 0.5034367442131042, 0.5226332545280457, 0.7299098372459412, 0.5019562244415283, 0.7236643433570862, 0.7182854413986206, 0.7040115594863892, 0.7026908993721008, 0.5000668168067932, 0.5247592926025391, 0.673964262008667, 0.69364333152771, 0.7300050854682922, 0.5006048083305359, 0.5019428730010986, 0.7022475600242615, 0.7321944832801819, 0.5015676021575928, 0.5337569713592529, 0.49913254380226135, 0.5828437805175781, 0.7369005084037781, 0.4995190501213074, 0.5962461829185486, 0.4885852336883545, 0.5000366568565369, 0.69913649559021, 0.7176929712295532, 0.4982079267501831, 0.49671703577041626, 0.5012481808662415, 0.4994816482067108, 0.4947725534439087, 0.6818633079528809, 0.7371372580528259, 0.7324303984642029, 0.7268731594085693, 0.501022458076477, 0.6955939531326294, 0.737575352191925, 0.7018628716468811, 0.7260540723800659, 0.7170624136924744, 0.7348416447639465, 0.7242212295532227, 0.5036417841911316, 0.5013378262519836, 0.7058073878288269, 0.5058279037475586, 0.7337096333503723, 0.49726563692092896, 0.49984994530677795, 0.7053437232971191, 0.6528457403182983, 0.7031399011611938, 0.7297214269638062, 0.6814257502555847, 0.7239403128623962, 0.49688518047332764, 0.5341261029243469, 0.7290347814559937, 0.7269758582115173, 0.5011418461799622, 0.726268470287323, 0.4999701976776123, 0.6925963759422302, 0.4976609945297241, 0.49903663992881775, 0.707772433757782, 0.500329315662384, 0.499064564704895, 0.49769148230552673, 0.5156944990158081, 0.5001965165138245, 0.7304050326347351, 0.6969287395477295, 0.4969218969345093, 0.5001201033592224, 0.731106162071228, 0.6564579010009766, 0.528133749961853, 0.7351658344268799, 0.49899822473526, 0.7032338380813599, 0.5013323426246643, 0.503717303276062, 0.707911491394043, 0.49882492423057556, 0.7365943789482117, 0.7338984608650208, 0.7169741988182068, 0.4999244511127472, 0.692819356918335, 0.7358765006065369, 0.7081502676010132, 0.7251569628715515, 0.7255738377571106, 0.6951432228088379, 0.5027061104774475, 0.7025810480117798, 0.7345336079597473, 0.7016395330429077, 0.5031949877738953, 0.5031203627586365, 0.4983914792537689, 0.735437273979187, 0.736926257610321, 0.7109406590461731, 0.7043222188949585, 0.7340351939201355, 0.7319481372833252, 0.5324822068214417, 0.5045107007026672, 0.5019798874855042, 0.7381647825241089, 0.7341423034667969, 0.6893967390060425, 0.7370343208312988, 0.5013437271118164, 0.4953848123550415, 0.7311004996299744, 0.7071767449378967, 0.4975239336490631, 0.7364616990089417, 0.4995524287223816, 0.5010903477668762, 0.508101761341095, 0.6988273859024048, 0.7364050149917603, 0.49836692214012146, 0.7109514474868774, 0.7365051507949829, 0.7080951929092407, 0.7167048454284668, 0.5045518279075623, 0.6668956279754639, 0.5015937089920044, 0.7317863702774048, 0.7374582290649414, 0.7017785906791687, 0.7111091613769531, 0.7291348576545715, 0.7076333165168762, 0.50091153383255, 0.7095315456390381, 0.7333398461341858, 0.735143780708313, 0.7000442743301392, 0.5186949968338013, 0.7502869963645935, 0.7199135422706604, 0.7356812357902527, 0.7313265204429626, 0.4950786530971527, 0.7149928212165833, 0.4979364573955536, 0.5338311791419983, 0.7236502766609192, 0.5121024250984192, 0.5042115449905396, 0.5751498341560364, 0.5032293200492859, 0.7154726982116699, 0.49480512738227844, 0.612105667591095, 0.7306042313575745, 0.5207037329673767, 0.7289367318153381, 0.5988162755966187, 0.5040759444236755, 0.70645672082901, 0.5336849093437195, 0.5006592273712158, 0.7375023365020752, 0.7251930832862854, 0.71127849817276, 0.7335339784622192, 0.5027173757553101, 0.49966439604759216, 0.7023102045059204, 0.5019634962081909, 0.5328614711761475, 0.502557635307312, 0.5523942112922668, 0.5352302193641663, 0.7044842839241028, 0.5017579197883606, 0.738639235496521, 0.7229095697402954, 0.5024941563606262, 0.5368271470069885, 0.5050147175788879, 0.4981159567832947, 0.7035619616508484, 0.654550313949585, 0.6533786654472351, 0.7001256942749023, 0.7202870845794678, 0.7250158190727234, 0.49698925018310547, 0.49846795201301575, 0.7300987243652344, 0.49874210357666016, 0.7320663332939148, 0.6645448207855225, 0.6928853988647461, 0.5240059494972229, 0.7334424257278442, 0.5141239166259766, 0.7356703281402588, 0.5043347477912903, 0.7344222664833069, 0.7347874641418457, 0.7170668244361877, 0.49716904759407043, 0.5002949237823486, 0.6263797283172607, 0.5243453979492188, 0.5037108659744263, 0.5009304285049438, 0.5351923108100891, 0.5028843879699707, 0.5007232427597046, 0.7029889225959778, 0.7369195222854614, 0.7345370054244995, 0.7333395481109619, 0.7299505472183228, 0.7157720327377319, 0.7356701493263245, 0.6350358128547668, 0.652521550655365, 0.5246434807777405, 0.6568015217781067, 0.4989219903945923, 0.7341329455375671, 0.7266199588775635, 0.7345002889633179, 0.7242898941040039, 0.7127857208251953, 0.4980323910713196, 0.5027570724487305, 0.5000150799751282, 0.4996015429496765, 0.5000578761100769, 0.5288436412811279, 0.5000362396240234, 0.51243656873703, 0.5330774784088135, 0.7249325513839722, 0.7367163896560669, 0.7363289594650269, 0.4990231394767761, 0.7027140259742737, 0.7356656193733215, 0.5473464727401733, 0.7157477736473083, 0.4981299340724945, 0.49574753642082214, 0.5024648904800415, 0.4994265139102936, 0.5004339814186096, 0.5008106827735901, 0.499073326587677, 0.4997735023498535, 0.5283225178718567, 0.7017221450805664, 0.6817846894264221, 0.5052198767662048, 0.7212626338005066, 0.6996490955352783, 0.502108097076416, 0.7351217865943909, 0.7367129325866699, 0.4986896514892578, 0.5003808736801147, 0.5467942953109741, 0.538710355758667, 0.5015437602996826, 0.6892327070236206, 0.7342725992202759, 0.5011863708496094, 0.5206272602081299, 0.5040369629859924, 0.49780532717704773, 0.7113809585571289, 0.7057722806930542, 0.7274166941642761, 0.7089460492134094, 0.5196260213851929, 0.4961656928062439, 0.7019405364990234, 0.5002431869506836, 0.5023418664932251, 0.49950140714645386, 0.7144457697868347, 0.5088240504264832, 0.526138186454773, 0.736220121383667, 0.7300549745559692, 0.7125884890556335, 0.5223754048347473, 0.7326926589012146, 0.7089580297470093, 0.7035659551620483, 0.5400065779685974, 0.4983130395412445, 0.49789315462112427, 0.5129254460334778, 0.5426647067070007, 0.7352455258369446, 0.7072986364364624, 0.519612729549408, 0.5089956521987915, 0.7347913980484009, 0.7002840638160706, 0.7112666964530945, 0.5166404843330383, 0.6736177206039429, 0.5117415189743042, 0.7009925842285156, 0.7337093949317932, 0.736659824848175, 0.4975622892379761, 0.4969184994697571, 0.7213040590286255, 0.5239933133125305, 0.7337937355041504, 0.541438102722168, 0.7172443866729736, 0.6979315280914307, 0.7244707345962524, 0.5019814968109131, 0.7358322739601135, 0.5015437006950378, 0.7367939949035645, 0.7377294301986694, 0.7341157793998718, 0.7205935120582581, 0.5429430603981018, 0.5349089503288269, 0.4912690222263336, 0.7347657680511475, 0.7343649864196777, 0.5006766319274902, 0.6333261728286743, 0.4975639581680298, 0.701454758644104, 0.7158922553062439, 0.6664883494377136, 0.5125612020492554, 0.7262909412384033, 0.7081539034843445, 0.7381647825241089, 0.5007396936416626, 0.732742965221405, 0.5114094614982605, 0.7323381900787354, 0.704752504825592, 0.7359683513641357, 0.7042784094810486, 0.7353872060775757, 0.5009280443191528, 0.7306548953056335, 0.527649462223053, 0.7029388546943665, 0.7024735808372498, 0.5132545828819275, 0.5008845925331116, 0.7206249237060547, 0.5036264061927795, 0.4963354170322418, 0.4998118281364441, 0.5000454783439636, 0.5522294640541077, 0.5024516582489014, 0.7020753026008606, 0.6785743236541748, 0.4995878338813782, 0.6193561553955078, 0.7261430621147156, 0.7314501404762268, 0.49734383821487427, 0.5021536946296692, 0.5000163912773132, 0.5050666928291321, 0.7289061546325684, 0.5096396803855896, 0.500828206539154, 0.7345483303070068, 0.6935807466506958, 0.703621506690979, 0.5705231428146362, 0.7034027576446533, 0.7039790749549866, 0.7258685827255249, 0.7082671523094177, 0.72944575548172, 0.7334912419319153, 0.49865686893463135, 0.519085168838501, 0.5007330775260925, 0.517247200012207, 0.501477062702179, 0.5021659731864929, 0.4997999668121338, 0.7091517448425293, 0.4999867081642151, 0.5023400783538818, 0.7355924248695374, 0.7234292030334473, 0.7271990180015564, 0.497585654258728, 0.7343845367431641, 0.5019046068191528, 0.7165850400924683, 0.5130011439323425, 0.49953874945640564, 0.49799275398254395, 0.5006037354469299, 0.5026317238807678, 0.5000186562538147, 0.7026876211166382, 0.5023928284645081, 0.5062119960784912, 0.527808427810669, 0.7352344989776611, 0.5033682584762573, 0.7351346015930176, 0.545978844165802, 0.7388045191764832, 0.7224342226982117, 0.734462559223175, 0.731063961982727, 0.7144849300384521, 0.49738726019859314, 0.7370217442512512, 0.7274188995361328, 0.5014355182647705, 0.703594982624054, 0.7363377809524536, 0.5021721720695496, 0.5051869750022888, 0.5026293992996216, 0.5243635177612305, 0.690551221370697, 0.49937501549720764, 0.5009633898735046, 0.5017325282096863, 0.7017507553100586, 0.513802707195282, 0.721360981464386, 0.5000469088554382, 0.5018890500068665, 0.6005775928497314, 0.7270992398262024, 0.49837085604667664, 0.7366077899932861, 0.5016257762908936, 0.500392496585846, 0.734866201877594, 0.5018045902252197, 0.7386040091514587, 0.736036479473114, 0.7041997909545898, 0.6908060312271118, 0.7208214402198792, 0.7052291035652161, 0.6903458833694458, 0.6954594254493713, 0.7321249842643738, 0.5275464653968811, 0.503791868686676, 0.5724400877952576, 0.7077138423919678, 0.709874153137207, 0.5020845532417297, 0.728126049041748, 0.4965593218803406, 0.502465009689331, 0.5053486227989197, 0.7368417382240295, 0.734710693359375, 0.503179669380188, 0.5039634704589844, 0.7321953177452087, 0.505357563495636, 0.7200513482093811, 0.7309533953666687, 0.5395738482475281, 0.5298802852630615, 0.49589428305625916, 0.7045883536338806, 0.7289929986000061, 0.7345619797706604, 0.49063169956207275, 0.7380381226539612, 0.5026907920837402, 0.5010429620742798, 0.6934463381767273, 0.5100311636924744, 0.716575562953949, 0.7347922325134277, 0.49662476778030396, 0.4982011020183563, 0.49794620275497437, 0.7072176933288574, 0.5215415954589844, 0.7142403721809387, 0.509186863899231, 0.49856528639793396, 0.5007330775260925, 0.5264967083930969, 0.7014731168746948, 0.7223878502845764, 0.7359901666641235, 0.5021904110908508, 0.7136251330375671, 0.5004329085350037, 0.5367776155471802, 0.5018168687820435, 0.5045262575149536, 0.7013797760009766, 0.5045596361160278, 0.5050227642059326, 0.7342535257339478, 0.5074076652526855, 0.5006967782974243, 0.6784413456916809, 0.49819573760032654, 0.5002056956291199, 0.5018991231918335, 0.7337081432342529, 0.7038788199424744, 0.7041952610015869, 0.7349948883056641, 0.598275363445282, 0.7287203073501587, 0.7378073334693909, 0.7374223470687866, 0.49731338024139404, 0.7303786277770996, 0.6424708962440491, 0.4979948401451111, 0.5000297427177429, 0.7007291913032532, 0.7288002371788025, 0.6082323789596558, 0.7048386931419373, 0.702521026134491, 0.49982598423957825, 0.498610258102417, 0.49997779726982117, 0.7155054211616516, 0.563316822052002, 0.5378617644309998, 0.7317346334457397, 0.7338010668754578, 0.7046824097633362, 0.7308830618858337, 0.57590252161026, 0.7237522006034851, 0.49659156799316406, 0.7018719911575317, 0.4992816746234894, 0.5612475872039795, 0.49861085414886475, 0.49996480345726013, 0.7385782599449158, 0.5099320411682129, 0.5010368824005127, 0.6944870352745056, 0.5003150701522827, 0.7359814643859863, 0.5016008019447327, 0.7322518229484558, 0.715386688709259, 0.5135881304740906, 0.5011913180351257, 0.7126692533493042, 0.7377365231513977, 0.7339391112327576, 0.5008617639541626, 0.5003450512886047, 0.7018070220947266, 0.7339082956314087, 0.7343481779098511, 0.6262246966362, 0.7246717810630798, 0.497071772813797, 0.49676522612571716, 0.4979141354560852, 0.5027517080307007, 0.6803731322288513, 0.703284502029419, 0.49804362654685974, 0.7229568958282471, 0.5021942257881165, 0.5043748021125793, 0.4997349977493286, 0.733503520488739, 0.7351903915405273, 0.7267881631851196, 0.5520574450492859, 0.5039793848991394, 0.5022966861724854, 0.6612197160720825, 0.4992099702358246, 0.5023971199989319, 0.5057270526885986, 0.700652003288269, 0.5053298473358154, 0.4962795078754425, 0.499537855386734, 0.6896085739135742, 0.7099675536155701, 0.7167022228240967, 0.7138784527778625, 0.7252957224845886, 0.709290087223053, 0.6973976492881775, 0.5039435625076294, 0.7051189541816711, 0.7374556064605713, 0.730137050151825, 0.7141740322113037, 0.7255621552467346, 0.5018708109855652, 0.4932292699813843, 0.49230602383613586, 0.7361996173858643, 0.536561131477356, 0.5016925930976868, 0.7342263460159302, 0.5054122805595398, 0.501164436340332, 0.5007942914962769, 0.532275378704071, 0.7017500996589661, 0.7025240063667297, 0.6212249398231506, 0.49865269660949707, 0.5255951285362244, 0.7115628719329834, 0.7057504653930664, 0.5135554075241089, 0.5176013708114624, 0.7189502716064453, 0.6873311996459961, 0.5029401779174805, 0.5823830366134644, 0.7351025938987732, 0.7350250482559204, 0.5717753171920776, 0.5028621554374695, 0.7142552137374878, 0.7311515212059021, 0.7316257953643799, 0.7253369092941284, 0.7182362675666809, 0.5708016753196716, 0.706229567527771, 0.699459969997406, 0.7358675003051758, 0.5127224922180176, 0.49592655897140503, 0.7287941575050354, 0.7368162274360657, 0.500021755695343, 0.5008465647697449, 0.4967145621776581, 0.6770673990249634, 0.5014249682426453, 0.7378280162811279, 0.7021965980529785, 0.5297082662582397, 0.5011588931083679, 0.7381306886672974, 0.7371971607208252, 0.7200047373771667, 0.7217235565185547, 0.523969292640686, 0.5390178561210632, 0.5046788454055786, 0.7205552458763123, 0.7113828659057617, 0.49788570404052734, 0.7045846581459045, 0.7343677878379822, 0.7359991073608398, 0.6800991892814636, 0.7312108278274536, 0.7356405854225159, 0.6968226432800293, 0.49915963411331177, 0.5069039463996887, 0.733953595161438, 0.7214518189430237, 0.5569725036621094, 0.5024536848068237, 0.7310484647750854, 0.5375397205352783, 0.7026647329330444, 0.7049772143363953, 0.5347940921783447, 0.49872729182243347, 0.6207165718078613, 0.6639821529388428, 0.5073676109313965, 0.7227796316146851, 0.7342211604118347, 0.4978508949279785, 0.6996865272521973, 0.5774592161178589, 0.7288514971733093, 0.49698665738105774, 0.5009602904319763, 0.6560871005058289, 0.49742501974105835, 0.4988466799259186, 0.7344654202461243, 0.5177075266838074, 0.5012885332107544, 0.7177552580833435, 0.7258284091949463, 0.49740856885910034, 0.7114222645759583, 0.733705997467041, 0.5016184449195862, 0.7197065949440002, 0.501804769039154, 0.5281521677970886, 0.7393656969070435, 0.6986098289489746, 0.714821994304657, 0.5006716847419739, 0.7051378488540649, 0.5080909729003906, 0.502301812171936, 0.7328675389289856, 0.5026097893714905, 0.6445263624191284, 0.5010792016983032, 0.7367921471595764, 0.7174518704414368, 0.4985281229019165, 0.5252907276153564, 0.5008703470230103, 0.5065746903419495, 0.7299599051475525, 0.7089020609855652, 0.7088304162025452, 0.7142267227172852, 0.7019845843315125, 0.5080092549324036, 0.49703410267829895, 0.5233386158943176, 0.7040257453918457, 0.7058939337730408, 0.7327144145965576, 0.7356172800064087, 0.7076863050460815, 0.49850061535835266, 0.4996931850910187, 0.7092294096946716, 0.7228707671165466, 0.5345335602760315, 0.7092025876045227, 0.4967046082019806, 0.7204504609107971, 0.7128869891166687, 0.5021714568138123, 0.7372024059295654, 0.5014955401420593, 0.49784135818481445, 0.49738743901252747, 0.7359767556190491, 0.5014557838439941, 0.5016434192657471, 0.7187736630439758, 0.7050811052322388, 0.7328335642814636, 0.7306287288665771, 0.7284561395645142, 0.7167203426361084, 0.7044717669487, 0.5021589994430542, 0.49776506423950195, 0.7156749367713928, 0.5009080767631531, 0.5333014726638794, 0.7046518325805664, 0.7243843674659729, 0.7151153683662415, 0.7088412046432495, 0.7363207936286926, 0.734446108341217, 0.5017644166946411, 0.4985648989677429, 0.7324057817459106, 0.49816063046455383, 0.7348949313163757, 0.7218422889709473, 0.6381828784942627, 0.5007623434066772, 0.6575870513916016, 0.7201385498046875, 0.5002068877220154, 0.5020400881767273, 0.7112910151481628, 0.5350461006164551, 0.7359957695007324, 0.4990285634994507, 0.4984256625175476, 0.49882835149765015, 0.7332338690757751, 0.5013411045074463, 0.7017421126365662, 0.5040773749351501, 0.5005958080291748, 0.5096169114112854, 0.7018275260925293, 0.7111042141914368, 0.500870943069458, 0.6992563605308533, 0.736460268497467, 0.5199292302131653, 0.7342763543128967, 0.7316485047340393, 0.734855055809021, 0.5708573460578918, 0.687832236289978, 0.7052077651023865, 0.4983960688114166, 0.6977823376655579, 0.732090413570404, 0.4980315566062927, 0.5006631016731262, 0.7194234132766724, 0.5022783875465393, 0.7280711531639099, 0.7356536388397217, 0.5255197882652283, 0.7104877829551697, 0.5838449001312256, 0.5040631294250488, 0.5019367337226868, 0.5027992725372314, 0.5213123559951782, 0.499970942735672, 0.713736355304718, 0.7298599481582642, 0.740289568901062, 0.5002386569976807, 0.7075901031494141, 0.7057549953460693, 0.5005502104759216, 0.5656188726425171, 0.49981096386909485, 0.5006622076034546, 0.5224581360816956, 0.49999144673347473, 0.7029531002044678, 0.5416308045387268, 0.7190324664115906, 0.7345665693283081, 0.5007468461990356, 0.4991101622581482, 0.7270342111587524, 0.4980763792991638, 0.5278680324554443, 0.7292368412017822, 0.735034167766571, 0.49637892842292786, 0.5014625787734985, 0.49800989031791687, 0.49787068367004395, 0.7332640290260315, 0.7127373814582825, 0.5004084706306458, 0.7207720279693604, 0.5042174458503723, 0.4974527657032013, 0.7143989205360413, 0.4985259175300598, 0.7361058592796326, 0.7260368466377258, 0.5110991597175598, 0.5387536883354187, 0.7322068810462952, 0.7096681594848633, 0.5415360331535339, 0.7212397456169128, 0.7314684391021729, 0.7314971089363098, 0.5011719465255737, 0.7113834023475647, 0.7388157248497009, 0.7169264554977417, 0.4979351758956909, 0.5091596245765686, 0.5009745955467224, 0.7113089561462402, 0.5000378489494324, 0.7338485717773438, 0.5773525238037109, 0.5100252032279968, 0.6282163262367249, 0.7290762066841125, 0.5134333372116089, 0.4991110563278198, 0.4974912106990814, 0.5021669268608093, 0.5220143795013428, 0.73577880859375, 0.5013899207115173, 0.5158759355545044, 0.5038220286369324, 0.6944400072097778, 0.7158389687538147, 0.5000369548797607, 0.7046433687210083, 0.7336229681968689, 0.7131171822547913, 0.4982829689979553, 0.7036119103431702, 0.5586703419685364, 0.734679639339447, 0.7372238636016846, 0.5021966695785522, 0.5215047597885132, 0.6424394845962524, 0.5330723524093628, 0.7026028633117676, 0.721865713596344, 0.7071166038513184, 0.7057042121887207, 0.7359268665313721, 0.7022995352745056, 0.7318042516708374, 0.565919041633606, 0.7356528639793396, 0.7345959544181824, 0.6835142970085144, 0.7294029593467712, 0.496409147977829, 0.7104191780090332, 0.7324309945106506, 0.7011139392852783, 0.5006570816040039, 0.4944670796394348, 0.6926791667938232, 0.7166724801063538, 0.7378093600273132, 0.7257238626480103, 0.5304579734802246, 0.5006791353225708, 0.5442594289779663, 0.5013943314552307, 0.7243205308914185, 0.717029869556427, 0.5006006360054016, 0.5046500563621521, 0.6115041375160217, 0.7151468992233276, 0.5173694491386414, 0.5060728788375854, 0.7019398808479309, 0.5035529136657715, 0.7248724102973938, 0.49848416447639465, 0.7236118316650391, 0.7328176498413086, 0.6966878771781921, 0.5022822618484497, 0.7169042229652405, 0.5017661452293396, 0.7055943012237549, 0.7252770066261292, 0.7331406474113464, 0.7367404103279114, 0.4965016543865204, 0.7353923916816711, 0.7325035333633423, 0.7207641005516052, 0.5234676599502563, 0.7272352576255798, 0.7143167853355408, 0.49891987442970276, 0.49707943201065063, 0.5018514394760132, 0.5013692378997803, 0.5000305771827698, 0.49981656670570374, 0.5007823705673218, 0.49670055508613586, 0.5318861603736877, 0.70334392786026, 0.7111408114433289, 0.725843071937561, 0.501271665096283, 0.7393327355384827, 0.5010314583778381, 0.734058141708374, 0.5018884539604187, 0.500087320804596, 0.4971249997615814, 0.7020599842071533, 0.7030728459358215, 0.7001475095748901, 0.7043744921684265, 0.7032824158668518, 0.49980223178863525, 0.5007208585739136, 0.7022005915641785, 0.5022836923599243, 0.5087824463844299, 0.5008798837661743, 0.733612596988678, 0.7371283769607544, 0.7359616756439209, 0.7360208034515381, 0.498215913772583, 0.7368969917297363, 0.6972925066947937, 0.5052796602249146, 0.7362827062606812, 0.7355375289916992, 0.6572312712669373, 0.5040480494499207, 0.4981493055820465, 0.7368685007095337, 0.7366681098937988, 0.4963655173778534, 0.735784113407135, 0.7013068199157715, 0.7304391264915466, 0.5833802223205566, 0.7333587408065796, 0.5025626420974731, 0.7032372951507568, 0.5229170322418213, 0.5011513233184814, 0.7023364901542664, 0.505793035030365, 0.732347846031189, 0.5008261203765869, 0.5285409092903137, 0.5027045011520386, 0.501659631729126, 0.5333259105682373, 0.7011358737945557, 0.4987805187702179, 0.5001413822174072, 0.7019331455230713, 0.5363503098487854, 0.696881890296936, 0.7025922536849976, 0.7089078426361084, 0.4998910427093506, 0.5008489489555359, 0.6861141920089722, 0.7008564472198486, 0.5364601016044617, 0.5243032574653625, 0.5052270889282227, 0.7360219359397888, 0.6745884418487549, 0.7215220332145691, 0.510108470916748, 0.5004806518554688, 0.5005490779876709, 0.5013793706893921, 0.4998171329498291, 0.7353905439376831, 0.7307239174842834, 0.7194429636001587, 0.7149289846420288, 0.7355337738990784, 0.7307431697845459, 0.7109420299530029, 0.7048822045326233, 0.7196455001831055, 0.7121980786323547, 0.5408191680908203, 0.5016842484474182, 0.7348686456680298, 0.7093453407287598, 0.5043435096740723, 0.5017478466033936, 0.6567832827568054, 0.502538800239563, 0.5000445246696472, 0.7201222777366638, 0.7240292429924011, 0.5009835958480835, 0.4998391270637512, 0.4984598159790039, 0.7047482132911682, 0.6791856288909912, 0.7187798619270325, 0.5170121192932129, 0.7334989905357361, 0.706193745136261, 0.5115951895713806, 0.6884546279907227, 0.7138368487358093, 0.7215205430984497, 0.7188807129859924, 0.5400099158287048, 0.7281551957130432, 0.49824097752571106, 0.590567946434021, 0.5056842565536499, 0.7371456623077393, 0.4968821406364441, 0.4980480670928955, 0.7118362188339233, 0.7030414342880249, 0.7223068475723267, 0.7209819555282593, 0.7314997315406799, 0.494514137506485, 0.4992329478263855, 0.49766430258750916, 0.7218691110610962, 0.49939659237861633, 0.4996991455554962, 0.7035688161849976, 0.7157975435256958, 0.7253304719924927, 0.7018277049064636, 0.5195798277854919, 0.4985324442386627, 0.5039060711860657, 0.4984563887119293, 0.4969765245914459, 0.5016805529594421, 0.7039970755577087, 0.6871629953384399, 0.7340831160545349, 0.7371079325675964, 0.737730085849762, 0.7066380381584167, 0.5009166598320007, 0.5155038237571716, 0.4996384382247925, 0.502543032169342, 0.5002301335334778, 0.5032793879508972, 0.7309960722923279, 0.5008808374404907, 0.5039080381393433, 0.49894511699676514, 0.4994843900203705, 0.7369102239608765, 0.5061453580856323, 0.7310183644294739, 0.6927909851074219, 0.7221551537513733, 0.6982868313789368, 0.7121509313583374, 0.5028941631317139, 0.7323644161224365, 0.7243888974189758, 0.7368770837783813, 0.5084213614463806, 0.7369491457939148, 0.49683627486228943, 0.7369725108146667, 0.7375302910804749, 0.4998374283313751, 0.4984123408794403, 0.4992067813873291, 0.7125117778778076, 0.7041468620300293, 0.7342290282249451, 0.502454936504364, 0.5032063126564026, 0.7376426458358765, 0.7350388765335083, 0.5008621215820312, 0.4990057945251465, 0.7345293164253235, 0.7345303893089294, 0.5012709498405457, 0.5458545088768005, 0.7233815789222717, 0.49917176365852356, 0.5410512685775757, 0.5319918990135193, 0.7384032607078552, 0.7331470251083374, 0.7335930466651917, 0.5000128149986267, 0.7127217054367065, 0.5306552052497864, 0.4976951479911804, 0.5010048747062683, 0.7289146184921265, 0.7380121350288391, 0.5334122776985168, 0.5012044906616211, 0.5002472996711731, 0.7249670028686523, 0.723469078540802, 0.5015844106674194, 0.7120288610458374, 0.49884554743766785, 0.5003038048744202, 0.4978339970111847, 0.701654851436615, 0.49761608242988586, 0.5012977123260498, 0.7064250707626343, 0.7331619262695312, 0.49979841709136963, 0.7277827858924866, 0.5622667074203491, 0.7231069803237915, 0.7332276105880737, 0.50191730260849, 0.7006314992904663, 0.7325836420059204, 0.5022686719894409, 0.4980246126651764, 0.7338886260986328, 0.7114508152008057, 0.6638200283050537, 0.7005786299705505, 0.7238671183586121, 0.49942395091056824, 0.7024715542793274, 0.7094476222991943, 0.5002250075340271, 0.5011008381843567, 0.5024575591087341, 0.7024168372154236, 0.730609118938446, 0.5008432269096375, 0.7298825979232788, 0.7234120965003967, 0.7356889843940735, 0.6918204426765442, 0.5009210109710693, 0.7348417043685913, 0.7000715136528015, 0.7342786192893982, 0.515794575214386, 0.5006170272827148, 0.7350122928619385, 0.7033722996711731, 0.7163915038108826, 0.5007520318031311, 0.6315276026725769, 0.6996381878852844, 0.7048230767250061, 0.5042033195495605, 0.5021716356277466, 0.6749250888824463, 0.6056628227233887, 0.5315114259719849, 0.5251290202140808, 0.7331033945083618, 0.7255165576934814, 0.7210420966148376, 0.7315914034843445, 0.5017697811126709, 0.4974477291107178, 0.7294343113899231, 0.7032929062843323, 0.536805272102356, 0.7044624090194702, 0.7316536903381348, 0.7076686024665833, 0.7353870272636414, 0.732683002948761, 0.5576876997947693, 0.5008870959281921, 0.502225935459137, 0.704696536064148, 0.49874186515808105, 0.7097656726837158, 0.5083731412887573, 0.4921020269393921, 0.521375298500061, 0.5009257793426514, 0.5977888703346252, 0.7151674032211304, 0.7048196196556091, 0.7219117283821106, 0.5178847312927246, 0.597714364528656, 0.682103157043457, 0.7066858410835266, 0.7222908735275269, 0.7080864906311035, 0.5164218544960022, 0.7269244194030762, 0.731252133846283, 0.7120095491409302, 0.7038270831108093, 0.49670296907424927, 0.7126762866973877, 0.5120804905891418, 0.49442484974861145, 0.7237913608551025, 0.4985082149505615, 0.5041702389717102, 0.7024943828582764, 0.5010732412338257, 0.7105490565299988, 0.7103684544563293, 0.734184741973877, 0.563991904258728, 0.736525297164917, 0.6999415755271912, 0.5004663467407227, 0.5968341827392578, 0.7321478128433228, 0.7339825630187988, 0.7030879855155945, 0.7105333805084229, 0.7250546216964722, 0.7386608123779297, 0.720980703830719, 0.5023693442344666, 0.7292075753211975, 0.737490177154541, 0.6951985359191895, 0.7093689441680908, 0.5024744868278503, 0.7319030165672302, 0.4986135959625244, 0.729473888874054, 0.7065035104751587, 0.7055017948150635, 0.5419066548347473, 0.7154658436775208, 0.5011973977088928, 0.6087056398391724, 0.5007531642913818, 0.49661484360694885, 0.4985216557979584, 0.6999386548995972, 0.6981018781661987, 0.7030443549156189, 0.6168571710586548, 0.5149839520454407, 0.7347081899642944, 0.5006725788116455, 0.5000930428504944, 0.7096083760261536, 0.49753981828689575, 0.5375372767448425, 0.49768757820129395, 0.7208155989646912, 0.7319918274879456, 0.7335432171821594, 0.5004201531410217, 0.49972444772720337, 0.7159991264343262, 0.5248152613639832, 0.49831995368003845, 0.5032349824905396, 0.7322821021080017, 0.7332395911216736, 0.7376706600189209, 0.7013218998908997, 0.6956862807273865, 0.7022203207015991, 0.49699968099594116, 0.7174360156059265, 0.5020555853843689, 0.7372259497642517, 0.5030385851860046, 0.49708113074302673, 0.5007771253585815, 0.7288938164710999, 0.7268850803375244, 0.7010607123374939, 0.7336220741271973, 0.7305369973182678, 0.5054694414138794, 0.6903510093688965, 0.5007115602493286, 0.6830320358276367, 0.5441564321517944, 0.5464082956314087, 0.7289903163909912, 0.7360266447067261, 0.7171251177787781, 0.5030307173728943, 0.5099474191665649, 0.7212526798248291, 0.6988334059715271, 0.7019564509391785, 0.5342584252357483, 0.5024901628494263, 0.5016017556190491, 0.7271217107772827, 0.5002629160881042, 0.5010759234428406, 0.49777454137802124, 0.5004817843437195, 0.7306750416755676, 0.5365082621574402, 0.7363600134849548, 0.4982249438762665, 0.4983992576599121, 0.7272343039512634, 0.4993453621864319, 0.7264514565467834, 0.49946773052215576, 0.7026464939117432, 0.5012401342391968, 0.7257879376411438, 0.5005456805229187, 0.499210923910141, 0.7138705253601074, 0.7382592558860779, 0.7356353402137756, 0.5024141073226929, 0.5028905272483826, 0.7324727177619934, 0.7079867124557495, 0.49642300605773926, 0.7320230007171631, 0.5231665372848511, 0.7356696128845215, 0.7375521063804626, 0.7248132824897766, 0.49988195300102234, 0.5001062750816345, 0.734829843044281, 0.5606275796890259, 0.7366280555725098, 0.7346421480178833, 0.7015253305435181, 0.49736887216567993, 0.5975755453109741, 0.7285047769546509, 0.7334150075912476, 0.7351013422012329, 0.49919405579566956, 0.5218861699104309, 0.7116122841835022, 0.7345452308654785, 0.7372275590896606, 0.5006508827209473, 0.7133735418319702, 0.7012051343917847, 0.713998019695282, 0.5011106729507446, 0.499345600605011, 0.7328859567642212, 0.5161982774734497, 0.5021889209747314, 0.7187628149986267, 0.7311035990715027, 0.7352356314659119, 0.4993852376937866, 0.533382773399353, 0.4982074499130249, 0.5223367810249329, 0.5002247095108032, 0.49922001361846924, 0.6436522603034973, 0.5033560395240784, 0.7291203141212463, 0.7351165413856506, 0.5006348490715027, 0.7216285467147827, 0.7175188660621643, 0.5012007355690002, 0.5300119519233704, 0.7047726511955261, 0.6965024471282959, 0.7331655025482178, 0.4978800117969513, 0.4973970651626587, 0.7279722690582275, 0.7297265529632568, 0.7294626235961914, 0.7087177634239197, 0.6799497008323669, 0.5071041584014893, 0.7305798530578613, 0.49831417202949524, 0.7324259281158447, 0.5481705069541931, 0.7035579681396484, 0.7013921141624451, 0.7292177677154541, 0.7356924414634705, 0.7278453707695007, 0.4983360469341278, 0.7356480956077576, 0.7095293998718262, 0.5017073154449463, 0.5388926267623901, 0.7155043482780457, 0.7378761172294617, 0.4996795058250427, 0.7207575440406799, 0.7042352557182312, 0.49873802065849304, 0.5000233054161072, 0.5016428828239441, 0.4995799958705902, 0.6420323848724365, 0.498729407787323, 0.706422746181488, 0.7023272514343262, 0.7134978175163269, 0.7051495313644409, 0.5008148550987244, 0.7276480197906494, 0.5587366223335266, 0.7225367426872253, 0.5687417984008789, 0.5030816197395325, 0.7339116334915161, 0.7279177308082581, 0.7116957902908325, 0.7249994277954102, 0.6654191017150879, 0.734367311000824, 0.5011305809020996, 0.5097489356994629, 0.5045334696769714, 0.7343365550041199, 0.4984678030014038, 0.4990134537220001, 0.7379923462867737, 0.533913791179657, 0.5022579431533813, 0.49978557229042053, 0.7289414405822754, 0.7221953272819519, 0.7082445025444031, 0.5336401462554932, 0.7073407173156738, 0.7332323789596558, 0.7361597418785095, 0.4998074769973755, 0.5007023811340332, 0.6830167770385742, 0.4979746639728546, 0.6270909309387207, 0.7026715874671936, 0.7255955934524536, 0.5012617111206055, 0.7106085419654846, 0.5108604431152344, 0.5013404488563538, 0.5030829906463623, 0.7276448011398315, 0.7294566631317139, 0.7299742102622986, 0.4997025728225708, 0.5006466507911682, 0.5247383713722229, 0.7199084162712097, 0.7349366545677185, 0.7376036047935486, 0.7132613658905029, 0.6601554155349731, 0.5050076246261597, 0.7365373969078064, 0.5238852500915527, 0.7300031185150146, 0.7374774813652039, 0.49907386302948, 0.7302350401878357, 0.7300100326538086, 0.6838657855987549, 0.6979098320007324, 0.702907919883728, 0.606601893901825, 0.5689009428024292, 0.7221582531929016, 0.7053182721138, 0.7358123660087585, 0.7034078240394592, 0.5016000866889954, 0.5000506043434143, 0.6903814673423767, 0.5012826919555664, 0.5500229597091675, 0.5007412433624268, 0.7257863879203796, 0.7022806406021118, 0.7173240184783936, 0.5008245706558228, 0.5089825391769409, 0.4992857873439789, 0.708118200302124, 0.5003599524497986, 0.702610969543457, 0.4998091757297516, 0.7333793640136719, 0.733880341053009, 0.7165562510490417, 0.49820801615715027, 0.5001521706581116, 0.49990540742874146, 0.7327510118484497, 0.6440020799636841, 0.49266207218170166, 0.6043406128883362, 0.5010725259780884, 0.6159272789955139, 0.6884387731552124, 0.4993128776550293, 0.500913143157959, 0.512419581413269, 0.5012024641036987, 0.4988723397254944, 0.704517126083374, 0.505602240562439, 0.4985303282737732, 0.49783211946487427, 0.49949949979782104, 0.7117705345153809, 0.5011329054832458, 0.7377445101737976, 0.5000535845756531, 0.7173751592636108, 0.7040209770202637, 0.5013060569763184, 0.7085878849029541, 0.5063906311988831, 0.7311899662017822, 0.7045044302940369, 0.7231292724609375, 0.7366964221000671, 0.5122622847557068, 0.7343528866767883, 0.69655841588974, 0.7241543531417847, 0.7330771088600159, 0.5142794847488403, 0.716149628162384, 0.7093387246131897, 0.5000481605529785, 0.7192171812057495, 0.5257527232170105, 0.5009245872497559, 0.7343220710754395, 0.6704230308532715, 0.4997362792491913, 0.7377224564552307, 0.7345670461654663, 0.47864440083503723, 0.5048603415489197, 0.49689507484436035, 0.5265425443649292, 0.7287907004356384, 0.7024977207183838, 0.5028161406517029, 0.7177562117576599, 0.501063346862793, 0.730513334274292, 0.49633485078811646, 0.7113839983940125, 0.7316100597381592, 0.5414816737174988, 0.5178136825561523, 0.7226709127426147, 0.4991111159324646, 0.7155574560165405, 0.7321605682373047, 0.7243354916572571, 0.7369776368141174, 0.49935898184776306, 0.5017895102500916, 0.7361610531806946, 0.7035497426986694, 0.5360648036003113, 0.7089569568634033, 0.4952889680862427, 0.5013008117675781, 0.7336388230323792, 0.5013399124145508, 0.711931586265564, 0.7344800233840942, 0.7028020024299622, 0.7337188124656677, 0.5015447735786438, 0.502623975276947, 0.7336190342903137, 0.5248850584030151, 0.5000024437904358, 0.5005208849906921, 0.7257915139198303, 0.5084276795387268, 0.7054228782653809, 0.7015768885612488, 0.545230507850647, 0.7334452867507935, 0.49784910678863525, 0.5289963483810425, 0.5580615997314453, 0.5043907165527344, 0.7045022249221802, 0.4948050379753113, 0.5163927674293518, 0.6994239687919617, 0.7005732655525208, 0.7293979525566101, 0.7316511869430542, 0.6625341773033142, 0.7056317329406738, 0.7212726473808289, 0.5141569375991821, 0.5033842921257019, 0.5475746989250183, 0.7270721197128296, 0.4981740415096283, 0.7325758337974548, 0.5009739398956299, 0.5013536810874939, 0.4990898370742798, 0.5303542613983154, 0.4903843104839325, 0.6853935122489929, 0.4996166527271271, 0.4990317225456238, 0.6729359030723572, 0.7055091857910156, 0.502251386642456, 0.7334617376327515, 0.7320443987846375, 0.500788688659668, 0.501236617565155, 0.5061147809028625, 0.5724549293518066, 0.4998093545436859, 0.5109096765518188, 0.5320335626602173, 0.7276660799980164, 0.5217707753181458, 0.7120455503463745, 0.5006899237632751, 0.7062569856643677, 0.4992251694202423, 0.6280959248542786, 0.734439492225647, 0.7030368447303772, 0.5148269534111023, 0.737525224685669, 0.7173319458961487, 0.7368569374084473, 0.513914167881012, 0.5085270404815674, 0.701687753200531, 0.701303243637085, 0.7363797426223755, 0.5369693636894226, 0.7352169752120972, 0.6965649724006653, 0.704935610294342, 0.7276407480239868, 0.7209512591362, 0.7287728190422058, 0.5081494450569153, 0.4986553490161896, 0.506230354309082, 0.4973890781402588, 0.7017630338668823, 0.726809561252594, 0.7348217368125916, 0.7331368923187256, 0.7374725341796875, 0.7079876065254211, 0.5004584789276123, 0.7064859867095947, 0.7387229204177856, 0.7336070537567139, 0.4996687173843384, 0.7062999606132507, 0.4981543719768524, 0.7244433760643005, 0.49858611822128296, 0.6984796524047852, 0.4975470006465912, 0.7328181862831116, 0.5108507871627808, 0.5012799501419067, 0.7199004888534546, 0.5023732781410217, 0.530524730682373, 0.7017877101898193, 0.7165393233299255, 0.7357532978057861, 0.5014533400535583, 0.580177903175354, 0.7318540811538696, 0.4999469220638275, 0.7130804657936096, 0.6937954425811768, 0.7322112321853638, 0.729962944984436, 0.5305296182632446, 0.7316775321960449, 0.5426063537597656, 0.5019385814666748, 0.735105574131012, 0.73694908618927, 0.7153702974319458, 0.5027549862861633, 0.7334694266319275, 0.49851560592651367, 0.5981513857841492, 0.7366992831230164, 0.7354815602302551, 0.5014258623123169, 0.5513913035392761, 0.7191172242164612, 0.5485323071479797, 0.5843748450279236, 0.7343299984931946, 0.5699397325515747, 0.7020357847213745, 0.6687300801277161, 0.698826014995575, 0.7363360524177551, 0.5016185641288757, 0.7369422316551208, 0.7368744611740112, 0.7017164826393127, 0.7339075803756714, 0.7154104709625244, 0.4983753561973572, 0.692365825176239, 0.7039813995361328, 0.7355166673660278, 0.5027993321418762, 0.734332799911499, 0.7045279145240784, 0.4995196461677551, 0.7210500240325928, 0.7346287965774536, 0.48993489146232605, 0.500941812992096, 0.7338007092475891, 0.5003325343132019, 0.5011934638023376, 0.7314770221710205, 0.5052216053009033, 0.732854425907135, 0.7043349146842957, 0.7147793769836426, 0.7312749624252319, 0.6960459351539612, 0.7209439277648926, 0.735326886177063, 0.5013391375541687, 0.7331825494766235, 0.697731614112854, 0.5671854615211487, 0.7350406646728516, 0.7087346911430359, 0.7104042172431946, 0.7271776795387268, 0.7266212105751038, 0.5009071230888367, 0.7368742823600769, 0.7210631370544434, 0.5017375349998474, 0.5018805265426636, 0.7308014631271362, 0.5033017992973328, 0.5131756067276001, 0.7083908319473267, 0.7384262084960938, 0.5831969380378723, 0.5082843899726868, 0.5128870606422424, 0.5260332226753235, 0.5320727229118347, 0.502748966217041, 0.7207524180412292, 0.7367625832557678, 0.7291029095649719, 0.7359514236450195, 0.7360278367996216, 0.7305825352668762, 0.4983992576599121, 0.5405411124229431, 0.7363451719284058, 0.5379828214645386, 0.4999932646751404, 0.5292410254478455, 0.7204446196556091, 0.5173193216323853, 0.7264462113380432, 0.5026467442512512, 0.5333001613616943, 0.7107781171798706, 0.7346245646476746, 0.7369003295898438, 0.4982999861240387, 0.5216343402862549, 0.5315250754356384, 0.7243056893348694, 0.6230272650718689, 0.5014757513999939, 0.7027255296707153, 0.7083566188812256, 0.718496561050415, 0.49742570519447327, 0.7001152634620667, 0.501092255115509, 0.7367402911186218, 0.49961039423942566, 0.7337453365325928, 0.7330420017242432, 0.500146746635437, 0.5019342303276062, 0.7341977953910828, 0.7203527688980103, 0.4982759952545166, 0.5268595814704895, 0.7139069437980652, 0.7367320656776428, 0.5026744604110718, 0.7307602763175964, 0.5033435821533203, 0.49809789657592773, 0.7170888185501099, 0.7045859098434448, 0.5430732369422913, 0.7361903786659241, 0.7041810154914856, 0.7287052273750305, 0.7327104806900024, 0.5007798075675964, 0.503503680229187, 0.5022488236427307, 0.734147846698761, 0.7236558198928833, 0.5310214161872864, 0.5331571102142334, 0.7188425660133362, 0.7351279854774475, 0.49834325909614563, 0.5272952914237976, 0.4999852478504181, 0.5520328283309937, 0.5002168416976929, 0.600631594657898, 0.7324944138526917, 0.501078724861145, 0.6984885334968567, 0.5033190846443176, 0.7164402604103088, 0.7332519292831421, 0.5020871162414551, 0.4992203414440155, 0.7036060094833374, 0.7361303567886353, 0.7359514236450195, 0.500305712223053, 0.7065091133117676, 0.7381778359413147, 0.5003775358200073, 0.5013498067855835, 0.5343027114868164, 0.722265362739563, 0.4996184706687927, 0.7532128691673279, 0.7169089913368225, 0.7355283498764038, 0.7348758578300476, 0.6788985133171082, 0.5029078722000122, 0.4997994303703308, 0.7355735898017883, 0.5016425848007202, 0.7368814945220947, 0.6845338344573975, 0.7048430442810059, 0.5038943290710449, 0.5051395297050476, 0.7326372265815735, 0.5014181733131409, 0.6422885656356812, 0.49707353115081787, 0.5005252957344055, 0.4983201324939728, 0.7027316689491272, 0.7323768734931946, 0.7047661542892456, 0.49772530794143677, 0.7368054389953613, 0.4990491271018982, 0.7177565097808838, 0.7334305644035339, 0.4998474419116974, 0.5053685307502747, 0.7028792500495911, 0.5027583837509155, 0.6595202684402466, 0.7313315272331238, 0.6834536790847778, 0.553648054599762, 0.7359421849250793, 0.7315570116043091, 0.702715277671814, 0.49986720085144043, 0.501020073890686, 0.7326554656028748, 0.5074820518493652, 0.5016285181045532, 0.5015411972999573, 0.7347357869148254, 0.7278029918670654, 0.708740234375, 0.7254492044448853, 0.5456432700157166, 0.5137134194374084, 0.7317972779273987, 0.49959278106689453, 0.7337478995323181, 0.7338085174560547, 0.7353299260139465, 0.5014399886131287, 0.5012058615684509, 0.5019940733909607, 0.7236499190330505, 0.5004988312721252, 0.7072781920433044, 0.7346066236495972, 0.5000345706939697, 0.5017090439796448, 0.7310491800308228, 0.7155545949935913, 0.49918338656425476, 0.6635025143623352, 0.5000737905502319, 0.5027031898498535, 0.5017217397689819, 0.5035214424133301, 0.4993821382522583, 0.7348759174346924, 0.5064446330070496, 0.5014827847480774, 0.7036578059196472, 0.49720272421836853, 0.7302573323249817, 0.7326686978340149, 0.7332556843757629, 0.5185939073562622, 0.5238385200500488, 0.7245965003967285, 0.4996275305747986, 0.7030640244483948, 0.7274083495140076, 0.6977398991584778, 0.49694329500198364, 0.501311719417572, 0.7322764992713928, 0.7034612894058228, 0.49714866280555725, 0.5015966296195984, 0.5185827612876892, 0.49657750129699707, 0.49831825494766235, 0.4991041123867035, 0.5006453394889832, 0.7334461808204651, 0.49862003326416016, 0.7206172943115234, 0.49855804443359375, 0.7313024997711182, 0.7307117581367493, 0.5300186276435852, 0.4984740614891052, 0.7067188024520874, 0.5010710954666138, 0.5401700139045715, 0.5366222262382507, 0.5026075839996338, 0.5015784502029419, 0.5095160603523254, 0.4969621002674103, 0.5562450289726257, 0.5169832110404968, 0.7300798296928406, 0.7391271591186523, 0.4997827112674713, 0.7095885872840881, 0.5011983513832092, 0.5014148950576782, 0.7075855731964111, 0.49868494272232056, 0.5048325061798096, 0.49854305386543274, 0.5024257302284241, 0.7258159518241882, 0.5011618137359619, 0.7303947806358337, 0.5101916193962097, 0.7368040680885315, 0.7359921932220459, 0.7388287782669067, 0.7346769571304321, 0.701741635799408, 0.624725341796875, 0.5096993446350098, 0.4944421052932739, 0.7339569926261902, 0.7347946763038635, 0.7252486944198608, 0.4988692104816437, 0.7215412855148315, 0.7076196670532227, 0.7352744936943054, 0.5006919503211975, 0.5023781061172485, 0.5029309988021851, 0.5009226202964783, 0.5002203583717346, 0.4984669089317322, 0.5090133547782898, 0.5014932751655579, 0.5940499305725098, 0.729335367679596, 0.7306141257286072, 0.7354621291160583, 0.5016555190086365, 0.5427796840667725, 0.7155832648277283, 0.5010116696357727, 0.7295802235603333, 0.5002840161323547, 0.7240668535232544, 0.5021078586578369, 0.7308235168457031, 0.7200712561607361, 0.4985910654067993, 0.5448219776153564, 0.7354223132133484, 0.6898056268692017, 0.7291620969772339, 0.5017600655555725, 0.4979574680328369, 0.7103506922721863, 0.4987378716468811, 0.6837120652198792, 0.49373874068260193, 0.49744322896003723, 0.7320455312728882, 0.7360270619392395, 0.7276975512504578, 0.7046436667442322, 0.4996615946292877, 0.501349687576294, 0.5394460558891296, 0.5337419509887695, 0.7313215136528015, 0.7307116389274597, 0.7037934064865112, 0.4982724189758301, 0.7132548093795776, 0.5308054685592651, 0.5120139122009277, 0.4983196556568146, 0.7145001292228699, 0.7382510304450989, 0.4972723722457886, 0.7304251194000244, 0.5028321743011475, 0.5922872424125671, 0.5021151304244995, 0.6971276998519897, 0.7031972408294678, 0.7342685461044312, 0.4992499053478241, 0.5355159044265747, 0.5517163872718811, 0.4995899200439453, 0.5272430181503296, 0.7194604873657227, 0.7351517081260681, 0.5382335782051086, 0.7365423440933228, 0.49936437606811523, 0.5020589828491211, 0.7055090665817261, 0.5003758668899536, 0.5009089708328247, 0.5010016560554504, 0.7333112955093384, 0.5459274053573608, 0.5001553297042847, 0.6913327574729919, 0.7340276837348938, 0.7309428453445435, 0.5524361729621887, 0.7238857746124268, 0.513205349445343, 0.7362944483757019, 0.5022507905960083, 0.5043321847915649, 0.49932509660720825, 0.5019301772117615, 0.726565957069397, 0.6113289594650269, 0.7344946265220642, 0.5015220046043396, 0.5086351037025452, 0.7267603874206543, 0.5012750029563904, 0.49863865971565247, 0.49807602167129517, 0.7276378870010376, 0.4979054927825928, 0.7080566883087158, 0.7231742143630981, 0.5020577907562256, 0.5034573674201965, 0.5011938214302063, 0.5010553002357483, 0.7354822158813477, 0.5012073516845703, 0.5367327332496643, 0.7177535891532898, 0.4990368187427521, 0.6881768703460693, 0.7031683325767517, 0.7358610033988953, 0.4969269335269928, 0.6321877837181091, 0.7365990877151489, 0.737603485584259, 0.49887678027153015, 0.5362717509269714, 0.7007608413696289, 0.7310254573822021, 0.5016816258430481, 0.7070499062538147, 0.6984938979148865, 0.7338351607322693, 0.5351998805999756, 0.5424502491950989, 0.7045401930809021, 0.7248217463493347, 0.7053972482681274, 0.5325584411621094, 0.5025768876075745, 0.7339951992034912, 0.5033236742019653, 0.7316727638244629, 0.5058745741844177, 0.7338692545890808, 0.4967779815196991, 0.7332777380943298, 0.7030631303787231, 0.7311628460884094, 0.7005208134651184, 0.704589307308197, 0.4990403354167938, 0.5007750988006592, 0.5008577704429626, 0.6900041103363037, 0.5737959742546082, 0.7032902836799622, 0.5015230774879456, 0.5001954436302185, 0.7030178308486938, 0.7322688102722168, 0.5018459558486938, 0.7186225056648254, 0.6512232422828674, 0.4997904598712921, 0.7354138493537903, 0.7368652820587158, 0.7327043414115906, 0.5369281768798828, 0.5004118084907532, 0.5052460432052612, 0.5044829249382019, 0.5826421976089478, 0.7028236389160156, 0.49914753437042236, 0.501728355884552, 0.7318702936172485, 0.703624427318573, 0.5117259621620178, 0.7304227948188782, 0.7266948223114014, 0.7383724451065063, 0.7345719337463379, 0.5008721947669983, 0.49951255321502686, 0.500451385974884, 0.5015230774879456, 0.5439988374710083, 0.4998071491718292, 0.706908643245697, 0.7090749144554138, 0.7372264862060547, 0.7348269820213318, 0.5008435845375061, 0.7101980447769165, 0.5012785196304321, 0.7029116749763489, 0.7377320528030396, 0.7374683618545532, 0.7008622884750366, 0.7321578860282898, 0.7324727773666382, 0.49836212396621704, 0.6690232157707214, 0.7028756141662598, 0.7243033647537231, 0.7370014190673828, 0.5095158815383911, 0.7364438772201538, 0.5046947002410889, 0.5018597841262817, 0.7386502027511597, 0.50225430727005, 0.5001042485237122, 0.7125577926635742, 0.5783047080039978, 0.7350940704345703, 0.7050409317016602, 0.7262697815895081, 0.7360900044441223, 0.7229585647583008, 0.4999164044857025, 0.7205477952957153, 0.5028887391090393, 0.7340293526649475, 0.5001118779182434, 0.7350311875343323, 0.7069902420043945, 0.7267346382141113, 0.5011664032936096, 0.7358623147010803, 0.7286334037780762, 0.71206134557724, 0.4993591606616974, 0.5022814273834229, 0.7072317004203796, 0.5027283430099487, 0.7348071336746216, 0.5033678412437439, 0.5254126787185669, 0.7348770499229431, 0.5020902156829834, 0.7356212735176086, 0.4946438670158386, 0.49622902274131775, 0.5033535361289978, 0.7326287627220154, 0.691513180732727, 0.7346959710121155, 0.5061500072479248, 0.5030269622802734, 0.4964678883552551, 0.7368038296699524, 0.6719633340835571, 0.5996497869491577, 0.4996328353881836, 0.5013010501861572, 0.6850050687789917, 0.5010205507278442, 0.7277266383171082, 0.7357286810874939, 0.7075954079627991, 0.7333284020423889, 0.5320866107940674, 0.5012025833129883, 0.7265398502349854, 0.7379000782966614, 0.6318267583847046, 0.49961963295936584, 0.7340790629386902, 0.529901385307312, 0.5013830065727234, 0.7143123149871826, 0.7130634784698486, 0.5247493386268616, 0.7084245085716248, 0.5001811385154724, 0.7120742201805115, 0.49836206436157227, 0.5001577138900757, 0.7043278217315674, 0.4979282319545746, 0.7287399172782898, 0.7335304021835327, 0.5019996166229248, 0.4989933669567108, 0.704780638217926, 0.620944082736969, 0.5125506520271301, 0.7042129635810852, 0.5011577606201172, 0.5008814930915833, 0.7056779265403748, 0.7261554002761841, 0.4991154968738556, 0.5022534132003784, 0.7346245646476746, 0.7334237694740295, 0.49788352847099304, 0.735953688621521, 0.7313356399536133, 0.5021763443946838, 0.5620274543762207, 0.7369082570075989, 0.7214133739471436, 0.6502270102500916, 0.5388132333755493, 0.7065731883049011, 0.7187891602516174, 0.7091795802116394, 0.4964209794998169, 0.5002052783966064, 0.49743443727493286, 0.7324687242507935, 0.5009703040122986, 0.5001263618469238, 0.5384085178375244, 0.5126080513000488, 0.497743159532547, 0.7031770348548889, 0.7037181258201599, 0.7322150468826294, 0.6771672964096069, 0.5014651417732239, 0.5073398351669312, 0.7030100226402283, 0.7341076731681824, 0.501562774181366, 0.7154905200004578, 0.536845862865448, 0.7008494734764099, 0.5284665822982788, 0.7353703379631042, 0.5176806449890137, 0.5007574558258057, 0.5243096351623535, 0.7350425124168396, 0.498738557100296, 0.7157731056213379, 0.6517688035964966, 0.5104935765266418, 0.49664103984832764, 0.7052366137504578, 0.4999553859233856, 0.7116389274597168, 0.5895465016365051, 0.4991361200809479, 0.7020097970962524, 0.7338611483573914, 0.5004609227180481, 0.5325548052787781, 0.7193946242332458, 0.7084018588066101, 0.5019747018814087, 0.4991617798805237, 0.506921112537384, 0.7355312705039978, 0.49569329619407654, 0.5178977251052856, 0.7346369028091431, 0.7179691791534424, 0.7030149698257446, 0.6724505424499512, 0.7356035113334656, 0.7276909947395325, 0.7256952524185181, 0.7368640899658203, 0.5010598301887512, 0.5028668642044067, 0.7358046770095825, 0.7186651825904846, 0.7179226279258728, 0.7198176980018616, 0.7320773005485535, 0.7112096548080444, 0.7385924458503723, 0.4985382556915283, 0.73016756772995, 0.7329649925231934, 0.5479972958564758, 0.7326143383979797, 0.5005142688751221, 0.715976357460022, 0.7307594418525696, 0.5012320280075073, 0.5013642311096191, 0.7339699864387512, 0.5713196396827698, 0.7014404535293579, 0.712279200553894, 0.720575213432312, 0.5006743669509888, 0.5116496682167053, 0.7348405122756958, 0.5009357929229736, 0.5015902519226074, 0.7357209324836731, 0.49639973044395447, 0.4980231523513794, 0.7357747554779053, 0.7273576259613037, 0.7285467982292175, 0.7130824327468872, 0.7339714765548706, 0.7334644198417664, 0.690914511680603, 0.5155673027038574, 0.49911361932754517, 0.7320242524147034, 0.7323604822158813, 0.7200244069099426, 0.49820584058761597, 0.5227352976799011, 0.7210149168968201, 0.5010783672332764, 0.7308716773986816, 0.7279587984085083, 0.7360151410102844, 0.4975186586380005, 0.5043401122093201, 0.4968838691711426, 0.7044063210487366, 0.7069135308265686, 0.7069027423858643, 0.7259272933006287, 0.5282167196273804, 0.7349529266357422, 0.7323518395423889, 0.7363619208335876, 0.7019338011741638, 0.7351654171943665, 0.6969096660614014, 0.5015168190002441, 0.7216424942016602, 0.50238037109375, 0.7208175659179688, 0.7281444072723389, 0.7329789996147156, 0.718958854675293, 0.7187366485595703, 0.7345042824745178, 0.7226617336273193, 0.7019590735435486, 0.5431718230247498, 0.7256757020950317, 0.7017462253570557, 0.713503897190094, 0.4977288246154785, 0.6919532418251038, 0.717683732509613, 0.7235784530639648, 0.7032272815704346, 0.4989353120326996, 0.7386068105697632, 0.7013652920722961, 0.5190305709838867, 0.7285655736923218, 0.7320384979248047, 0.7154983282089233, 0.7326352596282959, 0.7205874919891357, 0.4974910616874695, 0.7078725695610046, 0.5038461089134216, 0.4996914565563202, 0.5239158868789673, 0.7052211761474609, 0.7188134789466858, 0.7177861928939819, 0.7276619672775269, 0.7344224452972412, 0.499979704618454, 0.5036308169364929, 0.5021325349807739, 0.7361822724342346, 0.7014610767364502, 0.497638076543808, 0.7031471133232117, 0.5056905746459961, 0.7327896356582642, 0.5014623999595642, 0.5322951078414917, 0.49531152844429016, 0.7378044724464417, 0.7337552309036255, 0.727324903011322, 0.7052114605903625, 0.5008452534675598, 0.7334963083267212, 0.712060272693634, 0.7333711385726929, 0.502383291721344, 0.7318575382232666, 0.5065339803695679, 0.5005706548690796, 0.5290207862854004, 0.5022581219673157, 0.7347475290298462, 0.49836450815200806, 0.5007910132408142, 0.7327389121055603, 0.4998205602169037, 0.7039253115653992, 0.5295371413230896, 0.5006511211395264, 0.49985697865486145, 0.717950701713562, 0.7107561230659485, 0.6563913822174072, 0.7058693170547485, 0.5002303719520569, 0.687941312789917, 0.7342039346694946, 0.734893798828125, 0.4976886510848999, 0.5131248831748962, 0.5305457711219788, 0.5013867616653442, 0.5370092391967773, 0.7348493933677673, 0.49866974353790283, 0.498434454202652, 0.49700480699539185, 0.6945439577102661, 0.5023632049560547, 0.7129400968551636, 0.6677923202514648, 0.5034309029579163, 0.7339634299278259, 0.7266243100166321, 0.7124260663986206, 0.7292662262916565, 0.5178669095039368, 0.7020917534828186, 0.7321531772613525, 0.7059506177902222, 0.53358393907547, 0.7036484479904175, 0.7341235280036926, 0.49812835454940796, 0.5025848150253296, 0.7328647971153259, 0.5016695857048035, 0.4976508915424347, 0.5014457106590271, 0.5010700225830078, 0.6183937788009644, 0.7015330791473389, 0.5019351840019226, 0.7047392129898071, 0.5426678657531738, 0.5987561345100403, 0.72389817237854, 0.7288773655891418, 0.706561267375946, 0.5037355422973633, 0.7367924451828003, 0.6940564513206482, 0.496849924325943, 0.4969692528247833, 0.5008368492126465, 0.6101484894752502, 0.7292161583900452, 0.7085902094841003, 0.7252519726753235, 0.7360751628875732, 0.5019435882568359, 0.5016862750053406, 0.7350066900253296, 0.50020432472229, 0.5004017353057861, 0.7371949553489685, 0.7084593772888184, 0.546490490436554, 0.5022009611129761, 0.7335537672042847, 0.727929949760437, 0.5958372354507446, 0.4978867471218109, 0.7338094711303711, 0.701397180557251, 0.4973685145378113, 0.7312471270561218, 0.7031195163726807, 0.5000885128974915, 0.7313887476921082, 0.4988642632961273, 0.4979822337627411, 0.7385874390602112, 0.7320833802223206, 0.7358028888702393, 0.73356693983078, 0.4994798004627228, 0.4971616268157959, 0.732083261013031, 0.5008887052536011, 0.4957568943500519, 0.5004256963729858, 0.7088537216186523, 0.7285878658294678, 0.49964118003845215, 0.7316817045211792, 0.7237919569015503, 0.5067216157913208, 0.6395285725593567, 0.7332435250282288, 0.7361426949501038, 0.725765585899353, 0.7385857701301575, 0.5198603868484497, 0.7165862321853638, 0.7283479571342468, 0.7157436013221741, 0.7294344305992126, 0.5269029140472412, 0.5388571619987488, 0.4984775185585022, 0.5789887309074402, 0.5029180645942688, 0.49893346428871155, 0.5009640455245972, 0.49682432413101196, 0.5071163773536682, 0.5037522315979004, 0.7350742220878601, 0.5047070384025574, 0.7117650508880615, 0.5062429308891296, 0.7281161546707153, 0.7345163822174072, 0.7284142374992371, 0.7003982663154602, 0.7035380005836487, 0.7043666243553162, 0.49723416566848755, 0.4986680746078491, 0.4976162612438202, 0.7367597222328186, 0.7331764101982117, 0.723601758480072, 0.5018483400344849, 0.5017178058624268, 0.673348069190979, 0.5015747547149658, 0.5270217061042786, 0.6269316673278809, 0.5298339128494263, 0.5023523569107056, 0.702362596988678, 0.5305527448654175, 0.5425234436988831, 0.5009514689445496, 0.7321743369102478, 0.7229785919189453, 0.5028530359268188, 0.6361956596374512, 0.7029404640197754, 0.7069290280342102, 0.6884910464286804, 0.5139768123626709, 0.6824305653572083, 0.516510546207428, 0.5012773275375366, 0.5006409287452698, 0.716331422328949, 0.7019850611686707, 0.7220930457115173, 0.5944738388061523, 0.5013213753700256, 0.7326473593711853, 0.5015909075737, 0.7107565402984619, 0.531400740146637, 0.5753048658370972, 0.7211093902587891, 0.4939078390598297, 0.7033089995384216, 0.5011628270149231, 0.5342678427696228, 0.5015738010406494, 0.7310162782669067, 0.5198103785514832, 0.4979099929332733, 0.7323113679885864, 0.5085589289665222, 0.7353193759918213, 0.5011539459228516, 0.7294976115226746, 0.5039175152778625, 0.6992689371109009, 0.540702760219574, 0.5156627297401428, 0.508760392665863, 0.7054533362388611, 0.7268691658973694, 0.7337380647659302, 0.7381690740585327, 0.7252272367477417, 0.728815495967865, 0.5094093680381775, 0.7326042056083679, 0.7269300818443298, 0.6987603306770325, 0.7324824333190918, 0.5392360687255859, 0.7080552577972412, 0.7316077947616577, 0.7068110704421997, 0.5013883113861084, 0.7254800200462341, 0.7088713049888611, 0.7270009517669678, 0.5016191601753235, 0.4940335750579834, 0.5054159164428711, 0.7357455492019653, 0.7065064311027527, 0.7370615601539612, 0.7265745401382446, 0.7266995906829834, 0.5347909331321716, 0.7370947003364563, 0.5022843480110168, 0.7035506367683411, 0.7028442025184631, 0.5216308832168579, 0.7129929065704346, 0.5524421334266663, 0.5319607257843018, 0.62752366065979, 0.5121023654937744, 0.4999374449253082, 0.7336838245391846, 0.5005276203155518, 0.5174174308776855, 0.6609625816345215, 0.5679123401641846, 0.49658286571502686, 0.49809491634368896, 0.7319552898406982, 0.5116444230079651, 0.7342148423194885, 0.7006128430366516, 0.705391526222229, 0.5035233497619629, 0.7372916340827942, 0.7205514907836914, 0.4959491789340973, 0.7362081408500671, 0.7317599058151245, 0.7347932457923889, 0.7253673672676086, 0.7311537861824036, 0.7051886320114136, 0.5013155341148376, 0.5226736664772034, 0.7367091774940491, 0.5652695894241333, 0.7311612367630005, 0.7365455031394958, 0.5111671090126038, 0.5274056196212769, 0.49878209829330444, 0.6871006488800049, 0.503329873085022, 0.705129086971283, 0.7348127365112305, 0.4981341063976288, 0.7166536450386047, 0.7346644997596741, 0.7361005544662476, 0.5014838576316833, 0.5017188787460327, 0.4979873299598694, 0.5021550059318542, 0.7131574153900146, 0.6854557394981384, 0.7298914790153503, 0.5011963248252869, 0.49790939688682556, 0.73398756980896, 0.7131629586219788, 0.518869161605835, 0.49900946021080017, 0.7151883840560913, 0.7048806548118591, 0.6206088662147522, 0.7051066160202026, 0.7345784306526184, 0.5278706550598145, 0.7385173439979553, 0.5262541174888611, 0.5020687580108643, 0.7103773355484009, 0.7293540239334106, 0.6985922455787659, 0.7072932720184326, 0.5044272541999817, 0.7359638214111328, 0.5028853416442871, 0.5008017420768738, 0.5005208253860474, 0.698006272315979, 0.7360090613365173, 0.7374268770217896, 0.7214962244033813, 0.4981158971786499, 0.5007678270339966, 0.5009890198707581, 0.4972381591796875, 0.5619387626647949, 0.4997197985649109, 0.7049528360366821, 0.6981995701789856, 0.5227598547935486, 0.7017081379890442, 0.5010701417922974, 0.7061216235160828, 0.7250048518180847, 0.7339776158332825, 0.5423421263694763, 0.5035527944564819, 0.5066292881965637, 0.7186504006385803, 0.7130041122436523, 0.7354699373245239, 0.7369780540466309, 0.6684914827346802, 0.7178542613983154, 0.7317633032798767, 0.5075365900993347, 0.7238470911979675, 0.7274520993232727, 0.5225008726119995, 0.7129110097885132, 0.5935368537902832, 0.7067010998725891, 0.7167707085609436, 0.6941161751747131, 0.7376298308372498, 0.5021927356719971, 0.49997350573539734, 0.7015162110328674, 0.6976490020751953, 0.4988415241241455, 0.7378596663475037, 0.5303374528884888, 0.6944952607154846, 0.7347437739372253, 0.7255702614784241, 0.7310261726379395, 0.6353036165237427, 0.7034608721733093, 0.5001311898231506, 0.5409656167030334, 0.7351783514022827, 0.503714919090271, 0.49840375781059265, 0.5026338696479797, 0.5145298838615417, 0.6130328178405762, 0.7331072092056274, 0.6991985440254211, 0.7317164540290833, 0.5016855597496033, 0.7303581833839417, 0.7011970281600952, 0.5002859830856323, 0.5001272559165955, 0.5379418730735779, 0.7030112743377686, 0.7375099658966064, 0.7299973964691162, 0.7321641445159912, 0.5010907053947449, 0.50057053565979, 0.7157700657844543, 0.7098680734634399, 0.4978305399417877, 0.5045373439788818, 0.5398334860801697, 0.495877206325531, 0.5003384947776794, 0.7249822616577148, 0.7386446595191956, 0.7371705770492554, 0.7209147214889526, 0.7141770720481873, 0.497177392244339, 0.5096539258956909, 0.7313615083694458, 0.5122990012168884, 0.708540141582489, 0.7362384796142578, 0.5360443592071533, 0.6582090854644775, 0.7022345662117004, 0.5000642538070679, 0.4979795217514038, 0.7349711060523987, 0.5018627643585205, 0.7293392419815063, 0.5072296261787415, 0.5020155906677246, 0.5221452116966248, 0.7065621614456177, 0.5001347064971924, 0.7006354928016663, 0.5026753544807434, 0.7359477877616882, 0.535721480846405, 0.5018219351768494, 0.7199491262435913, 0.7339744567871094, 0.7352154850959778, 0.7257786989212036, 0.7352984547615051, 0.500091016292572, 0.737439751625061, 0.4980368912220001, 0.5007916688919067, 0.4937101900577545, 0.5389895439147949, 0.7318035364151001, 0.5117101073265076, 0.7024019956588745, 0.7030578255653381, 0.7367327213287354, 0.53525310754776, 0.49770647287368774, 0.5026343464851379, 0.7255765795707703, 0.4997718930244446, 0.5037884712219238, 0.5339372754096985, 0.511042594909668, 0.5194123983383179, 0.5009827017784119, 0.5787078142166138, 0.7327595353126526, 0.7364106178283691, 0.5046896934509277, 0.7042075395584106, 0.7312055826187134, 0.7053764462471008, 0.7068822383880615, 0.5084208846092224, 0.4978000819683075, 0.7025211453437805, 0.7126398682594299, 0.716779351234436, 0.6924236416816711, 0.7238656282424927, 0.5038579702377319, 0.519599199295044, 0.5532019138336182, 0.563971757888794, 0.7330031394958496, 0.7235856056213379, 0.7341701984405518, 0.7140541672706604, 0.7343809604644775, 0.5014508962631226, 0.5073864459991455, 0.5841832160949707, 0.534026026725769, 0.5120195150375366, 0.5002121925354004, 0.7022258043289185, 0.4992646276950836, 0.7350420355796814, 0.7025330066680908, 0.7347354292869568, 0.5018699169158936, 0.7359228730201721, 0.5309052467346191, 0.5741874575614929, 0.6985114812850952, 0.6511700749397278, 0.5022162199020386, 0.7053437829017639, 0.7059619426727295, 0.536194920539856, 0.7217591404914856, 0.7198390960693359, 0.49925515055656433, 0.7289233803749084, 0.5022925138473511, 0.7335048317909241, 0.48988455533981323, 0.5119529962539673, 0.5243125557899475, 0.4998132288455963, 0.7071524858474731, 0.734885573387146, 0.7128251194953918, 0.5280203819274902, 0.5000554919242859, 0.6469600796699524, 0.7185969352722168, 0.5018277168273926, 0.6997386813163757, 0.5387436151504517, 0.49985551834106445, 0.5008509755134583, 0.7344856858253479, 0.5696351528167725, 0.5021926760673523, 0.7063639163970947, 0.5009645223617554, 0.735063910484314, 0.525955080986023, 0.7040157318115234, 0.7012775540351868, 0.5210580229759216, 0.5001876354217529, 0.7063249945640564, 0.5000299215316772, 0.7347332835197449, 0.5035925507545471, 0.5002351403236389, 0.7000757455825806, 0.7351366877555847, 0.7323117852210999, 0.735680103302002, 0.49744415283203125, 0.7361292243003845, 0.6962717771530151, 0.4995647072792053, 0.7025521397590637, 0.7270200252532959, 0.7058656811714172, 0.5018953084945679, 0.5012671947479248, 0.5365654826164246, 0.7015910744667053, 0.5681359767913818, 0.7072399258613586, 0.5057964324951172, 0.7055035829544067, 0.7201327681541443, 0.6575199365615845, 0.7317116260528564, 0.7211792469024658, 0.7301201820373535, 0.5092717409133911, 0.7368568778038025, 0.7138462662696838, 0.722131609916687, 0.7029393911361694, 0.7037777900695801, 0.5002886652946472, 0.5364410281181335, 0.5006493926048279, 0.7309109568595886, 0.7213654518127441, 0.7331201434135437, 0.7025479674339294, 0.7330455183982849, 0.7346159219741821, 0.501505434513092, 0.7376784682273865, 0.7032358646392822, 0.5022208094596863, 0.49988535046577454, 0.7058001160621643, 0.7329344749450684, 0.4986676275730133, 0.5028924345970154, 0.7295207381248474, 0.49989616870880127, 0.49867120385169983, 0.5052750706672668, 0.5040777921676636, 0.7341419458389282, 0.69673091173172, 0.7000571489334106, 0.702686607837677, 0.5012515187263489, 0.5130819082260132, 0.7118820548057556, 0.4939250349998474, 0.5026841163635254, 0.7327240109443665, 0.6390551924705505, 0.7289665341377258, 0.5229173898696899, 0.5374784469604492, 0.49860984086990356, 0.7018391489982605, 0.49911078810691833, 0.737722635269165, 0.7092069983482361, 0.5024233460426331, 0.4999595582485199, 0.7349333763122559, 0.7147407531738281, 0.5011977553367615, 0.502438485622406, 0.5144945979118347, 0.5274012088775635, 0.49184882640838623, 0.734521210193634, 0.49806562066078186, 0.4985046088695526, 0.6170629262924194, 0.7268020510673523, 0.7147858738899231, 0.7378084659576416, 0.6943466067314148, 0.7392352223396301, 0.5009543895721436, 0.7038486003875732, 0.7155287265777588, 0.7324320077896118, 0.7354627251625061, 0.7247022986412048, 0.5031797885894775, 0.7305864095687866, 0.49760952591896057, 0.5394400954246521, 0.7350174188613892, 0.7318836450576782, 0.6988165378570557, 0.5700900554656982, 0.7119093537330627, 0.5965231657028198, 0.5991067886352539, 0.5235725045204163, 0.5019933581352234, 0.5003572106361389, 0.7384317517280579, 0.7097423672676086, 0.501389741897583, 0.5667101144790649, 0.5229393839836121, 0.49718207120895386, 0.5312042236328125, 0.5432756543159485, 0.727995753288269, 0.50895094871521, 0.6572991609573364, 0.7093042731285095, 0.5019268989562988, 0.7024577260017395, 0.4997481405735016, 0.5157029628753662, 0.7252463102340698, 0.5520620942115784, 0.6150610446929932, 0.5049294233322144, 0.736442506313324, 0.7355957627296448, 0.7282520532608032, 0.7342610955238342, 0.5087959170341492, 0.49703365564346313, 0.5138071179389954, 0.49862852692604065, 0.7284639477729797, 0.7025046944618225, 0.6994177103042603, 0.7267072200775146, 0.7377886176109314, 0.5615999698638916, 0.5017677545547485, 0.7170473337173462, 0.5003899335861206, 0.6794842481613159, 0.5073163509368896, 0.7368652820587158, 0.7324280738830566, 0.5050092935562134, 0.5023086667060852, 0.7228935956954956, 0.6194669604301453, 0.5011681914329529, 0.7097340822219849, 0.7096613645553589, 0.5036757588386536, 0.7329056859016418, 0.5246868133544922, 0.7328134179115295, 0.7356691360473633, 0.7359195351600647, 0.7010130882263184, 0.5005638599395752, 0.5023381114006042, 0.5017683506011963, 0.6529716849327087, 0.5066484212875366, 0.7295923829078674, 0.505279541015625, 0.5270897150039673, 0.5002661347389221, 0.5005367398262024, 0.7335211038589478, 0.6923836469650269, 0.5013911128044128, 0.5303483605384827, 0.49774155020713806, 0.4993340075016022, 0.7295539975166321, 0.6749134659767151, 0.7239402532577515, 0.5010509490966797, 0.4982894957065582, 0.5020144581794739, 0.7280051708221436, 0.7310745716094971, 0.7273117899894714, 0.49869096279144287, 0.5086997151374817, 0.49738407135009766, 0.7269253730773926, 0.5011418461799622, 0.7098653316497803, 0.7369694709777832, 0.7341307401657104, 0.6642400026321411, 0.49824172258377075, 0.4900578260421753, 0.7032642364501953, 0.4977869987487793, 0.7354391813278198, 0.7177329063415527, 0.5818262100219727, 0.7321416139602661, 0.7067956328392029, 0.4995085299015045, 0.7374374866485596, 0.721956729888916, 0.49922215938568115, 0.7302461266517639, 0.7358934879302979, 0.5034993290901184, 0.49638181924819946, 0.49737149477005005, 0.701316237449646, 0.5273949503898621, 0.5006753206253052, 0.503686785697937, 0.7347131371498108, 0.5071470737457275, 0.579974889755249, 0.738585352897644, 0.49964988231658936, 0.7355937361717224, 0.5002182126045227, 0.5011003017425537, 0.5060455799102783, 0.7275168895721436, 0.7303691506385803, 0.5024006962776184, 0.7058739066123962, 0.506784975528717, 0.5005780458450317, 0.7269138693809509, 0.7302886843681335, 0.7366876602172852, 0.6925055384635925, 0.7330144643783569, 0.4994158148765564, 0.4981364905834198, 0.4976103901863098, 0.5012568831443787, 0.5404717922210693, 0.5013964772224426, 0.7317184209823608, 0.7351056933403015, 0.7211452722549438, 0.632921576499939, 0.5017659664154053, 0.5021641850471497, 0.6721780896186829, 0.7098594307899475, 0.500661313533783, 0.7323208451271057, 0.7343167066574097, 0.5085365772247314, 0.7378426194190979, 0.7341310381889343, 0.7334399223327637, 0.5006006360054016, 0.7375046014785767, 0.5058091878890991, 0.6933194994926453, 0.5024765729904175, 0.7026109099388123, 0.519225001335144, 0.7045655846595764, 0.7319325804710388, 0.7304397821426392, 0.720825731754303, 0.500515341758728, 0.7215369939804077, 0.7036946415901184, 0.5180803537368774, 0.7113880515098572, 0.7290531992912292, 0.7376598119735718, 0.5017995834350586, 0.7004480361938477, 0.7335667014122009, 0.7347294688224792, 0.5013169646263123, 0.4981299936771393, 0.7016065716743469, 0.7356025576591492, 0.7066571712493896, 0.49753904342651367, 0.7336655259132385, 0.7004660964012146, 0.6786152720451355, 0.7297747135162354, 0.705794632434845, 0.703206479549408, 0.7035487294197083, 0.7335822582244873, 0.6564821600914001, 0.7225951552391052, 0.7341389656066895, 0.7230058908462524, 0.7374038100242615, 0.7085736393928528, 0.5390280485153198, 0.7073437571525574, 0.6291040182113647, 0.7328143119812012, 0.49686551094055176, 0.7355020642280579, 0.72445148229599, 0.6882969737052917, 0.7373013496398926, 0.727674126625061, 0.7075785994529724, 0.7341776490211487, 0.5275238156318665, 0.6917343735694885, 0.7116695046424866, 0.5001630783081055, 0.5052530169487, 0.5001378059387207, 0.516133189201355, 0.7252320051193237, 0.5080952644348145, 0.5001400709152222, 0.5190656185150146, 0.5205166339874268, 0.5019708871841431, 0.5067390203475952, 0.5182209014892578, 0.5005085468292236, 0.7040608525276184, 0.508078396320343, 0.703303337097168, 0.6969243884086609, 0.733031153678894, 0.5034343600273132, 0.7268591523170471, 0.7073327898979187, 0.49693822860717773, 0.7272442579269409, 0.6350482106208801, 0.5021811127662659, 0.7358680367469788, 0.4987553656101227, 0.737568199634552, 0.7300876379013062, 0.4989113211631775, 0.7027429938316345, 0.7028498649597168, 0.7101410031318665, 0.7279634475708008, 0.5141936540603638, 0.5211600661277771, 0.49763023853302, 0.7099667191505432, 0.737140417098999, 0.4918379485607147, 0.4977307617664337, 0.506787896156311, 0.49595099687576294, 0.723229706287384, 0.533000111579895, 0.7043393850326538, 0.5055723786354065, 0.7356271147727966, 0.7322513461112976, 0.6063687801361084, 0.7248840928077698, 0.722387969493866, 0.5482087731361389, 0.6996337175369263, 0.5685211420059204, 0.5273318886756897, 0.7227791547775269, 0.7130404114723206, 0.5000563263893127, 0.7239852547645569, 0.7164770364761353, 0.7341189384460449, 0.732880711555481, 0.7042886018753052, 0.5024391412734985, 0.4989674687385559, 0.6966004371643066, 0.6992480754852295, 0.7089419960975647, 0.5005471110343933, 0.7094156742095947, 0.7149264812469482, 0.5030972361564636, 0.7341269254684448, 0.5051671266555786, 0.5044136047363281, 0.5013277530670166, 0.7304823398590088, 0.7345796823501587, 0.5029441118240356, 0.5021812319755554, 0.5031003952026367, 0.5011914372444153, 0.7088290452957153, 0.49774423241615295, 0.7332891821861267, 0.7097470760345459, 0.5018678903579712, 0.4982854723930359, 0.5799358487129211, 0.7291663885116577, 0.6002275943756104, 0.7314672470092773, 0.7145583033561707, 0.7304279208183289, 0.673529326915741, 0.7307707667350769, 0.7289986610412598, 0.5015338659286499, 0.7267136573791504, 0.51481693983078, 0.5287033915519714, 0.7232431769371033, 0.49707314372062683, 0.7022455334663391, 0.5016509890556335, 0.5220186710357666, 0.7252917289733887, 0.5012909173965454, 0.7359569072723389, 0.4998733103275299, 0.5600177049636841, 0.503970742225647, 0.500532329082489, 0.5160642862319946, 0.5281520485877991, 0.5005372762680054, 0.728930652141571, 0.559216320514679, 0.7351893186569214, 0.5014632940292358, 0.5005438923835754, 0.5352808833122253, 0.734295129776001, 0.700526773929596, 0.7173898220062256, 0.6853521466255188, 0.7217405438423157, 0.7353701591491699, 0.5001723766326904, 0.4990176558494568, 0.49969157576560974, 0.49968093633651733, 0.5007529854774475, 0.7109198570251465, 0.7324429750442505, 0.5044223666191101, 0.7275705337524414, 0.7329874038696289, 0.5350845456123352, 0.7022976875305176, 0.697890043258667, 0.6930038332939148, 0.7364011406898499, 0.5222636461257935, 0.4975006580352783, 0.732670247554779, 0.6523414850234985, 0.500541627407074, 0.5026389956474304, 0.73388671875, 0.501297116279602, 0.7321307063102722, 0.5508608818054199, 0.4993511140346527, 0.49621275067329407, 0.5008628368377686, 0.5013039112091064, 0.7216277122497559, 0.4976082146167755, 0.731128990650177, 0.49489086866378784, 0.6068418025970459, 0.724236011505127, 0.7258983850479126, 0.5379896759986877, 0.5379968285560608, 0.7025439143180847, 0.7322096228599548, 0.5002691149711609, 0.6635822653770447, 0.5083765387535095, 0.7347042560577393, 0.5186463594436646, 0.5001684427261353, 0.49535349011421204, 0.7058663368225098, 0.5005044937133789, 0.6963997483253479, 0.7008950114250183, 0.5100268125534058, 0.7035027742385864, 0.6484859585762024, 0.500516951084137, 0.5042996406555176, 0.5056226253509521, 0.4998152554035187, 0.5048264265060425, 0.6204157471656799, 0.500436007976532, 0.5228505730628967, 0.49947473406791687, 0.5073313117027283, 0.7013540267944336, 0.5004888772964478, 0.5024102330207825, 0.5033472180366516, 0.5103371143341064, 0.49687659740448, 0.5004429221153259, 0.6990624070167542, 0.518094003200531, 0.5047497153282166, 0.5018148422241211, 0.5005240440368652, 0.5018734931945801, 0.5007985234260559, 0.4966278374195099, 0.5021570324897766, 0.6567292809486389, 0.5017811059951782, 0.5280506610870361, 0.5214011669158936, 0.6809134483337402, 0.5043448805809021, 0.5211931467056274, 0.5042811036109924, 0.49848854541778564, 0.49710649251937866, 0.49922603368759155, 0.5001953840255737, 0.5005472302436829, 0.5050177574157715, 0.49473151564598083, 0.5479324460029602, 0.4985978603363037, 0.5010483264923096, 0.50090491771698, 0.4980713129043579, 0.5006802678108215, 0.49761584401130676, 0.49775463342666626, 0.5016254186630249, 0.5015304088592529, 0.5008739829063416, 0.5015371441841125, 0.515079140663147, 0.5048062801361084, 0.4995202422142029, 0.49808311462402344, 0.725054144859314, 0.4990779757499695, 0.503387987613678, 0.5017561316490173, 0.5586471557617188, 0.5020125508308411, 0.5010970234870911, 0.6826831102371216, 0.6987459063529968, 0.50425124168396, 0.5190818309783936, 0.529845118522644, 0.5008122324943542, 0.7029731869697571, 0.5238897800445557, 0.5753668546676636, 0.7142446637153625, 0.709667980670929, 0.6796581745147705, 0.6027527451515198, 0.6504500508308411, 0.4989390969276428, 0.5014676451683044, 0.5173963308334351, 0.49855348467826843, 0.48036691546440125, 0.5008682012557983, 0.5296314358711243, 0.5004044771194458, 0.4996631443500519, 0.5031049847602844, 0.5316381454467773, 0.5204395055770874, 0.49839967489242554, 0.5029188990592957, 0.7072873711585999, 0.5004486441612244, 0.4993543326854706, 0.5013009905815125, 0.7044125199317932, 0.5043638944625854, 0.5019299983978271, 0.5024348497390747, 0.5307539701461792, 0.49973469972610474, 0.5011376142501831, 0.5156552195549011, 0.501771867275238, 0.5016170144081116, 0.5014708042144775, 0.4970557987689972, 0.499728798866272, 0.5000020861625671, 0.5004814267158508, 0.501668393611908, 0.7053008675575256, 0.501133382320404, 0.7059867978096008, 0.5008071064949036, 0.5314757823944092, 0.7017238140106201, 0.7004451751708984, 0.49936074018478394, 0.5094717144966125, 0.49620556831359863, 0.6992368698120117, 0.4999672770500183, 0.6205216646194458, 0.4960382580757141, 0.4972240924835205, 0.5002250075340271, 0.5009605884552002, 0.4993303120136261, 0.6894769668579102, 0.4974271357059479, 0.5008155703544617, 0.5019841194152832, 0.5009738802909851, 0.5022490620613098, 0.7043889760971069, 0.5038583278656006, 0.7028347849845886, 0.5043427348136902, 0.4989992678165436, 0.6956419348716736, 0.7242752313613892, 0.5055474638938904, 0.4991949200630188, 0.5022868514060974, 0.5000743269920349, 0.5018854737281799, 0.4993880093097687, 0.5019763112068176, 0.5115716457366943, 0.5015710592269897, 0.5006006360054016, 0.4990101158618927, 0.5090641379356384, 0.5102757215499878, 0.5014049410820007, 0.5120189785957336, 0.511844277381897, 0.5025944709777832, 0.5008335113525391, 0.5099785327911377, 0.5022681355476379, 0.5004445314407349, 0.7061308026313782, 0.4970962405204773, 0.4974590539932251, 0.660851240158081, 0.5008097290992737, 0.49981245398521423, 0.5367226600646973, 0.49865588545799255, 0.5294750332832336, 0.49172940850257874, 0.501395046710968, 0.500796914100647, 0.502202033996582, 0.4942671060562134, 0.5009342432022095, 0.4982748031616211, 0.5064845681190491, 0.6861119866371155, 0.5007529258728027, 0.5005907416343689, 0.7033432722091675, 0.4973161816596985, 0.5001800060272217, 0.7008826732635498, 0.49839648604393005, 0.5020468235015869, 0.5005083084106445, 0.5060971975326538, 0.6996669173240662, 0.5010535717010498, 0.6201483607292175, 0.49564945697784424, 0.4982381761074066, 0.5011644959449768, 0.4995875954627991, 0.5030767917633057, 0.49640947580337524, 0.7045930027961731, 0.5146653652191162, 0.4973476827144623, 0.5079435706138611, 0.6858334541320801, 0.6872787475585938, 0.5127605199813843, 0.5017582774162292, 0.5128057599067688, 0.5023441314697266, 0.5061758160591125, 0.5007420182228088, 0.5005926489830017, 0.5032349228858948, 0.5051465630531311, 0.49821093678474426, 0.49981018900871277, 0.5048375129699707, 0.5009889006614685, 0.6987826228141785, 0.7020893096923828, 0.7069193124771118, 0.4980130195617676, 0.5032153129577637, 0.5038350224494934, 0.5016445517539978, 0.500452995300293, 0.4994194507598877, 0.5364319086074829, 0.49721044301986694, 0.5037665963172913, 0.5068990588188171, 0.5000970959663391, 0.5014116764068604, 0.4986218214035034, 0.5034171938896179, 0.6796059012413025, 0.49980995059013367, 0.4998314678668976, 0.5013701915740967, 0.5338935852050781, 0.5010420083999634, 0.5035624504089355, 0.7022042274475098, 0.6909081339836121, 0.6304614543914795, 0.4988960921764374, 0.5033072233200073, 0.5023861527442932, 0.6923190355300903, 0.49723806977272034, 0.7055321931838989, 0.4989316165447235, 0.5056931972503662, 0.497976690530777, 0.49964872002601624, 0.6234129667282104, 0.695000410079956, 0.49901720881462097, 0.5127394795417786, 0.5164268016815186, 0.47250789403915405, 0.7146393060684204, 0.5006078481674194, 0.7026541233062744, 0.5003336668014526, 0.7014557123184204, 0.5355914235115051, 0.49597522616386414, 0.5019079446792603, 0.5019024014472961, 0.4986526072025299, 0.5013160109519958, 0.69776850938797, 0.5023093819618225, 0.6944181323051453, 0.7023455500602722, 0.4973849654197693, 0.6995105147361755, 0.502281665802002, 0.4978734850883484, 0.4988902509212494, 0.49985629320144653, 0.4901413023471832, 0.5238766074180603, 0.7042762041091919, 0.7010495662689209, 0.5368148684501648, 0.5092174410820007, 0.5048031210899353, 0.7035227417945862, 0.6965364217758179, 0.5023742318153381, 0.5002625584602356, 0.4999062418937683, 0.49859267473220825, 0.5017269253730774, 0.5019830465316772, 0.6986796259880066, 0.5014128088951111, 0.5015568137168884, 0.7003906965255737, 0.7031804323196411, 0.49698835611343384, 0.5028641819953918, 0.5979940295219421, 0.5043776035308838, 0.4999644160270691, 0.49748295545578003, 0.519378125667572, 0.49966517090797424, 0.7326652407646179, 0.49779221415519714, 0.534132182598114, 0.49601414799690247, 0.7121708989143372, 0.7029725909233093, 0.49484872817993164, 0.4990381598472595, 0.5063493847846985, 0.7029047012329102, 0.4982154965400696, 0.5233167409896851, 0.5017487406730652, 0.5008757710456848, 0.5920769572257996, 0.5267136096954346, 0.5021570920944214, 0.5005343556404114, 0.4985223114490509, 0.4934455454349518, 0.4999360144138336, 0.5004838109016418, 0.589945912361145, 0.5013977289199829, 0.5225259065628052, 0.5016300678253174, 0.5040193200111389, 0.5188992619514465, 0.703689694404602, 0.6955633163452148, 0.6172633171081543, 0.5094959139823914, 0.5042198300361633, 0.4972717761993408, 0.5221312642097473, 0.5011636018753052, 0.5009459853172302, 0.5164523124694824, 0.7159475684165955, 0.5024229884147644, 0.4997948110103607, 0.7030035257339478, 0.5072824954986572, 0.499594122171402, 0.5180737972259521, 0.49801161885261536, 0.7042827010154724, 0.5237491130828857, 0.5016127228736877, 0.5006206035614014, 0.4982824921607971, 0.5791091322898865, 0.5016511082649231, 0.5004972815513611, 0.49852195382118225, 0.7047879099845886, 0.49984386563301086, 0.6678371429443359, 0.5000361800193787, 0.504629909992218, 0.7072962522506714, 0.5060100555419922, 0.7028708457946777, 0.500799298286438, 0.7314114570617676, 0.49780866503715515, 0.49764496088027954, 0.5011743903160095, 0.5025967955589294, 0.502193033695221, 0.5002336502075195, 0.5287736654281616, 0.5179034471511841, 0.5017721056938171, 0.7128981351852417, 0.5020185708999634, 0.5105448961257935, 0.7011869549751282, 0.49799177050590515, 0.5028660297393799, 0.4981136620044708, 0.6044397950172424, 0.5013952255249023, 0.501284122467041, 0.4983726739883423, 0.6751843690872192, 0.502795398235321, 0.5018725991249084, 0.5004144906997681, 0.7072715759277344, 0.5209642648696899, 0.5047888159751892, 0.5062445998191833, 0.4987143874168396, 0.49894407391548157, 0.6915525197982788, 0.5050985813140869, 0.7006892561912537, 0.5016384720802307, 0.7042200565338135, 0.4985705614089966, 0.5026135444641113, 0.5001327991485596, 0.56498122215271, 0.5043002963066101, 0.7061094641685486, 0.5013655424118042, 0.5016802549362183, 0.6172800660133362, 0.4983520209789276, 0.5003789663314819, 0.5019962191581726, 0.5022477507591248, 0.5010053515434265, 0.4990393817424774, 0.5022811889648438, 0.5388299822807312, 0.7101983428001404, 0.49907186627388, 0.5013797879219055, 0.7011032104492188, 0.5003611445426941, 0.7046371102333069, 0.6956595778465271, 0.5025837421417236, 0.6995753645896912, 0.5146982669830322, 0.5015521049499512, 0.5014349222183228, 0.5667339563369751, 0.5022019147872925, 0.6259002089500427, 0.5623385310173035, 0.7014061808586121, 0.5008347034454346, 0.5106896758079529, 0.5017033815383911, 0.5002610087394714, 0.4968165457248688, 0.4975232183933258, 0.5002214312553406, 0.5006513595581055, 0.5025994181632996, 0.701284646987915, 0.49959796667099, 0.5020931363105774, 0.5019761919975281, 0.5162312984466553, 0.4969899356365204, 0.5072707533836365, 0.5018531084060669, 0.645080029964447, 0.5275804400444031, 0.7135760188102722, 0.4998261332511902, 0.4999402165412903, 0.5024188756942749, 0.5035563707351685, 0.5007287859916687, 0.5043379664421082, 0.4991966485977173, 0.5099327564239502, 0.49753862619400024, 0.5223602652549744, 0.4999760389328003, 0.5047581195831299, 0.5033318996429443, 0.5078058242797852, 0.5022141933441162, 0.4998931586742401, 0.49949827790260315, 0.5019355416297913, 0.7201297283172607, 0.5152565836906433, 0.7030453085899353, 0.4998427927494049, 0.5023518204689026, 0.6615192294120789, 0.7026138305664062, 0.7369006276130676, 0.499849408864975, 0.5297169089317322, 0.521624743938446, 0.5393256545066833, 0.701453447341919, 0.7046441435813904, 0.4999871551990509, 0.5011672377586365, 0.5013955235481262, 0.5022169947624207, 0.4998171329498291, 0.5000233054161072, 0.4992125332355499, 0.501242995262146, 0.5130974054336548, 0.5014288425445557, 0.4998859167098999, 0.5004379153251648, 0.7246591448783875, 0.49856624007225037, 0.6952360272407532, 0.5013456344604492, 0.5165848135948181, 0.7003318667411804, 0.503016471862793, 0.7056364417076111, 0.5010442733764648, 0.5016560554504395, 0.5471369624137878, 0.5018794536590576, 0.501318633556366, 0.49890655279159546, 0.5238895416259766, 0.5008570551872253, 0.7294870615005493, 0.5355668067932129, 0.5013129115104675, 0.5372053384780884, 0.49807608127593994, 0.49981650710105896, 0.5010285973548889, 0.6841118931770325, 0.5007399916648865, 0.6605872511863708, 0.5092236399650574, 0.5717799067497253, 0.5031377673149109, 0.49826687574386597, 0.5009243488311768, 0.49672427773475647, 0.4992685616016388, 0.5007351040840149, 0.5116277933120728, 0.7032557725906372, 0.7029410600662231, 0.5111327171325684, 0.49855226278305054, 0.5652512311935425, 0.6695983409881592, 0.5139774680137634, 0.5489955544471741, 0.4986048638820648, 0.5006888508796692, 0.7034787535667419, 0.5010691285133362, 0.4997636377811432, 0.5992067456245422, 0.5001742839813232, 0.5058053731918335, 0.5224381685256958, 0.7311162352561951, 0.7037144303321838, 0.5192589163780212, 0.5018084645271301, 0.7049005031585693, 0.49881863594055176, 0.6947590708732605, 0.5009293556213379, 0.49839967489242554, 0.4998568892478943, 0.6580457091331482, 0.49622976779937744, 0.49810338020324707, 0.54193115234375, 0.5016371607780457, 0.5010637640953064, 0.49985018372535706, 0.5007015466690063, 0.6973565220832825, 0.5015590786933899, 0.5017439723014832, 0.4969542622566223, 0.5075715184211731, 0.7016533017158508, 0.6362947225570679, 0.4979645907878876, 0.5024207234382629, 0.5119008421897888, 0.49744096398353577, 0.49704498052597046, 0.5028576254844666, 0.6935107111930847, 0.49890685081481934, 0.5017836093902588, 0.5023449659347534, 0.7007392644882202, 0.5046067833900452, 0.5004764199256897, 0.5619227290153503, 0.49943220615386963, 0.5002832412719727, 0.5030386447906494, 0.7001616358757019, 0.4961235225200653, 0.7012770175933838, 0.7083132863044739, 0.5007800459861755, 0.5209006071090698, 0.49294209480285645, 0.7050203084945679, 0.6859009265899658, 0.5555194020271301, 0.5010748505592346, 0.5009770393371582, 0.5129558444023132, 0.4998633861541748, 0.54469233751297, 0.4977317750453949, 0.6759607791900635, 0.7122173309326172, 0.6773845553398132, 0.5211758613586426, 0.564245879650116, 0.5070019364356995, 0.49407491087913513, 0.7316763997077942, 0.5048533082008362, 0.5080761313438416, 0.7015014886856079, 0.593014121055603, 0.7026808857917786, 0.503223180770874, 0.7042990922927856, 0.49953773617744446, 0.498862087726593, 0.49741286039352417, 0.7087064981460571, 0.4967675507068634, 0.5492788553237915, 0.500021755695343, 0.5028162598609924, 0.49844351410865784, 0.7443263530731201, 0.5045369863510132, 0.495817095041275, 0.704370379447937, 0.5030606389045715, 0.5142560601234436, 0.49717336893081665, 0.5020225644111633, 0.499934583902359, 0.7113052010536194, 0.5037945508956909, 0.5136287808418274, 0.5016205906867981, 0.5077723264694214, 0.5064764618873596, 0.4987879693508148, 0.4977400600910187, 0.4995971620082855, 0.501513659954071, 0.5347933173179626, 0.49392256140708923, 0.49900180101394653, 0.7054981589317322, 0.5303798913955688, 0.5896416902542114, 0.6792192459106445, 0.7175263166427612, 0.6486182808876038, 0.4997631907463074, 0.5002070665359497, 0.4988688826560974, 0.5346674919128418, 0.4992300570011139, 0.5152142643928528, 0.5218128561973572, 0.5018517971038818, 0.49801310896873474, 0.4984291195869446, 0.5016629099845886, 0.6876636147499084, 0.5026461482048035, 0.7054288387298584, 0.5021812319755554, 0.5012930631637573, 0.7069838047027588, 0.5103245377540588, 0.698406994342804, 0.6613202691078186, 0.48525184392929077, 0.5023331046104431, 0.512609601020813, 0.500856876373291, 0.4998602867126465, 0.5033274292945862, 0.5234870314598083, 0.5023026466369629, 0.625669002532959, 0.49975085258483887, 0.4988522231578827, 0.5010219812393188, 0.5026557445526123, 0.5016984939575195, 0.7037585973739624, 0.5036437511444092, 0.5003906488418579, 0.5027815699577332, 0.502327024936676, 0.5012907981872559, 0.4990074932575226, 0.7053272128105164, 0.5010660290718079, 0.5028458833694458, 0.5804396867752075, 0.49486368894577026, 0.5045491456985474, 0.5373870134353638, 0.5758620500564575, 0.7037163972854614, 0.5037232041358948, 0.4947129487991333, 0.4988298714160919, 0.497785359621048, 0.5286619067192078, 0.5396251082420349, 0.7067106366157532, 0.5518498420715332, 0.5013049840927124, 0.5002291202545166, 0.6887498497962952, 0.5192689299583435, 0.4997921884059906, 0.49954381585121155, 0.49913692474365234, 0.6109831929206848, 0.7017817497253418, 0.7033343315124512, 0.5034080743789673, 0.5331188440322876, 0.49533820152282715, 0.5006961822509766, 0.6875365376472473, 0.5009222626686096, 0.49816200137138367, 0.7024971842765808, 0.7221153378486633, 0.5204485654830933, 0.5015316009521484, 0.7026184797286987, 0.6872607469558716, 0.7048252820968628, 0.5009561777114868, 0.7056025862693787, 0.5145950317382812, 0.5017063021659851, 0.5001924633979797, 0.49627697467803955, 0.49813228845596313, 0.5327296853065491, 0.5004931092262268, 0.6776220202445984, 0.5003538727760315, 0.7113925814628601, 0.5020719766616821, 0.49710613489151, 0.5027796030044556, 0.5077837705612183, 0.5011664032936096, 0.4999246895313263, 0.4997982382774353, 0.7018639445304871, 0.5089451670646667, 0.5008258819580078, 0.5809909701347351, 0.5011975169181824, 0.5009609460830688, 0.5001159310340881, 0.49546676874160767, 0.5164561867713928, 0.71315997838974, 0.4997539818286896, 0.699779748916626, 0.4943764805793762, 0.4964323043823242, 0.49905672669410706, 0.50460284948349, 0.5000703930854797, 0.496634304523468, 0.5005569458007812, 0.5013576149940491, 0.4952546954154968, 0.6750560402870178, 0.5120342969894409, 0.4998539686203003, 0.5855632424354553, 0.5013037323951721, 0.536006510257721, 0.5499152541160583, 0.5022210478782654, 0.4980980455875397, 0.7266088724136353, 0.5007398724555969, 0.5098152756690979, 0.5017182230949402, 0.49591264128685, 0.5005791783332825, 0.4986109137535095, 0.6563419699668884, 0.49900832772254944, 0.5006018280982971, 0.5001122355461121, 0.5009815096855164, 0.49805915355682373, 0.5017632246017456, 0.6988948583602905, 0.4979360103607178, 0.4998369514942169, 0.49994102120399475, 0.5000789761543274, 0.49955666065216064, 0.5042882561683655, 0.5029999613761902, 0.4983168840408325, 0.49983346462249756, 0.6049231290817261, 0.7068539261817932, 0.4970349073410034, 0.7012320160865784, 0.5117537379264832, 0.6987147927284241, 0.49698570370674133, 0.5798811912536621, 0.4998287856578827, 0.5343460440635681, 0.5016777515411377, 0.5040780305862427, 0.4996768832206726, 0.5028830766677856, 0.6872526407241821, 0.5017186403274536, 0.5228585004806519, 0.5030058026313782, 0.5026436448097229, 0.48737189173698425, 0.5015758872032166, 0.49789413809776306, 0.5010400414466858, 0.502358615398407, 0.5153674483299255, 0.5045601725578308, 0.5028557181358337, 0.5061260461807251, 0.703079879283905, 0.5163463950157166, 0.49740496277809143, 0.6058301329612732, 0.5777302980422974, 0.49947166442871094, 0.5052064657211304, 0.5026362538337708, 0.5014135837554932, 0.6894629597663879, 0.507785975933075, 0.5025071501731873, 0.7054114937782288, 0.5002049803733826, 0.5011559724807739, 0.6877356767654419, 0.5005797743797302, 0.7037566304206848, 0.5075185894966125, 0.7126630544662476, 0.49701911211013794, 0.7335844039916992, 0.5203880071640015, 0.5454011559486389, 0.49979597330093384, 0.4997199773788452, 0.5028016567230225, 0.7137014865875244, 0.4971863329410553, 0.5000525116920471, 0.5010525584220886, 0.5017268061637878, 0.7034298181533813, 0.5019899010658264, 0.7373471856117249, 0.49944159388542175, 0.7008740305900574, 0.4957970678806305, 0.7164776921272278, 0.714663028717041, 0.5227992534637451, 0.5054429769515991, 0.5089637041091919, 0.6858344674110413, 0.5619674324989319, 0.5015534162521362, 0.5003591179847717, 0.49761465191841125, 0.5028074383735657, 0.5017959475517273, 0.7043241262435913, 0.5259305834770203, 0.4984346926212311, 0.7031421065330505, 0.4998551607131958, 0.7035384178161621, 0.4989851117134094, 0.7034819722175598, 0.501041829586029, 0.5060489773750305, 0.4953739047050476, 0.7042053937911987, 0.6871246099472046, 0.6989498734474182, 0.5007414817810059, 0.5041466951370239, 0.4981376826763153, 0.5118099451065063, 0.526123583316803, 0.501997172832489, 0.7053102850914001, 0.7070131301879883, 0.4981020390987396, 0.7117129564285278, 0.5027433037757874, 0.4977518618106842, 0.5017982721328735, 0.507990837097168, 0.6989265084266663, 0.7199889421463013, 0.7029528021812439, 0.6108121871948242, 0.502062976360321, 0.7035138010978699, 0.4995906949043274, 0.4963323771953583, 0.5047042965888977, 0.5258746147155762, 0.5135080814361572, 0.5006680488586426, 0.5019444227218628, 0.6903858184814453, 0.7033200263977051, 0.5020025968551636, 0.5035367012023926, 0.5034304857254028, 0.5018692016601562, 0.5029309391975403, 0.6968753933906555, 0.5122765898704529, 0.500357449054718, 0.5012179613113403, 0.501383900642395, 0.49946415424346924, 0.6577366590499878, 0.5001636743545532, 0.5404024720191956, 0.4954860806465149, 0.7052780389785767, 0.5009300708770752, 0.5949729084968567, 0.5014671683311462, 0.6996093988418579, 0.4997771978378296, 0.501188337802887, 0.500089704990387, 0.5028069615364075, 0.501617431640625, 0.5008971095085144, 0.4974555969238281, 0.7046047449111938, 0.5030377507209778, 0.49655550718307495, 0.506295919418335, 0.5011645555496216, 0.5015730261802673, 0.7033307552337646, 0.4989757239818573, 0.4998618960380554, 0.5023946762084961, 0.5031073689460754, 0.513276994228363, 0.5001991987228394, 0.5609357357025146, 0.49831610918045044, 0.5051971077919006, 0.7354738712310791, 0.5405786633491516, 0.7400394678115845, 0.7320970892906189, 0.7338753342628479, 0.7379021048545837, 0.736362874507904, 0.7321687936782837, 0.7205275893211365, 0.738480806350708, 0.736264705657959, 0.7338135242462158, 0.7368360757827759, 0.7323045134544373, 0.7352019548416138, 0.7361870408058167, 0.7382524013519287, 0.5596733093261719, 0.7387184500694275, 0.7379024624824524, 0.7330906391143799, 0.6910053491592407, 0.7353033423423767, 0.7271748781204224, 0.7349172234535217, 0.7320226430892944, 0.7357324957847595, 0.7355110049247742, 0.7394881844520569, 0.7361876964569092, 0.717710554599762, 0.552354097366333, 0.73366379737854, 0.7251636981964111, 0.7359237670898438, 0.7066659927368164, 0.734991729259491, 0.7357808947563171, 0.7237181067466736, 0.7371501326560974, 0.7203757762908936, 0.7311890125274658, 0.7382802963256836, 0.7267799973487854, 0.7377979755401611, 0.7288181185722351, 0.7360869646072388, 0.7353125214576721, 0.7356860041618347, 0.5783782005310059, 0.7305727601051331, 0.7312769889831543, 0.7340934872627258, 0.7318180799484253, 0.7280924320220947, 0.7309297919273376, 0.7342789769172668, 0.7352844476699829, 0.7375507950782776, 0.7182303667068481, 0.6767736077308655, 0.6601366996765137, 0.7354676127433777, 0.7301512956619263, 0.7093720436096191, 0.7381719350814819, 0.7281813621520996, 0.7301079630851746, 0.5620166063308716, 0.7322313189506531, 0.7335314750671387, 0.7218267321586609, 0.6886006593704224, 0.7251662611961365, 0.7387731671333313, 0.7365968227386475, 0.7371910810470581, 0.5650656819343567, 0.7363536953926086, 0.5399957299232483, 0.737451434135437, 0.732728123664856, 0.5420023798942566, 0.7366938591003418, 0.7291818857192993, 0.7340649962425232, 0.7385696172714233, 0.7318152785301208, 0.6989223957061768, 0.7322553992271423, 0.7370026707649231, 0.7342063784599304, 0.7361733317375183, 0.7348535656929016, 0.7338098883628845, 0.6495537161827087, 0.7368002533912659, 0.7357359528541565, 0.7311660647392273, 0.7336346507072449, 0.735881507396698, 0.7339196801185608, 0.736145555973053, 0.7370398640632629, 0.7331852316856384, 0.7336028814315796, 0.7381929159164429, 0.7335209250450134, 0.7300921678543091, 0.7349094748497009, 0.7326617240905762, 0.7367949485778809, 0.7300424575805664, 0.7341404557228088, 0.7307634353637695, 0.7373651266098022, 0.5974375605583191, 0.7243743538856506, 0.7206931710243225, 0.7320526242256165, 0.735338032245636, 0.7351574301719666, 0.7312278151512146, 0.7352687120437622, 0.7363414168357849, 0.7322819828987122, 0.7357146739959717, 0.7173900604248047, 0.738126814365387, 0.7265176177024841, 0.7384968996047974, 0.7317265868186951, 0.7328108549118042, 0.7358686923980713, 0.7368684411048889, 0.7329398989677429, 0.7350850105285645, 0.5043975114822388, 0.7373864054679871, 0.7273797988891602, 0.7336510419845581, 0.7358981966972351, 0.728610634803772, 0.7366077303886414, 0.7320901155471802, 0.7346975803375244, 0.7326968312263489, 0.7350101470947266, 0.731031060218811, 0.7376198172569275, 0.7267102003097534, 0.7326824069023132, 0.7265021204948425, 0.7365313768386841, 0.7360442280769348, 0.7303109765052795, 0.7369499802589417, 0.7361640930175781, 0.7347192764282227, 0.73654705286026, 0.7352314591407776, 0.7368130683898926, 0.736308217048645, 0.7375262975692749, 0.7374225854873657, 0.7440050840377808, 0.7356534600257874, 0.7362135052680969, 0.5360894203186035, 0.7370293736457825, 0.7368938326835632, 0.7346568703651428, 0.72772216796875, 0.7364987134933472, 0.7327963709831238, 0.7346975803375244, 0.7351299524307251, 0.7340751886367798, 0.7344805002212524, 0.7346521615982056, 0.7345750331878662, 0.7346132397651672, 0.7344217300415039, 0.7270073890686035, 0.7320361733436584, 0.7365784049034119, 0.7337971925735474, 0.7352330684661865, 0.7338719367980957, 0.7370619773864746, 0.7368524670600891, 0.7364626526832581, 0.735874593257904, 0.7375586032867432, 0.7365682721138, 0.7369089126586914, 0.7276927828788757, 0.7099419832229614, 0.7273533940315247, 0.7314789295196533, 0.631309986114502, 0.7319647669792175, 0.7334595918655396, 0.7347063422203064, 0.7253466844558716, 0.7306459546089172, 0.7366641163825989, 0.7302005887031555, 0.7312063574790955, 0.7193869948387146, 0.7322397828102112, 0.7210992574691772, 0.5346920490264893, 0.7228266596794128, 0.7335313558578491, 0.7269216775894165, 0.7356338500976562, 0.5365801453590393, 0.7377638220787048, 0.7141942381858826, 0.5284077525138855, 0.7363660931587219, 0.7329142689704895, 0.7367160320281982, 0.7316500544548035, 0.7299238443374634, 0.5396826863288879, 0.7344534993171692, 0.7366185188293457, 0.7377671599388123, 0.7352222204208374, 0.734900712966919, 0.7319385409355164, 0.7358118891716003, 0.7375267744064331, 0.7378520965576172, 0.7370231747627258, 0.7395724058151245, 0.7397397756576538, 0.7363380193710327, 0.7385358214378357, 0.7340455651283264, 0.7364171743392944, 0.725968062877655, 0.7367683053016663, 0.7361572980880737, 0.7364429831504822, 0.7283744812011719, 0.7318102717399597, 0.7358275055885315, 0.6745762825012207, 0.7353167533874512, 0.7376812696456909, 0.7295918464660645, 0.7360958456993103, 0.7297793030738831, 0.7352445721626282, 0.7369813919067383, 0.7376896739006042, 0.7343217134475708, 0.7348729372024536, 0.736945390701294, 0.7380831241607666, 0.7240272760391235, 0.7334076762199402, 0.7304303050041199, 0.735099732875824, 0.7377339005470276, 0.7232168316841125, 0.7308504581451416, 0.7296194434165955, 0.7189526557922363, 0.7327558398246765, 0.7327261567115784, 0.728782594203949, 0.7309783101081848, 0.7157055735588074, 0.7342224717140198, 0.737159788608551, 0.7181791663169861, 0.7284719347953796, 0.7321248650550842, 0.7175922393798828, 0.7369391322135925, 0.7274195551872253, 0.7239315509796143, 0.7364681363105774, 0.7327941060066223, 0.7305283546447754, 0.7338684797286987, 0.7333693504333496, 0.7350720167160034, 0.7251074910163879, 0.5410995483398438, 0.7378403544425964, 0.7357293367385864, 0.7352511882781982, 0.7383180260658264, 0.7348566055297852, 0.6627816557884216, 0.7242116332054138, 0.6422811150550842, 0.6462949514389038, 0.708896815776825, 0.7242341041564941, 0.7367493510246277, 0.700255274772644, 0.703012228012085, 0.7132102847099304, 0.7051253318786621, 0.4961822032928467, 0.7347468137741089, 0.7330459952354431, 0.5283674597740173, 0.7279101014137268, 0.7323859930038452, 0.7126424908638, 0.7212774157524109, 0.7081011533737183, 0.7227451801300049, 0.603780210018158, 0.7214720845222473, 0.6920871138572693, 0.7121333479881287, 0.7285841107368469, 0.7066490054130554, 0.7322461009025574, 0.7352148294448853, 0.7318518161773682, 0.727161705493927, 0.7079030871391296, 0.7143909335136414, 0.7157986760139465, 0.6114280819892883, 0.5088322758674622, 0.7331334948539734, 0.723556637763977, 0.7133176326751709, 0.7075158357620239, 0.7273179888725281, 0.7118619084358215, 0.7311193346977234, 0.7048078775405884, 0.7370108962059021, 0.5382305979728699, 0.7365898489952087, 0.7213558554649353, 0.7118210196495056, 0.7027019262313843, 0.7362940311431885, 0.7302125692367554, 0.7352293133735657, 0.7060283422470093, 0.7241584062576294, 0.7320762872695923, 0.7341039180755615, 0.7283170223236084, 0.7030889987945557, 0.734050989151001, 0.7254053354263306, 0.702528178691864, 0.7048343420028687, 0.7355195879936218, 0.7159704566001892, 0.7055830955505371, 0.7358371019363403, 0.7357267141342163, 0.7191937565803528, 0.7379499673843384, 0.7274525165557861, 0.7123991847038269, 0.7096177935600281, 0.505668044090271, 0.7041741013526917, 0.7296663522720337, 0.7179082036018372, 0.7059689164161682, 0.7033202052116394, 0.7047234773635864, 0.7230210304260254, 0.7011895775794983, 0.5052851438522339, 0.736508846282959, 0.7108533382415771, 0.7362855076789856, 0.7267192006111145, 0.7334317564964294, 0.5433357954025269, 0.5056144595146179, 0.7031182646751404, 0.7355501055717468, 0.6129764914512634, 0.7363226413726807, 0.6078104972839355, 0.7276653051376343, 0.7362993955612183, 0.7076374292373657, 0.73206627368927, 0.6972007155418396, 0.7134957909584045, 0.7343394756317139, 0.7047440409660339, 0.692040741443634, 0.7344451546669006, 0.7299148440361023, 0.6023228764533997, 0.7055202126502991, 0.5253487825393677, 0.736426055431366, 0.7313122749328613, 0.7386232018470764, 0.7305625677108765, 0.7216975092887878, 0.7335055470466614, 0.7367827296257019, 0.7145336866378784, 0.7329899668693542, 0.7317191958427429, 0.7313500642776489, 0.7225849628448486, 0.7032928466796875, 0.700966477394104, 0.7387757301330566, 0.7158282399177551, 0.7314053177833557, 0.7158445715904236, 0.7268842458724976, 0.7345304489135742, 0.7138224840164185, 0.7195165157318115, 0.6879964470863342, 0.7340984344482422, 0.7328847646713257, 0.7356968522071838, 0.7059836983680725, 0.7174671292304993, 0.7051222324371338, 0.5076543688774109, 0.7378187775611877, 0.7043783068656921, 0.7199439406394958, 0.7322403788566589, 0.7323582768440247, 0.732600748538971, 0.7337328791618347, 0.7306553721427917, 0.7367902994155884, 0.7295576930046082, 0.7283610701560974, 0.7363544702529907, 0.7352997660636902, 0.7171348333358765, 0.721075713634491, 0.7180719375610352, 0.7053021192550659, 0.7344987988471985, 0.7283461689949036, 0.5382498502731323, 0.72855544090271, 0.6677225232124329, 0.7219234704971313, 0.703361988067627, 0.536009669303894, 0.7380198240280151, 0.7132949829101562, 0.4984537661075592, 0.7309361696243286, 0.7119513750076294, 0.7066773772239685, 0.5131982564926147, 0.7222776412963867, 0.7173490524291992, 0.7306121587753296, 0.7379567623138428, 0.7244666814804077, 0.6645616888999939, 0.7029585838317871, 0.7284680604934692, 0.7015412449836731, 0.7314736843109131, 0.5382101535797119, 0.7298277020454407, 0.702569305896759, 0.7214680910110474, 0.5376718044281006, 0.7055526971817017, 0.7350111603736877, 0.7317866086959839, 0.527633011341095, 0.723521888256073, 0.7054700255393982, 0.700577437877655, 0.7189428210258484, 0.5045135617256165, 0.7292529344558716, 0.6059726476669312, 0.7166088223457336, 0.4997795820236206, 0.7058991193771362, 0.7374484539031982, 0.7298808693885803, 0.7366544604301453, 0.7350921630859375, 0.7062614560127258, 0.620426595211029, 0.7065814137458801, 0.7251117825508118, 0.501581609249115, 0.7235276699066162, 0.7357935309410095, 0.7269012928009033, 0.7231631278991699, 0.720720648765564, 0.7037581205368042, 0.7020077705383301, 0.7358056306838989, 0.6725956797599792, 0.7239057421684265, 0.5889027118682861, 0.7267215847969055, 0.7244604229927063, 0.7308343052864075, 0.7255709171295166, 0.7371230721473694, 0.7334282994270325, 0.7298162579536438, 0.701617956161499, 0.5015802979469299, 0.7305389046669006, 0.7203972339630127, 0.7305194139480591, 0.7231472730636597, 0.699289083480835, 0.7231113314628601, 0.6992621421813965, 0.7282427549362183, 0.7337031960487366, 0.5043261647224426, 0.7356253266334534, 0.5782527327537537, 0.7312403917312622, 0.7091911435127258, 0.7350229620933533, 0.701795756816864, 0.7042334079742432, 0.7318617701530457, 0.7340003252029419, 0.7034428119659424, 0.7028110027313232, 0.7066693902015686, 0.7033315896987915, 0.7055032253265381, 0.7339602112770081, 0.7345598340034485, 0.708361804485321, 0.7185529470443726, 0.7334184646606445, 0.5214483141899109, 0.7316423058509827, 0.7041187286376953, 0.5536108016967773, 0.6287997961044312, 0.7306805849075317, 0.7202056646347046, 0.7352004051208496, 0.7285980582237244, 0.6967654824256897, 0.6725226640701294, 0.7060065865516663, 0.700342059135437, 0.7300571799278259, 0.7309255599975586, 0.7203947901725769, 0.5121957659721375, 0.7070521116256714, 0.7343888878822327, 0.7275093793869019, 0.7292758226394653, 0.7142542004585266, 0.6940762400627136, 0.7335553765296936, 0.7079883217811584, 0.7352145910263062, 0.7325413823127747, 0.7365217208862305, 0.7344321608543396, 0.7057182788848877, 0.6956609487533569, 0.5198485255241394, 0.7014755010604858, 0.7023905515670776, 0.7343223094940186, 0.7340041399002075, 0.7351007461547852, 0.7318744659423828, 0.7347314357757568, 0.5753440856933594, 0.7113343477249146, 0.7346886992454529, 0.7208243608474731, 0.718661367893219, 0.49865230917930603, 0.5194973945617676, 0.7363266348838806, 0.507792055606842, 0.7355454564094543, 0.6921687722206116, 0.7343375086784363, 0.7177233099937439, 0.7293277382850647, 0.5121260285377502, 0.5380068421363831, 0.6871742010116577, 0.7146685719490051, 0.7290729284286499, 0.7321720719337463, 0.7024734020233154, 0.729529619216919, 0.7340824604034424, 0.5768886804580688, 0.7143237590789795, 0.7155949473381042, 0.733568549156189, 0.702142059803009, 0.7153446674346924, 0.7374000549316406, 0.731299638748169, 0.7193737626075745, 0.5325896739959717, 0.7316150069236755, 0.7354592680931091, 0.7040472030639648, 0.7308804392814636, 0.7361767888069153, 0.7331313490867615, 0.7175039649009705, 0.7337465286254883, 0.7215331792831421, 0.7149760723114014, 0.7099646925926208, 0.737072229385376, 0.7305768132209778, 0.5004317164421082, 0.591988742351532, 0.6259966492652893, 0.7292335033416748, 0.5523431301116943, 0.5035236477851868, 0.6096090078353882, 0.7284300923347473, 0.7314103841781616, 0.7285970449447632, 0.5389578342437744, 0.7271435856819153, 0.7233914732933044, 0.5340635776519775, 0.7257714867591858, 0.7027963399887085, 0.7298786044120789, 0.5366767048835754, 0.7239206433296204, 0.7255437970161438, 0.7140172719955444, 0.7312085032463074, 0.7384631037712097, 0.7058507800102234, 0.731593906879425, 0.539747953414917, 0.5358870029449463, 0.7352111339569092, 0.7308741807937622, 0.7301700115203857, 0.725157618522644, 0.6994972825050354, 0.698002278804779, 0.7085601091384888, 0.5044779777526855, 0.736618161201477, 0.7307204008102417, 0.7256639003753662, 0.7314319610595703, 0.7313111424446106, 0.7329074740409851, 0.49842220544815063, 0.7274026870727539, 0.7040087580680847, 0.5017468929290771, 0.721928060054779, 0.7337937951087952, 0.7333703637123108, 0.6925098896026611, 0.7346997857093811, 0.7130664587020874, 0.7342692017555237, 0.7371764779090881, 0.5075040459632874, 0.7310537099838257, 0.709889829158783, 0.7357817888259888, 0.6407436728477478, 0.6794190406799316, 0.7217693328857422, 0.53397136926651, 0.7327138781547546, 0.7047899961471558, 0.7137280702590942, 0.7351040244102478, 0.7332313656806946, 0.6456401944160461, 0.7139275074005127, 0.5021829605102539, 0.7299289703369141, 0.7122923135757446, 0.7194573879241943, 0.5418516993522644, 0.7322078347206116, 0.7350491285324097, 0.7274837493896484, 0.7263897657394409, 0.703205943107605, 0.7302440404891968, 0.7000927329063416, 0.7305633425712585, 0.7302067279815674, 0.7039626836776733, 0.5674903988838196, 0.703296959400177, 0.6854608058929443, 0.7047935128211975, 0.7339237332344055, 0.721335232257843, 0.5357667803764343, 0.7082775235176086, 0.5016006827354431, 0.7039397358894348, 0.7026381492614746, 0.7204930186271667, 0.7041357159614563, 0.7145017981529236, 0.7322812080383301, 0.7214329242706299, 0.7058292627334595, 0.5119635462760925, 0.7205222249031067, 0.7348182797431946, 0.706838071346283, 0.6496570706367493, 0.7357597351074219, 0.725121796131134, 0.7343477010726929, 0.6869662404060364, 0.7343155741691589, 0.7054136991500854, 0.734550952911377, 0.49929264187812805, 0.7262330055236816, 0.7089232206344604, 0.721628725528717, 0.4982787072658539, 0.7116478085517883, 0.7368384003639221, 0.6128041744232178, 0.5015973448753357, 0.734844982624054, 0.7367419600486755, 0.7261013388633728, 0.7176916599273682, 0.7019650936126709, 0.7347241640090942, 0.6088147759437561, 0.7032532095909119, 0.5745555758476257, 0.6688952445983887, 0.7152059078216553, 0.7231676578521729, 0.7023746371269226, 0.5361841320991516, 0.5012818574905396, 0.7334874868392944, 0.7253167629241943, 0.7321256995201111, 0.5462590456008911, 0.568749189376831, 0.7327988147735596, 0.7116480469703674, 0.7053025960922241, 0.7341664433479309, 0.7030845284461975, 0.7072772979736328, 0.7010188698768616, 0.7379640340805054, 0.7353004813194275, 0.5287303924560547, 0.701219916343689, 0.7176499366760254, 0.7127424478530884, 0.7201153635978699, 0.726997971534729, 0.734354555606842, 0.6509620547294617, 0.733900249004364, 0.7054495215415955, 0.6767287850379944, 0.7355366349220276, 0.7373186945915222, 0.5007849931716919, 0.7313836812973022, 0.732841432094574, 0.6395750045776367, 0.7207074761390686, 0.7042573690414429, 0.7015756964683533, 0.7072204351425171, 0.7328668236732483, 0.7347269058227539, 0.7240172028541565, 0.7350217700004578, 0.7026172280311584, 0.5557748079299927, 0.7006523609161377, 0.7227614521980286, 0.7048337459564209, 0.7025737762451172, 0.734127402305603, 0.7208294868469238, 0.732397735118866, 0.7360069751739502, 0.7214534282684326, 0.7263562679290771, 0.7258670330047607, 0.5338921546936035, 0.7301183938980103, 0.7273932695388794, 0.7016799449920654, 0.7329953908920288, 0.7044636607170105, 0.7174180746078491, 0.7231786847114563, 0.7151429057121277, 0.7391698956489563, 0.7165557742118835, 0.6437215805053711, 0.7168838381767273, 0.7355425953865051, 0.7348719239234924, 0.7034998536109924, 0.734483540058136, 0.569762647151947, 0.7363454699516296, 0.7326894402503967, 0.7325136661529541, 0.7155337929725647, 0.731458842754364, 0.6042245626449585, 0.5296465754508972, 0.7326017618179321, 0.7321337461471558, 0.7057287693023682, 0.734978973865509, 0.5306379795074463, 0.4978579580783844, 0.7261226177215576, 0.7365029454231262, 0.577831506729126, 0.6552527546882629, 0.5307571887969971, 0.7287424802780151, 0.7089211940765381, 0.7370108366012573, 0.732841968536377, 0.6621408462524414, 0.5856192708015442, 0.733583390712738, 0.7204645872116089, 0.7353036403656006, 0.7024219632148743, 0.7042683959007263, 0.7117823958396912, 0.7298974394798279, 0.7188159227371216, 0.728780210018158, 0.7194851636886597, 0.7303463816642761, 0.718574583530426, 0.7350575923919678, 0.704730212688446, 0.7366262078285217, 0.6468181014060974, 0.7344898581504822, 0.7070386409759521, 0.7275630831718445, 0.7190768718719482, 0.7029866576194763, 0.735778272151947, 0.714299201965332, 0.4979381859302521, 0.5585357546806335, 0.6821179389953613, 0.7368664741516113, 0.5437899231910706, 0.7209272980690002, 0.6703293323516846, 0.7242240905761719, 0.6477270126342773, 0.7055613398551941, 0.7374603748321533, 0.7320466041564941, 0.7190839648246765, 0.7339877486228943, 0.7324112057685852, 0.734606146812439, 0.7367599606513977, 0.4988647401332855, 0.7220725417137146, 0.7210167646408081, 0.7368353605270386, 0.7257032990455627, 0.7322708964347839, 0.7301627993583679, 0.7138174772262573, 0.7223807573318481, 0.6750723719596863, 0.7330954074859619, 0.7348263263702393, 0.695698618888855, 0.7078607678413391, 0.7334311008453369, 0.7331013083457947, 0.7314032316207886, 0.7025141716003418, 0.5007847547531128, 0.733315646648407, 0.7351667881011963, 0.7043715715408325, 0.7007835507392883, 0.5387964248657227, 0.73155677318573, 0.7330217361450195, 0.7344627380371094, 0.6053991317749023, 0.7361369132995605, 0.7356978058815002, 0.7036113142967224, 0.7245863676071167, 0.7127932906150818, 0.5786182880401611, 0.5306633114814758, 0.7194928526878357, 0.7108074426651001, 0.7004961967468262, 0.7340143322944641, 0.7174009084701538, 0.7017650008201599, 0.730008065700531, 0.7317957878112793, 0.7245413064956665, 0.7014800310134888, 0.7111786603927612, 0.7010197639465332, 0.7352845072746277, 0.706741988658905, 0.5594565868377686, 0.7330673336982727, 0.5372359752655029, 0.7364090085029602, 0.7203269004821777, 0.7363129258155823, 0.7161339521408081, 0.7344210743904114, 0.7037205100059509, 0.7331314086914062, 0.6244227290153503, 0.7128632664680481, 0.7066214084625244, 0.5197227597236633, 0.7319812178611755, 0.7017812728881836, 0.7289773225784302, 0.7041630744934082, 0.7026305198669434, 0.7312403917312622, 0.7354426980018616, 0.7373673915863037, 0.5034058690071106, 0.7298536896705627, 0.572026252746582, 0.7331308722496033, 0.7044693231582642, 0.7062382698059082, 0.7109091281890869, 0.724877119064331, 0.7056192755699158, 0.7289139628410339, 0.5663857460021973, 0.7329133152961731, 0.722273051738739, 0.5026564002037048, 0.6963691711425781, 0.7367640137672424, 0.7369399070739746]\n"
     ]
    }
   ],
   "source": [
    "cnn_gltr_prediction_output = cnn_gltr_classifier.predict(X)\n",
    "print(cnn_gltr_prediction_output)"
   ]
  },
  {
   "cell_type": "code",
   "execution_count": 20,
   "metadata": {
    "colab": {
     "base_uri": "https://localhost:8080/"
    },
    "id": "5DwoQ7WCzul2",
    "outputId": "102e7c5b-e847-489d-e6ad-718ee6cd7a6c"
   },
   "outputs": [
    {
     "name": "stdout",
     "output_type": "stream",
     "text": [
      "CNN GLTR Classifier\n",
      "Accuracy: 0.8273654730946189\n",
      "F1: 0.835179526355997\n",
      "ROC_AUC: 0.8273654730946189\n",
      "              precision    recall  f1-score   support\n",
      "\n",
      "       Human       0.78      0.86      0.82      4525\n",
      "     ChatGPT       0.87      0.80      0.84      5473\n",
      "\n",
      "    accuracy                           0.83      9998\n",
      "   macro avg       0.83      0.83      0.83      9998\n",
      "weighted avg       0.83      0.83      0.83      9998\n",
      "\n"
     ]
    }
   ],
   "source": [
    "print(\"CNN GLTR Classifier\")\n",
    "evaluate(cnn_gltr_prediction_output, y, 0.6)"
   ]
  },
  {
   "cell_type": "code",
   "execution_count": 22,
   "metadata": {},
   "outputs": [
    {
     "name": "stdout",
     "output_type": "stream",
     "text": [
      "9998\n"
     ]
    },
    {
     "data": {
      "text/html": [
       "<div>\n",
       "<style scoped>\n",
       "    .dataframe tbody tr th:only-of-type {\n",
       "        vertical-align: middle;\n",
       "    }\n",
       "\n",
       "    .dataframe tbody tr th {\n",
       "        vertical-align: top;\n",
       "    }\n",
       "\n",
       "    .dataframe thead th {\n",
       "        text-align: right;\n",
       "    }\n",
       "</style>\n",
       "<table border=\"1\" class=\"dataframe\">\n",
       "  <thead>\n",
       "    <tr style=\"text-align: right;\">\n",
       "      <th></th>\n",
       "      <th>response</th>\n",
       "      <th>Label</th>\n",
       "      <th>GLTR Category 1</th>\n",
       "      <th>GLTR Category 3</th>\n",
       "      <th>sum_mistakes</th>\n",
       "      <th>TextBlob_Subjectivity</th>\n",
       "      <th>Formality Score</th>\n",
       "      <th>CNN_GLTR</th>\n",
       "    </tr>\n",
       "  </thead>\n",
       "  <tbody>\n",
       "    <tr>\n",
       "      <th>0</th>\n",
       "      <td>We don't exactly know, but there are some good...</td>\n",
       "      <td>0.0</td>\n",
       "      <td>0.675127</td>\n",
       "      <td>0.045685</td>\n",
       "      <td>2</td>\n",
       "      <td>0.559110</td>\n",
       "      <td>66.129032</td>\n",
       "      <td>0.505068</td>\n",
       "    </tr>\n",
       "    <tr>\n",
       "      <th>1</th>\n",
       "      <td>It is highly unlikely that quarantining indivi...</td>\n",
       "      <td>1.0</td>\n",
       "      <td>0.832298</td>\n",
       "      <td>0.043478</td>\n",
       "      <td>4</td>\n",
       "      <td>0.460750</td>\n",
       "      <td>76.288660</td>\n",
       "      <td>0.733795</td>\n",
       "    </tr>\n",
       "    <tr>\n",
       "      <th>2</th>\n",
       "      <td>The neutral radio voice was a requirement in H...</td>\n",
       "      <td>0.0</td>\n",
       "      <td>0.556701</td>\n",
       "      <td>0.092784</td>\n",
       "      <td>6</td>\n",
       "      <td>0.400000</td>\n",
       "      <td>75.925926</td>\n",
       "      <td>0.500793</td>\n",
       "    </tr>\n",
       "    <tr>\n",
       "      <th>3</th>\n",
       "      <td>However, here's a general overview of the glob...</td>\n",
       "      <td>1.0</td>\n",
       "      <td>0.788462</td>\n",
       "      <td>0.048077</td>\n",
       "      <td>9</td>\n",
       "      <td>0.388247</td>\n",
       "      <td>82.642487</td>\n",
       "      <td>0.731771</td>\n",
       "    </tr>\n",
       "    <tr>\n",
       "      <th>4</th>\n",
       "      <td>There is a program to give poor folks phones. ...</td>\n",
       "      <td>0.0</td>\n",
       "      <td>0.669565</td>\n",
       "      <td>0.086957</td>\n",
       "      <td>0</td>\n",
       "      <td>0.288584</td>\n",
       "      <td>67.424242</td>\n",
       "      <td>0.494529</td>\n",
       "    </tr>\n",
       "    <tr>\n",
       "      <th>...</th>\n",
       "      <td>...</td>\n",
       "      <td>...</td>\n",
       "      <td>...</td>\n",
       "      <td>...</td>\n",
       "      <td>...</td>\n",
       "      <td>...</td>\n",
       "      <td>...</td>\n",
       "      <td>...</td>\n",
       "    </tr>\n",
       "    <tr>\n",
       "      <th>9994</th>\n",
       "      <td>When you are tired, your eyes tend to blink le...</td>\n",
       "      <td>1.0</td>\n",
       "      <td>0.752577</td>\n",
       "      <td>0.041237</td>\n",
       "      <td>8</td>\n",
       "      <td>0.519444</td>\n",
       "      <td>69.000000</td>\n",
       "      <td>0.722273</td>\n",
       "    </tr>\n",
       "    <tr>\n",
       "      <th>9995</th>\n",
       "      <td>Some metals, such as those with sharp edges or...</td>\n",
       "      <td>1.0</td>\n",
       "      <td>0.633803</td>\n",
       "      <td>0.098592</td>\n",
       "      <td>6</td>\n",
       "      <td>0.660714</td>\n",
       "      <td>72.619048</td>\n",
       "      <td>0.502656</td>\n",
       "    </tr>\n",
       "    <tr>\n",
       "      <th>9996</th>\n",
       "      <td>Therefore, I cannot say anything about Faceboo...</td>\n",
       "      <td>1.0</td>\n",
       "      <td>0.666667</td>\n",
       "      <td>0.046296</td>\n",
       "      <td>6</td>\n",
       "      <td>0.411806</td>\n",
       "      <td>71.538462</td>\n",
       "      <td>0.696369</td>\n",
       "    </tr>\n",
       "    <tr>\n",
       "      <th>9997</th>\n",
       "      <td>There are several methods that scientists use ...</td>\n",
       "      <td>1.0</td>\n",
       "      <td>0.845865</td>\n",
       "      <td>0.026316</td>\n",
       "      <td>24</td>\n",
       "      <td>0.466255</td>\n",
       "      <td>82.352941</td>\n",
       "      <td>0.736764</td>\n",
       "    </tr>\n",
       "    <tr>\n",
       "      <th>9998</th>\n",
       "      <td>Blu Ray is a digital optical disc storage form...</td>\n",
       "      <td>1.0</td>\n",
       "      <td>0.852713</td>\n",
       "      <td>0.038760</td>\n",
       "      <td>12</td>\n",
       "      <td>0.460423</td>\n",
       "      <td>84.883721</td>\n",
       "      <td>0.736940</td>\n",
       "    </tr>\n",
       "  </tbody>\n",
       "</table>\n",
       "<p>9998 rows × 8 columns</p>\n",
       "</div>"
      ],
      "text/plain": [
       "                                               response  Label  \\\n",
       "0     We don't exactly know, but there are some good...    0.0   \n",
       "1     It is highly unlikely that quarantining indivi...    1.0   \n",
       "2     The neutral radio voice was a requirement in H...    0.0   \n",
       "3     However, here's a general overview of the glob...    1.0   \n",
       "4     There is a program to give poor folks phones. ...    0.0   \n",
       "...                                                 ...    ...   \n",
       "9994  When you are tired, your eyes tend to blink le...    1.0   \n",
       "9995  Some metals, such as those with sharp edges or...    1.0   \n",
       "9996  Therefore, I cannot say anything about Faceboo...    1.0   \n",
       "9997  There are several methods that scientists use ...    1.0   \n",
       "9998  Blu Ray is a digital optical disc storage form...    1.0   \n",
       "\n",
       "      GLTR Category 1  GLTR Category 3  sum_mistakes  TextBlob_Subjectivity  \\\n",
       "0            0.675127         0.045685             2               0.559110   \n",
       "1            0.832298         0.043478             4               0.460750   \n",
       "2            0.556701         0.092784             6               0.400000   \n",
       "3            0.788462         0.048077             9               0.388247   \n",
       "4            0.669565         0.086957             0               0.288584   \n",
       "...               ...              ...           ...                    ...   \n",
       "9994         0.752577         0.041237             8               0.519444   \n",
       "9995         0.633803         0.098592             6               0.660714   \n",
       "9996         0.666667         0.046296             6               0.411806   \n",
       "9997         0.845865         0.026316            24               0.466255   \n",
       "9998         0.852713         0.038760            12               0.460423   \n",
       "\n",
       "      Formality Score  CNN_GLTR  \n",
       "0           66.129032  0.505068  \n",
       "1           76.288660  0.733795  \n",
       "2           75.925926  0.500793  \n",
       "3           82.642487  0.731771  \n",
       "4           67.424242  0.494529  \n",
       "...               ...       ...  \n",
       "9994        69.000000  0.722273  \n",
       "9995        72.619048  0.502656  \n",
       "9996        71.538462  0.696369  \n",
       "9997        82.352941  0.736764  \n",
       "9998        84.883721  0.736940  \n",
       "\n",
       "[9998 rows x 8 columns]"
      ]
     },
     "execution_count": 22,
     "metadata": {},
     "output_type": "execute_result"
    }
   ],
   "source": [
    "df_output = df.copy()\n",
    "df_output[\"CNN_GLTR\"] = cnn_gltr_prediction_output\n",
    "print(len(df_output))\n",
    "df_output"
   ]
  },
  {
   "cell_type": "code",
   "execution_count": null,
   "metadata": {
    "colab": {
     "base_uri": "https://localhost:8080/"
    },
    "id": "f28wO2299S3b",
    "outputId": "07661b8c-61b2-4270-b1ac-ef8aa0bb1fba"
   },
   "outputs": [
    {
     "name": "stdout",
     "output_type": "stream",
     "text": [
      "63/63 [==============================] - 1s 7ms/step\n",
      "[0.648621141910553, 0.4984554350376129, 0.5935510396957397, 0.49741244316101074, 0.4975477457046509, 0.4963958263397217, 0.4948352873325348, 0.49515774846076965, 0.7271483540534973, 0.5002671480178833, 0.4965860843658447, 0.564044177532196, 0.5039076805114746, 0.49853089451789856, 0.5512794852256775, 0.4979524314403534, 0.7279283404350281, 0.4975771903991699, 0.6095284819602966, 0.5031675696372986, 0.49731171131134033, 0.49766218662261963, 0.6608642935752869, 0.4997081160545349, 0.5012992024421692, 0.4998995363712311, 0.49646320939064026, 0.49596670269966125, 0.4956147074699402, 0.4978005290031433, 0.503876268863678, 0.49725568294525146, 0.49541717767715454, 0.49758508801460266, 0.4973955750465393, 0.49546027183532715, 0.49852052330970764, 0.614133894443512, 0.49707087874412537, 0.5043337345123291, 0.4962110221385956, 0.4992735683917999, 0.49838316440582275, 0.5006017684936523, 0.49925342202186584, 0.49856171011924744, 0.5296135544776917, 0.49689528346061707, 0.49511921405792236, 0.500503659248352, 0.497488409280777, 0.4960085153579712, 0.49786096811294556, 0.4975670278072357, 0.7188517451286316, 0.5004258751869202, 0.49902284145355225, 0.4948899745941162, 0.49902188777923584, 0.498996376991272, 0.4988586902618408, 0.4981711208820343, 0.4944891631603241, 0.49676957726478577, 0.49757105112075806, 0.49884703755378723, 0.498121440410614, 0.49862465262413025, 0.49818283319473267, 0.4978228509426117, 0.590535044670105, 0.4977426528930664, 0.4977659583091736, 0.6268717050552368, 0.49948328733444214, 0.4970760643482208, 0.49813124537467957, 0.5012136101722717, 0.49544328451156616, 0.5379277467727661, 0.4981866180896759, 0.49635711312294006, 0.7283772826194763, 0.5006755590438843, 0.502801239490509, 0.5027581453323364, 0.4948596954345703, 0.5006644129753113, 0.5010005831718445, 0.4983760118484497, 0.49815016984939575, 0.4964529871940613, 0.4965329170227051, 0.49859702587127686, 0.4992527365684509, 0.5012128353118896, 0.4975414276123047, 0.49845579266548157, 0.4999697208404541, 0.4989197850227356, 0.4964119791984558, 0.7032464742660522, 0.5150686502456665, 0.4977896511554718, 0.49821043014526367, 0.725446343421936, 0.49799853563308716, 0.49884265661239624, 0.49669384956359863, 0.49646276235580444, 0.49897143244743347, 0.4975041151046753, 0.4973072111606598, 0.4981020390987396, 0.49739980697631836, 0.4975700378417969, 0.7220194339752197, 0.5000510215759277, 0.4959312081336975, 0.49601632356643677, 0.49504950642585754, 0.6166675090789795, 0.49951666593551636, 0.7279602289199829, 0.4925145208835602, 0.49881798028945923, 0.6823024153709412, 0.5527880787849426, 0.4930538535118103, 0.5071085691452026, 0.5150944590568542, 0.5012468099594116, 0.4998913109302521, 0.5448902249336243, 0.4963501989841461, 0.5001773238182068, 0.4953518509864807, 0.4978126883506775, 0.5020231604576111, 0.4976203441619873, 0.49612486362457275, 0.4985128939151764, 0.4997461438179016, 0.4983450174331665, 0.49766236543655396, 0.49809929728507996, 0.5044454336166382, 0.5649816393852234, 0.497377872467041, 0.4964717924594879, 0.49605631828308105, 0.5319361090660095, 0.49722832441329956, 0.4956572353839874, 0.4993892014026642, 0.4972439110279083, 0.4997052550315857, 0.49794259667396545, 0.49859634041786194, 0.5039485692977905, 0.500374972820282, 0.4972960650920868, 0.49496182799339294, 0.49596163630485535, 0.5020294785499573, 0.5002110600471497, 0.49864256381988525, 0.5028638243675232, 0.4964451193809509, 0.4986398220062256, 0.5146002769470215, 0.49778813123703003, 0.5059229731559753, 0.49133986234664917, 0.4969518482685089, 0.500800371170044, 0.6123900413513184, 0.49869439005851746, 0.5001139640808105, 0.6181521415710449, 0.49490195512771606, 0.5330473780632019, 0.5867285132408142, 0.49700868129730225, 0.4967246353626251, 0.4968923330307007, 0.500203013420105, 0.4974839985370636, 0.4945875108242035, 0.4992171823978424, 0.4956667721271515, 0.49939092993736267, 0.4986266791820526, 0.7239177823066711, 0.6218975186347961, 0.49755698442459106, 0.6260036826133728, 0.5136195421218872, 0.498534232378006, 0.5028042793273926, 0.4966143071651459, 0.657288134098053, 0.4978405833244324, 0.49950742721557617, 0.5060288310050964, 0.4962555766105652, 0.5006346106529236, 0.496463805437088, 0.49924546480178833, 0.49875280261039734, 0.49615031480789185, 0.5129226446151733, 0.4967673420906067, 0.4951626658439636, 0.7282989025115967, 0.608543336391449, 0.49440690875053406, 0.4975492060184479, 0.5540757179260254, 0.49781543016433716, 0.4977623224258423, 0.4976382255554199, 0.5005695819854736, 0.4968477189540863, 0.5769621729850769, 0.4955257177352905, 0.4965531527996063, 0.4987958073616028, 0.49905088543891907, 0.726093590259552, 0.5757530331611633, 0.5175994634628296, 0.5016823410987854, 0.5629881024360657, 0.4970414340496063, 0.5001692175865173, 0.4996470808982849, 0.49516406655311584, 0.4975582957267761, 0.6550044417381287, 0.49700498580932617, 0.4939693808555603, 0.5012476444244385, 0.49509158730506897, 0.6294494271278381, 0.4991103708744049, 0.5032497048377991, 0.504848837852478, 0.5022134184837341, 0.4974956214427948, 0.495888352394104, 0.4992355406284332, 0.4967259168624878, 0.5004258751869202, 0.666090190410614, 0.5006937980651855, 0.49996674060821533, 0.49693119525909424, 0.49744781851768494, 0.49612662196159363, 0.6447004079818726, 0.4959992468357086, 0.4991290867328644, 0.49723464250564575, 0.4978405833244324, 0.5056759119033813, 0.5002801418304443, 0.49780359864234924, 0.49726158380508423, 0.6471616625785828, 0.4961572587490082, 0.5007145404815674, 0.49842318892478943, 0.4968699812889099, 0.7289356589317322, 0.5011305212974548, 0.719693124294281, 0.49613940715789795, 0.500605583190918, 0.49404212832450867, 0.49725452065467834, 0.4957500696182251, 0.4993138313293457, 0.4966578185558319, 0.4969008266925812, 0.7274454236030579, 0.5015857219696045, 0.4979625940322876, 0.49765393137931824, 0.5032495856285095, 0.5004176497459412, 0.4991074204444885, 0.5980121493339539, 0.4995667040348053, 0.5011019110679626, 0.5032667517662048, 0.4954047203063965, 0.49526551365852356, 0.49711164832115173, 0.5615562200546265, 0.4966067671775818, 0.610515296459198, 0.4966958165168762, 0.4977349042892456, 0.49581244587898254, 0.4963015019893646, 0.5207944512367249, 0.49669837951660156, 0.4959380626678467, 0.49765536189079285, 0.4968946874141693, 0.4985337555408478, 0.67181396484375, 0.49960193037986755, 0.49743545055389404, 0.4984598755836487, 0.494159460067749, 0.49625903367996216, 0.4999811053276062, 0.4974743723869324, 0.49940964579582214, 0.7018389701843262, 0.4982213079929352, 0.6998723745346069, 0.494500070810318, 0.7302669286727905, 0.5098181962966919, 0.4969666302204132, 0.4997095465660095, 0.4959704577922821, 0.5051158666610718, 0.4971684515476227, 0.49403542280197144, 0.49811112880706787, 0.49740156531333923, 0.7008330821990967, 0.4969501495361328, 0.4998833239078522, 0.5020897388458252, 0.496307909488678, 0.6817687749862671, 0.49815183877944946, 0.49438604712486267, 0.4955429136753082, 0.49901893734931946, 0.49641984701156616, 0.49875855445861816, 0.49739745259284973, 0.6556736826896667, 0.7042557597160339, 0.49697133898735046, 0.6638153791427612, 0.4972805678844452, 0.4998549520969391, 0.4961983263492584, 0.4945334196090698, 0.4990944564342499, 0.4984637200832367, 0.49793538451194763, 0.724538266658783, 0.5030226707458496, 0.4992685317993164, 0.6978470087051392, 0.4983782470226288, 0.5038483142852783, 0.4981600046157837, 0.5006232857704163, 0.5498702526092529, 0.49233779311180115, 0.4986071288585663, 0.5000473260879517, 0.4992862343788147, 0.6387561559677124, 0.4965943694114685, 0.4982324242591858, 0.49677664041519165, 0.5109516978263855, 0.4972347021102905, 0.4957270622253418, 0.4962930977344513, 0.4969954192638397, 0.5740082859992981, 0.49814704060554504, 0.502051830291748, 0.714364767074585, 0.7271532416343689, 0.5018225908279419, 0.49543970823287964, 0.4971431791782379, 0.49654620885849, 0.5001911520957947, 0.50033038854599, 0.6506969332695007, 0.5001834630966187, 0.4993753433227539, 0.7274084687232971, 0.49835532903671265, 0.5099173784255981, 0.7002547383308411, 0.4986949861049652, 0.4965110719203949, 0.49760115146636963, 0.4993724822998047, 0.4966859221458435, 0.4970177412033081, 0.49702998995780945, 0.5049105286598206, 0.49791523814201355, 0.49732232093811035, 0.5434216856956482, 0.5736494064331055, 0.4974302351474762, 0.49654409289360046, 0.4950999915599823, 0.5204419493675232, 0.7288027405738831, 0.4972746670246124, 0.612247109413147, 0.7031579613685608, 0.5012838244438171, 0.7046385407447815, 0.4979161322116852, 0.49616914987564087, 0.49536821246147156, 0.4969941973686218, 0.6474716663360596, 0.5678168535232544, 0.508912980556488, 0.4975435435771942, 0.7054973840713501, 0.49944522976875305, 0.5027450919151306, 0.4977063238620758, 0.49716508388519287, 0.49849286675453186, 0.49903109669685364, 0.4985073208808899, 0.49565038084983826, 0.7094969153404236, 0.5131946802139282, 0.4990265369415283, 0.4945952296257019, 0.5000630617141724, 0.4961793124675751, 0.4963599443435669, 0.4981476962566376, 0.6210049390792847, 0.563762903213501, 0.4977548122406006, 0.5396162271499634, 0.49701544642448425, 0.49812155961990356, 0.4975690543651581, 0.4955809712409973, 0.5747032761573792, 0.49925124645233154, 0.49557727575302124, 0.49873754382133484, 0.49687644839286804, 0.5026813745498657, 0.4958058297634125, 0.4992283582687378, 0.49354833364486694, 0.4964420795440674, 0.49950528144836426, 0.49664998054504395, 0.49797558784484863, 0.4996902346611023, 0.49777689576148987, 0.49728989601135254, 0.5101422667503357, 0.4986049234867096, 0.5410341620445251, 0.5006965398788452, 0.4974031150341034, 0.4967799186706543, 0.5362579226493835, 0.49905112385749817, 0.606773316860199, 0.4958527088165283, 0.49919840693473816, 0.499413400888443, 0.49723151326179504, 0.4968497157096863, 0.5017829537391663, 0.5647636651992798, 0.4960748553276062, 0.49771392345428467, 0.5100260376930237, 0.496576189994812, 0.49731123447418213, 0.4970657527446747, 0.49747684597969055, 0.4958336055278778, 0.49686571955680847, 0.6735178232192993, 0.4971054792404175, 0.49762842059135437, 0.4988124668598175, 0.49558061361312866, 0.4987541437149048, 0.4980660676956177, 0.4991978108882904, 0.4972737431526184, 0.49433231353759766, 0.5072264671325684, 0.7285046577453613, 0.4943171739578247, 0.49696841835975647, 0.49698877334594727, 0.49849867820739746, 0.4975587725639343, 0.4981239140033722, 0.6542760133743286, 0.4969902038574219, 0.7281535267829895, 0.4974023401737213, 0.49571579694747925, 0.4972574710845947, 0.5006189942359924, 0.5005195736885071, 0.729720950126648, 0.49785637855529785, 0.49727195501327515, 0.49576181173324585, 0.4974878430366516, 0.5497502088546753, 0.4968072175979614, 0.4948905110359192, 0.5748851299285889, 0.49788904190063477, 0.496620774269104, 0.49761372804641724, 0.4958299696445465, 0.4981256425380707, 0.49433621764183044, 0.4974300265312195, 0.4978277087211609, 0.5356290340423584, 0.49682313203811646, 0.4974443018436432, 0.498599648475647, 0.7273635864257812, 0.4989471137523651, 0.5915750861167908, 0.4963897168636322, 0.4954048991203308, 0.49842941761016846, 0.4975641965866089, 0.4974291920661926, 0.49683818221092224, 0.4964361786842346, 0.4953611493110657, 0.49690374732017517, 0.4966939091682434, 0.4973949193954468, 0.49547290802001953, 0.4993801712989807, 0.4947790205478668, 0.7246478796005249, 0.49843522906303406, 0.49941274523735046, 0.495160847902298, 0.4954011142253876, 0.49706345796585083, 0.4985039532184601, 0.4989002048969269, 0.7268216013908386, 0.5460184216499329, 0.5026134252548218, 0.4972573518753052, 0.4954298436641693, 0.5298460721969604, 0.5001245141029358, 0.49805647134780884, 0.7267976403236389, 0.7205285429954529, 0.5540639758110046, 0.5430893301963806, 0.4996616244316101, 0.5024588704109192, 0.503070056438446, 0.498357355594635, 0.49483832716941833, 0.7073811292648315, 0.4978671967983246, 0.7280258536338806, 0.5253611207008362, 0.5006520748138428, 0.5248687267303467, 0.5011941194534302, 0.49762436747550964, 0.496252179145813, 0.7247039079666138, 0.5981562733650208, 0.49379247426986694, 0.5010486841201782, 0.4988582134246826, 0.499019056558609, 0.49653738737106323, 0.49832406640052795, 0.49717164039611816, 0.6290974617004395, 0.7244933843612671, 0.4961533844470978, 0.49731311202049255, 0.500247597694397, 0.49490001797676086, 0.5001872181892395, 0.49738070368766785, 0.49788373708724976, 0.49951088428497314, 0.4981006681919098, 0.728686511516571, 0.49805229902267456, 0.494509220123291, 0.6884492635726929, 0.49720287322998047, 0.49704113602638245, 0.4962161183357239, 0.49715402722358704, 0.5159629583358765, 0.5002270340919495, 0.49798116087913513, 0.4983482360839844, 0.5028751492500305, 0.4984312653541565, 0.49728694558143616, 0.4987661838531494, 0.7200186848640442, 0.7270002961158752, 0.49602246284484863, 0.500027060508728, 0.4950008988380432, 0.4948452115058899, 0.49492472410202026, 0.6314091682434082, 0.49763184785842896, 0.5059664249420166, 0.6473447680473328, 0.5006134510040283, 0.6674460768699646, 0.4971848428249359, 0.49592962861061096, 0.49672210216522217, 0.4966031312942505, 0.4980510473251343, 0.5438362956047058, 0.49933040142059326, 0.5374922156333923, 0.4977872967720032, 0.49946045875549316, 0.49985554814338684, 0.49823421239852905, 0.4971866011619568, 0.7154346108436584, 0.6835512518882751, 0.49673521518707275, 0.4977048337459564, 0.49413686990737915, 0.49949130415916443, 0.499578595161438, 0.5957134962081909, 0.5674434304237366, 0.49514758586883545, 0.4990891218185425, 0.4967603385448456, 0.49702775478363037, 0.4951261878013611, 0.4956599175930023, 0.49892371892929077, 0.49728164076805115, 0.5010082721710205, 0.4966459274291992, 0.5014305710792542, 0.7257965207099915, 0.5082035660743713, 0.5546330213546753, 0.5014398694038391, 0.5863448977470398, 0.5060645341873169, 0.4972788095474243, 0.4997650384902954, 0.5193192958831787, 0.49702176451683044, 0.4976426064968109, 0.4953068494796753, 0.5227444767951965, 0.5011773705482483, 0.5019598603248596, 0.5061625242233276, 0.49758851528167725, 0.6736470460891724, 0.4971199035644531, 0.5002353191375732, 0.4947682023048401, 0.4983121156692505, 0.505760669708252, 0.5010970830917358, 0.5306994318962097, 0.5161962509155273, 0.5018496513366699, 0.49715808033943176, 0.49834513664245605, 0.4979011118412018, 0.49724000692367554, 0.49754154682159424, 0.4991990029811859, 0.4992380440235138, 0.49853113293647766, 0.49661287665367126, 0.49662744998931885, 0.4975695013999939, 0.5631741285324097, 0.5736158490180969, 0.512474775314331, 0.4974558651447296, 0.4979246258735657, 0.4969627559185028, 0.4966500997543335, 0.49794167280197144, 0.49929913878440857, 0.6696641445159912, 0.49911952018737793, 0.4984012246131897, 0.6018160581588745, 0.4964502453804016, 0.4978627562522888, 0.5074812173843384, 0.4970044493675232, 0.4967181086540222, 0.4962019622325897, 0.4953954219818115, 0.49648424983024597, 0.7001652121543884, 0.49911826848983765, 0.4956163465976715, 0.515466570854187, 0.4973258376121521, 0.49906885623931885, 0.49672308564186096, 0.7017804980278015, 0.49729010462760925, 0.4959647059440613, 0.5071754455566406, 0.4955950379371643, 0.5011187791824341, 0.5057912468910217, 0.7060403823852539, 0.49567076563835144, 0.4956607520580292, 0.5022781491279602, 0.498152494430542, 0.49836990237236023, 0.4952020049095154, 0.49721914529800415, 0.5052735805511475, 0.7304661273956299, 0.4959128499031067, 0.498507022857666, 0.7282744646072388, 0.7261490821838379, 0.7034001350402832, 0.498485267162323, 0.624116063117981, 0.4971948564052582, 0.4980568289756775, 0.497109055519104, 0.49701952934265137, 0.4953514337539673, 0.6187942624092102, 0.49852699041366577, 0.4933848977088928, 0.49840009212493896, 0.5437991619110107, 0.4978438913822174, 0.5000711679458618, 0.4978148937225342, 0.49767613410949707, 0.49801596999168396, 0.4985217750072479, 0.5009297728538513, 0.5081570744514465, 0.49674803018569946, 0.4987720549106598, 0.49560147523880005, 0.49550288915634155, 0.49804607033729553, 0.4952731132507324, 0.5007036328315735, 0.498174786567688, 0.5045492053031921, 0.5027369260787964, 0.5962175726890564, 0.49664533138275146, 0.49726930260658264, 0.49695098400115967, 0.49718618392944336, 0.49689215421676636, 0.710369884967804, 0.5005062818527222, 0.4978609085083008, 0.5005977153778076, 0.7154846787452698, 0.5030840635299683, 0.49423539638519287, 0.7301850914955139, 0.49745550751686096, 0.7287489771842957, 0.4981488883495331, 0.49878084659576416, 0.5029474496841431, 0.7278676629066467, 0.497795969247818, 0.49559012055397034, 0.4982152283191681, 0.49932608008384705, 0.49884241819381714, 0.5024417042732239, 0.5668826699256897, 0.4988003075122833, 0.4965622127056122, 0.5003925561904907, 0.4985966384410858, 0.49711814522743225, 0.49769067764282227, 0.49421408772468567, 0.49735939502716064, 0.5000939965248108, 0.4966420531272888, 0.49823319911956787, 0.4991474449634552, 0.5160319209098816, 0.49761131405830383, 0.49617263674736023, 0.4969959557056427, 0.5019278526306152, 0.7300634980201721, 0.49488162994384766, 0.4980100095272064, 0.4954758286476135, 0.5007790327072144, 0.49453362822532654, 0.49710091948509216, 0.49752819538116455, 0.49788805842399597, 0.4996736943721771, 0.7284845113754272, 0.49954861402511597, 0.49749669432640076, 0.5270366072654724, 0.49305373430252075, 0.5948890447616577, 0.49565911293029785, 0.542681097984314, 0.4998001754283905, 0.4973110556602478, 0.5054561495780945, 0.500632107257843, 0.49844416975975037, 0.5000295639038086, 0.49388954043388367, 0.49771392345428467, 0.49871915578842163, 0.7223279476165771, 0.4970583915710449, 0.49386975169181824, 0.4947681427001953, 0.5003606677055359, 0.4986226558685303, 0.49496737122535706, 0.4972688853740692, 0.49949488043785095, 0.7267499566078186, 0.49556469917297363, 0.49959132075309753, 0.7123319506645203, 0.4956827163696289, 0.4987466335296631, 0.497406005859375, 0.5014136433601379, 0.4949476420879364, 0.49188295006752014, 0.501734733581543, 0.4978886842727661, 0.7262316942214966, 0.49939990043640137, 0.5146819949150085, 0.4972667694091797, 0.497158020734787, 0.4969736933708191, 0.6479761600494385, 0.5025752186775208, 0.497109055519104, 0.4968656003475189, 0.4945860207080841, 0.7293137311935425, 0.4957418143749237, 0.7259884476661682, 0.5003625750541687, 0.5513648390769958, 0.4979369342327118, 0.5544730424880981, 0.49573010206222534, 0.6383498907089233, 0.50057053565979, 0.5065814256668091, 0.7130122780799866, 0.49537238478660583, 0.4994049072265625, 0.49689051508903503, 0.5551016926765442, 0.4974592626094818, 0.49875107407569885, 0.7104789614677429, 0.5011338591575623, 0.4994606375694275, 0.7276978492736816, 0.5254892706871033, 0.6195234656333923, 0.497114896774292, 0.498667448759079, 0.4998275637626648, 0.4961267411708832, 0.4964818060398102, 0.6751472353935242, 0.49753883481025696, 0.4955129325389862, 0.4980703890323639, 0.5010230541229248, 0.49694013595581055, 0.4978836178779602, 0.4982655942440033, 0.49774181842803955, 0.5492839217185974, 0.724199652671814, 0.5042056441307068, 0.5214148163795471, 0.4972553253173828, 0.49725309014320374, 0.4990960657596588, 0.4961228668689728, 0.7254453897476196, 0.6023240089416504, 0.497077614068985, 0.5282514691352844, 0.49922123551368713, 0.5610866546630859, 0.49538910388946533, 0.5007458329200745, 0.535963237285614, 0.4929843544960022, 0.5312439203262329, 0.6977801322937012, 0.49791187047958374, 0.5442627668380737, 0.6497178077697754, 0.49776631593704224, 0.4980964660644531, 0.49798423051834106, 0.49813219904899597, 0.49733129143714905, 0.4952753186225891, 0.4974013566970825, 0.49684959650039673, 0.4975217580795288, 0.4971039891242981, 0.4997323453426361, 0.4939297139644623, 0.4949094355106354, 0.5017200708389282, 0.6066455841064453, 0.7275211215019226, 0.4970051646232605, 0.49931731820106506, 0.4992956221103668, 0.5017532706260681, 0.4990376830101013, 0.49885791540145874, 0.4982956647872925, 0.49901145696640015, 0.4967334568500519, 0.49967727065086365, 0.5020331144332886, 0.49353039264678955, 0.49655455350875854, 0.4930386543273926, 0.4958980679512024, 0.5005220174789429, 0.5369815826416016, 0.6862552762031555, 0.499210000038147, 0.49758291244506836, 0.497669517993927, 0.49920523166656494, 0.4966353476047516, 0.4983534514904022, 0.6351978182792664, 0.4981749653816223, 0.500235915184021, 0.5493162274360657, 0.7277381420135498, 0.7274916768074036, 0.7268128395080566, 0.6383430361747742, 0.7252954244613647, 0.7252709269523621, 0.5382678508758545, 0.7280070185661316, 0.7238843441009521, 0.7261014580726624, 0.7284124493598938, 0.7275810241699219, 0.503368079662323, 0.7256535291671753, 0.7273522615432739, 0.727181077003479, 0.5695697665214539, 0.7281705737113953, 0.5723571181297302, 0.7268303632736206, 0.7287522554397583, 0.7259531617164612, 0.7269045114517212, 0.7257565855979919, 0.7271702289581299, 0.7260025143623352, 0.49612754583358765, 0.7025158405303955, 0.7269927263259888, 0.7219082117080688, 0.5003021955490112, 0.6149260401725769, 0.7265905141830444, 0.7282083630561829, 0.7261948585510254, 0.7272565960884094, 0.7283958196640015, 0.49559086561203003, 0.6741340756416321, 0.7255149483680725, 0.7222079634666443, 0.726584792137146, 0.6096785068511963, 0.5353056788444519, 0.7238354682922363, 0.7278865575790405, 0.7269096970558167, 0.5203496813774109, 0.7260665893554688, 0.7259518504142761, 0.7278515696525574, 0.7267498970031738, 0.7277480959892273, 0.6605644226074219, 0.6204691529273987, 0.7245386242866516, 0.5007651448249817, 0.5014476180076599, 0.5460180044174194, 0.5050032734870911, 0.49611803889274597, 0.5966373682022095, 0.7270904183387756, 0.5008949041366577, 0.7263670563697815, 0.7168170809745789, 0.7268912196159363, 0.5650157332420349, 0.728052020072937, 0.5619032979011536, 0.5184932351112366, 0.5761339068412781, 0.7272703647613525, 0.7278621792793274, 0.7262541651725769, 0.7262001633644104, 0.7266772985458374, 0.7257685661315918, 0.5970718860626221, 0.7276459336280823, 0.6976465582847595, 0.7232759594917297, 0.7272423505783081, 0.7264435291290283, 0.7279224991798401, 0.7247270941734314, 0.516202986240387, 0.7268604636192322, 0.7274293303489685, 0.7274030447006226, 0.7273237109184265, 0.7261950373649597, 0.727653980255127, 0.7270848751068115, 0.7258621454238892, 0.536276638507843, 0.7269259691238403, 0.7279137969017029, 0.7271893620491028, 0.724646270275116, 0.7273656725883484, 0.7247677445411682, 0.7239019870758057, 0.7283311486244202, 0.6376879811286926, 0.7169414758682251, 0.7256516218185425, 0.7270835041999817, 0.7258522510528564, 0.4973093867301941, 0.7288517355918884, 0.7254109978675842, 0.7258979082107544, 0.726952314376831, 0.5082611441612244, 0.5677675008773804, 0.7279415726661682, 0.7267159223556519, 0.7273062467575073, 0.7270153760910034, 0.7261316776275635, 0.7291810512542725, 0.4963494837284088, 0.7272658944129944, 0.501308262348175, 0.72698974609375, 0.6032454967498779, 0.709685206413269, 0.7273387908935547, 0.72579425573349, 0.6723458766937256, 0.724111795425415, 0.7247691750526428, 0.7273242473602295, 0.7263168692588806, 0.7289816737174988, 0.49701988697052, 0.5604350566864014, 0.4985175132751465, 0.7275335788726807, 0.7277840375900269, 0.5474924445152283, 0.6568067073822021, 0.7262991666793823, 0.726613461971283, 0.7273229360580444, 0.7274250984191895, 0.7242059707641602, 0.7266529202461243, 0.5601024627685547, 0.6936809420585632, 0.4959237575531006, 0.7259057760238647, 0.7272157073020935, 0.7272605299949646, 0.7273687124252319, 0.7254078984260559, 0.7262049913406372, 0.7279579639434814, 0.7275450825691223, 0.7251148819923401, 0.726491391658783, 0.7265984416007996, 0.7267844080924988, 0.6179581880569458, 0.7133535742759705, 0.6774064898490906, 0.7243337631225586, 0.7274227738380432, 0.722869336605072, 0.7296609282493591, 0.7276161313056946, 0.7265514731407166, 0.7268854975700378, 0.7276828289031982, 0.7226759195327759, 0.7266278862953186, 0.7260307669639587, 0.7267739176750183, 0.4970409572124481, 0.7266576290130615, 0.7265191674232483, 0.7279332280158997, 0.7271380424499512, 0.7237674593925476, 0.6140989661216736, 0.725155770778656, 0.5000903010368347, 0.7254133224487305, 0.7271838784217834, 0.7258913516998291, 0.7267460227012634, 0.7270205616950989, 0.5696682929992676, 0.685653567314148, 0.5266844034194946, 0.6382849216461182, 0.7259026169776917, 0.6576070785522461, 0.6061813831329346, 0.7269436120986938, 0.7276507616043091, 0.5624037384986877, 0.5049524307250977, 0.7274176478385925, 0.7252968549728394, 0.6298084855079651, 0.7271873354911804, 0.7256044149398804, 0.5008807182312012, 0.6344357132911682, 0.7174606919288635, 0.7273182272911072, 0.725965678691864, 0.7264143228530884, 0.719469428062439, 0.7168749570846558, 0.724460780620575, 0.49281394481658936, 0.49920472502708435, 0.7257426977157593, 0.7275591492652893, 0.7279659509658813, 0.499508798122406, 0.7279228568077087, 0.6252292990684509, 0.7270464301109314, 0.7268297076225281, 0.7267098426818848, 0.7274599075317383, 0.7275844216346741, 0.7248675227165222, 0.7279408574104309, 0.7267008423805237, 0.72465980052948, 0.727402925491333, 0.7254509329795837, 0.7237387299537659, 0.7252984642982483, 0.7260825037956238, 0.7279665470123291, 0.7271350622177124, 0.7256641387939453, 0.7266139388084412, 0.7278065085411072, 0.7252911925315857, 0.7270798087120056, 0.7250585556030273, 0.6215575337409973, 0.6875736713409424, 0.7260358929634094, 0.7262519001960754, 0.7278003692626953, 0.6672995686531067, 0.49828270077705383, 0.6757356524467468, 0.711798369884491, 0.7283968925476074, 0.726441502571106, 0.7272499203681946, 0.4965798854827881, 0.7286902070045471, 0.7280718684196472, 0.603440523147583, 0.49969810247421265, 0.7202205657958984, 0.7267012000083923, 0.49978479743003845, 0.7257076501846313, 0.5022541880607605, 0.7277994751930237, 0.6265339851379395, 0.529433012008667, 0.7267191410064697, 0.7254537343978882, 0.731337308883667, 0.5399534702301025, 0.722672164440155, 0.7204787135124207, 0.7248963117599487, 0.7255196571350098, 0.7225401401519775, 0.7160142660140991, 0.7283943295478821, 0.7275856137275696, 0.49568477272987366, 0.5913185477256775, 0.5205154418945312, 0.6522336602210999, 0.7287316918373108, 0.5099652409553528, 0.7290684580802917, 0.6451019644737244, 0.7258918285369873, 0.7219361662864685, 0.7268787622451782, 0.7272711992263794, 0.7281081676483154, 0.49552372097969055, 0.4964298605918884, 0.7279506921768188, 0.5558866262435913, 0.4967568516731262, 0.7126477360725403, 0.7277988791465759, 0.6595707535743713, 0.7289783954620361, 0.7242050170898438, 0.4966435730457306, 0.4997509717941284, 0.7078197002410889, 0.7279363870620728, 0.5744743943214417, 0.7255070805549622, 0.7249386310577393, 0.49463534355163574, 0.6773266196250916, 0.7263027429580688, 0.49710091948509216, 0.49700289964675903, 0.7281369566917419, 0.5011865496635437, 0.7296915650367737, 0.49837878346443176, 0.7273069024085999, 0.7263103723526001, 0.727337658405304, 0.7263867855072021, 0.6010053753852844, 0.4936136305332184, 0.685705304145813, 0.49117806553840637, 0.7277163863182068, 0.6436247229576111, 0.7274960279464722, 0.726894199848175, 0.7312356233596802, 0.6006711721420288, 0.4967559278011322, 0.7260714173316956, 0.6381455063819885, 0.7223361134529114, 0.6599715352058411, 0.5389139652252197, 0.7233917713165283, 0.7265183329582214, 0.7282710075378418, 0.7322552800178528, 0.7273741364479065, 0.727556049823761, 0.7291022539138794, 0.7048670649528503, 0.7073091864585876, 0.7277344465255737, 0.7123610377311707, 0.6161338686943054, 0.6417822241783142, 0.7242610454559326, 0.5874025821685791, 0.7342849373817444, 0.6527905464172363, 0.726180374622345, 0.4997781217098236, 0.676678478717804, 0.7279804944992065, 0.7268234491348267, 0.5552757978439331, 0.7277938723564148, 0.7273972034454346, 0.7262199521064758, 0.7263319492340088, 0.49875059723854065, 0.4936434328556061, 0.6213467121124268, 0.647127628326416, 0.7299334406852722, 0.6269146203994751, 0.6375730037689209, 0.7203769087791443, 0.498811811208725, 0.5711159110069275, 0.7277337312698364, 0.50421142578125, 0.7252345085144043, 0.7269941568374634, 0.6832842230796814, 0.49784237146377563, 0.4969232976436615, 0.6504894495010376, 0.727051854133606, 0.6273887753486633, 0.7265135049819946, 0.7282399535179138, 0.6553231477737427, 0.4957898259162903, 0.7223461866378784, 0.5382027626037598, 0.7257308959960938, 0.7245292067527771, 0.7270131707191467, 0.49472057819366455, 0.5014806985855103, 0.7268038988113403, 0.6410360932350159, 0.6584064364433289, 0.7273504137992859, 0.6230688691139221, 0.6262848377227783, 0.7264847159385681, 0.7267143726348877, 0.72636479139328, 0.5747368931770325, 0.5917944312095642, 0.7267014384269714, 0.5933889746665955, 0.6134459376335144, 0.7264105677604675, 0.6899406313896179, 0.7271599173545837, 0.7264037728309631, 0.6933870315551758, 0.7266272902488708, 0.7287906408309937, 0.7150440216064453, 0.7259138822555542, 0.5108579993247986, 0.5727691650390625, 0.4978930652141571, 0.49692919850349426, 0.6922044157981873, 0.7270069122314453, 0.7274622321128845, 0.7268072366714478, 0.7305065989494324, 0.7270052433013916, 0.6026288866996765, 0.4943481683731079, 0.7263908982276917, 0.6900626420974731, 0.7249488830566406, 0.727817177772522, 0.7285076379776001, 0.7260435223579407, 0.6663941144943237, 0.728230357170105, 0.6930403709411621, 0.7260279059410095, 0.7259979844093323, 0.7274090051651001, 0.7275799512863159, 0.6804385185241699, 0.536078929901123, 0.49589478969573975, 0.5277336239814758, 0.729435384273529, 0.7269165515899658, 0.6775457262992859, 0.7295548915863037, 0.5966137051582336, 0.7272746562957764, 0.649459958076477, 0.5961313843727112, 0.7254359126091003, 0.7261229753494263, 0.49892672896385193, 0.5355666875839233, 0.618376612663269, 0.7283710837364197, 0.4973309338092804, 0.7253699898719788, 0.7276895642280579, 0.6757434606552124, 0.728030800819397, 0.4986969232559204, 0.5004233121871948, 0.5702717304229736, 0.7246693968772888, 0.7288777828216553, 0.7267249226570129, 0.5907284021377563, 0.5034701824188232, 0.649926483631134, 0.5042800307273865, 0.4950870871543884, 0.727515697479248, 0.4961400032043457, 0.7277324795722961, 0.5017944574356079, 0.706184446811676, 0.7287937998771667, 0.6069429516792297, 0.5332071781158447, 0.49880772829055786, 0.7276970148086548, 0.7271869778633118, 0.7316393256187439, 0.49940335750579834, 0.5647616982460022, 0.724949300289154, 0.7262657284736633, 0.7138113975524902, 0.7290670871734619, 0.5109074711799622, 0.5083759427070618, 0.7276298403739929, 0.5027386546134949, 0.5007270574569702, 0.7248305678367615, 0.7248630523681641, 0.5892461538314819, 0.49832263588905334, 0.518094539642334, 0.7281522154808044, 0.6899842023849487, 0.7297822833061218, 0.5016863942146301, 0.7223778963088989, 0.7283564805984497, 0.7271441221237183, 0.7241285443305969, 0.7264713048934937, 0.5553821921348572, 0.707180917263031, 0.5784293413162231, 0.7274242043495178, 0.7328724265098572, 0.49947571754455566, 0.7271114587783813, 0.7272538542747498, 0.6757988333702087, 0.49860355257987976, 0.49717026948928833, 0.7273420691490173, 0.5037519335746765, 0.6772684454917908, 0.7280837297439575, 0.5003365874290466, 0.5577399730682373, 0.666795015335083, 0.7281308174133301, 0.5403038263320923, 0.7205795645713806, 0.6060339212417603, 0.5121620297431946, 0.7253803014755249, 0.4978305399417877, 0.7249404191970825, 0.7265894412994385, 0.6493027210235596, 0.735537052154541, 0.5543144941329956, 0.668093740940094, 0.7276337146759033, 0.5013111233711243, 0.729633092880249, 0.7291285991668701, 0.7214502692222595, 0.7275440096855164, 0.5017800331115723, 0.49985137581825256, 0.4939582347869873, 0.6852752566337585, 0.6817909479141235, 0.7257664203643799, 0.7261966466903687, 0.6250198483467102, 0.4953750669956207, 0.6395383477210999, 0.5030037760734558, 0.7164743542671204, 0.49594321846961975, 0.6709703207015991, 0.4987548589706421, 0.5776422619819641, 0.7083691358566284, 0.726601779460907, 0.7270882725715637, 0.4966476857662201, 0.728172242641449, 0.5625166893005371, 0.6580256223678589, 0.727526843547821, 0.6467121839523315, 0.7277592420578003, 0.7259961366653442, 0.7156587243080139, 0.49363255500793457, 0.5019922256469727, 0.6803394556045532, 0.724938690662384, 0.710456907749176, 0.6881176829338074, 0.7275062799453735, 0.7281160950660706, 0.5371116399765015, 0.4954741895198822, 0.7278302907943726, 0.7255101799964905, 0.5233961343765259, 0.7287049293518066, 0.50139981508255, 0.6580624580383301, 0.7271697521209717, 0.5136432647705078, 0.7268047332763672, 0.7272188067436218, 0.6059883832931519, 0.7328824996948242, 0.496512234210968, 0.49860167503356934, 0.49967244267463684, 0.528993546962738, 0.7242350578308105, 0.7253547310829163, 0.5132153034210205, 0.5005185604095459, 0.7286643981933594, 0.7278637886047363, 0.5151170492172241, 0.7263787984848022, 0.7049350738525391, 0.4985734522342682, 0.6037569642066956, 0.7277020215988159, 0.7249218225479126, 0.5855960845947266, 0.4952607750892639, 0.5007579326629639, 0.7266926765441895, 0.7272680997848511, 0.5029186606407166, 0.7298286557197571, 0.7276844382286072, 0.5499116778373718, 0.7257891297340393, 0.7317895889282227, 0.5018496513366699, 0.7146273255348206, 0.7255219221115112, 0.4993390142917633, 0.7291999459266663, 0.503544270992279, 0.5616182684898376, 0.5030437707901001, 0.7292839288711548, 0.5013076066970825, 0.4978307783603668, 0.49595507979393005, 0.731647253036499, 0.7223747968673706, 0.7175421714782715, 0.49749910831451416, 0.7065072059631348, 0.7204965949058533, 0.72750324010849, 0.7298873066902161, 0.5596048831939697, 0.585688054561615, 0.5006971955299377, 0.711042582988739, 0.7262508273124695, 0.7262195348739624, 0.7271831035614014, 0.4974682331085205, 0.7286712527275085, 0.5829125046730042, 0.7265600562095642, 0.7282965183258057, 0.7264689207077026, 0.6940559148788452, 0.7280121445655823, 0.7273667454719543, 0.6704543232917786, 0.6316128373146057, 0.7286407947540283, 0.5158004760742188, 0.7271013259887695, 0.5019350051879883, 0.7374880909919739, 0.7262786030769348, 0.7283936142921448, 0.5682206749916077, 0.4977017045021057, 0.7286770343780518, 0.5043391585350037, 0.5110698938369751, 0.6680337190628052, 0.6021841168403625, 0.6018942594528198, 0.5458245873451233, 0.7262621521949768, 0.5590134263038635, 0.6932972073554993, 0.7006814479827881, 0.4998646080493927, 0.7265745401382446, 0.7269976735115051, 0.7279179096221924, 0.49601590633392334, 0.5010466575622559, 0.7290596961975098, 0.5086275935173035, 0.5732412338256836, 0.7260376214981079, 0.7266893982887268, 0.5088696479797363, 0.7275870442390442, 0.7270527482032776, 0.5022715330123901, 0.6209490895271301, 0.7275396585464478, 0.7274019122123718, 0.5025214552879333, 0.49715766310691833, 0.7269653677940369, 0.495243102312088, 0.7264081239700317, 0.6713557243347168, 0.5104222297668457, 0.6513419151306152, 0.7256909012794495, 0.4949943721294403, 0.7329208850860596, 0.7290464043617249, 0.4984370470046997, 0.5001963376998901, 0.6883941888809204, 0.7256575226783752, 0.6886178851127625, 0.7264193296432495, 0.7272614240646362, 0.7262261509895325, 0.4991004467010498, 0.5157883763313293, 0.4967867434024811, 0.7274057865142822, 0.7284731864929199, 0.6854926943778992, 0.7271509766578674, 0.7284551858901978, 0.7318121790885925, 0.4984769821166992, 0.7097198963165283, 0.7269064784049988, 0.6741302013397217, 0.5610985159873962, 0.7260288000106812, 0.6662589311599731, 0.6018571257591248, 0.5200938582420349, 0.7012621164321899, 0.7275141477584839, 0.7264754176139832, 0.6624898314476013, 0.49454671144485474, 0.727242648601532, 0.6522886753082275, 0.49741584062576294, 0.6219043731689453, 0.7290286421775818, 0.6619541049003601, 0.4990248680114746, 0.7278903126716614, 0.5373260378837585, 0.7265977263450623, 0.7275934219360352, 0.7205654382705688, 0.7247456312179565, 0.6994855999946594, 0.5008659958839417, 0.5019710659980774, 0.4984372854232788, 0.7260807752609253, 0.7089551091194153, 0.6626557111740112, 0.49995195865631104, 0.54157555103302, 0.726511538028717, 0.6341651678085327, 0.5987346172332764, 0.4969814717769623, 0.4976438879966736, 0.7268816828727722, 0.7265017628669739, 0.7265552878379822, 0.5785250067710876, 0.6714407801628113, 0.672039270401001, 0.49999332427978516, 0.7263748645782471, 0.7270860075950623, 0.5163834095001221, 0.6830759048461914, 0.7189279794692993, 0.7293875813484192, 0.7127786874771118, 0.7299278974533081, 0.6184717416763306, 0.6474161148071289, 0.7274631261825562, 0.6888672709465027, 0.5944585800170898, 0.7270170450210571, 0.7217839956283569, 0.4982176423072815, 0.7249490022659302, 0.49604329466819763, 0.7271965146064758, 0.6412194967269897, 0.7286116480827332, 0.6715836524963379, 0.5012347102165222, 0.5010556578636169, 0.6592263579368591, 0.5438905954360962, 0.7266749739646912, 0.511101484298706, 0.6411436200141907, 0.5014780759811401, 0.596526563167572, 0.6289373636245728, 0.4972817599773407, 0.6382286548614502, 0.7289727926254272, 0.5102904438972473, 0.5072728991508484, 0.7270575761795044, 0.7266595959663391, 0.7272089719772339, 0.7265321016311646, 0.49954503774642944, 0.5426664352416992, 0.7273540496826172, 0.5613628029823303, 0.6206950545310974, 0.656169056892395, 0.7276018857955933, 0.49753740429878235, 0.49900680780410767, 0.6973090767860413, 0.5297370553016663, 0.7257934212684631, 0.7263871431350708, 0.7268120050430298, 0.7156397104263306, 0.5919491052627563, 0.5197407603263855, 0.6209461688995361, 0.7286008596420288, 0.5073795914649963, 0.5012521147727966, 0.7242221832275391, 0.49736419320106506, 0.6734141111373901, 0.7270150780677795, 0.5006991028785706, 0.7285290360450745, 0.7285140752792358, 0.4955756962299347, 0.49801868200302124, 0.58248370885849, 0.7267544865608215, 0.5010521411895752, 0.5656707882881165, 0.4973853528499603, 0.7274580001831055, 0.4970860779285431, 0.7281864881515503, 0.7248437404632568, 0.49793100357055664, 0.5069223642349243, 0.4940267503261566, 0.5444514751434326, 0.5098026394844055, 0.6219425797462463, 0.7116053700447083, 0.7293393015861511, 0.7042569518089294, 0.5119210481643677, 0.7293841242790222, 0.7260647416114807, 0.5532501339912415, 0.727258563041687, 0.7289252281188965, 0.7263839840888977, 0.7280842661857605, 0.6659432053565979, 0.722856879234314, 0.7285074591636658, 0.5021750926971436, 0.7288167476654053, 0.6829109191894531, 0.7262852787971497, 0.7220957279205322, 0.49782535433769226, 0.4954501986503601, 0.7117276191711426, 0.7265515327453613, 0.49554067850112915, 0.7302941083908081, 0.7277044653892517, 0.6273190379142761, 0.5879212021827698, 0.4986247718334198, 0.5638927221298218, 0.7283732891082764, 0.7289619445800781, 0.4949314594268799, 0.722619891166687, 0.5277608036994934, 0.7268706560134888, 0.4979628920555115, 0.49695146083831787, 0.726793646812439, 0.7264441251754761, 0.5237938165664673, 0.7279532551765442, 0.660124659538269, 0.726855993270874, 0.49786612391471863, 0.49832573533058167, 0.7163678407669067, 0.7266502380371094, 0.5029726028442383, 0.6909343004226685, 0.49823978543281555, 0.5260544419288635, 0.5326370000839233, 0.7271774411201477, 0.4978792369365692, 0.7274464964866638, 0.7257200479507446, 0.530752420425415, 0.4954166114330292, 0.4996446371078491, 0.7295045256614685, 0.7262724041938782, 0.6972096562385559, 0.6740297079086304, 0.6861078143119812, 0.7258012294769287, 0.6876304149627686, 0.7280046343803406, 0.49930834770202637, 0.7267975211143494, 0.504079282283783, 0.6248592138290405, 0.724932074546814, 0.727277934551239, 0.7272673845291138, 0.5042790174484253, 0.7281818389892578, 0.4956127107143402, 0.5580313801765442, 0.7259208559989929, 0.7315776944160461, 0.7233863472938538, 0.7268515825271606, 0.7109491229057312, 0.4919457733631134, 0.5031450390815735, 0.7269809246063232, 0.501223623752594, 0.727065920829773, 0.7274206280708313, 0.7190462350845337, 0.7278405427932739, 0.7150312662124634, 0.6685528755187988, 0.511965274810791, 0.6748554110527039, 0.6372891664505005, 0.6717427372932434, 0.5008817911148071, 0.7286587357521057, 0.6123947501182556, 0.7281497716903687, 0.729853093624115, 0.729131817817688, 0.7277833223342896, 0.7302669286727905, 0.7278735041618347, 0.4924694299697876, 0.6733059287071228, 0.4968300759792328, 0.506190836429596, 0.6648010015487671, 0.7294572591781616, 0.7315962314605713, 0.5840837359428406, 0.7242295145988464, 0.6333000659942627, 0.5009861588478088, 0.7262294292449951, 0.693299412727356, 0.4989570677280426, 0.5805245637893677, 0.7253779768943787, 0.4942554235458374]\n"
     ]
    }
   ],
   "source": [
    "cnn_text_prediction_output = cnn_text_classifier.predict(X)\n",
    "print(cnn_text_prediction_output)"
   ]
  },
  {
   "cell_type": "code",
   "execution_count": null,
   "metadata": {
    "colab": {
     "base_uri": "https://localhost:8080/"
    },
    "id": "Lokml55Dz98h",
    "outputId": "c0921991-b745-47a9-b308-fdbff9a80f8c"
   },
   "outputs": [
    {
     "name": "stdout",
     "output_type": "stream",
     "text": [
      "CNN Text Classifier\n",
      "Accuracy: 0.787\n",
      "F1: 0.7664473684210527\n",
      "ROC_AUC: 0.7961742949607027\n",
      "              precision    recall  f1-score   support\n",
      "\n",
      "       Human       0.88      0.74      0.80      1176\n",
      "     ChatGPT       0.70      0.85      0.77       824\n",
      "\n",
      "    accuracy                           0.79      2000\n",
      "   macro avg       0.79      0.80      0.79      2000\n",
      "weighted avg       0.80      0.79      0.79      2000\n",
      "\n"
     ]
    }
   ],
   "source": [
    "print(\"CNN Text Classifier\")\n",
    "evaluate(cnn_text_prediction_output, y, 0.6)"
   ]
  },
  {
   "cell_type": "code",
   "execution_count": null,
   "metadata": {
    "colab": {
     "base_uri": "https://localhost:8080/",
     "height": 144
    },
    "id": "Z5CHMQmXnflt",
    "outputId": "f35d7e3a-ae3f-4fd5-8012-badb0539750c"
   },
   "outputs": [
    {
     "data": {
      "text/html": [
       "\n",
       "  <div id=\"df-353f621a-df6c-416b-a226-02c660e78887\">\n",
       "    <div class=\"colab-df-container\">\n",
       "      <div>\n",
       "<style scoped>\n",
       "    .dataframe tbody tr th:only-of-type {\n",
       "        vertical-align: middle;\n",
       "    }\n",
       "\n",
       "    .dataframe tbody tr th {\n",
       "        vertical-align: top;\n",
       "    }\n",
       "\n",
       "    .dataframe thead th {\n",
       "        text-align: right;\n",
       "    }\n",
       "</style>\n",
       "<table border=\"1\" class=\"dataframe\">\n",
       "  <thead>\n",
       "    <tr style=\"text-align: right;\">\n",
       "      <th></th>\n",
       "      <th>response</th>\n",
       "      <th>Label</th>\n",
       "      <th>GLTR Category 1</th>\n",
       "      <th>GLTR Category 3</th>\n",
       "      <th>Mean Perplexity</th>\n",
       "      <th>sum_mistakes</th>\n",
       "      <th>TextBlob_Subjectivity</th>\n",
       "      <th>Formality Score</th>\n",
       "      <th>RNNPerplexityClassifier_Predictions</th>\n",
       "      <th>CNNPerplexityClassifier_Predictions</th>\n",
       "      <th>CNNGLTRClassifer_Predictions</th>\n",
       "      <th>CNNTextClassifier_Predictions</th>\n",
       "    </tr>\n",
       "  </thead>\n",
       "  <tbody>\n",
       "    <tr>\n",
       "      <th>0</th>\n",
       "      <td>Hyperinflation comes almost always because of ...</td>\n",
       "      <td>0</td>\n",
       "      <td>0.605442</td>\n",
       "      <td>0.112245</td>\n",
       "      <td>0.034284</td>\n",
       "      <td>0.058824</td>\n",
       "      <td>0.417597</td>\n",
       "      <td>0.671505</td>\n",
       "      <td>0.516926</td>\n",
       "      <td>0.501410</td>\n",
       "      <td>0.498863</td>\n",
       "      <td>0.648621</td>\n",
       "    </tr>\n",
       "    <tr>\n",
       "      <th>1</th>\n",
       "      <td>scientists tested whether or not coffee ground...</td>\n",
       "      <td>0</td>\n",
       "      <td>0.679012</td>\n",
       "      <td>0.074074</td>\n",
       "      <td>0.023811</td>\n",
       "      <td>0.078431</td>\n",
       "      <td>0.484375</td>\n",
       "      <td>0.724650</td>\n",
       "      <td>0.525457</td>\n",
       "      <td>0.498909</td>\n",
       "      <td>0.695503</td>\n",
       "      <td>0.498455</td>\n",
       "    </tr>\n",
       "    <tr>\n",
       "      <th>2</th>\n",
       "      <td>Because its your body's natural reflex to retu...</td>\n",
       "      <td>0</td>\n",
       "      <td>0.589041</td>\n",
       "      <td>0.136986</td>\n",
       "      <td>0.017898</td>\n",
       "      <td>0.098039</td>\n",
       "      <td>0.425000</td>\n",
       "      <td>0.523077</td>\n",
       "      <td>0.535882</td>\n",
       "      <td>0.628405</td>\n",
       "      <td>0.699814</td>\n",
       "      <td>0.593551</td>\n",
       "    </tr>\n",
       "  </tbody>\n",
       "</table>\n",
       "</div>\n",
       "      <button class=\"colab-df-convert\" onclick=\"convertToInteractive('df-353f621a-df6c-416b-a226-02c660e78887')\"\n",
       "              title=\"Convert this dataframe to an interactive table.\"\n",
       "              style=\"display:none;\">\n",
       "        \n",
       "  <svg xmlns=\"http://www.w3.org/2000/svg\" height=\"24px\"viewBox=\"0 0 24 24\"\n",
       "       width=\"24px\">\n",
       "    <path d=\"M0 0h24v24H0V0z\" fill=\"none\"/>\n",
       "    <path d=\"M18.56 5.44l.94 2.06.94-2.06 2.06-.94-2.06-.94-.94-2.06-.94 2.06-2.06.94zm-11 1L8.5 8.5l.94-2.06 2.06-.94-2.06-.94L8.5 2.5l-.94 2.06-2.06.94zm10 10l.94 2.06.94-2.06 2.06-.94-2.06-.94-.94-2.06-.94 2.06-2.06.94z\"/><path d=\"M17.41 7.96l-1.37-1.37c-.4-.4-.92-.59-1.43-.59-.52 0-1.04.2-1.43.59L10.3 9.45l-7.72 7.72c-.78.78-.78 2.05 0 2.83L4 21.41c.39.39.9.59 1.41.59.51 0 1.02-.2 1.41-.59l7.78-7.78 2.81-2.81c.8-.78.8-2.07 0-2.86zM5.41 20L4 18.59l7.72-7.72 1.47 1.35L5.41 20z\"/>\n",
       "  </svg>\n",
       "      </button>\n",
       "      \n",
       "  <style>\n",
       "    .colab-df-container {\n",
       "      display:flex;\n",
       "      flex-wrap:wrap;\n",
       "      gap: 12px;\n",
       "    }\n",
       "\n",
       "    .colab-df-convert {\n",
       "      background-color: #E8F0FE;\n",
       "      border: none;\n",
       "      border-radius: 50%;\n",
       "      cursor: pointer;\n",
       "      display: none;\n",
       "      fill: #1967D2;\n",
       "      height: 32px;\n",
       "      padding: 0 0 0 0;\n",
       "      width: 32px;\n",
       "    }\n",
       "\n",
       "    .colab-df-convert:hover {\n",
       "      background-color: #E2EBFA;\n",
       "      box-shadow: 0px 1px 2px rgba(60, 64, 67, 0.3), 0px 1px 3px 1px rgba(60, 64, 67, 0.15);\n",
       "      fill: #174EA6;\n",
       "    }\n",
       "\n",
       "    [theme=dark] .colab-df-convert {\n",
       "      background-color: #3B4455;\n",
       "      fill: #D2E3FC;\n",
       "    }\n",
       "\n",
       "    [theme=dark] .colab-df-convert:hover {\n",
       "      background-color: #434B5C;\n",
       "      box-shadow: 0px 1px 3px 1px rgba(0, 0, 0, 0.15);\n",
       "      filter: drop-shadow(0px 1px 2px rgba(0, 0, 0, 0.3));\n",
       "      fill: #FFFFFF;\n",
       "    }\n",
       "  </style>\n",
       "\n",
       "      <script>\n",
       "        const buttonEl =\n",
       "          document.querySelector('#df-353f621a-df6c-416b-a226-02c660e78887 button.colab-df-convert');\n",
       "        buttonEl.style.display =\n",
       "          google.colab.kernel.accessAllowed ? 'block' : 'none';\n",
       "\n",
       "        async function convertToInteractive(key) {\n",
       "          const element = document.querySelector('#df-353f621a-df6c-416b-a226-02c660e78887');\n",
       "          const dataTable =\n",
       "            await google.colab.kernel.invokeFunction('convertToInteractive',\n",
       "                                                     [key], {});\n",
       "          if (!dataTable) return;\n",
       "\n",
       "          const docLinkHtml = 'Like what you see? Visit the ' +\n",
       "            '<a target=\"_blank\" href=https://colab.research.google.com/notebooks/data_table.ipynb>data table notebook</a>'\n",
       "            + ' to learn more about interactive tables.';\n",
       "          element.innerHTML = '';\n",
       "          dataTable['output_type'] = 'display_data';\n",
       "          await google.colab.output.renderOutput(dataTable, element);\n",
       "          const docLink = document.createElement('div');\n",
       "          docLink.innerHTML = docLinkHtml;\n",
       "          element.appendChild(docLink);\n",
       "        }\n",
       "      </script>\n",
       "    </div>\n",
       "  </div>\n",
       "  "
      ],
      "text/plain": [
       "                                            response  Label  GLTR Category 1  \\\n",
       "0  Hyperinflation comes almost always because of ...      0         0.605442   \n",
       "1  scientists tested whether or not coffee ground...      0         0.679012   \n",
       "2  Because its your body's natural reflex to retu...      0         0.589041   \n",
       "\n",
       "   GLTR Category 3  Mean Perplexity  sum_mistakes  TextBlob_Subjectivity  \\\n",
       "0         0.112245         0.034284      0.058824               0.417597   \n",
       "1         0.074074         0.023811      0.078431               0.484375   \n",
       "2         0.136986         0.017898      0.098039               0.425000   \n",
       "\n",
       "   Formality Score  RNNPerplexityClassifier_Predictions  \\\n",
       "0         0.671505                             0.516926   \n",
       "1         0.724650                             0.525457   \n",
       "2         0.523077                             0.535882   \n",
       "\n",
       "   CNNPerplexityClassifier_Predictions  CNNGLTRClassifer_Predictions  \\\n",
       "0                             0.501410                      0.498863   \n",
       "1                             0.498909                      0.695503   \n",
       "2                             0.628405                      0.699814   \n",
       "\n",
       "   CNNTextClassifier_Predictions  \n",
       "0                       0.648621  \n",
       "1                       0.498455  \n",
       "2                       0.593551  "
      ]
     },
     "execution_count": 24,
     "metadata": {},
     "output_type": "execute_result"
    }
   ],
   "source": [
    "df_with_preds = df.copy()\n",
    "df_with_preds[\"RNNPerplexityClassifier_Predictions\"] = rnn_prediction_output\n",
    "df_with_preds[\"CNNPerplexityClassifier_Predictions\"] = cnn_perplexity_prediction_output\n",
    "df_with_preds[\"CNNGLTRClassifer_Predictions\"] = cnn_gltr_prediction_output\n",
    "df_with_preds[\"CNNTextClassifier_Predictions\"] = cnn_text_prediction_output\n",
    "df_with_preds.head(3)"
   ]
  },
  {
   "cell_type": "code",
   "execution_count": null,
   "metadata": {
    "id": "PiTEutg_o8TR"
   },
   "outputs": [],
   "source": [
    "df.to_csv(\"holdout_with_features_normalised.csv\", index=False)"
   ]
  },
  {
   "cell_type": "code",
   "execution_count": null,
   "metadata": {
    "id": "GfPmdqmnoFSq"
   },
   "outputs": [],
   "source": [
    "df_with_preds.to_csv(\"holdout_output_keras_models.csv\",index=False)"
   ]
  },
  {
   "cell_type": "markdown",
   "metadata": {},
   "source": [
    "# Make sure can work in Ensemble"
   ]
  },
  {
   "cell_type": "code",
   "execution_count": null,
   "metadata": {
    "id": "8xeKoKQoJa58"
   },
   "outputs": [],
   "source": [
    "models = [rnn_perplexity_classifier,cnn_perplexity_classifier,cnn_gltr_classifier,cnn_text_classifier]\n",
    "ensemble = Ensemble(models)"
   ]
  }
 ],
 "metadata": {
  "accelerator": "GPU",
  "colab": {
   "collapsed_sections": [
    "ipYVd9hBHbIS",
    "ZbBZ-toJDimC",
    "NsnZICDHKMZd",
    "LHrj9-afZdvv",
    "8bosn7PUygQV",
    "HBQj35wnJcus",
    "aRdS5mZ_JXEv",
    "8Tdk3q8PtBYT",
    "k6tScBNsG23x"
   ],
   "provenance": []
  },
  "gpuClass": "standard",
  "kernelspec": {
   "display_name": "Python 3",
   "language": "python",
   "name": "python3"
  },
  "language_info": {
   "codemirror_mode": {
    "name": "ipython",
    "version": 3
   },
   "file_extension": ".py",
   "mimetype": "text/x-python",
   "name": "python",
   "nbconvert_exporter": "python",
   "pygments_lexer": "ipython3",
   "version": "3.8.8"
  }
 },
 "nbformat": 4,
 "nbformat_minor": 1
}
